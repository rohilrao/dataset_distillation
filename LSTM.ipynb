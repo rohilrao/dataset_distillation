{
 "cells": [
  {
   "cell_type": "code",
   "execution_count": 3,
   "id": "525cb2cc-bcf8-426d-b2fb-cabc250fc227",
   "metadata": {},
   "outputs": [
    {
     "name": "stderr",
     "output_type": "stream",
     "text": [
      "[nltk_data] Downloading package punkt to /home/IAIS/rrao/nltk_data...\n",
      "[nltk_data]   Package punkt is already up-to-date!\n",
      "Epoch 1/15: 100%|██████████████████████████████████████████████████████████████████████████████████████████████████████████████████████| 750/750 [00:51<00:00, 14.45batch/s]\n",
      "Epoch 1/15: 100%|██████████████████████████████████████████████████████████████████████████████████████████████████████████████████████| 188/188 [00:05<00:00, 37.56batch/s]\n"
     ]
    },
    {
     "name": "stdout",
     "output_type": "stream",
     "text": [
      "Epoch 1/15, Validation Accuracy: 0.2480\n"
     ]
    },
    {
     "name": "stderr",
     "output_type": "stream",
     "text": [
      "Epoch 2/15: 100%|██████████████████████████████████████████████████████████████████████████████████████████████████████████████████████| 750/750 [00:52<00:00, 14.21batch/s]\n",
      "Epoch 2/15: 100%|██████████████████████████████████████████████████████████████████████████████████████████████████████████████████████| 188/188 [00:05<00:00, 36.66batch/s]\n"
     ]
    },
    {
     "name": "stdout",
     "output_type": "stream",
     "text": [
      "Epoch 2/15, Validation Accuracy: 0.2480\n"
     ]
    },
    {
     "name": "stderr",
     "output_type": "stream",
     "text": [
      "Epoch 3/15: 100%|██████████████████████████████████████████████████████████████████████████████████████████████████████████████████████| 750/750 [00:55<00:00, 13.56batch/s]\n",
      "Epoch 3/15: 100%|██████████████████████████████████████████████████████████████████████████████████████████████████████████████████████| 188/188 [00:05<00:00, 35.10batch/s]\n"
     ]
    },
    {
     "name": "stdout",
     "output_type": "stream",
     "text": [
      "Epoch 3/15, Validation Accuracy: 0.2500\n"
     ]
    },
    {
     "name": "stderr",
     "output_type": "stream",
     "text": [
      "Epoch 4/15: 100%|██████████████████████████████████████████████████████████████████████████████████████████████████████████████████████| 750/750 [00:56<00:00, 13.30batch/s]\n",
      "Epoch 4/15: 100%|██████████████████████████████████████████████████████████████████████████████████████████████████████████████████████| 188/188 [00:05<00:00, 34.57batch/s]\n"
     ]
    },
    {
     "name": "stdout",
     "output_type": "stream",
     "text": [
      "Epoch 4/15, Validation Accuracy: 0.2504\n"
     ]
    },
    {
     "name": "stderr",
     "output_type": "stream",
     "text": [
      "Epoch 5/15: 100%|██████████████████████████████████████████████████████████████████████████████████████████████████████████████████████| 750/750 [00:56<00:00, 13.21batch/s]\n",
      "Epoch 5/15: 100%|██████████████████████████████████████████████████████████████████████████████████████████████████████████████████████| 188/188 [00:05<00:00, 33.90batch/s]\n"
     ]
    },
    {
     "name": "stdout",
     "output_type": "stream",
     "text": [
      "Epoch 5/15, Validation Accuracy: 0.2504\n"
     ]
    },
    {
     "name": "stderr",
     "output_type": "stream",
     "text": [
      "Epoch 6/15: 100%|██████████████████████████████████████████████████████████████████████████████████████████████████████████████████████| 750/750 [00:56<00:00, 13.39batch/s]\n",
      "Epoch 6/15: 100%|██████████████████████████████████████████████████████████████████████████████████████████████████████████████████████| 188/188 [00:05<00:00, 35.67batch/s]\n"
     ]
    },
    {
     "name": "stdout",
     "output_type": "stream",
     "text": [
      "Epoch 6/15, Validation Accuracy: 0.2504\n"
     ]
    },
    {
     "name": "stderr",
     "output_type": "stream",
     "text": [
      "Epoch 7/15: 100%|██████████████████████████████████████████████████████████████████████████████████████████████████████████████████████| 750/750 [00:55<00:00, 13.39batch/s]\n",
      "Epoch 7/15: 100%|██████████████████████████████████████████████████████████████████████████████████████████████████████████████████████| 188/188 [00:05<00:00, 35.48batch/s]\n"
     ]
    },
    {
     "name": "stdout",
     "output_type": "stream",
     "text": [
      "Epoch 7/15, Validation Accuracy: 0.2504\n"
     ]
    },
    {
     "name": "stderr",
     "output_type": "stream",
     "text": [
      "Epoch 8/15: 100%|██████████████████████████████████████████████████████████████████████████████████████████████████████████████████████| 750/750 [00:56<00:00, 13.29batch/s]\n",
      "Epoch 8/15: 100%|██████████████████████████████████████████████████████████████████████████████████████████████████████████████████████| 188/188 [00:05<00:00, 34.23batch/s]\n"
     ]
    },
    {
     "name": "stdout",
     "output_type": "stream",
     "text": [
      "Epoch 8/15, Validation Accuracy: 0.2503\n"
     ]
    },
    {
     "name": "stderr",
     "output_type": "stream",
     "text": [
      "Epoch 9/15: 100%|██████████████████████████████████████████████████████████████████████████████████████████████████████████████████████| 750/750 [00:56<00:00, 13.27batch/s]\n",
      "Epoch 9/15: 100%|██████████████████████████████████████████████████████████████████████████████████████████████████████████████████████| 188/188 [00:05<00:00, 34.65batch/s]\n"
     ]
    },
    {
     "name": "stdout",
     "output_type": "stream",
     "text": [
      "Epoch 9/15, Validation Accuracy: 0.2481\n"
     ]
    },
    {
     "name": "stderr",
     "output_type": "stream",
     "text": [
      "Epoch 10/15: 100%|█████████████████████████████████████████████████████████████████████████████████████████████████████████████████████| 750/750 [00:56<00:00, 13.34batch/s]\n",
      "Epoch 10/15: 100%|█████████████████████████████████████████████████████████████████████████████████████████████████████████████████████| 188/188 [00:05<00:00, 34.28batch/s]\n"
     ]
    },
    {
     "name": "stdout",
     "output_type": "stream",
     "text": [
      "Epoch 10/15, Validation Accuracy: 0.2500\n"
     ]
    },
    {
     "name": "stderr",
     "output_type": "stream",
     "text": [
      "Epoch 11/15: 100%|█████████████████████████████████████████████████████████████████████████████████████████████████████████████████████| 750/750 [00:56<00:00, 13.35batch/s]\n",
      "Epoch 11/15: 100%|█████████████████████████████████████████████████████████████████████████████████████████████████████████████████████| 188/188 [00:05<00:00, 35.10batch/s]\n"
     ]
    },
    {
     "name": "stdout",
     "output_type": "stream",
     "text": [
      "Epoch 11/15, Validation Accuracy: 0.2503\n"
     ]
    },
    {
     "name": "stderr",
     "output_type": "stream",
     "text": [
      "Epoch 12/15: 100%|█████████████████████████████████████████████████████████████████████████████████████████████████████████████████████| 750/750 [00:56<00:00, 13.36batch/s]\n",
      "Epoch 12/15: 100%|█████████████████████████████████████████████████████████████████████████████████████████████████████████████████████| 188/188 [00:05<00:00, 34.76batch/s]\n"
     ]
    },
    {
     "name": "stdout",
     "output_type": "stream",
     "text": [
      "Epoch 12/15, Validation Accuracy: 0.2500\n"
     ]
    },
    {
     "name": "stderr",
     "output_type": "stream",
     "text": [
      "Epoch 13/15: 100%|█████████████████████████████████████████████████████████████████████████████████████████████████████████████████████| 750/750 [00:56<00:00, 13.29batch/s]\n",
      "Epoch 13/15: 100%|█████████████████████████████████████████████████████████████████████████████████████████████████████████████████████| 188/188 [00:05<00:00, 35.76batch/s]\n"
     ]
    },
    {
     "name": "stdout",
     "output_type": "stream",
     "text": [
      "Epoch 13/15, Validation Accuracy: 0.2500\n"
     ]
    },
    {
     "name": "stderr",
     "output_type": "stream",
     "text": [
      "Epoch 14/15: 100%|█████████████████████████████████████████████████████████████████████████████████████████████████████████████████████| 750/750 [00:55<00:00, 13.48batch/s]\n",
      "Epoch 14/15: 100%|█████████████████████████████████████████████████████████████████████████████████████████████████████████████████████| 188/188 [00:05<00:00, 35.34batch/s]\n"
     ]
    },
    {
     "name": "stdout",
     "output_type": "stream",
     "text": [
      "Epoch 14/15, Validation Accuracy: 0.2480\n"
     ]
    },
    {
     "name": "stderr",
     "output_type": "stream",
     "text": [
      "Epoch 15/15: 100%|█████████████████████████████████████████████████████████████████████████████████████████████████████████████████████| 750/750 [00:56<00:00, 13.39batch/s]\n",
      "Epoch 15/15: 100%|█████████████████████████████████████████████████████████████████████████████████████████████████████████████████████| 188/188 [00:05<00:00, 34.78batch/s]\n"
     ]
    },
    {
     "name": "stdout",
     "output_type": "stream",
     "text": [
      "Epoch 15/15, Validation Accuracy: 0.2503\n",
      "Test Accuracy: 0.2500\n",
      "Classification Report:\n",
      "              precision    recall  f1-score   support\n",
      "\n",
      "       World       0.00      0.00      0.00      1900\n",
      "      Sports       0.00      0.00      0.00      1900\n",
      "    Business       0.25      1.00      0.40      1900\n",
      "    Sci/Tech       0.00      0.00      0.00      1900\n",
      "\n",
      "    accuracy                           0.25      7600\n",
      "   macro avg       0.06      0.25      0.10      7600\n",
      "weighted avg       0.06      0.25      0.10      7600\n",
      "\n"
     ]
    },
    {
     "name": "stderr",
     "output_type": "stream",
     "text": [
      "/home/IAIS/rrao/.local/lib/python3.9/site-packages/sklearn/metrics/_classification.py:1517: UndefinedMetricWarning: Precision is ill-defined and being set to 0.0 in labels with no predicted samples. Use `zero_division` parameter to control this behavior.\n",
      "  _warn_prf(average, modifier, f\"{metric.capitalize()} is\", len(result))\n",
      "/home/IAIS/rrao/.local/lib/python3.9/site-packages/sklearn/metrics/_classification.py:1517: UndefinedMetricWarning: Precision is ill-defined and being set to 0.0 in labels with no predicted samples. Use `zero_division` parameter to control this behavior.\n",
      "  _warn_prf(average, modifier, f\"{metric.capitalize()} is\", len(result))\n",
      "/home/IAIS/rrao/.local/lib/python3.9/site-packages/sklearn/metrics/_classification.py:1517: UndefinedMetricWarning: Precision is ill-defined and being set to 0.0 in labels with no predicted samples. Use `zero_division` parameter to control this behavior.\n",
      "  _warn_prf(average, modifier, f\"{metric.capitalize()} is\", len(result))\n"
     ]
    }
   ],
   "source": [
    "import torch\n",
    "import torch.nn as nn\n",
    "import torch.optim as optim\n",
    "from torch.utils.data import DataLoader, Dataset, random_split\n",
    "from sklearn.metrics import accuracy_score, classification_report\n",
    "from datasets import load_dataset\n",
    "import numpy as np\n",
    "import nltk\n",
    "from nltk.tokenize import word_tokenize\n",
    "from tqdm import tqdm\n",
    "\n",
    "# Download NLTK data\n",
    "nltk.download('punkt')\n",
    "\n",
    "# Load the AG News dataset\n",
    "dataset = load_dataset(\"ag_news\")\n",
    "\n",
    "# NLTK Tokenizer Function\n",
    "def nltk_tokenizer(text):\n",
    "    return word_tokenize(text)\n",
    "\n",
    "# Convert to PyTorch tensors\n",
    "class AGNewsDataset(Dataset):\n",
    "    def __init__(self, texts, labels, vocab, max_length):\n",
    "        self.texts = texts\n",
    "        self.labels = labels\n",
    "        self.vocab = vocab\n",
    "        self.max_length = max_length\n",
    "\n",
    "    def __len__(self):\n",
    "        return len(self.texts)\n",
    "\n",
    "    def __getitem__(self, idx):\n",
    "        text = self.texts[idx]\n",
    "        label = self.labels[idx]\n",
    "        tokenized_text = [self.vocab.get(token, self.vocab['<UNK>']) for token in text]\n",
    "        if len(tokenized_text) < self.max_length:\n",
    "            tokenized_text += [self.vocab['<PAD>']] * (self.max_length - len(tokenized_text))\n",
    "        else:\n",
    "            tokenized_text = tokenized_text[:self.max_length]\n",
    "        return torch.tensor(tokenized_text, dtype=torch.long), torch.tensor(label, dtype=torch.long)\n",
    "\n",
    "# Build vocabulary\n",
    "def build_vocab(dataset, tokenizer):\n",
    "    vocab = {'<PAD>': 0, '<UNK>': 1}\n",
    "    for example in dataset:\n",
    "        tokens = tokenizer(example['text'])\n",
    "        for token in tokens:\n",
    "            if token not in vocab:\n",
    "                vocab[token] = len(vocab)\n",
    "    return vocab\n",
    "\n",
    "# Tokenize and build vocab\n",
    "train_texts = [nltk_tokenizer(example['text']) for example in dataset['train']]\n",
    "train_labels = [example['label'] for example in dataset['train']]\n",
    "vocab = build_vocab(dataset['train'], nltk_tokenizer)\n",
    "\n",
    "# Set max length for padding\n",
    "max_length = 128\n",
    "\n",
    "# Create dataset\n",
    "full_dataset = AGNewsDataset(train_texts, train_labels, vocab, max_length)\n",
    "\n",
    "# Split training set into training and validation sets\n",
    "train_size = int(0.8 * len(full_dataset))\n",
    "val_size = len(full_dataset) - train_size\n",
    "train_dataset, val_dataset = random_split(full_dataset, [train_size, val_size])\n",
    "\n",
    "# Prepare test dataset\n",
    "test_texts = [nltk_tokenizer(example['text']) for example in dataset['test']]\n",
    "test_labels = [example['label'] for example in dataset['test']]\n",
    "test_dataset = AGNewsDataset(test_texts, test_labels, vocab, max_length)\n",
    "\n",
    "\n",
    "class DeepLSTMModel(nn.Module):\n",
    "    def __init__(self, vocab_size, output_dim, embed_dim=128, hidden_dim=256, num_layers=3):\n",
    "        super(DeepLSTMModel, self).__init__()\n",
    "        self.embedding = nn.Embedding(vocab_size, embed_dim, padding_idx=0)\n",
    "        self.lstm = nn.LSTM(embed_dim, hidden_dim, num_layers=num_layers, batch_first=True, dropout=0.5)\n",
    "        self.fc = nn.Linear(hidden_dim, output_dim)\n",
    "    \n",
    "    def forward(self, x):\n",
    "        x = self.embedding(x)\n",
    "        output, (hidden, cell) = self.lstm(x)\n",
    "        return self.fc(hidden[-1])\n",
    "\n",
    "# Training Parameters\n",
    "BATCH_SIZE = 128\n",
    "EPOCHS = 15\n",
    "OUTPUT_DIM = 4\n",
    "LR = 0.001\n",
    "\n",
    "# Device configuration\n",
    "device = torch.device('cuda' if torch.cuda.is_available() else 'cpu')\n",
    "\n",
    "# DataLoader\n",
    "train_loader = DataLoader(train_dataset, batch_size=BATCH_SIZE, shuffle=True)\n",
    "val_loader = DataLoader(val_dataset, batch_size=BATCH_SIZE, shuffle=False)\n",
    "test_loader = DataLoader(test_dataset, batch_size=BATCH_SIZE, shuffle=False)\n",
    "\n",
    "# Model, loss function, and optimizer\n",
    "model = DeepLSTMModel(len(vocab), OUTPUT_DIM).to(device)\n",
    "criterion = nn.CrossEntropyLoss()\n",
    "optimizer = optim.Adam(model.parameters(), lr=LR)\n",
    "\n",
    "\n",
    "# Training loop\n",
    "for epoch in range(EPOCHS):\n",
    "    model.train()\n",
    "    for texts, labels in tqdm(train_loader, desc=f'Epoch {epoch + 1}/{EPOCHS}', unit='batch'):\n",
    "        texts, labels = texts.to(device), labels.to(device)\n",
    "        \n",
    "        outputs = model(texts)\n",
    "        loss = criterion(outputs, labels)\n",
    "        \n",
    "        optimizer.zero_grad()\n",
    "        loss.backward()\n",
    "        optimizer.step()\n",
    "    \n",
    "    model.eval()\n",
    "    val_labels = []\n",
    "    val_preds = []\n",
    "    with torch.no_grad():\n",
    "        for texts, labels in tqdm(val_loader, desc=f'Epoch {epoch + 1}/{EPOCHS}', unit='batch'):\n",
    "            texts, labels = texts.to(device), labels.to(device)\n",
    "            outputs = model(texts)\n",
    "            _, preds = torch.max(outputs, 1)\n",
    "            val_labels.extend(labels.cpu().numpy())\n",
    "            val_preds.extend(preds.cpu().numpy())\n",
    "    \n",
    "    val_accuracy = accuracy_score(val_labels, val_preds)\n",
    "    print(f'Epoch {epoch + 1}/{EPOCHS}, Validation Accuracy: {val_accuracy:.4f}')\n",
    "\n",
    "# Final evaluation on test set\n",
    "model.eval()\n",
    "test_labels = []\n",
    "test_preds = []\n",
    "with torch.no_grad():\n",
    "    for texts, labels in test_loader:\n",
    "        texts, labels = texts.to(device), labels.to(device)\n",
    "        outputs = model(texts)\n",
    "        _, preds = torch.max(outputs, 1)\n",
    "        test_labels.extend(labels.cpu().numpy())\n",
    "        test_preds.extend(preds.cpu().numpy())\n",
    "\n",
    "overall_accuracy = accuracy_score(test_labels, test_preds)\n",
    "class_report = classification_report(test_labels, test_preds, target_names=['World', 'Sports', 'Business', 'Sci/Tech'])\n",
    "\n",
    "print(f'Test Accuracy: {overall_accuracy:.4f}')\n",
    "print('Classification Report:')\n",
    "print(class_report)\n"
   ]
  },
  {
   "cell_type": "code",
   "execution_count": null,
   "id": "91b70336-df56-4a38-b0ca-52fc6c80e4ce",
   "metadata": {},
   "outputs": [],
   "source": []
  }
 ],
 "metadata": {
  "kernelspec": {
   "display_name": "Python 3 (ipykernel)",
   "language": "python",
   "name": "python3"
  },
  "language_info": {
   "codemirror_mode": {
    "name": "ipython",
    "version": 3
   },
   "file_extension": ".py",
   "mimetype": "text/x-python",
   "name": "python",
   "nbconvert_exporter": "python",
   "pygments_lexer": "ipython3",
   "version": "3.9.19"
  }
 },
 "nbformat": 4,
 "nbformat_minor": 5
}
