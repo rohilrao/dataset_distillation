{
 "cells": [
  {
   "cell_type": "code",
   "execution_count": 1,
   "id": "0c71f98c-a1ba-45a8-b5fd-0bab09feea17",
   "metadata": {},
   "outputs": [],
   "source": [
    "import torch\n",
    "import torch.nn as nn\n",
    "import torch.optim as optim\n",
    "import torch.utils.data as data\n",
    "from tqdm import tqdm\n",
    "from transformers import BertTokenizer\n",
    "from gensim.models import KeyedVectors\n",
    "from datasets import load_dataset\n",
    "from sklearn.metrics import classification_report, accuracy_score\n",
    "import numpy as np\n",
    "import gensim.downloader as api\n",
    "\n",
    "# Load AG News Dataset\n",
    "dataset = load_dataset('ag_news')\n",
    "tokenizer = BertTokenizer.from_pretrained('bert-base-uncased')\n",
    "\n",
    "def tokenize(text):\n",
    "    return tokenizer(text, padding='max_length', truncation=True, return_tensors='pt', max_length=128)\n",
    "\n",
    "# Load Word2Vec Embeddings\n",
    "word2vec = api.load('word2vec-google-news-300')\n",
    "\n",
    "def get_word2vec_embedding(tokens):\n",
    "    embeddings = []\n",
    "    for token in tokens:\n",
    "        if token in word2vec:\n",
    "            embeddings.append(word2vec[token])\n",
    "    if len(embeddings) == 0:\n",
    "        return np.zeros(word2vec.vector_size)\n",
    "    return np.mean(embeddings, axis=0)\n",
    "\n",
    "class AGNewsDataset(data.Dataset):\n",
    "    def __init__(self, texts, labels):\n",
    "        self.texts = texts\n",
    "        self.labels = labels\n",
    "    \n",
    "    def __len__(self):\n",
    "        return len(self.texts)\n",
    "    \n",
    "    def __getitem__(self, idx):\n",
    "        tokens = tokenizer.tokenize(self.texts[idx])\n",
    "        embedding = get_word2vec_embedding(tokens)\n",
    "        label = self.labels[idx]\n",
    "        return torch.tensor(embedding, dtype=torch.float32), torch.tensor(label, dtype=torch.long)\n",
    "\n",
    "train_texts = [item['text'] for item in dataset['train']]\n",
    "train_labels = [item['label'] for item in dataset['train']]\n",
    "test_texts = [item['text'] for item in dataset['test']]\n",
    "test_labels = [item['label'] for item in dataset['test']]\n",
    "\n",
    "train_dataset = AGNewsDataset(train_texts, train_labels)\n",
    "test_dataset = AGNewsDataset(test_texts, test_labels)\n",
    "\n",
    "train_loader = data.DataLoader(train_dataset, batch_size=64, shuffle=True)\n",
    "test_loader = data.DataLoader(test_dataset, batch_size=64, shuffle=False)\n",
    "\n",
    "class CNNModel(nn.Module):\n",
    "    def __init__(self):\n",
    "        super(CNNModel, self).__init__()\n",
    "        self.conv1 = nn.Conv1d(1, 100, kernel_size=3, padding=1)\n",
    "        self.relu = nn.ReLU()\n",
    "        self.pool = nn.MaxPool1d(2)\n",
    "        self.fc1 = nn.Linear(100 * (word2vec.vector_size // 2), 4)  # 4 classes in AG News\n",
    "\n",
    "    def forward(self, x):\n",
    "        x = x.unsqueeze(1)  # Add channel dimension\n",
    "        x = self.conv1(x)\n",
    "        x = self.relu(x)\n",
    "        x = self.pool(x)\n",
    "        x = x.view(x.size(0), -1)\n",
    "        x = self.fc1(x)\n",
    "        return x\n",
    "\n",
    "# Initial model and optimizers\n",
    "model = CNNModel()\n",
    "criterion = nn.CrossEntropyLoss()\n",
    "optimizer_net = optim.Adam(model.parameters(), lr=0.001)\n",
    "\n",
    "# Synthetic data initialization\n",
    "num_classes = 4\n",
    "num_synthetic_per_class = 10\n",
    "max_length = 128\n",
    "\n",
    "synthetic_text_data = torch.randn(num_classes * num_synthetic_per_class, word2vec.vector_size, requires_grad=True)\n",
    "synthetic_labels = torch.tensor([i for i in range(num_classes) for _ in range(num_synthetic_per_class)], dtype=torch.long)\n",
    "\n",
    "# Optimizer for synthetic data\n",
    "optimizer_syn = optim.SGD([synthetic_text_data], lr=0.01, momentum=0.9)\n",
    "\n",
    "def compute_gradients(model, inputs, labels):\n",
    "    outputs = model(inputs)\n",
    "    loss = criterion(outputs, labels)\n",
    "    gradients = torch.autograd.grad(loss, model.parameters(), create_graph=True)\n",
    "    return gradients\n",
    "\n",
    "def layerwise_matching_loss(gw_syn, gw_real):\n",
    "    loss = 0\n",
    "    for g_syn, g_real in zip(gw_syn, gw_real):\n",
    "        loss += ((g_syn - g_real) ** 2).sum()\n",
    "    return loss\n",
    "\n"
   ]
  },
  {
   "cell_type": "code",
   "execution_count": 2,
   "id": "a38fea75-63b9-4cca-888c-5f7d42fa9b0d",
   "metadata": {},
   "outputs": [
    {
     "name": "stderr",
     "output_type": "stream",
     "text": [
      "Epoch [1/10]: 100%|██████████████████████████████████████████████████████████████████████████████████████████████████████████████████| 1875/1875 [02:15<00:00, 13.82batch/s]\n",
      "Epoch [1/10] - Evaluating on Test Set: 100%|███████████████████████████████████████████████████████████████████████████████████████████| 119/119 [00:07<00:00, 16.13batch/s]\n"
     ]
    },
    {
     "name": "stdout",
     "output_type": "stream",
     "text": [
      "Epoch [1/10], Average Matching Loss: 44.0947, Train Accuracy: 26.41%, Test Accuracy: 25.25%\n"
     ]
    },
    {
     "name": "stderr",
     "output_type": "stream",
     "text": [
      "Epoch [2/10]: 100%|██████████████████████████████████████████████████████████████████████████████████████████████████████████████████| 1875/1875 [02:15<00:00, 13.82batch/s]\n",
      "Epoch [2/10] - Evaluating on Test Set: 100%|███████████████████████████████████████████████████████████████████████████████████████████| 119/119 [00:07<00:00, 15.79batch/s]\n"
     ]
    },
    {
     "name": "stdout",
     "output_type": "stream",
     "text": [
      "Epoch [2/10], Average Matching Loss: 12.6114, Train Accuracy: 25.01%, Test Accuracy: 25.00%\n"
     ]
    },
    {
     "name": "stderr",
     "output_type": "stream",
     "text": [
      "Epoch [3/10]: 100%|██████████████████████████████████████████████████████████████████████████████████████████████████████████████████| 1875/1875 [02:15<00:00, 13.87batch/s]\n",
      "Epoch [3/10] - Evaluating on Test Set: 100%|███████████████████████████████████████████████████████████████████████████████████████████| 119/119 [00:07<00:00, 16.05batch/s]\n"
     ]
    },
    {
     "name": "stdout",
     "output_type": "stream",
     "text": [
      "Epoch [3/10], Average Matching Loss: 3.3065, Train Accuracy: 25.03%, Test Accuracy: 25.00%\n"
     ]
    },
    {
     "name": "stderr",
     "output_type": "stream",
     "text": [
      "Epoch [4/10]: 100%|██████████████████████████████████████████████████████████████████████████████████████████████████████████████████| 1875/1875 [02:15<00:00, 13.89batch/s]\n",
      "Epoch [4/10] - Evaluating on Test Set: 100%|███████████████████████████████████████████████████████████████████████████████████████████| 119/119 [00:07<00:00, 16.07batch/s]\n"
     ]
    },
    {
     "name": "stdout",
     "output_type": "stream",
     "text": [
      "Epoch [4/10], Average Matching Loss: 1.7271, Train Accuracy: 24.99%, Test Accuracy: 25.00%\n"
     ]
    },
    {
     "name": "stderr",
     "output_type": "stream",
     "text": [
      "Epoch [5/10]: 100%|██████████████████████████████████████████████████████████████████████████████████████████████████████████████████| 1875/1875 [02:15<00:00, 13.83batch/s]\n",
      "Epoch [5/10] - Evaluating on Test Set: 100%|███████████████████████████████████████████████████████████████████████████████████████████| 119/119 [00:07<00:00, 15.88batch/s]\n"
     ]
    },
    {
     "name": "stdout",
     "output_type": "stream",
     "text": [
      "Epoch [5/10], Average Matching Loss: 0.9181, Train Accuracy: 25.77%, Test Accuracy: 32.47%\n"
     ]
    },
    {
     "name": "stderr",
     "output_type": "stream",
     "text": [
      "Epoch [6/10]: 100%|██████████████████████████████████████████████████████████████████████████████████████████████████████████████████| 1875/1875 [02:15<00:00, 13.87batch/s]\n",
      "Epoch [6/10] - Evaluating on Test Set: 100%|███████████████████████████████████████████████████████████████████████████████████████████| 119/119 [00:07<00:00, 16.08batch/s]\n"
     ]
    },
    {
     "name": "stdout",
     "output_type": "stream",
     "text": [
      "Epoch [6/10], Average Matching Loss: 0.4367, Train Accuracy: 40.82%, Test Accuracy: 56.63%\n"
     ]
    },
    {
     "name": "stderr",
     "output_type": "stream",
     "text": [
      "Epoch [7/10]: 100%|██████████████████████████████████████████████████████████████████████████████████████████████████████████████████| 1875/1875 [02:14<00:00, 13.96batch/s]\n",
      "Epoch [7/10] - Evaluating on Test Set: 100%|███████████████████████████████████████████████████████████████████████████████████████████| 119/119 [00:07<00:00, 16.07batch/s]\n"
     ]
    },
    {
     "name": "stdout",
     "output_type": "stream",
     "text": [
      "Epoch [7/10], Average Matching Loss: 0.1368, Train Accuracy: 43.48%, Test Accuracy: 58.78%\n"
     ]
    },
    {
     "name": "stderr",
     "output_type": "stream",
     "text": [
      "Epoch [9/10]: 100%|██████████████████████████████████████████████████████████████████████████████████████████████████████████████████| 1875/1875 [02:14<00:00, 13.94batch/s]\n",
      "Epoch [9/10] - Evaluating on Test Set: 100%|███████████████████████████████████████████████████████████████████████████████████████████| 119/119 [00:07<00:00, 16.09batch/s]\n"
     ]
    },
    {
     "name": "stdout",
     "output_type": "stream",
     "text": [
      "Epoch [9/10], Average Matching Loss: 0.6300, Train Accuracy: 29.21%, Test Accuracy: 43.05%\n"
     ]
    },
    {
     "name": "stderr",
     "output_type": "stream",
     "text": [
      "Epoch [10/10]: 100%|█████████████████████████████████████████████████████████████████████████████████████████████████████████████████| 1875/1875 [02:14<00:00, 13.92batch/s]\n",
      "Epoch [10/10] - Evaluating on Test Set: 100%|██████████████████████████████████████████████████████████████████████████████████████████| 119/119 [00:07<00:00, 16.12batch/s]\n"
     ]
    },
    {
     "name": "stdout",
     "output_type": "stream",
     "text": [
      "Epoch [10/10], Average Matching Loss: 0.0626, Train Accuracy: 70.20%, Test Accuracy: 78.51%\n"
     ]
    },
    {
     "name": "stderr",
     "output_type": "stream",
     "text": [
      "Training Epoch 1/10: 100%|████████████████████████████████████████████████████████████████████████████████████████████████████████████████| 1/1 [00:00<00:00, 227.79batch/s]\n"
     ]
    },
    {
     "name": "stdout",
     "output_type": "stream",
     "text": [
      "Epoch [1/10], Train Loss: 1.3812, Train Accuracy: 17.50%\n"
     ]
    },
    {
     "name": "stderr",
     "output_type": "stream",
     "text": [
      "Training Epoch 2/10: 100%|████████████████████████████████████████████████████████████████████████████████████████████████████████████████| 1/1 [00:00<00:00, 252.30batch/s]\n"
     ]
    },
    {
     "name": "stdout",
     "output_type": "stream",
     "text": [
      "Epoch [2/10], Train Loss: 1.3514, Train Accuracy: 55.00%\n"
     ]
    },
    {
     "name": "stderr",
     "output_type": "stream",
     "text": [
      "Training Epoch 3/10: 100%|████████████████████████████████████████████████████████████████████████████████████████████████████████████████| 1/1 [00:00<00:00, 272.76batch/s]\n"
     ]
    },
    {
     "name": "stdout",
     "output_type": "stream",
     "text": [
      "Epoch [3/10], Train Loss: 1.3556, Train Accuracy: 40.00%\n"
     ]
    },
    {
     "name": "stderr",
     "output_type": "stream",
     "text": [
      "Training Epoch 4/10: 100%|████████████████████████████████████████████████████████████████████████████████████████████████████████████████| 1/1 [00:00<00:00, 281.63batch/s]\n"
     ]
    },
    {
     "name": "stdout",
     "output_type": "stream",
     "text": [
      "Epoch [4/10], Train Loss: 0.4338, Train Accuracy: 92.50%\n"
     ]
    },
    {
     "name": "stderr",
     "output_type": "stream",
     "text": [
      "Training Epoch 5/10: 100%|████████████████████████████████████████████████████████████████████████████████████████████████████████████████| 1/1 [00:00<00:00, 281.53batch/s]\n"
     ]
    },
    {
     "name": "stdout",
     "output_type": "stream",
     "text": [
      "Epoch [5/10], Train Loss: 0.5421, Train Accuracy: 75.00%\n"
     ]
    },
    {
     "name": "stderr",
     "output_type": "stream",
     "text": [
      "Training Epoch 6/10: 100%|████████████████████████████████████████████████████████████████████████████████████████████████████████████████| 1/1 [00:00<00:00, 280.27batch/s]\n"
     ]
    },
    {
     "name": "stdout",
     "output_type": "stream",
     "text": [
      "Epoch [6/10], Train Loss: 0.6750, Train Accuracy: 75.00%\n"
     ]
    },
    {
     "name": "stderr",
     "output_type": "stream",
     "text": [
      "Training Epoch 7/10: 100%|████████████████████████████████████████████████████████████████████████████████████████████████████████████████| 1/1 [00:00<00:00, 265.77batch/s]\n"
     ]
    },
    {
     "name": "stdout",
     "output_type": "stream",
     "text": [
      "Epoch [7/10], Train Loss: 0.4658, Train Accuracy: 75.00%\n"
     ]
    },
    {
     "name": "stderr",
     "output_type": "stream",
     "text": [
      "Training Epoch 8/10: 100%|████████████████████████████████████████████████████████████████████████████████████████████████████████████████| 1/1 [00:00<00:00, 253.37batch/s]\n"
     ]
    },
    {
     "name": "stdout",
     "output_type": "stream",
     "text": [
      "Epoch [8/10], Train Loss: 0.1819, Train Accuracy: 100.00%\n"
     ]
    },
    {
     "name": "stderr",
     "output_type": "stream",
     "text": [
      "Training Epoch 9/10: 100%|████████████████████████████████████████████████████████████████████████████████████████████████████████████████| 1/1 [00:00<00:00, 263.68batch/s]\n"
     ]
    },
    {
     "name": "stdout",
     "output_type": "stream",
     "text": [
      "Epoch [9/10], Train Loss: 0.0922, Train Accuracy: 100.00%\n"
     ]
    },
    {
     "name": "stderr",
     "output_type": "stream",
     "text": [
      "Training Epoch 10/10: 100%|███████████████████████████████████████████████████████████████████████████████████████████████████████████████| 1/1 [00:00<00:00, 254.76batch/s]\n"
     ]
    },
    {
     "name": "stdout",
     "output_type": "stream",
     "text": [
      "Epoch [10/10], Train Loss: 0.1277, Train Accuracy: 100.00%\n"
     ]
    },
    {
     "name": "stderr",
     "output_type": "stream",
     "text": [
      "Evaluating on test set: 100%|██████████████████████████████████████████████████████████████████████████████████████████████████████████| 119/119 [00:07<00:00, 15.99batch/s]\n"
     ]
    },
    {
     "name": "stdout",
     "output_type": "stream",
     "text": [
      "Test Accuracy: 0.2500\n",
      "Classification Report:\n",
      "              precision    recall  f1-score   support\n",
      "\n",
      "       World       0.00      0.00      0.00      1900\n",
      "      Sports       0.00      0.00      0.00      1900\n",
      "    Business       0.25      1.00      0.40      1900\n",
      "    Sci/Tech       0.00      0.00      0.00      1900\n",
      "\n",
      "    accuracy                           0.25      7600\n",
      "   macro avg       0.06      0.25      0.10      7600\n",
      "weighted avg       0.06      0.25      0.10      7600\n",
      "\n"
     ]
    },
    {
     "name": "stderr",
     "output_type": "stream",
     "text": [
      "/home/IAIS/rrao/.local/lib/python3.9/site-packages/sklearn/metrics/_classification.py:1517: UndefinedMetricWarning: Precision is ill-defined and being set to 0.0 in labels with no predicted samples. Use `zero_division` parameter to control this behavior.\n",
      "  _warn_prf(average, modifier, f\"{metric.capitalize()} is\", len(result))\n",
      "/home/IAIS/rrao/.local/lib/python3.9/site-packages/sklearn/metrics/_classification.py:1517: UndefinedMetricWarning: Precision is ill-defined and being set to 0.0 in labels with no predicted samples. Use `zero_division` parameter to control this behavior.\n",
      "  _warn_prf(average, modifier, f\"{metric.capitalize()} is\", len(result))\n",
      "/home/IAIS/rrao/.local/lib/python3.9/site-packages/sklearn/metrics/_classification.py:1517: UndefinedMetricWarning: Precision is ill-defined and being set to 0.0 in labels with no predicted samples. Use `zero_division` parameter to control this behavior.\n",
      "  _warn_prf(average, modifier, f\"{metric.capitalize()} is\", len(result))\n"
     ]
    }
   ],
   "source": [
    "import torch\n",
    "import torch.optim as optim\n",
    "import torch.utils.data as data\n",
    "from tqdm import tqdm\n",
    "\n",
    "# Training loop with synthetic data gradient matching\n",
    "num_epochs = 10\n",
    "device = torch.device('cuda' if torch.cuda.is_available() else 'cpu')\n",
    "model.to(device)\n",
    "\n",
    "def compute_gradients_and_outputs(model, inputs, labels):\n",
    "    outputs = model(inputs)\n",
    "    loss = criterion(outputs, labels)\n",
    "    gradients = torch.autograd.grad(loss, model.parameters(), create_graph=True)\n",
    "    return gradients, outputs, loss\n",
    "\n",
    "for epoch in range(num_epochs):\n",
    "    model.train()\n",
    "    loss_avg = 0\n",
    "    train_correct = 0\n",
    "    train_total = 0\n",
    "\n",
    "    for real_inputs, real_labels in tqdm(train_loader, desc=f'Epoch [{epoch + 1}/{num_epochs}]', unit='batch'):\n",
    "        real_inputs, real_labels = real_inputs.to(device), real_labels.to(device)\n",
    "\n",
    "        # Compute gradients and outputs for real data\n",
    "        gradients_real, outputs, loss_real = compute_gradients_and_outputs(model, real_inputs, real_labels)\n",
    "        \n",
    "        # Compute gradients for synthetic data\n",
    "        synthetic_data_batch = synthetic_text_data[epoch % num_classes * num_synthetic_per_class: (epoch % num_classes + 1) * num_synthetic_per_class]\n",
    "        synthetic_labels_batch = synthetic_labels[epoch % num_classes * num_synthetic_per_class: (epoch % num_classes + 1) * num_synthetic_per_class]\n",
    "        gradients_synthetic, _, _ = compute_gradients_and_outputs(model, synthetic_data_batch.to(device), synthetic_labels_batch.to(device))\n",
    "        \n",
    "        # Compute matching loss\n",
    "        loss_match = layerwise_matching_loss(gradients_synthetic, gradients_real)\n",
    "        \n",
    "        # Zero the gradients\n",
    "        optimizer_syn.zero_grad()\n",
    "        optimizer_net.zero_grad()\n",
    "\n",
    "        # Backward pass and optimize\n",
    "        loss_match.backward(retain_graph=True)\n",
    "        loss_real.backward()\n",
    "        optimizer_syn.step()\n",
    "        optimizer_net.step()\n",
    "\n",
    "        loss_avg += loss_match.item()\n",
    "\n",
    "        # Calculate training accuracy\n",
    "        _, predicted = torch.max(outputs.data, 1)\n",
    "        train_total += real_labels.size(0)\n",
    "        train_correct += (predicted == real_labels).sum().item()\n",
    "    \n",
    "    train_accuracy = 100 * train_correct / train_total\n",
    "\n",
    "    # Evaluate model on test set\n",
    "    model.eval()\n",
    "    test_correct = 0\n",
    "    test_total = 0\n",
    "    with torch.no_grad():\n",
    "        for inputs, labels in tqdm(test_loader, desc=f'Epoch [{epoch + 1}/{num_epochs}] - Evaluating on Test Set', unit='batch'):\n",
    "            inputs, labels = inputs.to(device), labels.to(device)\n",
    "            outputs = model(inputs)\n",
    "            _, predicted = torch.max(outputs.data, 1)\n",
    "            test_total += labels.size(0)\n",
    "            test_correct += (predicted == labels).sum().item()\n",
    "    \n",
    "    test_accuracy = 100 * test_correct / test_total\n",
    "    print(f\"Epoch [{epoch + 1}/{num_epochs}], Average Matching Loss: {loss_avg / len(train_loader):.4f}, Train Accuracy: {train_accuracy:.2f}%, Test Accuracy: {test_accuracy:.2f}%\")\n",
    "\n",
    "# Train model from scratch using synthetic data\n",
    "model = CNNModel().to(device)\n",
    "optimizer_net = optim.Adam(model.parameters(), lr=0.001)\n",
    "\n",
    "# Create DataLoader for synthetic data\n",
    "synthetic_dataset = data.TensorDataset(synthetic_text_data.detach(), synthetic_labels)\n",
    "synthetic_loader = data.DataLoader(synthetic_dataset, batch_size=64, shuffle=True)\n",
    "\n",
    "for epoch in range(num_epochs):\n",
    "    model.train()\n",
    "    train_loss = 0\n",
    "    correct = 0\n",
    "    total = 0\n",
    "    for inputs, labels in tqdm(synthetic_loader, desc=f'Training Epoch {epoch+1}/{num_epochs}', unit='batch'):\n",
    "        inputs, labels = inputs.to(device), labels.to(device)\n",
    "        optimizer_net.zero_grad()\n",
    "        outputs = model(inputs)\n",
    "        loss = criterion(outputs, labels)\n",
    "        loss.backward()\n",
    "        optimizer_net.step()\n",
    "        train_loss += loss.item()\n",
    "        _, predicted = torch.max(outputs.data, 1)\n",
    "        total += labels.size(0)\n",
    "        correct += (predicted == labels).sum().item()\n",
    "    \n",
    "    train_accuracy = 100 * correct / total\n",
    "    print(f'Epoch [{epoch + 1}/{num_epochs}], Train Loss: {train_loss:.4f}, Train Accuracy: {train_accuracy:.2f}%')\n",
    "\n",
    "# Final evaluation on test set\n",
    "model.eval()\n",
    "test_labels = []\n",
    "test_preds = []\n",
    "with torch.no_grad():\n",
    "    for texts, labels in tqdm(test_loader, desc='Evaluating on test set', unit='batch'):\n",
    "        texts, labels = texts.to(device), labels.to(device)\n",
    "        outputs = model(texts)\n",
    "        _, preds = torch.max(outputs, 1)\n",
    "        test_labels.extend(labels.cpu().numpy())\n",
    "        test_preds.extend(preds.cpu().numpy())\n",
    "\n",
    "overall_accuracy = accuracy_score(test_labels, test_preds)\n",
    "class_report = classification_report(test_labels, test_preds, target_names=dataset['test'].features['label'].names)\n",
    "\n",
    "print(f'Test Accuracy: {overall_accuracy:.4f}')\n",
    "print('Classification Report:')\n",
    "print(class_report)\n"
   ]
  },
  {
   "cell_type": "code",
   "execution_count": 4,
   "id": "3724afe5-2505-41dd-90b3-2d10b2d9b0bc",
   "metadata": {},
   "outputs": [
    {
     "data": {
      "text/plain": [
       "torch.Size([10, 300])"
      ]
     },
     "execution_count": 4,
     "metadata": {},
     "output_type": "execute_result"
    }
   ],
   "source": [
    "synthetic_data_batch.shape"
   ]
  },
  {
   "cell_type": "code",
   "execution_count": 6,
   "id": "29246f1c-8bdf-4cac-9f6e-efe39d3439a5",
   "metadata": {},
   "outputs": [
    {
     "data": {
      "text/plain": [
       "tensor([1, 1, 1, 1, 1, 1, 1, 1, 1, 1])"
      ]
     },
     "execution_count": 6,
     "metadata": {},
     "output_type": "execute_result"
    }
   ],
   "source": [
    "synthetic_labels_batch"
   ]
  },
  {
   "cell_type": "code",
   "execution_count": 9,
   "id": "f4caf0a9-6efc-4261-a803-18f412b669ff",
   "metadata": {},
   "outputs": [
    {
     "data": {
      "text/plain": [
       "torch.Size([40, 300])"
      ]
     },
     "execution_count": 9,
     "metadata": {},
     "output_type": "execute_result"
    }
   ],
   "source": [
    "synthetic_text_data.shape"
   ]
  },
  {
   "cell_type": "code",
   "execution_count": 11,
   "id": "97761c23-50f9-4f98-b815-8633585082b8",
   "metadata": {},
   "outputs": [
    {
     "data": {
      "text/plain": [
       "tensor([0, 0, 0, 0, 0, 0, 0, 0, 0, 0, 1, 1, 1, 1, 1, 1, 1, 1, 1, 1, 2, 2, 2, 2,\n",
       "        2, 2, 2, 2, 2, 2, 3, 3, 3, 3, 3, 3, 3, 3, 3, 3])"
      ]
     },
     "execution_count": 11,
     "metadata": {},
     "output_type": "execute_result"
    }
   ],
   "source": [
    "synthetic_labels"
   ]
  },
  {
   "cell_type": "code",
   "execution_count": 17,
   "id": "cb12c2a5-afcc-4141-8344-05f766cc16d9",
   "metadata": {},
   "outputs": [
    {
     "data": {
      "text/plain": [
       "2    30000\n",
       "3    30000\n",
       "1    30000\n",
       "0    30000\n",
       "Name: count, dtype: int64"
      ]
     },
     "execution_count": 17,
     "metadata": {},
     "output_type": "execute_result"
    }
   ],
   "source": [
    "import pandas as pd  \n",
    "pd.Series(train_dataset.labels).value_counts()"
   ]
  },
  {
   "cell_type": "code",
   "execution_count": 18,
   "id": "4a1280f2-396a-4fa3-b425-437e18325c6c",
   "metadata": {},
   "outputs": [
    {
     "data": {
      "text/plain": [
       "tensor([2, 2, 2, 2, 2, 2, 2, 2, 2, 2, 2, 2, 2, 2, 2, 2, 2, 2, 2, 2, 2, 2, 2, 2,\n",
       "        2, 2, 2, 2, 2, 2, 2, 2, 2, 2, 2, 2, 2, 2, 2, 2, 2, 2, 2, 2, 2, 2, 2, 2],\n",
       "       device='cuda:0')"
      ]
     },
     "execution_count": 18,
     "metadata": {},
     "output_type": "execute_result"
    }
   ],
   "source": [
    "preds"
   ]
  },
  {
   "cell_type": "code",
   "execution_count": null,
   "id": "a51d5038-7d0f-4b77-96f5-b1695033e458",
   "metadata": {},
   "outputs": [],
   "source": []
  }
 ],
 "metadata": {
  "kernelspec": {
   "display_name": "Python 3 (ipykernel)",
   "language": "python",
   "name": "python3"
  },
  "language_info": {
   "codemirror_mode": {
    "name": "ipython",
    "version": 3
   },
   "file_extension": ".py",
   "mimetype": "text/x-python",
   "name": "python",
   "nbconvert_exporter": "python",
   "pygments_lexer": "ipython3",
   "version": "3.9.19"
  }
 },
 "nbformat": 4,
 "nbformat_minor": 5
}
