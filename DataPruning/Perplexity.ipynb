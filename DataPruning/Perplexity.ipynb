{
 "cells": [
  {
   "cell_type": "code",
   "execution_count": null,
   "id": "8a416235-1396-427a-aef1-4e51fbdc66fa",
   "metadata": {},
   "outputs": [],
   "source": [
    "import torch\n",
    "import torch.nn as nn\n",
    "import torch.optim as optim\n",
    "import torch.utils.data as data\n",
    "from tqdm import tqdm\n",
    "from transformers import BertTokenizer, BertForMaskedLM\n",
    "from datasets import load_dataset\n",
    "from sklearn.metrics import classification_report\n",
    "import numpy as np\n",
    "import gensim.downloader as api\n",
    "import matplotlib.pyplot as plt\n",
    "\n",
    "device = torch.device(\"cuda\" if torch.cuda.is_available() else \"cpu\")\n"
   ]
  },
  {
   "cell_type": "code",
   "execution_count": null,
   "id": "3d4ff5d3-8c99-4641-9783-ed364bf3acb2",
   "metadata": {},
   "outputs": [],
   "source": [
    "# Load AG News Dataset\n",
    "print(\"Loading AG News Dataset...\")\n",
    "dataset = load_dataset('ag_news')\n",
    "tokenizer = BertTokenizer.from_pretrained('bert-base-uncased')\n",
    "\n",
    "def tokenize(text):\n",
    "    return tokenizer(text, padding='max_length', truncation=True, return_tensors='pt', max_length=128)\n"
   ]
  },
  {
   "cell_type": "code",
   "execution_count": 75,
   "id": "4e611cfc-2332-4393-b811-d9925d35b444",
   "metadata": {},
   "outputs": [
    {
     "data": {
      "text/plain": [
       "DatasetDict({\n",
       "    test: Dataset({\n",
       "        features: ['text', 'label'],\n",
       "        num_rows: 7600\n",
       "    })\n",
       "    train: Dataset({\n",
       "        features: ['text', 'label'],\n",
       "        num_rows: 120000\n",
       "    })\n",
       "})"
      ]
     },
     "execution_count": 75,
     "metadata": {},
     "output_type": "execute_result"
    }
   ],
   "source": [
    "dataset"
   ]
  },
  {
   "cell_type": "code",
   "execution_count": 93,
   "id": "6c04378d-588c-4e7f-b660-a06359fe0741",
   "metadata": {},
   "outputs": [
    {
     "data": {
      "text/plain": [
       "\"Oil and Economy Cloud Stocks' Outlook (Reuters) Reuters - Soaring crude prices plus worries\\\\about the economy and the outlook for earnings are expected to\\\\hang over the stock market next week during the depth of the\\\\summer doldrums.\""
      ]
     },
     "execution_count": 93,
     "metadata": {},
     "output_type": "execute_result"
    }
   ],
   "source": [
    "dataset['train']['text'][2]"
   ]
  },
  {
   "cell_type": "code",
   "execution_count": 94,
   "id": "b248d858-027a-46b0-a1aa-f37ff1e1a212",
   "metadata": {},
   "outputs": [],
   "source": [
    "import pandas as pd\n",
    "train_texts = pd.DataFrame(dataset['train']['text'], columns=['text'])\n",
    "\n",
    "# Calculating the lengths of each text\n",
    "train_texts['length'] = train_texts['text'].apply(len)"
   ]
  },
  {
   "cell_type": "code",
   "execution_count": 83,
   "id": "a4eedd7b-ab89-412a-9176-37a659d69e23",
   "metadata": {},
   "outputs": [
    {
     "data": {
      "image/png": "[encoded data removed]",
      "text/plain": [
       "<Figure size 1000x600 with 1 Axes>"
      ]
     },
     "metadata": {},
     "output_type": "display_data"
    }
   ],
   "source": [
    "plt.figure(figsize=(10, 6))\n",
    "plt.hist(train_texts['length'], bins=20, edgecolor='black')\n",
    "plt.title('Histogram of Text Lengths')\n",
    "plt.xlabel('Length of Text')\n",
    "plt.ylabel('Frequency')\n",
    "plt.show()"
   ]
  },
  {
   "cell_type": "code",
   "execution_count": 91,
   "id": "8f2a6a4a-1309-4dff-8833-f2f2d6806995",
   "metadata": {},
   "outputs": [
    {
     "data": {
      "text/plain": [
       "'Venezuelans Line Up to Vote on Chavez CARACAS, Venezuela - Summoned by bugle calls and the detonations of huge firecrackers, Venezuelans turned out in unprecedented numbers Sunday to vote on whether to force leftist President Hugo Chavez from office.    Some lines at polling places extended for 1.25 miles, stunning even veteran election monitors...'"
      ]
     },
     "execution_count": 91,
     "metadata": {},
     "output_type": "execute_result"
    }
   ],
   "source": [
    "train_texts[train_texts['length'] == 350].iloc[0]['text']"
   ]
  },
  {
   "cell_type": "code",
   "execution_count": null,
   "id": "47e5eedc-b8f0-4f38-be1f-39d245e73a38",
   "metadata": {},
   "outputs": [],
   "source": [
    "# Load Word2Vec Embeddings\n",
    "print(\"Loading Word2Vec Embeddings...\")\n",
    "word2vec = api.load('word2vec-google-news-300')\n",
    "def get_word2vec_embedding(tokens):\n",
    "    embeddings = []\n",
    "    for token in tokens:\n",
    "        if token in word2vec:\n",
    "            embeddings.append(word2vec[token])\n",
    "    if len(embeddings) == 0:\n",
    "        return np.zeros(word2vec.vector_size)\n",
    "    return np.mean(embeddings, axis=0)"
   ]
  },
  {
   "cell_type": "code",
   "execution_count": null,
   "id": "c27b9117-6009-496e-9f85-939ab4c5a5ca",
   "metadata": {},
   "outputs": [],
   "source": [
    "class AGNewsDataset(data.Dataset):\n",
    "    def __init__(self, texts, labels):\n",
    "        self.texts = texts\n",
    "        self.labels = labels\n",
    "    \n",
    "    def __len__(self):\n",
    "        return len(self.texts)\n",
    "    \n",
    "    def __getitem__(self, idx):\n",
    "        tokens = tokenizer.tokenize(self.texts[idx])\n",
    "        embedding = get_word2vec_embedding(tokens)\n",
    "        label = self.labels[idx]\n",
    "        return torch.tensor(embedding, dtype=torch.float32), torch.tensor(label, dtype=torch.long)\n"
   ]
  },
  {
   "cell_type": "code",
   "execution_count": null,
   "id": "b31cb15c-ba5a-488b-b859-5af733c420b1",
   "metadata": {},
   "outputs": [],
   "source": [
    "# Function to calculate perplexity\n",
    "def calculate_perplexity(texts, tokenizer, model):\n",
    "    model.eval()\n",
    "    perplexities = []\n",
    "    for text in tqdm(texts, desc=\"Calculating Perplexity\"):\n",
    "        inputs = tokenizer(text, return_tensors='pt', max_length=128, truncation=True, padding='max_length').to(device)\n",
    "        with torch.no_grad():\n",
    "            outputs = model(**inputs, labels=inputs['input_ids'])\n",
    "            loss = outputs.loss\n",
    "            perplexity = torch.exp(loss).item()\n",
    "            perplexities.append(perplexity)\n",
    "    return perplexities\n",
    "\n",
    "\n",
    "class CNNModel(nn.Module):\n",
    "    def __init__(self):\n",
    "        super(CNNModel, self).__init__()\n",
    "        self.conv1 = nn.Conv1d(1, 100, kernel_size=3, padding=1)\n",
    "        self.relu = nn.ReLU()\n",
    "        self.pool = nn.MaxPool1d(2)\n",
    "        self.fc1 = nn.Linear(100 * (word2vec.vector_size // 2), 4)  # 4 classes in AG News\n",
    "\n",
    "    def forward(self, x):\n",
    "        x = x.unsqueeze(1)  # Add channel dimension\n",
    "        x = self.conv1(x)\n",
    "        x = self.relu(x)\n",
    "        x = self.pool(x)\n",
    "        x = x.view(x.size(0), -1)\n",
    "        x = self.fc1(x)\n",
    "        return x\n",
    "\n",
    "def train_and_evaluate(pruned_train_dataset):\n",
    "    train_loader = data.DataLoader(pruned_train_dataset, batch_size=64, shuffle=True)\n",
    "    model = CNNModel().to(device)\n",
    "    criterion = nn.CrossEntropyLoss()\n",
    "    optimizer = optim.Adam(model.parameters(), lr=0.001)\n",
    "    \n",
    "    # Training\n",
    "    print(\"Training CNN model...\")\n",
    "    for epoch in range(10):  # Fixed number of epochs for consistency\n",
    "        model.train()\n",
    "        for inputs, labels in tqdm(train_loader, desc=f\"Training CNN Epoch {epoch+1}\"):\n",
    "            inputs, labels = inputs.to(device), labels.to(device)\n",
    "            optimizer.zero_grad()\n",
    "            outputs = model(inputs)\n",
    "            loss = criterion(outputs, labels)\n",
    "            loss.backward()\n",
    "            optimizer.step()\n",
    "    \n",
    "    # Evaluate on train set\n",
    "    print(\"Evaluating on train set...\")\n",
    "    model.eval()\n",
    "    train_correct = 0\n",
    "    train_total = 0\n",
    "    with torch.no_grad():\n",
    "        for inputs, labels in tqdm(train_loader, desc=\"Evaluating Train Set\"):\n",
    "            inputs, labels = inputs.to(device), labels.to(device)\n",
    "            outputs = model(inputs)\n",
    "            _, predicted = torch.max(outputs.data, 1)\n",
    "            train_total += labels.size(0)\n",
    "            train_correct += (predicted == labels).sum().item()\n",
    "    train_accuracy = 100 * train_correct / train_total\n",
    "\n",
    "    # Evaluate on test set\n",
    "    print(\"Evaluating on test set...\")\n",
    "    test_correct = 0\n",
    "    test_total = 0\n",
    "    with torch.no_grad():\n",
    "        for inputs, labels in tqdm(test_loader, desc=\"Evaluating Test Set\"):\n",
    "            inputs, labels = inputs.to(device), labels.to(device)\n",
    "            outputs = model(inputs)\n",
    "            _, predicted = torch.max(outputs.data, 1)\n",
    "            test_total += labels.size(0)\n",
    "            test_correct += (predicted == labels).sum().item()\n",
    "    test_accuracy = 100 * test_correct / test_total\n",
    "    \n",
    "    return train_accuracy, test_accuracy\n"
   ]
  },
  {
   "cell_type": "code",
   "execution_count": 4,
   "id": "7579b7d9-7ee8-4fe3-823d-d91d6dc9f444",
   "metadata": {},
   "outputs": [
    {
     "name": "stdout",
     "output_type": "stream",
     "text": [
      "Loading AG News Dataset...\n",
      "Loading Word2Vec Embeddings...\n",
      "Training BERT language model...\n"
     ]
    },
    {
     "name": "stderr",
     "output_type": "stream",
     "text": [
      "Some weights of the model checkpoint at bert-base-uncased were not used when initializing BertForMaskedLM: ['cls.seq_relationship.bias', 'cls.seq_relationship.weight']\n",
      "- This IS expected if you are initializing BertForMaskedLM from the checkpoint of a model trained on another task or with another architecture (e.g. initializing a BertForSequenceClassification model from a BertForPreTraining model).\n",
      "- This IS NOT expected if you are initializing BertForMaskedLM from the checkpoint of a model that you expect to be exactly identical (initializing a BertForSequenceClassification model from a BertForSequenceClassification model).\n"
     ]
    },
    {
     "name": "stdout",
     "output_type": "stream",
     "text": [
      "Tokenizing and preparing data for the language model...\n",
      "Training the language model...\n"
     ]
    },
    {
     "name": "stderr",
     "output_type": "stream",
     "text": [
      "Training Epoch 1: 100%|█████████████████████████████████████████████████████████████████████████████████████████████████████████████████| 7500/7500 [55:12<00:00,  2.26it/s]\n",
      "Training Epoch 2: 100%|█████████████████████████████████████████████████████████████████████████████████████████████████████████████████| 7500/7500 [53:04<00:00,  2.36it/s]\n"
     ]
    },
    {
     "name": "stdout",
     "output_type": "stream",
     "text": [
      "Calculating perplexity for the training data...\n"
     ]
    },
    {
     "name": "stderr",
     "output_type": "stream",
     "text": [
      "Calculating Perplexity: 100%|███████████████████████████████████████████████████████████████████████████████████████████████████████| 120000/120000 [31:06<00:00, 64.29it/s]\n"
     ]
    },
    {
     "name": "stdout",
     "output_type": "stream",
     "text": [
      "Preparing test dataset...\n",
      "Starting pruning and evaluation for each threshold...\n",
      "Pruning dataset at 10% threshold...\n",
      "Training CNN model...\n"
     ]
    },
    {
     "name": "stderr",
     "output_type": "stream",
     "text": [
      "Training CNN Epoch 1: 100%|███████████████████████████████████████████████████████████████████████████████████████████████████████████████| 188/188 [00:08<00:00, 21.94it/s]\n",
      "Training CNN Epoch 2: 100%|███████████████████████████████████████████████████████████████████████████████████████████████████████████████| 188/188 [00:08<00:00, 22.62it/s]\n",
      "Training CNN Epoch 3: 100%|███████████████████████████████████████████████████████████████████████████████████████████████████████████████| 188/188 [00:08<00:00, 22.24it/s]\n",
      "Training CNN Epoch 4: 100%|███████████████████████████████████████████████████████████████████████████████████████████████████████████████| 188/188 [00:08<00:00, 22.57it/s]\n",
      "Training CNN Epoch 5: 100%|███████████████████████████████████████████████████████████████████████████████████████████████████████████████| 188/188 [00:08<00:00, 22.33it/s]\n",
      "Training CNN Epoch 6: 100%|███████████████████████████████████████████████████████████████████████████████████████████████████████████████| 188/188 [00:08<00:00, 22.50it/s]\n",
      "Training CNN Epoch 7: 100%|███████████████████████████████████████████████████████████████████████████████████████████████████████████████| 188/188 [00:08<00:00, 22.42it/s]\n",
      "Training CNN Epoch 8: 100%|███████████████████████████████████████████████████████████████████████████████████████████████████████████████| 188/188 [00:08<00:00, 22.41it/s]\n",
      "Training CNN Epoch 9: 100%|███████████████████████████████████████████████████████████████████████████████████████████████████████████████| 188/188 [00:08<00:00, 22.54it/s]\n",
      "Training CNN Epoch 10: 100%|██████████████████████████████████████████████████████████████████████████████████████████████████████████████| 188/188 [00:08<00:00, 22.75it/s]\n"
     ]
    },
    {
     "name": "stdout",
     "output_type": "stream",
     "text": [
      "Evaluating on train set...\n"
     ]
    },
    {
     "name": "stderr",
     "output_type": "stream",
     "text": [
      "Evaluating Train Set: 100%|███████████████████████████████████████████████████████████████████████████████████████████████████████████████| 188/188 [00:08<00:00, 23.30it/s]\n"
     ]
    },
    {
     "name": "stdout",
     "output_type": "stream",
     "text": [
      "Evaluating on test set...\n"
     ]
    },
    {
     "name": "stderr",
     "output_type": "stream",
     "text": [
      "Evaluating Test Set: 100%|████████████████████████████████████████████████████████████████████████████████████████████████████████████████| 119/119 [00:07<00:00, 15.87it/s]\n"
     ]
    },
    {
     "name": "stdout",
     "output_type": "stream",
     "text": [
      "Threshold 10%: Train Accuracy: 86.09%, Test Accuracy: 82.89%\n",
      "Pruning dataset at 20% threshold...\n",
      "Training CNN model...\n"
     ]
    },
    {
     "name": "stderr",
     "output_type": "stream",
     "text": [
      "Training CNN Epoch 1: 100%|███████████████████████████████████████████████████████████████████████████████████████████████████████████████| 375/375 [00:18<00:00, 20.76it/s]\n",
      "Training CNN Epoch 2: 100%|███████████████████████████████████████████████████████████████████████████████████████████████████████████████| 375/375 [00:18<00:00, 20.78it/s]\n",
      "Training CNN Epoch 3: 100%|███████████████████████████████████████████████████████████████████████████████████████████████████████████████| 375/375 [00:18<00:00, 20.75it/s]\n",
      "Training CNN Epoch 4: 100%|███████████████████████████████████████████████████████████████████████████████████████████████████████████████| 375/375 [00:18<00:00, 20.68it/s]\n",
      "Training CNN Epoch 5: 100%|███████████████████████████████████████████████████████████████████████████████████████████████████████████████| 375/375 [00:18<00:00, 20.80it/s]\n",
      "Training CNN Epoch 6: 100%|███████████████████████████████████████████████████████████████████████████████████████████████████████████████| 375/375 [00:18<00:00, 20.79it/s]\n",
      "Training CNN Epoch 7: 100%|███████████████████████████████████████████████████████████████████████████████████████████████████████████████| 375/375 [00:18<00:00, 20.66it/s]\n",
      "Training CNN Epoch 8: 100%|███████████████████████████████████████████████████████████████████████████████████████████████████████████████| 375/375 [00:18<00:00, 20.77it/s]\n",
      "Training CNN Epoch 9: 100%|███████████████████████████████████████████████████████████████████████████████████████████████████████████████| 375/375 [00:18<00:00, 20.83it/s]\n",
      "Training CNN Epoch 10: 100%|██████████████████████████████████████████████████████████████████████████████████████████████████████████████| 375/375 [00:17<00:00, 20.84it/s]\n"
     ]
    },
    {
     "name": "stdout",
     "output_type": "stream",
     "text": [
      "Evaluating on train set...\n"
     ]
    },
    {
     "name": "stderr",
     "output_type": "stream",
     "text": [
      "Evaluating Train Set: 100%|███████████████████████████████████████████████████████████████████████████████████████████████████████████████| 375/375 [00:17<00:00, 21.25it/s]\n"
     ]
    },
    {
     "name": "stdout",
     "output_type": "stream",
     "text": [
      "Evaluating on test set...\n"
     ]
    },
    {
     "name": "stderr",
     "output_type": "stream",
     "text": [
      "Evaluating Test Set: 100%|████████████████████████████████████████████████████████████████████████████████████████████████████████████████| 119/119 [00:07<00:00, 15.87it/s]\n"
     ]
    },
    {
     "name": "stdout",
     "output_type": "stream",
     "text": [
      "Threshold 20%: Train Accuracy: 87.30%, Test Accuracy: 86.63%\n",
      "Pruning dataset at 30% threshold...\n",
      "Training CNN model...\n"
     ]
    },
    {
     "name": "stderr",
     "output_type": "stream",
     "text": [
      "Training CNN Epoch 1: 100%|███████████████████████████████████████████████████████████████████████████████████████████████████████████████| 563/563 [00:28<00:00, 19.68it/s]\n",
      "Training CNN Epoch 2: 100%|███████████████████████████████████████████████████████████████████████████████████████████████████████████████| 563/563 [00:28<00:00, 19.63it/s]\n",
      "Training CNN Epoch 3: 100%|███████████████████████████████████████████████████████████████████████████████████████████████████████████████| 563/563 [00:28<00:00, 19.67it/s]\n",
      "Training CNN Epoch 4: 100%|███████████████████████████████████████████████████████████████████████████████████████████████████████████████| 563/563 [00:28<00:00, 19.59it/s]\n",
      "Training CNN Epoch 5: 100%|███████████████████████████████████████████████████████████████████████████████████████████████████████████████| 563/563 [00:28<00:00, 19.69it/s]\n",
      "Training CNN Epoch 6: 100%|███████████████████████████████████████████████████████████████████████████████████████████████████████████████| 563/563 [00:28<00:00, 19.59it/s]\n",
      "Training CNN Epoch 7: 100%|███████████████████████████████████████████████████████████████████████████████████████████████████████████████| 563/563 [00:28<00:00, 19.68it/s]\n",
      "Training CNN Epoch 8: 100%|███████████████████████████████████████████████████████████████████████████████████████████████████████████████| 563/563 [00:28<00:00, 19.65it/s]\n",
      "Training CNN Epoch 9: 100%|███████████████████████████████████████████████████████████████████████████████████████████████████████████████| 563/563 [00:28<00:00, 19.78it/s]\n",
      "Training CNN Epoch 10: 100%|██████████████████████████████████████████████████████████████████████████████████████████████████████████████| 563/563 [00:28<00:00, 19.71it/s]\n"
     ]
    },
    {
     "name": "stdout",
     "output_type": "stream",
     "text": [
      "Evaluating on train set...\n"
     ]
    },
    {
     "name": "stderr",
     "output_type": "stream",
     "text": [
      "Evaluating Train Set: 100%|███████████████████████████████████████████████████████████████████████████████████████████████████████████████| 563/563 [00:27<00:00, 20.22it/s]\n"
     ]
    },
    {
     "name": "stdout",
     "output_type": "stream",
     "text": [
      "Evaluating on test set...\n"
     ]
    },
    {
     "name": "stderr",
     "output_type": "stream",
     "text": [
      "Evaluating Test Set: 100%|████████████████████████████████████████████████████████████████████████████████████████████████████████████████| 119/119 [00:07<00:00, 15.81it/s]\n"
     ]
    },
    {
     "name": "stdout",
     "output_type": "stream",
     "text": [
      "Threshold 30%: Train Accuracy: 88.41%, Test Accuracy: 87.22%\n",
      "Pruning dataset at 40% threshold...\n",
      "Training CNN model...\n"
     ]
    },
    {
     "name": "stderr",
     "output_type": "stream",
     "text": [
      "Training CNN Epoch 1: 100%|███████████████████████████████████████████████████████████████████████████████████████████████████████████████| 750/750 [00:39<00:00, 18.88it/s]\n",
      "Training CNN Epoch 2: 100%|███████████████████████████████████████████████████████████████████████████████████████████████████████████████| 750/750 [00:39<00:00, 18.94it/s]\n",
      "Training CNN Epoch 3: 100%|███████████████████████████████████████████████████████████████████████████████████████████████████████████████| 750/750 [00:39<00:00, 18.92it/s]\n",
      "Training CNN Epoch 4: 100%|███████████████████████████████████████████████████████████████████████████████████████████████████████████████| 750/750 [00:39<00:00, 18.87it/s]\n",
      "Training CNN Epoch 5: 100%|███████████████████████████████████████████████████████████████████████████████████████████████████████████████| 750/750 [00:39<00:00, 18.84it/s]\n",
      "Training CNN Epoch 6: 100%|███████████████████████████████████████████████████████████████████████████████████████████████████████████████| 750/750 [00:39<00:00, 18.85it/s]\n",
      "Training CNN Epoch 7: 100%|███████████████████████████████████████████████████████████████████████████████████████████████████████████████| 750/750 [00:39<00:00, 18.83it/s]\n",
      "Training CNN Epoch 8: 100%|███████████████████████████████████████████████████████████████████████████████████████████████████████████████| 750/750 [00:39<00:00, 18.82it/s]\n",
      "Training CNN Epoch 9: 100%|███████████████████████████████████████████████████████████████████████████████████████████████████████████████| 750/750 [00:40<00:00, 18.69it/s]\n",
      "Training CNN Epoch 10: 100%|██████████████████████████████████████████████████████████████████████████████████████████████████████████████| 750/750 [00:39<00:00, 18.79it/s]\n"
     ]
    },
    {
     "name": "stdout",
     "output_type": "stream",
     "text": [
      "Evaluating on train set...\n"
     ]
    },
    {
     "name": "stderr",
     "output_type": "stream",
     "text": [
      "Evaluating Train Set: 100%|███████████████████████████████████████████████████████████████████████████████████████████████████████████████| 750/750 [00:38<00:00, 19.23it/s]\n"
     ]
    },
    {
     "name": "stdout",
     "output_type": "stream",
     "text": [
      "Evaluating on test set...\n"
     ]
    },
    {
     "name": "stderr",
     "output_type": "stream",
     "text": [
      "Evaluating Test Set: 100%|████████████████████████████████████████████████████████████████████████████████████████████████████████████████| 119/119 [00:07<00:00, 15.90it/s]\n"
     ]
    },
    {
     "name": "stdout",
     "output_type": "stream",
     "text": [
      "Threshold 40%: Train Accuracy: 88.69%, Test Accuracy: 87.17%\n",
      "Pruning dataset at 50% threshold...\n",
      "Training CNN model...\n"
     ]
    },
    {
     "name": "stderr",
     "output_type": "stream",
     "text": [
      "Training CNN Epoch 1: 100%|███████████████████████████████████████████████████████████████████████████████████████████████████████████████| 938/938 [00:51<00:00, 18.27it/s]\n",
      "Training CNN Epoch 2: 100%|███████████████████████████████████████████████████████████████████████████████████████████████████████████████| 938/938 [00:51<00:00, 18.27it/s]\n",
      "Training CNN Epoch 3: 100%|███████████████████████████████████████████████████████████████████████████████████████████████████████████████| 938/938 [00:50<00:00, 18.45it/s]\n",
      "Training CNN Epoch 4: 100%|███████████████████████████████████████████████████████████████████████████████████████████████████████████████| 938/938 [00:50<00:00, 18.39it/s]\n",
      "Training CNN Epoch 5: 100%|███████████████████████████████████████████████████████████████████████████████████████████████████████████████| 938/938 [00:51<00:00, 18.37it/s]\n",
      "Training CNN Epoch 6: 100%|███████████████████████████████████████████████████████████████████████████████████████████████████████████████| 938/938 [00:51<00:00, 18.27it/s]\n",
      "Training CNN Epoch 7: 100%|███████████████████████████████████████████████████████████████████████████████████████████████████████████████| 938/938 [00:51<00:00, 18.30it/s]\n",
      "Training CNN Epoch 8: 100%|███████████████████████████████████████████████████████████████████████████████████████████████████████████████| 938/938 [00:51<00:00, 18.31it/s]\n",
      "Training CNN Epoch 9: 100%|███████████████████████████████████████████████████████████████████████████████████████████████████████████████| 938/938 [00:51<00:00, 18.24it/s]\n",
      "Training CNN Epoch 10: 100%|██████████████████████████████████████████████████████████████████████████████████████████████████████████████| 938/938 [00:52<00:00, 18.00it/s]\n"
     ]
    },
    {
     "name": "stdout",
     "output_type": "stream",
     "text": [
      "Evaluating on train set...\n"
     ]
    },
    {
     "name": "stderr",
     "output_type": "stream",
     "text": [
      "Evaluating Train Set: 100%|███████████████████████████████████████████████████████████████████████████████████████████████████████████████| 938/938 [00:50<00:00, 18.54it/s]\n"
     ]
    },
    {
     "name": "stdout",
     "output_type": "stream",
     "text": [
      "Evaluating on test set...\n"
     ]
    },
    {
     "name": "stderr",
     "output_type": "stream",
     "text": [
      "Evaluating Test Set: 100%|████████████████████████████████████████████████████████████████████████████████████████████████████████████████| 119/119 [00:07<00:00, 15.94it/s]\n"
     ]
    },
    {
     "name": "stdout",
     "output_type": "stream",
     "text": [
      "Threshold 50%: Train Accuracy: 89.31%, Test Accuracy: 87.63%\n",
      "Pruning dataset at 60% threshold...\n",
      "Training CNN model...\n"
     ]
    },
    {
     "name": "stderr",
     "output_type": "stream",
     "text": [
      "Training CNN Epoch 1: 100%|█████████████████████████████████████████████████████████████████████████████████████████████████████████████| 1125/1125 [01:04<00:00, 17.50it/s]\n",
      "Training CNN Epoch 2: 100%|█████████████████████████████████████████████████████████████████████████████████████████████████████████████| 1125/1125 [01:03<00:00, 17.65it/s]\n",
      "Training CNN Epoch 3: 100%|█████████████████████████████████████████████████████████████████████████████████████████████████████████████| 1125/1125 [01:03<00:00, 17.67it/s]\n",
      "Training CNN Epoch 4: 100%|█████████████████████████████████████████████████████████████████████████████████████████████████████████████| 1125/1125 [01:04<00:00, 17.49it/s]\n",
      "Training CNN Epoch 5: 100%|█████████████████████████████████████████████████████████████████████████████████████████████████████████████| 1125/1125 [01:03<00:00, 17.60it/s]\n",
      "Training CNN Epoch 6: 100%|█████████████████████████████████████████████████████████████████████████████████████████████████████████████| 1125/1125 [01:04<00:00, 17.46it/s]\n",
      "Training CNN Epoch 7: 100%|█████████████████████████████████████████████████████████████████████████████████████████████████████████████| 1125/1125 [01:04<00:00, 17.47it/s]\n",
      "Training CNN Epoch 8: 100%|█████████████████████████████████████████████████████████████████████████████████████████████████████████████| 1125/1125 [01:04<00:00, 17.48it/s]\n",
      "Training CNN Epoch 9: 100%|█████████████████████████████████████████████████████████████████████████████████████████████████████████████| 1125/1125 [01:04<00:00, 17.48it/s]\n",
      "Training CNN Epoch 10: 100%|████████████████████████████████████████████████████████████████████████████████████████████████████████████| 1125/1125 [01:04<00:00, 17.57it/s]\n"
     ]
    },
    {
     "name": "stdout",
     "output_type": "stream",
     "text": [
      "Evaluating on train set...\n"
     ]
    },
    {
     "name": "stderr",
     "output_type": "stream",
     "text": [
      "Evaluating Train Set: 100%|█████████████████████████████████████████████████████████████████████████████████████████████████████████████| 1125/1125 [01:03<00:00, 17.73it/s]\n"
     ]
    },
    {
     "name": "stdout",
     "output_type": "stream",
     "text": [
      "Evaluating on test set...\n"
     ]
    },
    {
     "name": "stderr",
     "output_type": "stream",
     "text": [
      "Evaluating Test Set: 100%|████████████████████████████████████████████████████████████████████████████████████████████████████████████████| 119/119 [00:07<00:00, 15.61it/s]\n"
     ]
    },
    {
     "name": "stdout",
     "output_type": "stream",
     "text": [
      "Threshold 60%: Train Accuracy: 89.32%, Test Accuracy: 87.49%\n",
      "Pruning dataset at 70% threshold...\n",
      "Training CNN model...\n"
     ]
    },
    {
     "name": "stderr",
     "output_type": "stream",
     "text": [
      "Training CNN Epoch 1: 100%|█████████████████████████████████████████████████████████████████████████████████████████████████████████████| 1313/1313 [01:17<00:00, 17.00it/s]\n",
      "Training CNN Epoch 2: 100%|█████████████████████████████████████████████████████████████████████████████████████████████████████████████| 1313/1313 [01:17<00:00, 17.04it/s]\n",
      "Training CNN Epoch 3: 100%|█████████████████████████████████████████████████████████████████████████████████████████████████████████████| 1313/1313 [01:16<00:00, 17.08it/s]\n",
      "Training CNN Epoch 4: 100%|█████████████████████████████████████████████████████████████████████████████████████████████████████████████| 1313/1313 [01:18<00:00, 16.77it/s]\n",
      "Training CNN Epoch 5: 100%|█████████████████████████████████████████████████████████████████████████████████████████████████████████████| 1313/1313 [01:16<00:00, 17.12it/s]\n",
      "Training CNN Epoch 6: 100%|█████████████████████████████████████████████████████████████████████████████████████████████████████████████| 1313/1313 [01:17<00:00, 16.99it/s]\n",
      "Training CNN Epoch 7: 100%|█████████████████████████████████████████████████████████████████████████████████████████████████████████████| 1313/1313 [01:16<00:00, 17.06it/s]\n",
      "Training CNN Epoch 8: 100%|█████████████████████████████████████████████████████████████████████████████████████████████████████████████| 1313/1313 [01:17<00:00, 17.03it/s]\n",
      "Training CNN Epoch 9: 100%|█████████████████████████████████████████████████████████████████████████████████████████████████████████████| 1313/1313 [01:16<00:00, 17.13it/s]\n",
      "Training CNN Epoch 10: 100%|████████████████████████████████████████████████████████████████████████████████████████████████████████████| 1313/1313 [01:17<00:00, 16.97it/s]\n"
     ]
    },
    {
     "name": "stdout",
     "output_type": "stream",
     "text": [
      "Evaluating on train set...\n"
     ]
    },
    {
     "name": "stderr",
     "output_type": "stream",
     "text": [
      "Evaluating Train Set: 100%|█████████████████████████████████████████████████████████████████████████████████████████████████████████████| 1313/1313 [01:17<00:00, 16.90it/s]\n"
     ]
    },
    {
     "name": "stdout",
     "output_type": "stream",
     "text": [
      "Evaluating on test set...\n"
     ]
    },
    {
     "name": "stderr",
     "output_type": "stream",
     "text": [
      "Evaluating Test Set: 100%|████████████████████████████████████████████████████████████████████████████████████████████████████████████████| 119/119 [00:07<00:00, 15.40it/s]\n"
     ]
    },
    {
     "name": "stdout",
     "output_type": "stream",
     "text": [
      "Threshold 70%: Train Accuracy: 90.01%, Test Accuracy: 88.09%\n",
      "Pruning dataset at 80% threshold...\n",
      "Training CNN model...\n"
     ]
    },
    {
     "name": "stderr",
     "output_type": "stream",
     "text": [
      "Training CNN Epoch 1: 100%|█████████████████████████████████████████████████████████████████████████████████████████████████████████████| 1500/1500 [01:31<00:00, 16.42it/s]\n",
      "Training CNN Epoch 2: 100%|█████████████████████████████████████████████████████████████████████████████████████████████████████████████| 1500/1500 [01:31<00:00, 16.45it/s]\n",
      "Training CNN Epoch 3: 100%|█████████████████████████████████████████████████████████████████████████████████████████████████████████████| 1500/1500 [01:31<00:00, 16.35it/s]\n",
      "Training CNN Epoch 4: 100%|█████████████████████████████████████████████████████████████████████████████████████████████████████████████| 1500/1500 [01:30<00:00, 16.50it/s]\n",
      "Training CNN Epoch 5: 100%|█████████████████████████████████████████████████████████████████████████████████████████████████████████████| 1500/1500 [01:30<00:00, 16.49it/s]\n",
      "Training CNN Epoch 6: 100%|█████████████████████████████████████████████████████████████████████████████████████████████████████████████| 1500/1500 [01:29<00:00, 16.67it/s]\n",
      "Training CNN Epoch 7: 100%|█████████████████████████████████████████████████████████████████████████████████████████████████████████████| 1500/1500 [01:29<00:00, 16.77it/s]\n",
      "Training CNN Epoch 8: 100%|█████████████████████████████████████████████████████████████████████████████████████████████████████████████| 1500/1500 [01:29<00:00, 16.74it/s]\n",
      "Training CNN Epoch 9: 100%|█████████████████████████████████████████████████████████████████████████████████████████████████████████████| 1500/1500 [01:29<00:00, 16.74it/s]\n",
      "Training CNN Epoch 10: 100%|████████████████████████████████████████████████████████████████████████████████████████████████████████████| 1500/1500 [01:29<00:00, 16.68it/s]\n"
     ]
    },
    {
     "name": "stdout",
     "output_type": "stream",
     "text": [
      "Evaluating on train set...\n"
     ]
    },
    {
     "name": "stderr",
     "output_type": "stream",
     "text": [
      "Evaluating Train Set: 100%|█████████████████████████████████████████████████████████████████████████████████████████████████████████████| 1500/1500 [01:28<00:00, 17.02it/s]\n"
     ]
    },
    {
     "name": "stdout",
     "output_type": "stream",
     "text": [
      "Evaluating on test set...\n"
     ]
    },
    {
     "name": "stderr",
     "output_type": "stream",
     "text": [
      "Evaluating Test Set: 100%|████████████████████████████████████████████████████████████████████████████████████████████████████████████████| 119/119 [00:07<00:00, 15.82it/s]\n"
     ]
    },
    {
     "name": "stdout",
     "output_type": "stream",
     "text": [
      "Threshold 80%: Train Accuracy: 90.03%, Test Accuracy: 87.99%\n",
      "Pruning dataset at 90% threshold...\n",
      "Training CNN model...\n"
     ]
    },
    {
     "name": "stderr",
     "output_type": "stream",
     "text": [
      "Training CNN Epoch 1: 100%|█████████████████████████████████████████████████████████████████████████████████████████████████████████████| 1688/1688 [01:43<00:00, 16.24it/s]\n",
      "Training CNN Epoch 2: 100%|█████████████████████████████████████████████████████████████████████████████████████████████████████████████| 1688/1688 [01:45<00:00, 15.96it/s]\n",
      "Training CNN Epoch 3: 100%|█████████████████████████████████████████████████████████████████████████████████████████████████████████████| 1688/1688 [01:44<00:00, 16.22it/s]\n",
      "Training CNN Epoch 4: 100%|█████████████████████████████████████████████████████████████████████████████████████████████████████████████| 1688/1688 [01:45<00:00, 16.07it/s]\n",
      "Training CNN Epoch 5: 100%|█████████████████████████████████████████████████████████████████████████████████████████████████████████████| 1688/1688 [01:44<00:00, 16.21it/s]\n",
      "Training CNN Epoch 6: 100%|█████████████████████████████████████████████████████████████████████████████████████████████████████████████| 1688/1688 [01:45<00:00, 15.98it/s]\n",
      "Training CNN Epoch 7: 100%|█████████████████████████████████████████████████████████████████████████████████████████████████████████████| 1688/1688 [01:43<00:00, 16.26it/s]\n",
      "Training CNN Epoch 8: 100%|█████████████████████████████████████████████████████████████████████████████████████████████████████████████| 1688/1688 [01:43<00:00, 16.25it/s]\n",
      "Training CNN Epoch 9: 100%|█████████████████████████████████████████████████████████████████████████████████████████████████████████████| 1688/1688 [01:44<00:00, 16.18it/s]\n",
      "Training CNN Epoch 10: 100%|████████████████████████████████████████████████████████████████████████████████████████████████████████████| 1688/1688 [01:46<00:00, 15.92it/s]\n"
     ]
    },
    {
     "name": "stdout",
     "output_type": "stream",
     "text": [
      "Evaluating on train set...\n"
     ]
    },
    {
     "name": "stderr",
     "output_type": "stream",
     "text": [
      "Evaluating Train Set: 100%|█████████████████████████████████████████████████████████████████████████████████████████████████████████████| 1688/1688 [01:42<00:00, 16.48it/s]\n"
     ]
    },
    {
     "name": "stdout",
     "output_type": "stream",
     "text": [
      "Evaluating on test set...\n"
     ]
    },
    {
     "name": "stderr",
     "output_type": "stream",
     "text": [
      "Evaluating Test Set: 100%|████████████████████████████████████████████████████████████████████████████████████████████████████████████████| 119/119 [00:07<00:00, 15.77it/s]\n"
     ]
    },
    {
     "name": "stdout",
     "output_type": "stream",
     "text": [
      "Threshold 90%: Train Accuracy: 90.29%, Test Accuracy: 88.91%\n",
      "Plotting the results...\n"
     ]
    },
    {
     "data": {
      "image/png": "[encoded data removed]",
      "text/plain": [
       "<Figure size 1000x600 with 1 Axes>"
      ]
     },
     "metadata": {},
     "output_type": "display_data"
    }
   ],
   "source": [
    "# Train a language model to get perplexity scores\n",
    "print(\"Training BERT language model...\")\n",
    "lm_model = BertForMaskedLM.from_pretrained('bert-base-uncased').to(device)\n",
    "lm_model.train()\n",
    "optimizer = optim.Adam(lm_model.parameters(), lr=0.001)\n",
    "train_texts = [item['text'] for item in dataset['train']]\n",
    "train_labels = [item['label'] for item in dataset['train']]\n",
    "\n",
    "# Tokenize and prepare data for the language model\n",
    "print(\"Tokenizing and preparing data for the language model...\")\n",
    "lm_dataset = tokenizer(train_texts, padding='max_length', truncation=True, return_tensors='pt', max_length=128)\n",
    "lm_dataset = data.TensorDataset(lm_dataset['input_ids'], lm_dataset['attention_mask'], torch.tensor(train_labels))\n",
    "lm_loader = data.DataLoader(lm_dataset, batch_size=16, shuffle=True)\n",
    "\n",
    "# Train the language model\n",
    "print(\"Training the language model...\")\n",
    "for epoch in range(2):  # Short training for demonstration purposes\n",
    "    for inputs, masks, _ in tqdm(lm_loader, desc=f\"Training Epoch {epoch+1}\"):\n",
    "        optimizer.zero_grad()\n",
    "        inputs, masks = inputs.to(device), masks.to(device)\n",
    "        outputs = lm_model(input_ids=inputs, attention_mask=masks, labels=inputs)\n",
    "        loss = outputs.loss\n",
    "        loss.backward()\n",
    "        optimizer.step()\n",
    "\n",
    "\n",
    "# Calculate perplexity for the training data\n",
    "print(\"Calculating perplexity for the training data...\")\n",
    "train_perplexities = calculate_perplexity(train_texts, tokenizer, lm_model)\n",
    "\n",
    "# Prepare test dataset\n",
    "print(\"Preparing test dataset...\")\n",
    "test_texts = [item['text'] for item in dataset['test']]\n",
    "test_labels = [item['label'] for item in dataset['test']]\n",
    "test_dataset = AGNewsDataset(test_texts, test_labels)\n",
    "test_loader = data.DataLoader(test_dataset, batch_size=64, shuffle=False)\n",
    "\n",
    "\n",
    "thresholds = np.arange(10, 100, 10)\n",
    "train_accuracies = []\n",
    "test_accuracies = []\n",
    "\n",
    "print(\"Starting pruning and evaluation for each threshold...\")\n",
    "for threshold in thresholds:\n",
    "    print(f\"Pruning dataset at {threshold}% threshold...\")\n",
    "    pruned_indices = []\n",
    "    for class_label in range(4): \n",
    "        class_indices = [i for i, label in enumerate(train_labels) if label == class_label]\n",
    "        class_perplexities = [train_perplexities[i] for i in class_indices]\n",
    "        class_threshold = np.percentile(class_perplexities, threshold)\n",
    "        pruned_class_indices = [class_indices[i] for i, perplexity in enumerate(class_perplexities) if perplexity <= class_threshold]\n",
    "        pruned_indices.extend(pruned_class_indices)\n",
    "    \n",
    "    pruned_train_texts = [train_texts[i] for i in pruned_indices]\n",
    "    pruned_train_labels = [train_labels[i] for i in pruned_indices]\n",
    "    pruned_train_dataset = AGNewsDataset(pruned_train_texts, pruned_train_labels)\n",
    "    \n",
    "    train_acc, test_acc = train_and_evaluate(pruned_train_dataset)\n",
    "    train_accuracies.append(train_acc)\n",
    "    test_accuracies.append(test_acc)\n",
    "    print(f'Threshold {threshold}%: Train Accuracy: {train_acc:.2f}%, Test Accuracy: {test_acc:.2f}%')\n",
    "\n",
    "# Plotting the results\n",
    "print(\"Plotting the results...\")\n",
    "plt.figure(figsize=(10, 6))\n",
    "plt.plot(thresholds, train_accuracies, label='Train Accuracy')\n",
    "plt.plot(thresholds, test_accuracies, label='Test Accuracy')\n",
    "plt.xlabel('Perplexity Threshold (%)')\n",
    "plt.ylabel('Accuracy (%)')\n",
    "plt.title('Accuracy vs. Perplexity Threshold')\n",
    "plt.legend()\n",
    "plt.grid(True)\n",
    "plt.show()\n"
   ]
  },
  {
   "cell_type": "code",
   "execution_count": 5,
   "id": "eb2046bf-41d4-4ce9-98e7-a0deb25f0799",
   "metadata": {},
   "outputs": [
    {
     "name": "stdout",
     "output_type": "stream",
     "text": [
      "Plotting the results...\n"
     ]
    },
    {
     "data": {
      "image/png": "[encoded data removed]",
      "text/plain": [
       "<Figure size 1000x600 with 1 Axes>"
      ]
     },
     "metadata": {},
     "output_type": "display_data"
    }
   ],
   "source": [
    "# Plotting the results\n",
    "print(\"Plotting the results...\")\n",
    "plt.figure(figsize=(10, 6))\n",
    "plt.plot(thresholds, train_accuracies, label='Train Accuracy')\n",
    "plt.plot(thresholds, test_accuracies, label='Test Accuracy')\n",
    "plt.xlabel('Perplexity Threshold (%)')\n",
    "plt.ylabel('Accuracy (%)')\n",
    "plt.title('Accuracy vs. Perplexity Threshold')\n",
    "plt.legend()\n",
    "plt.grid(True)\n",
    "plt.show()"
   ]
  },
  {
   "cell_type": "code",
   "execution_count": 13,
   "id": "93ec098b-9b38-49e9-ac9d-56a16bde5823",
   "metadata": {},
   "outputs": [
    {
     "name": "stdout",
     "output_type": "stream",
     "text": [
      "Pruning dataset at 0.0016666666666666668% threshold...\n",
      "Training CNN model...\n"
     ]
    },
    {
     "name": "stderr",
     "output_type": "stream",
     "text": [
      "Training CNN Epoch 1: 100%|██████████████████████████████████████████████████████████████████████████████████████████████████████████████████| 1/1 [00:00<00:00, 130.85it/s]\n",
      "Training CNN Epoch 2: 100%|██████████████████████████████████████████████████████████████████████████████████████████████████████████████████| 1/1 [00:00<00:00, 153.55it/s]\n",
      "Training CNN Epoch 3: 100%|██████████████████████████████████████████████████████████████████████████████████████████████████████████████████| 1/1 [00:00<00:00, 146.70it/s]\n",
      "Training CNN Epoch 4: 100%|██████████████████████████████████████████████████████████████████████████████████████████████████████████████████| 1/1 [00:00<00:00, 148.61it/s]\n",
      "Training CNN Epoch 5: 100%|██████████████████████████████████████████████████████████████████████████████████████████████████████████████████| 1/1 [00:00<00:00, 147.98it/s]\n",
      "Training CNN Epoch 6: 100%|██████████████████████████████████████████████████████████████████████████████████████████████████████████████████| 1/1 [00:00<00:00, 149.14it/s]\n",
      "Training CNN Epoch 7: 100%|██████████████████████████████████████████████████████████████████████████████████████████████████████████████████| 1/1 [00:00<00:00, 142.25it/s]\n",
      "Training CNN Epoch 8: 100%|██████████████████████████████████████████████████████████████████████████████████████████████████████████████████| 1/1 [00:00<00:00, 141.37it/s]\n",
      "Training CNN Epoch 9: 100%|██████████████████████████████████████████████████████████████████████████████████████████████████████████████████| 1/1 [00:00<00:00, 116.96it/s]\n",
      "Training CNN Epoch 10: 100%|█████████████████████████████████████████████████████████████████████████████████████████████████████████████████| 1/1 [00:00<00:00, 148.44it/s]\n"
     ]
    },
    {
     "name": "stdout",
     "output_type": "stream",
     "text": [
      "Evaluating on train set...\n"
     ]
    },
    {
     "name": "stderr",
     "output_type": "stream",
     "text": [
      "Evaluating Train Set: 100%|██████████████████████████████████████████████████████████████████████████████████████████████████████████████████| 1/1 [00:00<00:00, 160.89it/s]\n"
     ]
    },
    {
     "name": "stdout",
     "output_type": "stream",
     "text": [
      "Evaluating on test set...\n"
     ]
    },
    {
     "name": "stderr",
     "output_type": "stream",
     "text": [
      "Evaluating Test Set: 100%|████████████████████████████████████████████████████████████████████████████████████████████████████████████████| 119/119 [00:07<00:00, 15.35it/s]"
     ]
    },
    {
     "name": "stdout",
     "output_type": "stream",
     "text": [
      "Threshold 0.0016666666666666668%: Train Accuracy: 50.00%, Test Accuracy: 25.00%\n"
     ]
    },
    {
     "name": "stderr",
     "output_type": "stream",
     "text": [
      "\n"
     ]
    }
   ],
   "source": [
    "threshold = 0.0016666666666666668\n",
    "print(f\"Pruning dataset at {threshold}% threshold...\")\n",
    "pruned_indices = []\n",
    "for class_label in range(4):  # Assuming there are 4 classes\n",
    "    class_indices = [i for i, label in enumerate(train_labels) if label == class_label]\n",
    "    class_perplexities = [train_perplexities[i] for i in class_indices]\n",
    "    class_threshold = np.percentile(class_perplexities, threshold)\n",
    "    pruned_class_indices = [class_indices[i] for i, perplexity in enumerate(class_perplexities) if perplexity <= class_threshold]\n",
    "    pruned_indices.extend(pruned_class_indices)\n",
    "\n",
    "pruned_train_texts = [train_texts[i] for i in pruned_indices]\n",
    "pruned_train_labels = [train_labels[i] for i in pruned_indices]\n",
    "pruned_train_dataset = AGNewsDataset(pruned_train_texts, pruned_train_labels)\n",
    "\n",
    "train_acc, test_acc = train_and_evaluate(pruned_train_dataset)\n",
    "train_accuracies.append(train_acc)\n",
    "test_accuracies.append(test_acc)\n",
    "print(f'Threshold {threshold}%: Train Accuracy: {train_acc:.2f}%, Test Accuracy: {test_acc:.2f}%')"
   ]
  },
  {
   "cell_type": "code",
   "execution_count": 17,
   "id": "f3a19bf1-6524-4af9-881e-550a5eb3f497",
   "metadata": {},
   "outputs": [
    {
     "name": "stdout",
     "output_type": "stream",
     "text": [
      "Pruning dataset at 2% threshold...\n",
      "600\n",
      "600\n",
      "600\n",
      "600\n",
      "Training CNN model...\n"
     ]
    },
    {
     "name": "stderr",
     "output_type": "stream",
     "text": [
      "Training CNN Epoch 1: 100%|█████████████████████████████████████████████████████████████████████████████████████████████████████████████████| 38/38 [00:01<00:00, 24.07it/s]\n",
      "Training CNN Epoch 2: 100%|█████████████████████████████████████████████████████████████████████████████████████████████████████████████████| 38/38 [00:01<00:00, 25.48it/s]\n",
      "Training CNN Epoch 3: 100%|█████████████████████████████████████████████████████████████████████████████████████████████████████████████████| 38/38 [00:01<00:00, 25.97it/s]\n",
      "Training CNN Epoch 4: 100%|█████████████████████████████████████████████████████████████████████████████████████████████████████████████████| 38/38 [00:01<00:00, 25.97it/s]\n",
      "Training CNN Epoch 5: 100%|█████████████████████████████████████████████████████████████████████████████████████████████████████████████████| 38/38 [00:01<00:00, 26.03it/s]\n",
      "Training CNN Epoch 6: 100%|█████████████████████████████████████████████████████████████████████████████████████████████████████████████████| 38/38 [00:01<00:00, 26.04it/s]\n",
      "Training CNN Epoch 7: 100%|█████████████████████████████████████████████████████████████████████████████████████████████████████████████████| 38/38 [00:01<00:00, 25.89it/s]\n",
      "Training CNN Epoch 8: 100%|█████████████████████████████████████████████████████████████████████████████████████████████████████████████████| 38/38 [00:01<00:00, 25.59it/s]\n",
      "Training CNN Epoch 9: 100%|█████████████████████████████████████████████████████████████████████████████████████████████████████████████████| 38/38 [00:01<00:00, 25.38it/s]\n",
      "Training CNN Epoch 10: 100%|████████████████████████████████████████████████████████████████████████████████████████████████████████████████| 38/38 [00:01<00:00, 25.87it/s]\n"
     ]
    },
    {
     "name": "stdout",
     "output_type": "stream",
     "text": [
      "Evaluating on train set...\n"
     ]
    },
    {
     "name": "stderr",
     "output_type": "stream",
     "text": [
      "Evaluating Train Set: 100%|█████████████████████████████████████████████████████████████████████████████████████████████████████████████████| 38/38 [00:01<00:00, 26.62it/s]\n"
     ]
    },
    {
     "name": "stdout",
     "output_type": "stream",
     "text": [
      "Evaluating on test set...\n"
     ]
    },
    {
     "name": "stderr",
     "output_type": "stream",
     "text": [
      "Evaluating Test Set: 100%|████████████████████████████████████████████████████████████████████████████████████████████████████████████████| 119/119 [00:07<00:00, 15.46it/s]"
     ]
    },
    {
     "name": "stdout",
     "output_type": "stream",
     "text": [
      "Threshold 2%: Train Accuracy: 84.25%, Test Accuracy: 80.34%\n"
     ]
    },
    {
     "name": "stderr",
     "output_type": "stream",
     "text": [
      "\n"
     ]
    }
   ],
   "source": [
    "threshold = 2\n",
    "print(f\"Pruning dataset at {threshold}% threshold...\")\n",
    "pruned_indices = []\n",
    "for class_label in range(4):  # Assuming there are 4 classes\n",
    "    class_indices = [i for i, label in enumerate(train_labels) if label == class_label]\n",
    "    class_perplexities = [train_perplexities[i] for i in class_indices]\n",
    "    class_threshold = np.percentile(class_perplexities, threshold)\n",
    "    pruned_class_indices = [class_indices[i] for i, perplexity in enumerate(class_perplexities) if perplexity <= class_threshold]\n",
    "    print(len(pruned_class_indices))\n",
    "    pruned_indices.extend(pruned_class_indices)\n",
    "\n",
    "pruned_train_texts = [train_texts[i] for i in pruned_indices]\n",
    "pruned_train_labels = [train_labels[i] for i in pruned_indices]\n",
    "pruned_train_dataset = AGNewsDataset(pruned_train_texts, pruned_train_labels)\n",
    "\n",
    "train_acc, test_acc = train_and_evaluate(pruned_train_dataset)\n",
    "train_accuracies.append(train_acc)\n",
    "test_accuracies.append(test_acc)\n",
    "print(f'Threshold {threshold}%: Train Accuracy: {train_acc:.2f}%, Test Accuracy: {test_acc:.2f}%')"
   ]
  },
  {
   "cell_type": "code",
   "execution_count": 18,
   "id": "982a9db7-52c0-4da7-b6d3-e61125f26132",
   "metadata": {},
   "outputs": [
    {
     "name": "stdout",
     "output_type": "stream",
     "text": [
      "Pruning dataset at 1.6666666666666667% threshold...\n",
      "500\n",
      "500\n",
      "500\n",
      "500\n",
      "Training CNN model...\n"
     ]
    },
    {
     "name": "stderr",
     "output_type": "stream",
     "text": [
      "Training CNN Epoch 1: 100%|█████████████████████████████████████████████████████████████████████████████████████████████████████████████████| 32/32 [00:01<00:00, 25.07it/s]\n",
      "Training CNN Epoch 2: 100%|█████████████████████████████████████████████████████████████████████████████████████████████████████████████████| 32/32 [00:01<00:00, 26.52it/s]\n",
      "Training CNN Epoch 3: 100%|█████████████████████████████████████████████████████████████████████████████████████████████████████████████████| 32/32 [00:01<00:00, 26.38it/s]\n",
      "Training CNN Epoch 4: 100%|█████████████████████████████████████████████████████████████████████████████████████████████████████████████████| 32/32 [00:01<00:00, 26.49it/s]\n",
      "Training CNN Epoch 5: 100%|█████████████████████████████████████████████████████████████████████████████████████████████████████████████████| 32/32 [00:01<00:00, 26.55it/s]\n",
      "Training CNN Epoch 6: 100%|█████████████████████████████████████████████████████████████████████████████████████████████████████████████████| 32/32 [00:01<00:00, 25.85it/s]\n",
      "Training CNN Epoch 7: 100%|█████████████████████████████████████████████████████████████████████████████████████████████████████████████████| 32/32 [00:01<00:00, 26.68it/s]\n",
      "Training CNN Epoch 8: 100%|█████████████████████████████████████████████████████████████████████████████████████████████████████████████████| 32/32 [00:01<00:00, 26.72it/s]\n",
      "Training CNN Epoch 9: 100%|█████████████████████████████████████████████████████████████████████████████████████████████████████████████████| 32/32 [00:01<00:00, 26.75it/s]\n",
      "Training CNN Epoch 10: 100%|████████████████████████████████████████████████████████████████████████████████████████████████████████████████| 32/32 [00:01<00:00, 26.70it/s]\n"
     ]
    },
    {
     "name": "stdout",
     "output_type": "stream",
     "text": [
      "Evaluating on train set...\n"
     ]
    },
    {
     "name": "stderr",
     "output_type": "stream",
     "text": [
      "Evaluating Train Set: 100%|█████████████████████████████████████████████████████████████████████████████████████████████████████████████████| 32/32 [00:01<00:00, 27.49it/s]\n"
     ]
    },
    {
     "name": "stdout",
     "output_type": "stream",
     "text": [
      "Evaluating on test set...\n"
     ]
    },
    {
     "name": "stderr",
     "output_type": "stream",
     "text": [
      "Evaluating Test Set: 100%|████████████████████████████████████████████████████████████████████████████████████████████████████████████████| 119/119 [00:07<00:00, 15.80it/s]"
     ]
    },
    {
     "name": "stdout",
     "output_type": "stream",
     "text": [
      "Threshold 1.6666666666666667%: Train Accuracy: 79.80%, Test Accuracy: 71.95%\n"
     ]
    },
    {
     "name": "stderr",
     "output_type": "stream",
     "text": [
      "\n"
     ]
    }
   ],
   "source": [
    "threshold = 1.6666666666666668\n",
    "print(f\"Pruning dataset at {threshold}% threshold...\")\n",
    "pruned_indices = []\n",
    "for class_label in range(4):  # Assuming there are 4 classes\n",
    "    class_indices = [i for i, label in enumerate(train_labels) if label == class_label]\n",
    "    class_perplexities = [train_perplexities[i] for i in class_indices]\n",
    "    class_threshold = np.percentile(class_perplexities, threshold)\n",
    "    pruned_class_indices = [class_indices[i] for i, perplexity in enumerate(class_perplexities) if perplexity <= class_threshold]\n",
    "    print(len(pruned_class_indices))\n",
    "    pruned_indices.extend(pruned_class_indices)\n",
    "\n",
    "pruned_train_texts = [train_texts[i] for i in pruned_indices]\n",
    "pruned_train_labels = [train_labels[i] for i in pruned_indices]\n",
    "pruned_train_dataset = AGNewsDataset(pruned_train_texts, pruned_train_labels)\n",
    "\n",
    "train_acc, test_acc = train_and_evaluate(pruned_train_dataset)\n",
    "train_accuracies.append(train_acc)\n",
    "test_accuracies.append(test_acc)\n",
    "print(f'Threshold {threshold}%: Train Accuracy: {train_acc:.2f}%, Test Accuracy: {test_acc:.2f}%')"
   ]
  },
  {
   "cell_type": "code",
   "execution_count": 19,
   "id": "e44d587b-c211-4f04-b9c5-bc9a8e525656",
   "metadata": {},
   "outputs": [
    {
     "name": "stdout",
     "output_type": "stream",
     "text": [
      "Pruning dataset at 0.16666666666666666% threshold...\n",
      "50\n",
      "50\n",
      "50\n",
      "50\n",
      "Training CNN model...\n"
     ]
    },
    {
     "name": "stderr",
     "output_type": "stream",
     "text": [
      "Training CNN Epoch 1: 100%|███████████████████████████████████████████████████████████████████████████████████████████████████████████████████| 4/4 [00:00<00:00, 26.82it/s]\n",
      "Training CNN Epoch 2: 100%|███████████████████████████████████████████████████████████████████████████████████████████████████████████████████| 4/4 [00:00<00:00, 27.59it/s]\n",
      "Training CNN Epoch 3: 100%|███████████████████████████████████████████████████████████████████████████████████████████████████████████████████| 4/4 [00:00<00:00, 30.25it/s]\n",
      "Training CNN Epoch 4: 100%|███████████████████████████████████████████████████████████████████████████████████████████████████████████████████| 4/4 [00:00<00:00, 35.43it/s]\n",
      "Training CNN Epoch 5: 100%|███████████████████████████████████████████████████████████████████████████████████████████████████████████████████| 4/4 [00:00<00:00, 35.72it/s]\n",
      "Training CNN Epoch 6: 100%|███████████████████████████████████████████████████████████████████████████████████████████████████████████████████| 4/4 [00:00<00:00, 33.96it/s]\n",
      "Training CNN Epoch 7: 100%|███████████████████████████████████████████████████████████████████████████████████████████████████████████████████| 4/4 [00:00<00:00, 34.16it/s]\n",
      "Training CNN Epoch 8: 100%|███████████████████████████████████████████████████████████████████████████████████████████████████████████████████| 4/4 [00:00<00:00, 35.63it/s]\n",
      "Training CNN Epoch 9: 100%|███████████████████████████████████████████████████████████████████████████████████████████████████████████████████| 4/4 [00:00<00:00, 35.62it/s]\n",
      "Training CNN Epoch 10: 100%|██████████████████████████████████████████████████████████████████████████████████████████████████████████████████| 4/4 [00:00<00:00, 35.76it/s]\n"
     ]
    },
    {
     "name": "stdout",
     "output_type": "stream",
     "text": [
      "Evaluating on train set...\n"
     ]
    },
    {
     "name": "stderr",
     "output_type": "stream",
     "text": [
      "Evaluating Train Set: 100%|███████████████████████████████████████████████████████████████████████████████████████████████████████████████████| 4/4 [00:00<00:00, 36.98it/s]\n"
     ]
    },
    {
     "name": "stdout",
     "output_type": "stream",
     "text": [
      "Evaluating on test set...\n"
     ]
    },
    {
     "name": "stderr",
     "output_type": "stream",
     "text": [
      "Evaluating Test Set: 100%|████████████████████████████████████████████████████████████████████████████████████████████████████████████████| 119/119 [00:07<00:00, 15.77it/s]"
     ]
    },
    {
     "name": "stdout",
     "output_type": "stream",
     "text": [
      "Threshold 0.16666666666666666%: Train Accuracy: 46.50%, Test Accuracy: 45.78%\n"
     ]
    },
    {
     "name": "stderr",
     "output_type": "stream",
     "text": [
      "\n"
     ]
    }
   ],
   "source": [
    "threshold = 0.16666666666666667\n",
    "print(f\"Pruning dataset at {threshold}% threshold...\")\n",
    "pruned_indices = []\n",
    "for class_label in range(4):  # Assuming there are 4 classes\n",
    "    class_indices = [i for i, label in enumerate(train_labels) if label == class_label]\n",
    "    class_perplexities = [train_perplexities[i] for i in class_indices]\n",
    "    class_threshold = np.percentile(class_perplexities, threshold)\n",
    "    pruned_class_indices = [class_indices[i] for i, perplexity in enumerate(class_perplexities) if perplexity <= class_threshold]\n",
    "    print(len(pruned_class_indices))\n",
    "    pruned_indices.extend(pruned_class_indices)\n",
    "\n",
    "pruned_train_texts = [train_texts[i] for i in pruned_indices]\n",
    "pruned_train_labels = [train_labels[i] for i in pruned_indices]\n",
    "pruned_train_dataset = AGNewsDataset(pruned_train_texts, pruned_train_labels)\n",
    "\n",
    "train_acc, test_acc = train_and_evaluate(pruned_train_dataset)\n",
    "train_accuracies.append(train_acc)\n",
    "test_accuracies.append(test_acc)\n",
    "print(f'Threshold {threshold}%: Train Accuracy: {train_acc:.2f}%, Test Accuracy: {test_acc:.2f}%')"
   ]
  },
  {
   "cell_type": "code",
   "execution_count": 104,
   "id": "3881dbe3-124a-474d-af44-82b5eb6570c9",
   "metadata": {},
   "outputs": [],
   "source": [
    "def train_and_evaluate(pruned_train_dataset, n_epochs = 100):\n",
    "    train_loader = data.DataLoader(pruned_train_dataset, batch_size=64, shuffle=True)\n",
    "    model = CNNModel().to(device)\n",
    "    criterion = nn.CrossEntropyLoss()\n",
    "    optimizer = optim.Adam(model.parameters(), lr=0.001)\n",
    "    \n",
    "    # Training\n",
    "    print(\"Training CNN model...\")\n",
    "    for epoch in range(n_epochs):  # Fixed number of epochs for consistency\n",
    "        model.train()\n",
    "        for inputs, labels in tqdm(train_loader, desc=f\"Training CNN Epoch {epoch+1}\"):\n",
    "            inputs, labels = inputs.to(device), labels.to(device)\n",
    "            optimizer.zero_grad()\n",
    "            outputs = model(inputs)\n",
    "            loss = criterion(outputs, labels)\n",
    "            loss.backward()\n",
    "            optimizer.step()\n",
    "    \n",
    "    # Evaluate on train set\n",
    "    print(\"Evaluating on train set...\")\n",
    "    model.eval()\n",
    "    train_correct = 0\n",
    "    train_total = 0\n",
    "    with torch.no_grad():\n",
    "        for inputs, labels in tqdm(train_loader, desc=\"Evaluating Train Set\"):\n",
    "            inputs, labels = inputs.to(device), labels.to(device)\n",
    "            outputs = model(inputs)\n",
    "            _, predicted = torch.max(outputs.data, 1)\n",
    "            train_total += labels.size(0)\n",
    "            train_correct += (predicted == labels).sum().item()\n",
    "    train_accuracy = 100 * train_correct / train_total\n",
    "\n",
    "    # Evaluate on test set\n",
    "    print(\"Evaluating on test set...\")\n",
    "    test_correct = 0\n",
    "    test_total = 0\n",
    "    with torch.no_grad():\n",
    "        for inputs, labels in tqdm(test_loader, desc=\"Evaluating Test Set\"):\n",
    "            inputs, labels = inputs.to(device), labels.to(device)\n",
    "            outputs = model(inputs)\n",
    "            _, predicted = torch.max(outputs.data, 1)\n",
    "            test_total += labels.size(0)\n",
    "            test_correct += (predicted == labels).sum().item()\n",
    "    test_accuracy = 100 * test_correct / test_total\n",
    "    \n",
    "    return train_accuracy, test_accuracy"
   ]
  },
  {
   "cell_type": "code",
   "execution_count": 26,
   "id": "d4dcef77-fc8b-4c3a-a31d-6c60f7569063",
   "metadata": {},
   "outputs": [
    {
     "name": "stdout",
     "output_type": "stream",
     "text": [
      "Pruning dataset at 0.16666666666666666% threshold...\n",
      "50\n",
      "50\n",
      "50\n",
      "50\n",
      "Training CNN model...\n"
     ]
    },
    {
     "name": "stderr",
     "output_type": "stream",
     "text": [
      "Training CNN Epoch 1: 100%|███████████████████████████████████████████████████████████████████████████████████████████████████████████████████| 4/4 [00:00<00:00, 26.93it/s]\n",
      "Training CNN Epoch 2: 100%|███████████████████████████████████████████████████████████████████████████████████████████████████████████████████| 4/4 [00:00<00:00, 27.77it/s]\n",
      "Training CNN Epoch 3: 100%|███████████████████████████████████████████████████████████████████████████████████████████████████████████████████| 4/4 [00:00<00:00, 27.72it/s]\n",
      "Training CNN Epoch 4: 100%|███████████████████████████████████████████████████████████████████████████████████████████████████████████████████| 4/4 [00:00<00:00, 28.44it/s]\n",
      "Training CNN Epoch 5: 100%|███████████████████████████████████████████████████████████████████████████████████████████████████████████████████| 4/4 [00:00<00:00, 30.72it/s]\n",
      "Training CNN Epoch 6: 100%|███████████████████████████████████████████████████████████████████████████████████████████████████████████████████| 4/4 [00:00<00:00, 33.62it/s]\n",
      "Training CNN Epoch 7: 100%|███████████████████████████████████████████████████████████████████████████████████████████████████████████████████| 4/4 [00:00<00:00, 33.75it/s]\n",
      "Training CNN Epoch 8: 100%|███████████████████████████████████████████████████████████████████████████████████████████████████████████████████| 4/4 [00:00<00:00, 33.41it/s]\n",
      "Training CNN Epoch 9: 100%|███████████████████████████████████████████████████████████████████████████████████████████████████████████████████| 4/4 [00:00<00:00, 30.00it/s]\n",
      "Training CNN Epoch 10: 100%|██████████████████████████████████████████████████████████████████████████████████████████████████████████████████| 4/4 [00:00<00:00, 32.01it/s]\n",
      "Training CNN Epoch 11: 100%|██████████████████████████████████████████████████████████████████████████████████████████████████████████████████| 4/4 [00:00<00:00, 33.61it/s]\n",
      "Training CNN Epoch 12: 100%|██████████████████████████████████████████████████████████████████████████████████████████████████████████████████| 4/4 [00:00<00:00, 33.28it/s]\n",
      "Training CNN Epoch 13: 100%|██████████████████████████████████████████████████████████████████████████████████████████████████████████████████| 4/4 [00:00<00:00, 31.90it/s]\n",
      "Training CNN Epoch 14: 100%|██████████████████████████████████████████████████████████████████████████████████████████████████████████████████| 4/4 [00:00<00:00, 32.55it/s]\n",
      "Training CNN Epoch 15: 100%|██████████████████████████████████████████████████████████████████████████████████████████████████████████████████| 4/4 [00:00<00:00, 32.38it/s]\n",
      "Training CNN Epoch 16: 100%|██████████████████████████████████████████████████████████████████████████████████████████████████████████████████| 4/4 [00:00<00:00, 31.28it/s]\n",
      "Training CNN Epoch 17: 100%|██████████████████████████████████████████████████████████████████████████████████████████████████████████████████| 4/4 [00:00<00:00, 34.57it/s]\n",
      "Training CNN Epoch 18: 100%|██████████████████████████████████████████████████████████████████████████████████████████████████████████████████| 4/4 [00:00<00:00, 34.50it/s]\n",
      "Training CNN Epoch 19: 100%|██████████████████████████████████████████████████████████████████████████████████████████████████████████████████| 4/4 [00:00<00:00, 33.40it/s]\n",
      "Training CNN Epoch 20: 100%|██████████████████████████████████████████████████████████████████████████████████████████████████████████████████| 4/4 [00:00<00:00, 35.18it/s]\n",
      "Training CNN Epoch 21: 100%|██████████████████████████████████████████████████████████████████████████████████████████████████████████████████| 4/4 [00:00<00:00, 35.40it/s]\n",
      "Training CNN Epoch 22: 100%|██████████████████████████████████████████████████████████████████████████████████████████████████████████████████| 4/4 [00:00<00:00, 35.46it/s]\n",
      "Training CNN Epoch 23: 100%|██████████████████████████████████████████████████████████████████████████████████████████████████████████████████| 4/4 [00:00<00:00, 35.63it/s]\n",
      "Training CNN Epoch 24: 100%|██████████████████████████████████████████████████████████████████████████████████████████████████████████████████| 4/4 [00:00<00:00, 35.02it/s]\n",
      "Training CNN Epoch 25: 100%|██████████████████████████████████████████████████████████████████████████████████████████████████████████████████| 4/4 [00:00<00:00, 33.42it/s]\n",
      "Training CNN Epoch 26: 100%|██████████████████████████████████████████████████████████████████████████████████████████████████████████████████| 4/4 [00:00<00:00, 35.12it/s]\n",
      "Training CNN Epoch 27: 100%|██████████████████████████████████████████████████████████████████████████████████████████████████████████████████| 4/4 [00:00<00:00, 35.35it/s]\n",
      "Training CNN Epoch 28: 100%|██████████████████████████████████████████████████████████████████████████████████████████████████████████████████| 4/4 [00:00<00:00, 35.60it/s]\n",
      "Training CNN Epoch 29: 100%|██████████████████████████████████████████████████████████████████████████████████████████████████████████████████| 4/4 [00:00<00:00, 35.38it/s]\n",
      "Training CNN Epoch 30: 100%|██████████████████████████████████████████████████████████████████████████████████████████████████████████████████| 4/4 [00:00<00:00, 35.11it/s]\n",
      "Training CNN Epoch 31: 100%|██████████████████████████████████████████████████████████████████████████████████████████████████████████████████| 4/4 [00:00<00:00, 35.32it/s]\n",
      "Training CNN Epoch 32: 100%|██████████████████████████████████████████████████████████████████████████████████████████████████████████████████| 4/4 [00:00<00:00, 35.27it/s]\n",
      "Training CNN Epoch 33: 100%|██████████████████████████████████████████████████████████████████████████████████████████████████████████████████| 4/4 [00:00<00:00, 35.34it/s]\n",
      "Training CNN Epoch 34: 100%|██████████████████████████████████████████████████████████████████████████████████████████████████████████████████| 4/4 [00:00<00:00, 32.79it/s]\n",
      "Training CNN Epoch 35: 100%|██████████████████████████████████████████████████████████████████████████████████████████████████████████████████| 4/4 [00:00<00:00, 33.62it/s]\n",
      "Training CNN Epoch 36: 100%|██████████████████████████████████████████████████████████████████████████████████████████████████████████████████| 4/4 [00:00<00:00, 34.27it/s]\n",
      "Training CNN Epoch 37: 100%|██████████████████████████████████████████████████████████████████████████████████████████████████████████████████| 4/4 [00:00<00:00, 35.07it/s]\n",
      "Training CNN Epoch 38: 100%|██████████████████████████████████████████████████████████████████████████████████████████████████████████████████| 4/4 [00:00<00:00, 35.32it/s]\n",
      "Training CNN Epoch 39: 100%|██████████████████████████████████████████████████████████████████████████████████████████████████████████████████| 4/4 [00:00<00:00, 35.19it/s]\n",
      "Training CNN Epoch 40: 100%|██████████████████████████████████████████████████████████████████████████████████████████████████████████████████| 4/4 [00:00<00:00, 35.38it/s]\n",
      "Training CNN Epoch 41: 100%|██████████████████████████████████████████████████████████████████████████████████████████████████████████████████| 4/4 [00:00<00:00, 35.23it/s]\n",
      "Training CNN Epoch 42: 100%|██████████████████████████████████████████████████████████████████████████████████████████████████████████████████| 4/4 [00:00<00:00, 35.50it/s]\n",
      "Training CNN Epoch 43: 100%|██████████████████████████████████████████████████████████████████████████████████████████████████████████████████| 4/4 [00:00<00:00, 35.36it/s]\n",
      "Training CNN Epoch 44: 100%|██████████████████████████████████████████████████████████████████████████████████████████████████████████████████| 4/4 [00:00<00:00, 33.19it/s]\n",
      "Training CNN Epoch 45: 100%|██████████████████████████████████████████████████████████████████████████████████████████████████████████████████| 4/4 [00:00<00:00, 35.11it/s]\n",
      "Training CNN Epoch 46: 100%|██████████████████████████████████████████████████████████████████████████████████████████████████████████████████| 4/4 [00:00<00:00, 35.40it/s]\n",
      "Training CNN Epoch 47: 100%|██████████████████████████████████████████████████████████████████████████████████████████████████████████████████| 4/4 [00:00<00:00, 31.00it/s]\n",
      "Training CNN Epoch 48: 100%|██████████████████████████████████████████████████████████████████████████████████████████████████████████████████| 4/4 [00:00<00:00, 32.51it/s]\n",
      "Training CNN Epoch 49: 100%|██████████████████████████████████████████████████████████████████████████████████████████████████████████████████| 4/4 [00:00<00:00, 33.81it/s]\n",
      "Training CNN Epoch 50: 100%|██████████████████████████████████████████████████████████████████████████████████████████████████████████████████| 4/4 [00:00<00:00, 33.87it/s]\n",
      "Training CNN Epoch 51: 100%|██████████████████████████████████████████████████████████████████████████████████████████████████████████████████| 4/4 [00:00<00:00, 33.55it/s]\n",
      "Training CNN Epoch 52: 100%|██████████████████████████████████████████████████████████████████████████████████████████████████████████████████| 4/4 [00:00<00:00, 35.07it/s]\n",
      "Training CNN Epoch 53: 100%|██████████████████████████████████████████████████████████████████████████████████████████████████████████████████| 4/4 [00:00<00:00, 33.86it/s]\n",
      "Training CNN Epoch 54: 100%|██████████████████████████████████████████████████████████████████████████████████████████████████████████████████| 4/4 [00:00<00:00, 34.58it/s]\n",
      "Training CNN Epoch 55: 100%|██████████████████████████████████████████████████████████████████████████████████████████████████████████████████| 4/4 [00:00<00:00, 35.23it/s]\n",
      "Training CNN Epoch 56: 100%|██████████████████████████████████████████████████████████████████████████████████████████████████████████████████| 4/4 [00:00<00:00, 35.37it/s]\n",
      "Training CNN Epoch 57: 100%|██████████████████████████████████████████████████████████████████████████████████████████████████████████████████| 4/4 [00:00<00:00, 35.22it/s]\n",
      "Training CNN Epoch 58: 100%|██████████████████████████████████████████████████████████████████████████████████████████████████████████████████| 4/4 [00:00<00:00, 35.13it/s]\n",
      "Training CNN Epoch 59: 100%|██████████████████████████████████████████████████████████████████████████████████████████████████████████████████| 4/4 [00:00<00:00, 35.30it/s]\n",
      "Training CNN Epoch 60: 100%|██████████████████████████████████████████████████████████████████████████████████████████████████████████████████| 4/4 [00:00<00:00, 35.50it/s]\n",
      "Training CNN Epoch 61: 100%|██████████████████████████████████████████████████████████████████████████████████████████████████████████████████| 4/4 [00:00<00:00, 35.44it/s]\n",
      "Training CNN Epoch 62: 100%|██████████████████████████████████████████████████████████████████████████████████████████████████████████████████| 4/4 [00:00<00:00, 34.95it/s]\n",
      "Training CNN Epoch 63: 100%|██████████████████████████████████████████████████████████████████████████████████████████████████████████████████| 4/4 [00:00<00:00, 33.75it/s]\n",
      "Training CNN Epoch 64: 100%|██████████████████████████████████████████████████████████████████████████████████████████████████████████████████| 4/4 [00:00<00:00, 34.25it/s]\n",
      "Training CNN Epoch 65: 100%|██████████████████████████████████████████████████████████████████████████████████████████████████████████████████| 4/4 [00:00<00:00, 35.10it/s]\n",
      "Training CNN Epoch 66: 100%|██████████████████████████████████████████████████████████████████████████████████████████████████████████████████| 4/4 [00:00<00:00, 34.74it/s]\n",
      "Training CNN Epoch 67: 100%|██████████████████████████████████████████████████████████████████████████████████████████████████████████████████| 4/4 [00:00<00:00, 34.71it/s]\n",
      "Training CNN Epoch 68: 100%|██████████████████████████████████████████████████████████████████████████████████████████████████████████████████| 4/4 [00:00<00:00, 34.36it/s]\n",
      "Training CNN Epoch 69: 100%|██████████████████████████████████████████████████████████████████████████████████████████████████████████████████| 4/4 [00:00<00:00, 34.29it/s]\n",
      "Training CNN Epoch 70: 100%|██████████████████████████████████████████████████████████████████████████████████████████████████████████████████| 4/4 [00:00<00:00, 34.72it/s]\n",
      "Training CNN Epoch 71: 100%|██████████████████████████████████████████████████████████████████████████████████████████████████████████████████| 4/4 [00:00<00:00, 34.25it/s]\n",
      "Training CNN Epoch 72: 100%|██████████████████████████████████████████████████████████████████████████████████████████████████████████████████| 4/4 [00:00<00:00, 33.40it/s]\n",
      "Training CNN Epoch 73: 100%|██████████████████████████████████████████████████████████████████████████████████████████████████████████████████| 4/4 [00:00<00:00, 33.80it/s]\n",
      "Training CNN Epoch 74: 100%|██████████████████████████████████████████████████████████████████████████████████████████████████████████████████| 4/4 [00:00<00:00, 34.20it/s]\n",
      "Training CNN Epoch 75: 100%|██████████████████████████████████████████████████████████████████████████████████████████████████████████████████| 4/4 [00:00<00:00, 34.05it/s]\n",
      "Training CNN Epoch 76: 100%|██████████████████████████████████████████████████████████████████████████████████████████████████████████████████| 4/4 [00:00<00:00, 34.61it/s]\n",
      "Training CNN Epoch 77: 100%|██████████████████████████████████████████████████████████████████████████████████████████████████████████████████| 4/4 [00:00<00:00, 34.50it/s]\n",
      "Training CNN Epoch 78: 100%|██████████████████████████████████████████████████████████████████████████████████████████████████████████████████| 4/4 [00:00<00:00, 34.69it/s]\n",
      "Training CNN Epoch 79: 100%|██████████████████████████████████████████████████████████████████████████████████████████████████████████████████| 4/4 [00:00<00:00, 34.50it/s]\n",
      "Training CNN Epoch 80: 100%|██████████████████████████████████████████████████████████████████████████████████████████████████████████████████| 4/4 [00:00<00:00, 31.51it/s]\n",
      "Training CNN Epoch 81: 100%|██████████████████████████████████████████████████████████████████████████████████████████████████████████████████| 4/4 [00:00<00:00, 32.04it/s]\n",
      "Training CNN Epoch 82: 100%|██████████████████████████████████████████████████████████████████████████████████████████████████████████████████| 4/4 [00:00<00:00, 32.56it/s]\n",
      "Training CNN Epoch 83: 100%|██████████████████████████████████████████████████████████████████████████████████████████████████████████████████| 4/4 [00:00<00:00, 32.15it/s]\n",
      "Training CNN Epoch 84: 100%|██████████████████████████████████████████████████████████████████████████████████████████████████████████████████| 4/4 [00:00<00:00, 33.10it/s]\n",
      "Training CNN Epoch 85: 100%|██████████████████████████████████████████████████████████████████████████████████████████████████████████████████| 4/4 [00:00<00:00, 33.28it/s]\n",
      "Training CNN Epoch 86: 100%|██████████████████████████████████████████████████████████████████████████████████████████████████████████████████| 4/4 [00:00<00:00, 33.31it/s]\n",
      "Training CNN Epoch 87: 100%|██████████████████████████████████████████████████████████████████████████████████████████████████████████████████| 4/4 [00:00<00:00, 33.68it/s]\n",
      "Training CNN Epoch 88: 100%|██████████████████████████████████████████████████████████████████████████████████████████████████████████████████| 4/4 [00:00<00:00, 33.59it/s]\n",
      "Training CNN Epoch 89: 100%|██████████████████████████████████████████████████████████████████████████████████████████████████████████████████| 4/4 [00:00<00:00, 33.62it/s]\n",
      "Training CNN Epoch 90: 100%|██████████████████████████████████████████████████████████████████████████████████████████████████████████████████| 4/4 [00:00<00:00, 33.36it/s]\n",
      "Training CNN Epoch 91: 100%|██████████████████████████████████████████████████████████████████████████████████████████████████████████████████| 4/4 [00:00<00:00, 32.40it/s]\n",
      "Training CNN Epoch 92: 100%|██████████████████████████████████████████████████████████████████████████████████████████████████████████████████| 4/4 [00:00<00:00, 34.61it/s]\n",
      "Training CNN Epoch 93: 100%|██████████████████████████████████████████████████████████████████████████████████████████████████████████████████| 4/4 [00:00<00:00, 34.61it/s]\n",
      "Training CNN Epoch 94: 100%|██████████████████████████████████████████████████████████████████████████████████████████████████████████████████| 4/4 [00:00<00:00, 34.97it/s]\n",
      "Training CNN Epoch 95: 100%|██████████████████████████████████████████████████████████████████████████████████████████████████████████████████| 4/4 [00:00<00:00, 33.88it/s]\n",
      "Training CNN Epoch 96: 100%|██████████████████████████████████████████████████████████████████████████████████████████████████████████████████| 4/4 [00:00<00:00, 34.43it/s]\n",
      "Training CNN Epoch 97: 100%|██████████████████████████████████████████████████████████████████████████████████████████████████████████████████| 4/4 [00:00<00:00, 34.46it/s]\n",
      "Training CNN Epoch 98: 100%|██████████████████████████████████████████████████████████████████████████████████████████████████████████████████| 4/4 [00:00<00:00, 34.49it/s]\n",
      "Training CNN Epoch 99: 100%|██████████████████████████████████████████████████████████████████████████████████████████████████████████████████| 4/4 [00:00<00:00, 33.29it/s]\n",
      "Training CNN Epoch 100: 100%|█████████████████████████████████████████████████████████████████████████████████████████████████████████████████| 4/4 [00:00<00:00, 32.24it/s]\n"
     ]
    },
    {
     "name": "stdout",
     "output_type": "stream",
     "text": [
      "Evaluating on train set...\n"
     ]
    },
    {
     "name": "stderr",
     "output_type": "stream",
     "text": [
      "Evaluating Train Set: 100%|███████████████████████████████████████████████████████████████████████████████████████████████████████████████████| 4/4 [00:00<00:00, 35.09it/s]\n"
     ]
    },
    {
     "name": "stdout",
     "output_type": "stream",
     "text": [
      "Evaluating on test set...\n"
     ]
    },
    {
     "name": "stderr",
     "output_type": "stream",
     "text": [
      "Evaluating Test Set: 100%|████████████████████████████████████████████████████████████████████████████████████████████████████████████████| 119/119 [00:07<00:00, 15.71it/s]"
     ]
    },
    {
     "name": "stdout",
     "output_type": "stream",
     "text": [
      "Threshold 0.16666666666666666%: Train Accuracy: 97.00%, Test Accuracy: 71.82%\n"
     ]
    },
    {
     "name": "stderr",
     "output_type": "stream",
     "text": [
      "\n"
     ]
    }
   ],
   "source": [
    "threshold = 0.16666666666666667\n",
    "print(f\"Pruning dataset at {threshold}% threshold...\")\n",
    "pruned_indices = []\n",
    "for class_label in range(4):  # Assuming there are 4 classes\n",
    "    class_indices = [i for i, label in enumerate(train_labels) if label == class_label]\n",
    "    class_perplexities = [train_perplexities[i] for i in class_indices]\n",
    "    class_threshold = np.percentile(class_perplexities, threshold)\n",
    "    pruned_class_indices = [class_indices[i] for i, perplexity in enumerate(class_perplexities) if perplexity <= class_threshold]\n",
    "    print(len(pruned_class_indices))\n",
    "    pruned_indices.extend(pruned_class_indices)\n",
    "\n",
    "pruned_train_texts = [train_texts[i] for i in pruned_indices]\n",
    "pruned_train_labels = [train_labels[i] for i in pruned_indices]\n",
    "pruned_train_dataset = AGNewsDataset(pruned_train_texts, pruned_train_labels)\n",
    "\n",
    "train_acc, test_acc = train_and_evaluate(pruned_train_dataset)\n",
    "train_accuracies.append(train_acc)\n",
    "test_accuracies.append(test_acc)\n",
    "print(f'Threshold {threshold}%: Train Accuracy: {train_acc:.2f}%, Test Accuracy: {test_acc:.2f}%')"
   ]
  },
  {
   "cell_type": "code",
   "execution_count": 97,
   "id": "c80b96a0-a914-4f90-8902-e3c5b60b0d34",
   "metadata": {},
   "outputs": [
    {
     "data": {
      "text/html": [
       "<div>\n",
       "<style scoped>\n",
       "    .dataframe tbody tr th:only-of-type {\n",
       "        vertical-align: middle;\n",
       "    }\n",
       "\n",
       "    .dataframe tbody tr th {\n",
       "        vertical-align: top;\n",
       "    }\n",
       "\n",
       "    .dataframe thead th {\n",
       "        text-align: right;\n",
       "    }\n",
       "</style>\n",
       "<table border=\"1\" class=\"dataframe\">\n",
       "  <thead>\n",
       "    <tr style=\"text-align: right;\">\n",
       "      <th></th>\n",
       "      <th>text</th>\n",
       "      <th>length</th>\n",
       "    </tr>\n",
       "  </thead>\n",
       "  <tbody>\n",
       "    <tr>\n",
       "      <th>0</th>\n",
       "      <td>Wall St. Bears Claw Back Into the Black (Reute...</td>\n",
       "      <td>144</td>\n",
       "    </tr>\n",
       "    <tr>\n",
       "      <th>1</th>\n",
       "      <td>Carlyle Looks Toward Commercial Aerospace (Reu...</td>\n",
       "      <td>266</td>\n",
       "    </tr>\n",
       "    <tr>\n",
       "      <th>2</th>\n",
       "      <td>Oil and Economy Cloud Stocks' Outlook (Reuters...</td>\n",
       "      <td>232</td>\n",
       "    </tr>\n",
       "    <tr>\n",
       "      <th>3</th>\n",
       "      <td>Iraq Halts Oil Exports from Main Southern Pipe...</td>\n",
       "      <td>256</td>\n",
       "    </tr>\n",
       "    <tr>\n",
       "      <th>4</th>\n",
       "      <td>Oil prices soar to all-time record, posing new...</td>\n",
       "      <td>234</td>\n",
       "    </tr>\n",
       "    <tr>\n",
       "      <th>...</th>\n",
       "      <td>...</td>\n",
       "      <td>...</td>\n",
       "    </tr>\n",
       "    <tr>\n",
       "      <th>119995</th>\n",
       "      <td>Pakistan's Musharraf Says Won't Quit as Army C...</td>\n",
       "      <td>221</td>\n",
       "    </tr>\n",
       "    <tr>\n",
       "      <th>119996</th>\n",
       "      <td>Renteria signing a top-shelf deal Red Sox gene...</td>\n",
       "      <td>308</td>\n",
       "    </tr>\n",
       "    <tr>\n",
       "      <th>119997</th>\n",
       "      <td>Saban not going to Dolphins yet The Miami Dolp...</td>\n",
       "      <td>247</td>\n",
       "    </tr>\n",
       "    <tr>\n",
       "      <th>119998</th>\n",
       "      <td>Today's NFL games PITTSBURGH at NY GIANTS Time...</td>\n",
       "      <td>370</td>\n",
       "    </tr>\n",
       "    <tr>\n",
       "      <th>119999</th>\n",
       "      <td>Nets get Carter from Raptors INDIANAPOLIS -- A...</td>\n",
       "      <td>224</td>\n",
       "    </tr>\n",
       "  </tbody>\n",
       "</table>\n",
       "<p>120000 rows × 2 columns</p>\n",
       "</div>"
      ],
      "text/plain": [
       "                                                     text  length\n",
       "0       Wall St. Bears Claw Back Into the Black (Reute...     144\n",
       "1       Carlyle Looks Toward Commercial Aerospace (Reu...     266\n",
       "2       Oil and Economy Cloud Stocks' Outlook (Reuters...     232\n",
       "3       Iraq Halts Oil Exports from Main Southern Pipe...     256\n",
       "4       Oil prices soar to all-time record, posing new...     234\n",
       "...                                                   ...     ...\n",
       "119995  Pakistan's Musharraf Says Won't Quit as Army C...     221\n",
       "119996  Renteria signing a top-shelf deal Red Sox gene...     308\n",
       "119997  Saban not going to Dolphins yet The Miami Dolp...     247\n",
       "119998  Today's NFL games PITTSBURGH at NY GIANTS Time...     370\n",
       "119999  Nets get Carter from Raptors INDIANAPOLIS -- A...     224\n",
       "\n",
       "[120000 rows x 2 columns]"
      ]
     },
     "execution_count": 97,
     "metadata": {},
     "output_type": "execute_result"
    }
   ],
   "source": [
    "train_texts"
   ]
  },
  {
   "cell_type": "code",
   "execution_count": null,
   "id": "20aa9ef6-f07d-43c8-ac78-4869b6073b6e",
   "metadata": {},
   "outputs": [],
   "source": [
    "threshold = 0.6666666666666667\n",
    "print(f\"Pruning dataset at {threshold}% threshold...\")\n",
    "pruned_indices = []\n",
    "for class_label in range(4):  # Assuming there are 4 classes\n",
    "    class_indices = [i for i, label in enumerate(train_labels) if label == class_label]\n",
    "    class_perplexities = [train_perplexities[i] for i in class_indices]\n",
    "    class_threshold = np.percentile(class_perplexities, threshold)\n",
    "    pruned_class_indices = [class_indices[i] for i, perplexity in enumerate(class_perplexities) if perplexity <= class_threshold]\n",
    "    print(len(pruned_class_indices))\n",
    "    pruned_indices.extend(pruned_class_indices)\n",
    "\n",
    "pruned_train_texts = [train_texts.iloc[i].values[0] for i in pruned_indices]\n",
    "pruned_train_labels = [train_labels[i] for i in pruned_indices]\n",
    "pruned_train_dataset = AGNewsDataset(pruned_train_texts, pruned_train_labels)\n",
    "\n",
    "train_acc, test_acc = train_and_evaluate(pruned_train_dataset)\n",
    "train_accuracies.append(train_acc)\n",
    "test_accuracies.append(test_acc)\n",
    "print(f'Threshold {threshold}%: Train Accuracy: {train_acc:.2f}%, Test Accuracy: {test_acc:.2f}%')"
   ]
  },
  {
   "cell_type": "code",
   "execution_count": null,
   "id": "913e92ed-1933-4428-8736-e4f43cc38b36",
   "metadata": {},
   "outputs": [],
   "source": []
  },
  {
   "cell_type": "code",
   "execution_count": null,
   "id": "86336469-1135-42a1-a81c-0e0299405699",
   "metadata": {},
   "outputs": [],
   "source": []
  },
  {
   "cell_type": "code",
   "execution_count": null,
   "id": "7bae1900-767a-4408-a835-728fa631f343",
   "metadata": {},
   "outputs": [],
   "source": []
  },
  {
   "cell_type": "code",
   "execution_count": null,
   "id": "028bc860-d570-4211-839e-92dd9095b53d",
   "metadata": {},
   "outputs": [],
   "source": []
  },
  {
   "cell_type": "code",
   "execution_count": 28,
   "id": "f2b3762d-969a-47c6-8035-155598794cc1",
   "metadata": {
    "scrolled": true
   },
   "outputs": [
    {
     "name": "stdout",
     "output_type": "stream",
     "text": [
      "Pruning dataset at 99.83333333333333% threshold...\n",
      "50\n",
      "50\n",
      "50\n",
      "50\n",
      "Training CNN model...\n"
     ]
    },
    {
     "name": "stderr",
     "output_type": "stream",
     "text": [
      "Training CNN Epoch 1: 100%|███████████████████████| 4/4 [00:00<00:00,  7.06it/s]\n",
      "Training CNN Epoch 2: 100%|███████████████████████| 4/4 [00:00<00:00,  8.82it/s]\n",
      "Training CNN Epoch 3: 100%|███████████████████████| 4/4 [00:00<00:00,  8.72it/s]\n",
      "Training CNN Epoch 4: 100%|███████████████████████| 4/4 [00:00<00:00,  8.79it/s]\n",
      "Training CNN Epoch 5: 100%|███████████████████████| 4/4 [00:00<00:00,  8.78it/s]\n",
      "Training CNN Epoch 6: 100%|███████████████████████| 4/4 [00:00<00:00,  8.73it/s]\n",
      "Training CNN Epoch 7: 100%|███████████████████████| 4/4 [00:00<00:00,  8.78it/s]\n",
      "Training CNN Epoch 8: 100%|███████████████████████| 4/4 [00:00<00:00,  8.66it/s]\n",
      "Training CNN Epoch 9: 100%|███████████████████████| 4/4 [00:00<00:00,  8.84it/s]\n",
      "Training CNN Epoch 10: 100%|██████████████████████| 4/4 [00:00<00:00,  8.72it/s]\n",
      "Training CNN Epoch 11: 100%|██████████████████████| 4/4 [00:00<00:00,  8.82it/s]\n",
      "Training CNN Epoch 12: 100%|██████████████████████| 4/4 [00:00<00:00,  8.84it/s]\n",
      "Training CNN Epoch 13: 100%|██████████████████████| 4/4 [00:00<00:00,  8.52it/s]\n",
      "Training CNN Epoch 14: 100%|██████████████████████| 4/4 [00:00<00:00,  8.83it/s]\n",
      "Training CNN Epoch 15: 100%|██████████████████████| 4/4 [00:00<00:00,  8.67it/s]\n",
      "Training CNN Epoch 16: 100%|██████████████████████| 4/4 [00:00<00:00,  8.51it/s]\n",
      "Training CNN Epoch 17: 100%|██████████████████████| 4/4 [00:00<00:00,  8.53it/s]\n",
      "Training CNN Epoch 18: 100%|██████████████████████| 4/4 [00:00<00:00,  8.35it/s]\n",
      "Training CNN Epoch 19: 100%|██████████████████████| 4/4 [00:00<00:00,  8.34it/s]\n",
      "Training CNN Epoch 20: 100%|██████████████████████| 4/4 [00:00<00:00,  7.94it/s]\n",
      "Training CNN Epoch 21: 100%|██████████████████████| 4/4 [00:00<00:00,  8.72it/s]\n",
      "Training CNN Epoch 22: 100%|██████████████████████| 4/4 [00:00<00:00,  8.62it/s]\n",
      "Training CNN Epoch 23: 100%|██████████████████████| 4/4 [00:00<00:00,  8.78it/s]\n",
      "Training CNN Epoch 24: 100%|██████████████████████| 4/4 [00:00<00:00,  8.84it/s]\n",
      "Training CNN Epoch 25: 100%|██████████████████████| 4/4 [00:00<00:00,  8.70it/s]\n",
      "Training CNN Epoch 26: 100%|██████████████████████| 4/4 [00:00<00:00,  8.81it/s]\n",
      "Training CNN Epoch 27: 100%|██████████████████████| 4/4 [00:00<00:00,  8.70it/s]\n",
      "Training CNN Epoch 28: 100%|██████████████████████| 4/4 [00:00<00:00,  8.64it/s]\n",
      "Training CNN Epoch 29: 100%|██████████████████████| 4/4 [00:00<00:00,  8.78it/s]\n",
      "Training CNN Epoch 30: 100%|██████████████████████| 4/4 [00:00<00:00,  8.76it/s]\n",
      "Training CNN Epoch 31: 100%|██████████████████████| 4/4 [00:00<00:00,  8.87it/s]\n",
      "Training CNN Epoch 32: 100%|██████████████████████| 4/4 [00:00<00:00,  8.66it/s]\n",
      "Training CNN Epoch 33: 100%|██████████████████████| 4/4 [00:00<00:00,  8.79it/s]\n",
      "Training CNN Epoch 34: 100%|██████████████████████| 4/4 [00:00<00:00,  8.72it/s]\n",
      "Training CNN Epoch 35: 100%|██████████████████████| 4/4 [00:00<00:00,  8.80it/s]\n",
      "Training CNN Epoch 36: 100%|██████████████████████| 4/4 [00:00<00:00,  8.86it/s]\n",
      "Training CNN Epoch 37: 100%|██████████████████████| 4/4 [00:00<00:00,  8.63it/s]\n",
      "Training CNN Epoch 38: 100%|██████████████████████| 4/4 [00:00<00:00,  8.70it/s]\n",
      "Training CNN Epoch 39: 100%|██████████████████████| 4/4 [00:00<00:00,  8.76it/s]\n",
      "Training CNN Epoch 40: 100%|██████████████████████| 4/4 [00:00<00:00,  8.81it/s]\n",
      "Training CNN Epoch 41: 100%|██████████████████████| 4/4 [00:00<00:00,  8.87it/s]\n",
      "Training CNN Epoch 42: 100%|██████████████████████| 4/4 [00:00<00:00,  8.63it/s]\n",
      "Training CNN Epoch 43: 100%|██████████████████████| 4/4 [00:00<00:00,  8.81it/s]\n",
      "Training CNN Epoch 44: 100%|██████████████████████| 4/4 [00:00<00:00,  8.68it/s]\n",
      "Training CNN Epoch 45: 100%|██████████████████████| 4/4 [00:00<00:00,  8.80it/s]\n",
      "Training CNN Epoch 46: 100%|██████████████████████| 4/4 [00:00<00:00,  8.83it/s]\n",
      "Training CNN Epoch 47: 100%|██████████████████████| 4/4 [00:00<00:00,  8.74it/s]\n",
      "Training CNN Epoch 48: 100%|██████████████████████| 4/4 [00:00<00:00,  8.69it/s]\n",
      "Training CNN Epoch 49: 100%|██████████████████████| 4/4 [00:00<00:00,  8.59it/s]\n",
      "Training CNN Epoch 50: 100%|██████████████████████| 4/4 [00:00<00:00,  8.85it/s]\n",
      "Training CNN Epoch 51: 100%|██████████████████████| 4/4 [00:00<00:00,  8.70it/s]\n",
      "Training CNN Epoch 52: 100%|██████████████████████| 4/4 [00:00<00:00,  8.81it/s]\n",
      "Training CNN Epoch 53: 100%|██████████████████████| 4/4 [00:00<00:00,  8.87it/s]\n",
      "Training CNN Epoch 54: 100%|██████████████████████| 4/4 [00:00<00:00,  8.69it/s]\n",
      "Training CNN Epoch 55: 100%|██████████████████████| 4/4 [00:00<00:00,  8.87it/s]\n",
      "Training CNN Epoch 56: 100%|██████████████████████| 4/4 [00:00<00:00,  8.73it/s]\n",
      "Training CNN Epoch 57: 100%|██████████████████████| 4/4 [00:00<00:00,  8.89it/s]\n",
      "Training CNN Epoch 58: 100%|██████████████████████| 4/4 [00:00<00:00,  8.84it/s]\n",
      "Training CNN Epoch 59: 100%|██████████████████████| 4/4 [00:00<00:00,  8.63it/s]\n",
      "Training CNN Epoch 60: 100%|██████████████████████| 4/4 [00:00<00:00,  8.58it/s]\n",
      "Training CNN Epoch 61: 100%|██████████████████████| 4/4 [00:00<00:00,  8.01it/s]\n",
      "Training CNN Epoch 62: 100%|██████████████████████| 4/4 [00:00<00:00,  8.83it/s]\n",
      "Training CNN Epoch 63: 100%|██████████████████████| 4/4 [00:00<00:00,  8.73it/s]\n",
      "Training CNN Epoch 64: 100%|██████████████████████| 4/4 [00:00<00:00,  8.83it/s]\n",
      "Training CNN Epoch 65: 100%|██████████████████████| 4/4 [00:00<00:00,  8.89it/s]\n",
      "Training CNN Epoch 66: 100%|██████████████████████| 4/4 [00:00<00:00,  8.71it/s]\n",
      "Training CNN Epoch 67: 100%|██████████████████████| 4/4 [00:00<00:00,  8.86it/s]\n",
      "Training CNN Epoch 68: 100%|██████████████████████| 4/4 [00:00<00:00,  8.83it/s]\n",
      "Training CNN Epoch 69: 100%|██████████████████████| 4/4 [00:00<00:00,  8.73it/s]\n",
      "Training CNN Epoch 70: 100%|██████████████████████| 4/4 [00:00<00:00,  8.89it/s]\n",
      "Training CNN Epoch 71: 100%|██████████████████████| 4/4 [00:00<00:00,  8.70it/s]\n",
      "Training CNN Epoch 72: 100%|██████████████████████| 4/4 [00:00<00:00,  8.82it/s]\n",
      "Training CNN Epoch 73: 100%|██████████████████████| 4/4 [00:00<00:00,  8.79it/s]\n",
      "Training CNN Epoch 74: 100%|██████████████████████| 4/4 [00:00<00:00,  8.82it/s]\n",
      "Training CNN Epoch 75: 100%|██████████████████████| 4/4 [00:00<00:00,  8.84it/s]\n",
      "Training CNN Epoch 76: 100%|██████████████████████| 4/4 [00:00<00:00,  8.73it/s]\n",
      "Training CNN Epoch 77: 100%|██████████████████████| 4/4 [00:00<00:00,  8.82it/s]\n",
      "Training CNN Epoch 78: 100%|██████████████████████| 4/4 [00:00<00:00,  8.52it/s]\n",
      "Training CNN Epoch 79: 100%|██████████████████████| 4/4 [00:00<00:00,  8.89it/s]\n",
      "Training CNN Epoch 80: 100%|██████████████████████| 4/4 [00:00<00:00,  8.83it/s]\n",
      "Training CNN Epoch 81: 100%|██████████████████████| 4/4 [00:00<00:00,  8.51it/s]\n",
      "Training CNN Epoch 82: 100%|██████████████████████| 4/4 [00:00<00:00,  8.69it/s]\n",
      "Training CNN Epoch 83: 100%|██████████████████████| 4/4 [00:00<00:00,  8.73it/s]\n",
      "Training CNN Epoch 84: 100%|██████████████████████| 4/4 [00:00<00:00,  8.86it/s]\n",
      "Training CNN Epoch 85: 100%|██████████████████████| 4/4 [00:00<00:00,  8.88it/s]\n",
      "Training CNN Epoch 86: 100%|██████████████████████| 4/4 [00:00<00:00,  8.77it/s]\n",
      "Training CNN Epoch 87: 100%|██████████████████████| 4/4 [00:00<00:00,  8.91it/s]\n",
      "Training CNN Epoch 88: 100%|██████████████████████| 4/4 [00:00<00:00,  8.72it/s]\n",
      "Training CNN Epoch 89: 100%|██████████████████████| 4/4 [00:00<00:00,  8.90it/s]\n",
      "Training CNN Epoch 90: 100%|██████████████████████| 4/4 [00:00<00:00,  8.84it/s]\n",
      "Training CNN Epoch 91: 100%|██████████████████████| 4/4 [00:00<00:00,  8.80it/s]\n",
      "Training CNN Epoch 92: 100%|██████████████████████| 4/4 [00:00<00:00,  8.83it/s]\n",
      "Training CNN Epoch 93: 100%|██████████████████████| 4/4 [00:00<00:00,  8.72it/s]\n",
      "Training CNN Epoch 94: 100%|██████████████████████| 4/4 [00:00<00:00,  8.90it/s]\n",
      "Training CNN Epoch 95: 100%|██████████████████████| 4/4 [00:00<00:00,  8.70it/s]\n",
      "Training CNN Epoch 96: 100%|██████████████████████| 4/4 [00:00<00:00,  8.86it/s]\n",
      "Training CNN Epoch 97: 100%|██████████████████████| 4/4 [00:00<00:00,  8.89it/s]\n",
      "Training CNN Epoch 98: 100%|██████████████████████| 4/4 [00:00<00:00,  8.66it/s]\n",
      "Training CNN Epoch 99: 100%|██████████████████████| 4/4 [00:00<00:00,  8.85it/s]\n",
      "Training CNN Epoch 100: 100%|█████████████████████| 4/4 [00:00<00:00,  8.47it/s]\n"
     ]
    },
    {
     "name": "stdout",
     "output_type": "stream",
     "text": [
      "Evaluating on train set...\n"
     ]
    },
    {
     "name": "stderr",
     "output_type": "stream",
     "text": [
      "Evaluating Train Set: 100%|███████████████████████| 4/4 [00:00<00:00,  8.87it/s]\n"
     ]
    },
    {
     "name": "stdout",
     "output_type": "stream",
     "text": [
      "Evaluating on test set...\n"
     ]
    },
    {
     "name": "stderr",
     "output_type": "stream",
     "text": [
      "Evaluating Test Set: 100%|████████████████████| 119/119 [00:07<00:00, 15.73it/s]"
     ]
    },
    {
     "name": "stdout",
     "output_type": "stream",
     "text": [
      "Threshold 99.83333333333333%: Train Accuracy: 93.50%, Test Accuracy: 71.82%\n"
     ]
    },
    {
     "name": "stderr",
     "output_type": "stream",
     "text": [
      "\n"
     ]
    }
   ],
   "source": [
    "threshold = 100 - 0.16666666666666667\n",
    "print(f\"Pruning dataset at {threshold}% threshold...\")\n",
    "pruned_indices = []\n",
    "for class_label in range(4):  # Assuming there are 4 classes\n",
    "    class_indices = [i for i, label in enumerate(train_labels) if label == class_label]\n",
    "    class_perplexities = [train_perplexities[i] for i in class_indices]\n",
    "    class_threshold = np.percentile(class_perplexities, threshold)\n",
    "    pruned_class_indices = [class_indices[i] for i, perplexity in enumerate(class_perplexities) if perplexity >= class_threshold]\n",
    "    print(len(pruned_class_indices))\n",
    "    pruned_indices.extend(pruned_class_indices)\n",
    "\n",
    "pruned_train_texts = [train_texts[i] for i in pruned_indices]\n",
    "pruned_train_labels = [train_labels[i] for i in pruned_indices]\n",
    "pruned_train_dataset = AGNewsDataset(pruned_train_texts, pruned_train_labels)\n",
    "\n",
    "train_acc, test_acc = train_and_evaluate(pruned_train_dataset)\n",
    "train_accuracies.append(train_acc)\n",
    "test_accuracies.append(test_acc)\n",
    "print(f'Threshold {threshold}%: Train Accuracy: {train_acc:.2f}%, Test Accuracy: {test_acc:.2f}%')"
   ]
  },
  {
   "cell_type": "code",
   "execution_count": 29,
   "id": "4f5840de-e449-4ab9-b3d3-984cebec1897",
   "metadata": {},
   "outputs": [
    {
     "name": "stdout",
     "output_type": "stream",
     "text": [
      "Pruning dataset at 98% threshold...\n",
      "600\n",
      "600\n",
      "600\n",
      "600\n",
      "Training CNN model...\n"
     ]
    },
    {
     "name": "stderr",
     "output_type": "stream",
     "text": [
      "Training CNN Epoch 1: 100%|█████████████████████| 38/38 [00:04<00:00,  8.32it/s]\n",
      "Training CNN Epoch 2: 100%|█████████████████████| 38/38 [00:04<00:00,  8.33it/s]\n",
      "Training CNN Epoch 3: 100%|█████████████████████| 38/38 [00:04<00:00,  8.28it/s]\n",
      "Training CNN Epoch 4: 100%|█████████████████████| 38/38 [00:04<00:00,  8.35it/s]\n",
      "Training CNN Epoch 5: 100%|█████████████████████| 38/38 [00:04<00:00,  8.38it/s]\n",
      "Training CNN Epoch 6: 100%|█████████████████████| 38/38 [00:04<00:00,  8.38it/s]\n",
      "Training CNN Epoch 7: 100%|█████████████████████| 38/38 [00:04<00:00,  8.32it/s]\n",
      "Training CNN Epoch 8: 100%|█████████████████████| 38/38 [00:04<00:00,  8.05it/s]\n",
      "Training CNN Epoch 9: 100%|█████████████████████| 38/38 [00:04<00:00,  8.25it/s]\n",
      "Training CNN Epoch 10: 100%|████████████████████| 38/38 [00:04<00:00,  8.30it/s]\n",
      "Training CNN Epoch 11: 100%|████████████████████| 38/38 [00:04<00:00,  8.11it/s]\n",
      "Training CNN Epoch 12: 100%|████████████████████| 38/38 [00:04<00:00,  7.86it/s]\n",
      "Training CNN Epoch 13: 100%|████████████████████| 38/38 [00:04<00:00,  7.68it/s]\n",
      "Training CNN Epoch 14: 100%|████████████████████| 38/38 [00:04<00:00,  8.13it/s]\n",
      "Training CNN Epoch 15: 100%|████████████████████| 38/38 [00:04<00:00,  8.30it/s]\n",
      "Training CNN Epoch 16: 100%|████████████████████| 38/38 [00:04<00:00,  8.19it/s]\n",
      "Training CNN Epoch 17: 100%|████████████████████| 38/38 [00:04<00:00,  8.37it/s]\n",
      "Training CNN Epoch 18: 100%|████████████████████| 38/38 [00:04<00:00,  8.38it/s]\n",
      "Training CNN Epoch 19: 100%|████████████████████| 38/38 [00:04<00:00,  8.36it/s]\n",
      "Training CNN Epoch 20: 100%|████████████████████| 38/38 [00:04<00:00,  8.34it/s]\n",
      "Training CNN Epoch 21: 100%|████████████████████| 38/38 [00:04<00:00,  8.32it/s]\n",
      "Training CNN Epoch 22: 100%|████████████████████| 38/38 [00:04<00:00,  8.31it/s]\n",
      "Training CNN Epoch 23: 100%|████████████████████| 38/38 [00:04<00:00,  8.36it/s]\n",
      "Training CNN Epoch 24: 100%|████████████████████| 38/38 [00:04<00:00,  8.26it/s]\n",
      "Training CNN Epoch 25: 100%|████████████████████| 38/38 [00:04<00:00,  8.28it/s]\n",
      "Training CNN Epoch 26: 100%|████████████████████| 38/38 [00:04<00:00,  8.29it/s]\n",
      "Training CNN Epoch 27: 100%|████████████████████| 38/38 [00:04<00:00,  8.31it/s]\n",
      "Training CNN Epoch 28: 100%|████████████████████| 38/38 [00:04<00:00,  8.32it/s]\n",
      "Training CNN Epoch 29: 100%|████████████████████| 38/38 [00:04<00:00,  7.88it/s]\n",
      "Training CNN Epoch 30: 100%|████████████████████| 38/38 [00:04<00:00,  8.33it/s]\n",
      "Training CNN Epoch 31: 100%|████████████████████| 38/38 [00:04<00:00,  8.31it/s]\n",
      "Training CNN Epoch 32: 100%|████████████████████| 38/38 [00:04<00:00,  8.33it/s]\n",
      "Training CNN Epoch 33: 100%|████████████████████| 38/38 [00:04<00:00,  8.03it/s]\n",
      "Training CNN Epoch 34: 100%|████████████████████| 38/38 [00:04<00:00,  8.11it/s]\n",
      "Training CNN Epoch 35: 100%|████████████████████| 38/38 [00:04<00:00,  8.31it/s]\n",
      "Training CNN Epoch 36: 100%|████████████████████| 38/38 [00:04<00:00,  8.35it/s]\n",
      "Training CNN Epoch 37: 100%|████████████████████| 38/38 [00:04<00:00,  8.33it/s]\n",
      "Training CNN Epoch 38: 100%|████████████████████| 38/38 [00:04<00:00,  8.35it/s]\n",
      "Training CNN Epoch 39: 100%|████████████████████| 38/38 [00:04<00:00,  8.37it/s]\n",
      "Training CNN Epoch 40: 100%|████████████████████| 38/38 [00:04<00:00,  8.31it/s]\n",
      "Training CNN Epoch 41: 100%|████████████████████| 38/38 [00:04<00:00,  8.33it/s]\n",
      "Training CNN Epoch 42: 100%|████████████████████| 38/38 [00:04<00:00,  8.14it/s]\n",
      "Training CNN Epoch 43: 100%|████████████████████| 38/38 [00:04<00:00,  8.33it/s]\n",
      "Training CNN Epoch 44: 100%|████████████████████| 38/38 [00:04<00:00,  8.28it/s]\n",
      "Training CNN Epoch 45: 100%|████████████████████| 38/38 [00:04<00:00,  8.37it/s]\n",
      "Training CNN Epoch 46: 100%|████████████████████| 38/38 [00:04<00:00,  8.05it/s]\n",
      "Training CNN Epoch 47: 100%|████████████████████| 38/38 [00:04<00:00,  8.36it/s]\n",
      "Training CNN Epoch 48: 100%|████████████████████| 38/38 [00:04<00:00,  8.36it/s]\n",
      "Training CNN Epoch 49: 100%|████████████████████| 38/38 [00:04<00:00,  8.39it/s]\n",
      "Training CNN Epoch 50: 100%|████████████████████| 38/38 [00:04<00:00,  8.38it/s]\n",
      "Training CNN Epoch 51: 100%|████████████████████| 38/38 [00:04<00:00,  8.37it/s]\n",
      "Training CNN Epoch 52: 100%|████████████████████| 38/38 [00:04<00:00,  8.38it/s]\n",
      "Training CNN Epoch 53: 100%|████████████████████| 38/38 [00:04<00:00,  8.38it/s]\n",
      "Training CNN Epoch 54: 100%|████████████████████| 38/38 [00:04<00:00,  8.37it/s]\n",
      "Training CNN Epoch 55: 100%|████████████████████| 38/38 [00:04<00:00,  8.34it/s]\n",
      "Training CNN Epoch 56: 100%|████████████████████| 38/38 [00:04<00:00,  8.27it/s]\n",
      "Training CNN Epoch 57: 100%|████████████████████| 38/38 [00:04<00:00,  8.25it/s]\n",
      "Training CNN Epoch 58: 100%|████████████████████| 38/38 [00:04<00:00,  7.96it/s]\n",
      "Training CNN Epoch 59: 100%|████████████████████| 38/38 [00:04<00:00,  8.15it/s]\n",
      "Training CNN Epoch 60: 100%|████████████████████| 38/38 [00:04<00:00,  8.30it/s]\n",
      "Training CNN Epoch 61: 100%|████████████████████| 38/38 [00:04<00:00,  8.36it/s]\n",
      "Training CNN Epoch 62: 100%|████████████████████| 38/38 [00:04<00:00,  8.17it/s]\n",
      "Training CNN Epoch 63: 100%|████████████████████| 38/38 [00:04<00:00,  8.00it/s]\n",
      "Training CNN Epoch 64: 100%|████████████████████| 38/38 [00:04<00:00,  8.31it/s]\n",
      "Training CNN Epoch 65: 100%|████████████████████| 38/38 [00:04<00:00,  8.35it/s]\n",
      "Training CNN Epoch 66: 100%|████████████████████| 38/38 [00:04<00:00,  8.28it/s]\n",
      "Training CNN Epoch 67: 100%|████████████████████| 38/38 [00:04<00:00,  8.37it/s]\n",
      "Training CNN Epoch 68: 100%|████████████████████| 38/38 [00:04<00:00,  8.32it/s]\n",
      "Training CNN Epoch 69: 100%|████████████████████| 38/38 [00:04<00:00,  8.21it/s]\n",
      "Training CNN Epoch 70: 100%|████████████████████| 38/38 [00:04<00:00,  8.27it/s]\n",
      "Training CNN Epoch 71: 100%|████████████████████| 38/38 [00:04<00:00,  8.38it/s]\n",
      "Training CNN Epoch 72: 100%|████████████████████| 38/38 [00:04<00:00,  8.36it/s]\n",
      "Training CNN Epoch 73: 100%|████████████████████| 38/38 [00:04<00:00,  8.31it/s]\n",
      "Training CNN Epoch 74: 100%|████████████████████| 38/38 [00:04<00:00,  8.37it/s]\n",
      "Training CNN Epoch 75: 100%|████████████████████| 38/38 [00:04<00:00,  8.34it/s]\n",
      "Training CNN Epoch 76: 100%|████████████████████| 38/38 [00:04<00:00,  8.37it/s]\n",
      "Training CNN Epoch 77: 100%|████████████████████| 38/38 [00:04<00:00,  8.33it/s]\n",
      "Training CNN Epoch 78: 100%|████████████████████| 38/38 [00:04<00:00,  8.38it/s]\n",
      "Training CNN Epoch 79: 100%|████████████████████| 38/38 [00:04<00:00,  8.34it/s]\n",
      "Training CNN Epoch 80: 100%|████████████████████| 38/38 [00:04<00:00,  8.39it/s]\n",
      "Training CNN Epoch 81: 100%|████████████████████| 38/38 [00:04<00:00,  8.36it/s]\n",
      "Training CNN Epoch 82: 100%|████████████████████| 38/38 [00:04<00:00,  8.19it/s]\n",
      "Training CNN Epoch 83: 100%|████████████████████| 38/38 [00:04<00:00,  8.32it/s]\n",
      "Training CNN Epoch 84: 100%|████████████████████| 38/38 [00:04<00:00,  8.34it/s]\n",
      "Training CNN Epoch 85: 100%|████████████████████| 38/38 [00:04<00:00,  8.38it/s]\n",
      "Training CNN Epoch 86: 100%|████████████████████| 38/38 [00:04<00:00,  8.33it/s]\n",
      "Training CNN Epoch 87: 100%|████████████████████| 38/38 [00:04<00:00,  8.39it/s]\n",
      "Training CNN Epoch 88: 100%|████████████████████| 38/38 [00:04<00:00,  8.35it/s]\n",
      "Training CNN Epoch 89: 100%|████████████████████| 38/38 [00:04<00:00,  8.36it/s]\n",
      "Training CNN Epoch 90: 100%|████████████████████| 38/38 [00:04<00:00,  8.31it/s]\n",
      "Training CNN Epoch 91: 100%|████████████████████| 38/38 [00:04<00:00,  8.32it/s]\n",
      "Training CNN Epoch 92: 100%|████████████████████| 38/38 [00:04<00:00,  8.32it/s]\n",
      "Training CNN Epoch 93: 100%|████████████████████| 38/38 [00:04<00:00,  8.31it/s]\n",
      "Training CNN Epoch 94: 100%|████████████████████| 38/38 [00:04<00:00,  8.36it/s]\n",
      "Training CNN Epoch 95: 100%|████████████████████| 38/38 [00:04<00:00,  8.28it/s]\n",
      "Training CNN Epoch 96: 100%|████████████████████| 38/38 [00:04<00:00,  8.31it/s]\n",
      "Training CNN Epoch 97: 100%|████████████████████| 38/38 [00:04<00:00,  8.34it/s]\n",
      "Training CNN Epoch 98: 100%|████████████████████| 38/38 [00:04<00:00,  8.36it/s]\n",
      "Training CNN Epoch 99: 100%|████████████████████| 38/38 [00:04<00:00,  8.27it/s]\n",
      "Training CNN Epoch 100: 100%|███████████████████| 38/38 [00:04<00:00,  8.34it/s]\n"
     ]
    },
    {
     "name": "stdout",
     "output_type": "stream",
     "text": [
      "Evaluating on train set...\n"
     ]
    },
    {
     "name": "stderr",
     "output_type": "stream",
     "text": [
      "Evaluating Train Set: 100%|█████████████████████| 38/38 [00:04<00:00,  8.41it/s]\n"
     ]
    },
    {
     "name": "stdout",
     "output_type": "stream",
     "text": [
      "Evaluating on test set...\n"
     ]
    },
    {
     "name": "stderr",
     "output_type": "stream",
     "text": [
      "Evaluating Test Set: 100%|████████████████████| 119/119 [00:07<00:00, 15.78it/s]"
     ]
    },
    {
     "name": "stdout",
     "output_type": "stream",
     "text": [
      "Threshold 98%: Train Accuracy: 98.54%, Test Accuracy: 58.96%\n"
     ]
    },
    {
     "name": "stderr",
     "output_type": "stream",
     "text": [
      "\n"
     ]
    }
   ],
   "source": [
    "threshold = 100 - 2\n",
    "print(f\"Pruning dataset at {threshold}% threshold...\")\n",
    "pruned_indices = []\n",
    "for class_label in range(4):  # Assuming there are 4 classes\n",
    "    class_indices = [i for i, label in enumerate(train_labels) if label == class_label]\n",
    "    class_perplexities = [train_perplexities[i] for i in class_indices]\n",
    "    class_threshold = np.percentile(class_perplexities, threshold)\n",
    "    pruned_class_indices = [class_indices[i] for i, perplexity in enumerate(class_perplexities) if perplexity >= class_threshold]\n",
    "    print(len(pruned_class_indices))\n",
    "    pruned_indices.extend(pruned_class_indices)\n",
    "\n",
    "pruned_train_texts = [train_texts[i] for i in pruned_indices]\n",
    "pruned_train_labels = [train_labels[i] for i in pruned_indices]\n",
    "pruned_train_dataset = AGNewsDataset(pruned_train_texts, pruned_train_labels)\n",
    "\n",
    "train_acc, test_acc = train_and_evaluate(pruned_train_dataset)\n",
    "train_accuracies.append(train_acc)\n",
    "test_accuracies.append(test_acc)\n",
    "print(f'Threshold {threshold}%: Train Accuracy: {train_acc:.2f}%, Test Accuracy: {test_acc:.2f}%')"
   ]
  },
  {
   "cell_type": "code",
   "execution_count": null,
   "id": "bdee4e2a-c178-454f-b20a-a378c97e4aa0",
   "metadata": {},
   "outputs": [],
   "source": []
  },
  {
   "cell_type": "markdown",
   "id": "61cac33f-5fc3-44a6-961c-424a2b69db56",
   "metadata": {},
   "source": [
    "# EL2N and Memorization"
   ]
  },
  {
   "cell_type": "code",
   "execution_count": 55,
   "id": "b39ccdb2-c916-46dd-b864-12c6eb258419",
   "metadata": {},
   "outputs": [],
   "source": [
    "\n",
    "def calculate_el2n(texts, tokenizer, model, steps=250):\n",
    "    model.eval()\n",
    "    el2n_scores = []\n",
    "\n",
    "    for text in tqdm(texts, desc=\"Calculating EL2N\"):\n",
    "        inputs = tokenizer(text, return_tensors='pt', max_length=128, truncation=True, padding='max_length').to(device)\n",
    "        outputs = model(**inputs)\n",
    "        optimizer.zero_grad()\n",
    "        logits = outputs.logits\n",
    "        y_true = inputs['input_ids']\n",
    "\n",
    "        # One-hot encode y_true\n",
    "        y_true_one_hot = torch.nn.functional.one_hot(y_true, num_classes=logits.size(-1)).float()\n",
    "\n",
    "        # Compute the L2 norm of the error vector for each sequence\n",
    "        error_vector = torch.norm(logits - y_true_one_hot, p=2, dim=-1)  # Sum over vocab dimension\n",
    "        el2n_score = error_vector.mean().item()  # Mean over sequence length\n",
    "        el2n_scores.append(el2n_score)\n",
    "    \n",
    "    return el2n_scores\n",
    "    \n",
    "# Function to calculate Memorization\n",
    "def calculate_memorization(texts, tokenizer, model, M=32, N=32):\n",
    "    model.eval()\n",
    "    memorization_scores = []\n",
    "    for text in tqdm(texts, desc=\"Calculating Memorization\"):\n",
    "        inputs = tokenizer(text, return_tensors='pt', truncation=True, padding='max_length', max_length=M+N).to(device)\n",
    "        input_length = inputs['input_ids'].size(1)\n",
    "        \n",
    "        if input_length < M + N:\n",
    "            M = input_length // 2\n",
    "            N = input_length - M\n",
    "\n",
    "        with torch.no_grad():\n",
    "            outputs = model.generate(inputs['input_ids'][:, :M], max_length=M+N)\n",
    "            original_tokens = inputs['input_ids'][:, M:M+N].cpu().numpy()\n",
    "            generated_tokens = outputs[:, M:M+N].cpu().numpy()\n",
    "            memorization_score = (original_tokens == generated_tokens).mean()\n",
    "            memorization_scores.append(memorization_score)\n",
    "    return memorization_scores\n",
    "\n"
   ]
  },
  {
   "cell_type": "code",
   "execution_count": 56,
   "id": "5c221857-b479-42c5-8188-a39600585deb",
   "metadata": {
    "scrolled": true
   },
   "outputs": [
    {
     "name": "stderr",
     "output_type": "stream",
     "text": [
      "Calculating EL2N: 100%|█████████████████| 120000/120000 [33:20<00:00, 60.00it/s]\n",
      "Calculating Memorization:   0%|          | 22/120000 [00:07<10:54:40,  3.05it/s]A decoder-only architecture is being used, but right-padding was detected! For correct generation results, please set `padding_side='left'` when initializing the tokenizer.\n",
      "Calculating Memorization:   0%|          | 30/120000 [00:09<10:54:06,  3.06it/s]A decoder-only architecture is being used, but right-padding was detected! For correct generation results, please set `padding_side='left'` when initializing the tokenizer.\n",
      "Calculating Memorization:   0%|          | 34/120000 [00:11<10:53:10,  3.06it/s]A decoder-only architecture is being used, but right-padding was detected! For correct generation results, please set `padding_side='left'` when initializing the tokenizer.\n",
      "Calculating Memorization:   0%|          | 49/120000 [00:16<10:54:55,  3.05it/s]A decoder-only architecture is being used, but right-padding was detected! For correct generation results, please set `padding_side='left'` when initializing the tokenizer.\n",
      "Calculating Memorization:   0%|          | 50/120000 [00:16<10:55:15,  3.05it/s]A decoder-only architecture is being used, but right-padding was detected! For correct generation results, please set `padding_side='left'` when initializing the tokenizer.\n",
      "Calculating Memorization:   0%|          | 51/120000 [00:16<10:54:35,  3.05it/s]A decoder-only architecture is being used, but right-padding was detected! For correct generation results, please set `padding_side='left'` when initializing the tokenizer.\n",
      "Calculating Memorization:   0%|          | 54/120000 [00:17<10:53:15,  3.06it/s]A decoder-only architecture is being used, but right-padding was detected! For correct generation results, please set `padding_side='left'` when initializing the tokenizer.\n",
      "Calculating Memorization:   0%|          | 55/120000 [00:18<10:52:40,  3.06it/s]A decoder-only architecture is being used, but right-padding was detected! For correct generation results, please set `padding_side='left'` when initializing the tokenizer.\n",
      "Calculating Memorization:   0%|          | 56/120000 [00:18<10:56:37,  3.04it/s]A decoder-only architecture is being used, but right-padding was detected! For correct generation results, please set `padding_side='left'` when initializing the tokenizer.\n",
      "Calculating Memorization:   0%|          | 57/120000 [00:18<10:55:49,  3.05it/s]A decoder-only architecture is being used, but right-padding was detected! For correct generation results, please set `padding_side='left'` when initializing the tokenizer.\n",
      "Calculating Memorization:   0%|          | 85/120000 [00:27<10:52:55,  3.06it/s]A decoder-only architecture is being used, but right-padding was detected! For correct generation results, please set `padding_side='left'` when initializing the tokenizer.\n",
      "Calculating Memorization:   0%|         | 179/120000 [00:58<10:56:14,  3.04it/s]\n"
     ]
    },
    {
     "ename": "KeyboardInterrupt",
     "evalue": "",
     "output_type": "error",
     "traceback": [
      "\u001b[0;31m---------------------------------------------------------------------------\u001b[0m",
      "\u001b[0;31mKeyboardInterrupt\u001b[0m                         Traceback (most recent call last)",
      "Cell \u001b[0;32mIn[56], line 2\u001b[0m\n\u001b[1;32m      1\u001b[0m train_el2n \u001b[38;5;241m=\u001b[39m calculate_el2n(train_texts, tokenizer, lm_model)\n\u001b[0;32m----> 2\u001b[0m train_memorization \u001b[38;5;241m=\u001b[39m \u001b[43mcalculate_memorization\u001b[49m\u001b[43m(\u001b[49m\u001b[43mtrain_texts\u001b[49m\u001b[43m,\u001b[49m\u001b[43m \u001b[49m\u001b[43mtokenizer\u001b[49m\u001b[43m,\u001b[49m\u001b[43m \u001b[49m\u001b[43mlm_model\u001b[49m\u001b[43m)\u001b[49m\n",
      "Cell \u001b[0;32mIn[55], line 35\u001b[0m, in \u001b[0;36mcalculate_memorization\u001b[0;34m(texts, tokenizer, model, M, N)\u001b[0m\n\u001b[1;32m     32\u001b[0m     N \u001b[38;5;241m=\u001b[39m input_length \u001b[38;5;241m-\u001b[39m M\n\u001b[1;32m     34\u001b[0m \u001b[38;5;28;01mwith\u001b[39;00m torch\u001b[38;5;241m.\u001b[39mno_grad():\n\u001b[0;32m---> 35\u001b[0m     outputs \u001b[38;5;241m=\u001b[39m \u001b[43mmodel\u001b[49m\u001b[38;5;241;43m.\u001b[39;49m\u001b[43mgenerate\u001b[49m\u001b[43m(\u001b[49m\u001b[43minputs\u001b[49m\u001b[43m[\u001b[49m\u001b[38;5;124;43m'\u001b[39;49m\u001b[38;5;124;43minput_ids\u001b[39;49m\u001b[38;5;124;43m'\u001b[39;49m\u001b[43m]\u001b[49m\u001b[43m[\u001b[49m\u001b[43m:\u001b[49m\u001b[43m,\u001b[49m\u001b[43m \u001b[49m\u001b[43m:\u001b[49m\u001b[43mM\u001b[49m\u001b[43m]\u001b[49m\u001b[43m,\u001b[49m\u001b[43m \u001b[49m\u001b[43mmax_length\u001b[49m\u001b[38;5;241;43m=\u001b[39;49m\u001b[43mM\u001b[49m\u001b[38;5;241;43m+\u001b[39;49m\u001b[43mN\u001b[49m\u001b[43m)\u001b[49m\n\u001b[1;32m     36\u001b[0m     original_tokens \u001b[38;5;241m=\u001b[39m inputs[\u001b[38;5;124m'\u001b[39m\u001b[38;5;124minput_ids\u001b[39m\u001b[38;5;124m'\u001b[39m][:, M:M\u001b[38;5;241m+\u001b[39mN]\u001b[38;5;241m.\u001b[39mcpu()\u001b[38;5;241m.\u001b[39mnumpy()\n\u001b[1;32m     37\u001b[0m     generated_tokens \u001b[38;5;241m=\u001b[39m outputs[:, M:M\u001b[38;5;241m+\u001b[39mN]\u001b[38;5;241m.\u001b[39mcpu()\u001b[38;5;241m.\u001b[39mnumpy()\n",
      "File \u001b[0;32m~/.local/lib/python3.9/site-packages/torch/utils/_contextlib.py:115\u001b[0m, in \u001b[0;36mcontext_decorator.<locals>.decorate_context\u001b[0;34m(*args, **kwargs)\u001b[0m\n\u001b[1;32m    112\u001b[0m \u001b[38;5;129m@functools\u001b[39m\u001b[38;5;241m.\u001b[39mwraps(func)\n\u001b[1;32m    113\u001b[0m \u001b[38;5;28;01mdef\u001b[39;00m \u001b[38;5;21mdecorate_context\u001b[39m(\u001b[38;5;241m*\u001b[39margs, \u001b[38;5;241m*\u001b[39m\u001b[38;5;241m*\u001b[39mkwargs):\n\u001b[1;32m    114\u001b[0m     \u001b[38;5;28;01mwith\u001b[39;00m ctx_factory():\n\u001b[0;32m--> 115\u001b[0m         \u001b[38;5;28;01mreturn\u001b[39;00m \u001b[43mfunc\u001b[49m\u001b[43m(\u001b[49m\u001b[38;5;241;43m*\u001b[39;49m\u001b[43margs\u001b[49m\u001b[43m,\u001b[49m\u001b[43m \u001b[49m\u001b[38;5;241;43m*\u001b[39;49m\u001b[38;5;241;43m*\u001b[39;49m\u001b[43mkwargs\u001b[49m\u001b[43m)\u001b[49m\n",
      "File \u001b[0;32m~/.local/lib/python3.9/site-packages/transformers/generation/utils.py:1522\u001b[0m, in \u001b[0;36mGenerationMixin.generate\u001b[0;34m(self, inputs, generation_config, logits_processor, stopping_criteria, prefix_allowed_tokens_fn, synced_gpus, assistant_model, streamer, **kwargs)\u001b[0m\n\u001b[1;32m   1516\u001b[0m         \u001b[38;5;28;01mraise\u001b[39;00m \u001b[38;5;167;01mValueError\u001b[39;00m(\n\u001b[1;32m   1517\u001b[0m             \u001b[38;5;124m\"\u001b[39m\u001b[38;5;124mnum_return_sequences has to be 1 when doing greedy search, \u001b[39m\u001b[38;5;124m\"\u001b[39m\n\u001b[1;32m   1518\u001b[0m             \u001b[38;5;124mf\u001b[39m\u001b[38;5;124m\"\u001b[39m\u001b[38;5;124mbut is \u001b[39m\u001b[38;5;132;01m{\u001b[39;00mgeneration_config\u001b[38;5;241m.\u001b[39mnum_return_sequences\u001b[38;5;132;01m}\u001b[39;00m\u001b[38;5;124m.\u001b[39m\u001b[38;5;124m\"\u001b[39m\n\u001b[1;32m   1519\u001b[0m         )\n\u001b[1;32m   1521\u001b[0m     \u001b[38;5;66;03m# 11. run greedy search\u001b[39;00m\n\u001b[0;32m-> 1522\u001b[0m     \u001b[38;5;28;01mreturn\u001b[39;00m \u001b[38;5;28;43mself\u001b[39;49m\u001b[38;5;241;43m.\u001b[39;49m\u001b[43mgreedy_search\u001b[49m\u001b[43m(\u001b[49m\n\u001b[1;32m   1523\u001b[0m \u001b[43m        \u001b[49m\u001b[43minput_ids\u001b[49m\u001b[43m,\u001b[49m\n\u001b[1;32m   1524\u001b[0m \u001b[43m        \u001b[49m\u001b[43mlogits_processor\u001b[49m\u001b[38;5;241;43m=\u001b[39;49m\u001b[43mlogits_processor\u001b[49m\u001b[43m,\u001b[49m\n\u001b[1;32m   1525\u001b[0m \u001b[43m        \u001b[49m\u001b[43mstopping_criteria\u001b[49m\u001b[38;5;241;43m=\u001b[39;49m\u001b[43mstopping_criteria\u001b[49m\u001b[43m,\u001b[49m\n\u001b[1;32m   1526\u001b[0m \u001b[43m        \u001b[49m\u001b[43mpad_token_id\u001b[49m\u001b[38;5;241;43m=\u001b[39;49m\u001b[43mgeneration_config\u001b[49m\u001b[38;5;241;43m.\u001b[39;49m\u001b[43mpad_token_id\u001b[49m\u001b[43m,\u001b[49m\n\u001b[1;32m   1527\u001b[0m \u001b[43m        \u001b[49m\u001b[43meos_token_id\u001b[49m\u001b[38;5;241;43m=\u001b[39;49m\u001b[43mgeneration_config\u001b[49m\u001b[38;5;241;43m.\u001b[39;49m\u001b[43meos_token_id\u001b[49m\u001b[43m,\u001b[49m\n\u001b[1;32m   1528\u001b[0m \u001b[43m        \u001b[49m\u001b[43moutput_scores\u001b[49m\u001b[38;5;241;43m=\u001b[39;49m\u001b[43mgeneration_config\u001b[49m\u001b[38;5;241;43m.\u001b[39;49m\u001b[43moutput_scores\u001b[49m\u001b[43m,\u001b[49m\n\u001b[1;32m   1529\u001b[0m \u001b[43m        \u001b[49m\u001b[43mreturn_dict_in_generate\u001b[49m\u001b[38;5;241;43m=\u001b[39;49m\u001b[43mgeneration_config\u001b[49m\u001b[38;5;241;43m.\u001b[39;49m\u001b[43mreturn_dict_in_generate\u001b[49m\u001b[43m,\u001b[49m\n\u001b[1;32m   1530\u001b[0m \u001b[43m        \u001b[49m\u001b[43msynced_gpus\u001b[49m\u001b[38;5;241;43m=\u001b[39;49m\u001b[43msynced_gpus\u001b[49m\u001b[43m,\u001b[49m\n\u001b[1;32m   1531\u001b[0m \u001b[43m        \u001b[49m\u001b[43mstreamer\u001b[49m\u001b[38;5;241;43m=\u001b[39;49m\u001b[43mstreamer\u001b[49m\u001b[43m,\u001b[49m\n\u001b[1;32m   1532\u001b[0m \u001b[43m        \u001b[49m\u001b[38;5;241;43m*\u001b[39;49m\u001b[38;5;241;43m*\u001b[39;49m\u001b[43mmodel_kwargs\u001b[49m\u001b[43m,\u001b[49m\n\u001b[1;32m   1533\u001b[0m \u001b[43m    \u001b[49m\u001b[43m)\u001b[49m\n\u001b[1;32m   1535\u001b[0m \u001b[38;5;28;01melif\u001b[39;00m is_contrastive_search_gen_mode:\n\u001b[1;32m   1536\u001b[0m     \u001b[38;5;28;01mif\u001b[39;00m generation_config\u001b[38;5;241m.\u001b[39mnum_return_sequences \u001b[38;5;241m>\u001b[39m \u001b[38;5;241m1\u001b[39m:\n",
      "File \u001b[0;32m~/.local/lib/python3.9/site-packages/transformers/generation/utils.py:2339\u001b[0m, in \u001b[0;36mGenerationMixin.greedy_search\u001b[0;34m(self, input_ids, logits_processor, stopping_criteria, max_length, pad_token_id, eos_token_id, output_attentions, output_hidden_states, output_scores, return_dict_in_generate, synced_gpus, streamer, **model_kwargs)\u001b[0m\n\u001b[1;32m   2336\u001b[0m model_inputs \u001b[38;5;241m=\u001b[39m \u001b[38;5;28mself\u001b[39m\u001b[38;5;241m.\u001b[39mprepare_inputs_for_generation(input_ids, \u001b[38;5;241m*\u001b[39m\u001b[38;5;241m*\u001b[39mmodel_kwargs)\n\u001b[1;32m   2338\u001b[0m \u001b[38;5;66;03m# forward pass to get next token\u001b[39;00m\n\u001b[0;32m-> 2339\u001b[0m outputs \u001b[38;5;241m=\u001b[39m \u001b[38;5;28;43mself\u001b[39;49m\u001b[43m(\u001b[49m\n\u001b[1;32m   2340\u001b[0m \u001b[43m    \u001b[49m\u001b[38;5;241;43m*\u001b[39;49m\u001b[38;5;241;43m*\u001b[39;49m\u001b[43mmodel_inputs\u001b[49m\u001b[43m,\u001b[49m\n\u001b[1;32m   2341\u001b[0m \u001b[43m    \u001b[49m\u001b[43mreturn_dict\u001b[49m\u001b[38;5;241;43m=\u001b[39;49m\u001b[38;5;28;43;01mTrue\u001b[39;49;00m\u001b[43m,\u001b[49m\n\u001b[1;32m   2342\u001b[0m \u001b[43m    \u001b[49m\u001b[43moutput_attentions\u001b[49m\u001b[38;5;241;43m=\u001b[39;49m\u001b[43moutput_attentions\u001b[49m\u001b[43m,\u001b[49m\n\u001b[1;32m   2343\u001b[0m \u001b[43m    \u001b[49m\u001b[43moutput_hidden_states\u001b[49m\u001b[38;5;241;43m=\u001b[39;49m\u001b[43moutput_hidden_states\u001b[49m\u001b[43m,\u001b[49m\n\u001b[1;32m   2344\u001b[0m \u001b[43m\u001b[49m\u001b[43m)\u001b[49m\n\u001b[1;32m   2346\u001b[0m \u001b[38;5;28;01mif\u001b[39;00m synced_gpus \u001b[38;5;129;01mand\u001b[39;00m this_peer_finished:\n\u001b[1;32m   2347\u001b[0m     \u001b[38;5;28;01mcontinue\u001b[39;00m  \u001b[38;5;66;03m# don't waste resources running the code we don't need\u001b[39;00m\n",
      "File \u001b[0;32m~/.local/lib/python3.9/site-packages/torch/nn/modules/module.py:1501\u001b[0m, in \u001b[0;36mModule._call_impl\u001b[0;34m(self, *args, **kwargs)\u001b[0m\n\u001b[1;32m   1496\u001b[0m \u001b[38;5;66;03m# If we don't have any hooks, we want to skip the rest of the logic in\u001b[39;00m\n\u001b[1;32m   1497\u001b[0m \u001b[38;5;66;03m# this function, and just call forward.\u001b[39;00m\n\u001b[1;32m   1498\u001b[0m \u001b[38;5;28;01mif\u001b[39;00m \u001b[38;5;129;01mnot\u001b[39;00m (\u001b[38;5;28mself\u001b[39m\u001b[38;5;241m.\u001b[39m_backward_hooks \u001b[38;5;129;01mor\u001b[39;00m \u001b[38;5;28mself\u001b[39m\u001b[38;5;241m.\u001b[39m_backward_pre_hooks \u001b[38;5;129;01mor\u001b[39;00m \u001b[38;5;28mself\u001b[39m\u001b[38;5;241m.\u001b[39m_forward_hooks \u001b[38;5;129;01mor\u001b[39;00m \u001b[38;5;28mself\u001b[39m\u001b[38;5;241m.\u001b[39m_forward_pre_hooks\n\u001b[1;32m   1499\u001b[0m         \u001b[38;5;129;01mor\u001b[39;00m _global_backward_pre_hooks \u001b[38;5;129;01mor\u001b[39;00m _global_backward_hooks\n\u001b[1;32m   1500\u001b[0m         \u001b[38;5;129;01mor\u001b[39;00m _global_forward_hooks \u001b[38;5;129;01mor\u001b[39;00m _global_forward_pre_hooks):\n\u001b[0;32m-> 1501\u001b[0m     \u001b[38;5;28;01mreturn\u001b[39;00m \u001b[43mforward_call\u001b[49m\u001b[43m(\u001b[49m\u001b[38;5;241;43m*\u001b[39;49m\u001b[43margs\u001b[49m\u001b[43m,\u001b[49m\u001b[43m \u001b[49m\u001b[38;5;241;43m*\u001b[39;49m\u001b[38;5;241;43m*\u001b[39;49m\u001b[43mkwargs\u001b[49m\u001b[43m)\u001b[49m\n\u001b[1;32m   1502\u001b[0m \u001b[38;5;66;03m# Do not call functions when jit is used\u001b[39;00m\n\u001b[1;32m   1503\u001b[0m full_backward_hooks, non_full_backward_hooks \u001b[38;5;241m=\u001b[39m [], []\n",
      "File \u001b[0;32m~/.local/lib/python3.9/site-packages/transformers/models/bert/modeling_bert.py:1358\u001b[0m, in \u001b[0;36mBertForMaskedLM.forward\u001b[0;34m(self, input_ids, attention_mask, token_type_ids, position_ids, head_mask, inputs_embeds, encoder_hidden_states, encoder_attention_mask, labels, output_attentions, output_hidden_states, return_dict)\u001b[0m\n\u001b[1;32m   1349\u001b[0m \u001b[38;5;250m\u001b[39m\u001b[38;5;124mr\u001b[39m\u001b[38;5;124;03m\"\"\"\u001b[39;00m\n\u001b[1;32m   1350\u001b[0m \u001b[38;5;124;03mlabels (`torch.LongTensor` of shape `(batch_size, sequence_length)`, *optional*):\u001b[39;00m\n\u001b[1;32m   1351\u001b[0m \u001b[38;5;124;03m    Labels for computing the masked language modeling loss. Indices should be in `[-100, 0, ...,\u001b[39;00m\n\u001b[1;32m   1352\u001b[0m \u001b[38;5;124;03m    config.vocab_size]` (see `input_ids` docstring) Tokens with indices set to `-100` are ignored (masked), the\u001b[39;00m\n\u001b[1;32m   1353\u001b[0m \u001b[38;5;124;03m    loss is only computed for the tokens with labels in `[0, ..., config.vocab_size]`\u001b[39;00m\n\u001b[1;32m   1354\u001b[0m \u001b[38;5;124;03m\"\"\"\u001b[39;00m\n\u001b[1;32m   1356\u001b[0m return_dict \u001b[38;5;241m=\u001b[39m return_dict \u001b[38;5;28;01mif\u001b[39;00m return_dict \u001b[38;5;129;01mis\u001b[39;00m \u001b[38;5;129;01mnot\u001b[39;00m \u001b[38;5;28;01mNone\u001b[39;00m \u001b[38;5;28;01melse\u001b[39;00m \u001b[38;5;28mself\u001b[39m\u001b[38;5;241m.\u001b[39mconfig\u001b[38;5;241m.\u001b[39muse_return_dict\n\u001b[0;32m-> 1358\u001b[0m outputs \u001b[38;5;241m=\u001b[39m \u001b[38;5;28;43mself\u001b[39;49m\u001b[38;5;241;43m.\u001b[39;49m\u001b[43mbert\u001b[49m\u001b[43m(\u001b[49m\n\u001b[1;32m   1359\u001b[0m \u001b[43m    \u001b[49m\u001b[43minput_ids\u001b[49m\u001b[43m,\u001b[49m\n\u001b[1;32m   1360\u001b[0m \u001b[43m    \u001b[49m\u001b[43mattention_mask\u001b[49m\u001b[38;5;241;43m=\u001b[39;49m\u001b[43mattention_mask\u001b[49m\u001b[43m,\u001b[49m\n\u001b[1;32m   1361\u001b[0m \u001b[43m    \u001b[49m\u001b[43mtoken_type_ids\u001b[49m\u001b[38;5;241;43m=\u001b[39;49m\u001b[43mtoken_type_ids\u001b[49m\u001b[43m,\u001b[49m\n\u001b[1;32m   1362\u001b[0m \u001b[43m    \u001b[49m\u001b[43mposition_ids\u001b[49m\u001b[38;5;241;43m=\u001b[39;49m\u001b[43mposition_ids\u001b[49m\u001b[43m,\u001b[49m\n\u001b[1;32m   1363\u001b[0m \u001b[43m    \u001b[49m\u001b[43mhead_mask\u001b[49m\u001b[38;5;241;43m=\u001b[39;49m\u001b[43mhead_mask\u001b[49m\u001b[43m,\u001b[49m\n\u001b[1;32m   1364\u001b[0m \u001b[43m    \u001b[49m\u001b[43minputs_embeds\u001b[49m\u001b[38;5;241;43m=\u001b[39;49m\u001b[43minputs_embeds\u001b[49m\u001b[43m,\u001b[49m\n\u001b[1;32m   1365\u001b[0m \u001b[43m    \u001b[49m\u001b[43mencoder_hidden_states\u001b[49m\u001b[38;5;241;43m=\u001b[39;49m\u001b[43mencoder_hidden_states\u001b[49m\u001b[43m,\u001b[49m\n\u001b[1;32m   1366\u001b[0m \u001b[43m    \u001b[49m\u001b[43mencoder_attention_mask\u001b[49m\u001b[38;5;241;43m=\u001b[39;49m\u001b[43mencoder_attention_mask\u001b[49m\u001b[43m,\u001b[49m\n\u001b[1;32m   1367\u001b[0m \u001b[43m    \u001b[49m\u001b[43moutput_attentions\u001b[49m\u001b[38;5;241;43m=\u001b[39;49m\u001b[43moutput_attentions\u001b[49m\u001b[43m,\u001b[49m\n\u001b[1;32m   1368\u001b[0m \u001b[43m    \u001b[49m\u001b[43moutput_hidden_states\u001b[49m\u001b[38;5;241;43m=\u001b[39;49m\u001b[43moutput_hidden_states\u001b[49m\u001b[43m,\u001b[49m\n\u001b[1;32m   1369\u001b[0m \u001b[43m    \u001b[49m\u001b[43mreturn_dict\u001b[49m\u001b[38;5;241;43m=\u001b[39;49m\u001b[43mreturn_dict\u001b[49m\u001b[43m,\u001b[49m\n\u001b[1;32m   1370\u001b[0m \u001b[43m\u001b[49m\u001b[43m)\u001b[49m\n\u001b[1;32m   1372\u001b[0m sequence_output \u001b[38;5;241m=\u001b[39m outputs[\u001b[38;5;241m0\u001b[39m]\n\u001b[1;32m   1373\u001b[0m prediction_scores \u001b[38;5;241m=\u001b[39m \u001b[38;5;28mself\u001b[39m\u001b[38;5;241m.\u001b[39mcls(sequence_output)\n",
      "File \u001b[0;32m~/.local/lib/python3.9/site-packages/torch/nn/modules/module.py:1501\u001b[0m, in \u001b[0;36mModule._call_impl\u001b[0;34m(self, *args, **kwargs)\u001b[0m\n\u001b[1;32m   1496\u001b[0m \u001b[38;5;66;03m# If we don't have any hooks, we want to skip the rest of the logic in\u001b[39;00m\n\u001b[1;32m   1497\u001b[0m \u001b[38;5;66;03m# this function, and just call forward.\u001b[39;00m\n\u001b[1;32m   1498\u001b[0m \u001b[38;5;28;01mif\u001b[39;00m \u001b[38;5;129;01mnot\u001b[39;00m (\u001b[38;5;28mself\u001b[39m\u001b[38;5;241m.\u001b[39m_backward_hooks \u001b[38;5;129;01mor\u001b[39;00m \u001b[38;5;28mself\u001b[39m\u001b[38;5;241m.\u001b[39m_backward_pre_hooks \u001b[38;5;129;01mor\u001b[39;00m \u001b[38;5;28mself\u001b[39m\u001b[38;5;241m.\u001b[39m_forward_hooks \u001b[38;5;129;01mor\u001b[39;00m \u001b[38;5;28mself\u001b[39m\u001b[38;5;241m.\u001b[39m_forward_pre_hooks\n\u001b[1;32m   1499\u001b[0m         \u001b[38;5;129;01mor\u001b[39;00m _global_backward_pre_hooks \u001b[38;5;129;01mor\u001b[39;00m _global_backward_hooks\n\u001b[1;32m   1500\u001b[0m         \u001b[38;5;129;01mor\u001b[39;00m _global_forward_hooks \u001b[38;5;129;01mor\u001b[39;00m _global_forward_pre_hooks):\n\u001b[0;32m-> 1501\u001b[0m     \u001b[38;5;28;01mreturn\u001b[39;00m \u001b[43mforward_call\u001b[49m\u001b[43m(\u001b[49m\u001b[38;5;241;43m*\u001b[39;49m\u001b[43margs\u001b[49m\u001b[43m,\u001b[49m\u001b[43m \u001b[49m\u001b[38;5;241;43m*\u001b[39;49m\u001b[38;5;241;43m*\u001b[39;49m\u001b[43mkwargs\u001b[49m\u001b[43m)\u001b[49m\n\u001b[1;32m   1502\u001b[0m \u001b[38;5;66;03m# Do not call functions when jit is used\u001b[39;00m\n\u001b[1;32m   1503\u001b[0m full_backward_hooks, non_full_backward_hooks \u001b[38;5;241m=\u001b[39m [], []\n",
      "File \u001b[0;32m~/.local/lib/python3.9/site-packages/transformers/models/bert/modeling_bert.py:1020\u001b[0m, in \u001b[0;36mBertModel.forward\u001b[0;34m(self, input_ids, attention_mask, token_type_ids, position_ids, head_mask, inputs_embeds, encoder_hidden_states, encoder_attention_mask, past_key_values, use_cache, output_attentions, output_hidden_states, return_dict)\u001b[0m\n\u001b[1;32m   1011\u001b[0m head_mask \u001b[38;5;241m=\u001b[39m \u001b[38;5;28mself\u001b[39m\u001b[38;5;241m.\u001b[39mget_head_mask(head_mask, \u001b[38;5;28mself\u001b[39m\u001b[38;5;241m.\u001b[39mconfig\u001b[38;5;241m.\u001b[39mnum_hidden_layers)\n\u001b[1;32m   1013\u001b[0m embedding_output \u001b[38;5;241m=\u001b[39m \u001b[38;5;28mself\u001b[39m\u001b[38;5;241m.\u001b[39membeddings(\n\u001b[1;32m   1014\u001b[0m     input_ids\u001b[38;5;241m=\u001b[39minput_ids,\n\u001b[1;32m   1015\u001b[0m     position_ids\u001b[38;5;241m=\u001b[39mposition_ids,\n\u001b[0;32m   (...)\u001b[0m\n\u001b[1;32m   1018\u001b[0m     past_key_values_length\u001b[38;5;241m=\u001b[39mpast_key_values_length,\n\u001b[1;32m   1019\u001b[0m )\n\u001b[0;32m-> 1020\u001b[0m encoder_outputs \u001b[38;5;241m=\u001b[39m \u001b[38;5;28;43mself\u001b[39;49m\u001b[38;5;241;43m.\u001b[39;49m\u001b[43mencoder\u001b[49m\u001b[43m(\u001b[49m\n\u001b[1;32m   1021\u001b[0m \u001b[43m    \u001b[49m\u001b[43membedding_output\u001b[49m\u001b[43m,\u001b[49m\n\u001b[1;32m   1022\u001b[0m \u001b[43m    \u001b[49m\u001b[43mattention_mask\u001b[49m\u001b[38;5;241;43m=\u001b[39;49m\u001b[43mextended_attention_mask\u001b[49m\u001b[43m,\u001b[49m\n\u001b[1;32m   1023\u001b[0m \u001b[43m    \u001b[49m\u001b[43mhead_mask\u001b[49m\u001b[38;5;241;43m=\u001b[39;49m\u001b[43mhead_mask\u001b[49m\u001b[43m,\u001b[49m\n\u001b[1;32m   1024\u001b[0m \u001b[43m    \u001b[49m\u001b[43mencoder_hidden_states\u001b[49m\u001b[38;5;241;43m=\u001b[39;49m\u001b[43mencoder_hidden_states\u001b[49m\u001b[43m,\u001b[49m\n\u001b[1;32m   1025\u001b[0m \u001b[43m    \u001b[49m\u001b[43mencoder_attention_mask\u001b[49m\u001b[38;5;241;43m=\u001b[39;49m\u001b[43mencoder_extended_attention_mask\u001b[49m\u001b[43m,\u001b[49m\n\u001b[1;32m   1026\u001b[0m \u001b[43m    \u001b[49m\u001b[43mpast_key_values\u001b[49m\u001b[38;5;241;43m=\u001b[39;49m\u001b[43mpast_key_values\u001b[49m\u001b[43m,\u001b[49m\n\u001b[1;32m   1027\u001b[0m \u001b[43m    \u001b[49m\u001b[43muse_cache\u001b[49m\u001b[38;5;241;43m=\u001b[39;49m\u001b[43muse_cache\u001b[49m\u001b[43m,\u001b[49m\n\u001b[1;32m   1028\u001b[0m \u001b[43m    \u001b[49m\u001b[43moutput_attentions\u001b[49m\u001b[38;5;241;43m=\u001b[39;49m\u001b[43moutput_attentions\u001b[49m\u001b[43m,\u001b[49m\n\u001b[1;32m   1029\u001b[0m \u001b[43m    \u001b[49m\u001b[43moutput_hidden_states\u001b[49m\u001b[38;5;241;43m=\u001b[39;49m\u001b[43moutput_hidden_states\u001b[49m\u001b[43m,\u001b[49m\n\u001b[1;32m   1030\u001b[0m \u001b[43m    \u001b[49m\u001b[43mreturn_dict\u001b[49m\u001b[38;5;241;43m=\u001b[39;49m\u001b[43mreturn_dict\u001b[49m\u001b[43m,\u001b[49m\n\u001b[1;32m   1031\u001b[0m \u001b[43m\u001b[49m\u001b[43m)\u001b[49m\n\u001b[1;32m   1032\u001b[0m sequence_output \u001b[38;5;241m=\u001b[39m encoder_outputs[\u001b[38;5;241m0\u001b[39m]\n\u001b[1;32m   1033\u001b[0m pooled_output \u001b[38;5;241m=\u001b[39m \u001b[38;5;28mself\u001b[39m\u001b[38;5;241m.\u001b[39mpooler(sequence_output) \u001b[38;5;28;01mif\u001b[39;00m \u001b[38;5;28mself\u001b[39m\u001b[38;5;241m.\u001b[39mpooler \u001b[38;5;129;01mis\u001b[39;00m \u001b[38;5;129;01mnot\u001b[39;00m \u001b[38;5;28;01mNone\u001b[39;00m \u001b[38;5;28;01melse\u001b[39;00m \u001b[38;5;28;01mNone\u001b[39;00m\n",
      "File \u001b[0;32m~/.local/lib/python3.9/site-packages/torch/nn/modules/module.py:1501\u001b[0m, in \u001b[0;36mModule._call_impl\u001b[0;34m(self, *args, **kwargs)\u001b[0m\n\u001b[1;32m   1496\u001b[0m \u001b[38;5;66;03m# If we don't have any hooks, we want to skip the rest of the logic in\u001b[39;00m\n\u001b[1;32m   1497\u001b[0m \u001b[38;5;66;03m# this function, and just call forward.\u001b[39;00m\n\u001b[1;32m   1498\u001b[0m \u001b[38;5;28;01mif\u001b[39;00m \u001b[38;5;129;01mnot\u001b[39;00m (\u001b[38;5;28mself\u001b[39m\u001b[38;5;241m.\u001b[39m_backward_hooks \u001b[38;5;129;01mor\u001b[39;00m \u001b[38;5;28mself\u001b[39m\u001b[38;5;241m.\u001b[39m_backward_pre_hooks \u001b[38;5;129;01mor\u001b[39;00m \u001b[38;5;28mself\u001b[39m\u001b[38;5;241m.\u001b[39m_forward_hooks \u001b[38;5;129;01mor\u001b[39;00m \u001b[38;5;28mself\u001b[39m\u001b[38;5;241m.\u001b[39m_forward_pre_hooks\n\u001b[1;32m   1499\u001b[0m         \u001b[38;5;129;01mor\u001b[39;00m _global_backward_pre_hooks \u001b[38;5;129;01mor\u001b[39;00m _global_backward_hooks\n\u001b[1;32m   1500\u001b[0m         \u001b[38;5;129;01mor\u001b[39;00m _global_forward_hooks \u001b[38;5;129;01mor\u001b[39;00m _global_forward_pre_hooks):\n\u001b[0;32m-> 1501\u001b[0m     \u001b[38;5;28;01mreturn\u001b[39;00m \u001b[43mforward_call\u001b[49m\u001b[43m(\u001b[49m\u001b[38;5;241;43m*\u001b[39;49m\u001b[43margs\u001b[49m\u001b[43m,\u001b[49m\u001b[43m \u001b[49m\u001b[38;5;241;43m*\u001b[39;49m\u001b[38;5;241;43m*\u001b[39;49m\u001b[43mkwargs\u001b[49m\u001b[43m)\u001b[49m\n\u001b[1;32m   1502\u001b[0m \u001b[38;5;66;03m# Do not call functions when jit is used\u001b[39;00m\n\u001b[1;32m   1503\u001b[0m full_backward_hooks, non_full_backward_hooks \u001b[38;5;241m=\u001b[39m [], []\n",
      "File \u001b[0;32m~/.local/lib/python3.9/site-packages/transformers/models/bert/modeling_bert.py:610\u001b[0m, in \u001b[0;36mBertEncoder.forward\u001b[0;34m(self, hidden_states, attention_mask, head_mask, encoder_hidden_states, encoder_attention_mask, past_key_values, use_cache, output_attentions, output_hidden_states, return_dict)\u001b[0m\n\u001b[1;32m    601\u001b[0m     layer_outputs \u001b[38;5;241m=\u001b[39m torch\u001b[38;5;241m.\u001b[39mutils\u001b[38;5;241m.\u001b[39mcheckpoint\u001b[38;5;241m.\u001b[39mcheckpoint(\n\u001b[1;32m    602\u001b[0m         create_custom_forward(layer_module),\n\u001b[1;32m    603\u001b[0m         hidden_states,\n\u001b[0;32m   (...)\u001b[0m\n\u001b[1;32m    607\u001b[0m         encoder_attention_mask,\n\u001b[1;32m    608\u001b[0m     )\n\u001b[1;32m    609\u001b[0m \u001b[38;5;28;01melse\u001b[39;00m:\n\u001b[0;32m--> 610\u001b[0m     layer_outputs \u001b[38;5;241m=\u001b[39m \u001b[43mlayer_module\u001b[49m\u001b[43m(\u001b[49m\n\u001b[1;32m    611\u001b[0m \u001b[43m        \u001b[49m\u001b[43mhidden_states\u001b[49m\u001b[43m,\u001b[49m\n\u001b[1;32m    612\u001b[0m \u001b[43m        \u001b[49m\u001b[43mattention_mask\u001b[49m\u001b[43m,\u001b[49m\n\u001b[1;32m    613\u001b[0m \u001b[43m        \u001b[49m\u001b[43mlayer_head_mask\u001b[49m\u001b[43m,\u001b[49m\n\u001b[1;32m    614\u001b[0m \u001b[43m        \u001b[49m\u001b[43mencoder_hidden_states\u001b[49m\u001b[43m,\u001b[49m\n\u001b[1;32m    615\u001b[0m \u001b[43m        \u001b[49m\u001b[43mencoder_attention_mask\u001b[49m\u001b[43m,\u001b[49m\n\u001b[1;32m    616\u001b[0m \u001b[43m        \u001b[49m\u001b[43mpast_key_value\u001b[49m\u001b[43m,\u001b[49m\n\u001b[1;32m    617\u001b[0m \u001b[43m        \u001b[49m\u001b[43moutput_attentions\u001b[49m\u001b[43m,\u001b[49m\n\u001b[1;32m    618\u001b[0m \u001b[43m    \u001b[49m\u001b[43m)\u001b[49m\n\u001b[1;32m    620\u001b[0m hidden_states \u001b[38;5;241m=\u001b[39m layer_outputs[\u001b[38;5;241m0\u001b[39m]\n\u001b[1;32m    621\u001b[0m \u001b[38;5;28;01mif\u001b[39;00m use_cache:\n",
      "File \u001b[0;32m~/.local/lib/python3.9/site-packages/torch/nn/modules/module.py:1501\u001b[0m, in \u001b[0;36mModule._call_impl\u001b[0;34m(self, *args, **kwargs)\u001b[0m\n\u001b[1;32m   1496\u001b[0m \u001b[38;5;66;03m# If we don't have any hooks, we want to skip the rest of the logic in\u001b[39;00m\n\u001b[1;32m   1497\u001b[0m \u001b[38;5;66;03m# this function, and just call forward.\u001b[39;00m\n\u001b[1;32m   1498\u001b[0m \u001b[38;5;28;01mif\u001b[39;00m \u001b[38;5;129;01mnot\u001b[39;00m (\u001b[38;5;28mself\u001b[39m\u001b[38;5;241m.\u001b[39m_backward_hooks \u001b[38;5;129;01mor\u001b[39;00m \u001b[38;5;28mself\u001b[39m\u001b[38;5;241m.\u001b[39m_backward_pre_hooks \u001b[38;5;129;01mor\u001b[39;00m \u001b[38;5;28mself\u001b[39m\u001b[38;5;241m.\u001b[39m_forward_hooks \u001b[38;5;129;01mor\u001b[39;00m \u001b[38;5;28mself\u001b[39m\u001b[38;5;241m.\u001b[39m_forward_pre_hooks\n\u001b[1;32m   1499\u001b[0m         \u001b[38;5;129;01mor\u001b[39;00m _global_backward_pre_hooks \u001b[38;5;129;01mor\u001b[39;00m _global_backward_hooks\n\u001b[1;32m   1500\u001b[0m         \u001b[38;5;129;01mor\u001b[39;00m _global_forward_hooks \u001b[38;5;129;01mor\u001b[39;00m _global_forward_pre_hooks):\n\u001b[0;32m-> 1501\u001b[0m     \u001b[38;5;28;01mreturn\u001b[39;00m \u001b[43mforward_call\u001b[49m\u001b[43m(\u001b[49m\u001b[38;5;241;43m*\u001b[39;49m\u001b[43margs\u001b[49m\u001b[43m,\u001b[49m\u001b[43m \u001b[49m\u001b[38;5;241;43m*\u001b[39;49m\u001b[38;5;241;43m*\u001b[39;49m\u001b[43mkwargs\u001b[49m\u001b[43m)\u001b[49m\n\u001b[1;32m   1502\u001b[0m \u001b[38;5;66;03m# Do not call functions when jit is used\u001b[39;00m\n\u001b[1;32m   1503\u001b[0m full_backward_hooks, non_full_backward_hooks \u001b[38;5;241m=\u001b[39m [], []\n",
      "File \u001b[0;32m~/.local/lib/python3.9/site-packages/transformers/models/bert/modeling_bert.py:495\u001b[0m, in \u001b[0;36mBertLayer.forward\u001b[0;34m(self, hidden_states, attention_mask, head_mask, encoder_hidden_states, encoder_attention_mask, past_key_value, output_attentions)\u001b[0m\n\u001b[1;32m    483\u001b[0m \u001b[38;5;28;01mdef\u001b[39;00m \u001b[38;5;21mforward\u001b[39m(\n\u001b[1;32m    484\u001b[0m     \u001b[38;5;28mself\u001b[39m,\n\u001b[1;32m    485\u001b[0m     hidden_states: torch\u001b[38;5;241m.\u001b[39mTensor,\n\u001b[0;32m   (...)\u001b[0m\n\u001b[1;32m    492\u001b[0m ) \u001b[38;5;241m-\u001b[39m\u001b[38;5;241m>\u001b[39m Tuple[torch\u001b[38;5;241m.\u001b[39mTensor]:\n\u001b[1;32m    493\u001b[0m     \u001b[38;5;66;03m# decoder uni-directional self-attention cached key/values tuple is at positions 1,2\u001b[39;00m\n\u001b[1;32m    494\u001b[0m     self_attn_past_key_value \u001b[38;5;241m=\u001b[39m past_key_value[:\u001b[38;5;241m2\u001b[39m] \u001b[38;5;28;01mif\u001b[39;00m past_key_value \u001b[38;5;129;01mis\u001b[39;00m \u001b[38;5;129;01mnot\u001b[39;00m \u001b[38;5;28;01mNone\u001b[39;00m \u001b[38;5;28;01melse\u001b[39;00m \u001b[38;5;28;01mNone\u001b[39;00m\n\u001b[0;32m--> 495\u001b[0m     self_attention_outputs \u001b[38;5;241m=\u001b[39m \u001b[38;5;28;43mself\u001b[39;49m\u001b[38;5;241;43m.\u001b[39;49m\u001b[43mattention\u001b[49m\u001b[43m(\u001b[49m\n\u001b[1;32m    496\u001b[0m \u001b[43m        \u001b[49m\u001b[43mhidden_states\u001b[49m\u001b[43m,\u001b[49m\n\u001b[1;32m    497\u001b[0m \u001b[43m        \u001b[49m\u001b[43mattention_mask\u001b[49m\u001b[43m,\u001b[49m\n\u001b[1;32m    498\u001b[0m \u001b[43m        \u001b[49m\u001b[43mhead_mask\u001b[49m\u001b[43m,\u001b[49m\n\u001b[1;32m    499\u001b[0m \u001b[43m        \u001b[49m\u001b[43moutput_attentions\u001b[49m\u001b[38;5;241;43m=\u001b[39;49m\u001b[43moutput_attentions\u001b[49m\u001b[43m,\u001b[49m\n\u001b[1;32m    500\u001b[0m \u001b[43m        \u001b[49m\u001b[43mpast_key_value\u001b[49m\u001b[38;5;241;43m=\u001b[39;49m\u001b[43mself_attn_past_key_value\u001b[49m\u001b[43m,\u001b[49m\n\u001b[1;32m    501\u001b[0m \u001b[43m    \u001b[49m\u001b[43m)\u001b[49m\n\u001b[1;32m    502\u001b[0m     attention_output \u001b[38;5;241m=\u001b[39m self_attention_outputs[\u001b[38;5;241m0\u001b[39m]\n\u001b[1;32m    504\u001b[0m     \u001b[38;5;66;03m# if decoder, the last output is tuple of self-attn cache\u001b[39;00m\n",
      "File \u001b[0;32m~/.local/lib/python3.9/site-packages/torch/nn/modules/module.py:1501\u001b[0m, in \u001b[0;36mModule._call_impl\u001b[0;34m(self, *args, **kwargs)\u001b[0m\n\u001b[1;32m   1496\u001b[0m \u001b[38;5;66;03m# If we don't have any hooks, we want to skip the rest of the logic in\u001b[39;00m\n\u001b[1;32m   1497\u001b[0m \u001b[38;5;66;03m# this function, and just call forward.\u001b[39;00m\n\u001b[1;32m   1498\u001b[0m \u001b[38;5;28;01mif\u001b[39;00m \u001b[38;5;129;01mnot\u001b[39;00m (\u001b[38;5;28mself\u001b[39m\u001b[38;5;241m.\u001b[39m_backward_hooks \u001b[38;5;129;01mor\u001b[39;00m \u001b[38;5;28mself\u001b[39m\u001b[38;5;241m.\u001b[39m_backward_pre_hooks \u001b[38;5;129;01mor\u001b[39;00m \u001b[38;5;28mself\u001b[39m\u001b[38;5;241m.\u001b[39m_forward_hooks \u001b[38;5;129;01mor\u001b[39;00m \u001b[38;5;28mself\u001b[39m\u001b[38;5;241m.\u001b[39m_forward_pre_hooks\n\u001b[1;32m   1499\u001b[0m         \u001b[38;5;129;01mor\u001b[39;00m _global_backward_pre_hooks \u001b[38;5;129;01mor\u001b[39;00m _global_backward_hooks\n\u001b[1;32m   1500\u001b[0m         \u001b[38;5;129;01mor\u001b[39;00m _global_forward_hooks \u001b[38;5;129;01mor\u001b[39;00m _global_forward_pre_hooks):\n\u001b[0;32m-> 1501\u001b[0m     \u001b[38;5;28;01mreturn\u001b[39;00m \u001b[43mforward_call\u001b[49m\u001b[43m(\u001b[49m\u001b[38;5;241;43m*\u001b[39;49m\u001b[43margs\u001b[49m\u001b[43m,\u001b[49m\u001b[43m \u001b[49m\u001b[38;5;241;43m*\u001b[39;49m\u001b[38;5;241;43m*\u001b[39;49m\u001b[43mkwargs\u001b[49m\u001b[43m)\u001b[49m\n\u001b[1;32m   1502\u001b[0m \u001b[38;5;66;03m# Do not call functions when jit is used\u001b[39;00m\n\u001b[1;32m   1503\u001b[0m full_backward_hooks, non_full_backward_hooks \u001b[38;5;241m=\u001b[39m [], []\n",
      "File \u001b[0;32m~/.local/lib/python3.9/site-packages/transformers/models/bert/modeling_bert.py:425\u001b[0m, in \u001b[0;36mBertAttention.forward\u001b[0;34m(self, hidden_states, attention_mask, head_mask, encoder_hidden_states, encoder_attention_mask, past_key_value, output_attentions)\u001b[0m\n\u001b[1;32m    415\u001b[0m \u001b[38;5;28;01mdef\u001b[39;00m \u001b[38;5;21mforward\u001b[39m(\n\u001b[1;32m    416\u001b[0m     \u001b[38;5;28mself\u001b[39m,\n\u001b[1;32m    417\u001b[0m     hidden_states: torch\u001b[38;5;241m.\u001b[39mTensor,\n\u001b[0;32m   (...)\u001b[0m\n\u001b[1;32m    423\u001b[0m     output_attentions: Optional[\u001b[38;5;28mbool\u001b[39m] \u001b[38;5;241m=\u001b[39m \u001b[38;5;28;01mFalse\u001b[39;00m,\n\u001b[1;32m    424\u001b[0m ) \u001b[38;5;241m-\u001b[39m\u001b[38;5;241m>\u001b[39m Tuple[torch\u001b[38;5;241m.\u001b[39mTensor]:\n\u001b[0;32m--> 425\u001b[0m     self_outputs \u001b[38;5;241m=\u001b[39m \u001b[38;5;28;43mself\u001b[39;49m\u001b[38;5;241;43m.\u001b[39;49m\u001b[43mself\u001b[49m\u001b[43m(\u001b[49m\n\u001b[1;32m    426\u001b[0m \u001b[43m        \u001b[49m\u001b[43mhidden_states\u001b[49m\u001b[43m,\u001b[49m\n\u001b[1;32m    427\u001b[0m \u001b[43m        \u001b[49m\u001b[43mattention_mask\u001b[49m\u001b[43m,\u001b[49m\n\u001b[1;32m    428\u001b[0m \u001b[43m        \u001b[49m\u001b[43mhead_mask\u001b[49m\u001b[43m,\u001b[49m\n\u001b[1;32m    429\u001b[0m \u001b[43m        \u001b[49m\u001b[43mencoder_hidden_states\u001b[49m\u001b[43m,\u001b[49m\n\u001b[1;32m    430\u001b[0m \u001b[43m        \u001b[49m\u001b[43mencoder_attention_mask\u001b[49m\u001b[43m,\u001b[49m\n\u001b[1;32m    431\u001b[0m \u001b[43m        \u001b[49m\u001b[43mpast_key_value\u001b[49m\u001b[43m,\u001b[49m\n\u001b[1;32m    432\u001b[0m \u001b[43m        \u001b[49m\u001b[43moutput_attentions\u001b[49m\u001b[43m,\u001b[49m\n\u001b[1;32m    433\u001b[0m \u001b[43m    \u001b[49m\u001b[43m)\u001b[49m\n\u001b[1;32m    434\u001b[0m     attention_output \u001b[38;5;241m=\u001b[39m \u001b[38;5;28mself\u001b[39m\u001b[38;5;241m.\u001b[39moutput(self_outputs[\u001b[38;5;241m0\u001b[39m], hidden_states)\n\u001b[1;32m    435\u001b[0m     outputs \u001b[38;5;241m=\u001b[39m (attention_output,) \u001b[38;5;241m+\u001b[39m self_outputs[\u001b[38;5;241m1\u001b[39m:]  \u001b[38;5;66;03m# add attentions if we output them\u001b[39;00m\n",
      "File \u001b[0;32m~/.local/lib/python3.9/site-packages/torch/nn/modules/module.py:1501\u001b[0m, in \u001b[0;36mModule._call_impl\u001b[0;34m(self, *args, **kwargs)\u001b[0m\n\u001b[1;32m   1496\u001b[0m \u001b[38;5;66;03m# If we don't have any hooks, we want to skip the rest of the logic in\u001b[39;00m\n\u001b[1;32m   1497\u001b[0m \u001b[38;5;66;03m# this function, and just call forward.\u001b[39;00m\n\u001b[1;32m   1498\u001b[0m \u001b[38;5;28;01mif\u001b[39;00m \u001b[38;5;129;01mnot\u001b[39;00m (\u001b[38;5;28mself\u001b[39m\u001b[38;5;241m.\u001b[39m_backward_hooks \u001b[38;5;129;01mor\u001b[39;00m \u001b[38;5;28mself\u001b[39m\u001b[38;5;241m.\u001b[39m_backward_pre_hooks \u001b[38;5;129;01mor\u001b[39;00m \u001b[38;5;28mself\u001b[39m\u001b[38;5;241m.\u001b[39m_forward_hooks \u001b[38;5;129;01mor\u001b[39;00m \u001b[38;5;28mself\u001b[39m\u001b[38;5;241m.\u001b[39m_forward_pre_hooks\n\u001b[1;32m   1499\u001b[0m         \u001b[38;5;129;01mor\u001b[39;00m _global_backward_pre_hooks \u001b[38;5;129;01mor\u001b[39;00m _global_backward_hooks\n\u001b[1;32m   1500\u001b[0m         \u001b[38;5;129;01mor\u001b[39;00m _global_forward_hooks \u001b[38;5;129;01mor\u001b[39;00m _global_forward_pre_hooks):\n\u001b[0;32m-> 1501\u001b[0m     \u001b[38;5;28;01mreturn\u001b[39;00m \u001b[43mforward_call\u001b[49m\u001b[43m(\u001b[49m\u001b[38;5;241;43m*\u001b[39;49m\u001b[43margs\u001b[49m\u001b[43m,\u001b[49m\u001b[43m \u001b[49m\u001b[38;5;241;43m*\u001b[39;49m\u001b[38;5;241;43m*\u001b[39;49m\u001b[43mkwargs\u001b[49m\u001b[43m)\u001b[49m\n\u001b[1;32m   1502\u001b[0m \u001b[38;5;66;03m# Do not call functions when jit is used\u001b[39;00m\n\u001b[1;32m   1503\u001b[0m full_backward_hooks, non_full_backward_hooks \u001b[38;5;241m=\u001b[39m [], []\n",
      "File \u001b[0;32m~/.local/lib/python3.9/site-packages/transformers/models/bert/modeling_bert.py:306\u001b[0m, in \u001b[0;36mBertSelfAttention.forward\u001b[0;34m(self, hidden_states, attention_mask, head_mask, encoder_hidden_states, encoder_attention_mask, past_key_value, output_attentions)\u001b[0m\n\u001b[1;32m    304\u001b[0m     value_layer \u001b[38;5;241m=\u001b[39m torch\u001b[38;5;241m.\u001b[39mcat([past_key_value[\u001b[38;5;241m1\u001b[39m], value_layer], dim\u001b[38;5;241m=\u001b[39m\u001b[38;5;241m2\u001b[39m)\n\u001b[1;32m    305\u001b[0m \u001b[38;5;28;01melse\u001b[39;00m:\n\u001b[0;32m--> 306\u001b[0m     key_layer \u001b[38;5;241m=\u001b[39m \u001b[38;5;28mself\u001b[39m\u001b[38;5;241m.\u001b[39mtranspose_for_scores(\u001b[38;5;28;43mself\u001b[39;49m\u001b[38;5;241;43m.\u001b[39;49m\u001b[43mkey\u001b[49m\u001b[43m(\u001b[49m\u001b[43mhidden_states\u001b[49m\u001b[43m)\u001b[49m)\n\u001b[1;32m    307\u001b[0m     value_layer \u001b[38;5;241m=\u001b[39m \u001b[38;5;28mself\u001b[39m\u001b[38;5;241m.\u001b[39mtranspose_for_scores(\u001b[38;5;28mself\u001b[39m\u001b[38;5;241m.\u001b[39mvalue(hidden_states))\n\u001b[1;32m    309\u001b[0m query_layer \u001b[38;5;241m=\u001b[39m \u001b[38;5;28mself\u001b[39m\u001b[38;5;241m.\u001b[39mtranspose_for_scores(mixed_query_layer)\n",
      "File \u001b[0;32m~/.local/lib/python3.9/site-packages/torch/nn/modules/module.py:1501\u001b[0m, in \u001b[0;36mModule._call_impl\u001b[0;34m(self, *args, **kwargs)\u001b[0m\n\u001b[1;32m   1496\u001b[0m \u001b[38;5;66;03m# If we don't have any hooks, we want to skip the rest of the logic in\u001b[39;00m\n\u001b[1;32m   1497\u001b[0m \u001b[38;5;66;03m# this function, and just call forward.\u001b[39;00m\n\u001b[1;32m   1498\u001b[0m \u001b[38;5;28;01mif\u001b[39;00m \u001b[38;5;129;01mnot\u001b[39;00m (\u001b[38;5;28mself\u001b[39m\u001b[38;5;241m.\u001b[39m_backward_hooks \u001b[38;5;129;01mor\u001b[39;00m \u001b[38;5;28mself\u001b[39m\u001b[38;5;241m.\u001b[39m_backward_pre_hooks \u001b[38;5;129;01mor\u001b[39;00m \u001b[38;5;28mself\u001b[39m\u001b[38;5;241m.\u001b[39m_forward_hooks \u001b[38;5;129;01mor\u001b[39;00m \u001b[38;5;28mself\u001b[39m\u001b[38;5;241m.\u001b[39m_forward_pre_hooks\n\u001b[1;32m   1499\u001b[0m         \u001b[38;5;129;01mor\u001b[39;00m _global_backward_pre_hooks \u001b[38;5;129;01mor\u001b[39;00m _global_backward_hooks\n\u001b[1;32m   1500\u001b[0m         \u001b[38;5;129;01mor\u001b[39;00m _global_forward_hooks \u001b[38;5;129;01mor\u001b[39;00m _global_forward_pre_hooks):\n\u001b[0;32m-> 1501\u001b[0m     \u001b[38;5;28;01mreturn\u001b[39;00m \u001b[43mforward_call\u001b[49m\u001b[43m(\u001b[49m\u001b[38;5;241;43m*\u001b[39;49m\u001b[43margs\u001b[49m\u001b[43m,\u001b[49m\u001b[43m \u001b[49m\u001b[38;5;241;43m*\u001b[39;49m\u001b[38;5;241;43m*\u001b[39;49m\u001b[43mkwargs\u001b[49m\u001b[43m)\u001b[49m\n\u001b[1;32m   1502\u001b[0m \u001b[38;5;66;03m# Do not call functions when jit is used\u001b[39;00m\n\u001b[1;32m   1503\u001b[0m full_backward_hooks, non_full_backward_hooks \u001b[38;5;241m=\u001b[39m [], []\n",
      "File \u001b[0;32m~/.local/lib/python3.9/site-packages/torch/nn/modules/linear.py:114\u001b[0m, in \u001b[0;36mLinear.forward\u001b[0;34m(self, input)\u001b[0m\n\u001b[1;32m    113\u001b[0m \u001b[38;5;28;01mdef\u001b[39;00m \u001b[38;5;21mforward\u001b[39m(\u001b[38;5;28mself\u001b[39m, \u001b[38;5;28minput\u001b[39m: Tensor) \u001b[38;5;241m-\u001b[39m\u001b[38;5;241m>\u001b[39m Tensor:\n\u001b[0;32m--> 114\u001b[0m     \u001b[38;5;28;01mreturn\u001b[39;00m \u001b[43mF\u001b[49m\u001b[38;5;241;43m.\u001b[39;49m\u001b[43mlinear\u001b[49m\u001b[43m(\u001b[49m\u001b[38;5;28;43minput\u001b[39;49m\u001b[43m,\u001b[49m\u001b[43m \u001b[49m\u001b[38;5;28;43mself\u001b[39;49m\u001b[38;5;241;43m.\u001b[39;49m\u001b[43mweight\u001b[49m\u001b[43m,\u001b[49m\u001b[43m \u001b[49m\u001b[38;5;28;43mself\u001b[39;49m\u001b[38;5;241;43m.\u001b[39;49m\u001b[43mbias\u001b[49m\u001b[43m)\u001b[49m\n",
      "\u001b[0;31mKeyboardInterrupt\u001b[0m: "
     ]
    }
   ],
   "source": [
    "train_el2n = calculate_el2n(train_texts, tokenizer, lm_model)"
   ]
  },
  {
   "cell_type": "code",
   "execution_count": 59,
   "id": "05051c3a-e451-4d7a-b506-6ac367128a18",
   "metadata": {},
   "outputs": [],
   "source": [
    "def train_and_evaluate(pruned_train_dataset, n_epochs = 10):\n",
    "    train_loader = data.DataLoader(pruned_train_dataset, batch_size=64, shuffle=True)\n",
    "    model = CNNModel().to(device)\n",
    "    criterion = nn.CrossEntropyLoss()\n",
    "    optimizer = optim.Adam(model.parameters(), lr=0.001)\n",
    "    \n",
    "    # Training\n",
    "    print(\"Training CNN model...\")\n",
    "    for epoch in range(n_epochs):  # Fixed number of epochs for consistency\n",
    "        model.train()\n",
    "        for inputs, labels in tqdm(train_loader, desc=f\"Training CNN Epoch {epoch+1}\"):\n",
    "            inputs, labels = inputs.to(device), labels.to(device)\n",
    "            optimizer.zero_grad()\n",
    "            outputs = model(inputs)\n",
    "            loss = criterion(outputs, labels)\n",
    "            loss.backward()\n",
    "            optimizer.step()\n",
    "    \n",
    "    # Evaluate on train set\n",
    "    print(\"Evaluating on train set...\")\n",
    "    model.eval()\n",
    "    train_correct = 0\n",
    "    train_total = 0\n",
    "    with torch.no_grad():\n",
    "        for inputs, labels in tqdm(train_loader, desc=\"Evaluating Train Set\"):\n",
    "            inputs, labels = inputs.to(device), labels.to(device)\n",
    "            outputs = model(inputs)\n",
    "            _, predicted = torch.max(outputs.data, 1)\n",
    "            train_total += labels.size(0)\n",
    "            train_correct += (predicted == labels).sum().item()\n",
    "    train_accuracy = 100 * train_correct / train_total\n",
    "\n",
    "    # Evaluate on test set\n",
    "    print(\"Evaluating on test set...\")\n",
    "    test_correct = 0\n",
    "    test_total = 0\n",
    "    with torch.no_grad():\n",
    "        for inputs, labels in tqdm(test_loader, desc=\"Evaluating Test Set\"):\n",
    "            inputs, labels = inputs.to(device), labels.to(device)\n",
    "            outputs = model(inputs)\n",
    "            _, predicted = torch.max(outputs.data, 1)\n",
    "            test_total += labels.size(0)\n",
    "            test_correct += (predicted == labels).sum().item()\n",
    "    test_accuracy = 100 * test_correct / test_total\n",
    "    \n",
    "    return train_accuracy, test_accuracy"
   ]
  },
  {
   "cell_type": "code",
   "execution_count": 62,
   "id": "915502ca-ea83-4c44-9dba-2a1f6b8e25e6",
   "metadata": {},
   "outputs": [],
   "source": [
    "# Function to prune based on a given metric\n",
    "def prune_dataset(scores, train_texts, train_labels, threshold, class_label):\n",
    "    pruned_indices = []\n",
    "    for class_label in range(4): \n",
    "        class_indices = [i for i, label in enumerate(train_labels) if label == class_label]\n",
    "        class_scores = [scores[i] for i in class_indices]\n",
    "        class_threshold = np.percentile(class_scores, threshold)\n",
    "        pruned_class_indices = [class_indices[i] for i, score in enumerate(class_scores) if score <= class_threshold]\n",
    "        pruned_indices.extend(pruned_class_indices)\n",
    "    \n",
    "    pruned_train_texts = [train_texts[i] for i in pruned_indices]\n",
    "    len(pruned_train_texts)\n",
    "    pruned_train_labels = [train_labels[i] for i in pruned_indices]\n",
    "    pruned_train_dataset = AGNewsDataset(pruned_train_texts, pruned_train_labels)\n",
    "    return pruned_train_dataset"
   ]
  },
  {
   "cell_type": "code",
   "execution_count": 60,
   "id": "c1b50e02-1490-4cca-abf5-0488fe8125f3",
   "metadata": {},
   "outputs": [
    {
     "name": "stdout",
     "output_type": "stream",
     "text": [
      "Preparing test dataset...\n",
      "Starting pruning and evaluation based on EL2N scores...\n",
      "Pruning dataset at 10% threshold based on EL2N scores...\n",
      "Training CNN model...\n"
     ]
    },
    {
     "name": "stderr",
     "output_type": "stream",
     "text": [
      "Training CNN Epoch 1: 100%|███████████████████| 221/221 [00:10<00:00, 22.03it/s]\n",
      "Training CNN Epoch 2: 100%|███████████████████| 221/221 [00:10<00:00, 21.88it/s]\n",
      "Training CNN Epoch 3: 100%|███████████████████| 221/221 [00:10<00:00, 21.92it/s]\n",
      "Training CNN Epoch 4: 100%|███████████████████| 221/221 [00:10<00:00, 21.95it/s]\n",
      "Training CNN Epoch 5: 100%|███████████████████| 221/221 [00:10<00:00, 21.94it/s]\n",
      "Training CNN Epoch 6: 100%|███████████████████| 221/221 [00:10<00:00, 22.02it/s]\n",
      "Training CNN Epoch 7: 100%|███████████████████| 221/221 [00:10<00:00, 22.02it/s]\n",
      "Training CNN Epoch 8: 100%|███████████████████| 221/221 [00:10<00:00, 21.96it/s]\n",
      "Training CNN Epoch 9: 100%|███████████████████| 221/221 [00:10<00:00, 22.02it/s]\n",
      "Training CNN Epoch 10: 100%|██████████████████| 221/221 [00:10<00:00, 21.74it/s]\n"
     ]
    },
    {
     "name": "stdout",
     "output_type": "stream",
     "text": [
      "Evaluating on train set...\n"
     ]
    },
    {
     "name": "stderr",
     "output_type": "stream",
     "text": [
      "Evaluating Train Set: 100%|███████████████████| 221/221 [00:09<00:00, 22.45it/s]\n"
     ]
    },
    {
     "name": "stdout",
     "output_type": "stream",
     "text": [
      "Evaluating on test set...\n"
     ]
    },
    {
     "name": "stderr",
     "output_type": "stream",
     "text": [
      "Evaluating Test Set: 100%|████████████████████| 119/119 [00:07<00:00, 15.78it/s]\n"
     ]
    },
    {
     "name": "stdout",
     "output_type": "stream",
     "text": [
      "Threshold 10% (EL2N): Train Accuracy: 85.93%, Test Accuracy: 82.93%\n",
      "Pruning dataset at 20% threshold based on EL2N scores...\n",
      "Training CNN model...\n"
     ]
    },
    {
     "name": "stderr",
     "output_type": "stream",
     "text": [
      "Training CNN Epoch 1: 100%|███████████████████| 456/456 [00:22<00:00, 20.15it/s]\n",
      "Training CNN Epoch 2: 100%|███████████████████| 456/456 [00:22<00:00, 20.26it/s]\n",
      "Training CNN Epoch 3: 100%|███████████████████| 456/456 [00:22<00:00, 20.31it/s]\n",
      "Training CNN Epoch 4: 100%|███████████████████| 456/456 [00:22<00:00, 20.20it/s]\n",
      "Training CNN Epoch 5: 100%|███████████████████| 456/456 [00:22<00:00, 20.21it/s]\n",
      "Training CNN Epoch 6: 100%|███████████████████| 456/456 [00:22<00:00, 20.23it/s]\n",
      "Training CNN Epoch 7: 100%|███████████████████| 456/456 [00:22<00:00, 20.12it/s]\n",
      "Training CNN Epoch 8: 100%|███████████████████| 456/456 [00:22<00:00, 20.25it/s]\n",
      "Training CNN Epoch 9: 100%|███████████████████| 456/456 [00:22<00:00, 20.26it/s]\n",
      "Training CNN Epoch 10: 100%|██████████████████| 456/456 [00:22<00:00, 20.38it/s]\n"
     ]
    },
    {
     "name": "stdout",
     "output_type": "stream",
     "text": [
      "Evaluating on train set...\n"
     ]
    },
    {
     "name": "stderr",
     "output_type": "stream",
     "text": [
      "Evaluating Train Set: 100%|███████████████████| 456/456 [00:22<00:00, 20.71it/s]\n"
     ]
    },
    {
     "name": "stdout",
     "output_type": "stream",
     "text": [
      "Evaluating on test set...\n"
     ]
    },
    {
     "name": "stderr",
     "output_type": "stream",
     "text": [
      "Evaluating Test Set: 100%|████████████████████| 119/119 [00:07<00:00, 15.88it/s]\n"
     ]
    },
    {
     "name": "stdout",
     "output_type": "stream",
     "text": [
      "Threshold 20% (EL2N): Train Accuracy: 87.69%, Test Accuracy: 86.71%\n",
      "Pruning dataset at 30% threshold based on EL2N scores...\n",
      "Training CNN model...\n"
     ]
    },
    {
     "name": "stderr",
     "output_type": "stream",
     "text": [
      "Training CNN Epoch 1:  18%|███▍               | 125/695 [00:06<00:30, 18.83it/s]\n"
     ]
    },
    {
     "ename": "KeyboardInterrupt",
     "evalue": "",
     "output_type": "error",
     "traceback": [
      "\u001b[0;31m---------------------------------------------------------------------------\u001b[0m",
      "\u001b[0;31mKeyboardInterrupt\u001b[0m                         Traceback (most recent call last)",
      "Cell \u001b[0;32mIn[60], line 32\u001b[0m\n\u001b[1;32m     30\u001b[0m \u001b[38;5;28mprint\u001b[39m(\u001b[38;5;124mf\u001b[39m\u001b[38;5;124m\"\u001b[39m\u001b[38;5;124mPruning dataset at \u001b[39m\u001b[38;5;132;01m{\u001b[39;00mthreshold\u001b[38;5;132;01m}\u001b[39;00m\u001b[38;5;124m% threshold based on EL2N scores...\u001b[39m\u001b[38;5;124m\"\u001b[39m)\n\u001b[1;32m     31\u001b[0m pruned_train_dataset \u001b[38;5;241m=\u001b[39m prune_dataset(train_el2n, train_texts, train_labels, threshold, class_label\u001b[38;5;241m=\u001b[39m\u001b[38;5;241m0\u001b[39m)\n\u001b[0;32m---> 32\u001b[0m train_acc, test_acc \u001b[38;5;241m=\u001b[39m \u001b[43mtrain_and_evaluate\u001b[49m\u001b[43m(\u001b[49m\u001b[43mpruned_train_dataset\u001b[49m\u001b[43m)\u001b[49m\n\u001b[1;32m     33\u001b[0m train_accuracies_el2n\u001b[38;5;241m.\u001b[39mappend(train_acc)\n\u001b[1;32m     34\u001b[0m test_accuracies_el2n\u001b[38;5;241m.\u001b[39mappend(test_acc)\n",
      "Cell \u001b[0;32mIn[59], line 11\u001b[0m, in \u001b[0;36mtrain_and_evaluate\u001b[0;34m(pruned_train_dataset, n_epochs)\u001b[0m\n\u001b[1;32m      9\u001b[0m \u001b[38;5;28;01mfor\u001b[39;00m epoch \u001b[38;5;129;01min\u001b[39;00m \u001b[38;5;28mrange\u001b[39m(n_epochs):  \u001b[38;5;66;03m# Fixed number of epochs for consistency\u001b[39;00m\n\u001b[1;32m     10\u001b[0m     model\u001b[38;5;241m.\u001b[39mtrain()\n\u001b[0;32m---> 11\u001b[0m     \u001b[38;5;28;01mfor\u001b[39;00m inputs, labels \u001b[38;5;129;01min\u001b[39;00m tqdm(train_loader, desc\u001b[38;5;241m=\u001b[39m\u001b[38;5;124mf\u001b[39m\u001b[38;5;124m\"\u001b[39m\u001b[38;5;124mTraining CNN Epoch \u001b[39m\u001b[38;5;132;01m{\u001b[39;00mepoch\u001b[38;5;241m+\u001b[39m\u001b[38;5;241m1\u001b[39m\u001b[38;5;132;01m}\u001b[39;00m\u001b[38;5;124m\"\u001b[39m):\n\u001b[1;32m     12\u001b[0m         inputs, labels \u001b[38;5;241m=\u001b[39m inputs\u001b[38;5;241m.\u001b[39mto(device), labels\u001b[38;5;241m.\u001b[39mto(device)\n\u001b[1;32m     13\u001b[0m         optimizer\u001b[38;5;241m.\u001b[39mzero_grad()\n",
      "File \u001b[0;32m~/.local/lib/python3.9/site-packages/tqdm/std.py:1178\u001b[0m, in \u001b[0;36mtqdm.__iter__\u001b[0;34m(self)\u001b[0m\n\u001b[1;32m   1175\u001b[0m time \u001b[38;5;241m=\u001b[39m \u001b[38;5;28mself\u001b[39m\u001b[38;5;241m.\u001b[39m_time\n\u001b[1;32m   1177\u001b[0m \u001b[38;5;28;01mtry\u001b[39;00m:\n\u001b[0;32m-> 1178\u001b[0m     \u001b[38;5;28;01mfor\u001b[39;00m obj \u001b[38;5;129;01min\u001b[39;00m iterable:\n\u001b[1;32m   1179\u001b[0m         \u001b[38;5;28;01myield\u001b[39;00m obj\n\u001b[1;32m   1180\u001b[0m         \u001b[38;5;66;03m# Update and possibly print the progressbar.\u001b[39;00m\n\u001b[1;32m   1181\u001b[0m         \u001b[38;5;66;03m# Note: does not call self.update(1) for speed optimisation.\u001b[39;00m\n",
      "File \u001b[0;32m~/.local/lib/python3.9/site-packages/torch/utils/data/dataloader.py:633\u001b[0m, in \u001b[0;36m_BaseDataLoaderIter.__next__\u001b[0;34m(self)\u001b[0m\n\u001b[1;32m    630\u001b[0m \u001b[38;5;28;01mif\u001b[39;00m \u001b[38;5;28mself\u001b[39m\u001b[38;5;241m.\u001b[39m_sampler_iter \u001b[38;5;129;01mis\u001b[39;00m \u001b[38;5;28;01mNone\u001b[39;00m:\n\u001b[1;32m    631\u001b[0m     \u001b[38;5;66;03m# TODO(https://github.com/pytorch/pytorch/issues/76750)\u001b[39;00m\n\u001b[1;32m    632\u001b[0m     \u001b[38;5;28mself\u001b[39m\u001b[38;5;241m.\u001b[39m_reset()  \u001b[38;5;66;03m# type: ignore[call-arg]\u001b[39;00m\n\u001b[0;32m--> 633\u001b[0m data \u001b[38;5;241m=\u001b[39m \u001b[38;5;28;43mself\u001b[39;49m\u001b[38;5;241;43m.\u001b[39;49m\u001b[43m_next_data\u001b[49m\u001b[43m(\u001b[49m\u001b[43m)\u001b[49m\n\u001b[1;32m    634\u001b[0m \u001b[38;5;28mself\u001b[39m\u001b[38;5;241m.\u001b[39m_num_yielded \u001b[38;5;241m+\u001b[39m\u001b[38;5;241m=\u001b[39m \u001b[38;5;241m1\u001b[39m\n\u001b[1;32m    635\u001b[0m \u001b[38;5;28;01mif\u001b[39;00m \u001b[38;5;28mself\u001b[39m\u001b[38;5;241m.\u001b[39m_dataset_kind \u001b[38;5;241m==\u001b[39m _DatasetKind\u001b[38;5;241m.\u001b[39mIterable \u001b[38;5;129;01mand\u001b[39;00m \\\n\u001b[1;32m    636\u001b[0m         \u001b[38;5;28mself\u001b[39m\u001b[38;5;241m.\u001b[39m_IterableDataset_len_called \u001b[38;5;129;01mis\u001b[39;00m \u001b[38;5;129;01mnot\u001b[39;00m \u001b[38;5;28;01mNone\u001b[39;00m \u001b[38;5;129;01mand\u001b[39;00m \\\n\u001b[1;32m    637\u001b[0m         \u001b[38;5;28mself\u001b[39m\u001b[38;5;241m.\u001b[39m_num_yielded \u001b[38;5;241m>\u001b[39m \u001b[38;5;28mself\u001b[39m\u001b[38;5;241m.\u001b[39m_IterableDataset_len_called:\n",
      "File \u001b[0;32m~/.local/lib/python3.9/site-packages/torch/utils/data/dataloader.py:677\u001b[0m, in \u001b[0;36m_SingleProcessDataLoaderIter._next_data\u001b[0;34m(self)\u001b[0m\n\u001b[1;32m    675\u001b[0m \u001b[38;5;28;01mdef\u001b[39;00m \u001b[38;5;21m_next_data\u001b[39m(\u001b[38;5;28mself\u001b[39m):\n\u001b[1;32m    676\u001b[0m     index \u001b[38;5;241m=\u001b[39m \u001b[38;5;28mself\u001b[39m\u001b[38;5;241m.\u001b[39m_next_index()  \u001b[38;5;66;03m# may raise StopIteration\u001b[39;00m\n\u001b[0;32m--> 677\u001b[0m     data \u001b[38;5;241m=\u001b[39m \u001b[38;5;28;43mself\u001b[39;49m\u001b[38;5;241;43m.\u001b[39;49m\u001b[43m_dataset_fetcher\u001b[49m\u001b[38;5;241;43m.\u001b[39;49m\u001b[43mfetch\u001b[49m\u001b[43m(\u001b[49m\u001b[43mindex\u001b[49m\u001b[43m)\u001b[49m  \u001b[38;5;66;03m# may raise StopIteration\u001b[39;00m\n\u001b[1;32m    678\u001b[0m     \u001b[38;5;28;01mif\u001b[39;00m \u001b[38;5;28mself\u001b[39m\u001b[38;5;241m.\u001b[39m_pin_memory:\n\u001b[1;32m    679\u001b[0m         data \u001b[38;5;241m=\u001b[39m _utils\u001b[38;5;241m.\u001b[39mpin_memory\u001b[38;5;241m.\u001b[39mpin_memory(data, \u001b[38;5;28mself\u001b[39m\u001b[38;5;241m.\u001b[39m_pin_memory_device)\n",
      "File \u001b[0;32m~/.local/lib/python3.9/site-packages/torch/utils/data/_utils/fetch.py:51\u001b[0m, in \u001b[0;36m_MapDatasetFetcher.fetch\u001b[0;34m(self, possibly_batched_index)\u001b[0m\n\u001b[1;32m     49\u001b[0m         data \u001b[38;5;241m=\u001b[39m \u001b[38;5;28mself\u001b[39m\u001b[38;5;241m.\u001b[39mdataset\u001b[38;5;241m.\u001b[39m__getitems__(possibly_batched_index)\n\u001b[1;32m     50\u001b[0m     \u001b[38;5;28;01melse\u001b[39;00m:\n\u001b[0;32m---> 51\u001b[0m         data \u001b[38;5;241m=\u001b[39m [\u001b[38;5;28mself\u001b[39m\u001b[38;5;241m.\u001b[39mdataset[idx] \u001b[38;5;28;01mfor\u001b[39;00m idx \u001b[38;5;129;01min\u001b[39;00m possibly_batched_index]\n\u001b[1;32m     52\u001b[0m \u001b[38;5;28;01melse\u001b[39;00m:\n\u001b[1;32m     53\u001b[0m     data \u001b[38;5;241m=\u001b[39m \u001b[38;5;28mself\u001b[39m\u001b[38;5;241m.\u001b[39mdataset[possibly_batched_index]\n",
      "File \u001b[0;32m~/.local/lib/python3.9/site-packages/torch/utils/data/_utils/fetch.py:51\u001b[0m, in \u001b[0;36m<listcomp>\u001b[0;34m(.0)\u001b[0m\n\u001b[1;32m     49\u001b[0m         data \u001b[38;5;241m=\u001b[39m \u001b[38;5;28mself\u001b[39m\u001b[38;5;241m.\u001b[39mdataset\u001b[38;5;241m.\u001b[39m__getitems__(possibly_batched_index)\n\u001b[1;32m     50\u001b[0m     \u001b[38;5;28;01melse\u001b[39;00m:\n\u001b[0;32m---> 51\u001b[0m         data \u001b[38;5;241m=\u001b[39m [\u001b[38;5;28;43mself\u001b[39;49m\u001b[38;5;241;43m.\u001b[39;49m\u001b[43mdataset\u001b[49m\u001b[43m[\u001b[49m\u001b[43midx\u001b[49m\u001b[43m]\u001b[49m \u001b[38;5;28;01mfor\u001b[39;00m idx \u001b[38;5;129;01min\u001b[39;00m possibly_batched_index]\n\u001b[1;32m     52\u001b[0m \u001b[38;5;28;01melse\u001b[39;00m:\n\u001b[1;32m     53\u001b[0m     data \u001b[38;5;241m=\u001b[39m \u001b[38;5;28mself\u001b[39m\u001b[38;5;241m.\u001b[39mdataset[possibly_batched_index]\n",
      "Cell \u001b[0;32mIn[4], line 44\u001b[0m, in \u001b[0;36mAGNewsDataset.__getitem__\u001b[0;34m(self, idx)\u001b[0m\n\u001b[1;32m     43\u001b[0m \u001b[38;5;28;01mdef\u001b[39;00m \u001b[38;5;21m__getitem__\u001b[39m(\u001b[38;5;28mself\u001b[39m, idx):\n\u001b[0;32m---> 44\u001b[0m     tokens \u001b[38;5;241m=\u001b[39m \u001b[43mtokenizer\u001b[49m\u001b[38;5;241;43m.\u001b[39;49m\u001b[43mtokenize\u001b[49m\u001b[43m(\u001b[49m\u001b[38;5;28;43mself\u001b[39;49m\u001b[38;5;241;43m.\u001b[39;49m\u001b[43mtexts\u001b[49m\u001b[43m[\u001b[49m\u001b[43midx\u001b[49m\u001b[43m]\u001b[49m\u001b[43m)\u001b[49m\n\u001b[1;32m     45\u001b[0m     embedding \u001b[38;5;241m=\u001b[39m get_word2vec_embedding(tokens)\n\u001b[1;32m     46\u001b[0m     label \u001b[38;5;241m=\u001b[39m \u001b[38;5;28mself\u001b[39m\u001b[38;5;241m.\u001b[39mlabels[idx]\n",
      "File \u001b[0;32m~/.local/lib/python3.9/site-packages/transformers/tokenization_utils.py:547\u001b[0m, in \u001b[0;36mPreTrainedTokenizer.tokenize\u001b[0;34m(self, text, **kwargs)\u001b[0m\n\u001b[1;32m    545\u001b[0m         tokenized_text\u001b[38;5;241m.\u001b[39mappend(token)\n\u001b[1;32m    546\u001b[0m     \u001b[38;5;28;01melse\u001b[39;00m:\n\u001b[0;32m--> 547\u001b[0m         tokenized_text\u001b[38;5;241m.\u001b[39mextend(\u001b[38;5;28;43mself\u001b[39;49m\u001b[38;5;241;43m.\u001b[39;49m\u001b[43m_tokenize\u001b[49m\u001b[43m(\u001b[49m\u001b[43mtoken\u001b[49m\u001b[43m)\u001b[49m)\n\u001b[1;32m    548\u001b[0m \u001b[38;5;66;03m# [\"This\", \" is\", \" something\", \"<special_token_1>\", \"else\"]\u001b[39;00m\n\u001b[1;32m    549\u001b[0m \u001b[38;5;28;01mreturn\u001b[39;00m tokenized_text\n",
      "File \u001b[0;32m~/.local/lib/python3.9/site-packages/transformers/models/bert/tokenization_bert.py:244\u001b[0m, in \u001b[0;36mBertTokenizer._tokenize\u001b[0;34m(self, text)\u001b[0m\n\u001b[1;32m    242\u001b[0m split_tokens \u001b[38;5;241m=\u001b[39m []\n\u001b[1;32m    243\u001b[0m \u001b[38;5;28;01mif\u001b[39;00m \u001b[38;5;28mself\u001b[39m\u001b[38;5;241m.\u001b[39mdo_basic_tokenize:\n\u001b[0;32m--> 244\u001b[0m     \u001b[38;5;28;01mfor\u001b[39;00m token \u001b[38;5;129;01min\u001b[39;00m \u001b[38;5;28;43mself\u001b[39;49m\u001b[38;5;241;43m.\u001b[39;49m\u001b[43mbasic_tokenizer\u001b[49m\u001b[38;5;241;43m.\u001b[39;49m\u001b[43mtokenize\u001b[49m\u001b[43m(\u001b[49m\u001b[43mtext\u001b[49m\u001b[43m,\u001b[49m\u001b[43m \u001b[49m\u001b[43mnever_split\u001b[49m\u001b[38;5;241;43m=\u001b[39;49m\u001b[38;5;28;43mself\u001b[39;49m\u001b[38;5;241;43m.\u001b[39;49m\u001b[43mall_special_tokens\u001b[49m\u001b[43m)\u001b[49m:\n\u001b[1;32m    245\u001b[0m         \u001b[38;5;66;03m# If the token is part of the never_split set\u001b[39;00m\n\u001b[1;32m    246\u001b[0m         \u001b[38;5;28;01mif\u001b[39;00m token \u001b[38;5;129;01min\u001b[39;00m \u001b[38;5;28mself\u001b[39m\u001b[38;5;241m.\u001b[39mbasic_tokenizer\u001b[38;5;241m.\u001b[39mnever_split:\n\u001b[1;32m    247\u001b[0m             split_tokens\u001b[38;5;241m.\u001b[39mappend(token)\n",
      "File \u001b[0;32m~/.local/lib/python3.9/site-packages/transformers/models/bert/tokenization_bert.py:430\u001b[0m, in \u001b[0;36mBasicTokenizer.tokenize\u001b[0;34m(self, text, never_split)\u001b[0m\n\u001b[1;32m    428\u001b[0m         \u001b[38;5;28;01melif\u001b[39;00m \u001b[38;5;28mself\u001b[39m\u001b[38;5;241m.\u001b[39mstrip_accents:\n\u001b[1;32m    429\u001b[0m             token \u001b[38;5;241m=\u001b[39m \u001b[38;5;28mself\u001b[39m\u001b[38;5;241m.\u001b[39m_run_strip_accents(token)\n\u001b[0;32m--> 430\u001b[0m     split_tokens\u001b[38;5;241m.\u001b[39mextend(\u001b[38;5;28;43mself\u001b[39;49m\u001b[38;5;241;43m.\u001b[39;49m\u001b[43m_run_split_on_punc\u001b[49m\u001b[43m(\u001b[49m\u001b[43mtoken\u001b[49m\u001b[43m,\u001b[49m\u001b[43m \u001b[49m\u001b[43mnever_split\u001b[49m\u001b[43m)\u001b[49m)\n\u001b[1;32m    432\u001b[0m output_tokens \u001b[38;5;241m=\u001b[39m whitespace_tokenize(\u001b[38;5;124m\"\u001b[39m\u001b[38;5;124m \u001b[39m\u001b[38;5;124m\"\u001b[39m\u001b[38;5;241m.\u001b[39mjoin(split_tokens))\n\u001b[1;32m    433\u001b[0m \u001b[38;5;28;01mreturn\u001b[39;00m output_tokens\n",
      "File \u001b[0;32m~/.local/lib/python3.9/site-packages/transformers/models/bert/tokenization_bert.py:464\u001b[0m, in \u001b[0;36mBasicTokenizer._run_split_on_punc\u001b[0;34m(self, text, never_split)\u001b[0m\n\u001b[1;32m    462\u001b[0m         start_new_word \u001b[38;5;241m=\u001b[39m \u001b[38;5;28;01mFalse\u001b[39;00m\n\u001b[1;32m    463\u001b[0m         output[\u001b[38;5;241m-\u001b[39m\u001b[38;5;241m1\u001b[39m]\u001b[38;5;241m.\u001b[39mappend(char)\n\u001b[0;32m--> 464\u001b[0m     i \u001b[38;5;241m+\u001b[39m\u001b[38;5;241m=\u001b[39m \u001b[38;5;241m1\u001b[39m\n\u001b[1;32m    466\u001b[0m \u001b[38;5;28;01mreturn\u001b[39;00m [\u001b[38;5;124m\"\u001b[39m\u001b[38;5;124m\"\u001b[39m\u001b[38;5;241m.\u001b[39mjoin(x) \u001b[38;5;28;01mfor\u001b[39;00m x \u001b[38;5;129;01min\u001b[39;00m output]\n",
      "\u001b[0;31mKeyboardInterrupt\u001b[0m: "
     ]
    }
   ],
   "source": [
    "\n",
    "\n",
    "# Prepare test dataset\n",
    "print(\"Preparing test dataset...\")\n",
    "test_texts = [item['text'] for item in dataset['test']]\n",
    "test_labels = [item['label'] for item in dataset['test']]\n",
    "test_dataset = AGNewsDataset(test_texts, test_labels)\n",
    "test_loader = data.DataLoader(test_dataset, batch_size=64, shuffle=False)\n",
    "\n",
    "thresholds = np.arange(10, 100, 10)\n",
    "train_accuracies_el2n = []\n",
    "test_accuracies_el2n = []\n",
    "\n",
    "# Evaluate EL2N\n",
    "print(\"Starting pruning and evaluation based on EL2N scores...\")\n",
    "for threshold in thresholds:\n",
    "    print(f\"Pruning dataset at {threshold}% threshold based on EL2N scores...\")\n",
    "    pruned_train_dataset = prune_dataset(train_el2n, train_texts, train_labels, threshold, class_label=0)\n",
    "    train_acc, test_acc = train_and_evaluate(pruned_train_dataset)\n",
    "    train_accuracies_el2n.append(train_acc)\n",
    "    test_accuracies_el2n.append(test_acc)\n",
    "    print(f'Threshold {threshold}% (EL2N): Train Accuracy: {train_acc:.2f}%, Test Accuracy: {test_acc:.2f}%')\n",
    "\n",
    "# Plotting the results for EL2N\n",
    "print(\"Plotting the results for EL2N...\")\n",
    "plt.figure(figsize=(10, 6))\n",
    "plt.plot(thresholds, train_accuracies_el2n, label='Train Accuracy (EL2N)')\n",
    "plt.plot(thresholds, test_accuracies_el2n, label='Test Accuracy (EL2N)')\n",
    "plt.xlabel('EL2N Threshold (%)')\n",
    "plt.ylabel('Accuracy (%)')\n",
    "plt.title('Accuracy vs. EL2N Threshold')\n",
    "plt.legend()\n",
    "plt.grid(True)\n",
    "plt.show()\n"
   ]
  },
  {
   "cell_type": "code",
   "execution_count": 69,
   "id": "8dfce606-c00b-47a8-958a-b2accbc38e1a",
   "metadata": {},
   "outputs": [
    {
     "name": "stdout",
     "output_type": "stream",
     "text": [
      "649\n",
      "719\n",
      "699\n",
      "705\n",
      "Training CNN model...\n"
     ]
    },
    {
     "name": "stderr",
     "output_type": "stream",
     "text": [
      "Training CNN Epoch 1: 100%|█████████████████████| 44/44 [00:05<00:00,  8.27it/s]\n",
      "Training CNN Epoch 2: 100%|█████████████████████| 44/44 [00:05<00:00,  8.51it/s]\n",
      "Training CNN Epoch 3: 100%|█████████████████████| 44/44 [00:05<00:00,  8.50it/s]\n",
      "Training CNN Epoch 4: 100%|█████████████████████| 44/44 [00:05<00:00,  8.53it/s]\n",
      "Training CNN Epoch 5: 100%|█████████████████████| 44/44 [00:05<00:00,  8.31it/s]\n",
      "Training CNN Epoch 6: 100%|█████████████████████| 44/44 [00:05<00:00,  8.47it/s]\n",
      "Training CNN Epoch 7: 100%|█████████████████████| 44/44 [00:05<00:00,  8.51it/s]\n",
      "Training CNN Epoch 8: 100%|█████████████████████| 44/44 [00:05<00:00,  8.48it/s]\n",
      "Training CNN Epoch 9: 100%|█████████████████████| 44/44 [00:05<00:00,  8.53it/s]\n",
      "Training CNN Epoch 10: 100%|████████████████████| 44/44 [00:05<00:00,  8.54it/s]\n"
     ]
    },
    {
     "name": "stdout",
     "output_type": "stream",
     "text": [
      "Evaluating on train set...\n"
     ]
    },
    {
     "name": "stderr",
     "output_type": "stream",
     "text": [
      "Evaluating Train Set: 100%|█████████████████████| 44/44 [00:05<00:00,  8.62it/s]\n"
     ]
    },
    {
     "name": "stdout",
     "output_type": "stream",
     "text": [
      "Evaluating on test set...\n"
     ]
    },
    {
     "name": "stderr",
     "output_type": "stream",
     "text": [
      "Evaluating Test Set: 100%|████████████████████| 119/119 [00:07<00:00, 15.81it/s]"
     ]
    },
    {
     "name": "stdout",
     "output_type": "stream",
     "text": [
      "Threshold 98% (EL2N): Train Accuracy: 90.33%, Test Accuracy: 67.01%\n"
     ]
    },
    {
     "name": "stderr",
     "output_type": "stream",
     "text": [
      "\n"
     ]
    }
   ],
   "source": [
    "# Function to prune based on a given metric\n",
    "def prune_dataset(scores, train_texts, train_labels, threshold):\n",
    "    pruned_indices = []\n",
    "    for class_label in range(4):  # Assuming there are 4 classes\n",
    "        class_indices = [i for i, label in enumerate(train_labels) if label == class_label]\n",
    "        class_scores = [scores[i] for i in class_indices]\n",
    "        class_threshold = np.percentile(class_scores, threshold)\n",
    "        pruned_class_indices = [class_indices[i] for i, score in enumerate(class_scores) if score >= class_threshold]\n",
    "        print(len(pruned_class_indices))\n",
    "        pruned_indices.extend(pruned_class_indices)\n",
    "    \n",
    "    pruned_train_texts = [train_texts[i] for i in pruned_indices]\n",
    "    pruned_train_labels = [train_labels[i] for i in pruned_indices]\n",
    "    pruned_train_dataset = AGNewsDataset(pruned_train_texts, pruned_train_labels)\n",
    "    return pruned_train_dataset\n",
    "    \n",
    "threshold = 98\n",
    "pruned_train_dataset = prune_dataset(train_el2n, train_texts, train_labels, threshold)\n",
    "train_acc, test_acc = train_and_evaluate(pruned_train_dataset)\n",
    "\n",
    "print(f'Threshold {threshold}% (EL2N): Train Accuracy: {train_acc:.2f}%, Test Accuracy: {test_acc:.2f}%')\n"
   ]
  },
  {
   "cell_type": "code",
   "execution_count": 71,
   "id": "6950c907-aef0-4092-bdd2-9e03cebbf9f9",
   "metadata": {},
   "outputs": [
    {
     "name": "stdout",
     "output_type": "stream",
     "text": [
      "30000\n",
      "959\n",
      "30000\n",
      "750\n",
      "30000\n",
      "638\n",
      "30000\n",
      "823\n",
      "Training CNN model...\n"
     ]
    },
    {
     "name": "stderr",
     "output_type": "stream",
     "text": [
      "Training CNN Epoch 1: 100%|█████████████████████| 50/50 [00:02<00:00, 24.09it/s]\n",
      "Training CNN Epoch 2: 100%|█████████████████████| 50/50 [00:01<00:00, 25.14it/s]\n",
      "Training CNN Epoch 3: 100%|█████████████████████| 50/50 [00:01<00:00, 25.19it/s]\n",
      "Training CNN Epoch 4: 100%|█████████████████████| 50/50 [00:01<00:00, 25.03it/s]\n",
      "Training CNN Epoch 5: 100%|█████████████████████| 50/50 [00:01<00:00, 25.10it/s]\n",
      "Training CNN Epoch 6: 100%|█████████████████████| 50/50 [00:01<00:00, 25.08it/s]\n",
      "Training CNN Epoch 7: 100%|█████████████████████| 50/50 [00:01<00:00, 25.02it/s]\n",
      "Training CNN Epoch 8: 100%|█████████████████████| 50/50 [00:02<00:00, 24.50it/s]\n",
      "Training CNN Epoch 9: 100%|█████████████████████| 50/50 [00:01<00:00, 25.12it/s]\n",
      "Training CNN Epoch 10: 100%|████████████████████| 50/50 [00:01<00:00, 25.22it/s]\n"
     ]
    },
    {
     "name": "stdout",
     "output_type": "stream",
     "text": [
      "Evaluating on train set...\n"
     ]
    },
    {
     "name": "stderr",
     "output_type": "stream",
     "text": [
      "Evaluating Train Set: 100%|█████████████████████| 50/50 [00:01<00:00, 25.90it/s]\n"
     ]
    },
    {
     "name": "stdout",
     "output_type": "stream",
     "text": [
      "Evaluating on test set...\n"
     ]
    },
    {
     "name": "stderr",
     "output_type": "stream",
     "text": [
      "Evaluating Test Set: 100%|████████████████████| 119/119 [00:07<00:00, 15.79it/s]"
     ]
    },
    {
     "name": "stdout",
     "output_type": "stream",
     "text": [
      "Threshold 2% (EL2N): Train Accuracy: 84.07%, Test Accuracy: 80.32%\n"
     ]
    },
    {
     "name": "stderr",
     "output_type": "stream",
     "text": [
      "\n"
     ]
    }
   ],
   "source": [
    "# Function to prune based on a given metric\n",
    "def prune_dataset(scores, train_texts, train_labels, threshold):\n",
    "    pruned_indices = []\n",
    "    for class_label in range(4):  # Assuming there are 4 classes\n",
    "        class_indices = [i for i, label in enumerate(train_labels) if label == class_label]\n",
    "        print(len(class_indices))\n",
    "        class_scores = [scores[i] for i in class_indices]\n",
    "        class_threshold = np.percentile(class_scores, threshold)\n",
    "        pruned_class_indices = [class_indices[i] for i, score in enumerate(class_scores) if score <= class_threshold]\n",
    "        print(len(pruned_class_indices))\n",
    "        pruned_indices.extend(pruned_class_indices)\n",
    "    \n",
    "    pruned_train_texts = [train_texts[i] for i in pruned_indices]\n",
    "    pruned_train_labels = [train_labels[i] for i in pruned_indices]\n",
    "    pruned_train_dataset = AGNewsDataset(pruned_train_texts, pruned_train_labels)\n",
    "    return pruned_train_dataset\n",
    "    \n",
    "threshold = 2\n",
    "pruned_train_dataset = prune_dataset(train_el2n, train_texts, train_labels, threshold)\n",
    "train_acc, test_acc = train_and_evaluate(pruned_train_dataset)\n",
    "\n",
    "print(f'Threshold {threshold}% (EL2N): Train Accuracy: {train_acc:.2f}%, Test Accuracy: {test_acc:.2f}%')\n"
   ]
  },
  {
   "cell_type": "code",
   "execution_count": 74,
   "id": "431b52f9-fdf1-4eb3-ab44-eaeebff307a7",
   "metadata": {},
   "outputs": [
    {
     "name": "stdout",
     "output_type": "stream",
     "text": [
      "30000\n",
      "80\n",
      "30000\n",
      "147\n",
      "30000\n",
      "76\n",
      "30000\n",
      "91\n",
      "Training CNN model...\n"
     ]
    },
    {
     "name": "stderr",
     "output_type": "stream",
     "text": [
      "Training CNN Epoch 1: 100%|███████████████████████| 7/7 [00:00<00:00, 23.25it/s]\n",
      "Training CNN Epoch 2: 100%|███████████████████████| 7/7 [00:00<00:00, 28.66it/s]\n",
      "Training CNN Epoch 3: 100%|███████████████████████| 7/7 [00:00<00:00, 31.35it/s]\n",
      "Training CNN Epoch 4: 100%|███████████████████████| 7/7 [00:00<00:00, 30.27it/s]\n",
      "Training CNN Epoch 5: 100%|███████████████████████| 7/7 [00:00<00:00, 31.16it/s]\n",
      "Training CNN Epoch 6: 100%|███████████████████████| 7/7 [00:00<00:00, 31.36it/s]\n",
      "Training CNN Epoch 7: 100%|███████████████████████| 7/7 [00:00<00:00, 31.40it/s]\n",
      "Training CNN Epoch 8: 100%|███████████████████████| 7/7 [00:00<00:00, 31.28it/s]\n",
      "Training CNN Epoch 9: 100%|███████████████████████| 7/7 [00:00<00:00, 30.39it/s]\n",
      "Training CNN Epoch 10: 100%|██████████████████████| 7/7 [00:00<00:00, 31.08it/s]\n"
     ]
    },
    {
     "name": "stdout",
     "output_type": "stream",
     "text": [
      "Evaluating on train set...\n"
     ]
    },
    {
     "name": "stderr",
     "output_type": "stream",
     "text": [
      "Evaluating Train Set: 100%|███████████████████████| 7/7 [00:00<00:00, 32.47it/s]\n"
     ]
    },
    {
     "name": "stdout",
     "output_type": "stream",
     "text": [
      "Evaluating on test set...\n"
     ]
    },
    {
     "name": "stderr",
     "output_type": "stream",
     "text": [
      "Evaluating Test Set: 100%|████████████████████| 119/119 [00:07<00:00, 15.89it/s]"
     ]
    },
    {
     "name": "stdout",
     "output_type": "stream",
     "text": [
      "Threshold 0.16666667% (EL2N): Train Accuracy: 57.61%, Test Accuracy: 48.17%\n"
     ]
    },
    {
     "name": "stderr",
     "output_type": "stream",
     "text": [
      "\n"
     ]
    }
   ],
   "source": [
    "# Function to prune based on a given metric\n",
    "def prune_dataset(scores, train_texts, train_labels, threshold):\n",
    "    pruned_indices = []\n",
    "    for class_label in range(4):  # Assuming there are 4 classes\n",
    "        class_indices = [i for i, label in enumerate(train_labels) if label == class_label]\n",
    "        print(len(class_indices))\n",
    "        class_scores = [scores[i] for i in class_indices]\n",
    "        class_threshold = np.percentile(class_scores, threshold)\n",
    "        pruned_class_indices = [class_indices[i] for i, score in enumerate(class_scores) if score <= class_threshold]\n",
    "        print(len(pruned_class_indices))\n",
    "        pruned_indices.extend(pruned_class_indices)\n",
    "    \n",
    "    pruned_train_texts = [train_texts[i] for i in pruned_indices]\n",
    "    pruned_train_labels = [train_labels[i] for i in pruned_indices]\n",
    "    pruned_train_dataset = AGNewsDataset(pruned_train_texts, pruned_train_labels)\n",
    "    return pruned_train_dataset\n",
    "    \n",
    "threshold = 0.16666667\n",
    "pruned_train_dataset = prune_dataset(train_el2n, train_texts, train_labels, threshold)\n",
    "train_acc, test_acc = train_and_evaluate(pruned_train_dataset)\n",
    "\n",
    "print(f'Threshold {threshold}% (EL2N): Train Accuracy: {train_acc:.2f}%, Test Accuracy: {test_acc:.2f}%')\n"
   ]
  },
  {
   "cell_type": "code",
   "execution_count": null,
   "id": "73209754-f6a2-4c89-a9e4-a57538fc54eb",
   "metadata": {},
   "outputs": [],
   "source": [
    "train_memorization = calculate_memorization(train_texts, tokenizer, lm_model)\n",
    "\n",
    "train_accuracies_memorization = []\n",
    "test_accuracies_memorization = []\n",
    "\n",
    "\n",
    "# Evaluate Memorization\n",
    "print(\"Starting pruning and evaluation based on Memorization scores...\")\n",
    "for threshold in thresholds:\n",
    "    print(f\"Pruning dataset at {threshold}% threshold based on Memorization scores...\")\n",
    "    pruned_train_dataset = prune_dataset(train_memorization, train_texts, train_labels, threshold, class_label=0)\n",
    "    train_acc, test_acc = train_and_evaluate(pruned_train_dataset)\n",
    "    train_accuracies_memorization.append(train_acc)\n",
    "    test_accuracies_memorization.append(test_acc)\n",
    "    print(f'Threshold {threshold}% (Memorization): Train Accuracy: {train_acc:.2f}%, Test Accuracy: {test_acc:.2f}%')\n",
    "\n",
    "\n",
    "\n",
    "# Plotting the results for Memorization\n",
    "print(\"Plotting the results for Memorization...\")\n",
    "plt.figure(figsize=(10, 6))\n",
    "plt.plot(thresholds, train_accuracies_memorization, label='Train Accuracy (Memorization)')\n",
    "plt.plot(thresholds, test_accuracies_memorization, label='Test Accuracy (Memorization)')\n",
    "plt.xlabel('Memorization Threshold (%)')\n",
    "plt.ylabel('Accuracy (%)')\n",
    "plt.title('Accuracy vs. Memorization Threshold')\n",
    "plt.legend()\n",
    "plt.grid(True)\n",
    "plt.show()\n"
   ]
  }
 ],
 "metadata": {
  "kernelspec": {
   "display_name": "Python 3 (ipykernel)",
   "language": "python",
   "name": "python3"
  },
  "language_info": {
   "codemirror_mode": {
    "name": "ipython",
    "version": 3
   },
   "file_extension": ".py",
   "mimetype": "text/x-python",
   "name": "python",
   "nbconvert_exporter": "python",
   "pygments_lexer": "ipython3",
   "version": "3.9.19"
  }
 },
 "nbformat": 4,
 "nbformat_minor": 5
}
