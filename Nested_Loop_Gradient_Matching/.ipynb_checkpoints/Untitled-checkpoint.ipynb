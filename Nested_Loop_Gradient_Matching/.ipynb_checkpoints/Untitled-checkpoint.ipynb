{
 "cells": [
  {
   "cell_type": "code",
   "execution_count": 1,
   "id": "1ddf8a22-ab41-4705-81c7-bfa76fc5b1bc",
   "metadata": {},
   "outputs": [],
   "source": [
    "import torch\n",
    "import torch.nn as nn\n",
    "import torch.optim as optim\n",
    "import torch.utils.data as data\n",
    "from tqdm import tqdm\n",
    "from transformers import BertTokenizer\n",
    "from gensim.models import KeyedVectors\n",
    "from datasets import load_dataset\n",
    "from sklearn.metrics import classification_report, accuracy_score\n",
    "import numpy as np\n",
    "import gensim.downloader as api"
   ]
  },
  {
   "cell_type": "markdown",
   "id": "3786289c-aae2-4948-9243-1415904c9c7b",
   "metadata": {},
   "source": [
    "## Prepare Data"
   ]
  },
  {
   "cell_type": "code",
   "execution_count": 2,
   "id": "43d9eb53-0f51-44e6-99a7-ad431142ab32",
   "metadata": {},
   "outputs": [],
   "source": [
    "# Load AG News Dataset\n",
    "dataset = load_dataset('ag_news')\n",
    "tokenizer = BertTokenizer.from_pretrained('bert-base-uncased')\n",
    "\n",
    "def tokenize(text):\n",
    "    return tokenizer(text, padding='max_length', truncation=True, return_tensors='pt', max_length=128)\n",
    "\n",
    "# Load Word2Vec Embeddings\n",
    "word2vec = api.load('word2vec-google-news-300')\n",
    "\n",
    "def get_word2vec_embedding(tokens):\n",
    "    embeddings = []\n",
    "    for token in tokens:\n",
    "        if token in word2vec:\n",
    "            embeddings.append(word2vec[token])\n",
    "    if len(embeddings) == 0:\n",
    "        return np.zeros(word2vec.vector_size)\n",
    "    return np.mean(embeddings, axis=0)\n",
    "\n",
    "class AGNewsDataset(data.Dataset):\n",
    "    def __init__(self, texts, labels):\n",
    "        self.texts = texts\n",
    "        self.labels = labels\n",
    "    \n",
    "    def __len__(self):\n",
    "        return len(self.texts)\n",
    "    \n",
    "    def __getitem__(self, idx):\n",
    "        tokens = tokenizer.tokenize(self.texts[idx])\n",
    "        embedding = get_word2vec_embedding(tokens)\n",
    "        label = self.labels[idx]\n",
    "        return torch.tensor(embedding, dtype=torch.float32), torch.tensor(label, dtype=torch.long)\n",
    "\n",
    "train_texts = [item['text'] for item in dataset['train']]\n",
    "train_labels = [item['label'] for item in dataset['train']]\n",
    "test_texts = [item['text'] for item in dataset['test']]\n",
    "test_labels = [item['label'] for item in dataset['test']]\n",
    "\n",
    "train_dataset = AGNewsDataset(train_texts, train_labels)\n",
    "test_dataset = AGNewsDataset(test_texts, test_labels)\n",
    "\n",
    "train_loader = data.DataLoader(train_dataset, batch_size=64, shuffle=True)\n",
    "test_loader = data.DataLoader(test_dataset, batch_size=64, shuffle=False)\n"
   ]
  },
  {
   "cell_type": "code",
   "execution_count": null,
   "id": "e452b7cd-f284-4c2a-b8f4-130f8d3bec7f",
   "metadata": {},
   "outputs": [],
   "source": []
  },
  {
   "cell_type": "markdown",
   "id": "cd1cb09a-01e3-4d01-b495-3c8f3dc76710",
   "metadata": {},
   "source": [
    "## Model"
   ]
  },
  {
   "cell_type": "code",
   "execution_count": 3,
   "id": "745fc54f-57fc-48c1-aa8d-88701a342a13",
   "metadata": {},
   "outputs": [],
   "source": [
    "class CNNModel(nn.Module):\n",
    "    def __init__(self):\n",
    "        super(CNNModel, self).__init__()\n",
    "        self.conv1 = nn.Conv1d(1, 100, kernel_size=3, padding=1)\n",
    "        self.relu = nn.ReLU()\n",
    "        self.pool = nn.MaxPool1d(2)\n",
    "        self.fc1 = nn.Linear(100 * (word2vec.vector_size // 2), 4)  # 4 classes in AG News\n",
    "\n",
    "    def forward(self, x):\n",
    "        x = x.unsqueeze(1)  # Add channel dimension\n",
    "        x = self.conv1(x)\n",
    "        x = self.relu(x)\n",
    "        x = self.pool(x)\n",
    "        x = x.view(x.size(0), -1)\n",
    "        x = self.fc1(x)\n",
    "        return x"
   ]
  },
  {
   "cell_type": "markdown",
   "id": "1da08fe6-2fc4-4909-8229-a65a1bb6ab0e",
   "metadata": {},
   "source": [
    "## Init params"
   ]
  },
  {
   "cell_type": "code",
   "execution_count": 4,
   "id": "378c76a5-de68-4dbe-9e1d-270012a8bc95",
   "metadata": {},
   "outputs": [],
   "source": [
    "# Initialize model and criterion\n",
    "model = CNNModel()\n",
    "criterion = nn.CrossEntropyLoss()"
   ]
  },
  {
   "cell_type": "code",
   "execution_count": 6,
   "id": "622a7955-7515-4cb0-8b33-3b98acec620f",
   "metadata": {},
   "outputs": [],
   "source": [
    "# Synthetic data initialization\n",
    "num_classes = 4\n",
    "num_synthetic_per_class = 10\n",
    "max_length = 128\n",
    "\n",
    "synthetic_text_data = torch.randn(num_classes * num_synthetic_per_class, word2vec.vector_size, requires_grad=True)\n",
    "synthetic_labels = torch.tensor([i for i in range(num_classes) for _ in range(num_synthetic_per_class)], dtype=torch.long)\n",
    "\n",
    "init_synthetic_dataset = data.TensorDataset(synthetic_text_data.detach(), synthetic_labels)"
   ]
  },
  {
   "cell_type": "markdown",
   "id": "a883ec7d-b14c-4057-a09d-1287636f81be",
   "metadata": {},
   "source": [
    "## util functions"
   ]
  },
  {
   "cell_type": "code",
   "execution_count": 7,
   "id": "f4ff0b49-043b-44cb-9a98-d320da125c50",
   "metadata": {},
   "outputs": [],
   "source": [
    "def compute_gradients(model, inputs, labels):\n",
    "    outputs = model(inputs)\n",
    "    loss = criterion(outputs, labels)\n",
    "    gradients = torch.autograd.grad(loss, model.parameters(), create_graph=True)\n",
    "    return gradients\n",
    "\n",
    "def layerwise_matching_loss(gw_syn, gw_real):\n",
    "    loss = 0\n",
    "    for g_syn, g_real in zip(gw_syn, gw_real):\n",
    "        loss += ((g_syn - g_real) ** 2).sum()\n",
    "    return loss\n",
    "\n",
    "def compute_gradients_and_outputs(model, inputs, labels):\n",
    "    outputs = model(inputs)\n",
    "    loss = criterion(outputs, labels)\n",
    "    gradients = torch.autograd.grad(loss, model.parameters(), create_graph=True)\n",
    "    return gradients, outputs, loss\n",
    "\n",
    "def get_real_data_batch_for_class(train_dataset, target_class, batch_size, device):\n",
    "    \"\"\"\n",
    "    Function to get a batch of real data belonging to a specific class from the dataset.\n",
    "    \"\"\"\n",
    "    class_indices = [i for i, label in enumerate(train_dataset.labels) if label == target_class]\n",
    "    selected_indices = random.sample(class_indices, batch_size)\n",
    "    real_data_batch = [train_dataset[i][0] for i in selected_indices]\n",
    "    real_labels_batch = [train_dataset[i][1] for i in selected_indices]\n",
    "    \n",
    "    # Stack tensors to create batch and move to device\n",
    "    real_data_batch = torch.stack(real_data_batch).to(device)\n",
    "    real_labels_batch = torch.tensor(real_labels_batch).to(device)\n",
    "    \n",
    "    return real_data_batch, real_labels_batch"
   ]
  },
  {
   "cell_type": "markdown",
   "id": "4aa4ca70-7c91-445f-a33f-c6d09e7c317f",
   "metadata": {},
   "source": [
    "## Main Loop"
   ]
  },
  {
   "cell_type": "code",
   "execution_count": 8,
   "id": "a49db3b7-8130-4126-bb88-4a98cad9e8fd",
   "metadata": {},
   "outputs": [],
   "source": [
    "optimizer_syn = optim.SGD([synthetic_text_data], lr=0.01, momentum=0.9)\n",
    "optimizer_net = optim.Adam(model.parameters(), lr=0.001)\n",
    "\n",
    "# Training loop with synthetic data gradient matching\n",
    "num_epochs = 10\n",
    "K = 10\n",
    "T = 5\n",
    "inner_loop1_range = 5\n",
    "device = torch.device('cuda' if torch.cuda.is_available() else 'cpu')\n",
    "batch_size = 64"
   ]
  },
  {
   "cell_type": "code",
   "execution_count": 9,
   "id": "e93ab194-75ed-46e5-a108-cb9d92664b95",
   "metadata": {},
   "outputs": [
    {
     "data": {
      "application/vnd.jupyter.widget-view+json": {
       "model_id": "",
       "version_major": 2,
       "version_minor": 0
      },
      "text/plain": [
       "Outer Loop Epoch 1/10:   0%|          | 0/10 [00:00<?, ?loop/s]"
      ]
     },
     "metadata": {},
     "output_type": "display_data"
    },
    {
     "data": {
      "application/vnd.jupyter.widget-view+json": {
       "model_id": "",
       "version_major": 2,
       "version_minor": 0
      },
      "text/plain": [
       "Training Epoch 1/10:   0%|          | 0/1 [00:00<?, ?batch/s]"
      ]
     },
     "metadata": {},
     "output_type": "display_data"
    },
    {
     "data": {
      "application/vnd.jupyter.widget-view+json": {
       "model_id": "",
       "version_major": 2,
       "version_minor": 0
      },
      "text/plain": [
       "Training Epoch 1/10:   0%|          | 0/1 [00:00<?, ?batch/s]"
      ]
     },
     "metadata": {},
     "output_type": "display_data"
    },
    {
     "data": {
      "application/vnd.jupyter.widget-view+json": {
       "model_id": "",
       "version_major": 2,
       "version_minor": 0
      },
      "text/plain": [
       "Training Epoch 1/10:   0%|          | 0/1 [00:00<?, ?batch/s]"
      ]
     },
     "metadata": {},
     "output_type": "display_data"
    },
    {
     "data": {
      "application/vnd.jupyter.widget-view+json": {
       "model_id": "",
       "version_major": 2,
       "version_minor": 0
      },
      "text/plain": [
       "Training Epoch 1/10:   0%|          | 0/1 [00:00<?, ?batch/s]"
      ]
     },
     "metadata": {},
     "output_type": "display_data"
    },
    {
     "data": {
      "application/vnd.jupyter.widget-view+json": {
       "model_id": "",
       "version_major": 2,
       "version_minor": 0
      },
      "text/plain": [
       "Training Epoch 1/10:   0%|          | 0/1 [00:00<?, ?batch/s]"
      ]
     },
     "metadata": {},
     "output_type": "display_data"
    },
    {
     "data": {
      "application/vnd.jupyter.widget-view+json": {
       "model_id": "",
       "version_major": 2,
       "version_minor": 0
      },
      "text/plain": [
       "Training Epoch 1/10:   0%|          | 0/1 [00:00<?, ?batch/s]"
      ]
     },
     "metadata": {},
     "output_type": "display_data"
    },
    {
     "data": {
      "application/vnd.jupyter.widget-view+json": {
       "model_id": "",
       "version_major": 2,
       "version_minor": 0
      },
      "text/plain": [
       "Training Epoch 1/10:   0%|          | 0/1 [00:00<?, ?batch/s]"
      ]
     },
     "metadata": {},
     "output_type": "display_data"
    },
    {
     "data": {
      "application/vnd.jupyter.widget-view+json": {
       "model_id": "",
       "version_major": 2,
       "version_minor": 0
      },
      "text/plain": [
       "Training Epoch 1/10:   0%|          | 0/1 [00:00<?, ?batch/s]"
      ]
     },
     "metadata": {},
     "output_type": "display_data"
    },
    {
     "data": {
      "application/vnd.jupyter.widget-view+json": {
       "model_id": "",
       "version_major": 2,
       "version_minor": 0
      },
      "text/plain": [
       "Training Epoch 1/10:   0%|          | 0/1 [00:00<?, ?batch/s]"
      ]
     },
     "metadata": {},
     "output_type": "display_data"
    },
    {
     "data": {
      "application/vnd.jupyter.widget-view+json": {
       "model_id": "",
       "version_major": 2,
       "version_minor": 0
      },
      "text/plain": [
       "Training Epoch 1/10:   0%|          | 0/1 [00:00<?, ?batch/s]"
      ]
     },
     "metadata": {},
     "output_type": "display_data"
    },
    {
     "data": {
      "application/vnd.jupyter.widget-view+json": {
       "model_id": "",
       "version_major": 2,
       "version_minor": 0
      },
      "text/plain": [
       "Training Epoch 1/10:   0%|          | 0/1 [00:00<?, ?batch/s]"
      ]
     },
     "metadata": {},
     "output_type": "display_data"
    },
    {
     "data": {
      "application/vnd.jupyter.widget-view+json": {
       "model_id": "",
       "version_major": 2,
       "version_minor": 0
      },
      "text/plain": [
       "Training Epoch 1/10:   0%|          | 0/1 [00:00<?, ?batch/s]"
      ]
     },
     "metadata": {},
     "output_type": "display_data"
    },
    {
     "data": {
      "application/vnd.jupyter.widget-view+json": {
       "model_id": "",
       "version_major": 2,
       "version_minor": 0
      },
      "text/plain": [
       "Training Epoch 1/10:   0%|          | 0/1 [00:00<?, ?batch/s]"
      ]
     },
     "metadata": {},
     "output_type": "display_data"
    },
    {
     "data": {
      "application/vnd.jupyter.widget-view+json": {
       "model_id": "",
       "version_major": 2,
       "version_minor": 0
      },
      "text/plain": [
       "Training Epoch 1/10:   0%|          | 0/1 [00:00<?, ?batch/s]"
      ]
     },
     "metadata": {},
     "output_type": "display_data"
    },
    {
     "data": {
      "application/vnd.jupyter.widget-view+json": {
       "model_id": "",
       "version_major": 2,
       "version_minor": 0
      },
      "text/plain": [
       "Training Epoch 1/10:   0%|          | 0/1 [00:00<?, ?batch/s]"
      ]
     },
     "metadata": {},
     "output_type": "display_data"
    },
    {
     "data": {
      "application/vnd.jupyter.widget-view+json": {
       "model_id": "",
       "version_major": 2,
       "version_minor": 0
      },
      "text/plain": [
       "Training Epoch 1/10:   0%|          | 0/1 [00:00<?, ?batch/s]"
      ]
     },
     "metadata": {},
     "output_type": "display_data"
    },
    {
     "data": {
      "application/vnd.jupyter.widget-view+json": {
       "model_id": "",
       "version_major": 2,
       "version_minor": 0
      },
      "text/plain": [
       "Training Epoch 1/10:   0%|          | 0/1 [00:00<?, ?batch/s]"
      ]
     },
     "metadata": {},
     "output_type": "display_data"
    },
    {
     "data": {
      "application/vnd.jupyter.widget-view+json": {
       "model_id": "",
       "version_major": 2,
       "version_minor": 0
      },
      "text/plain": [
       "Training Epoch 1/10:   0%|          | 0/1 [00:00<?, ?batch/s]"
      ]
     },
     "metadata": {},
     "output_type": "display_data"
    },
    {
     "data": {
      "application/vnd.jupyter.widget-view+json": {
       "model_id": "",
       "version_major": 2,
       "version_minor": 0
      },
      "text/plain": [
       "Training Epoch 1/10:   0%|          | 0/1 [00:00<?, ?batch/s]"
      ]
     },
     "metadata": {},
     "output_type": "display_data"
    },
    {
     "data": {
      "application/vnd.jupyter.widget-view+json": {
       "model_id": "",
       "version_major": 2,
       "version_minor": 0
      },
      "text/plain": [
       "Training Epoch 1/10:   0%|          | 0/1 [00:00<?, ?batch/s]"
      ]
     },
     "metadata": {},
     "output_type": "display_data"
    },
    {
     "data": {
      "application/vnd.jupyter.widget-view+json": {
       "model_id": "",
       "version_major": 2,
       "version_minor": 0
      },
      "text/plain": [
       "Training Epoch 1/10:   0%|          | 0/1 [00:00<?, ?batch/s]"
      ]
     },
     "metadata": {},
     "output_type": "display_data"
    },
    {
     "data": {
      "application/vnd.jupyter.widget-view+json": {
       "model_id": "",
       "version_major": 2,
       "version_minor": 0
      },
      "text/plain": [
       "Training Epoch 1/10:   0%|          | 0/1 [00:00<?, ?batch/s]"
      ]
     },
     "metadata": {},
     "output_type": "display_data"
    },
    {
     "data": {
      "application/vnd.jupyter.widget-view+json": {
       "model_id": "",
       "version_major": 2,
       "version_minor": 0
      },
      "text/plain": [
       "Training Epoch 1/10:   0%|          | 0/1 [00:00<?, ?batch/s]"
      ]
     },
     "metadata": {},
     "output_type": "display_data"
    },
    {
     "data": {
      "application/vnd.jupyter.widget-view+json": {
       "model_id": "",
       "version_major": 2,
       "version_minor": 0
      },
      "text/plain": [
       "Training Epoch 1/10:   0%|          | 0/1 [00:00<?, ?batch/s]"
      ]
     },
     "metadata": {},
     "output_type": "display_data"
    },
    {
     "data": {
      "application/vnd.jupyter.widget-view+json": {
       "model_id": "",
       "version_major": 2,
       "version_minor": 0
      },
      "text/plain": [
       "Training Epoch 1/10:   0%|          | 0/1 [00:00<?, ?batch/s]"
      ]
     },
     "metadata": {},
     "output_type": "display_data"
    },
    {
     "data": {
      "application/vnd.jupyter.widget-view+json": {
       "model_id": "",
       "version_major": 2,
       "version_minor": 0
      },
      "text/plain": [
       "Training Epoch 1/10:   0%|          | 0/1 [00:00<?, ?batch/s]"
      ]
     },
     "metadata": {},
     "output_type": "display_data"
    },
    {
     "data": {
      "application/vnd.jupyter.widget-view+json": {
       "model_id": "",
       "version_major": 2,
       "version_minor": 0
      },
      "text/plain": [
       "Training Epoch 1/10:   0%|          | 0/1 [00:00<?, ?batch/s]"
      ]
     },
     "metadata": {},
     "output_type": "display_data"
    },
    {
     "data": {
      "application/vnd.jupyter.widget-view+json": {
       "model_id": "",
       "version_major": 2,
       "version_minor": 0
      },
      "text/plain": [
       "Training Epoch 1/10:   0%|          | 0/1 [00:00<?, ?batch/s]"
      ]
     },
     "metadata": {},
     "output_type": "display_data"
    },
    {
     "data": {
      "application/vnd.jupyter.widget-view+json": {
       "model_id": "",
       "version_major": 2,
       "version_minor": 0
      },
      "text/plain": [
       "Training Epoch 1/10:   0%|          | 0/1 [00:00<?, ?batch/s]"
      ]
     },
     "metadata": {},
     "output_type": "display_data"
    },
    {
     "data": {
      "application/vnd.jupyter.widget-view+json": {
       "model_id": "",
       "version_major": 2,
       "version_minor": 0
      },
      "text/plain": [
       "Training Epoch 1/10:   0%|          | 0/1 [00:00<?, ?batch/s]"
      ]
     },
     "metadata": {},
     "output_type": "display_data"
    },
    {
     "data": {
      "application/vnd.jupyter.widget-view+json": {
       "model_id": "",
       "version_major": 2,
       "version_minor": 0
      },
      "text/plain": [
       "Training Epoch 1/10:   0%|          | 0/1 [00:00<?, ?batch/s]"
      ]
     },
     "metadata": {},
     "output_type": "display_data"
    },
    {
     "data": {
      "application/vnd.jupyter.widget-view+json": {
       "model_id": "",
       "version_major": 2,
       "version_minor": 0
      },
      "text/plain": [
       "Training Epoch 1/10:   0%|          | 0/1 [00:00<?, ?batch/s]"
      ]
     },
     "metadata": {},
     "output_type": "display_data"
    },
    {
     "data": {
      "application/vnd.jupyter.widget-view+json": {
       "model_id": "",
       "version_major": 2,
       "version_minor": 0
      },
      "text/plain": [
       "Training Epoch 1/10:   0%|          | 0/1 [00:00<?, ?batch/s]"
      ]
     },
     "metadata": {},
     "output_type": "display_data"
    },
    {
     "data": {
      "application/vnd.jupyter.widget-view+json": {
       "model_id": "",
       "version_major": 2,
       "version_minor": 0
      },
      "text/plain": [
       "Training Epoch 1/10:   0%|          | 0/1 [00:00<?, ?batch/s]"
      ]
     },
     "metadata": {},
     "output_type": "display_data"
    },
    {
     "data": {
      "application/vnd.jupyter.widget-view+json": {
       "model_id": "",
       "version_major": 2,
       "version_minor": 0
      },
      "text/plain": [
       "Training Epoch 1/10:   0%|          | 0/1 [00:00<?, ?batch/s]"
      ]
     },
     "metadata": {},
     "output_type": "display_data"
    },
    {
     "data": {
      "application/vnd.jupyter.widget-view+json": {
       "model_id": "",
       "version_major": 2,
       "version_minor": 0
      },
      "text/plain": [
       "Training Epoch 1/10:   0%|          | 0/1 [00:00<?, ?batch/s]"
      ]
     },
     "metadata": {},
     "output_type": "display_data"
    },
    {
     "data": {
      "application/vnd.jupyter.widget-view+json": {
       "model_id": "",
       "version_major": 2,
       "version_minor": 0
      },
      "text/plain": [
       "Training Epoch 1/10:   0%|          | 0/1 [00:00<?, ?batch/s]"
      ]
     },
     "metadata": {},
     "output_type": "display_data"
    },
    {
     "data": {
      "application/vnd.jupyter.widget-view+json": {
       "model_id": "",
       "version_major": 2,
       "version_minor": 0
      },
      "text/plain": [
       "Training Epoch 1/10:   0%|          | 0/1 [00:00<?, ?batch/s]"
      ]
     },
     "metadata": {},
     "output_type": "display_data"
    },
    {
     "data": {
      "application/vnd.jupyter.widget-view+json": {
       "model_id": "",
       "version_major": 2,
       "version_minor": 0
      },
      "text/plain": [
       "Training Epoch 1/10:   0%|          | 0/1 [00:00<?, ?batch/s]"
      ]
     },
     "metadata": {},
     "output_type": "display_data"
    },
    {
     "data": {
      "application/vnd.jupyter.widget-view+json": {
       "model_id": "",
       "version_major": 2,
       "version_minor": 0
      },
      "text/plain": [
       "Training Epoch 1/10:   0%|          | 0/1 [00:00<?, ?batch/s]"
      ]
     },
     "metadata": {},
     "output_type": "display_data"
    },
    {
     "data": {
      "application/vnd.jupyter.widget-view+json": {
       "model_id": "",
       "version_major": 2,
       "version_minor": 0
      },
      "text/plain": [
       "Training Epoch 1/10:   0%|          | 0/1 [00:00<?, ?batch/s]"
      ]
     },
     "metadata": {},
     "output_type": "display_data"
    },
    {
     "data": {
      "application/vnd.jupyter.widget-view+json": {
       "model_id": "",
       "version_major": 2,
       "version_minor": 0
      },
      "text/plain": [
       "Training Epoch 1/10:   0%|          | 0/1 [00:00<?, ?batch/s]"
      ]
     },
     "metadata": {},
     "output_type": "display_data"
    },
    {
     "data": {
      "application/vnd.jupyter.widget-view+json": {
       "model_id": "",
       "version_major": 2,
       "version_minor": 0
      },
      "text/plain": [
       "Training Epoch 1/10:   0%|          | 0/1 [00:00<?, ?batch/s]"
      ]
     },
     "metadata": {},
     "output_type": "display_data"
    },
    {
     "data": {
      "application/vnd.jupyter.widget-view+json": {
       "model_id": "",
       "version_major": 2,
       "version_minor": 0
      },
      "text/plain": [
       "Training Epoch 1/10:   0%|          | 0/1 [00:00<?, ?batch/s]"
      ]
     },
     "metadata": {},
     "output_type": "display_data"
    },
    {
     "data": {
      "application/vnd.jupyter.widget-view+json": {
       "model_id": "",
       "version_major": 2,
       "version_minor": 0
      },
      "text/plain": [
       "Training Epoch 1/10:   0%|          | 0/1 [00:00<?, ?batch/s]"
      ]
     },
     "metadata": {},
     "output_type": "display_data"
    },
    {
     "data": {
      "application/vnd.jupyter.widget-view+json": {
       "model_id": "",
       "version_major": 2,
       "version_minor": 0
      },
      "text/plain": [
       "Training Epoch 1/10:   0%|          | 0/1 [00:00<?, ?batch/s]"
      ]
     },
     "metadata": {},
     "output_type": "display_data"
    },
    {
     "data": {
      "application/vnd.jupyter.widget-view+json": {
       "model_id": "",
       "version_major": 2,
       "version_minor": 0
      },
      "text/plain": [
       "Training Epoch 1/10:   0%|          | 0/1 [00:00<?, ?batch/s]"
      ]
     },
     "metadata": {},
     "output_type": "display_data"
    },
    {
     "data": {
      "application/vnd.jupyter.widget-view+json": {
       "model_id": "",
       "version_major": 2,
       "version_minor": 0
      },
      "text/plain": [
       "Training Epoch 1/10:   0%|          | 0/1 [00:00<?, ?batch/s]"
      ]
     },
     "metadata": {},
     "output_type": "display_data"
    },
    {
     "data": {
      "application/vnd.jupyter.widget-view+json": {
       "model_id": "",
       "version_major": 2,
       "version_minor": 0
      },
      "text/plain": [
       "Training Epoch 1/10:   0%|          | 0/1 [00:00<?, ?batch/s]"
      ]
     },
     "metadata": {},
     "output_type": "display_data"
    },
    {
     "data": {
      "application/vnd.jupyter.widget-view+json": {
       "model_id": "",
       "version_major": 2,
       "version_minor": 0
      },
      "text/plain": [
       "Training Epoch 1/10:   0%|          | 0/1 [00:00<?, ?batch/s]"
      ]
     },
     "metadata": {},
     "output_type": "display_data"
    },
    {
     "data": {
      "application/vnd.jupyter.widget-view+json": {
       "model_id": "",
       "version_major": 2,
       "version_minor": 0
      },
      "text/plain": [
       "Evaluating Epoch 1/10:   0%|          | 0/119 [00:00<?, ?batch/s]"
      ]
     },
     "metadata": {},
     "output_type": "display_data"
    },
    {
     "name": "stdout",
     "output_type": "stream",
     "text": [
      "Epoch [1/10], Average Loss: 0.7218, Train Accuracy: 85.00%, Test Accuracy: 25.00%\n"
     ]
    },
    {
     "data": {
      "application/vnd.jupyter.widget-view+json": {
       "model_id": "",
       "version_major": 2,
       "version_minor": 0
      },
      "text/plain": [
       "Outer Loop Epoch 2/10:   0%|          | 0/10 [00:00<?, ?loop/s]"
      ]
     },
     "metadata": {},
     "output_type": "display_data"
    },
    {
     "data": {
      "application/vnd.jupyter.widget-view+json": {
       "model_id": "",
       "version_major": 2,
       "version_minor": 0
      },
      "text/plain": [
       "Training Epoch 2/10:   0%|          | 0/1 [00:00<?, ?batch/s]"
      ]
     },
     "metadata": {},
     "output_type": "display_data"
    },
    {
     "data": {
      "application/vnd.jupyter.widget-view+json": {
       "model_id": "",
       "version_major": 2,
       "version_minor": 0
      },
      "text/plain": [
       "Training Epoch 2/10:   0%|          | 0/1 [00:00<?, ?batch/s]"
      ]
     },
     "metadata": {},
     "output_type": "display_data"
    },
    {
     "data": {
      "application/vnd.jupyter.widget-view+json": {
       "model_id": "",
       "version_major": 2,
       "version_minor": 0
      },
      "text/plain": [
       "Training Epoch 2/10:   0%|          | 0/1 [00:00<?, ?batch/s]"
      ]
     },
     "metadata": {},
     "output_type": "display_data"
    },
    {
     "data": {
      "application/vnd.jupyter.widget-view+json": {
       "model_id": "",
       "version_major": 2,
       "version_minor": 0
      },
      "text/plain": [
       "Training Epoch 2/10:   0%|          | 0/1 [00:00<?, ?batch/s]"
      ]
     },
     "metadata": {},
     "output_type": "display_data"
    },
    {
     "data": {
      "application/vnd.jupyter.widget-view+json": {
       "model_id": "",
       "version_major": 2,
       "version_minor": 0
      },
      "text/plain": [
       "Training Epoch 2/10:   0%|          | 0/1 [00:00<?, ?batch/s]"
      ]
     },
     "metadata": {},
     "output_type": "display_data"
    },
    {
     "data": {
      "application/vnd.jupyter.widget-view+json": {
       "model_id": "",
       "version_major": 2,
       "version_minor": 0
      },
      "text/plain": [
       "Training Epoch 2/10:   0%|          | 0/1 [00:00<?, ?batch/s]"
      ]
     },
     "metadata": {},
     "output_type": "display_data"
    },
    {
     "data": {
      "application/vnd.jupyter.widget-view+json": {
       "model_id": "",
       "version_major": 2,
       "version_minor": 0
      },
      "text/plain": [
       "Training Epoch 2/10:   0%|          | 0/1 [00:00<?, ?batch/s]"
      ]
     },
     "metadata": {},
     "output_type": "display_data"
    },
    {
     "data": {
      "application/vnd.jupyter.widget-view+json": {
       "model_id": "",
       "version_major": 2,
       "version_minor": 0
      },
      "text/plain": [
       "Training Epoch 2/10:   0%|          | 0/1 [00:00<?, ?batch/s]"
      ]
     },
     "metadata": {},
     "output_type": "display_data"
    },
    {
     "data": {
      "application/vnd.jupyter.widget-view+json": {
       "model_id": "",
       "version_major": 2,
       "version_minor": 0
      },
      "text/plain": [
       "Training Epoch 2/10:   0%|          | 0/1 [00:00<?, ?batch/s]"
      ]
     },
     "metadata": {},
     "output_type": "display_data"
    },
    {
     "data": {
      "application/vnd.jupyter.widget-view+json": {
       "model_id": "",
       "version_major": 2,
       "version_minor": 0
      },
      "text/plain": [
       "Training Epoch 2/10:   0%|          | 0/1 [00:00<?, ?batch/s]"
      ]
     },
     "metadata": {},
     "output_type": "display_data"
    },
    {
     "data": {
      "application/vnd.jupyter.widget-view+json": {
       "model_id": "",
       "version_major": 2,
       "version_minor": 0
      },
      "text/plain": [
       "Training Epoch 2/10:   0%|          | 0/1 [00:00<?, ?batch/s]"
      ]
     },
     "metadata": {},
     "output_type": "display_data"
    },
    {
     "data": {
      "application/vnd.jupyter.widget-view+json": {
       "model_id": "",
       "version_major": 2,
       "version_minor": 0
      },
      "text/plain": [
       "Training Epoch 2/10:   0%|          | 0/1 [00:00<?, ?batch/s]"
      ]
     },
     "metadata": {},
     "output_type": "display_data"
    },
    {
     "data": {
      "application/vnd.jupyter.widget-view+json": {
       "model_id": "",
       "version_major": 2,
       "version_minor": 0
      },
      "text/plain": [
       "Training Epoch 2/10:   0%|          | 0/1 [00:00<?, ?batch/s]"
      ]
     },
     "metadata": {},
     "output_type": "display_data"
    },
    {
     "data": {
      "application/vnd.jupyter.widget-view+json": {
       "model_id": "",
       "version_major": 2,
       "version_minor": 0
      },
      "text/plain": [
       "Training Epoch 2/10:   0%|          | 0/1 [00:00<?, ?batch/s]"
      ]
     },
     "metadata": {},
     "output_type": "display_data"
    },
    {
     "data": {
      "application/vnd.jupyter.widget-view+json": {
       "model_id": "",
       "version_major": 2,
       "version_minor": 0
      },
      "text/plain": [
       "Training Epoch 2/10:   0%|          | 0/1 [00:00<?, ?batch/s]"
      ]
     },
     "metadata": {},
     "output_type": "display_data"
    },
    {
     "data": {
      "application/vnd.jupyter.widget-view+json": {
       "model_id": "",
       "version_major": 2,
       "version_minor": 0
      },
      "text/plain": [
       "Training Epoch 2/10:   0%|          | 0/1 [00:00<?, ?batch/s]"
      ]
     },
     "metadata": {},
     "output_type": "display_data"
    },
    {
     "data": {
      "application/vnd.jupyter.widget-view+json": {
       "model_id": "",
       "version_major": 2,
       "version_minor": 0
      },
      "text/plain": [
       "Training Epoch 2/10:   0%|          | 0/1 [00:00<?, ?batch/s]"
      ]
     },
     "metadata": {},
     "output_type": "display_data"
    },
    {
     "data": {
      "application/vnd.jupyter.widget-view+json": {
       "model_id": "",
       "version_major": 2,
       "version_minor": 0
      },
      "text/plain": [
       "Training Epoch 2/10:   0%|          | 0/1 [00:00<?, ?batch/s]"
      ]
     },
     "metadata": {},
     "output_type": "display_data"
    },
    {
     "data": {
      "application/vnd.jupyter.widget-view+json": {
       "model_id": "",
       "version_major": 2,
       "version_minor": 0
      },
      "text/plain": [
       "Training Epoch 2/10:   0%|          | 0/1 [00:00<?, ?batch/s]"
      ]
     },
     "metadata": {},
     "output_type": "display_data"
    },
    {
     "data": {
      "application/vnd.jupyter.widget-view+json": {
       "model_id": "",
       "version_major": 2,
       "version_minor": 0
      },
      "text/plain": [
       "Training Epoch 2/10:   0%|          | 0/1 [00:00<?, ?batch/s]"
      ]
     },
     "metadata": {},
     "output_type": "display_data"
    },
    {
     "data": {
      "application/vnd.jupyter.widget-view+json": {
       "model_id": "",
       "version_major": 2,
       "version_minor": 0
      },
      "text/plain": [
       "Training Epoch 2/10:   0%|          | 0/1 [00:00<?, ?batch/s]"
      ]
     },
     "metadata": {},
     "output_type": "display_data"
    },
    {
     "data": {
      "application/vnd.jupyter.widget-view+json": {
       "model_id": "",
       "version_major": 2,
       "version_minor": 0
      },
      "text/plain": [
       "Training Epoch 2/10:   0%|          | 0/1 [00:00<?, ?batch/s]"
      ]
     },
     "metadata": {},
     "output_type": "display_data"
    },
    {
     "data": {
      "application/vnd.jupyter.widget-view+json": {
       "model_id": "",
       "version_major": 2,
       "version_minor": 0
      },
      "text/plain": [
       "Training Epoch 2/10:   0%|          | 0/1 [00:00<?, ?batch/s]"
      ]
     },
     "metadata": {},
     "output_type": "display_data"
    },
    {
     "data": {
      "application/vnd.jupyter.widget-view+json": {
       "model_id": "",
       "version_major": 2,
       "version_minor": 0
      },
      "text/plain": [
       "Training Epoch 2/10:   0%|          | 0/1 [00:00<?, ?batch/s]"
      ]
     },
     "metadata": {},
     "output_type": "display_data"
    },
    {
     "data": {
      "application/vnd.jupyter.widget-view+json": {
       "model_id": "",
       "version_major": 2,
       "version_minor": 0
      },
      "text/plain": [
       "Training Epoch 2/10:   0%|          | 0/1 [00:00<?, ?batch/s]"
      ]
     },
     "metadata": {},
     "output_type": "display_data"
    },
    {
     "data": {
      "application/vnd.jupyter.widget-view+json": {
       "model_id": "",
       "version_major": 2,
       "version_minor": 0
      },
      "text/plain": [
       "Training Epoch 2/10:   0%|          | 0/1 [00:00<?, ?batch/s]"
      ]
     },
     "metadata": {},
     "output_type": "display_data"
    },
    {
     "data": {
      "application/vnd.jupyter.widget-view+json": {
       "model_id": "",
       "version_major": 2,
       "version_minor": 0
      },
      "text/plain": [
       "Training Epoch 2/10:   0%|          | 0/1 [00:00<?, ?batch/s]"
      ]
     },
     "metadata": {},
     "output_type": "display_data"
    },
    {
     "data": {
      "application/vnd.jupyter.widget-view+json": {
       "model_id": "",
       "version_major": 2,
       "version_minor": 0
      },
      "text/plain": [
       "Training Epoch 2/10:   0%|          | 0/1 [00:00<?, ?batch/s]"
      ]
     },
     "metadata": {},
     "output_type": "display_data"
    },
    {
     "data": {
      "application/vnd.jupyter.widget-view+json": {
       "model_id": "",
       "version_major": 2,
       "version_minor": 0
      },
      "text/plain": [
       "Training Epoch 2/10:   0%|          | 0/1 [00:00<?, ?batch/s]"
      ]
     },
     "metadata": {},
     "output_type": "display_data"
    },
    {
     "data": {
      "application/vnd.jupyter.widget-view+json": {
       "model_id": "",
       "version_major": 2,
       "version_minor": 0
      },
      "text/plain": [
       "Training Epoch 2/10:   0%|          | 0/1 [00:00<?, ?batch/s]"
      ]
     },
     "metadata": {},
     "output_type": "display_data"
    },
    {
     "data": {
      "application/vnd.jupyter.widget-view+json": {
       "model_id": "",
       "version_major": 2,
       "version_minor": 0
      },
      "text/plain": [
       "Training Epoch 2/10:   0%|          | 0/1 [00:00<?, ?batch/s]"
      ]
     },
     "metadata": {},
     "output_type": "display_data"
    },
    {
     "data": {
      "application/vnd.jupyter.widget-view+json": {
       "model_id": "",
       "version_major": 2,
       "version_minor": 0
      },
      "text/plain": [
       "Training Epoch 2/10:   0%|          | 0/1 [00:00<?, ?batch/s]"
      ]
     },
     "metadata": {},
     "output_type": "display_data"
    },
    {
     "data": {
      "application/vnd.jupyter.widget-view+json": {
       "model_id": "",
       "version_major": 2,
       "version_minor": 0
      },
      "text/plain": [
       "Training Epoch 2/10:   0%|          | 0/1 [00:00<?, ?batch/s]"
      ]
     },
     "metadata": {},
     "output_type": "display_data"
    },
    {
     "data": {
      "application/vnd.jupyter.widget-view+json": {
       "model_id": "",
       "version_major": 2,
       "version_minor": 0
      },
      "text/plain": [
       "Training Epoch 2/10:   0%|          | 0/1 [00:00<?, ?batch/s]"
      ]
     },
     "metadata": {},
     "output_type": "display_data"
    },
    {
     "data": {
      "application/vnd.jupyter.widget-view+json": {
       "model_id": "",
       "version_major": 2,
       "version_minor": 0
      },
      "text/plain": [
       "Training Epoch 2/10:   0%|          | 0/1 [00:00<?, ?batch/s]"
      ]
     },
     "metadata": {},
     "output_type": "display_data"
    },
    {
     "data": {
      "application/vnd.jupyter.widget-view+json": {
       "model_id": "",
       "version_major": 2,
       "version_minor": 0
      },
      "text/plain": [
       "Training Epoch 2/10:   0%|          | 0/1 [00:00<?, ?batch/s]"
      ]
     },
     "metadata": {},
     "output_type": "display_data"
    },
    {
     "data": {
      "application/vnd.jupyter.widget-view+json": {
       "model_id": "",
       "version_major": 2,
       "version_minor": 0
      },
      "text/plain": [
       "Training Epoch 2/10:   0%|          | 0/1 [00:00<?, ?batch/s]"
      ]
     },
     "metadata": {},
     "output_type": "display_data"
    },
    {
     "data": {
      "application/vnd.jupyter.widget-view+json": {
       "model_id": "",
       "version_major": 2,
       "version_minor": 0
      },
      "text/plain": [
       "Training Epoch 2/10:   0%|          | 0/1 [00:00<?, ?batch/s]"
      ]
     },
     "metadata": {},
     "output_type": "display_data"
    },
    {
     "data": {
      "application/vnd.jupyter.widget-view+json": {
       "model_id": "",
       "version_major": 2,
       "version_minor": 0
      },
      "text/plain": [
       "Training Epoch 2/10:   0%|          | 0/1 [00:00<?, ?batch/s]"
      ]
     },
     "metadata": {},
     "output_type": "display_data"
    },
    {
     "data": {
      "application/vnd.jupyter.widget-view+json": {
       "model_id": "",
       "version_major": 2,
       "version_minor": 0
      },
      "text/plain": [
       "Training Epoch 2/10:   0%|          | 0/1 [00:00<?, ?batch/s]"
      ]
     },
     "metadata": {},
     "output_type": "display_data"
    },
    {
     "data": {
      "application/vnd.jupyter.widget-view+json": {
       "model_id": "",
       "version_major": 2,
       "version_minor": 0
      },
      "text/plain": [
       "Training Epoch 2/10:   0%|          | 0/1 [00:00<?, ?batch/s]"
      ]
     },
     "metadata": {},
     "output_type": "display_data"
    },
    {
     "data": {
      "application/vnd.jupyter.widget-view+json": {
       "model_id": "",
       "version_major": 2,
       "version_minor": 0
      },
      "text/plain": [
       "Training Epoch 2/10:   0%|          | 0/1 [00:00<?, ?batch/s]"
      ]
     },
     "metadata": {},
     "output_type": "display_data"
    },
    {
     "data": {
      "application/vnd.jupyter.widget-view+json": {
       "model_id": "",
       "version_major": 2,
       "version_minor": 0
      },
      "text/plain": [
       "Training Epoch 2/10:   0%|          | 0/1 [00:00<?, ?batch/s]"
      ]
     },
     "metadata": {},
     "output_type": "display_data"
    },
    {
     "data": {
      "application/vnd.jupyter.widget-view+json": {
       "model_id": "",
       "version_major": 2,
       "version_minor": 0
      },
      "text/plain": [
       "Training Epoch 2/10:   0%|          | 0/1 [00:00<?, ?batch/s]"
      ]
     },
     "metadata": {},
     "output_type": "display_data"
    },
    {
     "data": {
      "application/vnd.jupyter.widget-view+json": {
       "model_id": "",
       "version_major": 2,
       "version_minor": 0
      },
      "text/plain": [
       "Training Epoch 2/10:   0%|          | 0/1 [00:00<?, ?batch/s]"
      ]
     },
     "metadata": {},
     "output_type": "display_data"
    },
    {
     "data": {
      "application/vnd.jupyter.widget-view+json": {
       "model_id": "",
       "version_major": 2,
       "version_minor": 0
      },
      "text/plain": [
       "Training Epoch 2/10:   0%|          | 0/1 [00:00<?, ?batch/s]"
      ]
     },
     "metadata": {},
     "output_type": "display_data"
    },
    {
     "data": {
      "application/vnd.jupyter.widget-view+json": {
       "model_id": "",
       "version_major": 2,
       "version_minor": 0
      },
      "text/plain": [
       "Training Epoch 2/10:   0%|          | 0/1 [00:00<?, ?batch/s]"
      ]
     },
     "metadata": {},
     "output_type": "display_data"
    },
    {
     "data": {
      "application/vnd.jupyter.widget-view+json": {
       "model_id": "",
       "version_major": 2,
       "version_minor": 0
      },
      "text/plain": [
       "Training Epoch 2/10:   0%|          | 0/1 [00:00<?, ?batch/s]"
      ]
     },
     "metadata": {},
     "output_type": "display_data"
    },
    {
     "data": {
      "application/vnd.jupyter.widget-view+json": {
       "model_id": "",
       "version_major": 2,
       "version_minor": 0
      },
      "text/plain": [
       "Training Epoch 2/10:   0%|          | 0/1 [00:00<?, ?batch/s]"
      ]
     },
     "metadata": {},
     "output_type": "display_data"
    },
    {
     "data": {
      "application/vnd.jupyter.widget-view+json": {
       "model_id": "",
       "version_major": 2,
       "version_minor": 0
      },
      "text/plain": [
       "Training Epoch 2/10:   0%|          | 0/1 [00:00<?, ?batch/s]"
      ]
     },
     "metadata": {},
     "output_type": "display_data"
    },
    {
     "data": {
      "application/vnd.jupyter.widget-view+json": {
       "model_id": "",
       "version_major": 2,
       "version_minor": 0
      },
      "text/plain": [
       "Evaluating Epoch 2/10:   0%|          | 0/119 [00:00<?, ?batch/s]"
      ]
     },
     "metadata": {},
     "output_type": "display_data"
    },
    {
     "name": "stdout",
     "output_type": "stream",
     "text": [
      "Epoch [2/10], Average Loss: 1.0775, Train Accuracy: 65.75%, Test Accuracy: 25.00%\n"
     ]
    },
    {
     "data": {
      "application/vnd.jupyter.widget-view+json": {
       "model_id": "34635681c3ed489b86401db6d255be1e",
       "version_major": 2,
       "version_minor": 0
      },
      "text/plain": [
       "Outer Loop Epoch 3/10:   0%|          | 0/10 [00:00<?, ?loop/s]"
      ]
     },
     "metadata": {},
     "output_type": "display_data"
    },
    {
     "data": {
      "application/vnd.jupyter.widget-view+json": {
       "model_id": "",
       "version_major": 2,
       "version_minor": 0
      },
      "text/plain": [
       "Training Epoch 3/10:   0%|          | 0/1 [00:00<?, ?batch/s]"
      ]
     },
     "metadata": {},
     "output_type": "display_data"
    },
    {
     "data": {
      "application/vnd.jupyter.widget-view+json": {
       "model_id": "",
       "version_major": 2,
       "version_minor": 0
      },
      "text/plain": [
       "Training Epoch 3/10:   0%|          | 0/1 [00:00<?, ?batch/s]"
      ]
     },
     "metadata": {},
     "output_type": "display_data"
    },
    {
     "data": {
      "application/vnd.jupyter.widget-view+json": {
       "model_id": "",
       "version_major": 2,
       "version_minor": 0
      },
      "text/plain": [
       "Training Epoch 3/10:   0%|          | 0/1 [00:00<?, ?batch/s]"
      ]
     },
     "metadata": {},
     "output_type": "display_data"
    },
    {
     "data": {
      "application/vnd.jupyter.widget-view+json": {
       "model_id": "",
       "version_major": 2,
       "version_minor": 0
      },
      "text/plain": [
       "Training Epoch 3/10:   0%|          | 0/1 [00:00<?, ?batch/s]"
      ]
     },
     "metadata": {},
     "output_type": "display_data"
    },
    {
     "data": {
      "application/vnd.jupyter.widget-view+json": {
       "model_id": "",
       "version_major": 2,
       "version_minor": 0
      },
      "text/plain": [
       "Training Epoch 3/10:   0%|          | 0/1 [00:00<?, ?batch/s]"
      ]
     },
     "metadata": {},
     "output_type": "display_data"
    },
    {
     "ename": "KeyboardInterrupt",
     "evalue": "",
     "output_type": "error",
     "traceback": [
      "\u001b[0;31m---------------------------------------------------------------------------\u001b[0m",
      "\u001b[0;31mKeyboardInterrupt\u001b[0m                         Traceback (most recent call last)",
      "Cell \u001b[0;32mIn[9], line 27\u001b[0m\n\u001b[1;32m     24\u001b[0m synthetic_labels_batch \u001b[38;5;241m=\u001b[39m synthetic_labels[class_idx \u001b[38;5;241m*\u001b[39m num_synthetic_per_class:(class_idx \u001b[38;5;241m+\u001b[39m \u001b[38;5;241m1\u001b[39m) \u001b[38;5;241m*\u001b[39m num_synthetic_per_class]\n\u001b[1;32m     26\u001b[0m \u001b[38;5;66;03m# Sample real data for the current class\u001b[39;00m\n\u001b[0;32m---> 27\u001b[0m real_data_batch, real_labels_batch \u001b[38;5;241m=\u001b[39m \u001b[43mget_real_data_batch_for_class\u001b[49m\u001b[43m(\u001b[49m\u001b[43mtrain_dataset\u001b[49m\u001b[43m,\u001b[49m\u001b[43m \u001b[49m\u001b[43mclass_idx\u001b[49m\u001b[43m,\u001b[49m\u001b[43m \u001b[49m\u001b[43mbatch_size\u001b[49m\u001b[43m,\u001b[49m\u001b[43m \u001b[49m\u001b[43mdevice\u001b[49m\u001b[43m)\u001b[49m\n\u001b[1;32m     29\u001b[0m \u001b[38;5;66;03m# Compute gradients for real data\u001b[39;00m\n\u001b[1;32m     30\u001b[0m gradients_real, _, _ \u001b[38;5;241m=\u001b[39m compute_gradients_and_outputs(model, real_data_batch, real_labels_batch)\n",
      "Cell \u001b[0;32mIn[7], line 23\u001b[0m, in \u001b[0;36mget_real_data_batch_for_class\u001b[0;34m(train_dataset, target_class, batch_size, device)\u001b[0m\n\u001b[1;32m     19\u001b[0m \u001b[38;5;28;01mdef\u001b[39;00m \u001b[38;5;21mget_real_data_batch_for_class\u001b[39m(train_dataset, target_class, batch_size, device):\n\u001b[1;32m     20\u001b[0m \u001b[38;5;250m    \u001b[39m\u001b[38;5;124;03m\"\"\"\u001b[39;00m\n\u001b[1;32m     21\u001b[0m \u001b[38;5;124;03m    Function to get a batch of real data belonging to a specific class from the dataset.\u001b[39;00m\n\u001b[1;32m     22\u001b[0m \u001b[38;5;124;03m    \"\"\"\u001b[39;00m\n\u001b[0;32m---> 23\u001b[0m     class_indices \u001b[38;5;241m=\u001b[39m [i \u001b[38;5;28;01mfor\u001b[39;00m i, label \u001b[38;5;129;01min\u001b[39;00m \u001b[38;5;28menumerate\u001b[39m(train_dataset\u001b[38;5;241m.\u001b[39mlabels) \u001b[38;5;28;01mif\u001b[39;00m label \u001b[38;5;241m==\u001b[39m target_class]\n\u001b[1;32m     24\u001b[0m     selected_indices \u001b[38;5;241m=\u001b[39m random\u001b[38;5;241m.\u001b[39msample(class_indices, batch_size)\n\u001b[1;32m     25\u001b[0m     real_data_batch \u001b[38;5;241m=\u001b[39m [train_dataset[i][\u001b[38;5;241m0\u001b[39m] \u001b[38;5;28;01mfor\u001b[39;00m i \u001b[38;5;129;01min\u001b[39;00m selected_indices]\n",
      "Cell \u001b[0;32mIn[7], line 23\u001b[0m, in \u001b[0;36m<listcomp>\u001b[0;34m(.0)\u001b[0m\n\u001b[1;32m     19\u001b[0m \u001b[38;5;28;01mdef\u001b[39;00m \u001b[38;5;21mget_real_data_batch_for_class\u001b[39m(train_dataset, target_class, batch_size, device):\n\u001b[1;32m     20\u001b[0m \u001b[38;5;250m    \u001b[39m\u001b[38;5;124;03m\"\"\"\u001b[39;00m\n\u001b[1;32m     21\u001b[0m \u001b[38;5;124;03m    Function to get a batch of real data belonging to a specific class from the dataset.\u001b[39;00m\n\u001b[1;32m     22\u001b[0m \u001b[38;5;124;03m    \"\"\"\u001b[39;00m\n\u001b[0;32m---> 23\u001b[0m     class_indices \u001b[38;5;241m=\u001b[39m [i \u001b[38;5;28;01mfor\u001b[39;00m i, label \u001b[38;5;129;01min\u001b[39;00m \u001b[38;5;28menumerate\u001b[39m(train_dataset\u001b[38;5;241m.\u001b[39mlabels) \u001b[38;5;28;01mif\u001b[39;00m label \u001b[38;5;241m==\u001b[39m \u001b[43mtarget_class\u001b[49m]\n\u001b[1;32m     24\u001b[0m     selected_indices \u001b[38;5;241m=\u001b[39m random\u001b[38;5;241m.\u001b[39msample(class_indices, batch_size)\n\u001b[1;32m     25\u001b[0m     real_data_batch \u001b[38;5;241m=\u001b[39m [train_dataset[i][\u001b[38;5;241m0\u001b[39m] \u001b[38;5;28;01mfor\u001b[39;00m i \u001b[38;5;129;01min\u001b[39;00m selected_indices]\n",
      "\u001b[0;31mKeyboardInterrupt\u001b[0m: "
     ]
    }
   ],
   "source": [
    "from tqdm.notebook import tqdm\n",
    "import random\n",
    "\n",
    "# Define a function to sample real data for a given class from the dataset\n",
    "\n",
    "\n",
    "# Main training loop\n",
    "for epoch in range(num_epochs):\n",
    "    model.train()\n",
    "    loss_avg = 0\n",
    "    train_correct = 0\n",
    "    train_total = 0\n",
    "\n",
    "    model = CNNModel()\n",
    "    model.to(device)\n",
    "    \n",
    "    # Randomly initialize the model weights\n",
    "    model.apply(lambda m: m.reset_parameters() if hasattr(m, 'reset_parameters') else None)\n",
    "    \n",
    "    for k in tqdm(range(K), desc=f'Outer Loop Epoch {epoch+1}/{num_epochs}', unit='loop', leave=False):  # Outer loop\n",
    "        for inner_loop1 in range(inner_loop1_range):\n",
    "            for class_idx in range(num_classes):  # Per-class synthetic data update\n",
    "                synthetic_data_batch = synthetic_text_data[class_idx * num_synthetic_per_class:(class_idx + 1) * num_synthetic_per_class]\n",
    "                synthetic_labels_batch = synthetic_labels[class_idx * num_synthetic_per_class:(class_idx + 1) * num_synthetic_per_class]\n",
    "                \n",
    "                # Sample real data for the current class\n",
    "                real_data_batch, real_labels_batch = get_real_data_batch_for_class(train_dataset, class_idx, batch_size, device)\n",
    "                \n",
    "                # Compute gradients for real data\n",
    "                gradients_real, _, _ = compute_gradients_and_outputs(model, real_data_batch, real_labels_batch)\n",
    "                \n",
    "                # Compute gradients for synthetic data\n",
    "                gradients_synthetic, _, _ = compute_gradients_and_outputs(model, synthetic_data_batch.to(device), synthetic_labels_batch.to(device))\n",
    "                \n",
    "                # Compute matching loss\n",
    "                loss_match = layerwise_matching_loss(gradients_synthetic, gradients_real)\n",
    "                \n",
    "                # Zero the gradients\n",
    "                optimizer_syn.zero_grad()\n",
    "                \n",
    "                # Backward pass and optimize synthetic data\n",
    "                loss_match.backward()\n",
    "                optimizer_syn.step()\n",
    "\n",
    "        synthetic_dataset = data.TensorDataset(synthetic_text_data.detach(), synthetic_labels)\n",
    "        synthetic_loader = data.DataLoader(synthetic_dataset, batch_size=64, shuffle=True)\n",
    "\n",
    "        for t in range(T):  # Inner loop for network training\n",
    "            for synthetic_data_batch, synthetic_labels_batch in tqdm(synthetic_loader, desc=f'Training Epoch {epoch+1}/{num_epochs}', unit='batch', leave=False):\n",
    "                synthetic_data_batch, synthetic_labels_batch = synthetic_data_batch.to(device), synthetic_labels_batch.to(device)\n",
    "           \n",
    "                optimizer_net.zero_grad()\n",
    "                outputs = model(synthetic_data_batch.to(device))\n",
    "                loss = criterion(outputs, synthetic_labels_batch.to(device))\n",
    "                loss.backward()\n",
    "                optimizer_net.step()\n",
    "        \n",
    "                loss_avg += loss.item()\n",
    "        \n",
    "                # Calculate training accuracy\n",
    "                _, predicted = torch.max(outputs.data, 1)\n",
    "                train_total += synthetic_labels_batch.size(0)\n",
    "                train_correct += (predicted == synthetic_labels_batch.to(device)).sum().item()\n",
    "\n",
    "    train_accuracy = 100 * train_correct / train_total\n",
    "\n",
    "    # Evaluate model on test set\n",
    "    model.eval()\n",
    "    test_correct = 0\n",
    "    test_total = 0\n",
    "    with torch.no_grad():\n",
    "        for inputs, labels in tqdm(test_loader, desc=f'Evaluating Epoch {epoch+1}/{num_epochs}', unit='batch', leave=False):\n",
    "            inputs, labels = inputs.to(device), labels.to(device)\n",
    "            outputs = model(inputs)\n",
    "            _, predicted = torch.max(outputs.data, 1)\n",
    "\n",
    "            test_total += labels.size(0)\n",
    "            test_correct += (predicted == labels).sum().item()\n",
    "\n",
    "    test_accuracy = 100 * test_correct / test_total\n",
    "    print(f\"Epoch [{epoch + 1}/{num_epochs}], Average Loss: {loss_avg / (K * T):.4f}, Train Accuracy: {train_accuracy:.2f}%, Test Accuracy: {test_accuracy:.2f}%\")\n"
   ]
  },
  {
   "cell_type": "code",
   "execution_count": 10,
   "id": "8c3473c5-9d2f-4cb7-980d-cc65dab89226",
   "metadata": {},
   "outputs": [
    {
     "data": {
      "text/plain": [
       "tensor([[-2.7528e-01,  1.2775e-01,  9.6544e-02,  6.7256e-02],\n",
       "        [-1.2055e-01,  3.6505e-02, -2.9580e-02,  1.6076e-01],\n",
       "        [-1.2939e-01,  3.3101e-03, -3.1285e-02,  2.2385e-01],\n",
       "        [-1.0358e-01,  1.8752e-01, -1.3029e-01,  9.6742e-02],\n",
       "        [-2.8067e-01, -3.0869e-02,  1.0243e-01, -2.3104e-02],\n",
       "        [-1.9864e-01,  1.7670e-02,  7.5873e-02,  1.3249e-01],\n",
       "        [-1.4249e-01, -1.2542e-02, -7.4050e-02,  1.8732e-01],\n",
       "        [-1.3706e-01,  7.7284e-02, -2.8020e-02,  1.6423e-01],\n",
       "        [-1.3409e-01,  5.6944e-02, -2.8799e-02,  1.7437e-01],\n",
       "        [-1.6100e-01,  2.0432e-02,  1.8515e-02,  2.2898e-01],\n",
       "        [-3.6738e-01, -2.5104e-01,  6.7763e-02,  9.0580e-02],\n",
       "        [-4.2405e-01,  7.5048e-02, -1.2457e-01,  2.4769e-01],\n",
       "        [-2.1156e-01,  9.0290e-02, -7.5239e-02,  1.4807e-01],\n",
       "        [-2.6455e-01,  8.2192e-02, -1.3649e-01,  1.2222e-04],\n",
       "        [-1.7470e-01, -1.7810e-03, -6.5166e-02,  2.3083e-01],\n",
       "        [-1.8152e-01,  5.3071e-02, -1.3096e-04,  2.7174e-01],\n",
       "        [-3.0999e-01, -1.3891e-01, -8.3029e-02,  1.7310e-01],\n",
       "        [-1.8283e-01,  2.3966e-03,  1.4410e-02,  2.0142e-01],\n",
       "        [-2.3511e-01,  1.3818e-01, -1.9474e-02,  9.7880e-02],\n",
       "        [-2.2432e-01, -1.2752e-01, -5.9393e-03,  8.9296e-02],\n",
       "        [-3.2242e-01, -1.9460e-03,  1.7004e-01,  1.8649e-01],\n",
       "        [-5.0031e-01,  2.1547e-01, -1.3818e-01,  1.4051e-01],\n",
       "        [-2.0507e-01,  4.6342e-02,  1.1404e-01,  7.3278e-02],\n",
       "        [-1.4723e-01,  1.0208e-01,  3.4271e-02,  1.4734e-01],\n",
       "        [-2.1088e-01,  1.2454e-01,  3.5774e-03,  2.0828e-01],\n",
       "        [-1.0826e-01, -1.6941e-01,  1.0790e-01,  3.2980e-01],\n",
       "        [-8.4783e-02, -3.0270e-02, -3.0973e-02,  1.5007e-01],\n",
       "        [-3.2278e-01,  1.4946e-01, -1.0553e-01,  9.5966e-02],\n",
       "        [-1.4220e-01, -2.3576e-02, -3.4537e-02,  1.1440e-01],\n",
       "        [-1.5193e-01,  5.5373e-02, -3.3054e-02,  2.1167e-01],\n",
       "        [-2.7242e-01,  1.5865e-02, -2.2183e-02,  1.6214e-01],\n",
       "        [-1.6022e-01,  4.8513e-02, -2.1284e-03,  1.8040e-01],\n",
       "        [-1.8908e-01,  7.7537e-05,  6.0668e-02,  1.2325e-01],\n",
       "        [-8.8694e-02,  8.7747e-02,  1.3884e-02,  1.5292e-01],\n",
       "        [-1.0090e-01,  2.2788e-02, -5.8359e-02,  2.4855e-01],\n",
       "        [-1.8788e-01,  1.9429e-01,  8.7619e-03,  1.4102e-01],\n",
       "        [-5.1316e-02, -1.1698e-01, -9.5970e-02,  9.1076e-02],\n",
       "        [-1.7834e-01, -3.2093e-02,  8.3701e-02,  1.7320e-01],\n",
       "        [-1.7967e-01,  1.5869e-01,  3.2186e-02,  5.7485e-02],\n",
       "        [-1.5557e-01, -5.7354e-02,  5.6825e-02,  5.6154e-02]], device='cuda:0',\n",
       "       grad_fn=<AddmmBackward0>)"
      ]
     },
     "execution_count": 10,
     "metadata": {},
     "output_type": "execute_result"
    }
   ],
   "source": [
    "outputs"
   ]
  },
  {
   "cell_type": "code",
   "execution_count": 11,
   "id": "26b4df68-b868-4c27-a3d4-7e6d227b41ba",
   "metadata": {},
   "outputs": [
    {
     "data": {
      "text/plain": [
       "tensor([1, 3, 3, 1, 2, 3, 3, 3, 3, 3, 3, 3, 3, 1, 3, 3, 3, 3, 1, 3, 3, 1, 2, 3,\n",
       "        3, 3, 3, 1, 3, 3, 3, 3, 3, 3, 3, 1, 3, 3, 1, 2], device='cuda:0')"
      ]
     },
     "execution_count": 11,
     "metadata": {},
     "output_type": "execute_result"
    }
   ],
   "source": [
    "predicted"
   ]
  },
  {
   "cell_type": "code",
   "execution_count": 12,
   "id": "106c94f5-643b-4b89-9781-9fdb7d443fd3",
   "metadata": {},
   "outputs": [
    {
     "data": {
      "text/plain": [
       "tensor([0, 2, 2, 2, 2, 2, 2, 3, 0, 2, 1, 1, 2, 3, 3, 3, 0, 3, 0, 1, 1, 3, 3, 1,\n",
       "        1, 1, 0, 2, 1, 2, 3, 1, 1, 0, 1, 3, 3, 1, 1, 0, 0, 1, 0, 0, 1, 1, 2, 2],\n",
       "       device='cuda:0')"
      ]
     },
     "execution_count": 12,
     "metadata": {},
     "output_type": "execute_result"
    }
   ],
   "source": [
    "labels"
   ]
  },
  {
   "cell_type": "code",
   "execution_count": 15,
   "id": "2a1d81c0-4e39-4e79-bd9c-30add00f62ac",
   "metadata": {},
   "outputs": [
    {
     "data": {
      "text/plain": [
       "torch.Size([48, 300])"
      ]
     },
     "execution_count": 15,
     "metadata": {},
     "output_type": "execute_result"
    }
   ],
   "source": [
    "inputs.shape"
   ]
  },
  {
   "cell_type": "code",
   "execution_count": 17,
   "id": "ef6a641c-4b4b-47bc-b1db-e6064f400b9c",
   "metadata": {},
   "outputs": [],
   "source": [
    "outputs = model(inputs)"
   ]
  },
  {
   "cell_type": "code",
   "execution_count": 18,
   "id": "eba39db5-5004-4ad9-9996-868474328d11",
   "metadata": {},
   "outputs": [
    {
     "data": {
      "text/plain": [
       "tensor([[-1.5579e-01,  2.9635e-02, -1.2845e-02,  1.6450e-01],\n",
       "        [-1.5223e-01,  3.2902e-02,  2.6914e-03,  1.7749e-01],\n",
       "        [-1.6424e-01,  3.4632e-02, -2.0801e-03,  1.7774e-01],\n",
       "        [-1.4482e-01,  4.2361e-02,  2.7835e-03,  1.7620e-01],\n",
       "        [-1.4639e-01,  3.3453e-02, -5.6985e-04,  1.7970e-01],\n",
       "        [-1.4799e-01,  3.0660e-02, -2.2031e-02,  1.7055e-01],\n",
       "        [-1.5041e-01,  2.9163e-02,  6.6546e-03,  1.6930e-01],\n",
       "        [-1.4346e-01,  2.0171e-02, -6.3296e-03,  1.7007e-01],\n",
       "        [-1.5644e-01,  3.8795e-02, -4.0239e-03,  1.8265e-01],\n",
       "        [-1.4399e-01,  3.2959e-02, -1.1010e-02,  1.7201e-01],\n",
       "        [-1.4114e-01,  2.9593e-02, -2.0127e-03,  1.6983e-01],\n",
       "        [-1.5251e-01,  3.7013e-02,  1.3243e-02,  1.7492e-01],\n",
       "        [-1.5040e-01,  2.7985e-02, -1.0786e-02,  1.7020e-01],\n",
       "        [-1.4531e-01,  3.0470e-02, -2.9741e-03,  1.8333e-01],\n",
       "        [-1.4869e-01,  2.1342e-02, -1.2175e-02,  1.7448e-01],\n",
       "        [-1.5437e-01,  2.6336e-02, -2.5430e-03,  1.6858e-01],\n",
       "        [-1.5177e-01,  4.0058e-02, -1.0993e-02,  1.7508e-01],\n",
       "        [-1.4585e-01,  2.9720e-02, -7.8412e-03,  1.6349e-01],\n",
       "        [-1.5226e-01,  2.8740e-02, -6.1869e-03,  1.8077e-01],\n",
       "        [-1.4813e-01,  2.7648e-02, -4.0310e-03,  1.7392e-01],\n",
       "        [-1.4780e-01,  3.3609e-02,  3.0467e-03,  1.7661e-01],\n",
       "        [-1.5192e-01,  3.3380e-02,  1.5934e-03,  1.6678e-01],\n",
       "        [-1.4983e-01,  3.2716e-02, -7.7929e-03,  1.6966e-01],\n",
       "        [-1.5079e-01,  3.7204e-02, -5.5613e-04,  1.8003e-01],\n",
       "        [-1.6048e-01,  3.6469e-02, -1.2858e-03,  1.7341e-01],\n",
       "        [-1.4728e-01,  3.2931e-02, -2.1321e-03,  1.7167e-01],\n",
       "        [-1.5286e-01,  3.4622e-02, -1.0566e-02,  1.7991e-01],\n",
       "        [-1.5152e-01,  4.1440e-02, -2.8571e-03,  1.8980e-01],\n",
       "        [-1.3469e-01,  3.1541e-02, -9.3578e-03,  1.6778e-01],\n",
       "        [-1.4255e-01,  4.1400e-02, -1.1836e-02,  1.7522e-01],\n",
       "        [-1.4975e-01,  3.8894e-02, -1.4200e-02,  1.6844e-01],\n",
       "        [-1.4819e-01,  2.4562e-02, -3.7208e-03,  1.7156e-01],\n",
       "        [-1.4529e-01,  4.0639e-02, -1.8580e-03,  1.8158e-01],\n",
       "        [-1.4358e-01,  2.1671e-02, -6.4272e-03,  1.8396e-01],\n",
       "        [-1.4349e-01,  3.4279e-02, -4.1642e-03,  1.7773e-01],\n",
       "        [-1.3957e-01,  3.6069e-02, -1.6352e-03,  1.7235e-01],\n",
       "        [-1.4118e-01,  3.2785e-02, -7.3325e-03,  1.6266e-01],\n",
       "        [-1.4909e-01,  2.9459e-02,  3.2113e-03,  1.6850e-01],\n",
       "        [-1.4221e-01,  4.1881e-02, -6.1988e-03,  1.7952e-01],\n",
       "        [-1.5995e-01,  2.8360e-02, -8.9068e-03,  1.7327e-01],\n",
       "        [-1.6196e-01,  2.5609e-02,  1.5769e-03,  1.8346e-01],\n",
       "        [-1.4540e-01,  4.1289e-02, -2.5675e-03,  1.8547e-01],\n",
       "        [-1.5012e-01,  3.1087e-02, -1.3874e-02,  1.7081e-01],\n",
       "        [-1.5397e-01,  3.4472e-02, -1.0839e-02,  1.7508e-01],\n",
       "        [-1.4683e-01,  2.6007e-02, -1.0823e-03,  1.6951e-01],\n",
       "        [-1.5456e-01,  2.3435e-02, -1.6789e-02,  1.8337e-01],\n",
       "        [-1.4195e-01,  3.3668e-02, -8.3611e-03,  1.7184e-01],\n",
       "        [-1.4827e-01,  1.8322e-02, -7.5500e-05,  1.8327e-01]], device='cuda:0',\n",
       "       grad_fn=<AddmmBackward0>)"
      ]
     },
     "execution_count": 18,
     "metadata": {},
     "output_type": "execute_result"
    }
   ],
   "source": [
    "outputs"
   ]
  },
  {
   "cell_type": "code",
   "execution_count": 19,
   "id": "dcb2e113-dd57-4848-b40b-4e08868d7048",
   "metadata": {},
   "outputs": [],
   "source": [
    "predicted = torch.max(outputs.data, 1)"
   ]
  },
  {
   "cell_type": "code",
   "execution_count": 20,
   "id": "656e0041-2530-4363-b715-77d3269d1de3",
   "metadata": {},
   "outputs": [
    {
     "data": {
      "text/plain": [
       "torch.return_types.max(\n",
       "values=tensor([0.1645, 0.1775, 0.1777, 0.1762, 0.1797, 0.1706, 0.1693, 0.1701, 0.1826,\n",
       "        0.1720, 0.1698, 0.1749, 0.1702, 0.1833, 0.1745, 0.1686, 0.1751, 0.1635,\n",
       "        0.1808, 0.1739, 0.1766, 0.1668, 0.1697, 0.1800, 0.1734, 0.1717, 0.1799,\n",
       "        0.1898, 0.1678, 0.1752, 0.1684, 0.1716, 0.1816, 0.1840, 0.1777, 0.1723,\n",
       "        0.1627, 0.1685, 0.1795, 0.1733, 0.1835, 0.1855, 0.1708, 0.1751, 0.1695,\n",
       "        0.1834, 0.1718, 0.1833], device='cuda:0'),\n",
       "indices=tensor([3, 3, 3, 3, 3, 3, 3, 3, 3, 3, 3, 3, 3, 3, 3, 3, 3, 3, 3, 3, 3, 3, 3, 3,\n",
       "        3, 3, 3, 3, 3, 3, 3, 3, 3, 3, 3, 3, 3, 3, 3, 3, 3, 3, 3, 3, 3, 3, 3, 3],\n",
       "       device='cuda:0'))"
      ]
     },
     "execution_count": 20,
     "metadata": {},
     "output_type": "execute_result"
    }
   ],
   "source": [
    "predicted"
   ]
  },
  {
   "cell_type": "code",
   "execution_count": 13,
   "id": "168364e4-dd5a-48d8-bc0c-997aee654904",
   "metadata": {},
   "outputs": [
    {
     "ename": "RuntimeError",
     "evalue": "The size of tensor a (40) must match the size of tensor b (48) at non-singleton dimension 0",
     "output_type": "error",
     "traceback": [
      "\u001b[0;31m---------------------------------------------------------------------------\u001b[0m",
      "\u001b[0;31mRuntimeError\u001b[0m                              Traceback (most recent call last)",
      "Cell \u001b[0;32mIn[13], line 1\u001b[0m\n\u001b[0;32m----> 1\u001b[0m (\u001b[43mpredicted\u001b[49m\u001b[43m \u001b[49m\u001b[38;5;241;43m==\u001b[39;49m\u001b[43m \u001b[49m\u001b[43mlabels\u001b[49m)\n",
      "\u001b[0;31mRuntimeError\u001b[0m: The size of tensor a (40) must match the size of tensor b (48) at non-singleton dimension 0"
     ]
    }
   ],
   "source": [
    "(predicted == labels)"
   ]
  },
  {
   "cell_type": "code",
   "execution_count": null,
   "id": "379dc3b3-d741-4bd0-a0a4-d91a02c1d9cd",
   "metadata": {},
   "outputs": [],
   "source": []
  },
  {
   "cell_type": "code",
   "execution_count": null,
   "id": "ce593c8f-97e5-4dd0-b8e8-85967d07125e",
   "metadata": {},
   "outputs": [],
   "source": []
  },
  {
   "cell_type": "code",
   "execution_count": 40,
   "id": "5c808719-aa93-4150-8038-ddb4fcab9b5a",
   "metadata": {},
   "outputs": [
    {
     "data": {
      "text/plain": [
       "(tensor([[ 2.3587e+03,  3.7563e+03,  3.5735e+03,  ..., -1.2252e+02,\n",
       "          -8.0514e+01, -4.8536e+01],\n",
       "         [-1.1317e+05,  1.0093e+05, -1.1070e+05,  ...,  1.2400e+05,\n",
       "           4.5166e+04,  2.6488e+04],\n",
       "         [-1.1095e+05, -9.8747e+04, -9.8204e+04,  ...,  1.8240e+05,\n",
       "           1.8433e+05,  1.0339e+05],\n",
       "         ...,\n",
       "         [ 5.9470e+04,  8.7636e+04,  9.2561e+04,  ..., -3.2375e+04,\n",
       "           4.4454e+03, -4.9598e+04],\n",
       "         [-4.3381e+03, -8.1358e+03, -6.5124e+03,  ...,  2.7077e+03,\n",
       "          -1.1521e+04, -3.7069e+03],\n",
       "         [ 1.3742e+05,  1.3538e+05,  1.8370e+05,  ..., -2.3106e+04,\n",
       "           8.5923e+04,  2.9153e+04]]),\n",
       " tensor([0, 0, 0, 0, 0, 0, 0, 0, 0, 0, 1, 1, 1, 1, 1, 1, 1, 1, 1, 1, 2, 2, 2, 2,\n",
       "         2, 2, 2, 2, 2, 2, 3, 3, 3, 3, 3, 3, 3, 3, 3, 3]))"
      ]
     },
     "execution_count": 40,
     "metadata": {},
     "output_type": "execute_result"
    }
   ],
   "source": [
    "synthetic_dataset.tensors"
   ]
  },
  {
   "cell_type": "code",
   "execution_count": null,
   "id": "9c905810-b387-4a76-8d6c-f9a95c016ca3",
   "metadata": {},
   "outputs": [],
   "source": []
  },
  {
   "cell_type": "code",
   "execution_count": 20,
   "id": "3756b7a8-6442-4dd0-8b8c-d85530b464cc",
   "metadata": {},
   "outputs": [
    {
     "data": {
      "text/plain": [
       "torch.return_types.max(\n",
       "values=tensor([ 0.0111,  0.0044,  0.0011,  0.0031,  0.0196,  0.0055,  0.0028,  0.0017,\n",
       "         0.0061,  0.0095,  0.0088,  0.0065,  0.0082, -0.0055,  0.0048,  0.0098,\n",
       "         0.0043,  0.0040,  0.0127,  0.0038,  0.0044, -0.0071,  0.0002,  0.0023,\n",
       "         0.0009,  0.0151,  0.0188,  0.0030,  0.0009,  0.0088,  0.0023,  0.0063,\n",
       "         0.0032,  0.0072, -0.0020,  0.0058, -0.0020,  0.0071,  0.0066,  0.0026,\n",
       "         0.0012, -0.0025,  0.0026,  0.0113,  0.0140,  0.0172, -0.0034,  0.0037],\n",
       "       device='cuda:0'),\n",
       "indices=tensor([0, 0, 0, 0, 0, 0, 0, 0, 0, 0, 0, 0, 0, 0, 0, 0, 0, 0, 0, 0, 0, 0, 0, 0,\n",
       "        0, 0, 0, 0, 0, 0, 0, 0, 0, 0, 0, 0, 0, 0, 0, 0, 0, 0, 0, 0, 0, 0, 0, 0],\n",
       "       device='cuda:0'))"
      ]
     },
     "execution_count": 20,
     "metadata": {},
     "output_type": "execute_result"
    }
   ],
   "source": [
    "torch.max(outputs.data, 1)"
   ]
  },
  {
   "cell_type": "code",
   "execution_count": 12,
   "id": "000cd990-b0eb-44ee-bfcb-f7c1226c453f",
   "metadata": {},
   "outputs": [
    {
     "data": {
      "text/plain": [
       "tensor([3, 3, 3, 3, 3, 3, 3, 3, 3, 3, 3, 3, 3, 3, 3, 3, 3, 3, 3, 3, 3, 3, 3, 3,\n",
       "        3, 3, 3, 3, 3, 3, 3, 3, 3, 3, 3, 3, 3, 3, 3, 3, 3, 3, 3, 3, 3, 3, 3, 3],\n",
       "       device='cuda:0')"
      ]
     },
     "execution_count": 12,
     "metadata": {},
     "output_type": "execute_result"
    }
   ],
   "source": []
  },
  {
   "cell_type": "markdown",
   "id": "aeb63977-dee7-4306-ba52-9c82467a8a17",
   "metadata": {},
   "source": [
    "## Train model from scratch on synthetic data"
   ]
  },
  {
   "cell_type": "code",
   "execution_count": null,
   "id": "537d8fa8-4b14-4080-ae10-2e09d4b8877c",
   "metadata": {},
   "outputs": [],
   "source": [
    "# Train model from scratch using synthetic data\n",
    "model = CNNModel().to(device)\n",
    "optimizer_net = optim.Adam(model.parameters(), lr=0.001)\n",
    "\n",
    "# Create DataLoader for synthetic data\n",
    "synthetic_dataset = data.TensorDataset(synthetic_text_data.detach(), synthetic_labels)\n",
    "synthetic_loader = data.DataLoader(synthetic_dataset, batch_size=64, shuffle=True)\n",
    "\n",
    "for epoch in range(num_epochs):\n",
    "    model.train()\n",
    "    train_loss = 0\n",
    "    correct = 0\n",
    "    total = 0\n",
    "    for inputs, labels in tqdm(synthetic_loader, desc=f'Training Epoch {epoch+1}/{num_epochs}', unit='batch'):\n",
    "        inputs, labels = inputs.to(device), labels.to(device)\n",
    "        optimizer_net.zero_grad()\n",
    "        outputs = model(inputs)\n",
    "        loss = criterion(outputs, labels)\n",
    "        loss.backward()\n",
    "        optimizer_net.step()\n",
    "        train_loss += loss.item()\n",
    "        _, predicted = torch.max(outputs.data, 1)\n",
    "        total += labels.size(0)\n",
    "        correct += (predicted == labels).sum().item()\n",
    "\n",
    "    train_accuracy = 100 * correct / total\n",
    "    print(f'Epoch [{epoch + 1}/{num_epochs}], Train Loss: {train_loss:.4f}, Train Accuracy: {train_accuracy:.2f}%')\n",
    "\n",
    "# Final evaluation on test set\n",
    "model.eval()\n",
    "test_labels = []\n",
    "test_preds = []\n",
    "with torch.no_grad():\n",
    "    for texts, labels in tqdm(test_loader, desc='Evaluating on test set', unit='batch'):\n",
    "        texts, labels = texts.to(device), labels.to(device)\n",
    "        outputs = model(texts)\n",
    "        _, preds = torch.max(outputs, 1)\n",
    "        test_labels.extend(labels.cpu().numpy())\n",
    "        test_preds.extend(preds.cpu().numpy())\n",
    "\n",
    "overall_accuracy = accuracy_score(test_labels, test_preds)\n",
    "class_report = classification_report(test_labels, test_preds, target_names=dataset['test'].features['label'].names)\n",
    "\n",
    "print(f'Test Accuracy: {overall_accuracy:.4f}')\n",
    "print('Classification Report:')\n",
    "print(class_report)\n"
   ]
  }
 ],
 "metadata": {
  "kernelspec": {
   "display_name": "Python 3 (ipykernel)",
   "language": "python",
   "name": "python3"
  },
  "language_info": {
   "codemirror_mode": {
    "name": "ipython",
    "version": 3
   },
   "file_extension": ".py",
   "mimetype": "text/x-python",
   "name": "python",
   "nbconvert_exporter": "python",
   "pygments_lexer": "ipython3",
   "version": "3.9.19"
  }
 },
 "nbformat": 4,
 "nbformat_minor": 5
}
