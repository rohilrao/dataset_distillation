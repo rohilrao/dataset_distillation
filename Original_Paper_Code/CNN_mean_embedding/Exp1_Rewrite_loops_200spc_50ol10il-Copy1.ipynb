{
 "cells": [
  {
   "cell_type": "code",
   "execution_count": 2,
   "id": "a825b483-1e90-4edd-b473-85adabf74fe7",
   "metadata": {},
   "outputs": [],
   "source": [
    "import torch\n",
    "import torch.nn as nn\n",
    "import torch.optim as optim\n",
    "import torch.utils.data as data\n",
    "from tqdm import tqdm\n",
    "from transformers import BertTokenizer\n",
    "from gensim.models import KeyedVectors\n",
    "from datasets import load_dataset\n",
    "from sklearn.metrics import classification_report, accuracy_score\n",
    "import numpy as np\n",
    "import gensim.downloader as api"
   ]
  },
  {
   "cell_type": "markdown",
   "id": "c0182a51-1f5d-4ee2-81f8-657275f99c68",
   "metadata": {},
   "source": [
    "## dataset"
   ]
  },
  {
   "cell_type": "code",
   "execution_count": 3,
   "id": "36733573-2ec6-4aee-8802-14e4fc4b7117",
   "metadata": {},
   "outputs": [],
   "source": [
    "# Load AG News Dataset\n",
    "dataset = load_dataset('ag_news')\n",
    "tokenizer = BertTokenizer.from_pretrained('bert-base-uncased')\n",
    "\n",
    "def tokenize(text):\n",
    "    return tokenizer(text, padding='max_length', truncation=True, return_tensors='pt', max_length=128)\n",
    "\n",
    "# Load Word2Vec Embeddings\n",
    "word2vec = api.load('word2vec-google-news-300')\n",
    "\n",
    "def get_word2vec_embedding(tokens):\n",
    "    embeddings = []\n",
    "    for token in tokens:\n",
    "        if token in word2vec:\n",
    "            embeddings.append(word2vec[token])\n",
    "    if len(embeddings) == 0:\n",
    "        return np.zeros(word2vec.vector_size)\n",
    "    return np.mean(embeddings, axis=0)\n",
    "\n",
    "class AGNewsDataset(data.Dataset):\n",
    "    def __init__(self, texts, labels):\n",
    "        self.texts = texts\n",
    "        self.labels = labels\n",
    "    \n",
    "    def __len__(self):\n",
    "        return len(self.texts)\n",
    "    \n",
    "    def __getitem__(self, idx):\n",
    "        tokens = tokenizer.tokenize(self.texts[idx])\n",
    "        embedding = get_word2vec_embedding(tokens)\n",
    "        label = self.labels[idx]\n",
    "        return torch.tensor(embedding, dtype=torch.float32), torch.tensor(label, dtype=torch.long)\n",
    "\n",
    "train_texts = [item['text'] for item in dataset['train']]\n",
    "train_labels = [item['label'] for item in dataset['train']]\n",
    "test_texts = [item['text'] for item in dataset['test']]\n",
    "test_labels = [item['label'] for item in dataset['test']]\n",
    "\n",
    "train_dataset = AGNewsDataset(train_texts, train_labels)\n",
    "test_dataset = AGNewsDataset(test_texts, test_labels)\n",
    "\n",
    "train_loader = data.DataLoader(train_dataset, batch_size=64, shuffle=True)\n",
    "test_loader = data.DataLoader(test_dataset, batch_size=64, shuffle=False)\n"
   ]
  },
  {
   "cell_type": "code",
   "execution_count": null,
   "id": "073d6573-4650-4a15-b5ec-04f6c35ba7ca",
   "metadata": {},
   "outputs": [],
   "source": [
    "train_emb = [get_word2vec_embedding(tokenizer.tokenize(item['text'])) for item in dataset['train']]"
   ]
  },
  {
   "cell_type": "code",
   "execution_count": null,
   "id": "0a8ca720-34e1-47b1-836f-d4146cba63d7",
   "metadata": {},
   "outputs": [],
   "source": [
    "device = torch.device('cuda' if torch.cuda.is_available() else 'cpu')"
   ]
  },
  {
   "cell_type": "code",
   "execution_count": null,
   "id": "e316c5ce-10b0-44c9-b5ad-6b8d8462a50c",
   "metadata": {},
   "outputs": [],
   "source": [
    "emb_all = torch.Tensor(np.array(train_emb)).to(device)"
   ]
  },
  {
   "cell_type": "code",
   "execution_count": null,
   "id": "5d7b2f77-f118-4901-a4a7-77975e1d2324",
   "metadata": {},
   "outputs": [],
   "source": [
    "train_emb"
   ]
  },
  {
   "cell_type": "code",
   "execution_count": null,
   "id": "347026ae-9ad5-4399-ae5e-f2710c84d0d2",
   "metadata": {},
   "outputs": [],
   "source": [
    "train_emb[0].shape"
   ]
  },
  {
   "cell_type": "code",
   "execution_count": null,
   "id": "04891af2-1312-45ac-bdef-279b603c6905",
   "metadata": {},
   "outputs": [],
   "source": [
    "train_dataset[0][0].shape"
   ]
  },
  {
   "cell_type": "code",
   "execution_count": null,
   "id": "91579d1c-aed2-4e88-812e-3c16e5e0ec7a",
   "metadata": {},
   "outputs": [],
   "source": [
    "import pandas as pd\n",
    "pd.Series(train_labels).value_counts()"
   ]
  },
  {
   "cell_type": "markdown",
   "id": "d65e8e01-b88c-42a6-bb7e-1aa2630659e1",
   "metadata": {},
   "source": [
    "## Model"
   ]
  },
  {
   "cell_type": "code",
   "execution_count": null,
   "id": "a7e2f094-9ceb-48b1-a143-b1488b590bfa",
   "metadata": {},
   "outputs": [],
   "source": [
    "class CNNModel(nn.Module):\n",
    "    def __init__(self):\n",
    "        super(CNNModel, self).__init__()\n",
    "        self.conv1 = nn.Conv1d(1, 100, kernel_size=3, padding=1)\n",
    "        self.relu = nn.ReLU()\n",
    "        self.pool = nn.MaxPool1d(2)\n",
    "        self.fc1 = nn.Linear(100 * (word2vec.vector_size // 2), 4)  # 4 classes in AG News\n",
    "\n",
    "    def forward(self, x):\n",
    "        x = x.unsqueeze(1)  # Add channel dimension\n",
    "        x = self.conv1(x)\n",
    "        x = self.relu(x)\n",
    "        x = self.pool(x)\n",
    "        x = x.view(x.size(0), -1)\n",
    "        x = self.fc1(x)\n",
    "        return x"
   ]
  },
  {
   "cell_type": "markdown",
   "id": "6d8a111a-e4a9-4e4b-9a6e-187e45f785d8",
   "metadata": {},
   "source": [
    "## Util functions"
   ]
  },
  {
   "cell_type": "code",
   "execution_count": null,
   "id": "05eea2fa-51ad-4fd7-b25b-6cbd9fb82179",
   "metadata": {},
   "outputs": [],
   "source": [
    "from torch.utils.data import Dataset\n",
    "class TensorDataset(Dataset):\n",
    "    def __init__(self, images, labels): # images: n x c x h x w tensor\n",
    "        self.images = images.detach().float()\n",
    "        self.labels = labels.detach()\n",
    "\n",
    "    def __getitem__(self, index):\n",
    "        return self.images[index], self.labels[index]\n",
    "\n",
    "    def __len__(self):\n",
    "        return self.images.shape[0]\n"
   ]
  },
  {
   "cell_type": "code",
   "execution_count": null,
   "id": "b90b2cd1-c00e-41a8-b467-f5092d55d7ef",
   "metadata": {},
   "outputs": [],
   "source": [
    "\n",
    "def distance_wb(gwr, gws):\n",
    "    shape = gwr.shape\n",
    "    if len(shape) == 4: # conv, out*in*h*w\n",
    "        gwr = gwr.reshape(shape[0], shape[1] * shape[2] * shape[3])\n",
    "        gws = gws.reshape(shape[0], shape[1] * shape[2] * shape[3])\n",
    "    elif len(shape) == 3:  # layernorm, C*h*w\n",
    "        gwr = gwr.reshape(shape[0], shape[1] * shape[2])\n",
    "        gws = gws.reshape(shape[0], shape[1] * shape[2])\n",
    "    elif len(shape) == 2: # linear, out*in\n",
    "        tmp = 'do nothing'\n",
    "    elif len(shape) == 1: # batchnorm/instancenorm, C; groupnorm x, bias\n",
    "        gwr = gwr.reshape(1, shape[0])\n",
    "        gws = gws.reshape(1, shape[0])\n",
    "        return torch.tensor(0, dtype=torch.float, device=gwr.device)\n",
    "\n",
    "    dis_weight = torch.sum(1 - torch.sum(gwr * gws, dim=-1) / (torch.norm(gwr, dim=-1) * torch.norm(gws, dim=-1) + 0.000001))\n",
    "    dis = dis_weight\n",
    "    return dis\n",
    "\n",
    "\n",
    "def match_loss(gw_syn, gw_real, dis_metric):\n",
    "    dis = torch.tensor(0.0).to(device)\n",
    "\n",
    "    if dis_metric == 'ours':\n",
    "        for ig in range(len(gw_real)):\n",
    "            gwr = gw_real[ig]\n",
    "            gws = gw_syn[ig]\n",
    "            dis += distance_wb(gwr, gws)\n",
    "\n",
    "    elif dis_metric == 'mse':\n",
    "        gw_real_vec = []\n",
    "        gw_syn_vec = []\n",
    "        for ig in range(len(gw_real)):\n",
    "            gw_real_vec.append(gw_real[ig].reshape((-1)))\n",
    "            gw_syn_vec.append(gw_syn[ig].reshape((-1)))\n",
    "        gw_real_vec = torch.cat(gw_real_vec, dim=0)\n",
    "        gw_syn_vec = torch.cat(gw_syn_vec, dim=0)\n",
    "        dis = torch.sum((gw_syn_vec - gw_real_vec)**2)\n",
    "\n",
    "    elif dis_metric == 'cos':\n",
    "        gw_real_vec = []\n",
    "        gw_syn_vec = []\n",
    "        for ig in range(len(gw_real)):\n",
    "            gw_real_vec.append(gw_real[ig].reshape((-1)))\n",
    "            gw_syn_vec.append(gw_syn[ig].reshape((-1)))\n",
    "        gw_real_vec = torch.cat(gw_real_vec, dim=0)\n",
    "        gw_syn_vec = torch.cat(gw_syn_vec, dim=0)\n",
    "        dis = 1 - torch.sum(gw_real_vec * gw_syn_vec, dim=-1) / (torch.norm(gw_real_vec, dim=-1) * torch.norm(gw_syn_vec, dim=-1) + 0.000001)\n",
    "\n",
    "    else:\n",
    "        exit('unknown distance function: %s'%args.dis_metric)\n",
    "\n",
    "    return dis"
   ]
  },
  {
   "cell_type": "code",
   "execution_count": null,
   "id": "81684ad4-3bc4-4b53-9a1d-61e8ca26b0c3",
   "metadata": {},
   "outputs": [],
   "source": [
    "def epoch(mode, dataloader, net, optimizer, criterion):\n",
    "    loss_avg, acc_avg, num_exp = 0, 0, 0\n",
    "    net = net.to(device)\n",
    "    criterion = criterion.to(device)\n",
    "\n",
    "    if mode == 'train':\n",
    "        net.train()\n",
    "    else:\n",
    "        net.eval()\n",
    "\n",
    "    for i_batch, datum in enumerate(dataloader):\n",
    "        sample = datum[0].float().to(device)\n",
    "        \n",
    "        lab = datum[1].long().to(device)\n",
    "        n_b = lab.shape[0]\n",
    "\n",
    "        output = net(sample)\n",
    "        loss = criterion(output, lab)\n",
    "        acc = np.sum(np.equal(np.argmax(output.cpu().data.numpy(), axis=-1), lab.cpu().data.numpy()))\n",
    "\n",
    "        loss_avg += loss.item()*n_b\n",
    "        acc_avg += acc\n",
    "        num_exp += n_b\n",
    "\n",
    "        if mode == 'train':\n",
    "            optimizer.zero_grad()\n",
    "            loss.backward()\n",
    "            optimizer.step()\n",
    "\n",
    "    loss_avg /= num_exp\n",
    "    acc_avg /= num_exp\n",
    "\n",
    "    return loss_avg, acc_avg"
   ]
  },
  {
   "cell_type": "code",
   "execution_count": null,
   "id": "d722340f-967f-485c-b2ca-aaeb64e3d934",
   "metadata": {},
   "outputs": [],
   "source": [
    "import pickle\n",
    "def evaluate_syn(model, synthetic_text_data, synthetic_labels, test_loader, device, num_epochs=10, lr=0.001):\n",
    "    # Define criterion and optimizer\n",
    "    criterion = torch.nn.CrossEntropyLoss()\n",
    "    optimizer_net = optim.Adam(model.parameters(), lr=lr)\n",
    "\n",
    "    # Create DataLoader for synthetic data\n",
    "    synthetic_dataset = data.TensorDataset(synthetic_text_data.detach(), synthetic_labels)\n",
    "    synthetic_loader = data.DataLoader(synthetic_dataset, batch_size=64, shuffle=True)\n",
    "\n",
    "    # Training loop\n",
    "    for epoch in range(num_epochs):\n",
    "        model.train()\n",
    "        train_loss = 0\n",
    "        correct = 0\n",
    "        total = 0\n",
    "        for inputs, labels in tqdm(synthetic_loader, desc=f'Training Epoch {epoch+1}/{num_epochs}', unit='batch'):\n",
    "            inputs, labels = inputs.to(device), labels.to(device)\n",
    "            optimizer_net.zero_grad()\n",
    "            outputs = model(inputs)\n",
    "            loss = criterion(outputs, labels)\n",
    "            loss.backward()\n",
    "            optimizer_net.step()\n",
    "            train_loss += loss.item()\n",
    "            _, predicted = torch.max(outputs.data, 1)\n",
    "            total += labels.size(0)\n",
    "            correct += (predicted == labels).sum().item()\n",
    "\n",
    "        train_accuracy = 100 * correct / total\n",
    "        if epoch % 9 == 0:\n",
    "            print(f'Epoch [{epoch + 1}/{num_epochs}], Train Loss: {train_loss:.4f}, Train Accuracy: {train_accuracy:.2f}%')\n",
    "\n",
    "    # Final evaluation on test set\n",
    "    model.eval()\n",
    "    test_labels = []\n",
    "    test_preds = []\n",
    "    with torch.no_grad():\n",
    "        for texts, labels in tqdm(test_loader, desc='Evaluating on test set', unit='batch'):\n",
    "            texts, labels = texts.to(device), labels.to(device)\n",
    "            outputs = model(texts)\n",
    "            _, preds = torch.max(outputs, 1)\n",
    "            test_labels.extend(labels.cpu().numpy())\n",
    "            test_preds.extend(preds.cpu().numpy())\n",
    "\n",
    "    overall_accuracy = accuracy_score(test_labels, test_preds)\n",
    "    class_report = classification_report(test_labels, test_preds, target_names=['0','1','2','3'])\n",
    "\n",
    "    print(f'Test Accuracy: {overall_accuracy:.4f}')\n",
    "    print('Classification Report:')\n",
    "    print(class_report)\n",
    "\n",
    "    # Save results to a pickle file\n",
    "    results = {\n",
    "        'test_accuracy': overall_accuracy,\n",
    "        'classification_report': class_report\n",
    "    }\n",
    "    with open('results1.pkl', 'wb') as f:\n",
    "        pickle.dump(results, f)\n",
    "\n",
    "    #print(test_labels, test_preds)\n",
    "    return overall_accuracy"
   ]
  },
  {
   "cell_type": "markdown",
   "id": "01d9a379-5f62-4998-9eb1-402992e46192",
   "metadata": {},
   "source": [
    "## Loops"
   ]
  },
  {
   "cell_type": "markdown",
   "id": "6ed7e299-da0a-46b3-9749-b8a0c582ea2a",
   "metadata": {},
   "source": [
    "### hyperparameters"
   ]
  },
  {
   "cell_type": "code",
   "execution_count": null,
   "id": "27c7f56f-35ad-4ddf-a1fb-83e3d1f11065",
   "metadata": {},
   "outputs": [],
   "source": [
    "n_experiments = 1\n",
    "num_classes = len(pd.Series(train_labels).unique())\n",
    "n_spc = 200 # samples_per_class\n",
    "device = torch.device('cuda' if torch.cuda.is_available() else 'cpu')\n",
    "n_iterations = 1000\n",
    "\n",
    "batch_train = 256\n",
    "batch_real = 256\n",
    "batch_syn = 256\n",
    "\n",
    "n_outer_loop = 50\n",
    "n_inner_loop = 10\n",
    "\n",
    "num_eval_epochs = 20"
   ]
  },
  {
   "cell_type": "code",
   "execution_count": 16,
   "id": "82ddaa2e-9c37-4c40-8977-c8fdaa846546",
   "metadata": {},
   "outputs": [
    {
     "name": "stdout",
     "output_type": "stream",
     "text": [
      "4\n"
     ]
    }
   ],
   "source": [
    "print(num_classes)"
   ]
  },
  {
   "cell_type": "code",
   "execution_count": null,
   "id": "9ef32357-b8c5-4ffa-9fa0-83c97b30ab12",
   "metadata": {},
   "outputs": [],
   "source": [
    "indices_class = [[] for _ in range(num_classes)]\n",
    "\n",
    "# Populate indices_class with indices of embeddings for each class\n",
    "for i, lab in enumerate(train_labels):\n",
    "    indices_class[lab].append(i)\n",
    "\n",
    "for c in range(num_classes):\n",
    "            print('class c = %d: %d real images'%(c, len(indices_class[c])))"
   ]
  },
  {
   "cell_type": "code",
   "execution_count": null,
   "id": "f5fd17b5-d913-4f47-8088-1b1000debf09",
   "metadata": {},
   "outputs": [],
   "source": [
    "def get_embs(c, n):\n",
    "    # Get random n embeddings from class c\n",
    "    idx_shuffle = np.random.permutation(indices_class[c])[:n]\n",
    "    return  emb_all[idx_shuffle]  # [emb_all[i] for i in idx_shuffle]"
   ]
  },
  {
   "cell_type": "code",
   "execution_count": null,
   "id": "7082ca97-5630-4760-918b-7f00599308d7",
   "metadata": {},
   "outputs": [],
   "source": [
    "### Loop understanding ###\n",
    "\n",
    "'''\n",
    "n_exps = 1\n",
    "iterations = 1000\n",
    "n_outer_loop = 5\n",
    "n_inner_loop = 5\n",
    "batch_size  = 256\n",
    "\n",
    "for exp in n_exps:\n",
    "\n",
    "    initialize synthetic data\n",
    "    initialize sytnethic_optimizer\n",
    "\n",
    "    for it in range(iterations):\n",
    "\n",
    "        initialize model\n",
    "        initialize model optimizer\n",
    "\n",
    "        train_and_evaluate_on_test model on synthetic data\n",
    "     \n",
    "        for ol in n_outer_loops:\n",
    "\n",
    "            for c in range(num_classes):\n",
    "\n",
    "                pass batch of real-data through model\n",
    "\n",
    "                pass synthetic data through model \n",
    "\n",
    "                obtain gw_real and gw_syn (gradients)\n",
    "\n",
    "                calculate matching loss between gradients\n",
    "\n",
    "            sytnethic_optimizer.step()\n",
    "\n",
    "            for il in n_inner_loop:\n",
    "                update model with synthetic_data\n",
    "\n",
    "'''"
   ]
  },
  {
   "cell_type": "code",
   "execution_count": null,
   "id": "ae418821-a15b-46cc-a5e5-721bd8cf0b5f",
   "metadata": {
    "scrolled": true
   },
   "outputs": [],
   "source": [
    "from tqdm import tqdm\n",
    "import copy\n",
    "\n",
    "data_save = []\n",
    "accs_hist = []\n",
    "for exp_n in range(n_experiments):\n",
    "    print('\\n================== Exp %d ==================\\n '%exp_n)\n",
    "\n",
    "    ''' initialize the synthetic data '''\n",
    "    synthetic_text_data = torch.randn(num_classes * n_spc, word2vec.vector_size, requires_grad=True)\n",
    "    synthetic_labels = torch.tensor([i for i in range(num_classes) for _ in range(n_spc)], dtype=torch.long).to(device)\n",
    "\n",
    "    optimizer_syn = optim.SGD([synthetic_text_data], lr=0.01, momentum=0.9)\n",
    "\n",
    "    optimizer_syn.zero_grad()\n",
    "    criterion = nn.CrossEntropyLoss().to(device)\n",
    "    \n",
    "    print('%s training begins')\n",
    "\n",
    "\n",
    "    \n",
    "    for it in range(n_iterations+1):\n",
    "        \n",
    "        ''' Train synthetic data '''\n",
    "        model = CNNModel().to(device)\n",
    "        model.train()\n",
    "        model_parameters = list(model.parameters())\n",
    "\n",
    "        optimizer_net = optim.SGD(model.parameters(), lr=0.01)\n",
    "        optimizer_net.zero_grad()\n",
    "\n",
    "        loss_avg = 0\n",
    "\n",
    "        accs_hist.append(evaluate_syn(model, synthetic_text_data, synthetic_labels, test_loader, device, num_epochs=10, lr=0.001))\n",
    "\n",
    "\n",
    "        ''' Outer Loops '''\n",
    "\n",
    "        for ol in tqdm(range(n_outer_loop)):\n",
    "            print('starting outer loop')\n",
    "            \n",
    "            loss = torch.tensor(0.0).to(device)\n",
    "            \n",
    "            for c in range(num_classes):\n",
    "    \n",
    "                text_real = get_embs(c, batch_real)\n",
    "                lab_real = torch.ones((text_real.shape[0],), device=device, dtype=torch.long) * c\n",
    "    \n",
    "                text_syn = synthetic_text_data[c*n_spc:(c+1)*n_spc].to(device)\n",
    "                lab_syn = torch.ones((n_spc,), device=device, dtype=torch.long) * c\n",
    "    \n",
    "                output_real = model(text_real)\n",
    "                loss_real = criterion(output_real, lab_real)\n",
    "    \n",
    "                gw_real = torch.autograd.grad(loss_real, model_parameters)\n",
    "                gw_real = list((_.detach().clone() for _ in gw_real))\n",
    "    \n",
    "                output_syn = model(text_syn)\n",
    "                loss_syn = criterion(output_syn, lab_syn)\n",
    "                \n",
    "                gw_syn = torch.autograd.grad(loss_syn, model_parameters, create_graph=True)\n",
    "    \n",
    "                loss += match_loss(gw_syn, gw_real, 'ours')\n",
    "\n",
    "            optimizer_syn.zero_grad()\n",
    "            loss.backward()\n",
    "            optimizer_syn.step()\n",
    "            loss_avg += loss.item()\n",
    "\n",
    "            ''' update network '''\n",
    "\n",
    "            text_syn_train, label_syn_train = copy.deepcopy(text_syn.detach()), copy.deepcopy(lab_syn.detach())\n",
    "            dst_syn_train = TensorDataset(text_syn_train, label_syn_train)\n",
    "            trainloader = torch.utils.data.DataLoader(dst_syn_train, batch_size=batch_train, shuffle=True, num_workers=0)\n",
    "               \n",
    "            for il in tqdm(range(n_inner_loop)):\n",
    "                epoch('train', trainloader, model, optimizer_net, criterion)\n",
    "\n",
    "\n",
    "        loss_avg /= (num_classes*n_outer_loop)\n",
    "\n",
    "        if it%10 == 0:\n",
    "            print(' iter = %04d, loss = %.4f' % (it, loss_avg))\n",
    "\n",
    "# only record the final results\n",
    "data_save.append([copy.deepcopy(synthetic_text_data.detach().cpu()), copy.deepcopy(synthetic_labels.detach().cpu())])\n",
    "torch.save({'data': data_save}, 'results_50ol10il_200spc.pth')"
   ]
  },
  {
   "cell_type": "code",
   "execution_count": null,
   "id": "6dde4af4-9b92-49ef-bf4a-3ab4ded5af3f",
   "metadata": {},
   "outputs": [],
   "source": [
    "with open('accs_hist_50ol10il_200spc.pkl', 'wb') as f:\n",
    "    pickle.dump(accs_hist, f)"
   ]
  },
  {
   "cell_type": "code",
   "execution_count": 23,
   "id": "58e4d17a-1154-4d96-a2f9-4c64014bc6f6",
   "metadata": {},
   "outputs": [
    {
     "data": {
      "text/plain": [
       "[0.25,\n",
       " 0.25,\n",
       " 0.25,\n",
       " 0.25,\n",
       " 0.2507894736842105,\n",
       " 0.2501315789473684,\n",
       " 0.27723684210526317,\n",
       " 0.24960526315789475,\n",
       " 0.25,\n",
       " 0.25,\n",
       " 0.25,\n",
       " 0.25,\n",
       " 0.24986842105263157,\n",
       " 0.25,\n",
       " 0.2356578947368421,\n",
       " 0.24986842105263157,\n",
       " 0.25,\n",
       " 0.24986842105263157,\n",
       " 0.2388157894736842,\n",
       " 0.25,\n",
       " 0.25,\n",
       " 0.25,\n",
       " 0.25,\n",
       " 0.25,\n",
       " 0.25,\n",
       " 0.24223684210526317,\n",
       " 0.25,\n",
       " 0.25,\n",
       " 0.25,\n",
       " 0.25,\n",
       " 0.25,\n",
       " 0.25,\n",
       " 0.25,\n",
       " 0.25,\n",
       " 0.25,\n",
       " 0.25,\n",
       " 0.25,\n",
       " 0.25,\n",
       " 0.25,\n",
       " 0.25,\n",
       " 0.25,\n",
       " 0.25,\n",
       " 0.25,\n",
       " 0.25,\n",
       " 0.25,\n",
       " 0.25,\n",
       " 0.25,\n",
       " 0.25,\n",
       " 0.25,\n",
       " 0.25,\n",
       " 0.25,\n",
       " 0.25,\n",
       " 0.25,\n",
       " 0.25,\n",
       " 0.25,\n",
       " 0.25,\n",
       " 0.25,\n",
       " 0.25,\n",
       " 0.25,\n",
       " 0.25,\n",
       " 0.25,\n",
       " 0.25,\n",
       " 0.25,\n",
       " 0.25,\n",
       " 0.25,\n",
       " 0.25,\n",
       " 0.25,\n",
       " 0.25,\n",
       " 0.25,\n",
       " 0.25,\n",
       " 0.25,\n",
       " 0.25,\n",
       " 0.25,\n",
       " 0.25,\n",
       " 0.25,\n",
       " 0.25,\n",
       " 0.25,\n",
       " 0.25,\n",
       " 0.25,\n",
       " 0.25,\n",
       " 0.25,\n",
       " 0.25,\n",
       " 0.25,\n",
       " 0.25,\n",
       " 0.25,\n",
       " 0.25,\n",
       " 0.25,\n",
       " 0.25,\n",
       " 0.25,\n",
       " 0.25,\n",
       " 0.25,\n",
       " 0.25,\n",
       " 0.25,\n",
       " 0.25,\n",
       " 0.25,\n",
       " 0.25,\n",
       " 0.25,\n",
       " 0.25,\n",
       " 0.25,\n",
       " 0.25,\n",
       " 0.25,\n",
       " 0.25,\n",
       " 0.25,\n",
       " 0.25,\n",
       " 0.25,\n",
       " 0.25,\n",
       " 0.25,\n",
       " 0.25,\n",
       " 0.25,\n",
       " 0.25,\n",
       " 0.25,\n",
       " 0.25,\n",
       " 0.25,\n",
       " 0.25,\n",
       " 0.25,\n",
       " 0.25,\n",
       " 0.25,\n",
       " 0.25,\n",
       " 0.25,\n",
       " 0.25,\n",
       " 0.25,\n",
       " 0.25,\n",
       " 0.25,\n",
       " 0.25,\n",
       " 0.25,\n",
       " 0.25,\n",
       " 0.25,\n",
       " 0.25,\n",
       " 0.25,\n",
       " 0.25,\n",
       " 0.25,\n",
       " 0.25,\n",
       " 0.25,\n",
       " 0.25,\n",
       " 0.25,\n",
       " 0.25,\n",
       " 0.25,\n",
       " 0.25,\n",
       " 0.25,\n",
       " 0.25,\n",
       " 0.25,\n",
       " 0.25,\n",
       " 0.25,\n",
       " 0.25,\n",
       " 0.25,\n",
       " 0.25,\n",
       " 0.25,\n",
       " 0.25,\n",
       " 0.25,\n",
       " 0.25,\n",
       " 0.25,\n",
       " 0.25,\n",
       " 0.25,\n",
       " 0.25,\n",
       " 0.25,\n",
       " 0.25,\n",
       " 0.25,\n",
       " 0.25,\n",
       " 0.25,\n",
       " 0.25,\n",
       " 0.25,\n",
       " 0.25,\n",
       " 0.25,\n",
       " 0.25,\n",
       " 0.25,\n",
       " 0.25,\n",
       " 0.25,\n",
       " 0.25,\n",
       " 0.25,\n",
       " 0.25,\n",
       " 0.25,\n",
       " 0.25,\n",
       " 0.25,\n",
       " 0.25,\n",
       " 0.25,\n",
       " 0.25,\n",
       " 0.25,\n",
       " 0.25,\n",
       " 0.25,\n",
       " 0.25,\n",
       " 0.25,\n",
       " 0.25,\n",
       " 0.25,\n",
       " 0.25,\n",
       " 0.25,\n",
       " 0.25,\n",
       " 0.25,\n",
       " 0.25,\n",
       " 0.25,\n",
       " 0.25,\n",
       " 0.25,\n",
       " 0.25,\n",
       " 0.25,\n",
       " 0.25,\n",
       " 0.25,\n",
       " 0.25,\n",
       " 0.25,\n",
       " 0.25,\n",
       " 0.25,\n",
       " 0.25,\n",
       " 0.25,\n",
       " 0.25,\n",
       " 0.25,\n",
       " 0.25,\n",
       " 0.25,\n",
       " 0.25,\n",
       " 0.25,\n",
       " 0.25,\n",
       " 0.25,\n",
       " 0.25,\n",
       " 0.25,\n",
       " 0.25,\n",
       " 0.25,\n",
       " 0.25,\n",
       " 0.25,\n",
       " 0.25,\n",
       " 0.25,\n",
       " 0.25,\n",
       " 0.25,\n",
       " 0.25,\n",
       " 0.25,\n",
       " 0.25,\n",
       " 0.25,\n",
       " 0.25,\n",
       " 0.25,\n",
       " 0.25,\n",
       " 0.25,\n",
       " 0.25,\n",
       " 0.25,\n",
       " 0.25,\n",
       " 0.25,\n",
       " 0.25,\n",
       " 0.25,\n",
       " 0.25,\n",
       " 0.25,\n",
       " 0.25,\n",
       " 0.25,\n",
       " 0.25,\n",
       " 0.25,\n",
       " 0.25,\n",
       " 0.25,\n",
       " 0.25,\n",
       " 0.25,\n",
       " 0.25,\n",
       " 0.25,\n",
       " 0.25,\n",
       " 0.25,\n",
       " 0.25,\n",
       " 0.25,\n",
       " 0.25,\n",
       " 0.25,\n",
       " 0.25,\n",
       " 0.25,\n",
       " 0.25,\n",
       " 0.25,\n",
       " 0.25,\n",
       " 0.25,\n",
       " 0.25,\n",
       " 0.25,\n",
       " 0.25,\n",
       " 0.25,\n",
       " 0.25,\n",
       " 0.25,\n",
       " 0.25,\n",
       " 0.25,\n",
       " 0.25,\n",
       " 0.25,\n",
       " 0.25,\n",
       " 0.25,\n",
       " 0.25,\n",
       " 0.25,\n",
       " 0.25,\n",
       " 0.25,\n",
       " 0.25,\n",
       " 0.25,\n",
       " 0.25,\n",
       " 0.25,\n",
       " 0.25,\n",
       " 0.25,\n",
       " 0.25,\n",
       " 0.25,\n",
       " 0.25,\n",
       " 0.25,\n",
       " 0.25,\n",
       " 0.25,\n",
       " 0.25,\n",
       " 0.25,\n",
       " 0.25,\n",
       " 0.25,\n",
       " 0.25,\n",
       " 0.25,\n",
       " 0.25,\n",
       " 0.25,\n",
       " 0.25,\n",
       " 0.25,\n",
       " 0.25,\n",
       " 0.25,\n",
       " 0.25,\n",
       " 0.25,\n",
       " 0.25,\n",
       " 0.25,\n",
       " 0.25,\n",
       " 0.25,\n",
       " 0.25,\n",
       " 0.25,\n",
       " 0.25,\n",
       " 0.25,\n",
       " 0.25,\n",
       " 0.25,\n",
       " 0.25,\n",
       " 0.25,\n",
       " 0.25,\n",
       " 0.25,\n",
       " 0.25,\n",
       " 0.25,\n",
       " 0.25,\n",
       " 0.25,\n",
       " 0.25,\n",
       " 0.25,\n",
       " 0.25,\n",
       " 0.25,\n",
       " 0.25,\n",
       " 0.25,\n",
       " 0.25,\n",
       " 0.25,\n",
       " 0.25,\n",
       " 0.25,\n",
       " 0.25,\n",
       " 0.25,\n",
       " 0.25,\n",
       " 0.25,\n",
       " 0.25,\n",
       " 0.25,\n",
       " 0.25,\n",
       " 0.25,\n",
       " 0.25,\n",
       " 0.25,\n",
       " 0.25,\n",
       " 0.25,\n",
       " 0.25,\n",
       " 0.25,\n",
       " 0.25,\n",
       " 0.25,\n",
       " 0.25,\n",
       " 0.25,\n",
       " 0.25,\n",
       " 0.25,\n",
       " 0.25,\n",
       " 0.25,\n",
       " 0.25,\n",
       " 0.25,\n",
       " 0.25,\n",
       " 0.25,\n",
       " 0.25,\n",
       " 0.25,\n",
       " 0.25,\n",
       " 0.25,\n",
       " 0.25,\n",
       " 0.25,\n",
       " 0.25,\n",
       " 0.25,\n",
       " 0.25,\n",
       " 0.25,\n",
       " 0.25,\n",
       " 0.25,\n",
       " 0.25,\n",
       " 0.25,\n",
       " 0.25,\n",
       " 0.25,\n",
       " 0.25,\n",
       " 0.25,\n",
       " 0.25,\n",
       " 0.25,\n",
       " 0.25,\n",
       " 0.25,\n",
       " 0.25,\n",
       " 0.25,\n",
       " 0.25,\n",
       " 0.25,\n",
       " 0.25,\n",
       " 0.25,\n",
       " 0.25,\n",
       " 0.25,\n",
       " 0.25,\n",
       " 0.25,\n",
       " 0.25,\n",
       " 0.25,\n",
       " 0.25,\n",
       " 0.25,\n",
       " 0.25,\n",
       " 0.25,\n",
       " 0.25,\n",
       " 0.25,\n",
       " 0.25,\n",
       " 0.25,\n",
       " 0.25,\n",
       " 0.25,\n",
       " 0.25,\n",
       " 0.25,\n",
       " 0.25,\n",
       " 0.25,\n",
       " 0.25,\n",
       " 0.25,\n",
       " 0.25,\n",
       " 0.25,\n",
       " 0.25,\n",
       " 0.25,\n",
       " 0.25,\n",
       " 0.25,\n",
       " 0.25,\n",
       " 0.25,\n",
       " 0.25,\n",
       " 0.25,\n",
       " 0.25,\n",
       " 0.25,\n",
       " 0.25,\n",
       " 0.25,\n",
       " 0.25,\n",
       " 0.25,\n",
       " 0.25,\n",
       " 0.25,\n",
       " 0.25,\n",
       " 0.25,\n",
       " 0.25,\n",
       " 0.25,\n",
       " 0.25,\n",
       " 0.25,\n",
       " 0.25,\n",
       " 0.25,\n",
       " 0.25,\n",
       " 0.25,\n",
       " 0.25,\n",
       " 0.25,\n",
       " 0.25,\n",
       " 0.25,\n",
       " 0.25,\n",
       " 0.25,\n",
       " 0.25,\n",
       " 0.25,\n",
       " 0.25,\n",
       " 0.25,\n",
       " 0.25,\n",
       " 0.25,\n",
       " 0.25,\n",
       " 0.25,\n",
       " 0.25,\n",
       " 0.25,\n",
       " 0.25,\n",
       " 0.25,\n",
       " 0.25,\n",
       " 0.25,\n",
       " 0.25,\n",
       " 0.25,\n",
       " 0.25,\n",
       " 0.25,\n",
       " 0.25,\n",
       " 0.25,\n",
       " 0.25,\n",
       " 0.25,\n",
       " 0.25,\n",
       " 0.25,\n",
       " 0.25,\n",
       " 0.25,\n",
       " 0.25,\n",
       " 0.25,\n",
       " 0.25,\n",
       " 0.25,\n",
       " 0.25,\n",
       " 0.25,\n",
       " 0.25,\n",
       " 0.25,\n",
       " 0.25,\n",
       " 0.25,\n",
       " 0.25,\n",
       " 0.25,\n",
       " 0.25,\n",
       " 0.25,\n",
       " 0.25,\n",
       " 0.25,\n",
       " 0.25,\n",
       " 0.25,\n",
       " 0.25,\n",
       " 0.25,\n",
       " 0.25,\n",
       " 0.25,\n",
       " 0.25,\n",
       " 0.25,\n",
       " 0.25,\n",
       " 0.25,\n",
       " 0.25,\n",
       " 0.25,\n",
       " 0.25,\n",
       " 0.25,\n",
       " 0.25,\n",
       " 0.25,\n",
       " 0.25,\n",
       " 0.25,\n",
       " 0.25,\n",
       " 0.25,\n",
       " 0.25,\n",
       " 0.25,\n",
       " 0.25,\n",
       " 0.25,\n",
       " 0.25,\n",
       " 0.25,\n",
       " 0.25,\n",
       " 0.25,\n",
       " 0.25,\n",
       " 0.25,\n",
       " 0.25,\n",
       " 0.36644736842105263,\n",
       " 0.25,\n",
       " 0.25,\n",
       " 0.25,\n",
       " 0.25,\n",
       " 0.25,\n",
       " 0.25,\n",
       " 0.25,\n",
       " 0.25,\n",
       " 0.25,\n",
       " 0.25,\n",
       " 0.25,\n",
       " 0.25,\n",
       " 0.25,\n",
       " 0.25,\n",
       " 0.25,\n",
       " 0.25,\n",
       " 0.25,\n",
       " 0.25,\n",
       " 0.25,\n",
       " 0.25,\n",
       " 0.25,\n",
       " 0.25,\n",
       " 0.25,\n",
       " 0.25,\n",
       " 0.25,\n",
       " 0.25,\n",
       " 0.25,\n",
       " 0.25,\n",
       " 0.25,\n",
       " 0.25,\n",
       " 0.25,\n",
       " 0.25,\n",
       " 0.25,\n",
       " 0.25,\n",
       " 0.25,\n",
       " 0.25,\n",
       " 0.25,\n",
       " 0.25,\n",
       " 0.25,\n",
       " 0.25,\n",
       " 0.25,\n",
       " 0.25,\n",
       " 0.25,\n",
       " 0.25,\n",
       " 0.25,\n",
       " 0.25,\n",
       " 0.25,\n",
       " 0.25,\n",
       " 0.25,\n",
       " 0.25,\n",
       " 0.25,\n",
       " 0.25,\n",
       " 0.25,\n",
       " 0.25,\n",
       " 0.25,\n",
       " 0.25,\n",
       " 0.25,\n",
       " 0.25,\n",
       " 0.25,\n",
       " 0.25,\n",
       " 0.25,\n",
       " 0.25,\n",
       " 0.25,\n",
       " 0.25,\n",
       " 0.25,\n",
       " 0.25,\n",
       " 0.25,\n",
       " 0.25,\n",
       " 0.25,\n",
       " 0.25,\n",
       " 0.25,\n",
       " 0.25,\n",
       " 0.25,\n",
       " 0.25,\n",
       " 0.25,\n",
       " 0.25,\n",
       " 0.25,\n",
       " 0.25,\n",
       " 0.25,\n",
       " 0.25,\n",
       " 0.25,\n",
       " 0.25,\n",
       " 0.25,\n",
       " 0.25,\n",
       " 0.25,\n",
       " 0.25,\n",
       " 0.25,\n",
       " 0.25,\n",
       " 0.25,\n",
       " 0.25,\n",
       " 0.25,\n",
       " 0.25,\n",
       " 0.25,\n",
       " 0.25,\n",
       " 0.25,\n",
       " 0.25,\n",
       " 0.25,\n",
       " 0.25,\n",
       " 0.25,\n",
       " 0.25,\n",
       " 0.25,\n",
       " 0.25,\n",
       " 0.25,\n",
       " 0.25,\n",
       " 0.25,\n",
       " 0.25,\n",
       " 0.25,\n",
       " 0.25,\n",
       " 0.25,\n",
       " 0.25,\n",
       " 0.25,\n",
       " 0.25,\n",
       " 0.25,\n",
       " 0.25,\n",
       " 0.25,\n",
       " 0.25,\n",
       " 0.25,\n",
       " 0.25,\n",
       " 0.25,\n",
       " 0.25,\n",
       " 0.25,\n",
       " 0.25,\n",
       " 0.25,\n",
       " 0.25,\n",
       " 0.25,\n",
       " 0.25,\n",
       " 0.25,\n",
       " 0.25,\n",
       " 0.25,\n",
       " 0.25,\n",
       " 0.25,\n",
       " 0.25,\n",
       " 0.25,\n",
       " 0.25,\n",
       " 0.25,\n",
       " 0.25,\n",
       " 0.25,\n",
       " 0.25,\n",
       " 0.25,\n",
       " 0.25,\n",
       " 0.25,\n",
       " 0.25,\n",
       " 0.25,\n",
       " 0.25,\n",
       " 0.25,\n",
       " 0.25,\n",
       " 0.25,\n",
       " 0.25,\n",
       " 0.25,\n",
       " 0.25,\n",
       " 0.25,\n",
       " 0.25,\n",
       " 0.25,\n",
       " 0.25,\n",
       " 0.25,\n",
       " 0.25,\n",
       " 0.25,\n",
       " 0.25,\n",
       " 0.25,\n",
       " 0.25,\n",
       " 0.25,\n",
       " 0.25,\n",
       " 0.25,\n",
       " 0.25,\n",
       " 0.25,\n",
       " 0.25,\n",
       " 0.25,\n",
       " 0.25,\n",
       " 0.2506578947368421,\n",
       " 0.3721052631578947,\n",
       " 0.25,\n",
       " 0.25,\n",
       " 0.25,\n",
       " 0.25,\n",
       " 0.25,\n",
       " 0.25,\n",
       " 0.25,\n",
       " 0.25,\n",
       " 0.25,\n",
       " 0.25,\n",
       " 0.25,\n",
       " 0.25,\n",
       " 0.25,\n",
       " 0.25,\n",
       " 0.25,\n",
       " 0.25,\n",
       " 0.25,\n",
       " 0.25,\n",
       " 0.25,\n",
       " 0.25,\n",
       " 0.25,\n",
       " 0.25,\n",
       " 0.25,\n",
       " 0.25,\n",
       " 0.25,\n",
       " 0.25,\n",
       " 0.25,\n",
       " 0.25,\n",
       " 0.2565789473684211,\n",
       " 0.25,\n",
       " 0.25,\n",
       " 0.25,\n",
       " 0.25,\n",
       " 0.25,\n",
       " 0.25,\n",
       " 0.25,\n",
       " 0.25,\n",
       " 0.25,\n",
       " 0.25,\n",
       " 0.25,\n",
       " 0.25,\n",
       " 0.25,\n",
       " 0.25,\n",
       " 0.25,\n",
       " 0.25,\n",
       " 0.25,\n",
       " 0.25,\n",
       " 0.25,\n",
       " 0.25,\n",
       " 0.25,\n",
       " 0.25,\n",
       " 0.25,\n",
       " 0.25,\n",
       " 0.25,\n",
       " 0.25,\n",
       " 0.25,\n",
       " 0.25,\n",
       " 0.25,\n",
       " 0.25,\n",
       " 0.25,\n",
       " 0.25,\n",
       " 0.27263157894736845,\n",
       " 0.25,\n",
       " 0.25,\n",
       " 0.25,\n",
       " 0.25,\n",
       " 0.25,\n",
       " 0.25,\n",
       " 0.25,\n",
       " 0.25,\n",
       " 0.25,\n",
       " 0.25,\n",
       " 0.25,\n",
       " 0.25,\n",
       " 0.25,\n",
       " 0.25,\n",
       " 0.25,\n",
       " 0.25,\n",
       " 0.25,\n",
       " 0.25,\n",
       " 0.25,\n",
       " 0.25,\n",
       " 0.25,\n",
       " 0.25,\n",
       " 0.25,\n",
       " 0.25,\n",
       " 0.25,\n",
       " 0.25,\n",
       " 0.25,\n",
       " 0.25,\n",
       " 0.25,\n",
       " 0.25,\n",
       " 0.25,\n",
       " 0.25,\n",
       " 0.25,\n",
       " 0.25,\n",
       " 0.25,\n",
       " 0.25,\n",
       " 0.25,\n",
       " 0.25,\n",
       " 0.25,\n",
       " 0.25,\n",
       " 0.25,\n",
       " 0.25,\n",
       " 0.25,\n",
       " 0.25,\n",
       " 0.25,\n",
       " 0.25,\n",
       " 0.25,\n",
       " 0.25,\n",
       " 0.25,\n",
       " 0.25,\n",
       " 0.25,\n",
       " 0.25,\n",
       " 0.25,\n",
       " 0.25,\n",
       " 0.25,\n",
       " 0.25,\n",
       " 0.25,\n",
       " 0.25,\n",
       " 0.25,\n",
       " 0.25,\n",
       " 0.25,\n",
       " 0.25,\n",
       " 0.25,\n",
       " 0.25,\n",
       " 0.25,\n",
       " 0.25,\n",
       " 0.25,\n",
       " 0.25,\n",
       " 0.25,\n",
       " 0.25,\n",
       " 0.25,\n",
       " 0.25,\n",
       " 0.25,\n",
       " 0.25,\n",
       " 0.25,\n",
       " 0.25,\n",
       " 0.25,\n",
       " 0.25,\n",
       " 0.25,\n",
       " 0.25,\n",
       " 0.25,\n",
       " 0.25,\n",
       " 0.25,\n",
       " 0.25,\n",
       " 0.25,\n",
       " 0.25,\n",
       " 0.25,\n",
       " 0.25,\n",
       " 0.25,\n",
       " 0.25,\n",
       " 0.2806578947368421,\n",
       " 0.25,\n",
       " 0.41657894736842105,\n",
       " 0.25,\n",
       " 0.25,\n",
       " 0.25,\n",
       " 0.25,\n",
       " 0.25,\n",
       " 0.25,\n",
       " 0.25,\n",
       " 0.25,\n",
       " 0.25,\n",
       " 0.25,\n",
       " 0.25,\n",
       " 0.25,\n",
       " 0.25,\n",
       " 0.25,\n",
       " 0.25,\n",
       " 0.25,\n",
       " 0.25,\n",
       " 0.25,\n",
       " 0.25,\n",
       " 0.25,\n",
       " 0.25,\n",
       " 0.25,\n",
       " 0.25,\n",
       " 0.25,\n",
       " 0.25,\n",
       " 0.25,\n",
       " 0.25,\n",
       " 0.25,\n",
       " 0.25,\n",
       " 0.25,\n",
       " 0.25,\n",
       " 0.25,\n",
       " 0.25,\n",
       " 0.25,\n",
       " 0.25,\n",
       " 0.25,\n",
       " 0.25,\n",
       " 0.25,\n",
       " 0.25,\n",
       " 0.25,\n",
       " 0.25,\n",
       " 0.25,\n",
       " 0.25,\n",
       " 0.25,\n",
       " 0.25,\n",
       " 0.25,\n",
       " 0.25,\n",
       " 0.25,\n",
       " 0.25,\n",
       " 0.25,\n",
       " 0.25,\n",
       " 0.25,\n",
       " 0.25,\n",
       " 0.25,\n",
       " 0.25,\n",
       " 0.25,\n",
       " 0.25,\n",
       " 0.25,\n",
       " 0.25,\n",
       " 0.25,\n",
       " 0.25,\n",
       " 0.25,\n",
       " 0.25,\n",
       " 0.25,\n",
       " 0.25,\n",
       " 0.25,\n",
       " 0.25,\n",
       " 0.25,\n",
       " 0.25,\n",
       " 0.25,\n",
       " 0.25,\n",
       " 0.25,\n",
       " 0.25,\n",
       " 0.25,\n",
       " 0.25,\n",
       " 0.25,\n",
       " 0.25,\n",
       " 0.25,\n",
       " 0.25,\n",
       " 0.25,\n",
       " 0.25,\n",
       " 0.25,\n",
       " 0.25,\n",
       " 0.25,\n",
       " 0.25,\n",
       " 0.25,\n",
       " 0.25,\n",
       " 0.25,\n",
       " 0.25,\n",
       " 0.25,\n",
       " 0.25,\n",
       " 0.25,\n",
       " 0.25,\n",
       " 0.25,\n",
       " 0.25,\n",
       " 0.25,\n",
       " 0.25,\n",
       " 0.25,\n",
       " 0.25,\n",
       " 0.25,\n",
       " 0.25,\n",
       " 0.25,\n",
       " 0.25,\n",
       " 0.25,\n",
       " 0.25,\n",
       " 0.25,\n",
       " 0.25,\n",
       " 0.25,\n",
       " 0.25,\n",
       " 0.25,\n",
       " 0.25,\n",
       " 0.25,\n",
       " 0.25,\n",
       " 0.25,\n",
       " 0.25,\n",
       " 0.25,\n",
       " 0.25,\n",
       " 0.25,\n",
       " 0.25,\n",
       " 0.25,\n",
       " 0.25,\n",
       " 0.25,\n",
       " 0.25,\n",
       " 0.31144736842105264,\n",
       " 0.25,\n",
       " 0.25,\n",
       " 0.25,\n",
       " 0.25,\n",
       " 0.25,\n",
       " 0.25,\n",
       " 0.25,\n",
       " 0.25,\n",
       " 0.25,\n",
       " 0.25,\n",
       " 0.25,\n",
       " 0.25,\n",
       " 0.25,\n",
       " 0.25,\n",
       " 0.25,\n",
       " 0.25,\n",
       " 0.25,\n",
       " 0.25,\n",
       " 0.25,\n",
       " 0.25,\n",
       " 0.25,\n",
       " 0.25,\n",
       " 0.25,\n",
       " 0.25,\n",
       " 0.25,\n",
       " 0.25,\n",
       " 0.25,\n",
       " 0.25,\n",
       " 0.25,\n",
       " 0.25,\n",
       " 0.25,\n",
       " 0.25,\n",
       " 0.25,\n",
       " 0.25,\n",
       " 0.25,\n",
       " 0.25,\n",
       " 0.25,\n",
       " 0.25,\n",
       " 0.25,\n",
       " 0.25,\n",
       " ...]"
      ]
     },
     "execution_count": 23,
     "metadata": {},
     "output_type": "execute_result"
    }
   ],
   "source": [
    "accs_hist"
   ]
  },
  {
   "cell_type": "code",
   "execution_count": 24,
   "id": "ef5a5a04-fa18-41dd-9141-ef59ccbab60e",
   "metadata": {},
   "outputs": [
    {
     "data": {
      "text/plain": [
       "[<matplotlib.lines.Line2D at 0x7f8a2c3fb820>]"
      ]
     },
     "execution_count": 24,
     "metadata": {},
     "output_type": "execute_result"
    },
    {
     "data": {
      "image/png": "[encoded data removed]",
      "text/plain": [
       "<Figure size 640x480 with 1 Axes>"
      ]
     },
     "metadata": {},
     "output_type": "display_data"
    }
   ],
   "source": [
    "import matplotlib.pyplot as plt\n",
    "plt.plot(accs_hist)"
   ]
  },
  {
   "cell_type": "code",
   "execution_count": null,
   "id": "00741ead-f7a7-41a8-9087-e878e0306257",
   "metadata": {},
   "outputs": [],
   "source": []
  },
  {
   "cell_type": "code",
   "execution_count": 25,
   "id": "d204daf5-d977-4d63-8f72-3fae703b54db",
   "metadata": {
    "scrolled": true
   },
   "outputs": [
    {
     "name": "stderr",
     "output_type": "stream",
     "text": [
      "Training Epoch 1/200: 100%|█████████████████████████████████████████████████████████████████████████████████████████████████████████████| 13/13 [00:00<00:00, 219.40batch/s]\n"
     ]
    },
    {
     "name": "stdout",
     "output_type": "stream",
     "text": [
      "Epoch [1/200], Train Loss: 13.8395, Train Accuracy: 66.88%\n"
     ]
    },
    {
     "name": "stderr",
     "output_type": "stream",
     "text": [
      "Training Epoch 2/200: 100%|█████████████████████████████████████████████████████████████████████████████████████████████████████████████| 13/13 [00:00<00:00, 229.24batch/s]\n",
      "Training Epoch 3/200: 100%|█████████████████████████████████████████████████████████████████████████████████████████████████████████████| 13/13 [00:00<00:00, 248.10batch/s]\n",
      "Training Epoch 4/200: 100%|█████████████████████████████████████████████████████████████████████████████████████████████████████████████| 13/13 [00:00<00:00, 264.51batch/s]\n",
      "Training Epoch 5/200: 100%|█████████████████████████████████████████████████████████████████████████████████████████████████████████████| 13/13 [00:00<00:00, 272.94batch/s]\n",
      "Training Epoch 6/200: 100%|█████████████████████████████████████████████████████████████████████████████████████████████████████████████| 13/13 [00:00<00:00, 279.38batch/s]\n",
      "Training Epoch 7/200: 100%|█████████████████████████████████████████████████████████████████████████████████████████████████████████████| 13/13 [00:00<00:00, 285.71batch/s]\n",
      "Training Epoch 8/200: 100%|█████████████████████████████████████████████████████████████████████████████████████████████████████████████| 13/13 [00:00<00:00, 292.01batch/s]\n",
      "Training Epoch 9/200: 100%|█████████████████████████████████████████████████████████████████████████████████████████████████████████████| 13/13 [00:00<00:00, 297.23batch/s]\n",
      "Training Epoch 10/200: 100%|████████████████████████████████████████████████████████████████████████████████████████████████████████████| 13/13 [00:00<00:00, 298.58batch/s]\n"
     ]
    },
    {
     "name": "stdout",
     "output_type": "stream",
     "text": [
      "Epoch [10/200], Train Loss: 0.9715, Train Accuracy: 98.25%\n"
     ]
    },
    {
     "name": "stderr",
     "output_type": "stream",
     "text": [
      "Training Epoch 11/200: 100%|████████████████████████████████████████████████████████████████████████████████████████████████████████████| 13/13 [00:00<00:00, 297.81batch/s]\n",
      "Training Epoch 12/200: 100%|████████████████████████████████████████████████████████████████████████████████████████████████████████████| 13/13 [00:00<00:00, 294.09batch/s]\n",
      "Training Epoch 13/200: 100%|████████████████████████████████████████████████████████████████████████████████████████████████████████████| 13/13 [00:00<00:00, 297.60batch/s]\n",
      "Training Epoch 14/200: 100%|████████████████████████████████████████████████████████████████████████████████████████████████████████████| 13/13 [00:00<00:00, 299.76batch/s]\n",
      "Training Epoch 15/200: 100%|████████████████████████████████████████████████████████████████████████████████████████████████████████████| 13/13 [00:00<00:00, 297.71batch/s]\n",
      "Training Epoch 16/200: 100%|████████████████████████████████████████████████████████████████████████████████████████████████████████████| 13/13 [00:00<00:00, 295.47batch/s]\n",
      "Training Epoch 17/200: 100%|████████████████████████████████████████████████████████████████████████████████████████████████████████████| 13/13 [00:00<00:00, 298.34batch/s]\n",
      "Training Epoch 18/200: 100%|████████████████████████████████████████████████████████████████████████████████████████████████████████████| 13/13 [00:00<00:00, 295.46batch/s]\n",
      "Training Epoch 19/200: 100%|████████████████████████████████████████████████████████████████████████████████████████████████████████████| 13/13 [00:00<00:00, 302.45batch/s]\n"
     ]
    },
    {
     "name": "stdout",
     "output_type": "stream",
     "text": [
      "Epoch [19/200], Train Loss: 0.5833, Train Accuracy: 98.75%\n"
     ]
    },
    {
     "name": "stderr",
     "output_type": "stream",
     "text": [
      "Training Epoch 20/200: 100%|████████████████████████████████████████████████████████████████████████████████████████████████████████████| 13/13 [00:00<00:00, 293.08batch/s]\n",
      "Training Epoch 21/200: 100%|████████████████████████████████████████████████████████████████████████████████████████████████████████████| 13/13 [00:00<00:00, 297.89batch/s]\n",
      "Training Epoch 22/200: 100%|████████████████████████████████████████████████████████████████████████████████████████████████████████████| 13/13 [00:00<00:00, 299.13batch/s]\n",
      "Training Epoch 23/200: 100%|████████████████████████████████████████████████████████████████████████████████████████████████████████████| 13/13 [00:00<00:00, 294.65batch/s]\n",
      "Training Epoch 24/200: 100%|████████████████████████████████████████████████████████████████████████████████████████████████████████████| 13/13 [00:00<00:00, 298.66batch/s]\n",
      "Training Epoch 25/200: 100%|████████████████████████████████████████████████████████████████████████████████████████████████████████████| 13/13 [00:00<00:00, 297.98batch/s]\n",
      "Training Epoch 26/200: 100%|████████████████████████████████████████████████████████████████████████████████████████████████████████████| 13/13 [00:00<00:00, 296.27batch/s]\n",
      "Training Epoch 27/200: 100%|████████████████████████████████████████████████████████████████████████████████████████████████████████████| 13/13 [00:00<00:00, 296.94batch/s]\n",
      "Training Epoch 28/200: 100%|████████████████████████████████████████████████████████████████████████████████████████████████████████████| 13/13 [00:00<00:00, 300.61batch/s]\n"
     ]
    },
    {
     "name": "stdout",
     "output_type": "stream",
     "text": [
      "Epoch [28/200], Train Loss: 0.4708, Train Accuracy: 98.62%\n"
     ]
    },
    {
     "name": "stderr",
     "output_type": "stream",
     "text": [
      "Training Epoch 29/200: 100%|████████████████████████████████████████████████████████████████████████████████████████████████████████████| 13/13 [00:00<00:00, 303.03batch/s]\n",
      "Training Epoch 30/200: 100%|████████████████████████████████████████████████████████████████████████████████████████████████████████████| 13/13 [00:00<00:00, 303.30batch/s]\n",
      "Training Epoch 31/200: 100%|████████████████████████████████████████████████████████████████████████████████████████████████████████████| 13/13 [00:00<00:00, 305.18batch/s]\n",
      "Training Epoch 32/200: 100%|████████████████████████████████████████████████████████████████████████████████████████████████████████████| 13/13 [00:00<00:00, 308.94batch/s]\n",
      "Training Epoch 33/200: 100%|████████████████████████████████████████████████████████████████████████████████████████████████████████████| 13/13 [00:00<00:00, 304.80batch/s]\n",
      "Training Epoch 34/200: 100%|████████████████████████████████████████████████████████████████████████████████████████████████████████████| 13/13 [00:00<00:00, 304.34batch/s]\n",
      "Training Epoch 35/200: 100%|████████████████████████████████████████████████████████████████████████████████████████████████████████████| 13/13 [00:00<00:00, 308.39batch/s]\n",
      "Training Epoch 36/200: 100%|████████████████████████████████████████████████████████████████████████████████████████████████████████████| 13/13 [00:00<00:00, 304.82batch/s]\n",
      "Training Epoch 37/200: 100%|████████████████████████████████████████████████████████████████████████████████████████████████████████████| 13/13 [00:00<00:00, 305.42batch/s]\n"
     ]
    },
    {
     "name": "stdout",
     "output_type": "stream",
     "text": [
      "Epoch [37/200], Train Loss: 0.2571, Train Accuracy: 99.12%\n"
     ]
    },
    {
     "name": "stderr",
     "output_type": "stream",
     "text": [
      "Training Epoch 38/200: 100%|████████████████████████████████████████████████████████████████████████████████████████████████████████████| 13/13 [00:00<00:00, 303.52batch/s]\n",
      "Training Epoch 39/200: 100%|████████████████████████████████████████████████████████████████████████████████████████████████████████████| 13/13 [00:00<00:00, 313.02batch/s]\n",
      "Training Epoch 40/200: 100%|████████████████████████████████████████████████████████████████████████████████████████████████████████████| 13/13 [00:00<00:00, 307.12batch/s]\n",
      "Training Epoch 41/200: 100%|████████████████████████████████████████████████████████████████████████████████████████████████████████████| 13/13 [00:00<00:00, 308.23batch/s]\n",
      "Training Epoch 42/200: 100%|████████████████████████████████████████████████████████████████████████████████████████████████████████████| 13/13 [00:00<00:00, 307.37batch/s]\n",
      "Training Epoch 43/200: 100%|████████████████████████████████████████████████████████████████████████████████████████████████████████████| 13/13 [00:00<00:00, 306.96batch/s]\n",
      "Training Epoch 44/200: 100%|████████████████████████████████████████████████████████████████████████████████████████████████████████████| 13/13 [00:00<00:00, 304.33batch/s]\n",
      "Training Epoch 45/200: 100%|████████████████████████████████████████████████████████████████████████████████████████████████████████████| 13/13 [00:00<00:00, 306.30batch/s]\n",
      "Training Epoch 46/200: 100%|████████████████████████████████████████████████████████████████████████████████████████████████████████████| 13/13 [00:00<00:00, 303.98batch/s]\n"
     ]
    },
    {
     "name": "stdout",
     "output_type": "stream",
     "text": [
      "Epoch [46/200], Train Loss: 0.1852, Train Accuracy: 99.25%\n"
     ]
    },
    {
     "name": "stderr",
     "output_type": "stream",
     "text": [
      "Training Epoch 47/200: 100%|████████████████████████████████████████████████████████████████████████████████████████████████████████████| 13/13 [00:00<00:00, 302.52batch/s]\n",
      "Training Epoch 48/200: 100%|████████████████████████████████████████████████████████████████████████████████████████████████████████████| 13/13 [00:00<00:00, 303.13batch/s]\n",
      "Training Epoch 49/200: 100%|████████████████████████████████████████████████████████████████████████████████████████████████████████████| 13/13 [00:00<00:00, 304.93batch/s]\n",
      "Training Epoch 50/200: 100%|████████████████████████████████████████████████████████████████████████████████████████████████████████████| 13/13 [00:00<00:00, 305.21batch/s]\n",
      "Training Epoch 51/200: 100%|████████████████████████████████████████████████████████████████████████████████████████████████████████████| 13/13 [00:00<00:00, 306.45batch/s]\n",
      "Training Epoch 52/200: 100%|████████████████████████████████████████████████████████████████████████████████████████████████████████████| 13/13 [00:00<00:00, 308.83batch/s]\n",
      "Training Epoch 53/200: 100%|████████████████████████████████████████████████████████████████████████████████████████████████████████████| 13/13 [00:00<00:00, 306.98batch/s]\n",
      "Training Epoch 54/200: 100%|████████████████████████████████████████████████████████████████████████████████████████████████████████████| 13/13 [00:00<00:00, 302.75batch/s]\n",
      "Training Epoch 55/200: 100%|████████████████████████████████████████████████████████████████████████████████████████████████████████████| 13/13 [00:00<00:00, 305.61batch/s]\n"
     ]
    },
    {
     "name": "stdout",
     "output_type": "stream",
     "text": [
      "Epoch [55/200], Train Loss: 0.1577, Train Accuracy: 99.25%\n"
     ]
    },
    {
     "name": "stderr",
     "output_type": "stream",
     "text": [
      "Training Epoch 56/200: 100%|████████████████████████████████████████████████████████████████████████████████████████████████████████████| 13/13 [00:00<00:00, 305.57batch/s]\n",
      "Training Epoch 57/200: 100%|████████████████████████████████████████████████████████████████████████████████████████████████████████████| 13/13 [00:00<00:00, 307.44batch/s]\n",
      "Training Epoch 58/200: 100%|████████████████████████████████████████████████████████████████████████████████████████████████████████████| 13/13 [00:00<00:00, 306.32batch/s]\n",
      "Training Epoch 59/200: 100%|████████████████████████████████████████████████████████████████████████████████████████████████████████████| 13/13 [00:00<00:00, 309.20batch/s]\n",
      "Training Epoch 60/200: 100%|████████████████████████████████████████████████████████████████████████████████████████████████████████████| 13/13 [00:00<00:00, 308.89batch/s]\n",
      "Training Epoch 61/200: 100%|████████████████████████████████████████████████████████████████████████████████████████████████████████████| 13/13 [00:00<00:00, 306.15batch/s]\n",
      "Training Epoch 62/200: 100%|████████████████████████████████████████████████████████████████████████████████████████████████████████████| 13/13 [00:00<00:00, 303.42batch/s]\n",
      "Training Epoch 63/200: 100%|████████████████████████████████████████████████████████████████████████████████████████████████████████████| 13/13 [00:00<00:00, 303.42batch/s]\n",
      "Training Epoch 64/200: 100%|████████████████████████████████████████████████████████████████████████████████████████████████████████████| 13/13 [00:00<00:00, 305.20batch/s]\n"
     ]
    },
    {
     "name": "stdout",
     "output_type": "stream",
     "text": [
      "Epoch [64/200], Train Loss: 0.1363, Train Accuracy: 99.25%\n"
     ]
    },
    {
     "name": "stderr",
     "output_type": "stream",
     "text": [
      "Training Epoch 65/200: 100%|████████████████████████████████████████████████████████████████████████████████████████████████████████████| 13/13 [00:00<00:00, 304.73batch/s]\n",
      "Training Epoch 66/200: 100%|████████████████████████████████████████████████████████████████████████████████████████████████████████████| 13/13 [00:00<00:00, 302.95batch/s]\n",
      "Training Epoch 67/200: 100%|████████████████████████████████████████████████████████████████████████████████████████████████████████████| 13/13 [00:00<00:00, 304.94batch/s]\n",
      "Training Epoch 68/200: 100%|████████████████████████████████████████████████████████████████████████████████████████████████████████████| 13/13 [00:00<00:00, 308.49batch/s]\n",
      "Training Epoch 69/200: 100%|████████████████████████████████████████████████████████████████████████████████████████████████████████████| 13/13 [00:00<00:00, 306.81batch/s]\n",
      "Training Epoch 70/200: 100%|████████████████████████████████████████████████████████████████████████████████████████████████████████████| 13/13 [00:00<00:00, 304.39batch/s]\n",
      "Training Epoch 71/200: 100%|████████████████████████████████████████████████████████████████████████████████████████████████████████████| 13/13 [00:00<00:00, 303.26batch/s]\n",
      "Training Epoch 72/200: 100%|████████████████████████████████████████████████████████████████████████████████████████████████████████████| 13/13 [00:00<00:00, 312.00batch/s]\n",
      "Training Epoch 73/200: 100%|████████████████████████████████████████████████████████████████████████████████████████████████████████████| 13/13 [00:00<00:00, 305.70batch/s]\n"
     ]
    },
    {
     "name": "stdout",
     "output_type": "stream",
     "text": [
      "Epoch [73/200], Train Loss: 0.1408, Train Accuracy: 99.50%\n"
     ]
    },
    {
     "name": "stderr",
     "output_type": "stream",
     "text": [
      "Training Epoch 74/200: 100%|████████████████████████████████████████████████████████████████████████████████████████████████████████████| 13/13 [00:00<00:00, 304.94batch/s]\n",
      "Training Epoch 75/200: 100%|████████████████████████████████████████████████████████████████████████████████████████████████████████████| 13/13 [00:00<00:00, 304.17batch/s]\n",
      "Training Epoch 76/200: 100%|████████████████████████████████████████████████████████████████████████████████████████████████████████████| 13/13 [00:00<00:00, 297.56batch/s]\n",
      "Training Epoch 77/200: 100%|████████████████████████████████████████████████████████████████████████████████████████████████████████████| 13/13 [00:00<00:00, 299.11batch/s]\n",
      "Training Epoch 78/200: 100%|████████████████████████████████████████████████████████████████████████████████████████████████████████████| 13/13 [00:00<00:00, 298.00batch/s]\n",
      "Training Epoch 79/200: 100%|████████████████████████████████████████████████████████████████████████████████████████████████████████████| 13/13 [00:00<00:00, 306.13batch/s]\n",
      "Training Epoch 80/200: 100%|████████████████████████████████████████████████████████████████████████████████████████████████████████████| 13/13 [00:00<00:00, 297.42batch/s]\n",
      "Training Epoch 81/200: 100%|████████████████████████████████████████████████████████████████████████████████████████████████████████████| 13/13 [00:00<00:00, 301.22batch/s]\n",
      "Training Epoch 82/200: 100%|████████████████████████████████████████████████████████████████████████████████████████████████████████████| 13/13 [00:00<00:00, 298.85batch/s]\n"
     ]
    },
    {
     "name": "stdout",
     "output_type": "stream",
     "text": [
      "Epoch [82/200], Train Loss: 0.1340, Train Accuracy: 99.38%\n"
     ]
    },
    {
     "name": "stderr",
     "output_type": "stream",
     "text": [
      "Training Epoch 83/200: 100%|████████████████████████████████████████████████████████████████████████████████████████████████████████████| 13/13 [00:00<00:00, 296.95batch/s]\n",
      "Training Epoch 84/200: 100%|████████████████████████████████████████████████████████████████████████████████████████████████████████████| 13/13 [00:00<00:00, 298.21batch/s]\n",
      "Training Epoch 85/200: 100%|████████████████████████████████████████████████████████████████████████████████████████████████████████████| 13/13 [00:00<00:00, 307.02batch/s]\n",
      "Training Epoch 86/200: 100%|████████████████████████████████████████████████████████████████████████████████████████████████████████████| 13/13 [00:00<00:00, 301.35batch/s]\n",
      "Training Epoch 87/200: 100%|████████████████████████████████████████████████████████████████████████████████████████████████████████████| 13/13 [00:00<00:00, 306.28batch/s]\n",
      "Training Epoch 88/200: 100%|████████████████████████████████████████████████████████████████████████████████████████████████████████████| 13/13 [00:00<00:00, 305.35batch/s]\n",
      "Training Epoch 89/200: 100%|████████████████████████████████████████████████████████████████████████████████████████████████████████████| 13/13 [00:00<00:00, 306.61batch/s]\n",
      "Training Epoch 90/200: 100%|████████████████████████████████████████████████████████████████████████████████████████████████████████████| 13/13 [00:00<00:00, 304.75batch/s]\n",
      "Training Epoch 91/200: 100%|████████████████████████████████████████████████████████████████████████████████████████████████████████████| 13/13 [00:00<00:00, 304.19batch/s]\n"
     ]
    },
    {
     "name": "stdout",
     "output_type": "stream",
     "text": [
      "Epoch [91/200], Train Loss: 0.1073, Train Accuracy: 99.75%\n"
     ]
    },
    {
     "name": "stderr",
     "output_type": "stream",
     "text": [
      "Training Epoch 92/200: 100%|████████████████████████████████████████████████████████████████████████████████████████████████████████████| 13/13 [00:00<00:00, 303.73batch/s]\n",
      "Training Epoch 93/200: 100%|████████████████████████████████████████████████████████████████████████████████████████████████████████████| 13/13 [00:00<00:00, 305.34batch/s]\n",
      "Training Epoch 94/200: 100%|████████████████████████████████████████████████████████████████████████████████████████████████████████████| 13/13 [00:00<00:00, 309.27batch/s]\n",
      "Training Epoch 95/200: 100%|████████████████████████████████████████████████████████████████████████████████████████████████████████████| 13/13 [00:00<00:00, 307.44batch/s]\n",
      "Training Epoch 96/200: 100%|████████████████████████████████████████████████████████████████████████████████████████████████████████████| 13/13 [00:00<00:00, 305.74batch/s]\n",
      "Training Epoch 97/200: 100%|████████████████████████████████████████████████████████████████████████████████████████████████████████████| 13/13 [00:00<00:00, 302.82batch/s]\n",
      "Training Epoch 98/200: 100%|████████████████████████████████████████████████████████████████████████████████████████████████████████████| 13/13 [00:00<00:00, 308.20batch/s]\n",
      "Training Epoch 99/200: 100%|████████████████████████████████████████████████████████████████████████████████████████████████████████████| 13/13 [00:00<00:00, 306.00batch/s]\n",
      "Training Epoch 100/200: 100%|███████████████████████████████████████████████████████████████████████████████████████████████████████████| 13/13 [00:00<00:00, 307.85batch/s]\n"
     ]
    },
    {
     "name": "stdout",
     "output_type": "stream",
     "text": [
      "Epoch [100/200], Train Loss: 0.1422, Train Accuracy: 99.50%\n"
     ]
    },
    {
     "name": "stderr",
     "output_type": "stream",
     "text": [
      "Training Epoch 101/200: 100%|███████████████████████████████████████████████████████████████████████████████████████████████████████████| 13/13 [00:00<00:00, 303.81batch/s]\n",
      "Training Epoch 102/200: 100%|███████████████████████████████████████████████████████████████████████████████████████████████████████████| 13/13 [00:00<00:00, 304.83batch/s]\n",
      "Training Epoch 103/200: 100%|███████████████████████████████████████████████████████████████████████████████████████████████████████████| 13/13 [00:00<00:00, 303.77batch/s]\n",
      "Training Epoch 104/200: 100%|███████████████████████████████████████████████████████████████████████████████████████████████████████████| 13/13 [00:00<00:00, 302.84batch/s]\n",
      "Training Epoch 105/200: 100%|███████████████████████████████████████████████████████████████████████████████████████████████████████████| 13/13 [00:00<00:00, 303.98batch/s]\n",
      "Training Epoch 106/200: 100%|███████████████████████████████████████████████████████████████████████████████████████████████████████████| 13/13 [00:00<00:00, 305.26batch/s]\n",
      "Training Epoch 107/200: 100%|███████████████████████████████████████████████████████████████████████████████████████████████████████████| 13/13 [00:00<00:00, 304.60batch/s]\n",
      "Training Epoch 108/200: 100%|███████████████████████████████████████████████████████████████████████████████████████████████████████████| 13/13 [00:00<00:00, 302.99batch/s]\n",
      "Training Epoch 109/200: 100%|███████████████████████████████████████████████████████████████████████████████████████████████████████████| 13/13 [00:00<00:00, 305.07batch/s]\n"
     ]
    },
    {
     "name": "stdout",
     "output_type": "stream",
     "text": [
      "Epoch [109/200], Train Loss: 0.1032, Train Accuracy: 99.50%\n"
     ]
    },
    {
     "name": "stderr",
     "output_type": "stream",
     "text": [
      "Training Epoch 110/200: 100%|███████████████████████████████████████████████████████████████████████████████████████████████████████████| 13/13 [00:00<00:00, 308.74batch/s]\n",
      "Training Epoch 111/200: 100%|███████████████████████████████████████████████████████████████████████████████████████████████████████████| 13/13 [00:00<00:00, 304.66batch/s]\n",
      "Training Epoch 112/200: 100%|███████████████████████████████████████████████████████████████████████████████████████████████████████████| 13/13 [00:00<00:00, 304.79batch/s]\n",
      "Training Epoch 113/200: 100%|███████████████████████████████████████████████████████████████████████████████████████████████████████████| 13/13 [00:00<00:00, 302.31batch/s]\n",
      "Training Epoch 114/200: 100%|███████████████████████████████████████████████████████████████████████████████████████████████████████████| 13/13 [00:00<00:00, 302.64batch/s]\n",
      "Training Epoch 115/200: 100%|███████████████████████████████████████████████████████████████████████████████████████████████████████████| 13/13 [00:00<00:00, 300.50batch/s]\n",
      "Training Epoch 116/200: 100%|███████████████████████████████████████████████████████████████████████████████████████████████████████████| 13/13 [00:00<00:00, 302.15batch/s]\n",
      "Training Epoch 117/200: 100%|███████████████████████████████████████████████████████████████████████████████████████████████████████████| 13/13 [00:00<00:00, 303.67batch/s]\n",
      "Training Epoch 118/200: 100%|███████████████████████████████████████████████████████████████████████████████████████████████████████████| 13/13 [00:00<00:00, 301.61batch/s]\n"
     ]
    },
    {
     "name": "stdout",
     "output_type": "stream",
     "text": [
      "Epoch [118/200], Train Loss: 0.0883, Train Accuracy: 99.75%\n"
     ]
    },
    {
     "name": "stderr",
     "output_type": "stream",
     "text": [
      "Training Epoch 119/200: 100%|███████████████████████████████████████████████████████████████████████████████████████████████████████████| 13/13 [00:00<00:00, 296.32batch/s]\n",
      "Training Epoch 120/200: 100%|███████████████████████████████████████████████████████████████████████████████████████████████████████████| 13/13 [00:00<00:00, 303.03batch/s]\n",
      "Training Epoch 121/200: 100%|███████████████████████████████████████████████████████████████████████████████████████████████████████████| 13/13 [00:00<00:00, 307.55batch/s]\n",
      "Training Epoch 122/200: 100%|███████████████████████████████████████████████████████████████████████████████████████████████████████████| 13/13 [00:00<00:00, 304.98batch/s]\n",
      "Training Epoch 123/200: 100%|███████████████████████████████████████████████████████████████████████████████████████████████████████████| 13/13 [00:00<00:00, 307.70batch/s]\n",
      "Training Epoch 124/200: 100%|███████████████████████████████████████████████████████████████████████████████████████████████████████████| 13/13 [00:00<00:00, 311.74batch/s]\n",
      "Training Epoch 125/200: 100%|███████████████████████████████████████████████████████████████████████████████████████████████████████████| 13/13 [00:00<00:00, 307.26batch/s]\n",
      "Training Epoch 126/200: 100%|███████████████████████████████████████████████████████████████████████████████████████████████████████████| 13/13 [00:00<00:00, 310.64batch/s]\n",
      "Training Epoch 127/200: 100%|███████████████████████████████████████████████████████████████████████████████████████████████████████████| 13/13 [00:00<00:00, 307.63batch/s]\n"
     ]
    },
    {
     "name": "stdout",
     "output_type": "stream",
     "text": [
      "Epoch [127/200], Train Loss: 0.0936, Train Accuracy: 99.50%\n"
     ]
    },
    {
     "name": "stderr",
     "output_type": "stream",
     "text": [
      "Training Epoch 128/200: 100%|███████████████████████████████████████████████████████████████████████████████████████████████████████████| 13/13 [00:00<00:00, 303.59batch/s]\n",
      "Training Epoch 129/200: 100%|███████████████████████████████████████████████████████████████████████████████████████████████████████████| 13/13 [00:00<00:00, 304.74batch/s]\n",
      "Training Epoch 130/200: 100%|███████████████████████████████████████████████████████████████████████████████████████████████████████████| 13/13 [00:00<00:00, 305.96batch/s]\n",
      "Training Epoch 131/200: 100%|███████████████████████████████████████████████████████████████████████████████████████████████████████████| 13/13 [00:00<00:00, 309.65batch/s]\n",
      "Training Epoch 132/200: 100%|███████████████████████████████████████████████████████████████████████████████████████████████████████████| 13/13 [00:00<00:00, 313.64batch/s]\n",
      "Training Epoch 133/200: 100%|███████████████████████████████████████████████████████████████████████████████████████████████████████████| 13/13 [00:00<00:00, 305.41batch/s]\n",
      "Training Epoch 134/200: 100%|███████████████████████████████████████████████████████████████████████████████████████████████████████████| 13/13 [00:00<00:00, 310.26batch/s]\n",
      "Training Epoch 135/200: 100%|███████████████████████████████████████████████████████████████████████████████████████████████████████████| 13/13 [00:00<00:00, 307.87batch/s]\n",
      "Training Epoch 136/200: 100%|███████████████████████████████████████████████████████████████████████████████████████████████████████████| 13/13 [00:00<00:00, 304.89batch/s]\n"
     ]
    },
    {
     "name": "stdout",
     "output_type": "stream",
     "text": [
      "Epoch [136/200], Train Loss: 0.0717, Train Accuracy: 100.00%\n"
     ]
    },
    {
     "name": "stderr",
     "output_type": "stream",
     "text": [
      "Training Epoch 137/200: 100%|███████████████████████████████████████████████████████████████████████████████████████████████████████████| 13/13 [00:00<00:00, 305.06batch/s]\n",
      "Training Epoch 138/200: 100%|███████████████████████████████████████████████████████████████████████████████████████████████████████████| 13/13 [00:00<00:00, 306.32batch/s]\n",
      "Training Epoch 139/200: 100%|███████████████████████████████████████████████████████████████████████████████████████████████████████████| 13/13 [00:00<00:00, 310.32batch/s]\n",
      "Training Epoch 140/200: 100%|███████████████████████████████████████████████████████████████████████████████████████████████████████████| 13/13 [00:00<00:00, 306.70batch/s]\n",
      "Training Epoch 141/200: 100%|███████████████████████████████████████████████████████████████████████████████████████████████████████████| 13/13 [00:00<00:00, 311.14batch/s]\n",
      "Training Epoch 142/200: 100%|███████████████████████████████████████████████████████████████████████████████████████████████████████████| 13/13 [00:00<00:00, 303.08batch/s]\n",
      "Training Epoch 143/200: 100%|███████████████████████████████████████████████████████████████████████████████████████████████████████████| 13/13 [00:00<00:00, 307.04batch/s]\n",
      "Training Epoch 144/200: 100%|███████████████████████████████████████████████████████████████████████████████████████████████████████████| 13/13 [00:00<00:00, 309.64batch/s]\n",
      "Training Epoch 145/200: 100%|███████████████████████████████████████████████████████████████████████████████████████████████████████████| 13/13 [00:00<00:00, 313.35batch/s]\n"
     ]
    },
    {
     "name": "stdout",
     "output_type": "stream",
     "text": [
      "Epoch [145/200], Train Loss: 0.0628, Train Accuracy: 100.00%\n"
     ]
    },
    {
     "name": "stderr",
     "output_type": "stream",
     "text": [
      "Training Epoch 146/200: 100%|███████████████████████████████████████████████████████████████████████████████████████████████████████████| 13/13 [00:00<00:00, 306.91batch/s]\n",
      "Training Epoch 147/200: 100%|███████████████████████████████████████████████████████████████████████████████████████████████████████████| 13/13 [00:00<00:00, 306.69batch/s]\n",
      "Training Epoch 148/200: 100%|███████████████████████████████████████████████████████████████████████████████████████████████████████████| 13/13 [00:00<00:00, 310.01batch/s]\n",
      "Training Epoch 149/200: 100%|███████████████████████████████████████████████████████████████████████████████████████████████████████████| 13/13 [00:00<00:00, 307.97batch/s]\n",
      "Training Epoch 150/200: 100%|███████████████████████████████████████████████████████████████████████████████████████████████████████████| 13/13 [00:00<00:00, 311.73batch/s]\n",
      "Training Epoch 151/200: 100%|███████████████████████████████████████████████████████████████████████████████████████████████████████████| 13/13 [00:00<00:00, 304.02batch/s]\n",
      "Training Epoch 152/200: 100%|███████████████████████████████████████████████████████████████████████████████████████████████████████████| 13/13 [00:00<00:00, 306.98batch/s]\n",
      "Training Epoch 153/200: 100%|███████████████████████████████████████████████████████████████████████████████████████████████████████████| 13/13 [00:00<00:00, 305.52batch/s]\n",
      "Training Epoch 154/200: 100%|███████████████████████████████████████████████████████████████████████████████████████████████████████████| 13/13 [00:00<00:00, 314.23batch/s]\n"
     ]
    },
    {
     "name": "stdout",
     "output_type": "stream",
     "text": [
      "Epoch [154/200], Train Loss: 0.0692, Train Accuracy: 99.75%\n"
     ]
    },
    {
     "name": "stderr",
     "output_type": "stream",
     "text": [
      "Training Epoch 155/200: 100%|███████████████████████████████████████████████████████████████████████████████████████████████████████████| 13/13 [00:00<00:00, 306.82batch/s]\n",
      "Training Epoch 156/200: 100%|███████████████████████████████████████████████████████████████████████████████████████████████████████████| 13/13 [00:00<00:00, 308.88batch/s]\n",
      "Training Epoch 157/200: 100%|███████████████████████████████████████████████████████████████████████████████████████████████████████████| 13/13 [00:00<00:00, 310.23batch/s]\n",
      "Training Epoch 158/200: 100%|███████████████████████████████████████████████████████████████████████████████████████████████████████████| 13/13 [00:00<00:00, 309.20batch/s]\n",
      "Training Epoch 159/200: 100%|███████████████████████████████████████████████████████████████████████████████████████████████████████████| 13/13 [00:00<00:00, 328.63batch/s]\n",
      "Training Epoch 160/200: 100%|███████████████████████████████████████████████████████████████████████████████████████████████████████████| 13/13 [00:00<00:00, 316.78batch/s]\n",
      "Training Epoch 161/200: 100%|███████████████████████████████████████████████████████████████████████████████████████████████████████████| 13/13 [00:00<00:00, 314.76batch/s]\n",
      "Training Epoch 162/200: 100%|███████████████████████████████████████████████████████████████████████████████████████████████████████████| 13/13 [00:00<00:00, 305.59batch/s]\n",
      "Training Epoch 163/200: 100%|███████████████████████████████████████████████████████████████████████████████████████████████████████████| 13/13 [00:00<00:00, 319.67batch/s]\n"
     ]
    },
    {
     "name": "stdout",
     "output_type": "stream",
     "text": [
      "Epoch [163/200], Train Loss: 0.0895, Train Accuracy: 99.62%\n"
     ]
    },
    {
     "name": "stderr",
     "output_type": "stream",
     "text": [
      "Training Epoch 164/200: 100%|███████████████████████████████████████████████████████████████████████████████████████████████████████████| 13/13 [00:00<00:00, 308.45batch/s]\n",
      "Training Epoch 165/200: 100%|███████████████████████████████████████████████████████████████████████████████████████████████████████████| 13/13 [00:00<00:00, 306.02batch/s]\n",
      "Training Epoch 166/200: 100%|███████████████████████████████████████████████████████████████████████████████████████████████████████████| 13/13 [00:00<00:00, 306.76batch/s]\n",
      "Training Epoch 167/200: 100%|███████████████████████████████████████████████████████████████████████████████████████████████████████████| 13/13 [00:00<00:00, 306.00batch/s]\n",
      "Training Epoch 168/200: 100%|███████████████████████████████████████████████████████████████████████████████████████████████████████████| 13/13 [00:00<00:00, 303.68batch/s]\n",
      "Training Epoch 169/200: 100%|███████████████████████████████████████████████████████████████████████████████████████████████████████████| 13/13 [00:00<00:00, 304.41batch/s]\n",
      "Training Epoch 170/200: 100%|███████████████████████████████████████████████████████████████████████████████████████████████████████████| 13/13 [00:00<00:00, 310.80batch/s]\n",
      "Training Epoch 171/200: 100%|███████████████████████████████████████████████████████████████████████████████████████████████████████████| 13/13 [00:00<00:00, 307.04batch/s]\n",
      "Training Epoch 172/200: 100%|███████████████████████████████████████████████████████████████████████████████████████████████████████████| 13/13 [00:00<00:00, 328.17batch/s]\n"
     ]
    },
    {
     "name": "stdout",
     "output_type": "stream",
     "text": [
      "Epoch [172/200], Train Loss: 0.0650, Train Accuracy: 99.88%\n"
     ]
    },
    {
     "name": "stderr",
     "output_type": "stream",
     "text": [
      "Training Epoch 173/200: 100%|███████████████████████████████████████████████████████████████████████████████████████████████████████████| 13/13 [00:00<00:00, 311.01batch/s]\n",
      "Training Epoch 174/200: 100%|███████████████████████████████████████████████████████████████████████████████████████████████████████████| 13/13 [00:00<00:00, 314.87batch/s]\n",
      "Training Epoch 175/200: 100%|███████████████████████████████████████████████████████████████████████████████████████████████████████████| 13/13 [00:00<00:00, 308.24batch/s]\n",
      "Training Epoch 176/200: 100%|███████████████████████████████████████████████████████████████████████████████████████████████████████████| 13/13 [00:00<00:00, 315.88batch/s]\n",
      "Training Epoch 177/200: 100%|███████████████████████████████████████████████████████████████████████████████████████████████████████████| 13/13 [00:00<00:00, 303.33batch/s]\n",
      "Training Epoch 178/200: 100%|███████████████████████████████████████████████████████████████████████████████████████████████████████████| 13/13 [00:00<00:00, 310.04batch/s]\n",
      "Training Epoch 179/200: 100%|███████████████████████████████████████████████████████████████████████████████████████████████████████████| 13/13 [00:00<00:00, 308.13batch/s]\n",
      "Training Epoch 180/200: 100%|███████████████████████████████████████████████████████████████████████████████████████████████████████████| 13/13 [00:00<00:00, 305.44batch/s]\n",
      "Training Epoch 181/200: 100%|███████████████████████████████████████████████████████████████████████████████████████████████████████████| 13/13 [00:00<00:00, 325.11batch/s]\n"
     ]
    },
    {
     "name": "stdout",
     "output_type": "stream",
     "text": [
      "Epoch [181/200], Train Loss: 0.0461, Train Accuracy: 100.00%\n"
     ]
    },
    {
     "name": "stderr",
     "output_type": "stream",
     "text": [
      "Training Epoch 182/200: 100%|███████████████████████████████████████████████████████████████████████████████████████████████████████████| 13/13 [00:00<00:00, 304.99batch/s]\n",
      "Training Epoch 183/200: 100%|███████████████████████████████████████████████████████████████████████████████████████████████████████████| 13/13 [00:00<00:00, 308.11batch/s]\n",
      "Training Epoch 184/200: 100%|███████████████████████████████████████████████████████████████████████████████████████████████████████████| 13/13 [00:00<00:00, 302.14batch/s]\n",
      "Training Epoch 185/200: 100%|███████████████████████████████████████████████████████████████████████████████████████████████████████████| 13/13 [00:00<00:00, 304.97batch/s]\n",
      "Training Epoch 186/200: 100%|███████████████████████████████████████████████████████████████████████████████████████████████████████████| 13/13 [00:00<00:00, 304.53batch/s]\n",
      "Training Epoch 187/200: 100%|███████████████████████████████████████████████████████████████████████████████████████████████████████████| 13/13 [00:00<00:00, 303.28batch/s]\n",
      "Training Epoch 188/200: 100%|███████████████████████████████████████████████████████████████████████████████████████████████████████████| 13/13 [00:00<00:00, 307.75batch/s]\n",
      "Training Epoch 189/200: 100%|███████████████████████████████████████████████████████████████████████████████████████████████████████████| 13/13 [00:00<00:00, 310.18batch/s]\n",
      "Training Epoch 190/200: 100%|███████████████████████████████████████████████████████████████████████████████████████████████████████████| 13/13 [00:00<00:00, 304.76batch/s]\n"
     ]
    },
    {
     "name": "stdout",
     "output_type": "stream",
     "text": [
      "Epoch [190/200], Train Loss: 0.0493, Train Accuracy: 100.00%\n"
     ]
    },
    {
     "name": "stderr",
     "output_type": "stream",
     "text": [
      "Training Epoch 191/200: 100%|███████████████████████████████████████████████████████████████████████████████████████████████████████████| 13/13 [00:00<00:00, 298.15batch/s]\n",
      "Training Epoch 192/200: 100%|███████████████████████████████████████████████████████████████████████████████████████████████████████████| 13/13 [00:00<00:00, 308.24batch/s]\n",
      "Training Epoch 193/200: 100%|███████████████████████████████████████████████████████████████████████████████████████████████████████████| 13/13 [00:00<00:00, 303.79batch/s]\n",
      "Training Epoch 194/200: 100%|███████████████████████████████████████████████████████████████████████████████████████████████████████████| 13/13 [00:00<00:00, 317.06batch/s]\n",
      "Training Epoch 195/200: 100%|███████████████████████████████████████████████████████████████████████████████████████████████████████████| 13/13 [00:00<00:00, 309.33batch/s]\n",
      "Training Epoch 196/200: 100%|███████████████████████████████████████████████████████████████████████████████████████████████████████████| 13/13 [00:00<00:00, 308.67batch/s]\n",
      "Training Epoch 197/200: 100%|███████████████████████████████████████████████████████████████████████████████████████████████████████████| 13/13 [00:00<00:00, 309.37batch/s]\n",
      "Training Epoch 198/200: 100%|███████████████████████████████████████████████████████████████████████████████████████████████████████████| 13/13 [00:00<00:00, 308.88batch/s]\n",
      "Training Epoch 199/200: 100%|███████████████████████████████████████████████████████████████████████████████████████████████████████████| 13/13 [00:00<00:00, 311.35batch/s]\n"
     ]
    },
    {
     "name": "stdout",
     "output_type": "stream",
     "text": [
      "Epoch [199/200], Train Loss: 0.0435, Train Accuracy: 99.75%\n"
     ]
    },
    {
     "name": "stderr",
     "output_type": "stream",
     "text": [
      "Training Epoch 200/200: 100%|███████████████████████████████████████████████████████████████████████████████████████████████████████████| 13/13 [00:00<00:00, 305.48batch/s]\n",
      "Evaluating on test set: 100%|██████████████████████████████████████████████████████████████████████████████████████████████████████████| 119/119 [00:07<00:00, 15.45batch/s]"
     ]
    },
    {
     "name": "stdout",
     "output_type": "stream",
     "text": [
      "Test Accuracy: 0.2500\n",
      "Classification Report:\n",
      "              precision    recall  f1-score   support\n",
      "\n",
      "           0       0.00      0.00      0.00      1900\n",
      "           1       0.00      0.00      0.00      1900\n",
      "           2       0.25      1.00      0.40      1900\n",
      "           3       0.00      0.00      0.00      1900\n",
      "\n",
      "    accuracy                           0.25      7600\n",
      "   macro avg       0.06      0.25      0.10      7600\n",
      "weighted avg       0.06      0.25      0.10      7600\n",
      "\n"
     ]
    },
    {
     "name": "stderr",
     "output_type": "stream",
     "text": [
      "\n",
      "/home/IAIS/rrao/.local/lib/python3.9/site-packages/sklearn/metrics/_classification.py:1517: UndefinedMetricWarning: Precision is ill-defined and being set to 0.0 in labels with no predicted samples. Use `zero_division` parameter to control this behavior.\n",
      "  _warn_prf(average, modifier, f\"{metric.capitalize()} is\", len(result))\n",
      "/home/IAIS/rrao/.local/lib/python3.9/site-packages/sklearn/metrics/_classification.py:1517: UndefinedMetricWarning: Precision is ill-defined and being set to 0.0 in labels with no predicted samples. Use `zero_division` parameter to control this behavior.\n",
      "  _warn_prf(average, modifier, f\"{metric.capitalize()} is\", len(result))\n",
      "/home/IAIS/rrao/.local/lib/python3.9/site-packages/sklearn/metrics/_classification.py:1517: UndefinedMetricWarning: Precision is ill-defined and being set to 0.0 in labels with no predicted samples. Use `zero_division` parameter to control this behavior.\n",
      "  _warn_prf(average, modifier, f\"{metric.capitalize()} is\", len(result))\n"
     ]
    },
    {
     "data": {
      "text/plain": [
       "0.25"
      ]
     },
     "execution_count": 25,
     "metadata": {},
     "output_type": "execute_result"
    }
   ],
   "source": [
    "model = CNNModel().to(device)\n",
    "evaluate_syn(model, synthetic_text_data, synthetic_labels, test_loader, device, num_epochs=200, lr=0.001)"
   ]
  },
  {
   "cell_type": "code",
   "execution_count": 38,
   "id": "3392832b-7f50-439f-9b8e-17db02e33fc2",
   "metadata": {
    "scrolled": true
   },
   "outputs": [
    {
     "name": "stderr",
     "output_type": "stream",
     "text": [
      "Training Epoch 1/200: 100%|█████████████████████████████████████████████████████████████████████████████████████████████████████████████| 13/13 [00:00<00:00, 226.36batch/s]\n"
     ]
    },
    {
     "name": "stdout",
     "output_type": "stream",
     "text": [
      "Epoch [1/200], Train Loss: 43.3000, Train Accuracy: 23.12%\n"
     ]
    },
    {
     "name": "stderr",
     "output_type": "stream",
     "text": [
      "Training Epoch 2/200: 100%|█████████████████████████████████████████████████████████████████████████████████████████████████████████████| 13/13 [00:00<00:00, 230.74batch/s]\n",
      "Training Epoch 3/200: 100%|█████████████████████████████████████████████████████████████████████████████████████████████████████████████| 13/13 [00:00<00:00, 257.79batch/s]\n",
      "Training Epoch 4/200: 100%|█████████████████████████████████████████████████████████████████████████████████████████████████████████████| 13/13 [00:00<00:00, 270.01batch/s]\n",
      "Training Epoch 5/200: 100%|█████████████████████████████████████████████████████████████████████████████████████████████████████████████| 13/13 [00:00<00:00, 279.25batch/s]\n",
      "Training Epoch 6/200: 100%|█████████████████████████████████████████████████████████████████████████████████████████████████████████████| 13/13 [00:00<00:00, 288.09batch/s]\n",
      "Training Epoch 7/200: 100%|█████████████████████████████████████████████████████████████████████████████████████████████████████████████| 13/13 [00:00<00:00, 298.96batch/s]\n",
      "Training Epoch 8/200: 100%|█████████████████████████████████████████████████████████████████████████████████████████████████████████████| 13/13 [00:00<00:00, 300.04batch/s]\n",
      "Training Epoch 9/200: 100%|█████████████████████████████████████████████████████████████████████████████████████████████████████████████| 13/13 [00:00<00:00, 300.25batch/s]\n",
      "Training Epoch 10/200: 100%|████████████████████████████████████████████████████████████████████████████████████████████████████████████| 13/13 [00:00<00:00, 307.51batch/s]\n"
     ]
    },
    {
     "name": "stdout",
     "output_type": "stream",
     "text": [
      "Epoch [10/200], Train Loss: 2.2411, Train Accuracy: 97.12%\n"
     ]
    },
    {
     "name": "stderr",
     "output_type": "stream",
     "text": [
      "Training Epoch 11/200: 100%|████████████████████████████████████████████████████████████████████████████████████████████████████████████| 13/13 [00:00<00:00, 307.14batch/s]\n",
      "Training Epoch 12/200: 100%|████████████████████████████████████████████████████████████████████████████████████████████████████████████| 13/13 [00:00<00:00, 312.20batch/s]\n",
      "Training Epoch 13/200: 100%|████████████████████████████████████████████████████████████████████████████████████████████████████████████| 13/13 [00:00<00:00, 304.08batch/s]\n",
      "Training Epoch 14/200: 100%|████████████████████████████████████████████████████████████████████████████████████████████████████████████| 13/13 [00:00<00:00, 308.23batch/s]\n",
      "Training Epoch 15/200: 100%|████████████████████████████████████████████████████████████████████████████████████████████████████████████| 13/13 [00:00<00:00, 304.65batch/s]\n",
      "Training Epoch 16/200: 100%|████████████████████████████████████████████████████████████████████████████████████████████████████████████| 13/13 [00:00<00:00, 309.91batch/s]\n",
      "Training Epoch 17/200: 100%|████████████████████████████████████████████████████████████████████████████████████████████████████████████| 13/13 [00:00<00:00, 305.42batch/s]\n",
      "Training Epoch 18/200: 100%|████████████████████████████████████████████████████████████████████████████████████████████████████████████| 13/13 [00:00<00:00, 305.89batch/s]\n",
      "Training Epoch 19/200: 100%|████████████████████████████████████████████████████████████████████████████████████████████████████████████| 13/13 [00:00<00:00, 304.11batch/s]\n"
     ]
    },
    {
     "name": "stdout",
     "output_type": "stream",
     "text": [
      "Epoch [19/200], Train Loss: 0.5581, Train Accuracy: 100.00%\n"
     ]
    },
    {
     "name": "stderr",
     "output_type": "stream",
     "text": [
      "Training Epoch 20/200: 100%|████████████████████████████████████████████████████████████████████████████████████████████████████████████| 13/13 [00:00<00:00, 303.68batch/s]\n",
      "Training Epoch 21/200: 100%|████████████████████████████████████████████████████████████████████████████████████████████████████████████| 13/13 [00:00<00:00, 302.93batch/s]\n",
      "Training Epoch 22/200: 100%|████████████████████████████████████████████████████████████████████████████████████████████████████████████| 13/13 [00:00<00:00, 311.51batch/s]\n",
      "Training Epoch 23/200: 100%|████████████████████████████████████████████████████████████████████████████████████████████████████████████| 13/13 [00:00<00:00, 304.03batch/s]\n",
      "Training Epoch 24/200: 100%|████████████████████████████████████████████████████████████████████████████████████████████████████████████| 13/13 [00:00<00:00, 307.02batch/s]\n",
      "Training Epoch 25/200: 100%|████████████████████████████████████████████████████████████████████████████████████████████████████████████| 13/13 [00:00<00:00, 306.17batch/s]\n",
      "Training Epoch 26/200: 100%|████████████████████████████████████████████████████████████████████████████████████████████████████████████| 13/13 [00:00<00:00, 306.66batch/s]\n",
      "Training Epoch 27/200: 100%|████████████████████████████████████████████████████████████████████████████████████████████████████████████| 13/13 [00:00<00:00, 307.75batch/s]\n",
      "Training Epoch 28/200: 100%|████████████████████████████████████████████████████████████████████████████████████████████████████████████| 13/13 [00:00<00:00, 312.56batch/s]\n"
     ]
    },
    {
     "name": "stdout",
     "output_type": "stream",
     "text": [
      "Epoch [28/200], Train Loss: 0.2387, Train Accuracy: 100.00%\n"
     ]
    },
    {
     "name": "stderr",
     "output_type": "stream",
     "text": [
      "Training Epoch 29/200: 100%|████████████████████████████████████████████████████████████████████████████████████████████████████████████| 13/13 [00:00<00:00, 301.94batch/s]\n",
      "Training Epoch 30/200: 100%|████████████████████████████████████████████████████████████████████████████████████████████████████████████| 13/13 [00:00<00:00, 306.03batch/s]\n",
      "Training Epoch 31/200: 100%|████████████████████████████████████████████████████████████████████████████████████████████████████████████| 13/13 [00:00<00:00, 310.26batch/s]\n",
      "Training Epoch 32/200: 100%|████████████████████████████████████████████████████████████████████████████████████████████████████████████| 13/13 [00:00<00:00, 303.26batch/s]\n",
      "Training Epoch 33/200: 100%|████████████████████████████████████████████████████████████████████████████████████████████████████████████| 13/13 [00:00<00:00, 309.83batch/s]\n",
      "Training Epoch 34/200: 100%|████████████████████████████████████████████████████████████████████████████████████████████████████████████| 13/13 [00:00<00:00, 308.10batch/s]\n",
      "Training Epoch 35/200: 100%|████████████████████████████████████████████████████████████████████████████████████████████████████████████| 13/13 [00:00<00:00, 308.83batch/s]\n",
      "Training Epoch 36/200: 100%|████████████████████████████████████████████████████████████████████████████████████████████████████████████| 13/13 [00:00<00:00, 316.24batch/s]\n",
      "Training Epoch 37/200: 100%|████████████████████████████████████████████████████████████████████████████████████████████████████████████| 13/13 [00:00<00:00, 315.44batch/s]\n"
     ]
    },
    {
     "name": "stdout",
     "output_type": "stream",
     "text": [
      "Epoch [37/200], Train Loss: 0.1306, Train Accuracy: 100.00%\n"
     ]
    },
    {
     "name": "stderr",
     "output_type": "stream",
     "text": [
      "Training Epoch 38/200: 100%|████████████████████████████████████████████████████████████████████████████████████████████████████████████| 13/13 [00:00<00:00, 310.17batch/s]\n",
      "Training Epoch 39/200: 100%|████████████████████████████████████████████████████████████████████████████████████████████████████████████| 13/13 [00:00<00:00, 316.12batch/s]\n",
      "Training Epoch 40/200: 100%|████████████████████████████████████████████████████████████████████████████████████████████████████████████| 13/13 [00:00<00:00, 314.46batch/s]\n",
      "Training Epoch 41/200: 100%|████████████████████████████████████████████████████████████████████████████████████████████████████████████| 13/13 [00:00<00:00, 312.61batch/s]\n",
      "Training Epoch 42/200: 100%|████████████████████████████████████████████████████████████████████████████████████████████████████████████| 13/13 [00:00<00:00, 317.09batch/s]\n",
      "Training Epoch 43/200: 100%|████████████████████████████████████████████████████████████████████████████████████████████████████████████| 13/13 [00:00<00:00, 311.34batch/s]\n",
      "Training Epoch 44/200: 100%|████████████████████████████████████████████████████████████████████████████████████████████████████████████| 13/13 [00:00<00:00, 317.49batch/s]\n",
      "Training Epoch 45/200: 100%|████████████████████████████████████████████████████████████████████████████████████████████████████████████| 13/13 [00:00<00:00, 309.44batch/s]\n",
      "Training Epoch 46/200: 100%|████████████████████████████████████████████████████████████████████████████████████████████████████████████| 13/13 [00:00<00:00, 321.95batch/s]\n"
     ]
    },
    {
     "name": "stdout",
     "output_type": "stream",
     "text": [
      "Epoch [46/200], Train Loss: 0.0831, Train Accuracy: 100.00%\n"
     ]
    },
    {
     "name": "stderr",
     "output_type": "stream",
     "text": [
      "Training Epoch 47/200: 100%|████████████████████████████████████████████████████████████████████████████████████████████████████████████| 13/13 [00:00<00:00, 308.17batch/s]\n",
      "Training Epoch 48/200: 100%|████████████████████████████████████████████████████████████████████████████████████████████████████████████| 13/13 [00:00<00:00, 314.87batch/s]\n",
      "Training Epoch 49/200: 100%|████████████████████████████████████████████████████████████████████████████████████████████████████████████| 13/13 [00:00<00:00, 303.46batch/s]\n",
      "Training Epoch 50/200: 100%|████████████████████████████████████████████████████████████████████████████████████████████████████████████| 13/13 [00:00<00:00, 310.81batch/s]\n",
      "Training Epoch 51/200: 100%|████████████████████████████████████████████████████████████████████████████████████████████████████████████| 13/13 [00:00<00:00, 304.77batch/s]\n",
      "Training Epoch 52/200: 100%|████████████████████████████████████████████████████████████████████████████████████████████████████████████| 13/13 [00:00<00:00, 307.88batch/s]\n",
      "Training Epoch 53/200: 100%|████████████████████████████████████████████████████████████████████████████████████████████████████████████| 13/13 [00:00<00:00, 305.51batch/s]\n",
      "Training Epoch 54/200: 100%|████████████████████████████████████████████████████████████████████████████████████████████████████████████| 13/13 [00:00<00:00, 307.95batch/s]\n",
      "Training Epoch 55/200: 100%|████████████████████████████████████████████████████████████████████████████████████████████████████████████| 13/13 [00:00<00:00, 305.66batch/s]\n"
     ]
    },
    {
     "name": "stdout",
     "output_type": "stream",
     "text": [
      "Epoch [55/200], Train Loss: 0.0581, Train Accuracy: 100.00%\n"
     ]
    },
    {
     "name": "stderr",
     "output_type": "stream",
     "text": [
      "Training Epoch 56/200: 100%|████████████████████████████████████████████████████████████████████████████████████████████████████████████| 13/13 [00:00<00:00, 308.80batch/s]\n",
      "Training Epoch 57/200: 100%|████████████████████████████████████████████████████████████████████████████████████████████████████████████| 13/13 [00:00<00:00, 305.64batch/s]\n",
      "Training Epoch 58/200: 100%|████████████████████████████████████████████████████████████████████████████████████████████████████████████| 13/13 [00:00<00:00, 314.76batch/s]\n",
      "Training Epoch 59/200: 100%|████████████████████████████████████████████████████████████████████████████████████████████████████████████| 13/13 [00:00<00:00, 305.47batch/s]\n",
      "Training Epoch 60/200: 100%|████████████████████████████████████████████████████████████████████████████████████████████████████████████| 13/13 [00:00<00:00, 304.81batch/s]\n",
      "Training Epoch 61/200: 100%|████████████████████████████████████████████████████████████████████████████████████████████████████████████| 13/13 [00:00<00:00, 313.01batch/s]\n",
      "Training Epoch 62/200: 100%|████████████████████████████████████████████████████████████████████████████████████████████████████████████| 13/13 [00:00<00:00, 316.46batch/s]\n",
      "Training Epoch 63/200: 100%|████████████████████████████████████████████████████████████████████████████████████████████████████████████| 13/13 [00:00<00:00, 303.77batch/s]\n",
      "Training Epoch 64/200: 100%|████████████████████████████████████████████████████████████████████████████████████████████████████████████| 13/13 [00:00<00:00, 313.12batch/s]\n"
     ]
    },
    {
     "name": "stdout",
     "output_type": "stream",
     "text": [
      "Epoch [64/200], Train Loss: 0.0427, Train Accuracy: 100.00%\n"
     ]
    },
    {
     "name": "stderr",
     "output_type": "stream",
     "text": [
      "Training Epoch 65/200: 100%|████████████████████████████████████████████████████████████████████████████████████████████████████████████| 13/13 [00:00<00:00, 307.67batch/s]\n",
      "Training Epoch 66/200: 100%|████████████████████████████████████████████████████████████████████████████████████████████████████████████| 13/13 [00:00<00:00, 315.05batch/s]\n",
      "Training Epoch 67/200: 100%|████████████████████████████████████████████████████████████████████████████████████████████████████████████| 13/13 [00:00<00:00, 312.61batch/s]\n",
      "Training Epoch 68/200: 100%|████████████████████████████████████████████████████████████████████████████████████████████████████████████| 13/13 [00:00<00:00, 313.14batch/s]\n",
      "Training Epoch 69/200: 100%|████████████████████████████████████████████████████████████████████████████████████████████████████████████| 13/13 [00:00<00:00, 310.88batch/s]\n",
      "Training Epoch 70/200: 100%|████████████████████████████████████████████████████████████████████████████████████████████████████████████| 13/13 [00:00<00:00, 309.79batch/s]\n",
      "Training Epoch 71/200: 100%|████████████████████████████████████████████████████████████████████████████████████████████████████████████| 13/13 [00:00<00:00, 310.56batch/s]\n",
      "Training Epoch 72/200: 100%|████████████████████████████████████████████████████████████████████████████████████████████████████████████| 13/13 [00:00<00:00, 309.91batch/s]\n",
      "Training Epoch 73/200: 100%|████████████████████████████████████████████████████████████████████████████████████████████████████████████| 13/13 [00:00<00:00, 317.97batch/s]\n"
     ]
    },
    {
     "name": "stdout",
     "output_type": "stream",
     "text": [
      "Epoch [73/200], Train Loss: 0.0317, Train Accuracy: 100.00%\n"
     ]
    },
    {
     "name": "stderr",
     "output_type": "stream",
     "text": [
      "Training Epoch 74/200: 100%|████████████████████████████████████████████████████████████████████████████████████████████████████████████| 13/13 [00:00<00:00, 306.72batch/s]\n",
      "Training Epoch 75/200: 100%|████████████████████████████████████████████████████████████████████████████████████████████████████████████| 13/13 [00:00<00:00, 309.26batch/s]\n",
      "Training Epoch 76/200: 100%|████████████████████████████████████████████████████████████████████████████████████████████████████████████| 13/13 [00:00<00:00, 311.47batch/s]\n",
      "Training Epoch 77/200: 100%|████████████████████████████████████████████████████████████████████████████████████████████████████████████| 13/13 [00:00<00:00, 310.13batch/s]\n",
      "Training Epoch 78/200: 100%|████████████████████████████████████████████████████████████████████████████████████████████████████████████| 13/13 [00:00<00:00, 306.23batch/s]\n",
      "Training Epoch 79/200: 100%|████████████████████████████████████████████████████████████████████████████████████████████████████████████| 13/13 [00:00<00:00, 303.73batch/s]\n",
      "Training Epoch 80/200: 100%|████████████████████████████████████████████████████████████████████████████████████████████████████████████| 13/13 [00:00<00:00, 314.20batch/s]\n",
      "Training Epoch 81/200: 100%|████████████████████████████████████████████████████████████████████████████████████████████████████████████| 13/13 [00:00<00:00, 308.02batch/s]\n",
      "Training Epoch 82/200: 100%|████████████████████████████████████████████████████████████████████████████████████████████████████████████| 13/13 [00:00<00:00, 310.90batch/s]\n"
     ]
    },
    {
     "name": "stdout",
     "output_type": "stream",
     "text": [
      "Epoch [82/200], Train Loss: 0.0255, Train Accuracy: 100.00%\n"
     ]
    },
    {
     "name": "stderr",
     "output_type": "stream",
     "text": [
      "Training Epoch 83/200: 100%|████████████████████████████████████████████████████████████████████████████████████████████████████████████| 13/13 [00:00<00:00, 296.62batch/s]\n",
      "Training Epoch 84/200: 100%|████████████████████████████████████████████████████████████████████████████████████████████████████████████| 13/13 [00:00<00:00, 304.95batch/s]\n",
      "Training Epoch 85/200: 100%|████████████████████████████████████████████████████████████████████████████████████████████████████████████| 13/13 [00:00<00:00, 300.28batch/s]\n",
      "Training Epoch 86/200: 100%|████████████████████████████████████████████████████████████████████████████████████████████████████████████| 13/13 [00:00<00:00, 309.07batch/s]\n",
      "Training Epoch 87/200: 100%|████████████████████████████████████████████████████████████████████████████████████████████████████████████| 13/13 [00:00<00:00, 309.69batch/s]\n",
      "Training Epoch 88/200: 100%|████████████████████████████████████████████████████████████████████████████████████████████████████████████| 13/13 [00:00<00:00, 309.46batch/s]\n",
      "Training Epoch 89/200: 100%|████████████████████████████████████████████████████████████████████████████████████████████████████████████| 13/13 [00:00<00:00, 310.50batch/s]\n",
      "Training Epoch 90/200: 100%|████████████████████████████████████████████████████████████████████████████████████████████████████████████| 13/13 [00:00<00:00, 320.50batch/s]\n",
      "Training Epoch 91/200: 100%|████████████████████████████████████████████████████████████████████████████████████████████████████████████| 13/13 [00:00<00:00, 312.07batch/s]\n"
     ]
    },
    {
     "name": "stdout",
     "output_type": "stream",
     "text": [
      "Epoch [91/200], Train Loss: 0.0201, Train Accuracy: 100.00%\n"
     ]
    },
    {
     "name": "stderr",
     "output_type": "stream",
     "text": [
      "Training Epoch 92/200: 100%|████████████████████████████████████████████████████████████████████████████████████████████████████████████| 13/13 [00:00<00:00, 307.48batch/s]\n",
      "Training Epoch 93/200: 100%|████████████████████████████████████████████████████████████████████████████████████████████████████████████| 13/13 [00:00<00:00, 309.49batch/s]\n",
      "Training Epoch 94/200: 100%|████████████████████████████████████████████████████████████████████████████████████████████████████████████| 13/13 [00:00<00:00, 317.06batch/s]\n",
      "Training Epoch 95/200: 100%|████████████████████████████████████████████████████████████████████████████████████████████████████████████| 13/13 [00:00<00:00, 309.13batch/s]\n",
      "Training Epoch 96/200: 100%|████████████████████████████████████████████████████████████████████████████████████████████████████████████| 13/13 [00:00<00:00, 307.32batch/s]\n",
      "Training Epoch 97/200: 100%|████████████████████████████████████████████████████████████████████████████████████████████████████████████| 13/13 [00:00<00:00, 307.97batch/s]\n",
      "Training Epoch 98/200: 100%|████████████████████████████████████████████████████████████████████████████████████████████████████████████| 13/13 [00:00<00:00, 313.94batch/s]\n",
      "Training Epoch 99/200: 100%|████████████████████████████████████████████████████████████████████████████████████████████████████████████| 13/13 [00:00<00:00, 310.88batch/s]\n",
      "Training Epoch 100/200: 100%|███████████████████████████████████████████████████████████████████████████████████████████████████████████| 13/13 [00:00<00:00, 312.62batch/s]\n"
     ]
    },
    {
     "name": "stdout",
     "output_type": "stream",
     "text": [
      "Epoch [100/200], Train Loss: 0.0168, Train Accuracy: 100.00%\n"
     ]
    },
    {
     "name": "stderr",
     "output_type": "stream",
     "text": [
      "Training Epoch 101/200: 100%|███████████████████████████████████████████████████████████████████████████████████████████████████████████| 13/13 [00:00<00:00, 311.52batch/s]\n",
      "Training Epoch 102/200: 100%|███████████████████████████████████████████████████████████████████████████████████████████████████████████| 13/13 [00:00<00:00, 312.62batch/s]\n",
      "Training Epoch 103/200: 100%|███████████████████████████████████████████████████████████████████████████████████████████████████████████| 13/13 [00:00<00:00, 314.34batch/s]\n",
      "Training Epoch 104/200: 100%|███████████████████████████████████████████████████████████████████████████████████████████████████████████| 13/13 [00:00<00:00, 313.48batch/s]\n",
      "Training Epoch 105/200: 100%|███████████████████████████████████████████████████████████████████████████████████████████████████████████| 13/13 [00:00<00:00, 315.23batch/s]\n",
      "Training Epoch 106/200: 100%|███████████████████████████████████████████████████████████████████████████████████████████████████████████| 13/13 [00:00<00:00, 311.67batch/s]\n",
      "Training Epoch 107/200: 100%|███████████████████████████████████████████████████████████████████████████████████████████████████████████| 13/13 [00:00<00:00, 315.27batch/s]\n",
      "Training Epoch 108/200: 100%|███████████████████████████████████████████████████████████████████████████████████████████████████████████| 13/13 [00:00<00:00, 309.96batch/s]\n",
      "Training Epoch 109/200: 100%|███████████████████████████████████████████████████████████████████████████████████████████████████████████| 13/13 [00:00<00:00, 316.34batch/s]\n"
     ]
    },
    {
     "name": "stdout",
     "output_type": "stream",
     "text": [
      "Epoch [109/200], Train Loss: 0.0140, Train Accuracy: 100.00%\n"
     ]
    },
    {
     "name": "stderr",
     "output_type": "stream",
     "text": [
      "Training Epoch 110/200: 100%|███████████████████████████████████████████████████████████████████████████████████████████████████████████| 13/13 [00:00<00:00, 306.46batch/s]\n",
      "Training Epoch 111/200: 100%|███████████████████████████████████████████████████████████████████████████████████████████████████████████| 13/13 [00:00<00:00, 305.70batch/s]\n",
      "Training Epoch 112/200: 100%|███████████████████████████████████████████████████████████████████████████████████████████████████████████| 13/13 [00:00<00:00, 317.21batch/s]\n",
      "Training Epoch 113/200: 100%|███████████████████████████████████████████████████████████████████████████████████████████████████████████| 13/13 [00:00<00:00, 312.62batch/s]\n",
      "Training Epoch 114/200: 100%|███████████████████████████████████████████████████████████████████████████████████████████████████████████| 13/13 [00:00<00:00, 308.89batch/s]\n",
      "Training Epoch 115/200: 100%|███████████████████████████████████████████████████████████████████████████████████████████████████████████| 13/13 [00:00<00:00, 306.46batch/s]\n",
      "Training Epoch 116/200: 100%|███████████████████████████████████████████████████████████████████████████████████████████████████████████| 13/13 [00:00<00:00, 305.04batch/s]\n",
      "Training Epoch 117/200: 100%|███████████████████████████████████████████████████████████████████████████████████████████████████████████| 13/13 [00:00<00:00, 310.97batch/s]\n",
      "Training Epoch 118/200: 100%|███████████████████████████████████████████████████████████████████████████████████████████████████████████| 13/13 [00:00<00:00, 307.90batch/s]\n"
     ]
    },
    {
     "name": "stdout",
     "output_type": "stream",
     "text": [
      "Epoch [118/200], Train Loss: 0.0117, Train Accuracy: 100.00%\n"
     ]
    },
    {
     "name": "stderr",
     "output_type": "stream",
     "text": [
      "Training Epoch 119/200: 100%|███████████████████████████████████████████████████████████████████████████████████████████████████████████| 13/13 [00:00<00:00, 304.32batch/s]\n",
      "Training Epoch 120/200: 100%|███████████████████████████████████████████████████████████████████████████████████████████████████████████| 13/13 [00:00<00:00, 304.35batch/s]\n",
      "Training Epoch 121/200: 100%|███████████████████████████████████████████████████████████████████████████████████████████████████████████| 13/13 [00:00<00:00, 313.72batch/s]\n",
      "Training Epoch 122/200: 100%|███████████████████████████████████████████████████████████████████████████████████████████████████████████| 13/13 [00:00<00:00, 313.17batch/s]\n",
      "Training Epoch 123/200: 100%|███████████████████████████████████████████████████████████████████████████████████████████████████████████| 13/13 [00:00<00:00, 313.77batch/s]\n",
      "Training Epoch 124/200: 100%|███████████████████████████████████████████████████████████████████████████████████████████████████████████| 13/13 [00:00<00:00, 306.70batch/s]\n",
      "Training Epoch 125/200: 100%|███████████████████████████████████████████████████████████████████████████████████████████████████████████| 13/13 [00:00<00:00, 311.29batch/s]\n",
      "Training Epoch 126/200: 100%|███████████████████████████████████████████████████████████████████████████████████████████████████████████| 13/13 [00:00<00:00, 310.45batch/s]\n",
      "Training Epoch 127/200: 100%|███████████████████████████████████████████████████████████████████████████████████████████████████████████| 13/13 [00:00<00:00, 309.48batch/s]\n"
     ]
    },
    {
     "name": "stdout",
     "output_type": "stream",
     "text": [
      "Epoch [127/200], Train Loss: 0.0100, Train Accuracy: 100.00%\n"
     ]
    },
    {
     "name": "stderr",
     "output_type": "stream",
     "text": [
      "Training Epoch 128/200: 100%|███████████████████████████████████████████████████████████████████████████████████████████████████████████| 13/13 [00:00<00:00, 302.07batch/s]\n",
      "Training Epoch 129/200: 100%|███████████████████████████████████████████████████████████████████████████████████████████████████████████| 13/13 [00:00<00:00, 301.85batch/s]\n",
      "Training Epoch 130/200: 100%|███████████████████████████████████████████████████████████████████████████████████████████████████████████| 13/13 [00:00<00:00, 305.98batch/s]\n",
      "Training Epoch 131/200: 100%|███████████████████████████████████████████████████████████████████████████████████████████████████████████| 13/13 [00:00<00:00, 303.61batch/s]\n",
      "Training Epoch 132/200: 100%|███████████████████████████████████████████████████████████████████████████████████████████████████████████| 13/13 [00:00<00:00, 308.48batch/s]\n",
      "Training Epoch 133/200: 100%|███████████████████████████████████████████████████████████████████████████████████████████████████████████| 13/13 [00:00<00:00, 301.25batch/s]\n",
      "Training Epoch 134/200: 100%|███████████████████████████████████████████████████████████████████████████████████████████████████████████| 13/13 [00:00<00:00, 311.73batch/s]\n",
      "Training Epoch 135/200: 100%|███████████████████████████████████████████████████████████████████████████████████████████████████████████| 13/13 [00:00<00:00, 307.97batch/s]\n",
      "Training Epoch 136/200: 100%|███████████████████████████████████████████████████████████████████████████████████████████████████████████| 13/13 [00:00<00:00, 307.30batch/s]\n"
     ]
    },
    {
     "name": "stdout",
     "output_type": "stream",
     "text": [
      "Epoch [136/200], Train Loss: 0.0086, Train Accuracy: 100.00%\n"
     ]
    },
    {
     "name": "stderr",
     "output_type": "stream",
     "text": [
      "Training Epoch 137/200: 100%|███████████████████████████████████████████████████████████████████████████████████████████████████████████| 13/13 [00:00<00:00, 310.70batch/s]\n",
      "Training Epoch 138/200: 100%|███████████████████████████████████████████████████████████████████████████████████████████████████████████| 13/13 [00:00<00:00, 316.86batch/s]\n",
      "Training Epoch 139/200: 100%|███████████████████████████████████████████████████████████████████████████████████████████████████████████| 13/13 [00:00<00:00, 310.93batch/s]\n",
      "Training Epoch 140/200: 100%|███████████████████████████████████████████████████████████████████████████████████████████████████████████| 13/13 [00:00<00:00, 311.53batch/s]\n",
      "Training Epoch 141/200: 100%|███████████████████████████████████████████████████████████████████████████████████████████████████████████| 13/13 [00:00<00:00, 311.04batch/s]\n",
      "Training Epoch 142/200: 100%|███████████████████████████████████████████████████████████████████████████████████████████████████████████| 13/13 [00:00<00:00, 313.86batch/s]\n",
      "Training Epoch 143/200: 100%|███████████████████████████████████████████████████████████████████████████████████████████████████████████| 13/13 [00:00<00:00, 312.72batch/s]\n",
      "Training Epoch 144/200: 100%|███████████████████████████████████████████████████████████████████████████████████████████████████████████| 13/13 [00:00<00:00, 313.29batch/s]\n",
      "Training Epoch 145/200: 100%|███████████████████████████████████████████████████████████████████████████████████████████████████████████| 13/13 [00:00<00:00, 307.19batch/s]\n"
     ]
    },
    {
     "name": "stdout",
     "output_type": "stream",
     "text": [
      "Epoch [145/200], Train Loss: 0.0075, Train Accuracy: 100.00%\n"
     ]
    },
    {
     "name": "stderr",
     "output_type": "stream",
     "text": [
      "Training Epoch 146/200: 100%|███████████████████████████████████████████████████████████████████████████████████████████████████████████| 13/13 [00:00<00:00, 308.59batch/s]\n",
      "Training Epoch 147/200: 100%|███████████████████████████████████████████████████████████████████████████████████████████████████████████| 13/13 [00:00<00:00, 313.73batch/s]\n",
      "Training Epoch 148/200: 100%|███████████████████████████████████████████████████████████████████████████████████████████████████████████| 13/13 [00:00<00:00, 314.12batch/s]\n",
      "Training Epoch 149/200: 100%|███████████████████████████████████████████████████████████████████████████████████████████████████████████| 13/13 [00:00<00:00, 309.13batch/s]\n",
      "Training Epoch 150/200: 100%|███████████████████████████████████████████████████████████████████████████████████████████████████████████| 13/13 [00:00<00:00, 310.67batch/s]\n",
      "Training Epoch 151/200: 100%|███████████████████████████████████████████████████████████████████████████████████████████████████████████| 13/13 [00:00<00:00, 307.59batch/s]\n",
      "Training Epoch 152/200: 100%|███████████████████████████████████████████████████████████████████████████████████████████████████████████| 13/13 [00:00<00:00, 310.84batch/s]\n",
      "Training Epoch 153/200: 100%|███████████████████████████████████████████████████████████████████████████████████████████████████████████| 13/13 [00:00<00:00, 312.86batch/s]\n",
      "Training Epoch 154/200: 100%|███████████████████████████████████████████████████████████████████████████████████████████████████████████| 13/13 [00:00<00:00, 313.05batch/s]\n"
     ]
    },
    {
     "name": "stdout",
     "output_type": "stream",
     "text": [
      "Epoch [154/200], Train Loss: 0.0065, Train Accuracy: 100.00%\n"
     ]
    },
    {
     "name": "stderr",
     "output_type": "stream",
     "text": [
      "Training Epoch 155/200: 100%|███████████████████████████████████████████████████████████████████████████████████████████████████████████| 13/13 [00:00<00:00, 309.54batch/s]\n",
      "Training Epoch 156/200: 100%|███████████████████████████████████████████████████████████████████████████████████████████████████████████| 13/13 [00:00<00:00, 315.58batch/s]\n",
      "Training Epoch 157/200: 100%|███████████████████████████████████████████████████████████████████████████████████████████████████████████| 13/13 [00:00<00:00, 312.05batch/s]\n",
      "Training Epoch 158/200: 100%|███████████████████████████████████████████████████████████████████████████████████████████████████████████| 13/13 [00:00<00:00, 315.15batch/s]\n",
      "Training Epoch 159/200: 100%|███████████████████████████████████████████████████████████████████████████████████████████████████████████| 13/13 [00:00<00:00, 312.98batch/s]\n",
      "Training Epoch 160/200: 100%|███████████████████████████████████████████████████████████████████████████████████████████████████████████| 13/13 [00:00<00:00, 315.93batch/s]\n",
      "Training Epoch 161/200: 100%|███████████████████████████████████████████████████████████████████████████████████████████████████████████| 13/13 [00:00<00:00, 311.30batch/s]\n",
      "Training Epoch 162/200: 100%|███████████████████████████████████████████████████████████████████████████████████████████████████████████| 13/13 [00:00<00:00, 314.54batch/s]\n",
      "Training Epoch 163/200: 100%|███████████████████████████████████████████████████████████████████████████████████████████████████████████| 13/13 [00:00<00:00, 311.22batch/s]\n"
     ]
    },
    {
     "name": "stdout",
     "output_type": "stream",
     "text": [
      "Epoch [163/200], Train Loss: 0.0057, Train Accuracy: 100.00%\n"
     ]
    },
    {
     "name": "stderr",
     "output_type": "stream",
     "text": [
      "Training Epoch 164/200: 100%|███████████████████████████████████████████████████████████████████████████████████████████████████████████| 13/13 [00:00<00:00, 314.78batch/s]\n",
      "Training Epoch 165/200: 100%|███████████████████████████████████████████████████████████████████████████████████████████████████████████| 13/13 [00:00<00:00, 321.94batch/s]\n",
      "Training Epoch 166/200: 100%|███████████████████████████████████████████████████████████████████████████████████████████████████████████| 13/13 [00:00<00:00, 311.06batch/s]\n",
      "Training Epoch 167/200: 100%|███████████████████████████████████████████████████████████████████████████████████████████████████████████| 13/13 [00:00<00:00, 313.62batch/s]\n",
      "Training Epoch 168/200: 100%|███████████████████████████████████████████████████████████████████████████████████████████████████████████| 13/13 [00:00<00:00, 310.86batch/s]\n",
      "Training Epoch 169/200: 100%|███████████████████████████████████████████████████████████████████████████████████████████████████████████| 13/13 [00:00<00:00, 311.35batch/s]\n",
      "Training Epoch 170/200: 100%|███████████████████████████████████████████████████████████████████████████████████████████████████████████| 13/13 [00:00<00:00, 309.30batch/s]\n",
      "Training Epoch 171/200: 100%|███████████████████████████████████████████████████████████████████████████████████████████████████████████| 13/13 [00:00<00:00, 310.58batch/s]\n",
      "Training Epoch 172/200: 100%|███████████████████████████████████████████████████████████████████████████████████████████████████████████| 13/13 [00:00<00:00, 306.19batch/s]\n"
     ]
    },
    {
     "name": "stdout",
     "output_type": "stream",
     "text": [
      "Epoch [172/200], Train Loss: 0.0050, Train Accuracy: 100.00%\n"
     ]
    },
    {
     "name": "stderr",
     "output_type": "stream",
     "text": [
      "Training Epoch 173/200: 100%|███████████████████████████████████████████████████████████████████████████████████████████████████████████| 13/13 [00:00<00:00, 308.56batch/s]\n",
      "Training Epoch 174/200: 100%|███████████████████████████████████████████████████████████████████████████████████████████████████████████| 13/13 [00:00<00:00, 306.64batch/s]\n",
      "Training Epoch 175/200: 100%|███████████████████████████████████████████████████████████████████████████████████████████████████████████| 13/13 [00:00<00:00, 303.06batch/s]\n",
      "Training Epoch 176/200: 100%|███████████████████████████████████████████████████████████████████████████████████████████████████████████| 13/13 [00:00<00:00, 306.75batch/s]\n",
      "Training Epoch 177/200: 100%|███████████████████████████████████████████████████████████████████████████████████████████████████████████| 13/13 [00:00<00:00, 307.55batch/s]\n",
      "Training Epoch 178/200: 100%|███████████████████████████████████████████████████████████████████████████████████████████████████████████| 13/13 [00:00<00:00, 314.44batch/s]\n",
      "Training Epoch 179/200: 100%|███████████████████████████████████████████████████████████████████████████████████████████████████████████| 13/13 [00:00<00:00, 310.09batch/s]\n",
      "Training Epoch 180/200: 100%|███████████████████████████████████████████████████████████████████████████████████████████████████████████| 13/13 [00:00<00:00, 306.11batch/s]\n",
      "Training Epoch 181/200: 100%|███████████████████████████████████████████████████████████████████████████████████████████████████████████| 13/13 [00:00<00:00, 315.85batch/s]\n"
     ]
    },
    {
     "name": "stdout",
     "output_type": "stream",
     "text": [
      "Epoch [181/200], Train Loss: 0.0045, Train Accuracy: 100.00%\n"
     ]
    },
    {
     "name": "stderr",
     "output_type": "stream",
     "text": [
      "Training Epoch 182/200: 100%|███████████████████████████████████████████████████████████████████████████████████████████████████████████| 13/13 [00:00<00:00, 308.74batch/s]\n",
      "Training Epoch 183/200: 100%|███████████████████████████████████████████████████████████████████████████████████████████████████████████| 13/13 [00:00<00:00, 313.50batch/s]\n",
      "Training Epoch 184/200: 100%|███████████████████████████████████████████████████████████████████████████████████████████████████████████| 13/13 [00:00<00:00, 310.17batch/s]\n",
      "Training Epoch 185/200: 100%|███████████████████████████████████████████████████████████████████████████████████████████████████████████| 13/13 [00:00<00:00, 311.71batch/s]\n",
      "Training Epoch 186/200: 100%|███████████████████████████████████████████████████████████████████████████████████████████████████████████| 13/13 [00:00<00:00, 307.24batch/s]\n",
      "Training Epoch 187/200: 100%|███████████████████████████████████████████████████████████████████████████████████████████████████████████| 13/13 [00:00<00:00, 310.12batch/s]\n",
      "Training Epoch 188/200: 100%|███████████████████████████████████████████████████████████████████████████████████████████████████████████| 13/13 [00:00<00:00, 311.80batch/s]\n",
      "Training Epoch 189/200: 100%|███████████████████████████████████████████████████████████████████████████████████████████████████████████| 13/13 [00:00<00:00, 308.38batch/s]\n",
      "Training Epoch 190/200: 100%|███████████████████████████████████████████████████████████████████████████████████████████████████████████| 13/13 [00:00<00:00, 314.76batch/s]\n"
     ]
    },
    {
     "name": "stdout",
     "output_type": "stream",
     "text": [
      "Epoch [190/200], Train Loss: 0.0040, Train Accuracy: 100.00%\n"
     ]
    },
    {
     "name": "stderr",
     "output_type": "stream",
     "text": [
      "Training Epoch 191/200: 100%|███████████████████████████████████████████████████████████████████████████████████████████████████████████| 13/13 [00:00<00:00, 306.65batch/s]\n",
      "Training Epoch 192/200: 100%|███████████████████████████████████████████████████████████████████████████████████████████████████████████| 13/13 [00:00<00:00, 307.17batch/s]\n",
      "Training Epoch 193/200: 100%|███████████████████████████████████████████████████████████████████████████████████████████████████████████| 13/13 [00:00<00:00, 306.02batch/s]\n",
      "Training Epoch 194/200: 100%|███████████████████████████████████████████████████████████████████████████████████████████████████████████| 13/13 [00:00<00:00, 305.67batch/s]\n",
      "Training Epoch 195/200: 100%|███████████████████████████████████████████████████████████████████████████████████████████████████████████| 13/13 [00:00<00:00, 308.58batch/s]\n",
      "Training Epoch 196/200: 100%|███████████████████████████████████████████████████████████████████████████████████████████████████████████| 13/13 [00:00<00:00, 308.29batch/s]\n",
      "Training Epoch 197/200: 100%|███████████████████████████████████████████████████████████████████████████████████████████████████████████| 13/13 [00:00<00:00, 299.84batch/s]\n",
      "Training Epoch 198/200: 100%|███████████████████████████████████████████████████████████████████████████████████████████████████████████| 13/13 [00:00<00:00, 300.60batch/s]\n",
      "Training Epoch 199/200: 100%|███████████████████████████████████████████████████████████████████████████████████████████████████████████| 13/13 [00:00<00:00, 304.14batch/s]\n"
     ]
    },
    {
     "name": "stdout",
     "output_type": "stream",
     "text": [
      "Epoch [199/200], Train Loss: 0.0036, Train Accuracy: 100.00%\n"
     ]
    },
    {
     "name": "stderr",
     "output_type": "stream",
     "text": [
      "Training Epoch 200/200: 100%|███████████████████████████████████████████████████████████████████████████████████████████████████████████| 13/13 [00:00<00:00, 298.55batch/s]\n",
      "Evaluating on test set: 100%|██████████████████████████████████████████████████████████████████████████████████████████████████████████| 119/119 [00:07<00:00, 15.31batch/s]"
     ]
    },
    {
     "name": "stdout",
     "output_type": "stream",
     "text": [
      "Test Accuracy: 0.6942\n",
      "Classification Report:\n",
      "              precision    recall  f1-score   support\n",
      "\n",
      "           0       0.68      0.81      0.74      1900\n",
      "           1       0.89      0.74      0.81      1900\n",
      "           2       0.55      0.81      0.66      1900\n",
      "           3       0.81      0.42      0.56      1900\n",
      "\n",
      "    accuracy                           0.69      7600\n",
      "   macro avg       0.73      0.69      0.69      7600\n",
      "weighted avg       0.73      0.69      0.69      7600\n",
      "\n"
     ]
    },
    {
     "name": "stderr",
     "output_type": "stream",
     "text": [
      "\n"
     ]
    },
    {
     "data": {
      "text/plain": [
       "0.6942105263157895"
      ]
     },
     "execution_count": 38,
     "metadata": {},
     "output_type": "execute_result"
    }
   ],
   "source": [
    "model = CNNModel().to(device)\n",
    "evaluate_syn(model, synthetic_text_data, synthetic_labels, test_loader, device, num_epochs=200, lr=0.001)"
   ]
  },
  {
   "cell_type": "code",
   "execution_count": 39,
   "id": "bf18217f-d423-4acf-be87-e9b3390570c4",
   "metadata": {
    "scrolled": true
   },
   "outputs": [
    {
     "name": "stderr",
     "output_type": "stream",
     "text": [
      "Training Epoch 1/20: 100%|██████████████████████████████████████████████████████████████████████████████████████████████████████████████| 13/13 [00:00<00:00, 213.30batch/s]\n"
     ]
    },
    {
     "name": "stdout",
     "output_type": "stream",
     "text": [
      "Epoch [1/20], Train Loss: 1.4209, Train Accuracy: 95.38%\n"
     ]
    },
    {
     "name": "stderr",
     "output_type": "stream",
     "text": [
      "Training Epoch 2/20: 100%|██████████████████████████████████████████████████████████████████████████████████████████████████████████████| 13/13 [00:00<00:00, 233.10batch/s]\n",
      "Training Epoch 3/20: 100%|██████████████████████████████████████████████████████████████████████████████████████████████████████████████| 13/13 [00:00<00:00, 245.87batch/s]\n",
      "Training Epoch 4/20: 100%|██████████████████████████████████████████████████████████████████████████████████████████████████████████████| 13/13 [00:00<00:00, 269.29batch/s]\n",
      "Training Epoch 5/20: 100%|██████████████████████████████████████████████████████████████████████████████████████████████████████████████| 13/13 [00:00<00:00, 278.75batch/s]\n",
      "Training Epoch 6/20: 100%|██████████████████████████████████████████████████████████████████████████████████████████████████████████████| 13/13 [00:00<00:00, 281.93batch/s]\n",
      "Training Epoch 7/20: 100%|██████████████████████████████████████████████████████████████████████████████████████████████████████████████| 13/13 [00:00<00:00, 288.05batch/s]\n",
      "Training Epoch 8/20: 100%|██████████████████████████████████████████████████████████████████████████████████████████████████████████████| 13/13 [00:00<00:00, 290.15batch/s]\n",
      "Training Epoch 9/20: 100%|██████████████████████████████████████████████████████████████████████████████████████████████████████████████| 13/13 [00:00<00:00, 306.90batch/s]\n",
      "Training Epoch 10/20: 100%|█████████████████████████████████████████████████████████████████████████████████████████████████████████████| 13/13 [00:00<00:00, 297.30batch/s]\n"
     ]
    },
    {
     "name": "stdout",
     "output_type": "stream",
     "text": [
      "Epoch [10/20], Train Loss: 0.0037, Train Accuracy: 100.00%\n"
     ]
    },
    {
     "name": "stderr",
     "output_type": "stream",
     "text": [
      "Training Epoch 11/20: 100%|█████████████████████████████████████████████████████████████████████████████████████████████████████████████| 13/13 [00:00<00:00, 298.79batch/s]\n",
      "Training Epoch 12/20: 100%|█████████████████████████████████████████████████████████████████████████████████████████████████████████████| 13/13 [00:00<00:00, 300.74batch/s]\n",
      "Training Epoch 13/20: 100%|█████████████████████████████████████████████████████████████████████████████████████████████████████████████| 13/13 [00:00<00:00, 302.35batch/s]\n",
      "Training Epoch 14/20: 100%|█████████████████████████████████████████████████████████████████████████████████████████████████████████████| 13/13 [00:00<00:00, 300.62batch/s]\n",
      "Training Epoch 15/20: 100%|█████████████████████████████████████████████████████████████████████████████████████████████████████████████| 13/13 [00:00<00:00, 296.84batch/s]\n",
      "Training Epoch 16/20: 100%|█████████████████████████████████████████████████████████████████████████████████████████████████████████████| 13/13 [00:00<00:00, 304.38batch/s]\n",
      "Training Epoch 17/20: 100%|█████████████████████████████████████████████████████████████████████████████████████████████████████████████| 13/13 [00:00<00:00, 296.97batch/s]\n",
      "Training Epoch 18/20: 100%|█████████████████████████████████████████████████████████████████████████████████████████████████████████████| 13/13 [00:00<00:00, 301.31batch/s]\n",
      "Training Epoch 19/20: 100%|█████████████████████████████████████████████████████████████████████████████████████████████████████████████| 13/13 [00:00<00:00, 300.61batch/s]\n"
     ]
    },
    {
     "name": "stdout",
     "output_type": "stream",
     "text": [
      "Epoch [19/20], Train Loss: 0.0031, Train Accuracy: 100.00%\n"
     ]
    },
    {
     "name": "stderr",
     "output_type": "stream",
     "text": [
      "Training Epoch 20/20: 100%|█████████████████████████████████████████████████████████████████████████████████████████████████████████████| 13/13 [00:00<00:00, 297.38batch/s]\n",
      "Evaluating on test set: 100%|████████████████████████████████████████████████████████████████████████████████████████████████████████| 1875/1875 [02:00<00:00, 15.59batch/s]\n"
     ]
    },
    {
     "name": "stdout",
     "output_type": "stream",
     "text": [
      "Test Accuracy: 0.6023\n",
      "Classification Report:\n",
      "              precision    recall  f1-score   support\n",
      "\n",
      "           0       0.55      0.86      0.67     30000\n",
      "           1       0.96      0.33      0.49     30000\n",
      "           2       0.78      0.37      0.50     30000\n",
      "           3       0.53      0.86      0.65     30000\n",
      "\n",
      "    accuracy                           0.60    120000\n",
      "   macro avg       0.70      0.60      0.58    120000\n",
      "weighted avg       0.70      0.60      0.58    120000\n",
      "\n"
     ]
    },
    {
     "data": {
      "text/plain": [
       "0.602325"
      ]
     },
     "execution_count": 39,
     "metadata": {},
     "output_type": "execute_result"
    }
   ],
   "source": [
    "evaluate_syn(model, synthetic_text_data, synthetic_labels, train_loader, device, num_epochs=20, lr=0.001)"
   ]
  },
  {
   "cell_type": "code",
   "execution_count": null,
   "id": "c5cc2d25-77bc-4186-9f6a-ccf9ce39d622",
   "metadata": {},
   "outputs": [],
   "source": []
  },
  {
   "cell_type": "code",
   "execution_count": 36,
   "id": "4833bd47-f8a6-451c-a347-7edf58aa2509",
   "metadata": {},
   "outputs": [
    {
     "name": "stderr",
     "output_type": "stream",
     "text": [
      "Training Epoch 1/300: 100%|█████████████████████████████████████████████████████████████████████████████████████████████████████████████| 13/13 [00:00<00:00, 225.66batch/s]\n"
     ]
    },
    {
     "name": "stdout",
     "output_type": "stream",
     "text": [
      "Epoch [1/300], Train Loss: 37.0137, Train Accuracy: 28.50%\n"
     ]
    },
    {
     "name": "stderr",
     "output_type": "stream",
     "text": [
      "Training Epoch 2/300: 100%|█████████████████████████████████████████████████████████████████████████████████████████████████████████████| 13/13 [00:00<00:00, 233.10batch/s]\n",
      "Training Epoch 3/300: 100%|█████████████████████████████████████████████████████████████████████████████████████████████████████████████| 13/13 [00:00<00:00, 249.75batch/s]\n",
      "Training Epoch 4/300: 100%|█████████████████████████████████████████████████████████████████████████████████████████████████████████████| 13/13 [00:00<00:00, 261.53batch/s]\n",
      "Training Epoch 5/300: 100%|█████████████████████████████████████████████████████████████████████████████████████████████████████████████| 13/13 [00:00<00:00, 273.39batch/s]\n",
      "Training Epoch 6/300: 100%|█████████████████████████████████████████████████████████████████████████████████████████████████████████████| 13/13 [00:00<00:00, 279.14batch/s]\n",
      "Training Epoch 7/300: 100%|█████████████████████████████████████████████████████████████████████████████████████████████████████████████| 13/13 [00:00<00:00, 293.44batch/s]\n",
      "Training Epoch 8/300: 100%|█████████████████████████████████████████████████████████████████████████████████████████████████████████████| 13/13 [00:00<00:00, 295.55batch/s]\n",
      "Training Epoch 9/300: 100%|█████████████████████████████████████████████████████████████████████████████████████████████████████████████| 13/13 [00:00<00:00, 304.46batch/s]\n",
      "Training Epoch 10/300: 100%|████████████████████████████████████████████████████████████████████████████████████████████████████████████| 13/13 [00:00<00:00, 301.14batch/s]\n"
     ]
    },
    {
     "name": "stdout",
     "output_type": "stream",
     "text": [
      "Epoch [10/300], Train Loss: 1.9907, Train Accuracy: 98.00%\n"
     ]
    },
    {
     "name": "stderr",
     "output_type": "stream",
     "text": [
      "Training Epoch 11/300: 100%|████████████████████████████████████████████████████████████████████████████████████████████████████████████| 13/13 [00:00<00:00, 298.75batch/s]\n",
      "Training Epoch 12/300: 100%|████████████████████████████████████████████████████████████████████████████████████████████████████████████| 13/13 [00:00<00:00, 302.42batch/s]\n",
      "Training Epoch 13/300: 100%|████████████████████████████████████████████████████████████████████████████████████████████████████████████| 13/13 [00:00<00:00, 306.75batch/s]\n",
      "Training Epoch 14/300: 100%|████████████████████████████████████████████████████████████████████████████████████████████████████████████| 13/13 [00:00<00:00, 307.62batch/s]\n",
      "Training Epoch 15/300: 100%|████████████████████████████████████████████████████████████████████████████████████████████████████████████| 13/13 [00:00<00:00, 306.21batch/s]\n",
      "Training Epoch 16/300: 100%|████████████████████████████████████████████████████████████████████████████████████████████████████████████| 13/13 [00:00<00:00, 310.04batch/s]\n",
      "Training Epoch 17/300: 100%|████████████████████████████████████████████████████████████████████████████████████████████████████████████| 13/13 [00:00<00:00, 310.43batch/s]\n",
      "Training Epoch 18/300: 100%|████████████████████████████████████████████████████████████████████████████████████████████████████████████| 13/13 [00:00<00:00, 310.41batch/s]\n",
      "Training Epoch 19/300: 100%|████████████████████████████████████████████████████████████████████████████████████████████████████████████| 13/13 [00:00<00:00, 310.93batch/s]\n"
     ]
    },
    {
     "name": "stdout",
     "output_type": "stream",
     "text": [
      "Epoch [19/300], Train Loss: 0.5518, Train Accuracy: 100.00%\n"
     ]
    },
    {
     "name": "stderr",
     "output_type": "stream",
     "text": [
      "Training Epoch 20/300: 100%|████████████████████████████████████████████████████████████████████████████████████████████████████████████| 13/13 [00:00<00:00, 308.01batch/s]\n",
      "Training Epoch 21/300: 100%|████████████████████████████████████████████████████████████████████████████████████████████████████████████| 13/13 [00:00<00:00, 306.21batch/s]\n",
      "Training Epoch 22/300: 100%|████████████████████████████████████████████████████████████████████████████████████████████████████████████| 13/13 [00:00<00:00, 310.08batch/s]\n",
      "Training Epoch 23/300: 100%|████████████████████████████████████████████████████████████████████████████████████████████████████████████| 13/13 [00:00<00:00, 312.20batch/s]\n",
      "Training Epoch 24/300: 100%|████████████████████████████████████████████████████████████████████████████████████████████████████████████| 13/13 [00:00<00:00, 308.73batch/s]\n",
      "Training Epoch 25/300: 100%|████████████████████████████████████████████████████████████████████████████████████████████████████████████| 13/13 [00:00<00:00, 310.39batch/s]\n",
      "Training Epoch 26/300: 100%|████████████████████████████████████████████████████████████████████████████████████████████████████████████| 13/13 [00:00<00:00, 310.19batch/s]\n",
      "Training Epoch 27/300: 100%|████████████████████████████████████████████████████████████████████████████████████████████████████████████| 13/13 [00:00<00:00, 311.30batch/s]\n",
      "Training Epoch 28/300: 100%|████████████████████████████████████████████████████████████████████████████████████████████████████████████| 13/13 [00:00<00:00, 313.01batch/s]\n"
     ]
    },
    {
     "name": "stdout",
     "output_type": "stream",
     "text": [
      "Epoch [28/300], Train Loss: 0.2404, Train Accuracy: 100.00%\n"
     ]
    },
    {
     "name": "stderr",
     "output_type": "stream",
     "text": [
      "Training Epoch 29/300: 100%|████████████████████████████████████████████████████████████████████████████████████████████████████████████| 13/13 [00:00<00:00, 308.12batch/s]\n",
      "Training Epoch 30/300: 100%|████████████████████████████████████████████████████████████████████████████████████████████████████████████| 13/13 [00:00<00:00, 304.09batch/s]\n",
      "Training Epoch 31/300: 100%|████████████████████████████████████████████████████████████████████████████████████████████████████████████| 13/13 [00:00<00:00, 303.61batch/s]\n",
      "Training Epoch 32/300: 100%|████████████████████████████████████████████████████████████████████████████████████████████████████████████| 13/13 [00:00<00:00, 300.45batch/s]\n",
      "Training Epoch 33/300: 100%|████████████████████████████████████████████████████████████████████████████████████████████████████████████| 13/13 [00:00<00:00, 303.19batch/s]\n",
      "Training Epoch 34/300: 100%|████████████████████████████████████████████████████████████████████████████████████████████████████████████| 13/13 [00:00<00:00, 305.34batch/s]\n",
      "Training Epoch 35/300: 100%|████████████████████████████████████████████████████████████████████████████████████████████████████████████| 13/13 [00:00<00:00, 302.91batch/s]\n",
      "Training Epoch 36/300: 100%|████████████████████████████████████████████████████████████████████████████████████████████████████████████| 13/13 [00:00<00:00, 297.90batch/s]\n",
      "Training Epoch 37/300: 100%|████████████████████████████████████████████████████████████████████████████████████████████████████████████| 13/13 [00:00<00:00, 302.99batch/s]\n"
     ]
    },
    {
     "name": "stdout",
     "output_type": "stream",
     "text": [
      "Epoch [37/300], Train Loss: 0.1307, Train Accuracy: 100.00%\n"
     ]
    },
    {
     "name": "stderr",
     "output_type": "stream",
     "text": [
      "Training Epoch 38/300: 100%|████████████████████████████████████████████████████████████████████████████████████████████████████████████| 13/13 [00:00<00:00, 299.15batch/s]\n",
      "Training Epoch 39/300: 100%|████████████████████████████████████████████████████████████████████████████████████████████████████████████| 13/13 [00:00<00:00, 303.99batch/s]\n",
      "Training Epoch 40/300: 100%|████████████████████████████████████████████████████████████████████████████████████████████████████████████| 13/13 [00:00<00:00, 298.18batch/s]\n",
      "Training Epoch 41/300: 100%|████████████████████████████████████████████████████████████████████████████████████████████████████████████| 13/13 [00:00<00:00, 301.10batch/s]\n",
      "Training Epoch 42/300: 100%|████████████████████████████████████████████████████████████████████████████████████████████████████████████| 13/13 [00:00<00:00, 295.62batch/s]\n",
      "Training Epoch 43/300: 100%|████████████████████████████████████████████████████████████████████████████████████████████████████████████| 13/13 [00:00<00:00, 294.11batch/s]\n",
      "Training Epoch 44/300: 100%|████████████████████████████████████████████████████████████████████████████████████████████████████████████| 13/13 [00:00<00:00, 299.94batch/s]\n",
      "Training Epoch 45/300: 100%|████████████████████████████████████████████████████████████████████████████████████████████████████████████| 13/13 [00:00<00:00, 303.93batch/s]\n",
      "Training Epoch 46/300: 100%|████████████████████████████████████████████████████████████████████████████████████████████████████████████| 13/13 [00:00<00:00, 302.01batch/s]\n"
     ]
    },
    {
     "name": "stdout",
     "output_type": "stream",
     "text": [
      "Epoch [46/300], Train Loss: 0.0840, Train Accuracy: 100.00%\n"
     ]
    },
    {
     "name": "stderr",
     "output_type": "stream",
     "text": [
      "Training Epoch 47/300: 100%|████████████████████████████████████████████████████████████████████████████████████████████████████████████| 13/13 [00:00<00:00, 299.20batch/s]\n",
      "Training Epoch 48/300: 100%|████████████████████████████████████████████████████████████████████████████████████████████████████████████| 13/13 [00:00<00:00, 300.12batch/s]\n",
      "Training Epoch 49/300: 100%|████████████████████████████████████████████████████████████████████████████████████████████████████████████| 13/13 [00:00<00:00, 298.91batch/s]\n",
      "Training Epoch 50/300: 100%|████████████████████████████████████████████████████████████████████████████████████████████████████████████| 13/13 [00:00<00:00, 302.75batch/s]\n",
      "Training Epoch 51/300: 100%|████████████████████████████████████████████████████████████████████████████████████████████████████████████| 13/13 [00:00<00:00, 300.13batch/s]\n",
      "Training Epoch 52/300: 100%|████████████████████████████████████████████████████████████████████████████████████████████████████████████| 13/13 [00:00<00:00, 300.84batch/s]\n",
      "Training Epoch 53/300: 100%|████████████████████████████████████████████████████████████████████████████████████████████████████████████| 13/13 [00:00<00:00, 304.59batch/s]\n",
      "Training Epoch 54/300: 100%|████████████████████████████████████████████████████████████████████████████████████████████████████████████| 13/13 [00:00<00:00, 302.40batch/s]\n",
      "Training Epoch 55/300: 100%|████████████████████████████████████████████████████████████████████████████████████████████████████████████| 13/13 [00:00<00:00, 306.59batch/s]\n"
     ]
    },
    {
     "name": "stdout",
     "output_type": "stream",
     "text": [
      "Epoch [55/300], Train Loss: 0.0571, Train Accuracy: 100.00%\n"
     ]
    },
    {
     "name": "stderr",
     "output_type": "stream",
     "text": [
      "Training Epoch 56/300: 100%|████████████████████████████████████████████████████████████████████████████████████████████████████████████| 13/13 [00:00<00:00, 299.87batch/s]\n",
      "Training Epoch 57/300: 100%|████████████████████████████████████████████████████████████████████████████████████████████████████████████| 13/13 [00:00<00:00, 308.74batch/s]\n",
      "Training Epoch 58/300: 100%|████████████████████████████████████████████████████████████████████████████████████████████████████████████| 13/13 [00:00<00:00, 307.56batch/s]\n",
      "Training Epoch 59/300: 100%|████████████████████████████████████████████████████████████████████████████████████████████████████████████| 13/13 [00:00<00:00, 305.32batch/s]\n",
      "Training Epoch 60/300: 100%|████████████████████████████████████████████████████████████████████████████████████████████████████████████| 13/13 [00:00<00:00, 311.79batch/s]\n",
      "Training Epoch 61/300: 100%|████████████████████████████████████████████████████████████████████████████████████████████████████████████| 13/13 [00:00<00:00, 311.21batch/s]\n",
      "Training Epoch 62/300: 100%|████████████████████████████████████████████████████████████████████████████████████████████████████████████| 13/13 [00:00<00:00, 314.40batch/s]\n",
      "Training Epoch 63/300: 100%|████████████████████████████████████████████████████████████████████████████████████████████████████████████| 13/13 [00:00<00:00, 307.64batch/s]\n",
      "Training Epoch 64/300: 100%|████████████████████████████████████████████████████████████████████████████████████████████████████████████| 13/13 [00:00<00:00, 309.65batch/s]\n"
     ]
    },
    {
     "name": "stdout",
     "output_type": "stream",
     "text": [
      "Epoch [64/300], Train Loss: 0.0419, Train Accuracy: 100.00%\n"
     ]
    },
    {
     "name": "stderr",
     "output_type": "stream",
     "text": [
      "Training Epoch 65/300: 100%|████████████████████████████████████████████████████████████████████████████████████████████████████████████| 13/13 [00:00<00:00, 311.28batch/s]\n",
      "Training Epoch 66/300: 100%|████████████████████████████████████████████████████████████████████████████████████████████████████████████| 13/13 [00:00<00:00, 307.47batch/s]\n",
      "Training Epoch 67/300: 100%|████████████████████████████████████████████████████████████████████████████████████████████████████████████| 13/13 [00:00<00:00, 304.76batch/s]\n",
      "Training Epoch 68/300: 100%|████████████████████████████████████████████████████████████████████████████████████████████████████████████| 13/13 [00:00<00:00, 303.61batch/s]\n",
      "Training Epoch 69/300: 100%|████████████████████████████████████████████████████████████████████████████████████████████████████████████| 13/13 [00:00<00:00, 308.26batch/s]\n",
      "Training Epoch 70/300: 100%|████████████████████████████████████████████████████████████████████████████████████████████████████████████| 13/13 [00:00<00:00, 313.23batch/s]\n",
      "Training Epoch 71/300: 100%|████████████████████████████████████████████████████████████████████████████████████████████████████████████| 13/13 [00:00<00:00, 315.43batch/s]\n",
      "Training Epoch 72/300: 100%|████████████████████████████████████████████████████████████████████████████████████████████████████████████| 13/13 [00:00<00:00, 310.89batch/s]\n",
      "Training Epoch 73/300: 100%|████████████████████████████████████████████████████████████████████████████████████████████████████████████| 13/13 [00:00<00:00, 312.62batch/s]\n"
     ]
    },
    {
     "name": "stdout",
     "output_type": "stream",
     "text": [
      "Epoch [73/300], Train Loss: 0.0314, Train Accuracy: 100.00%\n"
     ]
    },
    {
     "name": "stderr",
     "output_type": "stream",
     "text": [
      "Training Epoch 74/300: 100%|████████████████████████████████████████████████████████████████████████████████████████████████████████████| 13/13 [00:00<00:00, 309.62batch/s]\n",
      "Training Epoch 75/300: 100%|████████████████████████████████████████████████████████████████████████████████████████████████████████████| 13/13 [00:00<00:00, 309.15batch/s]\n",
      "Training Epoch 76/300: 100%|████████████████████████████████████████████████████████████████████████████████████████████████████████████| 13/13 [00:00<00:00, 311.87batch/s]\n",
      "Training Epoch 77/300: 100%|████████████████████████████████████████████████████████████████████████████████████████████████████████████| 13/13 [00:00<00:00, 312.74batch/s]\n",
      "Training Epoch 78/300: 100%|████████████████████████████████████████████████████████████████████████████████████████████████████████████| 13/13 [00:00<00:00, 307.87batch/s]\n",
      "Training Epoch 79/300: 100%|████████████████████████████████████████████████████████████████████████████████████████████████████████████| 13/13 [00:00<00:00, 312.26batch/s]\n",
      "Training Epoch 80/300: 100%|████████████████████████████████████████████████████████████████████████████████████████████████████████████| 13/13 [00:00<00:00, 314.73batch/s]\n",
      "Training Epoch 81/300: 100%|████████████████████████████████████████████████████████████████████████████████████████████████████████████| 13/13 [00:00<00:00, 308.67batch/s]\n",
      "Training Epoch 82/300: 100%|████████████████████████████████████████████████████████████████████████████████████████████████████████████| 13/13 [00:00<00:00, 310.41batch/s]\n"
     ]
    },
    {
     "name": "stdout",
     "output_type": "stream",
     "text": [
      "Epoch [82/300], Train Loss: 0.0248, Train Accuracy: 100.00%\n"
     ]
    },
    {
     "name": "stderr",
     "output_type": "stream",
     "text": [
      "Training Epoch 83/300: 100%|████████████████████████████████████████████████████████████████████████████████████████████████████████████| 13/13 [00:00<00:00, 300.51batch/s]\n",
      "Training Epoch 84/300: 100%|████████████████████████████████████████████████████████████████████████████████████████████████████████████| 13/13 [00:00<00:00, 314.28batch/s]\n",
      "Training Epoch 85/300: 100%|████████████████████████████████████████████████████████████████████████████████████████████████████████████| 13/13 [00:00<00:00, 308.75batch/s]\n",
      "Training Epoch 86/300: 100%|████████████████████████████████████████████████████████████████████████████████████████████████████████████| 13/13 [00:00<00:00, 303.92batch/s]\n",
      "Training Epoch 87/300: 100%|████████████████████████████████████████████████████████████████████████████████████████████████████████████| 13/13 [00:00<00:00, 306.11batch/s]\n",
      "Training Epoch 88/300: 100%|████████████████████████████████████████████████████████████████████████████████████████████████████████████| 13/13 [00:00<00:00, 306.25batch/s]\n",
      "Training Epoch 89/300: 100%|████████████████████████████████████████████████████████████████████████████████████████████████████████████| 13/13 [00:00<00:00, 305.75batch/s]\n",
      "Training Epoch 90/300: 100%|████████████████████████████████████████████████████████████████████████████████████████████████████████████| 13/13 [00:00<00:00, 306.41batch/s]\n",
      "Training Epoch 91/300: 100%|████████████████████████████████████████████████████████████████████████████████████████████████████████████| 13/13 [00:00<00:00, 301.32batch/s]\n"
     ]
    },
    {
     "name": "stdout",
     "output_type": "stream",
     "text": [
      "Epoch [91/300], Train Loss: 0.0198, Train Accuracy: 100.00%\n"
     ]
    },
    {
     "name": "stderr",
     "output_type": "stream",
     "text": [
      "Training Epoch 92/300: 100%|████████████████████████████████████████████████████████████████████████████████████████████████████████████| 13/13 [00:00<00:00, 299.28batch/s]\n",
      "Training Epoch 93/300: 100%|████████████████████████████████████████████████████████████████████████████████████████████████████████████| 13/13 [00:00<00:00, 299.74batch/s]\n",
      "Training Epoch 94/300: 100%|████████████████████████████████████████████████████████████████████████████████████████████████████████████| 13/13 [00:00<00:00, 302.42batch/s]\n",
      "Training Epoch 95/300: 100%|████████████████████████████████████████████████████████████████████████████████████████████████████████████| 13/13 [00:00<00:00, 301.32batch/s]\n",
      "Training Epoch 96/300: 100%|████████████████████████████████████████████████████████████████████████████████████████████████████████████| 13/13 [00:00<00:00, 298.60batch/s]\n",
      "Training Epoch 97/300: 100%|████████████████████████████████████████████████████████████████████████████████████████████████████████████| 13/13 [00:00<00:00, 300.64batch/s]\n",
      "Training Epoch 98/300: 100%|████████████████████████████████████████████████████████████████████████████████████████████████████████████| 13/13 [00:00<00:00, 299.66batch/s]\n",
      "Training Epoch 99/300: 100%|████████████████████████████████████████████████████████████████████████████████████████████████████████████| 13/13 [00:00<00:00, 299.43batch/s]\n",
      "Training Epoch 100/300: 100%|███████████████████████████████████████████████████████████████████████████████████████████████████████████| 13/13 [00:00<00:00, 298.36batch/s]\n"
     ]
    },
    {
     "name": "stdout",
     "output_type": "stream",
     "text": [
      "Epoch [100/300], Train Loss: 0.0161, Train Accuracy: 100.00%\n"
     ]
    },
    {
     "name": "stderr",
     "output_type": "stream",
     "text": [
      "Training Epoch 101/300: 100%|███████████████████████████████████████████████████████████████████████████████████████████████████████████| 13/13 [00:00<00:00, 298.06batch/s]\n",
      "Training Epoch 102/300: 100%|███████████████████████████████████████████████████████████████████████████████████████████████████████████| 13/13 [00:00<00:00, 298.89batch/s]\n",
      "Training Epoch 103/300: 100%|███████████████████████████████████████████████████████████████████████████████████████████████████████████| 13/13 [00:00<00:00, 297.36batch/s]\n",
      "Training Epoch 104/300: 100%|███████████████████████████████████████████████████████████████████████████████████████████████████████████| 13/13 [00:00<00:00, 302.12batch/s]\n",
      "Training Epoch 105/300: 100%|███████████████████████████████████████████████████████████████████████████████████████████████████████████| 13/13 [00:00<00:00, 301.74batch/s]\n",
      "Training Epoch 106/300: 100%|███████████████████████████████████████████████████████████████████████████████████████████████████████████| 13/13 [00:00<00:00, 300.76batch/s]\n",
      "Training Epoch 107/300: 100%|███████████████████████████████████████████████████████████████████████████████████████████████████████████| 13/13 [00:00<00:00, 300.15batch/s]\n",
      "Training Epoch 108/300: 100%|███████████████████████████████████████████████████████████████████████████████████████████████████████████| 13/13 [00:00<00:00, 300.13batch/s]\n",
      "Training Epoch 109/300: 100%|███████████████████████████████████████████████████████████████████████████████████████████████████████████| 13/13 [00:00<00:00, 302.49batch/s]\n"
     ]
    },
    {
     "name": "stdout",
     "output_type": "stream",
     "text": [
      "Epoch [109/300], Train Loss: 0.0134, Train Accuracy: 100.00%\n"
     ]
    },
    {
     "name": "stderr",
     "output_type": "stream",
     "text": [
      "Training Epoch 110/300: 100%|███████████████████████████████████████████████████████████████████████████████████████████████████████████| 13/13 [00:00<00:00, 297.21batch/s]\n",
      "Training Epoch 111/300: 100%|███████████████████████████████████████████████████████████████████████████████████████████████████████████| 13/13 [00:00<00:00, 300.98batch/s]\n",
      "Training Epoch 112/300: 100%|███████████████████████████████████████████████████████████████████████████████████████████████████████████| 13/13 [00:00<00:00, 299.54batch/s]\n",
      "Training Epoch 113/300: 100%|███████████████████████████████████████████████████████████████████████████████████████████████████████████| 13/13 [00:00<00:00, 301.98batch/s]\n",
      "Training Epoch 114/300: 100%|███████████████████████████████████████████████████████████████████████████████████████████████████████████| 13/13 [00:00<00:00, 297.51batch/s]\n",
      "Training Epoch 115/300: 100%|███████████████████████████████████████████████████████████████████████████████████████████████████████████| 13/13 [00:00<00:00, 300.63batch/s]\n",
      "Training Epoch 116/300: 100%|███████████████████████████████████████████████████████████████████████████████████████████████████████████| 13/13 [00:00<00:00, 298.53batch/s]\n",
      "Training Epoch 117/300: 100%|███████████████████████████████████████████████████████████████████████████████████████████████████████████| 13/13 [00:00<00:00, 303.74batch/s]\n",
      "Training Epoch 118/300: 100%|███████████████████████████████████████████████████████████████████████████████████████████████████████████| 13/13 [00:00<00:00, 300.05batch/s]\n"
     ]
    },
    {
     "name": "stdout",
     "output_type": "stream",
     "text": [
      "Epoch [118/300], Train Loss: 0.0114, Train Accuracy: 100.00%\n"
     ]
    },
    {
     "name": "stderr",
     "output_type": "stream",
     "text": [
      "Training Epoch 119/300: 100%|███████████████████████████████████████████████████████████████████████████████████████████████████████████| 13/13 [00:00<00:00, 296.80batch/s]\n",
      "Training Epoch 120/300: 100%|███████████████████████████████████████████████████████████████████████████████████████████████████████████| 13/13 [00:00<00:00, 301.26batch/s]\n",
      "Training Epoch 121/300: 100%|███████████████████████████████████████████████████████████████████████████████████████████████████████████| 13/13 [00:00<00:00, 301.03batch/s]\n",
      "Training Epoch 122/300: 100%|███████████████████████████████████████████████████████████████████████████████████████████████████████████| 13/13 [00:00<00:00, 300.81batch/s]\n",
      "Training Epoch 123/300: 100%|███████████████████████████████████████████████████████████████████████████████████████████████████████████| 13/13 [00:00<00:00, 301.01batch/s]\n",
      "Training Epoch 124/300: 100%|███████████████████████████████████████████████████████████████████████████████████████████████████████████| 13/13 [00:00<00:00, 303.73batch/s]\n",
      "Training Epoch 125/300: 100%|███████████████████████████████████████████████████████████████████████████████████████████████████████████| 13/13 [00:00<00:00, 307.58batch/s]\n",
      "Training Epoch 126/300: 100%|███████████████████████████████████████████████████████████████████████████████████████████████████████████| 13/13 [00:00<00:00, 305.98batch/s]\n",
      "Training Epoch 127/300: 100%|███████████████████████████████████████████████████████████████████████████████████████████████████████████| 13/13 [00:00<00:00, 306.48batch/s]\n"
     ]
    },
    {
     "name": "stdout",
     "output_type": "stream",
     "text": [
      "Epoch [127/300], Train Loss: 0.0095, Train Accuracy: 100.00%\n"
     ]
    },
    {
     "name": "stderr",
     "output_type": "stream",
     "text": [
      "Training Epoch 128/300: 100%|███████████████████████████████████████████████████████████████████████████████████████████████████████████| 13/13 [00:00<00:00, 292.05batch/s]\n",
      "Training Epoch 129/300: 100%|███████████████████████████████████████████████████████████████████████████████████████████████████████████| 13/13 [00:00<00:00, 300.83batch/s]\n",
      "Training Epoch 130/300: 100%|███████████████████████████████████████████████████████████████████████████████████████████████████████████| 13/13 [00:00<00:00, 299.47batch/s]\n",
      "Training Epoch 131/300: 100%|███████████████████████████████████████████████████████████████████████████████████████████████████████████| 13/13 [00:00<00:00, 304.61batch/s]\n",
      "Training Epoch 132/300: 100%|███████████████████████████████████████████████████████████████████████████████████████████████████████████| 13/13 [00:00<00:00, 301.24batch/s]\n",
      "Training Epoch 133/300: 100%|███████████████████████████████████████████████████████████████████████████████████████████████████████████| 13/13 [00:00<00:00, 300.55batch/s]\n",
      "Training Epoch 134/300: 100%|███████████████████████████████████████████████████████████████████████████████████████████████████████████| 13/13 [00:00<00:00, 303.56batch/s]\n",
      "Training Epoch 135/300: 100%|███████████████████████████████████████████████████████████████████████████████████████████████████████████| 13/13 [00:00<00:00, 301.99batch/s]\n",
      "Training Epoch 136/300: 100%|███████████████████████████████████████████████████████████████████████████████████████████████████████████| 13/13 [00:00<00:00, 301.69batch/s]\n"
     ]
    },
    {
     "name": "stdout",
     "output_type": "stream",
     "text": [
      "Epoch [136/300], Train Loss: 0.0081, Train Accuracy: 100.00%\n"
     ]
    },
    {
     "name": "stderr",
     "output_type": "stream",
     "text": [
      "Training Epoch 137/300: 100%|███████████████████████████████████████████████████████████████████████████████████████████████████████████| 13/13 [00:00<00:00, 299.21batch/s]\n",
      "Training Epoch 138/300: 100%|███████████████████████████████████████████████████████████████████████████████████████████████████████████| 13/13 [00:00<00:00, 300.57batch/s]\n",
      "Training Epoch 139/300: 100%|███████████████████████████████████████████████████████████████████████████████████████████████████████████| 13/13 [00:00<00:00, 302.97batch/s]\n",
      "Training Epoch 140/300: 100%|███████████████████████████████████████████████████████████████████████████████████████████████████████████| 13/13 [00:00<00:00, 306.29batch/s]\n",
      "Training Epoch 141/300: 100%|███████████████████████████████████████████████████████████████████████████████████████████████████████████| 13/13 [00:00<00:00, 301.89batch/s]\n",
      "Training Epoch 142/300: 100%|███████████████████████████████████████████████████████████████████████████████████████████████████████████| 13/13 [00:00<00:00, 303.05batch/s]\n",
      "Training Epoch 143/300: 100%|███████████████████████████████████████████████████████████████████████████████████████████████████████████| 13/13 [00:00<00:00, 306.01batch/s]\n",
      "Training Epoch 144/300: 100%|███████████████████████████████████████████████████████████████████████████████████████████████████████████| 13/13 [00:00<00:00, 310.78batch/s]\n",
      "Training Epoch 145/300: 100%|███████████████████████████████████████████████████████████████████████████████████████████████████████████| 13/13 [00:00<00:00, 305.21batch/s]\n"
     ]
    },
    {
     "name": "stdout",
     "output_type": "stream",
     "text": [
      "Epoch [145/300], Train Loss: 0.0070, Train Accuracy: 100.00%\n"
     ]
    },
    {
     "name": "stderr",
     "output_type": "stream",
     "text": [
      "Training Epoch 146/300: 100%|███████████████████████████████████████████████████████████████████████████████████████████████████████████| 13/13 [00:00<00:00, 297.40batch/s]\n",
      "Training Epoch 147/300: 100%|███████████████████████████████████████████████████████████████████████████████████████████████████████████| 13/13 [00:00<00:00, 301.13batch/s]\n",
      "Training Epoch 148/300: 100%|███████████████████████████████████████████████████████████████████████████████████████████████████████████| 13/13 [00:00<00:00, 300.89batch/s]\n",
      "Training Epoch 149/300: 100%|███████████████████████████████████████████████████████████████████████████████████████████████████████████| 13/13 [00:00<00:00, 305.05batch/s]\n",
      "Training Epoch 150/300: 100%|███████████████████████████████████████████████████████████████████████████████████████████████████████████| 13/13 [00:00<00:00, 300.56batch/s]\n",
      "Training Epoch 151/300: 100%|███████████████████████████████████████████████████████████████████████████████████████████████████████████| 13/13 [00:00<00:00, 302.26batch/s]\n",
      "Training Epoch 152/300: 100%|███████████████████████████████████████████████████████████████████████████████████████████████████████████| 13/13 [00:00<00:00, 301.62batch/s]\n",
      "Training Epoch 153/300: 100%|███████████████████████████████████████████████████████████████████████████████████████████████████████████| 13/13 [00:00<00:00, 300.22batch/s]\n",
      "Training Epoch 154/300: 100%|███████████████████████████████████████████████████████████████████████████████████████████████████████████| 13/13 [00:00<00:00, 300.05batch/s]\n"
     ]
    },
    {
     "name": "stdout",
     "output_type": "stream",
     "text": [
      "Epoch [154/300], Train Loss: 0.0061, Train Accuracy: 100.00%\n"
     ]
    },
    {
     "name": "stderr",
     "output_type": "stream",
     "text": [
      "Training Epoch 155/300: 100%|███████████████████████████████████████████████████████████████████████████████████████████████████████████| 13/13 [00:00<00:00, 298.49batch/s]\n",
      "Training Epoch 156/300: 100%|███████████████████████████████████████████████████████████████████████████████████████████████████████████| 13/13 [00:00<00:00, 302.43batch/s]\n",
      "Training Epoch 157/300: 100%|███████████████████████████████████████████████████████████████████████████████████████████████████████████| 13/13 [00:00<00:00, 299.02batch/s]\n",
      "Training Epoch 158/300: 100%|███████████████████████████████████████████████████████████████████████████████████████████████████████████| 13/13 [00:00<00:00, 301.21batch/s]\n",
      "Training Epoch 159/300: 100%|███████████████████████████████████████████████████████████████████████████████████████████████████████████| 13/13 [00:00<00:00, 300.18batch/s]\n",
      "Training Epoch 160/300: 100%|███████████████████████████████████████████████████████████████████████████████████████████████████████████| 13/13 [00:00<00:00, 301.19batch/s]\n",
      "Training Epoch 161/300: 100%|███████████████████████████████████████████████████████████████████████████████████████████████████████████| 13/13 [00:00<00:00, 300.33batch/s]\n",
      "Training Epoch 162/300: 100%|███████████████████████████████████████████████████████████████████████████████████████████████████████████| 13/13 [00:00<00:00, 296.42batch/s]\n",
      "Training Epoch 163/300: 100%|███████████████████████████████████████████████████████████████████████████████████████████████████████████| 13/13 [00:00<00:00, 300.92batch/s]\n"
     ]
    },
    {
     "name": "stdout",
     "output_type": "stream",
     "text": [
      "Epoch [163/300], Train Loss: 0.0054, Train Accuracy: 100.00%\n"
     ]
    },
    {
     "name": "stderr",
     "output_type": "stream",
     "text": [
      "Training Epoch 164/300: 100%|███████████████████████████████████████████████████████████████████████████████████████████████████████████| 13/13 [00:00<00:00, 299.75batch/s]\n",
      "Training Epoch 165/300: 100%|███████████████████████████████████████████████████████████████████████████████████████████████████████████| 13/13 [00:00<00:00, 297.69batch/s]\n",
      "Training Epoch 166/300: 100%|███████████████████████████████████████████████████████████████████████████████████████████████████████████| 13/13 [00:00<00:00, 300.23batch/s]\n",
      "Training Epoch 167/300: 100%|███████████████████████████████████████████████████████████████████████████████████████████████████████████| 13/13 [00:00<00:00, 298.07batch/s]\n",
      "Training Epoch 168/300: 100%|███████████████████████████████████████████████████████████████████████████████████████████████████████████| 13/13 [00:00<00:00, 298.03batch/s]\n",
      "Training Epoch 169/300: 100%|███████████████████████████████████████████████████████████████████████████████████████████████████████████| 13/13 [00:00<00:00, 298.28batch/s]\n",
      "Training Epoch 170/300: 100%|███████████████████████████████████████████████████████████████████████████████████████████████████████████| 13/13 [00:00<00:00, 301.57batch/s]\n",
      "Training Epoch 171/300: 100%|███████████████████████████████████████████████████████████████████████████████████████████████████████████| 13/13 [00:00<00:00, 302.44batch/s]\n",
      "Training Epoch 172/300: 100%|███████████████████████████████████████████████████████████████████████████████████████████████████████████| 13/13 [00:00<00:00, 300.77batch/s]\n"
     ]
    },
    {
     "name": "stdout",
     "output_type": "stream",
     "text": [
      "Epoch [172/300], Train Loss: 0.0048, Train Accuracy: 100.00%\n"
     ]
    },
    {
     "name": "stderr",
     "output_type": "stream",
     "text": [
      "Training Epoch 173/300: 100%|███████████████████████████████████████████████████████████████████████████████████████████████████████████| 13/13 [00:00<00:00, 297.07batch/s]\n",
      "Training Epoch 174/300: 100%|███████████████████████████████████████████████████████████████████████████████████████████████████████████| 13/13 [00:00<00:00, 300.86batch/s]\n",
      "Training Epoch 175/300: 100%|███████████████████████████████████████████████████████████████████████████████████████████████████████████| 13/13 [00:00<00:00, 301.85batch/s]\n",
      "Training Epoch 176/300: 100%|███████████████████████████████████████████████████████████████████████████████████████████████████████████| 13/13 [00:00<00:00, 300.12batch/s]\n",
      "Training Epoch 177/300: 100%|███████████████████████████████████████████████████████████████████████████████████████████████████████████| 13/13 [00:00<00:00, 302.24batch/s]\n",
      "Training Epoch 178/300: 100%|███████████████████████████████████████████████████████████████████████████████████████████████████████████| 13/13 [00:00<00:00, 299.88batch/s]\n",
      "Training Epoch 179/300: 100%|███████████████████████████████████████████████████████████████████████████████████████████████████████████| 13/13 [00:00<00:00, 302.52batch/s]\n",
      "Training Epoch 180/300: 100%|███████████████████████████████████████████████████████████████████████████████████████████████████████████| 13/13 [00:00<00:00, 296.79batch/s]\n",
      "Training Epoch 181/300: 100%|███████████████████████████████████████████████████████████████████████████████████████████████████████████| 13/13 [00:00<00:00, 299.54batch/s]\n"
     ]
    },
    {
     "name": "stdout",
     "output_type": "stream",
     "text": [
      "Epoch [181/300], Train Loss: 0.0042, Train Accuracy: 100.00%\n"
     ]
    },
    {
     "name": "stderr",
     "output_type": "stream",
     "text": [
      "Training Epoch 182/300: 100%|███████████████████████████████████████████████████████████████████████████████████████████████████████████| 13/13 [00:00<00:00, 300.76batch/s]\n",
      "Training Epoch 183/300: 100%|███████████████████████████████████████████████████████████████████████████████████████████████████████████| 13/13 [00:00<00:00, 301.73batch/s]\n",
      "Training Epoch 184/300: 100%|███████████████████████████████████████████████████████████████████████████████████████████████████████████| 13/13 [00:00<00:00, 301.99batch/s]\n",
      "Training Epoch 185/300: 100%|███████████████████████████████████████████████████████████████████████████████████████████████████████████| 13/13 [00:00<00:00, 302.88batch/s]\n",
      "Training Epoch 186/300: 100%|███████████████████████████████████████████████████████████████████████████████████████████████████████████| 13/13 [00:00<00:00, 302.59batch/s]\n",
      "Training Epoch 187/300: 100%|███████████████████████████████████████████████████████████████████████████████████████████████████████████| 13/13 [00:00<00:00, 297.96batch/s]\n",
      "Training Epoch 188/300: 100%|███████████████████████████████████████████████████████████████████████████████████████████████████████████| 13/13 [00:00<00:00, 299.83batch/s]\n",
      "Training Epoch 189/300: 100%|███████████████████████████████████████████████████████████████████████████████████████████████████████████| 13/13 [00:00<00:00, 303.54batch/s]\n",
      "Training Epoch 190/300: 100%|███████████████████████████████████████████████████████████████████████████████████████████████████████████| 13/13 [00:00<00:00, 302.23batch/s]\n"
     ]
    },
    {
     "name": "stdout",
     "output_type": "stream",
     "text": [
      "Epoch [190/300], Train Loss: 0.0038, Train Accuracy: 100.00%\n"
     ]
    },
    {
     "name": "stderr",
     "output_type": "stream",
     "text": [
      "Training Epoch 191/300: 100%|███████████████████████████████████████████████████████████████████████████████████████████████████████████| 13/13 [00:00<00:00, 299.94batch/s]\n",
      "Training Epoch 192/300: 100%|███████████████████████████████████████████████████████████████████████████████████████████████████████████| 13/13 [00:00<00:00, 301.07batch/s]\n",
      "Training Epoch 193/300: 100%|███████████████████████████████████████████████████████████████████████████████████████████████████████████| 13/13 [00:00<00:00, 306.50batch/s]\n",
      "Training Epoch 194/300: 100%|███████████████████████████████████████████████████████████████████████████████████████████████████████████| 13/13 [00:00<00:00, 302.25batch/s]\n",
      "Training Epoch 195/300: 100%|███████████████████████████████████████████████████████████████████████████████████████████████████████████| 13/13 [00:00<00:00, 302.53batch/s]\n",
      "Training Epoch 196/300: 100%|███████████████████████████████████████████████████████████████████████████████████████████████████████████| 13/13 [00:00<00:00, 299.26batch/s]\n",
      "Training Epoch 197/300: 100%|███████████████████████████████████████████████████████████████████████████████████████████████████████████| 13/13 [00:00<00:00, 299.50batch/s]\n",
      "Training Epoch 198/300: 100%|███████████████████████████████████████████████████████████████████████████████████████████████████████████| 13/13 [00:00<00:00, 300.91batch/s]\n",
      "Training Epoch 199/300: 100%|███████████████████████████████████████████████████████████████████████████████████████████████████████████| 13/13 [00:00<00:00, 297.94batch/s]\n"
     ]
    },
    {
     "name": "stdout",
     "output_type": "stream",
     "text": [
      "Epoch [199/300], Train Loss: 0.0033, Train Accuracy: 100.00%\n"
     ]
    },
    {
     "name": "stderr",
     "output_type": "stream",
     "text": [
      "Training Epoch 200/300: 100%|███████████████████████████████████████████████████████████████████████████████████████████████████████████| 13/13 [00:00<00:00, 298.95batch/s]\n",
      "Training Epoch 201/300: 100%|███████████████████████████████████████████████████████████████████████████████████████████████████████████| 13/13 [00:00<00:00, 300.50batch/s]\n",
      "Training Epoch 202/300: 100%|███████████████████████████████████████████████████████████████████████████████████████████████████████████| 13/13 [00:00<00:00, 303.04batch/s]\n",
      "Training Epoch 203/300: 100%|███████████████████████████████████████████████████████████████████████████████████████████████████████████| 13/13 [00:00<00:00, 296.92batch/s]\n",
      "Training Epoch 204/300: 100%|███████████████████████████████████████████████████████████████████████████████████████████████████████████| 13/13 [00:00<00:00, 303.34batch/s]\n",
      "Training Epoch 205/300: 100%|███████████████████████████████████████████████████████████████████████████████████████████████████████████| 13/13 [00:00<00:00, 301.37batch/s]\n",
      "Training Epoch 206/300: 100%|███████████████████████████████████████████████████████████████████████████████████████████████████████████| 13/13 [00:00<00:00, 298.91batch/s]\n",
      "Training Epoch 207/300: 100%|███████████████████████████████████████████████████████████████████████████████████████████████████████████| 13/13 [00:00<00:00, 297.75batch/s]\n",
      "Training Epoch 208/300: 100%|███████████████████████████████████████████████████████████████████████████████████████████████████████████| 13/13 [00:00<00:00, 299.47batch/s]\n"
     ]
    },
    {
     "name": "stdout",
     "output_type": "stream",
     "text": [
      "Epoch [208/300], Train Loss: 0.0030, Train Accuracy: 100.00%\n"
     ]
    },
    {
     "name": "stderr",
     "output_type": "stream",
     "text": [
      "Training Epoch 209/300: 100%|███████████████████████████████████████████████████████████████████████████████████████████████████████████| 13/13 [00:00<00:00, 300.76batch/s]\n",
      "Training Epoch 210/300: 100%|███████████████████████████████████████████████████████████████████████████████████████████████████████████| 13/13 [00:00<00:00, 296.58batch/s]\n",
      "Training Epoch 211/300: 100%|███████████████████████████████████████████████████████████████████████████████████████████████████████████| 13/13 [00:00<00:00, 295.97batch/s]\n",
      "Training Epoch 212/300: 100%|███████████████████████████████████████████████████████████████████████████████████████████████████████████| 13/13 [00:00<00:00, 296.91batch/s]\n",
      "Training Epoch 213/300: 100%|███████████████████████████████████████████████████████████████████████████████████████████████████████████| 13/13 [00:00<00:00, 298.88batch/s]\n",
      "Training Epoch 214/300: 100%|███████████████████████████████████████████████████████████████████████████████████████████████████████████| 13/13 [00:00<00:00, 303.07batch/s]\n",
      "Training Epoch 215/300: 100%|███████████████████████████████████████████████████████████████████████████████████████████████████████████| 13/13 [00:00<00:00, 302.23batch/s]\n",
      "Training Epoch 216/300: 100%|███████████████████████████████████████████████████████████████████████████████████████████████████████████| 13/13 [00:00<00:00, 302.24batch/s]\n",
      "Training Epoch 217/300: 100%|███████████████████████████████████████████████████████████████████████████████████████████████████████████| 13/13 [00:00<00:00, 301.42batch/s]\n"
     ]
    },
    {
     "name": "stdout",
     "output_type": "stream",
     "text": [
      "Epoch [217/300], Train Loss: 0.0026, Train Accuracy: 100.00%\n"
     ]
    },
    {
     "name": "stderr",
     "output_type": "stream",
     "text": [
      "Training Epoch 218/300: 100%|███████████████████████████████████████████████████████████████████████████████████████████████████████████| 13/13 [00:00<00:00, 297.77batch/s]\n",
      "Training Epoch 219/300: 100%|███████████████████████████████████████████████████████████████████████████████████████████████████████████| 13/13 [00:00<00:00, 299.29batch/s]\n",
      "Training Epoch 220/300: 100%|███████████████████████████████████████████████████████████████████████████████████████████████████████████| 13/13 [00:00<00:00, 303.66batch/s]\n",
      "Training Epoch 221/300: 100%|███████████████████████████████████████████████████████████████████████████████████████████████████████████| 13/13 [00:00<00:00, 304.55batch/s]\n",
      "Training Epoch 222/300: 100%|███████████████████████████████████████████████████████████████████████████████████████████████████████████| 13/13 [00:00<00:00, 303.27batch/s]\n",
      "Training Epoch 223/300: 100%|███████████████████████████████████████████████████████████████████████████████████████████████████████████| 13/13 [00:00<00:00, 307.11batch/s]\n",
      "Training Epoch 224/300: 100%|███████████████████████████████████████████████████████████████████████████████████████████████████████████| 13/13 [00:00<00:00, 312.19batch/s]\n",
      "Training Epoch 225/300: 100%|███████████████████████████████████████████████████████████████████████████████████████████████████████████| 13/13 [00:00<00:00, 307.07batch/s]\n",
      "Training Epoch 226/300: 100%|███████████████████████████████████████████████████████████████████████████████████████████████████████████| 13/13 [00:00<00:00, 307.74batch/s]\n"
     ]
    },
    {
     "name": "stdout",
     "output_type": "stream",
     "text": [
      "Epoch [226/300], Train Loss: 0.0024, Train Accuracy: 100.00%\n"
     ]
    },
    {
     "name": "stderr",
     "output_type": "stream",
     "text": [
      "Training Epoch 227/300: 100%|███████████████████████████████████████████████████████████████████████████████████████████████████████████| 13/13 [00:00<00:00, 305.14batch/s]\n",
      "Training Epoch 228/300: 100%|███████████████████████████████████████████████████████████████████████████████████████████████████████████| 13/13 [00:00<00:00, 307.21batch/s]\n",
      "Training Epoch 229/300: 100%|███████████████████████████████████████████████████████████████████████████████████████████████████████████| 13/13 [00:00<00:00, 304.50batch/s]\n",
      "Training Epoch 230/300: 100%|███████████████████████████████████████████████████████████████████████████████████████████████████████████| 13/13 [00:00<00:00, 301.32batch/s]\n",
      "Training Epoch 231/300: 100%|███████████████████████████████████████████████████████████████████████████████████████████████████████████| 13/13 [00:00<00:00, 298.38batch/s]\n",
      "Training Epoch 232/300: 100%|███████████████████████████████████████████████████████████████████████████████████████████████████████████| 13/13 [00:00<00:00, 302.61batch/s]\n",
      "Training Epoch 233/300: 100%|███████████████████████████████████████████████████████████████████████████████████████████████████████████| 13/13 [00:00<00:00, 309.97batch/s]\n",
      "Training Epoch 234/300: 100%|███████████████████████████████████████████████████████████████████████████████████████████████████████████| 13/13 [00:00<00:00, 298.46batch/s]\n",
      "Training Epoch 235/300: 100%|███████████████████████████████████████████████████████████████████████████████████████████████████████████| 13/13 [00:00<00:00, 303.95batch/s]\n"
     ]
    },
    {
     "name": "stdout",
     "output_type": "stream",
     "text": [
      "Epoch [235/300], Train Loss: 0.0021, Train Accuracy: 100.00%\n"
     ]
    },
    {
     "name": "stderr",
     "output_type": "stream",
     "text": [
      "Training Epoch 236/300: 100%|███████████████████████████████████████████████████████████████████████████████████████████████████████████| 13/13 [00:00<00:00, 298.54batch/s]\n",
      "Training Epoch 237/300: 100%|███████████████████████████████████████████████████████████████████████████████████████████████████████████| 13/13 [00:00<00:00, 300.00batch/s]\n",
      "Training Epoch 238/300: 100%|███████████████████████████████████████████████████████████████████████████████████████████████████████████| 13/13 [00:00<00:00, 300.42batch/s]\n",
      "Training Epoch 239/300: 100%|███████████████████████████████████████████████████████████████████████████████████████████████████████████| 13/13 [00:00<00:00, 299.88batch/s]\n",
      "Training Epoch 240/300: 100%|███████████████████████████████████████████████████████████████████████████████████████████████████████████| 13/13 [00:00<00:00, 301.64batch/s]\n",
      "Training Epoch 241/300: 100%|███████████████████████████████████████████████████████████████████████████████████████████████████████████| 13/13 [00:00<00:00, 305.04batch/s]\n",
      "Training Epoch 242/300: 100%|███████████████████████████████████████████████████████████████████████████████████████████████████████████| 13/13 [00:00<00:00, 298.77batch/s]\n",
      "Training Epoch 243/300: 100%|███████████████████████████████████████████████████████████████████████████████████████████████████████████| 13/13 [00:00<00:00, 301.01batch/s]\n",
      "Training Epoch 244/300: 100%|███████████████████████████████████████████████████████████████████████████████████████████████████████████| 13/13 [00:00<00:00, 305.19batch/s]\n"
     ]
    },
    {
     "name": "stdout",
     "output_type": "stream",
     "text": [
      "Epoch [244/300], Train Loss: 0.0020, Train Accuracy: 100.00%\n"
     ]
    },
    {
     "name": "stderr",
     "output_type": "stream",
     "text": [
      "Training Epoch 245/300: 100%|███████████████████████████████████████████████████████████████████████████████████████████████████████████| 13/13 [00:00<00:00, 301.12batch/s]\n",
      "Training Epoch 246/300: 100%|███████████████████████████████████████████████████████████████████████████████████████████████████████████| 13/13 [00:00<00:00, 300.90batch/s]\n",
      "Training Epoch 247/300: 100%|███████████████████████████████████████████████████████████████████████████████████████████████████████████| 13/13 [00:00<00:00, 303.58batch/s]\n",
      "Training Epoch 248/300: 100%|███████████████████████████████████████████████████████████████████████████████████████████████████████████| 13/13 [00:00<00:00, 295.80batch/s]\n",
      "Training Epoch 249/300: 100%|███████████████████████████████████████████████████████████████████████████████████████████████████████████| 13/13 [00:00<00:00, 297.37batch/s]\n",
      "Training Epoch 250/300: 100%|███████████████████████████████████████████████████████████████████████████████████████████████████████████| 13/13 [00:00<00:00, 301.59batch/s]\n",
      "Training Epoch 251/300: 100%|███████████████████████████████████████████████████████████████████████████████████████████████████████████| 13/13 [00:00<00:00, 306.46batch/s]\n",
      "Training Epoch 252/300: 100%|███████████████████████████████████████████████████████████████████████████████████████████████████████████| 13/13 [00:00<00:00, 299.85batch/s]\n",
      "Training Epoch 253/300: 100%|███████████████████████████████████████████████████████████████████████████████████████████████████████████| 13/13 [00:00<00:00, 303.82batch/s]\n"
     ]
    },
    {
     "name": "stdout",
     "output_type": "stream",
     "text": [
      "Epoch [253/300], Train Loss: 0.0018, Train Accuracy: 100.00%\n"
     ]
    },
    {
     "name": "stderr",
     "output_type": "stream",
     "text": [
      "Training Epoch 254/300: 100%|███████████████████████████████████████████████████████████████████████████████████████████████████████████| 13/13 [00:00<00:00, 297.27batch/s]\n",
      "Training Epoch 255/300: 100%|███████████████████████████████████████████████████████████████████████████████████████████████████████████| 13/13 [00:00<00:00, 292.38batch/s]\n",
      "Training Epoch 256/300: 100%|███████████████████████████████████████████████████████████████████████████████████████████████████████████| 13/13 [00:00<00:00, 292.58batch/s]\n",
      "Training Epoch 257/300: 100%|███████████████████████████████████████████████████████████████████████████████████████████████████████████| 13/13 [00:00<00:00, 299.95batch/s]\n",
      "Training Epoch 258/300: 100%|███████████████████████████████████████████████████████████████████████████████████████████████████████████| 13/13 [00:00<00:00, 302.97batch/s]\n",
      "Training Epoch 259/300: 100%|███████████████████████████████████████████████████████████████████████████████████████████████████████████| 13/13 [00:00<00:00, 299.78batch/s]\n",
      "Training Epoch 260/300: 100%|███████████████████████████████████████████████████████████████████████████████████████████████████████████| 13/13 [00:00<00:00, 298.11batch/s]\n",
      "Training Epoch 261/300: 100%|███████████████████████████████████████████████████████████████████████████████████████████████████████████| 13/13 [00:00<00:00, 302.92batch/s]\n",
      "Training Epoch 262/300: 100%|███████████████████████████████████████████████████████████████████████████████████████████████████████████| 13/13 [00:00<00:00, 304.43batch/s]\n"
     ]
    },
    {
     "name": "stdout",
     "output_type": "stream",
     "text": [
      "Epoch [262/300], Train Loss: 0.0016, Train Accuracy: 100.00%\n"
     ]
    },
    {
     "name": "stderr",
     "output_type": "stream",
     "text": [
      "Training Epoch 263/300: 100%|███████████████████████████████████████████████████████████████████████████████████████████████████████████| 13/13 [00:00<00:00, 296.15batch/s]\n",
      "Training Epoch 264/300: 100%|███████████████████████████████████████████████████████████████████████████████████████████████████████████| 13/13 [00:00<00:00, 300.96batch/s]\n",
      "Training Epoch 265/300: 100%|███████████████████████████████████████████████████████████████████████████████████████████████████████████| 13/13 [00:00<00:00, 299.81batch/s]\n",
      "Training Epoch 266/300: 100%|███████████████████████████████████████████████████████████████████████████████████████████████████████████| 13/13 [00:00<00:00, 297.93batch/s]\n",
      "Training Epoch 267/300: 100%|███████████████████████████████████████████████████████████████████████████████████████████████████████████| 13/13 [00:00<00:00, 299.56batch/s]\n",
      "Training Epoch 268/300: 100%|███████████████████████████████████████████████████████████████████████████████████████████████████████████| 13/13 [00:00<00:00, 289.39batch/s]\n",
      "Training Epoch 269/300: 100%|███████████████████████████████████████████████████████████████████████████████████████████████████████████| 13/13 [00:00<00:00, 286.51batch/s]\n",
      "Training Epoch 270/300: 100%|███████████████████████████████████████████████████████████████████████████████████████████████████████████| 13/13 [00:00<00:00, 295.60batch/s]\n",
      "Training Epoch 271/300: 100%|███████████████████████████████████████████████████████████████████████████████████████████████████████████| 13/13 [00:00<00:00, 286.09batch/s]\n"
     ]
    },
    {
     "name": "stdout",
     "output_type": "stream",
     "text": [
      "Epoch [271/300], Train Loss: 0.0015, Train Accuracy: 100.00%\n"
     ]
    },
    {
     "name": "stderr",
     "output_type": "stream",
     "text": [
      "Training Epoch 272/300: 100%|███████████████████████████████████████████████████████████████████████████████████████████████████████████| 13/13 [00:00<00:00, 275.98batch/s]\n",
      "Training Epoch 273/300: 100%|███████████████████████████████████████████████████████████████████████████████████████████████████████████| 13/13 [00:00<00:00, 284.92batch/s]\n",
      "Training Epoch 274/300: 100%|███████████████████████████████████████████████████████████████████████████████████████████████████████████| 13/13 [00:00<00:00, 277.51batch/s]\n",
      "Training Epoch 275/300: 100%|███████████████████████████████████████████████████████████████████████████████████████████████████████████| 13/13 [00:00<00:00, 276.50batch/s]\n",
      "Training Epoch 276/300: 100%|███████████████████████████████████████████████████████████████████████████████████████████████████████████| 13/13 [00:00<00:00, 284.40batch/s]\n",
      "Training Epoch 277/300: 100%|███████████████████████████████████████████████████████████████████████████████████████████████████████████| 13/13 [00:00<00:00, 274.10batch/s]\n",
      "Training Epoch 278/300: 100%|███████████████████████████████████████████████████████████████████████████████████████████████████████████| 13/13 [00:00<00:00, 277.07batch/s]\n",
      "Training Epoch 279/300: 100%|███████████████████████████████████████████████████████████████████████████████████████████████████████████| 13/13 [00:00<00:00, 279.36batch/s]\n",
      "Training Epoch 280/300: 100%|███████████████████████████████████████████████████████████████████████████████████████████████████████████| 13/13 [00:00<00:00, 284.93batch/s]\n"
     ]
    },
    {
     "name": "stdout",
     "output_type": "stream",
     "text": [
      "Epoch [280/300], Train Loss: 0.0013, Train Accuracy: 100.00%\n"
     ]
    },
    {
     "name": "stderr",
     "output_type": "stream",
     "text": [
      "Training Epoch 281/300: 100%|███████████████████████████████████████████████████████████████████████████████████████████████████████████| 13/13 [00:00<00:00, 270.00batch/s]\n",
      "Training Epoch 282/300: 100%|███████████████████████████████████████████████████████████████████████████████████████████████████████████| 13/13 [00:00<00:00, 274.62batch/s]\n",
      "Training Epoch 283/300: 100%|███████████████████████████████████████████████████████████████████████████████████████████████████████████| 13/13 [00:00<00:00, 284.17batch/s]\n",
      "Training Epoch 284/300: 100%|███████████████████████████████████████████████████████████████████████████████████████████████████████████| 13/13 [00:00<00:00, 280.27batch/s]\n",
      "Training Epoch 285/300: 100%|███████████████████████████████████████████████████████████████████████████████████████████████████████████| 13/13 [00:00<00:00, 280.72batch/s]\n",
      "Training Epoch 286/300: 100%|███████████████████████████████████████████████████████████████████████████████████████████████████████████| 13/13 [00:00<00:00, 278.80batch/s]\n",
      "Training Epoch 287/300: 100%|███████████████████████████████████████████████████████████████████████████████████████████████████████████| 13/13 [00:00<00:00, 291.21batch/s]\n",
      "Training Epoch 288/300: 100%|███████████████████████████████████████████████████████████████████████████████████████████████████████████| 13/13 [00:00<00:00, 281.04batch/s]\n",
      "Training Epoch 289/300: 100%|███████████████████████████████████████████████████████████████████████████████████████████████████████████| 13/13 [00:00<00:00, 283.01batch/s]\n"
     ]
    },
    {
     "name": "stdout",
     "output_type": "stream",
     "text": [
      "Epoch [289/300], Train Loss: 0.0012, Train Accuracy: 100.00%\n"
     ]
    },
    {
     "name": "stderr",
     "output_type": "stream",
     "text": [
      "Training Epoch 290/300: 100%|███████████████████████████████████████████████████████████████████████████████████████████████████████████| 13/13 [00:00<00:00, 279.81batch/s]\n",
      "Training Epoch 291/300: 100%|███████████████████████████████████████████████████████████████████████████████████████████████████████████| 13/13 [00:00<00:00, 290.90batch/s]\n",
      "Training Epoch 292/300: 100%|███████████████████████████████████████████████████████████████████████████████████████████████████████████| 13/13 [00:00<00:00, 278.86batch/s]\n",
      "Training Epoch 293/300: 100%|███████████████████████████████████████████████████████████████████████████████████████████████████████████| 13/13 [00:00<00:00, 278.13batch/s]\n",
      "Training Epoch 294/300: 100%|███████████████████████████████████████████████████████████████████████████████████████████████████████████| 13/13 [00:00<00:00, 287.40batch/s]\n",
      "Training Epoch 295/300: 100%|███████████████████████████████████████████████████████████████████████████████████████████████████████████| 13/13 [00:00<00:00, 293.98batch/s]\n",
      "Training Epoch 296/300: 100%|███████████████████████████████████████████████████████████████████████████████████████████████████████████| 13/13 [00:00<00:00, 279.33batch/s]\n",
      "Training Epoch 297/300: 100%|███████████████████████████████████████████████████████████████████████████████████████████████████████████| 13/13 [00:00<00:00, 279.44batch/s]\n",
      "Training Epoch 298/300: 100%|███████████████████████████████████████████████████████████████████████████████████████████████████████████| 13/13 [00:00<00:00, 281.38batch/s]\n"
     ]
    },
    {
     "name": "stdout",
     "output_type": "stream",
     "text": [
      "Epoch [298/300], Train Loss: 0.0011, Train Accuracy: 100.00%\n"
     ]
    },
    {
     "name": "stderr",
     "output_type": "stream",
     "text": [
      "Training Epoch 299/300: 100%|███████████████████████████████████████████████████████████████████████████████████████████████████████████| 13/13 [00:00<00:00, 291.75batch/s]\n",
      "Training Epoch 300/300: 100%|███████████████████████████████████████████████████████████████████████████████████████████████████████████| 13/13 [00:00<00:00, 283.24batch/s]\n",
      "Evaluating on test set: 100%|██████████████████████████████████████████████████████████████████████████████████████████████████████████| 119/119 [00:07<00:00, 15.31batch/s]"
     ]
    },
    {
     "name": "stdout",
     "output_type": "stream",
     "text": [
      "Test Accuracy: 0.5641\n",
      "Classification Report:\n",
      "              precision    recall  f1-score   support\n",
      "\n",
      "           0       0.40      0.94      0.56      1900\n",
      "           1       0.91      0.39      0.54      1900\n",
      "           2       0.70      0.57      0.63      1900\n",
      "           3       0.86      0.35      0.50      1900\n",
      "\n",
      "    accuracy                           0.56      7600\n",
      "   macro avg       0.72      0.56      0.56      7600\n",
      "weighted avg       0.72      0.56      0.56      7600\n",
      "\n"
     ]
    },
    {
     "name": "stderr",
     "output_type": "stream",
     "text": [
      "\n"
     ]
    },
    {
     "data": {
      "text/plain": [
       "0.564078947368421"
      ]
     },
     "execution_count": 36,
     "metadata": {},
     "output_type": "execute_result"
    }
   ],
   "source": [
    "model = CNNModel().to(device)\n",
    "evaluate_syn(model, synthetic_text_data, synthetic_labels, test_loader, device, num_epochs=300, lr=0.001)"
   ]
  },
  {
   "cell_type": "code",
   "execution_count": 37,
   "id": "d20e3ad5-9632-4341-afc9-3fcf0194c3ed",
   "metadata": {},
   "outputs": [
    {
     "name": "stderr",
     "output_type": "stream",
     "text": [
      "Training Epoch 1/10: 100%|██████████████████████████████████████████████████████████████████████████████████████████████████████████████| 13/13 [00:00<00:00, 207.23batch/s]\n"
     ]
    },
    {
     "name": "stdout",
     "output_type": "stream",
     "text": [
      "Epoch [1/10], Train Loss: 1.5156, Train Accuracy: 95.12%\n"
     ]
    },
    {
     "name": "stderr",
     "output_type": "stream",
     "text": [
      "Training Epoch 2/10: 100%|██████████████████████████████████████████████████████████████████████████████████████████████████████████████| 13/13 [00:00<00:00, 233.61batch/s]\n",
      "Training Epoch 3/10: 100%|██████████████████████████████████████████████████████████████████████████████████████████████████████████████| 13/13 [00:00<00:00, 247.28batch/s]\n",
      "Training Epoch 4/10: 100%|██████████████████████████████████████████████████████████████████████████████████████████████████████████████| 13/13 [00:00<00:00, 264.10batch/s]\n",
      "Training Epoch 5/10: 100%|██████████████████████████████████████████████████████████████████████████████████████████████████████████████| 13/13 [00:00<00:00, 270.61batch/s]\n",
      "Training Epoch 6/10: 100%|██████████████████████████████████████████████████████████████████████████████████████████████████████████████| 13/13 [00:00<00:00, 278.05batch/s]\n",
      "Training Epoch 7/10: 100%|██████████████████████████████████████████████████████████████████████████████████████████████████████████████| 13/13 [00:00<00:00, 285.17batch/s]\n",
      "Training Epoch 8/10: 100%|██████████████████████████████████████████████████████████████████████████████████████████████████████████████| 13/13 [00:00<00:00, 293.41batch/s]\n",
      "Training Epoch 9/10: 100%|██████████████████████████████████████████████████████████████████████████████████████████████████████████████| 13/13 [00:00<00:00, 300.55batch/s]\n",
      "Training Epoch 10/10: 100%|█████████████████████████████████████████████████████████████████████████████████████████████████████████████| 13/13 [00:00<00:00, 303.08batch/s]\n"
     ]
    },
    {
     "name": "stdout",
     "output_type": "stream",
     "text": [
      "Epoch [10/10], Train Loss: 0.0013, Train Accuracy: 100.00%\n"
     ]
    },
    {
     "name": "stderr",
     "output_type": "stream",
     "text": [
      "Evaluating on test set: 100%|████████████████████████████████████████████████████████████████████████████████████████████████████████| 1875/1875 [02:00<00:00, 15.58batch/s]\n"
     ]
    },
    {
     "name": "stdout",
     "output_type": "stream",
     "text": [
      "Test Accuracy: 0.5553\n",
      "Classification Report:\n",
      "              precision    recall  f1-score   support\n",
      "\n",
      "           0       0.40      0.95      0.56     30000\n",
      "           1       0.87      0.42      0.57     30000\n",
      "           2       0.86      0.31      0.46     30000\n",
      "           3       0.72      0.53      0.61     30000\n",
      "\n",
      "    accuracy                           0.56    120000\n",
      "   macro avg       0.71      0.56      0.55    120000\n",
      "weighted avg       0.71      0.56      0.55    120000\n",
      "\n"
     ]
    },
    {
     "data": {
      "text/plain": [
       "0.5552916666666666"
      ]
     },
     "execution_count": 37,
     "metadata": {},
     "output_type": "execute_result"
    }
   ],
   "source": [
    "evaluate_syn(model, synthetic_text_data, synthetic_labels, train_loader, device, num_epochs=10, lr=0.001)"
   ]
  },
  {
   "cell_type": "code",
   "execution_count": null,
   "id": "a677a128-6086-44b9-a162-5e5ead0c6713",
   "metadata": {},
   "outputs": [],
   "source": []
  },
  {
   "cell_type": "code",
   "execution_count": null,
   "id": "a7c1e3f0-1472-4dad-a6bb-7207197fa581",
   "metadata": {},
   "outputs": [],
   "source": []
  },
  {
   "cell_type": "code",
   "execution_count": null,
   "id": "59279a66-c48c-4c68-a6d1-b090ea4b31bd",
   "metadata": {},
   "outputs": [],
   "source": []
  },
  {
   "cell_type": "code",
   "execution_count": 22,
   "id": "a5aae667-ece8-4a11-b988-ed731147ce3c",
   "metadata": {},
   "outputs": [
    {
     "data": {
      "text/plain": [
       "1001"
      ]
     },
     "execution_count": 22,
     "metadata": {},
     "output_type": "execute_result"
    }
   ],
   "source": [
    "len(accs_hist)"
   ]
  },
  {
   "cell_type": "code",
   "execution_count": 25,
   "id": "013bd1f4-902b-4256-8773-b10b5a1a7ead",
   "metadata": {},
   "outputs": [
    {
     "data": {
      "text/plain": [
       "[<matplotlib.lines.Line2D at 0x7f1c9057c340>]"
      ]
     },
     "execution_count": 25,
     "metadata": {},
     "output_type": "execute_result"
    },
    {
     "data": {
      "image/png": "[encoded data removed]",
      "text/plain": [
       "<Figure size 640x480 with 1 Axes>"
      ]
     },
     "metadata": {},
     "output_type": "display_data"
    }
   ],
   "source": [
    "import matplotlib.pyplot as plt\n",
    "plt.plot(accs_hist)"
   ]
  },
  {
   "cell_type": "code",
   "execution_count": 45,
   "id": "28468ba4-b2d3-4235-93b1-6023681641ad",
   "metadata": {},
   "outputs": [
    {
     "data": {
      "text/plain": [
       "0.6618421052631579"
      ]
     },
     "execution_count": 45,
     "metadata": {},
     "output_type": "execute_result"
    }
   ],
   "source": [
    "max(accs_hist)"
   ]
  },
  {
   "cell_type": "code",
   "execution_count": 26,
   "id": "403cd50f-5709-4172-af0a-f5df095b8970",
   "metadata": {},
   "outputs": [
    {
     "data": {
      "text/plain": [
       "[[tensor([[-2.4149e-04,  8.6720e-03,  1.7561e-02,  ..., -1.7449e-02,\n",
       "            3.0352e-02,  1.1580e-02],\n",
       "          [ 7.5004e-04,  5.0517e-02,  3.2818e-02,  ..., -3.0193e-02,\n",
       "            1.5898e-02,  2.3856e-03],\n",
       "          [-3.1548e-03,  4.2814e-02,  2.4457e-02,  ..., -4.5071e-02,\n",
       "            1.4155e-02, -7.1915e-03],\n",
       "          ...,\n",
       "          [-7.3804e-03,  5.1035e-02, -1.7651e+00,  ...,  6.8607e-01,\n",
       "           -2.1629e-01, -7.9580e-01],\n",
       "          [-3.1128e-01,  1.8558e+00,  5.5186e-01,  ..., -9.2133e-01,\n",
       "            1.6386e+00, -2.7043e-01],\n",
       "          [ 9.4125e-01, -1.3249e-01,  2.4967e-01,  ..., -5.0045e-01,\n",
       "           -2.1773e+00,  6.3376e-01]]),\n",
       "  tensor([0, 0, 0, 0, 0, 0, 0, 0, 0, 0, 0, 0, 0, 0, 0, 0, 0, 0, 0, 0, 0, 0, 0, 0,\n",
       "          0, 0, 0, 0, 0, 0, 0, 0, 0, 0, 0, 0, 0, 0, 0, 0, 0, 0, 0, 0, 0, 0, 0, 0,\n",
       "          0, 0, 0, 0, 0, 0, 0, 0, 0, 0, 0, 0, 0, 0, 0, 0, 0, 0, 0, 0, 0, 0, 0, 0,\n",
       "          0, 0, 0, 0, 0, 0, 0, 0, 0, 0, 0, 0, 0, 0, 0, 0, 0, 0, 0, 0, 0, 0, 0, 0,\n",
       "          0, 0, 0, 0, 0, 0, 0, 0, 0, 0, 0, 0, 0, 0, 0, 0, 0, 0, 0, 0, 0, 0, 0, 0,\n",
       "          0, 0, 0, 0, 0, 0, 0, 0, 0, 0, 0, 0, 0, 0, 0, 0, 0, 0, 0, 0, 0, 0, 0, 0,\n",
       "          0, 0, 0, 0, 0, 0, 0, 0, 0, 0, 0, 0, 0, 0, 0, 0, 0, 0, 0, 0, 0, 0, 0, 0,\n",
       "          0, 0, 0, 0, 0, 0, 0, 0, 0, 0, 0, 0, 0, 0, 0, 0, 0, 0, 0, 0, 0, 0, 0, 0,\n",
       "          0, 0, 0, 0, 0, 0, 0, 0, 1, 1, 1, 1, 1, 1, 1, 1, 1, 1, 1, 1, 1, 1, 1, 1,\n",
       "          1, 1, 1, 1, 1, 1, 1, 1, 1, 1, 1, 1, 1, 1, 1, 1, 1, 1, 1, 1, 1, 1, 1, 1,\n",
       "          1, 1, 1, 1, 1, 1, 1, 1, 1, 1, 1, 1, 1, 1, 1, 1, 1, 1, 1, 1, 1, 1, 1, 1,\n",
       "          1, 1, 1, 1, 1, 1, 1, 1, 1, 1, 1, 1, 1, 1, 1, 1, 1, 1, 1, 1, 1, 1, 1, 1,\n",
       "          1, 1, 1, 1, 1, 1, 1, 1, 1, 1, 1, 1, 1, 1, 1, 1, 1, 1, 1, 1, 1, 1, 1, 1,\n",
       "          1, 1, 1, 1, 1, 1, 1, 1, 1, 1, 1, 1, 1, 1, 1, 1, 1, 1, 1, 1, 1, 1, 1, 1,\n",
       "          1, 1, 1, 1, 1, 1, 1, 1, 1, 1, 1, 1, 1, 1, 1, 1, 1, 1, 1, 1, 1, 1, 1, 1,\n",
       "          1, 1, 1, 1, 1, 1, 1, 1, 1, 1, 1, 1, 1, 1, 1, 1, 1, 1, 1, 1, 1, 1, 1, 1,\n",
       "          1, 1, 1, 1, 1, 1, 1, 1, 1, 1, 1, 1, 1, 1, 1, 1, 2, 2, 2, 2, 2, 2, 2, 2,\n",
       "          2, 2, 2, 2, 2, 2, 2, 2, 2, 2, 2, 2, 2, 2, 2, 2, 2, 2, 2, 2, 2, 2, 2, 2,\n",
       "          2, 2, 2, 2, 2, 2, 2, 2, 2, 2, 2, 2, 2, 2, 2, 2, 2, 2, 2, 2, 2, 2, 2, 2,\n",
       "          2, 2, 2, 2, 2, 2, 2, 2, 2, 2, 2, 2, 2, 2, 2, 2, 2, 2, 2, 2, 2, 2, 2, 2,\n",
       "          2, 2, 2, 2, 2, 2, 2, 2, 2, 2, 2, 2, 2, 2, 2, 2, 2, 2, 2, 2, 2, 2, 2, 2,\n",
       "          2, 2, 2, 2, 2, 2, 2, 2, 2, 2, 2, 2, 2, 2, 2, 2, 2, 2, 2, 2, 2, 2, 2, 2,\n",
       "          2, 2, 2, 2, 2, 2, 2, 2, 2, 2, 2, 2, 2, 2, 2, 2, 2, 2, 2, 2, 2, 2, 2, 2,\n",
       "          2, 2, 2, 2, 2, 2, 2, 2, 2, 2, 2, 2, 2, 2, 2, 2, 2, 2, 2, 2, 2, 2, 2, 2,\n",
       "          2, 2, 2, 2, 2, 2, 2, 2, 2, 2, 2, 2, 2, 2, 2, 2, 2, 2, 2, 2, 2, 2, 2, 2,\n",
       "          3, 3, 3, 3, 3, 3, 3, 3, 3, 3, 3, 3, 3, 3, 3, 3, 3, 3, 3, 3, 3, 3, 3, 3,\n",
       "          3, 3, 3, 3, 3, 3, 3, 3, 3, 3, 3, 3, 3, 3, 3, 3, 3, 3, 3, 3, 3, 3, 3, 3,\n",
       "          3, 3, 3, 3, 3, 3, 3, 3, 3, 3, 3, 3, 3, 3, 3, 3, 3, 3, 3, 3, 3, 3, 3, 3,\n",
       "          3, 3, 3, 3, 3, 3, 3, 3, 3, 3, 3, 3, 3, 3, 3, 3, 3, 3, 3, 3, 3, 3, 3, 3,\n",
       "          3, 3, 3, 3, 3, 3, 3, 3, 3, 3, 3, 3, 3, 3, 3, 3, 3, 3, 3, 3, 3, 3, 3, 3,\n",
       "          3, 3, 3, 3, 3, 3, 3, 3, 3, 3, 3, 3, 3, 3, 3, 3, 3, 3, 3, 3, 3, 3, 3, 3,\n",
       "          3, 3, 3, 3, 3, 3, 3, 3, 3, 3, 3, 3, 3, 3, 3, 3, 3, 3, 3, 3, 3, 3, 3, 3,\n",
       "          3, 3, 3, 3, 3, 3, 3, 3, 3, 3, 3, 3, 3, 3, 3, 3, 3, 3, 3, 3, 3, 3, 3, 3,\n",
       "          3, 3, 3, 3, 3, 3, 3, 3])]]"
      ]
     },
     "execution_count": 26,
     "metadata": {},
     "output_type": "execute_result"
    }
   ],
   "source": [
    "data_save"
   ]
  },
  {
   "cell_type": "code",
   "execution_count": 49,
   "id": "1ab092ba-bf16-412b-9d05-d2b882fd806d",
   "metadata": {},
   "outputs": [
    {
     "name": "stderr",
     "output_type": "stream",
     "text": [
      "Training Epoch 1/10: 100%|████████████████████| 4/4 [00:00<00:00, 236.18batch/s]\n",
      "Training Epoch 2/10: 100%|████████████████████| 4/4 [00:00<00:00, 214.22batch/s]\n",
      "Training Epoch 3/10: 100%|████████████████████| 4/4 [00:00<00:00, 214.39batch/s]\n",
      "Training Epoch 4/10: 100%|████████████████████| 4/4 [00:00<00:00, 208.33batch/s]\n",
      "Training Epoch 5/10: 100%|████████████████████| 4/4 [00:00<00:00, 217.80batch/s]\n",
      "Training Epoch 6/10: 100%|████████████████████| 4/4 [00:00<00:00, 212.76batch/s]\n",
      "Training Epoch 7/10: 100%|████████████████████| 4/4 [00:00<00:00, 208.52batch/s]\n",
      "Training Epoch 8/10: 100%|████████████████████| 4/4 [00:00<00:00, 211.15batch/s]\n",
      "Training Epoch 9/10: 100%|████████████████████| 4/4 [00:00<00:00, 212.32batch/s]\n",
      "Training Epoch 10/10: 100%|███████████████████| 4/4 [00:00<00:00, 215.76batch/s]\n"
     ]
    },
    {
     "name": "stdout",
     "output_type": "stream",
     "text": [
      "Epoch [10/10], Train Loss: 3.1837, Train Accuracy: 52.50%\n"
     ]
    },
    {
     "name": "stderr",
     "output_type": "stream",
     "text": [
      "Evaluating on test set: 100%|██████████████| 119/119 [00:07<00:00, 15.45batch/s]"
     ]
    },
    {
     "name": "stdout",
     "output_type": "stream",
     "text": [
      "Test Accuracy: 0.4276\n",
      "Classification Report:\n",
      "              precision    recall  f1-score   support\n",
      "\n",
      "           0       0.00      0.00      0.00      1900\n",
      "           1       0.36      1.00      0.53      1900\n",
      "           2       0.59      0.71      0.65      1900\n",
      "           3       0.00      0.00      0.00      1900\n",
      "\n",
      "    accuracy                           0.43      7600\n",
      "   macro avg       0.24      0.43      0.29      7600\n",
      "weighted avg       0.24      0.43      0.29      7600\n",
      "\n",
      "[2, 3, 3, 3, 3, 3, 3, 3, 3, 3, 3, 3, 3, 3, 3, 3, 3, 3, 3, 3, 3, 3, 3, 3, 3, 3, 1, 1, 1, 1, 1, 1, 0, 0, 0, 0, 0, 0, 0, 0, 1, 2, 0, 3, 1, 1, 0, 3, 0, 1, 0, 1, 0, 3, 2, 3, 0, 0, 2, 2, 1, 1, 1, 3, 0, 3, 0, 0, 1, 0, 3, 3, 3, 0, 3, 1, 0, 1, 0, 0, 0, 1, 2, 2, 0, 0, 2, 0, 0, 3, 0, 2, 3, 2, 1, 1, 1, 2, 0, 2, 1, 2, 3, 2, 0, 1, 0, 1, 0, 3, 2, 3, 3, 3, 3, 1, 3, 3, 2, 1, 0, 1, 3, 0, 3, 2, 1, 1, 1, 0, 0, 0, 1, 0, 1, 1, 0, 1, 1, 0, 1, 0, 1, 0, 0, 0, 1, 2, 1, 1, 1, 0, 1, 0, 0, 0, 2, 1, 1, 0, 1, 2, 3, 0, 0, 2, 2, 2, 1, 0, 3, 3, 2, 3, 0, 0, 3, 1, 3, 1, 2, 1, 1, 3, 2, 0, 3, 0, 1, 3, 3, 0, 0, 0, 2, 2, 0, 1, 2, 1, 3, 3, 3, 0, 1, 1, 1, 3, 1, 3, 1, 0, 1, 1, 1, 3, 2, 2, 3, 1, 1, 0, 2, 1, 2, 2, 0, 1, 2, 0, 1, 1, 2, 3, 2, 1, 2, 1, 0, 2, 3, 1, 1, 3, 2, 2, 3, 3, 3, 0, 2, 0, 1, 2, 2, 3, 2, 3, 3, 3, 1, 0, 3, 3, 3, 3, 1, 3, 1, 1, 1, 0, 2, 3, 1, 3, 3, 1, 2, 3, 2, 1, 1, 3, 1, 0, 0, 2, 2, 1, 1, 3, 3, 3, 1, 0, 0, 3, 1, 2, 1, 2, 2, 2, 2, 1, 3, 3, 1, 2, 2, 1, 3, 2, 2, 0, 0, 2, 1, 2, 2, 0, 1, 3, 1, 3, 0, 0, 3, 2, 3, 1, 0, 0, 1, 0, 2, 2, 1, 1, 3, 1, 0, 1, 1, 3, 3, 1, 0, 2, 1, 0, 0, 1, 0, 0, 1, 2, 1, 1, 1, 0, 2, 0, 0, 3, 1, 2, 0, 0, 1, 0, 0, 1, 1, 3, 1, 1, 2, 0, 1, 1, 3, 1, 2, 1, 1, 1, 0, 0, 0, 1, 0, 0, 0, 1, 1, 3, 1, 2, 3, 1, 0, 0, 0, 2, 2, 2, 2, 1, 2, 1, 0, 0, 0, 1, 1, 2, 2, 0, 0, 1, 2, 3, 3, 0, 2, 2, 3, 3, 0, 1, 1, 2, 2, 3, 2, 2, 3, 3, 2, 3, 0, 2, 0, 3, 3, 3, 2, 2, 0, 0, 2, 3, 3, 1, 2, 3, 1, 2, 1, 1, 3, 1, 0, 3, 2, 2, 3, 1, 0, 3, 0, 2, 1, 3, 1, 3, 0, 2, 3, 2, 2, 3, 2, 2, 1, 2, 2, 1, 1, 3, 1, 2, 2, 1, 2, 0, 1, 3, 3, 1, 1, 0, 0, 0, 0, 3, 2, 3, 3, 0, 3, 0, 0, 1, 0, 2, 3, 1, 2, 0, 2, 0, 0, 0, 3, 0, 0, 0, 1, 3, 3, 3, 2, 2, 3, 3, 1, 3, 1, 0, 0, 3, 1, 3, 2, 1, 3, 2, 0, 0, 0, 1, 3, 3, 3, 3, 3, 3, 3, 0, 2, 3, 1, 0, 0, 3, 3, 1, 3, 2, 3, 3, 0, 2, 1, 3, 3, 0, 1, 3, 2, 1, 0, 2, 3, 3, 3, 2, 0, 2, 3, 0, 3, 0, 3, 3, 2, 0, 2, 2, 3, 2, 1, 0, 0, 3, 1, 1, 1, 0, 0, 0, 0, 2, 3, 0, 0, 2, 2, 2, 3, 3, 3, 0, 0, 3, 2, 1, 3, 1, 3, 3, 2, 3, 3, 1, 1, 0, 2, 3, 3, 2, 1, 3, 0, 0, 1, 2, 0, 2, 0, 0, 3, 0, 2, 3, 3, 3, 3, 3, 1, 2, 3, 1, 1, 2, 3, 0, 1, 3, 0, 2, 1, 1, 0, 0, 0, 1, 3, 0, 0, 0, 0, 2, 1, 2, 2, 0, 1, 1, 1, 1, 0, 0, 1, 0, 1, 0, 2, 1, 3, 0, 1, 1, 3, 2, 3, 3, 2, 2, 2, 1, 1, 3, 3, 1, 1, 0, 0, 0, 3, 2, 0, 0, 1, 0, 2, 2, 2, 3, 3, 2, 2, 1, 2, 0, 3, 1, 1, 3, 0, 3, 2, 2, 2, 0, 3, 1, 0, 2, 1, 1, 0, 3, 0, 0, 3, 1, 2, 3, 2, 3, 0, 1, 1, 1, 0, 1, 2, 1, 0, 1, 1, 0, 3, 1, 3, 1, 0, 0, 1, 3, 1, 0, 0, 1, 2, 3, 0, 3, 0, 1, 3, 0, 2, 0, 1, 0, 1, 1, 0, 0, 2, 3, 2, 1, 0, 1, 0, 3, 3, 0, 1, 0, 2, 1, 0, 0, 0, 1, 1, 1, 2, 1, 0, 1, 0, 0, 0, 0, 0, 0, 1, 2, 2, 1, 0, 3, 1, 0, 1, 1, 0, 3, 0, 0, 0, 1, 3, 1, 0, 1, 1, 1, 1, 1, 1, 3, 0, 2, 1, 1, 2, 2, 3, 2, 0, 0, 1, 1, 1, 1, 1, 1, 2, 2, 1, 0, 3, 2, 0, 2, 1, 1, 1, 2, 1, 2, 2, 1, 2, 0, 0, 2, 0, 0, 0, 2, 2, 1, 2, 0, 3, 1, 2, 2, 0, 2, 3, 2, 3, 1, 2, 0, 2, 1, 0, 0, 3, 3, 2, 2, 0, 0, 0, 3, 3, 1, 0, 2, 2, 3, 3, 1, 2, 0, 0, 1, 1, 3, 0, 1, 3, 1, 3, 1, 0, 1, 2, 3, 1, 2, 3, 2, 3, 3, 0, 1, 3, 0, 0, 2, 2, 2, 1, 0, 3, 3, 2, 3, 0, 0, 1, 1, 3, 3, 0, 3, 2, 3, 3, 1, 1, 3, 0, 0, 3, 3, 1, 2, 0, 0, 3, 1, 1, 1, 3, 0, 2, 2, 3, 0, 3, 3, 2, 1, 1, 3, 2, 3, 2, 3, 3, 3, 1, 0, 2, 3, 1, 0, 3, 2, 3, 2, 3, 3, 0, 2, 2, 3, 3, 0, 1, 3, 2, 3, 3, 0, 1, 0, 3, 3, 2, 3, 3, 0, 1, 0, 2, 2, 0, 0, 1, 1, 1, 3, 0, 3, 1, 0, 2, 2, 0, 0, 3, 3, 2, 1, 3, 3, 3, 3, 3, 3, 3, 2, 3, 3, 0, 1, 1, 2, 2, 3, 3, 3, 3, 3, 0, 0, 0, 2, 2, 0, 0, 2, 3, 2, 0, 2, 1, 2, 3, 0, 3, 3, 3, 0, 2, 2, 1, 1, 1, 2, 2, 0, 3, 3, 1, 0, 2, 2, 2, 3, 2, 3, 1, 1, 0, 2, 3, 1, 0, 1, 0, 1, 1, 0, 3, 1, 0, 2, 1, 1, 0, 1, 0, 0, 0, 2, 1, 1, 3, 2, 0, 1, 1, 1, 2, 1, 3, 2, 2, 2, 2, 3, 0, 1, 1, 1, 1, 0, 1, 1, 1, 2, 2, 1, 0, 1, 3, 3, 1, 0, 0, 3, 2, 0, 3, 0, 1, 1, 1, 0, 0, 2, 1, 0, 0, 1, 1, 1, 2, 0, 1, 0, 1, 2, 2, 3, 1, 0, 2, 0, 1, 1, 1, 2, 0, 2, 0, 2, 0, 0, 3, 0, 1, 2, 3, 3, 1, 2, 3, 2, 3, 3, 1, 0, 2, 2, 3, 2, 1, 0, 1, 1, 2, 1, 1, 0, 2, 2, 2, 0, 0, 3, 2, 1, 1, 1, 3, 0, 0, 3, 0, 1, 3, 3, 2, 1, 0, 2, 2, 2, 1, 2, 0, 2, 3, 1, 1, 1, 1, 3, 2, 1, 1, 2, 0, 2, 3, 2, 3, 2, 2, 3, 0, 0, 0, 3, 1, 0, 1, 2, 0, 3, 0, 1, 2, 2, 2, 0, 3, 3, 0, 1, 2, 2, 1, 2, 1, 3, 2, 3, 3, 1, 1, 0, 2, 3, 3, 3, 2, 2, 2, 2, 0, 0, 1, 2, 1, 3, 2, 3, 3, 2, 1, 3, 3, 1, 0, 1, 3, 2, 1, 2, 2, 2, 3, 2, 1, 3, 3, 0, 2, 2, 3, 2, 3, 1, 2, 0, 2, 3, 1, 3, 3, 0, 2, 1, 1, 3, 1, 0, 0, 2, 2, 1, 3, 3, 3, 1, 0, 2, 2, 1, 2, 0, 1, 3, 0, 0, 1, 1, 1, 1, 1, 2, 2, 2, 3, 3, 1, 2, 2, 1, 1, 2, 2, 0, 1, 0, 0, 3, 3, 3, 3, 3, 2, 2, 2, 3, 3, 1, 0, 3, 2, 3, 1, 2, 0, 3, 3, 0, 3, 3, 0, 3, 2, 2, 3, 0, 1, 0, 2, 3, 1, 0, 3, 0, 3, 0, 0, 1, 0, 1, 1, 2, 1, 3, 0, 1, 3, 0, 2, 0, 1, 0, 2, 2, 2, 2, 1, 3, 3, 1, 1, 1, 0, 0, 0, 1, 0, 2, 1, 3, 3, 3, 2, 3, 1, 3, 0, 0, 0, 3, 3, 3, 3, 2, 3, 3, 2, 1, 3, 0, 1, 0, 3, 0, 1, 0, 2, 0, 3, 2, 0, 0, 2, 2, 0, 0, 3, 0, 1, 0, 0, 2, 1, 3, 3, 0, 0, 0, 0, 1, 2, 0, 3, 1, 2, 1, 1, 1, 2, 1, 1, 0, 1, 2, 0, 1, 1, 1, 1, 0, 0, 1, 1, 1, 0, 3, 1, 2, 0, 1, 0, 3, 0, 0, 0, 1, 2, 1, 0, 0, 1, 0, 2, 2, 1, 0, 1, 0, 1, 2, 0, 0, 3, 1, 2, 2, 1, 0, 3, 2, 0, 3, 3, 2, 2, 2, 1, 2, 0, 0, 3, 3, 3, 3, 2, 0, 1, 3, 3, 1, 2, 3, 3, 2, 3, 3, 3, 2, 0, 0, 2, 3, 3, 3, 3, 1, 0, 2, 1, 3, 0, 0, 1, 1, 2, 3, 2, 3, 1, 2, 0, 3, 3, 2, 2, 1, 0, 2, 3, 3, 2, 3, 2, 0, 0, 2, 1, 0, 3, 1, 2, 1, 0, 2, 1, 3, 1, 0, 3, 2, 3, 3, 3, 0, 2, 2, 2, 3, 3, 0, 1, 2, 0, 1, 3, 3, 3, 2, 1, 1, 2, 3, 3, 3, 1, 2, 2, 1, 0, 3, 2, 2, 2, 3, 1, 0, 3, 3, 2, 1, 3, 0, 2, 1, 1, 1, 1, 2, 1, 1, 1, 0, 1, 1, 0, 3, 0, 0, 2, 0, 2, 1, 3, 0, 2, 1, 3, 0, 0, 2, 1, 1, 0, 1, 3, 2, 0, 1, 2, 1, 0, 2, 2, 2, 0, 3, 3, 2, 1, 1, 0, 0, 0, 3, 1, 2, 3, 1, 1, 1, 2, 1, 2, 0, 2, 1, 1, 3, 2, 3, 1, 2, 0, 1, 3, 1, 2, 1, 3, 1, 0, 1, 1, 3, 1, 0, 3, 1, 0, 0, 0, 2, 3, 1, 0, 2, 1, 2, 2, 0, 0, 1, 1, 3, 1, 3, 0, 0, 0, 1, 2, 0, 1, 0, 2, 0, 0, 2, 0, 2, 0, 1, 0, 3, 0, 2, 3, 3, 0, 0, 1, 2, 0, 2, 2, 3, 3, 2, 0, 0, 3, 0, 2, 1, 0, 3, 3, 2, 1, 0, 3, 1, 0, 3, 1, 3, 3, 3, 0, 0, 3, 3, 3, 0, 2, 3, 0, 3, 2, 2, 3, 3, 2, 3, 1, 0, 0, 3, 1, 2, 1, 0, 1, 3, 0, 2, 3, 1, 3, 1, 3, 3, 2, 2, 3, 3, 2, 0, 2, 2, 2, 2, 1, 1, 1, 0, 0, 3, 0, 3, 3, 0, 3, 3, 1, 0, 1, 1, 0, 1, 1, 2, 1, 0, 1, 3, 3, 3, 3, 1, 2, 2, 1, 2, 2, 1, 3, 0, 0, 3, 3, 1, 1, 0, 2, 3, 2, 0, 0, 0, 3, 0, 0, 0, 1, 3, 3, 1, 3, 0, 3, 2, 3, 2, 1, 2, 0, 2, 3, 2, 0, 1, 1, 1, 1, 1, 0, 2, 3, 3, 1, 3, 2, 0, 0, 0, 0, 0, 0, 2, 1, 1, 0, 0, 0, 1, 0, 3, 1, 0, 0, 0, 0, 1, 1, 2, 3, 2, 1, 0, 2, 1, 1, 3, 0, 0, 1, 1, 2, 0, 1, 2, 1, 1, 1, 0, 0, 0, 0, 0, 1, 0, 0, 3, 2, 0, 1, 0, 1, 2, 2, 1, 3, 0, 1, 0, 0, 1, 0, 1, 1, 1, 2, 3, 3, 0, 2, 3, 2, 0, 0, 3, 1, 2, 0, 3, 3, 3, 1, 1, 2, 1, 3, 3, 3, 3, 3, 0, 3, 3, 0, 1, 1, 2, 3, 3, 1, 3, 2, 2, 0, 1, 2, 2, 3, 2, 2, 0, 3, 2, 3, 3, 3, 3, 1, 3, 0, 0, 1, 0, 3, 3, 0, 3, 3, 3, 1, 3, 1, 1, 2, 3, 0, 3, 2, 1, 0, 1, 2, 2, 0, 0, 1, 0, 3, 2, 0, 3, 3, 0, 2, 2, 3, 1, 0, 0, 0, 2, 3, 3, 3, 3, 3, 3, 2, 0, 0, 3, 2, 0, 2, 2, 2, 3, 1, 3, 3, 0, 3, 3, 2, 3, 3, 1, 3, 0, 2, 0, 2, 2, 3, 3, 3, 3, 2, 2, 2, 0, 1, 3, 0, 0, 1, 1, 3, 3, 0, 3, 0, 2, 0, 1, 1, 0, 2, 2, 2, 1, 0, 0, 2, 1, 1, 0, 0, 1, 1, 3, 0, 0, 3, 0, 1, 3, 3, 2, 0, 3, 3, 2, 2, 2, 2, 1, 3, 2, 1, 1, 3, 1, 1, 3, 3, 0, 3, 0, 3, 2, 0, 1, 2, 2, 0, 2, 3, 3, 0, 3, 3, 3, 0, 3, 0, 3, 3, 3, 3, 1, 2, 1, 2, 2, 0, 1, 1, 0, 1, 1, 0, 2, 2, 0, 2, 2, 2, 2, 2, 1, 3, 2, 2, 2, 1, 2, 2, 3, 0, 0, 1, 1, 1, 1, 1, 2, 2, 2, 1, 3, 3, 1, 2, 0, 0, 1, 2, 2, 2, 3, 1, 0, 3, 0, 3, 2, 2, 3, 2, 3, 2, 1, 3, 2, 0, 0, 1, 2, 3, 0, 0, 2, 0, 0, 0, 1, 0, 2, 3, 1, 2, 2, 0, 3, 3, 3, 3, 1, 3, 2, 0, 3, 1, 1, 1, 2, 0, 1, 2, 2, 2, 3, 0, 0, 0, 2, 1, 1, 1, 2, 0, 2, 3, 1, 0, 1, 3, 2, 3, 3, 1, 3, 0, 3, 2, 2, 3, 3, 2, 2, 0, 2, 3, 0, 2, 2, 3, 1, 3, 3, 3, 3, 3, 2, 2, 3, 1, 0, 2, 2, 3, 3, 2, 0, 2, 2, 3, 1, 1, 1, 1, 3, 2, 1, 0, 0, 2, 0, 1, 1, 2, 1, 0, 2, 2, 1, 1, 1, 2, 1, 0, 1, 1, 2, 1, 2, 0, 3, 1, 1, 0, 0, 2, 2, 1, 0, 1, 1, 1, 1, 1, 2, 0, 1, 2, 2, 1, 1, 0, 1, 0, 0, 3, 1, 1, 1, 0, 0, 0, 1, 1, 1, 1, 0, 3, 3, 3, 1, 0, 0, 1, 0, 0, 1, 1, 0, 1, 3, 3, 2, 1, 1, 1, 0, 0, 2, 3, 2, 1, 2, 2, 0, 0, 0, 2, 1, 1, 0, 0, 3, 3, 1, 0, 0, 1, 0, 1, 0, 0, 2, 2, 0, 1, 1, 1, 3, 0, 2, 2, 3, 3, 3, 0, 1, 2, 2, 3, 3, 1, 3, 3, 0, 2, 3, 2, 0, 2, 0, 2, 0, 2, 2, 3, 2, 2, 3, 0, 0, 0, 3, 1, 0, 3, 2, 2, 3, 3, 0, 2, 1, 3, 2, 3, 3, 2, 3, 1, 1, 0, 3, 1, 2, 2, 1, 1, 1, 0, 3, 1, 3, 2, 0, 2, 1, 1, 1, 1, 2, 1, 1, 0, 0, 2, 2, 3, 1, 2, 0, 2, 3, 0, 0, 2, 2, 3, 1, 2, 0, 2, 1, 2, 2, 0, 3, 0, 2, 2, 3, 3, 2, 3, 3, 3, 2, 2, 3, 3, 0, 2, 0, 0, 2, 2, 1, 1, 1, 3, 3, 3, 0, 2, 2, 3, 2, 2, 2, 0, 2, 0, 1, 2, 3, 3, 3, 3, 0, 3, 1, 2, 1, 1, 1, 2, 3, 0, 0, 3, 1, 2, 0, 2, 3, 1, 2, 0, 2, 3, 1, 0, 2, 1, 1, 0, 1, 0, 2, 3, 0, 1, 2, 2, 1, 3, 2, 2, 1, 2, 3, 3, 2, 3, 2, 0, 2, 3, 0, 2, 3, 3, 2, 3, 3, 2, 0, 3, 2, 2, 3, 1, 2, 3, 1, 3, 3, 3, 0, 1, 2, 1, 3, 2, 3, 3, 2, 3, 2, 3, 1, 1, 2, 3, 3, 1, 3, 3, 3, 0, 1, 3, 3, 3, 3, 0, 1, 3, 3, 3, 3, 0, 2, 2, 0, 3, 0, 1, 1, 0, 2, 0, 1, 1, 2, 2, 1, 0, 3, 1, 3, 0, 2, 2, 1, 0, 0, 0, 2, 3, 2, 3, 1, 0, 0, 3, 3, 3, 2, 2, 0, 3, 0, 3, 2, 1, 1, 0, 3, 3, 1, 3, 0, 2, 2, 3, 2, 1, 1, 1, 2, 1, 2, 1, 3, 2, 3, 1, 0, 3, 0, 0, 3, 3, 1, 1, 1, 1, 1, 1, 1, 3, 1, 1, 2, 1, 2, 1, 0, 3, 0, 1, 1, 0, 1, 1, 2, 3, 0, 0, 3, 2, 3, 1, 1, 3, 3, 0, 0, 2, 2, 1, 0, 3, 1, 3, 3, 3, 3, 2, 1, 1, 2, 3, 2, 2, 2, 2, 3, 1, 1, 0, 2, 3, 0, 3, 3, 1, 1, 2, 3, 1, 3, 0, 2, 3, 0, 1, 1, 3, 1, 0, 3, 0, 2, 0, 3, 2, 2, 1, 0, 2, 2, 0, 0, 2, 3, 1, 2, 3, 0, 0, 2, 2, 2, 2, 0, 0, 1, 1, 0, 1, 1, 0, 0, 1, 0, 1, 2, 1, 2, 3, 2, 0, 1, 2, 1, 2, 2, 3, 0, 2, 1, 2, 2, 1, 0, 2, 0, 1, 2, 1, 2, 1, 3, 1, 1, 1, 1, 1, 0, 3, 2, 1, 1, 3, 0, 0, 0, 0, 1, 0, 2, 1, 1, 0, 1, 1, 2, 2, 1, 0, 2, 3, 3, 0, 3, 3, 0, 0, 0, 0, 1, 1, 2, 3, 2, 2, 1, 1, 3, 1, 0, 2, 2, 2, 1, 3, 0, 0, 2, 2, 0, 2, 3, 1, 3, 3, 3, 1, 0, 1, 1, 2, 3, 2, 3, 3, 2, 0, 3, 2, 2, 0, 3, 0, 3, 3, 0, 2, 0, 3, 2, 3, 1, 0, 2, 3, 2, 0, 0, 0, 3, 1, 3, 2, 3, 2, 1, 0, 0, 2, 2, 3, 3, 0, 3, 3, 3, 1, 0, 2, 3, 3, 0, 1, 1, 1, 0, 0, 0, 1, 3, 2, 0, 2, 3, 1, 0, 3, 0, 0, 1, 1, 0, 3, 0, 2, 2, 0, 1, 0, 3, 0, 2, 2, 1, 3, 0, 2, 2, 2, 3, 0, 0, 2, 2, 2, 0, 2, 2, 0, 0, 0, 3, 3, 3, 1, 2, 2, 2, 3, 0, 0, 2, 1, 2, 0, 0, 2, 2, 2, 2, 1, 3, 2, 0, 2, 3, 3, 3, 0, 3, 0, 3, 0, 3, 1, 1, 1, 0, 1, 1, 1, 1, 1, 0, 2, 3, 2, 2, 1, 0, 2, 0, 0, 0, 0, 3, 2, 0, 0, 0, 3, 3, 2, 1, 2, 1, 3, 3, 2, 3, 2, 2, 0, 2, 2, 1, 2, 1, 2, 1, 2, 2, 3, 0, 3, 3, 3, 1, 0, 3, 0, 3, 2, 3, 3, 3, 3, 3, 2, 0, 3, 0, 0, 2, 0, 0, 1, 0, 2, 3, 0, 2, 1, 1, 3, 0, 0, 3, 0, 0, 0, 1, 1, 2, 1, 2, 1, 2, 2, 2, 1, 2, 0, 2, 2, 1, 2, 0, 2, 2, 1, 1, 1, 2, 1, 2, 3, 3, 0, 0, 0, 1, 1, 1, 2, 2, 1, 0, 2, 3, 3, 1, 0, 1, 1, 1, 1, 2, 3, 1, 1, 0, 3, 1, 3, 3, 1, 1, 3, 3, 1, 0, 0, 2, 2, 2, 3, 3, 0, 1, 2, 1, 0, 0, 2, 1, 3, 0, 3, 3, 2, 3, 0, 0, 0, 3, 3, 2, 3, 3, 2, 0, 0, 2, 2, 2, 3, 1, 3, 2, 1, 3, 2, 2, 3, 3, 2, 2, 1, 1, 3, 2, 0, 3, 2, 0, 2, 3, 0, 3, 0, 2, 3, 0, 2, 3, 1, 3, 0, 2, 0, 2, 2, 3, 0, 0, 0, 0, 0, 2, 3, 1, 2, 3, 3, 0, 1, 1, 1, 2, 2, 3, 1, 2, 3, 2, 3, 0, 0, 3, 3, 0, 3, 0, 0, 0, 2, 0, 0, 0, 3, 3, 2, 1, 1, 0, 2, 0, 0, 2, 3, 3, 1, 1, 0, 3, 3, 0, 0, 0, 3, 1, 2, 0, 0, 0, 3, 0, 1, 0, 0, 0, 0, 1, 1, 1, 1, 1, 0, 1, 0, 1, 0, 1, 1, 0, 3, 0, 1, 3, 0, 3, 2, 1, 0, 1, 2, 1, 1, 0, 0, 0, 2, 0, 1, 1, 0, 2, 2, 0, 2, 1, 0, 1, 1, 0, 1, 0, 3, 0, 2, 3, 1, 0, 0, 2, 0, 2, 3, 2, 2, 2, 1, 0, 2, 0, 2, 2, 1, 1, 1, 0, 3, 2, 0, 2, 2, 2, 0, 2, 1, 1, 0, 1, 2, 1, 3, 1, 0, 3, 0, 2, 0, 0, 3, 0, 3, 0, 3, 0, 2, 2, 1, 0, 1, 1, 0, 3, 2, 0, 1, 0, 2, 0, 1, 2, 2, 0, 2, 2, 1, 0, 0, 1, 2, 1, 3, 3, 0, 3, 1, 1, 0, 0, 0, 3, 3, 2, 0, 3, 2, 0, 2, 3, 0, 0, 0, 2, 3, 0, 1, 3, 3, 0, 3, 2, 2, 0, 2, 3, 3, 1, 0, 3, 2, 3, 2, 0, 2, 0, 0, 3, 0, 3, 3, 3, 2, 1, 2, 1, 0, 0, 0, 2, 2, 2, 3, 3, 1, 0, 3, 0, 3, 1, 0, 2, 2, 2, 3, 3, 2, 3, 0, 1, 2, 1, 3, 2, 2, 1, 3, 0, 2, 2, 3, 3, 3, 1, 1, 0, 1, 0, 3, 3, 1, 3, 2, 0, 1, 1, 0, 0, 1, 0, 2, 2, 2, 0, 2, 0, 0, 3, 0, 3, 3, 0, 0, 2, 2, 2, 3, 0, 1, 2, 2, 1, 1, 1, 0, 3, 3, 3, 2, 2, 3, 1, 0, 0, 0, 0, 0, 3, 3, 2, 0, 1, 1, 3, 1, 2, 2, 2, 1, 0, 3, 3, 3, 1, 2, 0, 1, 2, 1, 1, 0, 3, 2, 2, 0, 3, 3, 2, 3, 2, 1, 0, 2, 2, 3, 1, 2, 3, 3, 2, 3, 1, 0, 0, 3, 3, 1, 1, 0, 1, 1, 1, 2, 0, 0, 0, 3, 3, 1, 3, 0, 1, 1, 3, 2, 0, 0, 2, 1, 1, 0, 2, 2, 0, 2, 1, 2, 2, 2, 3, 2, 1, 3, 0, 0, 2, 0, 0, 0, 3, 2, 1, 0, 3, 1, 1, 0, 3, 3, 2, 2, 3, 1, 0, 1, 3, 1, 0, 1, 0, 0, 1, 2, 0, 0, 1, 0, 2, 1, 0, 0, 0, 0, 3, 0, 0, 0, 1, 0, 1, 0, 1, 3, 1, 1, 0, 1, 1, 0, 0, 0, 0, 1, 1, 2, 1, 1, 1, 1, 1, 2, 1, 1, 0, 1, 3, 1, 1, 0, 2, 3, 1, 1, 3, 3, 1, 0, 0, 0, 1, 0, 1, 1, 1, 3, 1, 1, 0, 2, 3, 2, 0, 1, 1, 2, 2, 2, 2, 1, 0, 0, 0, 1, 3, 3, 3, 3, 3, 2, 3, 2, 3, 0, 3, 3, 1, 1, 1, 3, 0, 2, 0, 2, 2, 3, 3, 2, 0, 2, 3, 0, 1, 3, 2, 2, 0, 3, 3, 1, 1, 2, 3, 2, 3, 2, 2, 2, 0, 0, 0, 3, 1, 0, 2, 1, 2, 2, 1, 0, 0, 1, 1, 1, 1, 0, 2, 1, 3, 3, 2, 1, 3, 2, 0, 1, 2, 2, 3, 3, 2, 2, 1, 0, 2, 1, 2, 1, 0, 0, 3, 3, 1, 3, 3, 2, 3, 0, 0, 2, 2, 0, 3, 3, 3, 3, 3, 3, 0, 0, 2, 3, 1, 1, 2, 1, 0, 2, 3, 2, 1, 3, 2, 0, 3, 0, 3, 0, 3, 0, 2, 2, 3, 1, 1, 3, 3, 2, 0, 0, 2, 3, 3, 3, 2, 1, 1, 1, 0, 2, 1, 2, 3, 2, 2, 0, 1, 2, 0, 2, 0, 3, 1, 1, 0, 1, 3, 0, 0, 3, 2, 3, 2, 3, 3, 0, 0, 0, 2, 2, 3, 2, 2, 0, 3, 2, 2, 2, 1, 2, 0, 1, 0, 2, 3, 3, 1, 0, 3, 0, 1, 1, 2, 0, 0, 3, 2, 3, 3, 0, 2, 1, 2, 1, 1, 3, 3, 1, 0, 2, 1, 3, 3, 1, 3, 1, 2, 1, 1, 0, 0, 2, 0, 0, 1, 2, 1, 2, 0, 3, 2, 1, 2, 3, 2, 1, 3, 3, 0, 2, 0, 3, 3, 3, 2, 0, 2, 2, 1, 1, 1, 1, 2, 2, 0, 3, 3, 0, 0, 3, 2, 0, 0, 3, 2, 2, 2, 2, 3, 3, 3, 1, 0, 0, 2, 3, 1, 3, 3, 3, 2, 3, 1, 3, 1, 1, 2, 1, 3, 3, 1, 1, 1, 0, 1, 2, 3, 0, 2, 2, 2, 0, 0, 2, 2, 3, 0, 1, 2, 1, 0, 1, 1, 0, 0, 2, 3, 3, 0, 2, 2, 2, 2, 3, 0, 1, 0, 3, 2, 3, 3, 3, 1, 3, 3, 3, 0, 2, 2, 1, 1, 1, 0, 3, 1, 0, 2, 0, 2, 0, 0, 2, 1, 3, 1, 0, 1, 3, 1, 1, 2, 1, 3, 1, 0, 2, 1, 2, 0, 0, 2, 0, 1, 1, 2, 1, 2, 2, 1, 1, 3, 1, 0, 0, 1, 0, 0, 0, 1, 0, 1, 0, 3, 3, 2, 1, 0, 0, 1, 2, 0, 2, 1, 2, 1, 2, 3, 0, 1, 0, 0, 2, 0, 2, 0, 1, 1, 0, 1, 2, 0, 1, 1, 2, 2, 0, 0, 0, 0, 1, 0, 1, 1, 0, 0, 1, 0, 0, 1, 1, 1, 0, 1, 1, 1, 1, 2, 2, 2, 1, 0, 2, 3, 3, 1, 0, 1, 1, 0, 2, 1, 1, 3, 0, 0, 1, 0, 0, 1, 1, 0, 1, 1, 0, 0, 3, 1, 0, 3, 0, 0, 3, 0, 2, 2, 2, 1, 1, 2, 2, 2, 3, 0, 3, 3, 0, 0, 2, 2, 3, 3, 2, 3, 1, 3, 3, 0, 2, 0, 3, 3, 1, 2, 3, 3, 2, 1, 3, 3, 2, 1, 2, 1, 0, 1, 3, 3, 1, 2, 2, 0, 0, 2, 1, 2, 1, 3, 1, 3, 0, 1, 0, 2, 1, 2, 0, 1, 2, 1, 0, 1, 1, 0, 2, 1, 0, 0, 3, 3, 0, 0, 3, 3, 2, 3, 2, 3, 2, 3, 0, 3, 2, 0, 2, 0, 3, 2, 2, 0, 2, 3, 0, 2, 2, 1, 0, 0, 3, 0, 0, 2, 2, 1, 3, 1, 3, 3, 1, 2, 3, 0, 0, 2, 2, 3, 3, 1, 3, 3, 0, 2, 3, 1, 0, 2, 3, 3, 1, 0, 3, 3, 3, 2, 0, 2, 1, 1, 0, 3, 2, 1, 0, 0, 3, 3, 0, 1, 1, 2, 1, 2, 1, 1, 1, 2, 1, 2, 1, 0, 2, 0, 1, 3, 0, 3, 0, 2, 1, 0, 3, 1, 0, 0, 2, 2, 0, 3, 0, 0, 1, 1, 1, 2, 3, 3, 0, 3, 0, 2, 0, 0, 2, 3, 0, 2, 3, 0, 3, 0, 3, 0, 2, 2, 3, 0, 2, 2, 2, 2, 2, 2, 1, 2, 0, 1, 3, 1, 1, 0, 1, 0, 0, 3, 1, 2, 3, 1, 3, 1, 0, 0, 1, 0, 0, 2, 3, 0, 0, 2, 0, 2, 0, 3, 2, 1, 1, 1, 0, 2, 1, 1, 1, 1, 1, 1, 0, 2, 0, 3, 3, 2, 3, 3, 3, 1, 3, 1, 2, 1, 0, 3, 2, 2, 0, 2, 3, 1, 2, 0, 2, 2, 3, 0, 3, 3, 0, 2, 2, 3, 2, 2, 1, 3, 1, 2, 0, 3, 3, 1, 3, 3, 1, 1, 2, 2, 3, 1, 1, 3, 0, 3, 0, 3, 3, 3, 2, 2, 3, 0, 2, 0, 0, 3, 0, 3, 0, 1, 3, 2, 1, 1, 2, 0, 0, 0, 0, 3, 0, 1, 3, 1, 0, 0, 2, 1, 2, 1, 3, 1, 2, 3, 1, 3, 2, 1, 0, 2, 2, 2, 0, 2, 2, 0, 1, 0, 3, 1, 0, 3, 1, 2, 3, 1, 0, 3, 1, 3, 2, 3, 0, 0, 3, 0, 2, 0, 2, 2, 3, 3, 1, 3, 3, 0, 3, 0, 0, 1, 1, 3, 1, 1, 0, 0, 1, 3, 1, 3, 0, 1, 3, 1, 0, 3, 1, 0, 1, 1, 1, 0, 3, 1, 0, 1, 2, 1, 3, 1, 2, 1, 2, 0, 0, 1, 1, 1, 1, 3, 2, 3, 0, 1, 1, 3, 0, 0, 0, 1, 0, 1, 3, 2, 1, 2, 3, 1, 2, 1, 3, 0, 1, 0, 2, 2, 3, 2, 3, 0, 1, 3, 0, 3, 2, 1, 2, 1, 1, 2, 1, 3, 3, 2, 3, 2, 2, 2, 1, 3, 2, 0, 1, 2, 1, 0, 2, 1, 1, 2, 2, 1, 3, 2, 2, 2, 0, 3, 2, 1, 2, 2, 3, 2, 0, 2, 0, 1, 2, 1, 1, 0, 1, 2, 2, 2, 1, 3, 2, 1, 3, 2, 0, 1, 0, 0, 0, 3, 0, 1, 1, 1, 2, 2, 2, 1, 1, 3, 1, 2, 1, 1, 2, 1, 1, 2, 2, 0, 2, 2, 3, 1, 3, 0, 2, 0, 0, 3, 2, 3, 1, 2, 3, 1, 2, 2, 1, 3, 2, 0, 3, 1, 1, 2, 3, 1, 2, 2, 2, 3, 1, 2, 0, 0, 2, 1, 3, 1, 2, 2, 2, 2, 0, 1, 3, 3, 0, 2, 2, 1, 0, 2, 3, 0, 2, 3, 2, 3, 3, 1, 0, 1, 1, 1, 3, 3, 2, 3, 1, 2, 2, 0, 2, 2, 1, 3, 0, 2, 3, 3, 0, 2, 0, 2, 1, 0, 0, 3, 0, 0, 2, 3, 0, 2, 3, 3, 3, 2, 3, 3, 3, 2, 3, 3, 3, 3, 0, 2, 3, 3, 2, 3, 3, 2, 0, 3, 3, 2, 3, 0, 0, 1, 2, 3, 2, 3, 2, 0, 0, 2, 3, 3, 1, 0, 3, 3, 2, 2, 0, 2, 2, 3, 1, 3, 3, 3, 3, 1, 0, 3, 3, 3, 0, 3, 3, 0, 3, 0, 1, 1, 3, 2, 1, 2, 1, 0, 1, 0, 2, 1, 0, 0, 0, 1, 1, 1, 1, 1, 1, 1, 2, 2, 1, 0, 1, 0, 2, 2, 2, 2, 1, 0, 1, 1, 0, 0, 2, 3, 1, 0, 0, 0, 3, 1, 1, 1, 1, 0, 2, 0, 0, 0, 1, 0, 0, 0, 2, 1, 0, 0, 0, 0, 2, 2, 3, 1, 1, 0, 3, 3, 2, 1, 1, 1, 2, 0, 0, 2, 0, 3, 0, 2, 1, 1, 2, 2, 2, 2, 1, 2, 0, 0, 3, 1, 1, 0, 2, 3, 1, 2, 0, 3, 3, 2, 2, 2, 2, 2, 0, 3, 3, 3, 2, 2, 0, 3, 3, 2, 2, 2, 2, 3, 3, 1, 0, 2, 3, 3, 3, 3, 3, 1, 3, 3, 3, 3, 1, 2, 1, 2, 2, 0, 3, 3, 3, 3, 3, 2, 2, 3, 2, 3, 1, 0, 2, 3, 1, 2, 3, 1, 0, 3, 0, 0, 0, 3, 1, 2, 2, 2, 2, 3, 1, 0, 2, 2, 3, 3, 2, 2, 3, 1, 0, 0, 2, 2, 3, 0, 0, 3, 3, 3, 3, 1, 3, 3, 2, 3, 3, 3, 2, 3, 3, 2, 1, 1, 3, 2, 2, 2, 1, 1, 3, 3, 3, 3, 0, 2, 3, 0, 3, 3, 2, 2, 0, 3, 3, 2, 1, 1, 2, 3, 3, 0, 1, 2, 2, 2, 3, 3, 3, 1, 3, 3, 0, 0, 3, 1, 0, 0, 3, 2, 2, 1, 2, 0, 3, 3, 0, 3, 1, 3, 1, 1, 2, 3, 3, 0, 3, 2, 3, 1, 3, 3, 2, 0, 2, 1, 2, 2, 2, 3, 1, 2, 3, 2, 3, 2, 1, 3, 3, 0, 0, 2, 1, 1, 2, 2, 1, 2, 1, 0, 2, 1, 0, 2, 2, 1, 2, 2, 2, 1, 3, 1, 0, 3, 3, 0, 3, 3, 0, 0, 2, 2, 0, 0, 1, 2, 2, 3, 3, 0, 2, 1, 2, 3, 2, 3, 0, 2, 1, 3, 1, 0, 2, 2, 2, 1, 0, 3, 3, 1, 2, 0, 0, 3, 1, 0, 2, 3, 3, 1, 3, 2, 1, 0, 2, 1, 0, 3, 0, 3, 0, 1, 1, 1, 1, 2, 2, 0, 1, 1, 0, 0, 2, 3, 2, 1, 0, 1, 2, 3, 0, 0, 2, 2, 2, 2, 1, 0, 0, 0, 3, 1, 2, 2, 2, 3, 3, 3, 1, 0, 0, 3, 0, 3, 0, 0, 0, 0, 3, 0, 2, 3, 3, 2, 3, 2, 1, 3, 3, 3, 2, 3, 0, 1, 0, 0, 3, 2, 1, 0, 2, 3, 2, 0, 0, 1, 0, 1, 0, 0, 1, 0, 2, 3, 3, 1, 1, 0, 1, 2, 1, 3, 0, 1, 3, 1, 1, 1, 2, 3, 1, 1, 1, 1, 0, 1, 2, 1, 1, 1, 2, 1, 1, 3, 0, 3, 3, 0, 3, 3, 1, 0, 2, 3, 1, 1, 1, 0, 1, 3, 3, 1, 0, 2, 1, 0, 3, 1, 1, 1, 2, 1, 0, 0, 1, 1, 1, 0, 0, 0, 3, 3, 1, 1, 0, 1, 1, 0, 0, 3, 1, 2, 3, 1, 0, 3, 1, 1, 3, 3, 3, 2, 0, 2, 3, 0, 0, 1, 0, 3, 2, 1, 2, 2, 3, 3, 3, 2, 2, 3, 2, 3, 2, 1, 3, 2, 1, 1, 2, 3, 3, 3, 0, 2, 3, 2, 3, 2, 2, 2, 0, 3, 0, 1, 3, 3, 1, 2, 0, 3, 3, 1, 1, 2, 3, 3, 3, 0, 0, 0, 1, 0, 3, 1, 1, 1, 2, 0, 0, 2, 0, 0, 3, 1, 0, 2, 2, 0, 3, 1, 0, 3, 1, 1, 0, 0, 0, 3, 3, 0, 2, 3, 2, 3, 1, 0, 2, 2, 2, 2, 1, 2, 2, 1, 2, 2, 1, 3, 3, 3, 3, 3, 2, 2, 3, 3, 3, 0, 2, 3, 3, 1, 3, 3, 2, 3, 3, 2, 3, 2, 3, 2, 0, 2, 1, 0, 0, 3, 3, 1, 0, 0, 3, 1, 1, 2, 0, 0, 0, 1, 0, 0, 3, 0, 0, 2, 0, 3, 3, 0, 1, 3, 2, 2, 3, 3, 1, 1, 3, 2, 1, 0, 0, 3, 3, 0, 1, 2, 0, 3, 3, 2, 0, 2, 0, 2, 3, 2, 3, 0, 0, 0, 3, 3, 2, 2, 2, 0, 2, 2, 0, 0, 2, 0, 2, 2, 3, 0, 2, 3, 1, 1, 2, 0, 2, 0, 1, 2, 0, 1, 0, 1, 3, 0, 2, 1, 3, 0, 1, 1, 3, 2, 1, 2, 0, 0, 0, 1, 1, 1, 2, 2, 1, 0, 0, 3, 0, 0, 2, 2, 3, 0, 1, 0, 0, 0, 2, 2, 2, 1, 2, 1, 2, 2, 0, 3, 1, 2, 2, 1, 3, 3, 2, 3, 0, 2, 3, 2, 3, 3, 3, 1, 3, 2, 2, 2, 2, 2, 3, 2, 2, 1, 3, 3, 0, 1, 3, 3, 3, 2, 3, 1, 1, 0, 2, 2, 0, 0, 0, 0, 0, 2, 2, 2, 1, 2, 2, 3, 1, 1, 0, 3, 1, 0, 3, 3, 2, 0, 2, 2, 3, 2, 2, 3, 2, 1, 2, 0, 1, 1, 3, 2, 3, 3, 3, 2, 2, 3, 3, 1, 3, 0, 1, 2, 1, 0, 3, 3, 2, 3, 0, 0, 2, 2, 1, 2, 2, 2, 1, 0, 0, 2, 3, 1, 3, 2, 0, 3, 2, 2, 1, 0, 0, 1, 2, 0, 2, 3, 3, 1, 1, 3, 0, 2, 3, 0, 0, 1, 0, 2, 2, 3, 3, 3, 2, 0, 3, 0, 1, 1, 1, 0, 0, 1, 1, 1, 3, 1, 1, 1, 0, 0, 0, 2, 1, 1, 1, 2, 0, 3, 3, 2, 1, 1, 1, 2, 1, 0, 0, 0, 1, 1, 2, 2, 1, 2, 1, 2, 1, 1, 1, 0, 1, 0, 2, 2, 1, 1, 2, 0, 1, 1, 3, 1, 0, 2, 0, 0, 0, 2, 2, 1, 0, 0, 0, 0, 1, 0, 2, 1, 0, 3, 3, 0, 2, 1, 2, 1, 2, 1, 0, 2, 2, 3, 1, 0, 2, 2, 1, 1, 0, 0, 3, 2, 2, 2, 2, 2, 3, 3, 2, 2, 3, 0, 0, 0, 0, 0, 2, 1, 2, 3, 3, 3, 3, 0, 1, 2, 0, 2, 3, 3, 1, 2, 2, 2, 3, 3, 2, 1, 3, 1, 3, 0, 3, 2, 2, 2, 0, 3, 3, 1, 2, 2, 0, 2, 3, 1, 2, 3, 1, 3, 2, 1, 1, 1, 1, 0, 3, 1, 0, 3, 2, 3, 3, 3, 3, 3, 0, 3, 3, 1, 3, 0, 3, 3, 0, 3, 1, 0, 1, 1, 1, 1, 0, 1, 0, 2, 2, 0, 0, 0, 1, 0, 2, 0, 3, 2, 3, 2, 2, 2, 3, 3, 0, 0, 2, 3, 1, 2, 1, 2, 1, 0, 2, 2, 2, 3, 1, 1, 3, 2, 3, 3, 3, 2, 1, 1, 1, 0, 2, 2, 2, 2, 2, 0, 0, 2, 0, 1, 3, 3, 1, 3, 0, 3, 0, 1, 1, 2, 2, 1, 3, 0, 1, 0, 1, 1, 2, 1, 1, 1, 3, 1, 0, 0, 0, 2, 0, 0, 0, 1, 0, 1, 1, 1, 1, 1, 1, 2, 1, 0, 0, 1, 0, 1, 0, 2, 3, 2, 2, 2, 3, 0, 2, 0, 1, 2, 3, 0, 0, 0, 3, 0, 1, 3, 2, 1, 0, 2, 2, 1, 2, 2, 2, 3, 2, 0, 3, 0, 0, 2, 1, 1, 1, 0, 3, 2, 2, 2, 1, 0, 0, 0, 1, 0, 2, 3, 1, 0, 0, 0, 1, 2, 3, 2, 1, 1, 3, 0, 1, 1, 3, 0, 1, 2, 3, 1, 3, 1, 2, 0, 2, 2, 0, 3, 0, 1, 0, 0, 0, 1, 1, 2, 1, 0, 2, 1, 0, 1, 1, 1, 1, 3, 2, 1, 1, 2, 1, 1, 1, 3, 2, 1, 2, 0, 0, 0, 1, 1, 1, 0, 1, 0, 3, 1, 2, 2, 0, 3, 3, 0, 3, 2, 3, 3, 0, 2, 2, 3, 3, 1, 1, 3, 2, 1, 2, 3, 0, 1, 0, 0, 0, 3, 2, 2, 1, 2, 2, 0, 0, 3, 1, 2, 2, 2, 3, 0, 2, 0, 2, 3, 1, 1, 0, 1, 3, 2, 1, 0, 1, 1, 3, 1, 2, 3, 3, 0, 1, 3, 0, 0, 1, 2, 1, 2, 1, 0, 0, 1, 1, 2, 2, 1, 0, 0, 2, 2, 2, 2, 0, 2, 0, 2, 3, 0, 2, 1, 2, 3, 3, 3, 0, 3, 1, 3, 1, 3, 3, 1, 0, 3, 1, 2, 0, 2, 1, 2, 2, 0, 1, 0, 3, 2, 3, 3, 2, 1, 1, 2, 0, 3, 2, 1, 0, 2, 1, 3, 3, 1, 1, 0, 2, 2, 1, 2, 2, 2, 1, 0, 0, 0, 0, 3, 2, 1, 0, 2, 3, 2, 3, 1, 0, 2, 2, 2, 3, 0, 0, 3, 0, 3, 3, 2, 1, 3, 2, 2, 2, 1, 2, 2, 3, 3, 1, 0, 0, 1, 1, 2, 0, 2, 1, 1, 2, 0, 0, 0, 1, 1, 2, 1, 3, 2, 3, 3, 1, 3, 0, 3, 3, 3, 3, 3, 3, 3, 3, 3, 0, 2, 3, 1, 0, 0, 3, 3, 3, 1, 0, 0, 2, 3, 3, 3, 3, 3, 2, 3, 1, 3, 1, 2, 2, 2, 0, 2, 0, 0, 2, 2, 1, 1, 3, 3, 1, 0, 0, 0, 2, 3, 3, 3, 2, 1, 0, 3, 2, 3, 0, 2, 0, 2, 3, 3, 1, 3, 0, 1, 2, 2, 3, 2, 1, 3, 0, 0, 3, 3, 2, 0, 3, 0, 3, 3, 3, 3, 3, 2, 2, 2, 2, 2, 2, 0, 0, 2, 0, 0, 0, 1, 1, 1, 2, 1, 2, 1, 3, 3, 3, 2, 2, 1, 3, 1, 1, 3, 1, 1, 1, 2, 2, 0, 0, 1, 1, 1, 1, 0, 0, 2, 1, 1, 1, 0, 1, 2, 0, 0, 0, 1, 3, 0, 2, 1, 0, 3, 3, 2, 2, 1, 3, 1, 3, 3, 3, 0, 0, 1, 2, 2, 1, 0, 2, 2, 1, 1, 1, 2, 3, 1, 1, 0, 1, 2, 1, 1, 2, 0, 3, 2, 2, 1, 2, 1, 0, 3, 1, 0, 0, 2, 0, 0, 2, 3, 0, 3, 2, 1, 3, 3, 3, 2, 0, 2, 0, 1, 0, 0, 2, 0, 3, 2, 2, 3, 3, 0, 2, 3, 0, 1, 1, 1, 2, 2, 2, 0, 3, 0, 2, 0, 1, 2, 0, 3, 3, 2, 1, 1, 2, 2, 0, 3, 3, 2, 3, 3, 3, 2, 1, 1, 2, 1, 1, 1, 1, 2, 3, 3, 1, 0, 0, 1, 2, 0, 0, 3, 0, 0, 2, 3, 2, 0, 2, 3, 0, 2, 0, 3, 3, 0, 3, 2, 3, 0, 2, 2, 3, 2, 2, 1, 3, 3, 2, 2, 3, 0, 3, 3, 2, 2, 0, 3, 3, 2, 3, 0, 1, 0, 1, 3, 3, 1, 2, 0, 1, 0, 2, 2, 0, 0, 1, 0, 2, 2, 2, 3, 3, 1, 0, 0, 1, 3, 1, 0, 3, 3, 1, 1, 3, 3, 2, 0, 2, 0, 3, 2, 2, 1, 2, 1, 2, 2, 0, 3, 3, 1, 2, 2, 2, 2, 0, 2, 3, 2, 3, 1, 2, 3, 3, 1, 1, 3, 2, 2, 0, 0, 2, 2, 3, 0, 1, 3, 0, 1, 1, 1, 0, 0, 2, 3, 3, 1, 1, 1, 1, 1, 3, 1, 1, 3, 2, 0, 1, 1, 1, 0, 1, 1, 1, 0, 1, 1, 0, 0, 0, 2, 1, 1, 0, 3, 0, 0, 0, 2, 1, 1, 1, 1, 1, 0, 1, 2, 1, 1, 1, 1, 3, 0, 1, 0, 0, 1, 0, 1, 3, 0, 2, 3, 3, 3, 0, 2, 2, 1, 1, 1, 2, 3, 2, 2, 1, 0, 0, 1, 1, 2, 0, 0, 0, 2, 2, 0, 2, 3, 1, 2, 1, 1, 2, 0, 0, 0, 2, 2, 2, 1, 0, 0, 3, 3, 0, 2, 2, 2, 0, 0, 1, 3, 0, 0, 2, 2, 3, 1, 3, 2, 0, 2, 2, 0, 3, 1, 3, 3, 3, 3, 3, 3, 1, 0, 1, 1, 0, 1, 2, 1, 0, 0, 2, 1, 1, 1, 2, 3, 0, 3, 2, 0, 3, 3, 1, 0, 2, 2, 3, 2, 3, 3, 3, 3, 1, 2, 1, 3, 0, 0, 0, 1, 1, 1, 2, 3, 0, 2, 3, 3, 3, 3, 1, 0, 2, 2, 2, 0, 3, 2, 2, 3, 0, 2, 3, 2, 3, 0, 1, 1, 0, 1, 3, 1, 3, 2, 1, 2, 1, 0, 1, 1, 0, 0, 3, 1, 3, 2, 0, 0, 0, 3, 3, 1, 0, 2, 2, 0, 3, 1, 3, 0, 2, 2, 3, 1, 1, 1, 0, 1, 1, 0, 2, 2, 3, 3, 0, 2, 3, 3, 1, 1, 0, 1, 3, 0, 2, 3, 1, 1, 2, 2, 3, 0, 0, 3, 3, 3, 3, 2, 1, 2, 3, 3, 3, 0, 2, 3, 2, 1, 1, 2, 3, 3, 1, 3, 2, 2, 1, 1, 1, 1, 0, 3, 2, 3, 3, 2, 1, 0, 2, 1, 2, 1, 2, 2, 2, 2, 2, 3, 1, 2, 3, 1, 0, 0, 0, 3, 2, 2, 2, 2, 3, 0, 2, 3, 2, 0, 3, 0, 0, 1, 0, 0, 3, 1, 2, 3, 0, 0, 1, 3, 1, 1, 2, 1, 0, 3, 2, 3, 3, 0, 2, 3, 3, 3, 1, 2, 0, 2, 3, 0, 1, 2, 2, 0, 0, 2, 0, 3, 3, 2, 0, 1, 3, 0, 3, 3, 3, 2, 2, 1, 0, 3, 1, 0, 2, 1, 1, 0, 0, 2, 0, 2, 0, 0, 0, 3, 3, 2, 0, 0, 3, 2, 2, 2, 1, 1, 0, 2, 2, 2, 2, 2, 2, 3, 0, 2, 1, 1, 2, 3, 3, 3, 0, 3, 0, 1, 1, 3, 3, 1, 1, 1, 0, 2, 1, 2, 3, 1, 1, 0, 1, 3, 3, 1, 1, 0, 0, 1, 0, 0, 1, 1, 2, 2] [2, 1, 2, 1, 1, 1, 1, 1, 2, 2, 1, 2, 2, 1, 2, 1, 1, 1, 1, 2, 2, 2, 2, 1, 1, 2, 1, 1, 1, 1, 1, 1, 1, 1, 1, 1, 2, 2, 1, 1, 1, 1, 1, 2, 1, 1, 1, 2, 1, 1, 1, 1, 1, 1, 2, 1, 2, 1, 2, 2, 1, 1, 1, 2, 1, 1, 1, 1, 1, 1, 2, 1, 1, 1, 1, 1, 1, 1, 1, 1, 1, 1, 2, 2, 1, 1, 2, 1, 1, 2, 1, 1, 2, 2, 1, 1, 1, 2, 1, 2, 1, 2, 1, 2, 1, 1, 2, 1, 1, 1, 2, 2, 2, 1, 1, 1, 1, 1, 2, 1, 2, 1, 1, 1, 2, 1, 1, 1, 1, 1, 1, 1, 1, 1, 1, 1, 1, 1, 1, 2, 1, 1, 1, 1, 1, 1, 1, 2, 1, 1, 1, 1, 1, 1, 2, 1, 2, 1, 1, 1, 1, 2, 2, 1, 1, 2, 1, 2, 1, 1, 1, 1, 2, 1, 1, 1, 1, 1, 1, 1, 2, 1, 1, 2, 1, 1, 1, 1, 1, 1, 2, 1, 1, 1, 2, 2, 2, 1, 2, 1, 1, 2, 1, 1, 1, 1, 1, 2, 1, 2, 1, 1, 1, 1, 1, 1, 2, 2, 1, 1, 1, 1, 1, 1, 2, 1, 1, 1, 2, 1, 1, 1, 2, 2, 1, 1, 2, 1, 1, 2, 2, 1, 1, 2, 2, 2, 2, 1, 1, 1, 1, 1, 1, 2, 2, 1, 2, 1, 2, 1, 1, 1, 1, 2, 1, 1, 1, 2, 1, 1, 1, 1, 2, 2, 1, 1, 1, 1, 2, 1, 2, 1, 1, 1, 1, 1, 2, 2, 1, 1, 1, 1, 2, 1, 1, 2, 1, 1, 1, 2, 1, 2, 2, 2, 2, 1, 2, 2, 1, 1, 2, 1, 1, 2, 2, 1, 2, 2, 1, 2, 2, 1, 1, 2, 1, 2, 1, 1, 1, 2, 1, 1, 1, 1, 1, 1, 1, 1, 1, 1, 1, 1, 1, 1, 1, 2, 2, 1, 1, 2, 1, 1, 1, 1, 1, 1, 1, 2, 1, 1, 1, 1, 2, 1, 1, 1, 1, 2, 1, 1, 1, 1, 1, 1, 1, 2, 1, 1, 2, 1, 1, 1, 1, 1, 1, 1, 1, 1, 1, 1, 1, 1, 1, 1, 1, 1, 1, 1, 1, 1, 1, 1, 1, 1, 1, 1, 2, 2, 1, 1, 2, 1, 1, 1, 1, 1, 1, 2, 2, 1, 1, 1, 2, 1, 1, 1, 2, 2, 1, 1, 1, 1, 1, 2, 1, 2, 2, 1, 2, 2, 1, 1, 1, 2, 1, 2, 2, 1, 1, 2, 1, 1, 2, 1, 1, 1, 1, 2, 1, 2, 1, 1, 1, 1, 1, 1, 1, 2, 1, 1, 1, 2, 1, 2, 1, 2, 1, 2, 1, 2, 2, 1, 2, 1, 1, 2, 1, 2, 1, 1, 1, 1, 1, 1, 2, 1, 2, 1, 1, 1, 1, 1, 1, 1, 1, 1, 1, 1, 2, 1, 1, 1, 2, 1, 1, 1, 1, 2, 1, 1, 2, 1, 1, 1, 1, 1, 2, 1, 1, 1, 1, 2, 2, 2, 2, 2, 2, 1, 1, 2, 1, 1, 1, 1, 1, 2, 2, 1, 1, 2, 1, 1, 1, 1, 2, 2, 1, 1, 2, 2, 1, 1, 2, 2, 1, 2, 1, 1, 2, 1, 1, 1, 1, 1, 1, 2, 1, 1, 2, 1, 1, 2, 2, 1, 1, 1, 2, 1, 2, 2, 1, 2, 1, 1, 2, 1, 2, 2, 2, 1, 2, 2, 2, 2, 1, 1, 1, 1, 1, 1, 1, 1, 1, 1, 1, 2, 2, 1, 1, 2, 1, 2, 1, 2, 1, 1, 1, 2, 2, 1, 2, 1, 2, 1, 2, 2, 2, 1, 1, 1, 2, 1, 1, 1, 1, 2, 1, 1, 1, 2, 1, 2, 1, 1, 1, 1, 2, 1, 1, 1, 2, 2, 1, 2, 2, 1, 1, 2, 1, 1, 1, 1, 1, 2, 1, 1, 1, 1, 1, 1, 2, 1, 1, 1, 1, 2, 1, 1, 1, 1, 1, 1, 1, 1, 1, 1, 1, 1, 1, 1, 1, 1, 2, 1, 1, 1, 1, 1, 2, 2, 2, 2, 1, 1, 1, 1, 1, 1, 1, 2, 1, 1, 1, 1, 1, 1, 1, 2, 2, 2, 2, 1, 1, 1, 1, 1, 1, 1, 1, 1, 1, 1, 1, 1, 2, 2, 2, 1, 1, 1, 1, 1, 1, 1, 1, 1, 1, 1, 2, 1, 2, 2, 2, 2, 1, 1, 1, 1, 1, 1, 2, 1, 1, 1, 1, 1, 2, 1, 2, 1, 1, 1, 1, 1, 1, 1, 1, 1, 2, 1, 1, 1, 1, 1, 1, 1, 1, 1, 1, 1, 1, 1, 1, 1, 1, 1, 1, 1, 1, 1, 1, 1, 2, 1, 1, 1, 1, 1, 1, 1, 1, 1, 1, 1, 2, 1, 1, 1, 1, 1, 1, 1, 1, 1, 1, 2, 1, 1, 1, 2, 1, 1, 1, 1, 1, 1, 1, 1, 1, 1, 1, 1, 1, 1, 1, 1, 1, 1, 1, 2, 1, 1, 1, 1, 2, 2, 1, 2, 1, 1, 1, 1, 1, 1, 1, 1, 1, 1, 1, 1, 2, 1, 1, 2, 1, 1, 1, 1, 1, 2, 2, 1, 2, 1, 1, 1, 1, 1, 1, 1, 1, 1, 2, 1, 2, 1, 2, 2, 1, 2, 1, 2, 1, 1, 2, 1, 2, 1, 1, 1, 2, 2, 2, 2, 1, 1, 1, 1, 2, 1, 2, 2, 1, 2, 2, 1, 2, 1, 1, 1, 1, 2, 2, 1, 2, 1, 1, 1, 1, 1, 2, 1, 1, 2, 2, 2, 1, 2, 1, 1, 1, 1, 1, 1, 2, 2, 1, 1, 2, 1, 2, 1, 1, 1, 1, 1, 2, 2, 1, 1, 2, 1, 2, 1, 1, 1, 1, 1, 1, 2, 1, 2, 1, 1, 1, 1, 1, 1, 1, 1, 2, 1, 2, 1, 1, 1, 2, 1, 1, 1, 2, 2, 1, 1, 2, 1, 1, 1, 2, 1, 1, 1, 2, 2, 2, 2, 1, 2, 1, 2, 1, 2, 2, 1, 1, 1, 2, 2, 1, 1, 1, 1, 2, 1, 2, 2, 1, 1, 1, 1, 1, 2, 1, 1, 1, 1, 1, 1, 1, 2, 1, 1, 1, 2, 1, 1, 2, 1, 2, 1, 2, 1, 2, 1, 2, 1, 2, 2, 2, 1, 1, 1, 1, 2, 1, 1, 1, 2, 1, 1, 1, 1, 1, 2, 1, 1, 1, 2, 1, 2, 1, 2, 1, 2, 1, 1, 1, 2, 1, 1, 1, 2, 1, 1, 1, 2, 2, 1, 1, 2, 1, 1, 2, 2, 2, 2, 2, 1, 1, 1, 1, 2, 2, 1, 1, 1, 1, 1, 1, 1, 1, 1, 2, 2, 1, 1, 1, 1, 1, 1, 1, 2, 1, 1, 1, 2, 1, 1, 1, 1, 2, 1, 1, 2, 2, 1, 2, 1, 1, 1, 1, 1, 1, 1, 1, 1, 1, 1, 1, 1, 1, 1, 2, 2, 1, 1, 1, 1, 2, 1, 1, 1, 1, 1, 1, 1, 1, 1, 1, 1, 1, 1, 1, 1, 1, 1, 1, 1, 1, 2, 2, 2, 1, 2, 1, 1, 1, 1, 1, 2, 1, 1, 1, 2, 1, 1, 1, 1, 1, 1, 1, 1, 1, 1, 2, 2, 2, 1, 1, 1, 1, 1, 1, 2, 1, 1, 1, 1, 1, 1, 1, 2, 1, 2, 2, 1, 1, 1, 1, 1, 1, 1, 1, 1, 1, 2, 1, 1, 2, 1, 1, 1, 1, 1, 2, 1, 1, 2, 1, 1, 2, 1, 1, 1, 1, 2, 2, 1, 1, 2, 1, 2, 2, 2, 2, 2, 1, 2, 1, 1, 1, 1, 1, 1, 1, 2, 1, 1, 1, 1, 1, 2, 1, 1, 2, 2, 1, 1, 2, 2, 1, 1, 1, 1, 1, 1, 2, 1, 1, 1, 2, 2, 1, 1, 2, 1, 2, 2, 1, 1, 1, 1, 1, 2, 1, 2, 1, 2, 1, 1, 1, 1, 1, 1, 1, 2, 1, 2, 2, 1, 2, 1, 1, 1, 2, 1, 2, 2, 1, 2, 2, 1, 1, 2, 2, 1, 1, 1, 1, 1, 2, 1, 1, 1, 1, 1, 1, 2, 2, 1, 2, 1, 2, 1, 1, 2, 1, 1, 1, 1, 1, 1, 1, 1, 1, 1, 1, 1, 1, 2, 2, 2, 1, 1, 1, 2, 2, 1, 1, 1, 2, 2, 1, 1, 1, 1, 1, 1, 1, 1, 2, 2, 2, 2, 1, 1, 1, 1, 2, 2, 1, 2, 1, 2, 2, 1, 1, 2, 1, 1, 2, 2, 1, 1, 1, 1, 2, 2, 1, 1, 1, 1, 2, 1, 1, 1, 1, 1, 1, 2, 1, 2, 1, 1, 2, 1, 2, 1, 1, 1, 1, 2, 2, 2, 1, 2, 2, 1, 1, 1, 1, 1, 1, 1, 1, 2, 1, 1, 1, 1, 2, 2, 1, 2, 1, 1, 1, 1, 2, 1, 2, 2, 2, 2, 2, 1, 2, 1, 1, 1, 1, 1, 1, 1, 2, 1, 1, 1, 1, 1, 2, 2, 1, 1, 1, 1, 1, 1, 1, 1, 1, 1, 2, 1, 1, 1, 1, 1, 2, 1, 2, 1, 2, 1, 1, 1, 2, 1, 1, 1, 1, 2, 1, 1, 1, 1, 1, 1, 1, 1, 1, 1, 1, 1, 1, 2, 1, 1, 1, 2, 1, 1, 1, 1, 2, 1, 1, 1, 1, 1, 2, 1, 1, 1, 1, 1, 1, 2, 1, 1, 1, 1, 2, 2, 1, 1, 1, 2, 2, 2, 2, 2, 1, 1, 1, 2, 1, 1, 2, 1, 1, 2, 2, 1, 1, 1, 1, 1, 2, 1, 2, 1, 1, 1, 2, 2, 1, 1, 2, 1, 1, 2, 1, 1, 1, 2, 1, 2, 1, 1, 1, 1, 2, 1, 2, 1, 1, 1, 1, 2, 2, 2, 1, 1, 1, 2, 1, 1, 1, 1, 2, 1, 1, 1, 1, 1, 2, 1, 2, 1, 1, 2, 1, 1, 1, 1, 2, 1, 2, 2, 2, 2, 2, 2, 2, 2, 2, 1, 1, 2, 1, 1, 1, 2, 1, 2, 1, 1, 1, 2, 1, 1, 1, 2, 1, 1, 1, 1, 2, 2, 2, 2, 1, 1, 2, 2, 2, 1, 2, 1, 2, 1, 1, 1, 1, 2, 1, 1, 1, 1, 1, 1, 1, 1, 1, 1, 2, 1, 2, 1, 1, 1, 1, 1, 1, 1, 1, 2, 1, 1, 1, 1, 1, 2, 1, 1, 2, 1, 1, 2, 2, 2, 1, 2, 2, 1, 1, 1, 1, 2, 1, 2, 1, 1, 1, 1, 1, 1, 1, 1, 2, 2, 2, 1, 1, 2, 2, 1, 1, 2, 1, 1, 1, 1, 1, 1, 2, 1, 1, 1, 1, 2, 1, 1, 2, 1, 1, 1, 1, 2, 1, 1, 1, 2, 1, 2, 2, 1, 1, 1, 1, 2, 1, 2, 1, 1, 1, 1, 2, 1, 1, 1, 1, 1, 1, 2, 1, 2, 1, 1, 1, 2, 1, 2, 2, 1, 2, 1, 1, 1, 1, 2, 2, 2, 2, 2, 1, 1, 1, 1, 1, 1, 1, 1, 2, 2, 1, 1, 1, 1, 1, 1, 1, 2, 2, 2, 1, 1, 2, 1, 1, 1, 1, 2, 1, 1, 1, 1, 1, 1, 2, 1, 1, 1, 1, 1, 1, 2, 1, 1, 1, 2, 1, 2, 1, 1, 2, 1, 2, 1, 2, 2, 1, 1, 1, 1, 1, 2, 2, 2, 1, 1, 1, 1, 1, 1, 1, 1, 2, 1, 1, 1, 1, 1, 1, 1, 1, 1, 1, 2, 1, 1, 1, 1, 2, 2, 1, 1, 2, 1, 1, 1, 2, 1, 2, 1, 1, 2, 2, 1, 1, 1, 2, 1, 1, 1, 1, 1, 2, 1, 1, 1, 1, 2, 1, 1, 2, 1, 2, 1, 1, 2, 1, 2, 1, 2, 1, 2, 1, 1, 1, 1, 1, 1, 1, 1, 2, 2, 1, 1, 2, 1, 1, 1, 1, 1, 2, 1, 1, 1, 1, 1, 1, 1, 1, 1, 1, 1, 1, 1, 1, 1, 1, 2, 1, 1, 1, 1, 2, 1, 1, 1, 1, 1, 1, 1, 1, 1, 1, 2, 1, 1, 1, 1, 1, 1, 1, 1, 1, 1, 1, 1, 1, 1, 1, 1, 1, 2, 2, 1, 2, 1, 1, 1, 1, 1, 1, 1, 1, 1, 1, 1, 2, 1, 2, 1, 2, 1, 1, 1, 1, 1, 1, 1, 1, 2, 1, 1, 2, 1, 2, 1, 2, 2, 2, 1, 2, 2, 1, 1, 1, 2, 2, 2, 1, 1, 2, 2, 1, 1, 1, 1, 2, 2, 2, 1, 1, 2, 1, 1, 2, 2, 1, 2, 2, 1, 1, 1, 1, 1, 1, 2, 2, 2, 1, 1, 1, 1, 1, 1, 1, 1, 1, 1, 1, 1, 2, 2, 1, 1, 1, 1, 1, 2, 1, 2, 1, 2, 2, 1, 2, 1, 1, 1, 1, 2, 2, 2, 1, 2, 2, 1, 2, 1, 1, 1, 2, 1, 1, 1, 1, 1, 1, 2, 2, 1, 1, 1, 1, 1, 1, 1, 2, 1, 2, 2, 2, 2, 1, 2, 2, 1, 2, 2, 2, 1, 1, 2, 2, 2, 1, 1, 2, 1, 1, 2, 1, 2, 1, 1, 1, 1, 2, 1, 1, 1, 2, 2, 1, 1, 1, 1, 1, 1, 1, 2, 1, 2, 1, 1, 1, 1, 1, 1, 1, 2, 2, 2, 2, 2, 1, 1, 1, 2, 1, 1, 1, 1, 1, 2, 1, 1, 2, 1, 1, 2, 1, 1, 2, 1, 1, 2, 2, 1, 1, 2, 2, 1, 1, 2, 1, 1, 2, 1, 1, 1, 1, 1, 1, 2, 1, 1, 1, 1, 1, 1, 2, 2, 2, 1, 2, 2, 1, 1, 2, 1, 1, 1, 2, 2, 1, 2, 2, 2, 1, 1, 1, 1, 1, 1, 1, 1, 2, 2, 1, 2, 1, 1, 1, 1, 1, 1, 2, 1, 2, 1, 1, 1, 2, 1, 2, 2, 2, 1, 1, 1, 2, 1, 1, 2, 1, 1, 1, 2, 1, 1, 1, 2, 1, 1, 1, 1, 1, 2, 1, 1, 1, 2, 1, 1, 1, 1, 1, 1, 1, 2, 2, 1, 1, 1, 1, 2, 1, 1, 2, 2, 2, 2, 1, 1, 1, 2, 1, 1, 1, 1, 1, 1, 2, 1, 1, 1, 1, 2, 1, 1, 1, 1, 1, 1, 1, 1, 2, 1, 2, 2, 1, 1, 1, 1, 2, 2, 1, 1, 1, 2, 2, 2, 1, 2, 2, 1, 1, 2, 2, 2, 1, 2, 1, 2, 2, 1, 1, 1, 1, 1, 1, 1, 1, 1, 1, 1, 1, 1, 1, 1, 2, 1, 1, 2, 2, 1, 1, 1, 2, 1, 1, 1, 1, 2, 1, 2, 1, 2, 1, 1, 1, 1, 2, 1, 1, 1, 1, 1, 1, 1, 1, 2, 1, 1, 2, 2, 1, 1, 1, 1, 1, 1, 1, 1, 1, 1, 1, 1, 1, 1, 1, 1, 1, 1, 1, 1, 2, 1, 1, 1, 1, 1, 1, 1, 1, 1, 1, 1, 1, 2, 1, 1, 1, 1, 1, 2, 2, 2, 1, 1, 1, 1, 1, 1, 2, 1, 1, 1, 1, 1, 1, 1, 1, 1, 1, 1, 1, 1, 1, 2, 1, 1, 1, 1, 1, 1, 1, 2, 1, 1, 1, 2, 1, 1, 2, 1, 1, 2, 1, 1, 1, 1, 2, 1, 2, 1, 2, 1, 2, 1, 1, 2, 2, 2, 2, 2, 1, 1, 1, 2, 1, 1, 2, 2, 1, 2, 1, 2, 2, 1, 2, 2, 1, 1, 2, 2, 1, 1, 1, 1, 1, 2, 2, 1, 1, 1, 1, 1, 1, 2, 2, 1, 2, 1, 1, 1, 1, 2, 1, 1, 1, 1, 2, 1, 2, 1, 2, 2, 2, 1, 1, 1, 2, 2, 2, 1, 2, 1, 2, 1, 2, 2, 1, 1, 2, 1, 2, 2, 1, 2, 2, 1, 2, 2, 2, 1, 1, 2, 2, 1, 2, 2, 2, 1, 1, 1, 1, 2, 1, 1, 2, 2, 2, 2, 2, 2, 1, 1, 1, 1, 2, 1, 1, 1, 2, 1, 2, 1, 2, 1, 1, 1, 2, 2, 1, 1, 1, 1, 2, 1, 2, 1, 1, 1, 1, 2, 1, 1, 1, 2, 1, 1, 1, 1, 1, 2, 1, 1, 1, 2, 2, 1, 1, 2, 1, 1, 1, 2, 1, 2, 1, 2, 1, 2, 1, 1, 2, 1, 2, 2, 1, 1, 2, 1, 1, 1, 1, 1, 1, 1, 1, 1, 2, 2, 2, 1, 1, 2, 1, 2, 2, 1, 1, 2, 2, 1, 2, 1, 1, 2, 1, 2, 1, 2, 1, 2, 1, 1, 1, 2, 2, 1, 1, 1, 1, 2, 1, 2, 1, 2, 2, 1, 2, 1, 1, 1, 2, 2, 1, 1, 1, 1, 1, 1, 1, 1, 1, 1, 1, 2, 1, 1, 1, 1, 1, 2, 2, 2, 2, 1, 1, 1, 2, 2, 2, 2, 2, 1, 2, 1, 2, 1, 1, 1, 1, 1, 1, 1, 2, 1, 2, 1, 2, 2, 1, 1, 1, 2, 1, 1, 1, 1, 2, 1, 1, 1, 2, 1, 1, 1, 1, 1, 1, 1, 1, 1, 1, 2, 1, 1, 1, 1, 1, 2, 1, 1, 1, 1, 1, 1, 1, 1, 1, 2, 2, 1, 1, 1, 1, 1, 1, 1, 1, 1, 1, 1, 2, 2, 1, 1, 1, 1, 2, 1, 2, 1, 2, 1, 1, 2, 2, 2, 2, 2, 2, 1, 1, 1, 2, 2, 1, 1, 1, 2, 1, 1, 2, 1, 1, 2, 1, 2, 1, 1, 1, 1, 2, 1, 1, 1, 1, 1, 1, 2, 2, 1, 1, 1, 2, 2, 1, 1, 1, 2, 1, 1, 2, 1, 1, 1, 2, 2, 2, 1, 1, 1, 1, 1, 1, 1, 1, 1, 1, 1, 1, 1, 1, 2, 1, 1, 1, 1, 2, 1, 2, 2, 1, 1, 2, 1, 1, 2, 1, 1, 2, 1, 1, 1, 1, 2, 1, 1, 1, 1, 1, 1, 1, 1, 1, 1, 1, 1, 1, 1, 1, 1, 1, 1, 1, 1, 1, 1, 1, 1, 1, 2, 2, 1, 1, 2, 1, 2, 1, 1, 1, 2, 2, 1, 1, 1, 1, 2, 1, 1, 1, 1, 1, 1, 1, 1, 1, 1, 2, 1, 1, 2, 1, 2, 2, 1, 2, 2, 1, 2, 2, 1, 1, 1, 1, 1, 2, 2, 2, 1, 1, 2, 1, 1, 1, 2, 1, 2, 1, 1, 2, 1, 2, 1, 1, 2, 2, 1, 1, 2, 1, 1, 1, 1, 1, 2, 1, 2, 2, 2, 2, 1, 1, 1, 2, 1, 1, 2, 1, 1, 2, 1, 1, 1, 1, 1, 2, 1, 1, 1, 1, 1, 1, 1, 1, 2, 2, 1, 2, 1, 1, 1, 1, 1, 1, 1, 1, 1, 1, 1, 1, 1, 1, 1, 1, 1, 1, 2, 2, 1, 1, 1, 2, 1, 2, 1, 1, 1, 2, 2, 2, 1, 2, 1, 1, 2, 1, 2, 2, 2, 1, 2, 1, 1, 2, 1, 1, 1, 1, 2, 1, 1, 2, 2, 1, 1, 1, 2, 2, 1, 2, 1, 2, 1, 1, 2, 1, 2, 1, 2, 1, 1, 1, 1, 1, 1, 1, 1, 1, 1, 1, 2, 2, 2, 1, 1, 2, 1, 1, 1, 1, 1, 2, 1, 1, 1, 1, 2, 2, 1, 1, 1, 2, 2, 2, 1, 2, 2, 1, 2, 2, 1, 1, 1, 2, 1, 2, 2, 1, 1, 1, 1, 1, 1, 1, 1, 1, 2, 1, 1, 2, 1, 1, 2, 2, 1, 1, 1, 1, 1, 1, 1, 1, 1, 1, 2, 1, 1, 1, 1, 2, 1, 1, 2, 1, 2, 2, 1, 1, 2, 1, 2, 1, 1, 2, 2, 1, 1, 1, 2, 2, 1, 1, 1, 2, 1, 1, 1, 1, 2, 1, 2, 1, 2, 1, 1, 1, 1, 1, 1, 1, 2, 1, 1, 1, 1, 2, 1, 1, 1, 1, 1, 1, 2, 1, 1, 1, 1, 1, 1, 1, 2, 1, 1, 1, 2, 1, 1, 1, 2, 1, 2, 1, 1, 2, 1, 2, 1, 1, 1, 1, 1, 1, 1, 1, 1, 2, 1, 1, 1, 1, 2, 1, 2, 2, 2, 2, 1, 1, 1, 2, 2, 1, 1, 1, 2, 1, 1, 1, 1, 1, 1, 1, 2, 1, 1, 1, 1, 1, 1, 2, 1, 1, 1, 1, 2, 1, 2, 1, 1, 2, 1, 1, 1, 1, 2, 1, 2, 2, 2, 1, 1, 1, 2, 1, 2, 1, 1, 2, 1, 1, 1, 1, 1, 1, 2, 1, 2, 1, 2, 1, 1, 1, 1, 1, 2, 2, 1, 2, 1, 1, 1, 1, 1, 1, 1, 1, 2, 1, 1, 1, 1, 1, 2, 1, 1, 1, 1, 1, 1, 1, 1, 1, 1, 1, 1, 1, 1, 2, 1, 1, 1, 2, 1, 1, 1, 1, 1, 1, 1, 1, 1, 1, 1, 1, 1, 1, 1, 1, 1, 1, 1, 2, 1, 1, 2, 1, 1, 1, 1, 1, 1, 1, 1, 1, 1, 2, 1, 2, 1, 1, 1, 1, 2, 1, 2, 1, 1, 1, 1, 1, 2, 1, 1, 1, 1, 1, 1, 1, 1, 1, 2, 1, 2, 1, 2, 1, 2, 1, 1, 1, 2, 1, 2, 1, 1, 1, 1, 2, 2, 1, 2, 2, 2, 1, 1, 1, 1, 1, 1, 2, 1, 2, 1, 1, 2, 1, 2, 1, 1, 1, 1, 2, 1, 2, 1, 2, 1, 1, 1, 1, 1, 1, 1, 2, 1, 1, 2, 1, 1, 1, 2, 2, 1, 2, 2, 1, 1, 1, 1, 2, 1, 1, 1, 1, 1, 1, 1, 1, 1, 1, 2, 1, 2, 1, 1, 2, 1, 2, 2, 1, 1, 2, 1, 1, 1, 1, 1, 1, 1, 2, 2, 2, 1, 1, 2, 1, 1, 1, 2, 2, 2, 2, 1, 1, 1, 1, 2, 1, 2, 1, 2, 2, 1, 2, 1, 1, 1, 1, 2, 2, 1, 2, 2, 1, 1, 2, 1, 1, 1, 1, 2, 2, 2, 2, 1, 2, 1, 1, 1, 2, 1, 2, 1, 2, 1, 1, 1, 2, 2, 1, 1, 1, 1, 1, 1, 1, 1, 1, 1, 1, 2, 2, 1, 1, 1, 1, 2, 1, 1, 2, 1, 1, 1, 2, 1, 1, 1, 1, 1, 2, 1, 1, 2, 2, 2, 2, 1, 1, 2, 2, 1, 1, 1, 1, 1, 2, 1, 2, 2, 1, 1, 1, 1, 1, 1, 1, 2, 1, 2, 1, 1, 1, 1, 1, 2, 1, 1, 1, 1, 1, 2, 1, 1, 1, 1, 1, 2, 1, 1, 1, 2, 2, 2, 1, 2, 2, 2, 2, 2, 1, 1, 1, 2, 1, 1, 2, 2, 2, 2, 2, 1, 1, 2, 2, 2, 1, 1, 1, 1, 1, 1, 2, 1, 1, 2, 1, 1, 1, 2, 1, 1, 1, 1, 2, 1, 2, 2, 1, 1, 1, 2, 2, 1, 2, 1, 2, 2, 2, 1, 2, 1, 1, 1, 1, 2, 1, 1, 1, 2, 1, 1, 1, 1, 1, 1, 1, 2, 1, 2, 2, 1, 1, 1, 1, 1, 1, 1, 1, 1, 1, 1, 2, 1, 1, 1, 1, 1, 1, 1, 1, 2, 1, 1, 1, 1, 1, 1, 1, 1, 1, 1, 1, 1, 1, 1, 1, 1, 1, 1, 1, 1, 1, 1, 2, 1, 1, 1, 1, 1, 1, 1, 1, 1, 1, 2, 1, 1, 1, 1, 2, 1, 1, 1, 2, 1, 1, 1, 1, 1, 1, 1, 1, 1, 1, 1, 1, 1, 2, 2, 1, 1, 1, 1, 1, 2, 2, 2, 1, 1, 1, 2, 1, 1, 1, 1, 1, 1, 2, 1, 2, 1, 1, 2, 2, 1, 1, 1, 1, 1, 2, 1, 2, 2, 1, 2, 2, 1, 2, 1, 1, 1, 1, 2, 2, 1, 1, 1, 1, 1, 2, 2, 2, 2, 2, 2, 2, 1, 2, 1, 2, 1, 1, 2, 1, 2, 1, 1, 1, 1, 1, 1, 1, 1, 1, 2, 1, 2, 1, 2, 1, 1, 2, 1, 1, 2, 1, 2, 2, 2, 2, 1, 1, 2, 1, 1, 1, 1, 1, 2, 2, 1, 1, 2, 1, 1, 1, 1, 2, 2, 1, 1, 1, 2, 2, 1, 1, 1, 1, 1, 2, 1, 1, 2, 1, 1, 2, 2, 2, 1, 1, 2, 2, 1, 1, 2, 1, 1, 1, 2, 2, 2, 1, 1, 1, 1, 2, 1, 1, 2, 1, 2, 1, 2, 1, 1, 1, 1, 2, 1, 1, 2, 2, 2, 1, 1, 2, 1, 1, 1, 1, 1, 1, 1, 1, 2, 1, 1, 2, 2, 1, 2, 2, 2, 1, 1, 1, 1, 2, 1, 2, 2, 1, 2, 2, 1, 1, 1, 2, 1, 1, 1, 2, 1, 1, 1, 1, 2, 2, 1, 1, 2, 1, 1, 2, 2, 1, 1, 1, 2, 1, 2, 1, 1, 2, 2, 1, 1, 2, 1, 1, 2, 1, 1, 1, 2, 1, 1, 1, 1, 2, 1, 1, 1, 2, 1, 2, 1, 2, 2, 1, 2, 1, 2, 1, 1, 1, 1, 2, 1, 1, 2, 1, 2, 1, 2, 2, 1, 1, 1, 1, 2, 2, 1, 1, 1, 1, 1, 1, 2, 1, 1, 1, 2, 1, 2, 2, 1, 1, 1, 1, 1, 1, 2, 2, 1, 1, 1, 2, 2, 2, 1, 2, 1, 1, 1, 1, 1, 1, 1, 1, 1, 1, 1, 2, 1, 1, 2, 2, 1, 1, 1, 2, 1, 1, 1, 1, 2, 1, 1, 1, 1, 1, 1, 1, 1, 2, 1, 2, 2, 2, 2, 1, 2, 1, 1, 2, 2, 2, 2, 1, 1, 1, 2, 1, 1, 2, 2, 1, 1, 1, 1, 2, 1, 1, 2, 1, 2, 1, 1, 1, 1, 2, 1, 1, 1, 1, 1, 1, 2, 1, 1, 1, 1, 2, 1, 2, 1, 1, 2, 1, 1, 1, 2, 1, 1, 2, 1, 1, 1, 1, 1, 1, 1, 1, 1, 1, 1, 1, 1, 1, 2, 1, 1, 1, 1, 1, 1, 2, 1, 2, 1, 2, 1, 1, 2, 1, 1, 1, 1, 2, 1, 1, 1, 1, 1, 1, 1, 2, 1, 1, 1, 1, 2, 1, 1, 1, 1, 1, 1, 1, 1, 1, 1, 1, 1, 1, 1, 1, 1, 1, 1, 1, 1, 1, 2, 2, 2, 1, 1, 1, 2, 2, 1, 1, 1, 1, 1, 2, 1, 1, 2, 1, 1, 1, 1, 1, 1, 1, 1, 1, 1, 1, 1, 1, 1, 1, 1, 1, 1, 1, 1, 2, 2, 1, 1, 1, 2, 2, 2, 2, 2, 1, 1, 1, 1, 2, 2, 2, 1, 2, 1, 1, 1, 1, 1, 2, 1, 1, 1, 1, 2, 1, 2, 2, 1, 2, 1, 1, 1, 2, 1, 1, 1, 2, 1, 1, 2, 2, 1, 1, 2, 1, 2, 1, 2, 1, 1, 2, 1, 1, 2, 1, 1, 2, 1, 2, 1, 1, 1, 1, 1, 2, 1, 1, 1, 1, 2, 1, 1, 2, 1, 2, 1, 2, 2, 2, 2, 1, 2, 2, 2, 2, 1, 2, 2, 2, 2, 1, 1, 1, 2, 2, 1, 1, 1, 1, 1, 1, 2, 1, 1, 1, 1, 2, 1, 1, 2, 2, 1, 1, 2, 2, 1, 1, 1, 2, 1, 1, 2, 1, 1, 1, 2, 2, 1, 1, 1, 1, 2, 1, 2, 1, 2, 1, 1, 1, 1, 2, 1, 1, 1, 2, 1, 1, 1, 1, 1, 1, 2, 1, 1, 1, 1, 1, 2, 1, 1, 2, 1, 1, 2, 1, 1, 1, 2, 1, 1, 2, 1, 2, 1, 2, 2, 1, 2, 1, 1, 1, 1, 1, 2, 1, 1, 1, 2, 1, 1, 1, 1, 2, 1, 1, 2, 2, 1, 2, 1, 1, 1, 1, 2, 1, 1, 1, 2, 2, 2, 2, 2, 1, 1, 1, 1, 1, 1, 1, 1, 1, 1, 1, 2, 1, 1, 2, 1, 1, 1, 1, 1, 1, 1, 1, 2, 1, 1, 1, 2, 1, 2, 2, 1, 1, 1, 1, 1, 1, 2, 1, 1, 1, 1, 1, 1, 1, 2, 1, 1, 1, 2, 1, 1, 1, 1, 2, 1, 2, 1, 1, 2, 2, 2, 1, 1, 2, 1, 2, 1, 2, 2, 1, 1, 2, 1, 1, 2, 1, 2, 2, 2, 1, 1, 1, 1, 1, 1, 2, 1, 2, 2, 1, 1, 1, 2, 1, 1, 1, 2, 1, 2, 1, 1, 2, 2, 2, 2, 2, 1, 2, 1, 1, 1, 1, 2, 1, 1, 1, 2, 1, 1, 2, 1, 1, 1, 1, 1, 1, 1, 1, 1, 1, 1, 2, 1, 1, 1, 2, 1, 2, 2, 1, 1, 1, 1, 1, 2, 2, 2, 1, 2, 2, 1, 1, 1, 1, 1, 2, 1, 1, 1, 2, 1, 1, 1, 1, 2, 2, 2, 1, 1, 1, 1, 2, 1, 2, 2, 1, 1, 1, 2, 1, 1, 1, 1, 1, 1, 1, 1, 1, 1, 1, 1, 1, 1, 1, 1, 1, 1, 1, 1, 1, 1, 1, 1, 1, 1, 1, 1, 1, 1, 1, 1, 2, 1, 1, 1, 2, 1, 1, 1, 1, 1, 1, 1, 1, 1, 2, 1, 1, 1, 1, 1, 1, 1, 1, 1, 1, 1, 2, 1, 1, 1, 1, 1, 2, 1, 2, 1, 1, 1, 1, 2, 2, 2, 1, 1, 1, 2, 1, 1, 2, 1, 2, 1, 1, 2, 1, 2, 1, 2, 1, 2, 2, 1, 1, 1, 2, 1, 1, 1, 1, 1, 2, 1, 1, 2, 2, 1, 1, 1, 1, 2, 1, 2, 2, 1, 2, 2, 1, 1, 1, 1, 1, 1, 2, 1, 1, 2, 1, 2, 2, 1, 1, 1, 1, 1, 2, 2, 1, 1, 2, 1, 1, 1, 1, 1, 1, 1, 2, 1, 2, 1, 1, 1, 1, 2, 1, 1, 2, 1, 1, 2, 2, 1, 2, 1, 2, 1, 2, 1, 1, 1, 1, 2, 1, 1, 1, 2, 2, 1, 2, 1, 1, 2, 2, 1, 2, 1, 1, 2, 2, 1, 2, 1, 2, 2, 1, 1, 1, 1, 1, 1, 2, 1, 2, 2, 2, 2, 1, 1, 1, 2, 1, 2, 2, 1, 1, 2, 2, 1, 2, 2, 2, 1, 1, 1, 1, 1, 1, 1, 1, 2, 1, 1, 1, 2, 2, 1, 2, 2, 1, 1, 1, 2, 1, 2, 1, 2, 1, 2, 1, 1, 1, 1, 2, 1, 1, 1, 1, 2, 1, 2, 1, 2, 1, 1, 2, 1, 1, 1, 2, 2, 2, 2, 2, 1, 2, 1, 2, 1, 1, 1, 1, 2, 1, 1, 1, 1, 2, 1, 1, 1, 2, 1, 1, 2, 2, 2, 1, 1, 1, 1, 2, 2, 1, 2, 2, 2, 1, 2, 1, 1, 2, 1, 1, 2, 1, 2, 1, 1, 2, 1, 1, 1, 1, 1, 1, 1, 1, 2, 1, 1, 1, 1, 2, 1, 1, 1, 1, 1, 1, 1, 1, 1, 1, 1, 1, 1, 1, 1, 1, 1, 1, 2, 1, 2, 1, 1, 1, 1, 1, 1, 1, 2, 1, 1, 1, 1, 1, 1, 1, 1, 1, 1, 2, 1, 1, 1, 1, 1, 1, 1, 1, 1, 1, 1, 1, 1, 2, 2, 1, 1, 1, 1, 1, 2, 2, 1, 1, 1, 2, 2, 1, 2, 1, 2, 1, 1, 1, 1, 2, 2, 2, 2, 1, 1, 1, 1, 1, 1, 1, 1, 2, 2, 1, 1, 1, 1, 2, 2, 2, 2, 2, 2, 1, 2, 1, 1, 2, 1, 1, 1, 2, 2, 2, 2, 2, 1, 1, 1, 1, 2, 2, 1, 2, 1, 2, 1, 1, 2, 1, 1, 1, 2, 1, 2, 2, 2, 1, 2, 1, 2, 1, 2, 2, 1, 2, 1, 1, 1, 1, 2, 1, 2, 2, 1, 1, 1, 1, 1, 1, 2, 1, 2, 2, 2, 2, 1, 1, 1, 2, 2, 1, 1, 1, 2, 1, 1, 1, 2, 2, 2, 2, 1, 1, 2, 1, 2, 1, 1, 2, 2, 2, 1, 1, 2, 1, 2, 2, 2, 1, 1, 1, 1, 2, 2, 1, 1, 1, 1, 2, 1, 1, 2, 1, 1, 1, 1, 2, 2, 1, 1, 1, 2, 1, 1, 1, 2, 1, 1, 1, 2, 1, 1, 2, 1, 2, 1, 2, 2, 1, 1, 1, 1, 1, 1, 2, 2, 2, 1, 2, 1, 1, 1, 2, 1, 1, 1, 1, 1, 2, 2, 1, 1, 1, 1, 2, 1, 2, 2, 1, 1, 1, 1, 2, 2, 1, 2, 1, 2, 1, 2, 1, 2, 1, 2, 2, 1, 1, 2, 1, 1, 2, 2, 1, 2, 1, 1, 2, 1, 1, 2, 2, 1, 2, 2, 2, 1, 1, 1, 1, 1, 1, 1, 1, 2, 1, 1, 2, 2, 1, 1, 1, 2, 1, 1, 1, 1, 2, 1, 2, 1, 1, 2, 1, 2, 1, 1, 1, 1, 2, 1, 2, 1, 1, 2, 2, 1, 2, 1, 1, 1, 1, 1, 2, 2, 2, 1, 1, 1, 1, 1, 1, 1, 1, 1, 1, 1, 1, 1, 1, 1, 1, 2, 2, 1, 1, 1, 1, 1, 2, 1, 2, 1, 1, 1, 1, 1, 2, 1, 2, 1, 2, 2, 1, 1, 1, 2, 1, 1, 2, 2, 2, 2, 1, 2, 1, 1, 1, 1, 1, 1, 1, 1, 1, 1, 2, 1, 1, 1, 1, 2, 1, 2, 1, 1, 1, 1, 1, 1, 1, 1, 1, 1, 1, 2, 1, 1, 2, 2, 1, 1, 1, 1, 1, 1, 1, 1, 1, 1, 2, 1, 1, 1, 1, 1, 1, 2, 1, 1, 1, 1, 1, 1, 1, 1, 2, 1, 1, 1, 1, 1, 1, 1, 1, 1, 1, 1, 2, 1, 1, 1, 1, 1, 1, 2, 1, 1, 1, 1, 1, 2, 1, 1, 1, 1, 1, 1, 1, 1, 1, 1, 1, 2, 2, 1, 1, 1, 2, 1, 1, 1, 1, 1, 1, 1, 1, 1, 1, 2, 1, 1, 1, 1, 1, 1, 1, 1, 1, 2, 2, 1, 2, 1, 1, 1, 2, 2, 1, 2, 2, 2, 2, 1, 1, 1, 1, 1, 1, 1, 2, 2, 2, 1, 1, 1, 1, 2, 2, 1, 2, 1, 2, 1, 1, 1, 2, 2, 2, 2, 2, 2, 2, 2, 1, 1, 2, 2, 1, 1, 1, 1, 1, 2, 1, 2, 1, 2, 2, 1, 1, 2, 2, 2, 1, 1, 1, 2, 1, 1, 2, 1, 1, 1, 2, 1, 1, 1, 1, 1, 2, 1, 1, 2, 1, 1, 1, 1, 1, 2, 1, 1, 1, 1, 1, 1, 2, 1, 1, 1, 2, 1, 1, 1, 1, 2, 2, 2, 1, 2, 1, 1, 2, 2, 1, 2, 1, 1, 2, 1, 1, 2, 1, 1, 1, 1, 2, 1, 1, 1, 2, 1, 2, 1, 1, 2, 2, 2, 1, 2, 1, 2, 1, 1, 1, 2, 2, 1, 1, 1, 1, 1, 1, 2, 2, 1, 2, 1, 1, 1, 2, 1, 1, 1, 1, 2, 2, 1, 1, 2, 1, 2, 1, 1, 1, 1, 2, 2, 1, 1, 1, 2, 1, 1, 1, 2, 2, 2, 1, 2, 1, 2, 1, 2, 1, 2, 1, 1, 1, 1, 1, 1, 2, 2, 2, 1, 2, 1, 1, 1, 2, 1, 2, 2, 1, 1, 1, 1, 1, 1, 2, 1, 2, 1, 1, 2, 2, 1, 1, 1, 1, 1, 2, 1, 1, 1, 1, 1, 1, 2, 1, 1, 1, 1, 1, 1, 1, 1, 2, 1, 1, 2, 1, 2, 1, 1, 2, 2, 1, 1, 1, 1, 1, 2, 2, 1, 2, 1, 1, 1, 2, 2, 1, 1, 1, 2, 1, 2, 2, 2, 2, 2, 1, 2, 2, 2, 1, 2, 2, 1, 1, 1, 2, 2, 2, 2, 2, 2, 1, 1, 2, 2, 1, 1, 2, 2, 2, 1, 2, 1, 1, 1, 2, 1, 1, 1, 1, 1, 1, 2, 2, 1, 1, 1, 1, 2, 1, 1, 1, 2, 1, 1, 2, 1, 1, 1, 2, 1, 2, 2, 1, 1, 1, 1, 1, 1, 1, 1, 2, 2, 2, 1, 2, 1, 2, 1, 1, 1, 1, 1, 1, 2, 1, 1, 2, 1, 2, 1, 1, 1, 1, 1, 1, 2, 2, 2, 1, 1, 2, 2, 2, 1, 1, 2, 1, 1, 2, 1, 1, 1, 1, 1, 2, 1, 2, 1, 2, 1, 1, 2, 1, 2, 1, 1, 2, 1, 1, 2, 1, 1, 1, 2, 2, 1, 1, 1, 1, 1, 1, 1, 1, 1, 1, 1, 1, 1, 1, 1, 1, 1, 1, 1, 1, 1, 1, 1, 1, 1, 1, 2, 1, 1, 1, 2, 1, 1, 1, 1, 1, 1, 1, 1, 1, 1, 1, 1, 1, 1, 1, 1, 1, 1, 2, 1, 1, 1, 1, 1, 1, 1, 1, 1, 2, 1, 1, 1, 1, 2, 2, 1, 2, 1, 1, 1, 1, 1, 2, 1, 1, 1, 2, 2, 2, 1, 2, 1, 1, 1, 1, 1, 2, 1, 1, 1, 2, 2, 1, 1, 1, 1, 2, 2, 2, 2, 1, 1, 1, 2, 1, 2, 1, 1, 1, 1, 1, 1, 2, 1, 2, 2, 2, 1, 2, 1, 1, 2, 2, 1, 2, 2, 1, 2, 2, 2, 1, 2, 2, 1, 2, 1, 2, 1, 2, 2, 2, 2, 1, 1, 1, 1, 2, 1, 1, 1, 2, 1, 2, 2, 1, 2, 2, 1, 1, 1, 1, 1, 1, 1, 1, 1, 2, 1, 1, 2, 2, 1, 1, 1, 1, 1, 2, 1, 2, 1, 1, 1, 1, 2, 1, 1, 1, 1, 1, 1, 1, 1, 2, 1, 1, 1, 1, 1, 1, 1, 2, 1, 1, 1, 1, 1, 2, 2, 1, 1, 2, 1, 1, 2, 1, 2, 1, 1, 1, 1, 2, 1, 1, 1, 1, 1, 1, 1, 1, 2, 1, 1, 1, 1, 2, 2, 1, 2, 2, 1, 1, 2, 1, 1, 2, 2, 1, 1, 1, 2, 1, 1, 1, 2, 2, 1, 1, 1, 1, 1, 1, 1, 2, 1, 1, 1, 1, 1, 1, 1, 1, 1, 1, 1, 1, 1, 1, 1, 1, 1, 1, 1, 1, 1, 1, 1, 1, 1, 1, 1, 1, 2, 2, 2, 1, 2, 1, 1, 1, 1, 1, 1, 1, 1, 1, 1, 1, 1, 1, 2, 1, 1, 1, 2, 2, 1, 1, 2, 1, 1, 2, 1, 2, 1, 1, 2, 1, 1, 1, 1, 1, 2, 2, 2, 1, 1, 1, 1, 1, 1, 2, 1, 1, 1, 1, 1, 1, 1, 1, 2, 1, 1, 1, 1, 1, 1, 1, 1, 1, 2, 1, 1, 1, 1, 2, 1, 1, 1, 1, 1, 1, 1, 2, 1, 1, 1, 1, 2, 1, 1, 2, 1, 1, 1, 1, 1, 1, 1, 1, 1, 1, 2, 1, 1, 1, 2, 2, 1, 2, 2, 1, 1, 1, 1, 1, 1, 1, 1, 1, 1, 2, 2, 1, 1, 1, 1, 2, 2, 1, 1, 1, 1, 1, 1, 1, 1, 1, 1, 2, 1, 2, 2, 1, 1, 1, 1, 1, 1, 2, 2, 1, 1, 2, 1, 1, 1, 1, 1, 1, 1, 1, 1, 2, 1, 2, 2, 1, 1, 1, 1, 2, 1, 1, 1, 1, 1, 1, 1, 2, 1, 2, 1, 1, 2, 1, 1, 1, 2, 1, 1, 1, 1, 1, 1, 1, 1, 1, 1, 1, 1, 1, 2, 2, 2, 1, 1, 2, 2, 2, 1, 2, 1, 2, 1, 2, 1, 1, 1, 1, 1, 1, 1, 1, 1, 1, 2, 1, 2, 1, 2, 1, 2, 1, 1, 1, 2, 1, 2, 1, 1, 1, 1, 1, 2, 1, 1, 1, 1, 2, 1, 1, 1, 1, 1, 1, 1, 2, 2, 1, 2, 1, 2, 1, 1, 1, 1, 1, 2, 1, 1, 1, 2, 1, 2, 1, 1, 2, 1, 2, 2, 1, 2, 1, 1, 1, 1, 2, 2, 1, 1, 2, 2, 2, 1, 2, 2, 1, 1, 1, 1, 2, 1, 1, 2, 1, 1, 1, 1, 2, 1, 1, 1, 1, 1, 2, 1, 1, 2, 1, 1, 1, 2, 1, 1, 1, 2, 1, 1, 1, 1, 2, 1, 2, 1, 1, 1, 1, 1, 1, 1, 2, 1, 1, 1, 2, 2, 1, 1, 1, 2, 2, 1, 1, 1, 1, 2, 2, 2, 1, 2, 1, 1, 1, 1, 1, 1, 1, 1, 1, 1, 1, 1, 1, 1, 2, 1, 2, 1, 1, 1, 2, 2, 1, 2, 1, 2, 1, 1, 1, 2, 1, 1, 2, 2, 2, 2, 1, 1, 1, 1, 2, 1, 2, 1, 1, 1, 2, 1, 1, 1, 2, 2, 1, 2, 2, 2, 2, 1, 1, 2, 1, 1, 1, 1, 1, 1, 1, 1, 2, 1, 1, 1, 1, 1, 2, 1, 2, 1, 1, 2, 1, 1, 1, 2, 2, 1, 1, 1, 1, 1, 1, 1, 1, 2, 1, 1, 1, 1, 1, 2, 1, 1, 1, 1, 1, 1, 2, 1, 1, 2, 2, 2, 2, 1, 1, 1, 2, 1, 2, 1, 1, 1, 2, 1, 1, 1, 1, 2, 1, 1, 1, 2, 2, 1, 1, 1, 1, 2, 1, 1, 2, 1, 2, 2, 1, 1, 2, 1, 1, 1, 1, 1, 1, 2, 1, 1, 1, 1, 1, 1, 2, 1, 2, 1, 2, 1, 1, 2, 1, 1, 1, 2, 2, 2, 1, 2, 1, 2, 2, 1, 2, 1, 1, 1, 1, 1, 1, 1, 1, 1, 1, 2, 2, 1, 1, 2, 1, 2, 1, 2, 1, 1, 2, 2, 1, 2, 1, 2, 2, 1, 1, 2, 1, 1, 1, 1, 1, 1, 1, 1, 1, 1, 1, 1, 1, 1, 1, 1, 2, 2, 1, 1, 2, 1, 2, 1, 1, 1, 1, 1, 1, 1, 2, 1, 1, 2, 1, 1, 2, 2, 1, 2, 2, 1, 2, 2, 1, 2, 1, 1, 2, 1, 2, 1, 1, 1, 1, 2, 2, 2, 1, 2, 1, 1, 2, 1, 1, 1, 1, 2, 2, 2, 1, 1, 1, 1, 1, 1, 2, 1, 1, 1, 1, 1, 1, 1, 1, 1, 1, 1, 1, 1, 1, 1, 2, 1, 1, 1, 1, 1, 1, 1, 2, 1, 2, 2, 1, 1, 1, 1, 2, 1, 2, 2, 1, 2, 2, 2, 1, 1, 1, 2, 1, 1, 1, 2, 2, 1, 1, 1, 2, 1, 1, 1, 1, 1, 1, 1, 1, 1, 1, 1, 2, 1, 2, 1, 1, 1, 1, 1, 1, 1, 1, 1, 2, 1, 1, 1, 1, 1, 2, 1, 1, 1, 1, 1, 1, 1, 1, 2, 1, 1, 1, 1, 1, 1, 1, 1, 1, 1, 1, 1, 1, 1, 1, 1, 1, 1, 1, 1, 1, 1, 1, 1, 1, 1, 1, 1, 1, 1, 2, 2, 1, 1, 1, 2, 1, 1, 1, 1, 2, 1, 1, 2, 1, 1, 1, 1, 1, 2, 1, 1, 1, 1, 1, 1, 1, 1, 1, 2, 1, 1, 1, 1, 1, 1, 1, 2, 1, 1, 1, 1, 2, 1, 1, 2, 2, 1, 1, 1, 1, 2, 1, 1, 2, 2, 1, 1, 1, 2, 1, 2, 1, 1, 1, 1, 2, 1, 2, 2, 1, 1, 1, 1, 2, 1, 1, 1, 2, 1, 1, 1, 1, 1, 1, 1, 2, 2, 1, 2, 2, 1, 1, 2, 1, 1, 1, 2, 1, 1, 2, 1, 2, 2, 1, 2, 1, 2, 1, 1, 1, 1, 1, 1, 2, 1, 1, 2, 1, 1, 1, 2, 1, 1, 2, 1, 2, 1, 2, 2, 1, 2, 1, 1, 2, 2, 1, 1, 1, 1, 1, 1, 1, 1, 1, 2, 1, 2, 1, 1, 1, 1, 1, 1, 2, 1, 1, 1, 1, 1, 1, 1, 2, 1, 1, 1, 1, 1, 2, 1, 2, 1, 2, 1, 2, 1, 1, 1, 1, 1, 1, 1, 1, 2, 2, 2, 1, 2, 2, 2, 1, 1, 1, 1, 1, 1, 2, 1, 1, 1, 2, 2, 1, 1, 2, 2, 1, 1, 1, 1, 1, 1, 2, 2, 2, 1, 2, 1, 2, 1, 1, 1, 1, 1, 1, 1, 1, 2, 1, 1, 1, 1, 1, 1, 2, 1, 1, 2, 1, 1, 2, 1, 2, 1, 2, 2, 2, 2, 2, 1, 1, 2, 2, 1, 1, 1, 1, 1, 2, 2, 2, 2, 2, 1, 2, 2, 2, 1, 1, 1, 1, 1, 1, 1, 1, 1, 2, 1, 1, 2, 1, 2, 1, 1, 1, 1, 1, 1, 1, 1, 2, 1, 1, 1, 1, 1, 1, 2, 1, 2, 1, 1, 1, 2, 2, 1, 1, 2, 1, 1, 2, 1, 1, 1, 1, 1, 2, 1, 2, 2, 2, 1, 1, 1, 1, 1, 2, 1, 1, 1, 1, 1, 1, 2, 1, 1, 1, 1, 1, 1, 1, 2, 2, 2, 2, 2, 1, 1, 1, 2, 2, 2, 2, 2, 2, 1, 1, 1, 1, 1, 1, 1, 2, 2, 1, 2, 1, 1, 1, 2, 2, 1, 1, 1, 1, 1, 1, 2, 2, 1, 1, 2, 1, 1, 2, 1, 1, 1, 1, 1, 1, 1, 1, 1, 1, 2]\n"
     ]
    },
    {
     "name": "stderr",
     "output_type": "stream",
     "text": [
      "\n",
      "/home/IAIS/rrao/.local/lib/python3.9/site-packages/sklearn/metrics/_classification.py:1517: UndefinedMetricWarning: Precision is ill-defined and being set to 0.0 in labels with no predicted samples. Use `zero_division` parameter to control this behavior.\n",
      "  _warn_prf(average, modifier, f\"{metric.capitalize()} is\", len(result))\n",
      "/home/IAIS/rrao/.local/lib/python3.9/site-packages/sklearn/metrics/_classification.py:1517: UndefinedMetricWarning: Precision is ill-defined and being set to 0.0 in labels with no predicted samples. Use `zero_division` parameter to control this behavior.\n",
      "  _warn_prf(average, modifier, f\"{metric.capitalize()} is\", len(result))\n",
      "/home/IAIS/rrao/.local/lib/python3.9/site-packages/sklearn/metrics/_classification.py:1517: UndefinedMetricWarning: Precision is ill-defined and being set to 0.0 in labels with no predicted samples. Use `zero_division` parameter to control this behavior.\n",
      "  _warn_prf(average, modifier, f\"{metric.capitalize()} is\", len(result))\n"
     ]
    }
   ],
   "source": [
    "model = CNNModel().to(device)\n",
    "evaluate_syn(model, synthetic_text_data, synthetic_labels, test_loader, device, num_epochs=10, lr=0.001)"
   ]
  },
  {
   "cell_type": "code",
   "execution_count": 62,
   "id": "83d36d53-04b2-4f01-bb9c-b757ed72db6c",
   "metadata": {},
   "outputs": [
    {
     "name": "stderr",
     "output_type": "stream",
     "text": [
      "Training Epoch 1/300: 100%|███████████████████| 4/4 [00:00<00:00, 254.16batch/s]\n",
      "Training Epoch 2/300: 100%|███████████████████| 4/4 [00:00<00:00, 255.55batch/s]\n",
      "Training Epoch 3/300: 100%|███████████████████| 4/4 [00:00<00:00, 267.56batch/s]\n",
      "Training Epoch 4/300: 100%|███████████████████| 4/4 [00:00<00:00, 267.98batch/s]\n",
      "Training Epoch 5/300: 100%|███████████████████| 4/4 [00:00<00:00, 240.06batch/s]\n",
      "Training Epoch 6/300: 100%|███████████████████| 4/4 [00:00<00:00, 240.53batch/s]\n",
      "Training Epoch 7/300: 100%|███████████████████| 4/4 [00:00<00:00, 239.29batch/s]\n",
      "Training Epoch 8/300: 100%|███████████████████| 4/4 [00:00<00:00, 244.23batch/s]\n",
      "Training Epoch 9/300: 100%|███████████████████| 4/4 [00:00<00:00, 251.81batch/s]\n",
      "Training Epoch 10/300: 100%|██████████████████| 4/4 [00:00<00:00, 239.93batch/s]\n"
     ]
    },
    {
     "name": "stdout",
     "output_type": "stream",
     "text": [
      "Epoch [10/300], Train Loss: 3.5345, Train Accuracy: 53.50%\n"
     ]
    },
    {
     "name": "stderr",
     "output_type": "stream",
     "text": [
      "Training Epoch 11/300: 100%|██████████████████| 4/4 [00:00<00:00, 225.42batch/s]\n",
      "Training Epoch 12/300: 100%|██████████████████| 4/4 [00:00<00:00, 238.55batch/s]\n",
      "Training Epoch 13/300: 100%|██████████████████| 4/4 [00:00<00:00, 256.23batch/s]\n",
      "Training Epoch 14/300: 100%|██████████████████| 4/4 [00:00<00:00, 248.46batch/s]\n",
      "Training Epoch 15/300: 100%|██████████████████| 4/4 [00:00<00:00, 284.11batch/s]\n",
      "Training Epoch 16/300: 100%|██████████████████| 4/4 [00:00<00:00, 253.05batch/s]\n",
      "Training Epoch 17/300: 100%|██████████████████| 4/4 [00:00<00:00, 256.41batch/s]\n",
      "Training Epoch 18/300: 100%|██████████████████| 4/4 [00:00<00:00, 259.43batch/s]\n",
      "Training Epoch 19/300: 100%|██████████████████| 4/4 [00:00<00:00, 260.45batch/s]\n",
      "Training Epoch 20/300: 100%|██████████████████| 4/4 [00:00<00:00, 263.13batch/s]\n",
      "Training Epoch 21/300: 100%|██████████████████| 4/4 [00:00<00:00, 267.77batch/s]\n",
      "Training Epoch 22/300: 100%|██████████████████| 4/4 [00:00<00:00, 271.30batch/s]\n",
      "Training Epoch 23/300: 100%|██████████████████| 4/4 [00:00<00:00, 264.11batch/s]\n",
      "Training Epoch 24/300: 100%|██████████████████| 4/4 [00:00<00:00, 274.07batch/s]\n",
      "Training Epoch 25/300: 100%|██████████████████| 4/4 [00:00<00:00, 270.98batch/s]\n",
      "Training Epoch 26/300: 100%|██████████████████| 4/4 [00:00<00:00, 265.03batch/s]\n",
      "Training Epoch 27/300: 100%|██████████████████| 4/4 [00:00<00:00, 271.76batch/s]\n",
      "Training Epoch 28/300: 100%|██████████████████| 4/4 [00:00<00:00, 266.89batch/s]\n",
      "Training Epoch 29/300: 100%|██████████████████| 4/4 [00:00<00:00, 261.60batch/s]\n",
      "Training Epoch 30/300: 100%|██████████████████| 4/4 [00:00<00:00, 264.28batch/s]\n",
      "Training Epoch 31/300: 100%|██████████████████| 4/4 [00:00<00:00, 254.40batch/s]\n",
      "Training Epoch 32/300: 100%|██████████████████| 4/4 [00:00<00:00, 256.21batch/s]\n",
      "Training Epoch 33/300: 100%|██████████████████| 4/4 [00:00<00:00, 255.82batch/s]\n",
      "Training Epoch 34/300: 100%|██████████████████| 4/4 [00:00<00:00, 257.86batch/s]\n",
      "Training Epoch 35/300: 100%|██████████████████| 4/4 [00:00<00:00, 253.85batch/s]\n",
      "Training Epoch 36/300: 100%|██████████████████| 4/4 [00:00<00:00, 247.88batch/s]\n",
      "Training Epoch 37/300: 100%|██████████████████| 4/4 [00:00<00:00, 253.31batch/s]\n",
      "Training Epoch 38/300: 100%|██████████████████| 4/4 [00:00<00:00, 254.54batch/s]\n",
      "Training Epoch 39/300: 100%|██████████████████| 4/4 [00:00<00:00, 261.32batch/s]\n",
      "Training Epoch 40/300: 100%|██████████████████| 4/4 [00:00<00:00, 263.11batch/s]\n",
      "Training Epoch 41/300: 100%|██████████████████| 4/4 [00:00<00:00, 256.89batch/s]\n",
      "Training Epoch 42/300: 100%|██████████████████| 4/4 [00:00<00:00, 247.79batch/s]\n",
      "Training Epoch 43/300: 100%|██████████████████| 4/4 [00:00<00:00, 249.81batch/s]\n",
      "Training Epoch 44/300: 100%|██████████████████| 4/4 [00:00<00:00, 249.99batch/s]\n",
      "Training Epoch 45/300: 100%|██████████████████| 4/4 [00:00<00:00, 248.87batch/s]\n",
      "Training Epoch 46/300: 100%|██████████████████| 4/4 [00:00<00:00, 247.21batch/s]\n",
      "Training Epoch 47/300: 100%|██████████████████| 4/4 [00:00<00:00, 248.48batch/s]\n",
      "Training Epoch 48/300: 100%|██████████████████| 4/4 [00:00<00:00, 242.38batch/s]\n",
      "Training Epoch 49/300: 100%|██████████████████| 4/4 [00:00<00:00, 255.74batch/s]\n",
      "Training Epoch 50/300: 100%|██████████████████| 4/4 [00:00<00:00, 266.75batch/s]\n",
      "Training Epoch 51/300: 100%|██████████████████| 4/4 [00:00<00:00, 249.31batch/s]\n",
      "Training Epoch 52/300: 100%|██████████████████| 4/4 [00:00<00:00, 254.64batch/s]\n",
      "Training Epoch 53/300: 100%|██████████████████| 4/4 [00:00<00:00, 257.96batch/s]\n",
      "Training Epoch 54/300: 100%|██████████████████| 4/4 [00:00<00:00, 257.86batch/s]\n",
      "Training Epoch 55/300: 100%|██████████████████| 4/4 [00:00<00:00, 253.54batch/s]\n",
      "Training Epoch 56/300: 100%|██████████████████| 4/4 [00:00<00:00, 257.32batch/s]\n",
      "Training Epoch 57/300: 100%|██████████████████| 4/4 [00:00<00:00, 254.41batch/s]\n",
      "Training Epoch 58/300: 100%|██████████████████| 4/4 [00:00<00:00, 255.62batch/s]\n",
      "Training Epoch 59/300: 100%|██████████████████| 4/4 [00:00<00:00, 265.29batch/s]\n",
      "Training Epoch 60/300: 100%|██████████████████| 4/4 [00:00<00:00, 254.12batch/s]\n",
      "Training Epoch 61/300: 100%|██████████████████| 4/4 [00:00<00:00, 253.42batch/s]\n",
      "Training Epoch 62/300: 100%|██████████████████| 4/4 [00:00<00:00, 256.16batch/s]\n",
      "Training Epoch 63/300: 100%|██████████████████| 4/4 [00:00<00:00, 261.45batch/s]\n",
      "Training Epoch 64/300: 100%|██████████████████| 4/4 [00:00<00:00, 255.09batch/s]\n",
      "Training Epoch 65/300: 100%|██████████████████| 4/4 [00:00<00:00, 262.18batch/s]\n",
      "Training Epoch 66/300: 100%|██████████████████| 4/4 [00:00<00:00, 249.23batch/s]\n",
      "Training Epoch 67/300: 100%|██████████████████| 4/4 [00:00<00:00, 256.31batch/s]\n",
      "Training Epoch 68/300: 100%|██████████████████| 4/4 [00:00<00:00, 258.45batch/s]\n",
      "Training Epoch 69/300: 100%|██████████████████| 4/4 [00:00<00:00, 260.73batch/s]\n",
      "Training Epoch 70/300: 100%|██████████████████| 4/4 [00:00<00:00, 252.10batch/s]\n",
      "Training Epoch 71/300: 100%|██████████████████| 4/4 [00:00<00:00, 262.75batch/s]\n",
      "Training Epoch 72/300: 100%|██████████████████| 4/4 [00:00<00:00, 260.39batch/s]\n",
      "Training Epoch 73/300: 100%|██████████████████| 4/4 [00:00<00:00, 259.99batch/s]\n",
      "Training Epoch 74/300: 100%|██████████████████| 4/4 [00:00<00:00, 260.27batch/s]\n",
      "Training Epoch 75/300: 100%|██████████████████| 4/4 [00:00<00:00, 258.66batch/s]\n",
      "Training Epoch 76/300: 100%|██████████████████| 4/4 [00:00<00:00, 260.90batch/s]\n",
      "Training Epoch 77/300: 100%|██████████████████| 4/4 [00:00<00:00, 262.39batch/s]\n",
      "Training Epoch 78/300: 100%|██████████████████| 4/4 [00:00<00:00, 253.46batch/s]\n",
      "Training Epoch 79/300: 100%|██████████████████| 4/4 [00:00<00:00, 265.91batch/s]\n",
      "Training Epoch 80/300: 100%|██████████████████| 4/4 [00:00<00:00, 261.40batch/s]\n",
      "Training Epoch 81/300: 100%|██████████████████| 4/4 [00:00<00:00, 258.01batch/s]\n",
      "Training Epoch 82/300: 100%|██████████████████| 4/4 [00:00<00:00, 250.70batch/s]\n",
      "Training Epoch 83/300: 100%|██████████████████| 4/4 [00:00<00:00, 250.93batch/s]\n",
      "Training Epoch 84/300: 100%|██████████████████| 4/4 [00:00<00:00, 252.93batch/s]\n",
      "Training Epoch 85/300: 100%|██████████████████| 4/4 [00:00<00:00, 256.83batch/s]\n",
      "Training Epoch 86/300: 100%|██████████████████| 4/4 [00:00<00:00, 249.26batch/s]\n",
      "Training Epoch 87/300: 100%|██████████████████| 4/4 [00:00<00:00, 249.60batch/s]\n",
      "Training Epoch 88/300: 100%|██████████████████| 4/4 [00:00<00:00, 249.82batch/s]\n",
      "Training Epoch 89/300: 100%|██████████████████| 4/4 [00:00<00:00, 253.13batch/s]\n",
      "Training Epoch 90/300: 100%|██████████████████| 4/4 [00:00<00:00, 262.95batch/s]\n",
      "Training Epoch 91/300: 100%|██████████████████| 4/4 [00:00<00:00, 252.59batch/s]\n",
      "Training Epoch 92/300: 100%|██████████████████| 4/4 [00:00<00:00, 254.17batch/s]\n",
      "Training Epoch 93/300: 100%|██████████████████| 4/4 [00:00<00:00, 248.14batch/s]\n",
      "Training Epoch 94/300: 100%|██████████████████| 4/4 [00:00<00:00, 257.92batch/s]\n",
      "Training Epoch 95/300: 100%|██████████████████| 4/4 [00:00<00:00, 278.52batch/s]\n",
      "Training Epoch 96/300: 100%|██████████████████| 4/4 [00:00<00:00, 261.66batch/s]\n",
      "Training Epoch 97/300: 100%|██████████████████| 4/4 [00:00<00:00, 261.36batch/s]\n",
      "Training Epoch 98/300: 100%|██████████████████| 4/4 [00:00<00:00, 256.94batch/s]\n",
      "Training Epoch 99/300: 100%|██████████████████| 4/4 [00:00<00:00, 263.13batch/s]\n",
      "Training Epoch 100/300: 100%|█████████████████| 4/4 [00:00<00:00, 272.88batch/s]\n",
      "Training Epoch 101/300: 100%|█████████████████| 4/4 [00:00<00:00, 283.45batch/s]\n",
      "Training Epoch 102/300: 100%|█████████████████| 4/4 [00:00<00:00, 265.69batch/s]\n",
      "Training Epoch 103/300: 100%|█████████████████| 4/4 [00:00<00:00, 249.84batch/s]\n",
      "Training Epoch 104/300: 100%|█████████████████| 4/4 [00:00<00:00, 268.17batch/s]\n",
      "Training Epoch 105/300: 100%|█████████████████| 4/4 [00:00<00:00, 265.47batch/s]\n",
      "Training Epoch 106/300: 100%|█████████████████| 4/4 [00:00<00:00, 261.54batch/s]\n",
      "Training Epoch 107/300: 100%|█████████████████| 4/4 [00:00<00:00, 263.92batch/s]\n",
      "Training Epoch 108/300: 100%|█████████████████| 4/4 [00:00<00:00, 260.47batch/s]\n",
      "Training Epoch 109/300: 100%|█████████████████| 4/4 [00:00<00:00, 252.94batch/s]\n",
      "Training Epoch 110/300: 100%|█████████████████| 4/4 [00:00<00:00, 281.44batch/s]\n",
      "Training Epoch 111/300: 100%|█████████████████| 4/4 [00:00<00:00, 274.18batch/s]\n",
      "Training Epoch 112/300: 100%|█████████████████| 4/4 [00:00<00:00, 281.08batch/s]\n",
      "Training Epoch 113/300: 100%|█████████████████| 4/4 [00:00<00:00, 276.57batch/s]\n",
      "Training Epoch 114/300: 100%|█████████████████| 4/4 [00:00<00:00, 253.89batch/s]\n",
      "Training Epoch 115/300: 100%|█████████████████| 4/4 [00:00<00:00, 261.01batch/s]\n",
      "Training Epoch 116/300: 100%|█████████████████| 4/4 [00:00<00:00, 271.84batch/s]\n",
      "Training Epoch 117/300: 100%|█████████████████| 4/4 [00:00<00:00, 265.55batch/s]\n",
      "Training Epoch 118/300: 100%|█████████████████| 4/4 [00:00<00:00, 251.13batch/s]\n",
      "Training Epoch 119/300: 100%|█████████████████| 4/4 [00:00<00:00, 268.14batch/s]\n",
      "Training Epoch 120/300: 100%|█████████████████| 4/4 [00:00<00:00, 267.28batch/s]\n",
      "Training Epoch 121/300: 100%|█████████████████| 4/4 [00:00<00:00, 278.84batch/s]\n",
      "Training Epoch 122/300: 100%|█████████████████| 4/4 [00:00<00:00, 276.35batch/s]\n",
      "Training Epoch 123/300: 100%|█████████████████| 4/4 [00:00<00:00, 290.77batch/s]\n",
      "Training Epoch 124/300: 100%|█████████████████| 4/4 [00:00<00:00, 286.13batch/s]\n",
      "Training Epoch 125/300: 100%|█████████████████| 4/4 [00:00<00:00, 293.25batch/s]\n",
      "Training Epoch 126/300: 100%|█████████████████| 4/4 [00:00<00:00, 283.72batch/s]\n",
      "Training Epoch 127/300: 100%|█████████████████| 4/4 [00:00<00:00, 281.65batch/s]\n",
      "Training Epoch 128/300: 100%|█████████████████| 4/4 [00:00<00:00, 290.36batch/s]\n",
      "Training Epoch 129/300: 100%|█████████████████| 4/4 [00:00<00:00, 291.14batch/s]\n",
      "Training Epoch 130/300: 100%|█████████████████| 4/4 [00:00<00:00, 262.33batch/s]\n",
      "Training Epoch 131/300: 100%|█████████████████| 4/4 [00:00<00:00, 275.64batch/s]\n",
      "Training Epoch 132/300: 100%|█████████████████| 4/4 [00:00<00:00, 280.82batch/s]\n",
      "Training Epoch 133/300: 100%|█████████████████| 4/4 [00:00<00:00, 287.65batch/s]\n",
      "Training Epoch 134/300: 100%|█████████████████| 4/4 [00:00<00:00, 278.48batch/s]\n",
      "Training Epoch 135/300: 100%|█████████████████| 4/4 [00:00<00:00, 274.44batch/s]\n",
      "Training Epoch 136/300: 100%|█████████████████| 4/4 [00:00<00:00, 273.43batch/s]\n",
      "Training Epoch 137/300: 100%|█████████████████| 4/4 [00:00<00:00, 270.41batch/s]\n",
      "Training Epoch 138/300: 100%|█████████████████| 4/4 [00:00<00:00, 292.89batch/s]\n",
      "Training Epoch 139/300: 100%|█████████████████| 4/4 [00:00<00:00, 277.10batch/s]\n",
      "Training Epoch 140/300: 100%|█████████████████| 4/4 [00:00<00:00, 278.51batch/s]\n",
      "Training Epoch 141/300: 100%|█████████████████| 4/4 [00:00<00:00, 277.87batch/s]\n",
      "Training Epoch 142/300: 100%|█████████████████| 4/4 [00:00<00:00, 280.77batch/s]\n",
      "Training Epoch 143/300: 100%|█████████████████| 4/4 [00:00<00:00, 286.49batch/s]\n",
      "Training Epoch 144/300: 100%|█████████████████| 4/4 [00:00<00:00, 282.30batch/s]\n",
      "Training Epoch 145/300: 100%|█████████████████| 4/4 [00:00<00:00, 292.72batch/s]\n",
      "Training Epoch 146/300: 100%|█████████████████| 4/4 [00:00<00:00, 283.98batch/s]\n",
      "Training Epoch 147/300: 100%|█████████████████| 4/4 [00:00<00:00, 284.18batch/s]\n",
      "Training Epoch 148/300: 100%|█████████████████| 4/4 [00:00<00:00, 285.55batch/s]\n",
      "Training Epoch 149/300: 100%|█████████████████| 4/4 [00:00<00:00, 314.94batch/s]\n",
      "Training Epoch 150/300: 100%|█████████████████| 4/4 [00:00<00:00, 289.42batch/s]\n",
      "Training Epoch 151/300: 100%|█████████████████| 4/4 [00:00<00:00, 281.40batch/s]\n",
      "Training Epoch 152/300: 100%|█████████████████| 4/4 [00:00<00:00, 271.19batch/s]\n",
      "Training Epoch 153/300: 100%|█████████████████| 4/4 [00:00<00:00, 275.76batch/s]\n",
      "Training Epoch 154/300: 100%|█████████████████| 4/4 [00:00<00:00, 293.06batch/s]\n",
      "Training Epoch 155/300: 100%|█████████████████| 4/4 [00:00<00:00, 293.60batch/s]\n",
      "Training Epoch 156/300: 100%|█████████████████| 4/4 [00:00<00:00, 273.38batch/s]\n",
      "Training Epoch 157/300: 100%|█████████████████| 4/4 [00:00<00:00, 260.23batch/s]\n",
      "Training Epoch 158/300: 100%|█████████████████| 4/4 [00:00<00:00, 269.92batch/s]\n",
      "Training Epoch 159/300: 100%|█████████████████| 4/4 [00:00<00:00, 258.53batch/s]\n",
      "Training Epoch 160/300: 100%|█████████████████| 4/4 [00:00<00:00, 281.88batch/s]\n",
      "Training Epoch 161/300: 100%|█████████████████| 4/4 [00:00<00:00, 267.03batch/s]\n",
      "Training Epoch 162/300: 100%|█████████████████| 4/4 [00:00<00:00, 275.85batch/s]\n",
      "Training Epoch 163/300: 100%|█████████████████| 4/4 [00:00<00:00, 272.33batch/s]\n",
      "Training Epoch 164/300: 100%|█████████████████| 4/4 [00:00<00:00, 271.16batch/s]\n",
      "Training Epoch 165/300: 100%|█████████████████| 4/4 [00:00<00:00, 258.26batch/s]\n",
      "Training Epoch 166/300: 100%|█████████████████| 4/4 [00:00<00:00, 274.12batch/s]\n",
      "Training Epoch 167/300: 100%|█████████████████| 4/4 [00:00<00:00, 250.83batch/s]\n",
      "Training Epoch 168/300: 100%|█████████████████| 4/4 [00:00<00:00, 271.28batch/s]\n",
      "Training Epoch 169/300: 100%|█████████████████| 4/4 [00:00<00:00, 256.56batch/s]\n",
      "Training Epoch 170/300: 100%|█████████████████| 4/4 [00:00<00:00, 270.70batch/s]\n",
      "Training Epoch 171/300: 100%|█████████████████| 4/4 [00:00<00:00, 275.00batch/s]\n",
      "Training Epoch 172/300: 100%|█████████████████| 4/4 [00:00<00:00, 274.33batch/s]\n",
      "Training Epoch 173/300: 100%|█████████████████| 4/4 [00:00<00:00, 266.69batch/s]\n",
      "Training Epoch 174/300: 100%|█████████████████| 4/4 [00:00<00:00, 271.18batch/s]\n",
      "Training Epoch 175/300: 100%|█████████████████| 4/4 [00:00<00:00, 265.49batch/s]\n",
      "Training Epoch 176/300: 100%|█████████████████| 4/4 [00:00<00:00, 271.99batch/s]\n",
      "Training Epoch 177/300: 100%|█████████████████| 4/4 [00:00<00:00, 284.38batch/s]\n",
      "Training Epoch 178/300: 100%|█████████████████| 4/4 [00:00<00:00, 279.00batch/s]\n",
      "Training Epoch 179/300: 100%|█████████████████| 4/4 [00:00<00:00, 273.48batch/s]\n",
      "Training Epoch 180/300: 100%|█████████████████| 4/4 [00:00<00:00, 270.56batch/s]\n",
      "Training Epoch 181/300: 100%|█████████████████| 4/4 [00:00<00:00, 261.96batch/s]\n",
      "Training Epoch 182/300: 100%|█████████████████| 4/4 [00:00<00:00, 285.15batch/s]\n",
      "Training Epoch 183/300: 100%|█████████████████| 4/4 [00:00<00:00, 273.99batch/s]\n",
      "Training Epoch 184/300: 100%|█████████████████| 4/4 [00:00<00:00, 286.75batch/s]\n",
      "Training Epoch 185/300: 100%|█████████████████| 4/4 [00:00<00:00, 283.15batch/s]\n",
      "Training Epoch 186/300: 100%|█████████████████| 4/4 [00:00<00:00, 288.29batch/s]\n",
      "Training Epoch 187/300: 100%|█████████████████| 4/4 [00:00<00:00, 293.11batch/s]\n",
      "Training Epoch 188/300: 100%|█████████████████| 4/4 [00:00<00:00, 284.61batch/s]\n",
      "Training Epoch 189/300: 100%|█████████████████| 4/4 [00:00<00:00, 254.98batch/s]\n",
      "Training Epoch 190/300: 100%|█████████████████| 4/4 [00:00<00:00, 267.29batch/s]\n",
      "Training Epoch 191/300: 100%|█████████████████| 4/4 [00:00<00:00, 265.26batch/s]\n",
      "Training Epoch 192/300: 100%|█████████████████| 4/4 [00:00<00:00, 273.27batch/s]\n",
      "Training Epoch 193/300: 100%|█████████████████| 4/4 [00:00<00:00, 266.03batch/s]\n",
      "Training Epoch 194/300: 100%|█████████████████| 4/4 [00:00<00:00, 266.86batch/s]\n",
      "Training Epoch 195/300: 100%|█████████████████| 4/4 [00:00<00:00, 256.45batch/s]\n",
      "Training Epoch 196/300: 100%|█████████████████| 4/4 [00:00<00:00, 265.66batch/s]\n",
      "Training Epoch 197/300: 100%|█████████████████| 4/4 [00:00<00:00, 277.06batch/s]\n",
      "Training Epoch 198/300: 100%|█████████████████| 4/4 [00:00<00:00, 279.23batch/s]\n",
      "Training Epoch 199/300: 100%|█████████████████| 4/4 [00:00<00:00, 272.45batch/s]\n",
      "Training Epoch 200/300: 100%|█████████████████| 4/4 [00:00<00:00, 260.01batch/s]\n",
      "Training Epoch 201/300: 100%|█████████████████| 4/4 [00:00<00:00, 280.93batch/s]\n",
      "Training Epoch 202/300: 100%|█████████████████| 4/4 [00:00<00:00, 271.89batch/s]\n",
      "Training Epoch 203/300: 100%|█████████████████| 4/4 [00:00<00:00, 299.76batch/s]\n",
      "Training Epoch 204/300: 100%|█████████████████| 4/4 [00:00<00:00, 267.77batch/s]\n",
      "Training Epoch 205/300: 100%|█████████████████| 4/4 [00:00<00:00, 280.89batch/s]\n",
      "Training Epoch 206/300: 100%|█████████████████| 4/4 [00:00<00:00, 295.27batch/s]\n",
      "Training Epoch 207/300: 100%|█████████████████| 4/4 [00:00<00:00, 285.58batch/s]\n",
      "Training Epoch 208/300: 100%|█████████████████| 4/4 [00:00<00:00, 281.23batch/s]\n",
      "Training Epoch 209/300: 100%|█████████████████| 4/4 [00:00<00:00, 293.48batch/s]\n",
      "Training Epoch 210/300: 100%|█████████████████| 4/4 [00:00<00:00, 274.49batch/s]\n",
      "Training Epoch 211/300: 100%|█████████████████| 4/4 [00:00<00:00, 259.34batch/s]\n",
      "Training Epoch 212/300: 100%|█████████████████| 4/4 [00:00<00:00, 272.84batch/s]\n",
      "Training Epoch 213/300: 100%|█████████████████| 4/4 [00:00<00:00, 266.55batch/s]\n",
      "Training Epoch 214/300: 100%|█████████████████| 4/4 [00:00<00:00, 281.40batch/s]\n",
      "Training Epoch 215/300: 100%|█████████████████| 4/4 [00:00<00:00, 278.90batch/s]\n",
      "Training Epoch 216/300: 100%|█████████████████| 4/4 [00:00<00:00, 262.84batch/s]\n",
      "Training Epoch 217/300: 100%|█████████████████| 4/4 [00:00<00:00, 276.53batch/s]\n",
      "Training Epoch 218/300: 100%|█████████████████| 4/4 [00:00<00:00, 265.20batch/s]\n",
      "Training Epoch 219/300: 100%|█████████████████| 4/4 [00:00<00:00, 269.46batch/s]\n",
      "Training Epoch 220/300: 100%|█████████████████| 4/4 [00:00<00:00, 257.28batch/s]\n",
      "Training Epoch 221/300: 100%|█████████████████| 4/4 [00:00<00:00, 263.10batch/s]\n",
      "Training Epoch 222/300: 100%|█████████████████| 4/4 [00:00<00:00, 262.94batch/s]\n",
      "Training Epoch 223/300: 100%|█████████████████| 4/4 [00:00<00:00, 267.31batch/s]\n",
      "Training Epoch 224/300: 100%|█████████████████| 4/4 [00:00<00:00, 261.77batch/s]\n",
      "Training Epoch 225/300: 100%|█████████████████| 4/4 [00:00<00:00, 286.53batch/s]\n",
      "Training Epoch 226/300: 100%|█████████████████| 4/4 [00:00<00:00, 271.99batch/s]\n",
      "Training Epoch 227/300: 100%|█████████████████| 4/4 [00:00<00:00, 270.04batch/s]\n",
      "Training Epoch 228/300: 100%|█████████████████| 4/4 [00:00<00:00, 270.60batch/s]\n",
      "Training Epoch 229/300: 100%|█████████████████| 4/4 [00:00<00:00, 270.56batch/s]\n",
      "Training Epoch 230/300: 100%|█████████████████| 4/4 [00:00<00:00, 274.54batch/s]\n",
      "Training Epoch 231/300: 100%|█████████████████| 4/4 [00:00<00:00, 281.62batch/s]\n",
      "Training Epoch 232/300: 100%|█████████████████| 4/4 [00:00<00:00, 283.40batch/s]\n",
      "Training Epoch 233/300: 100%|█████████████████| 4/4 [00:00<00:00, 290.25batch/s]\n",
      "Training Epoch 234/300: 100%|█████████████████| 4/4 [00:00<00:00, 267.92batch/s]\n",
      "Training Epoch 235/300: 100%|█████████████████| 4/4 [00:00<00:00, 289.19batch/s]\n",
      "Training Epoch 236/300: 100%|█████████████████| 4/4 [00:00<00:00, 313.41batch/s]\n",
      "Training Epoch 237/300: 100%|█████████████████| 4/4 [00:00<00:00, 296.22batch/s]\n",
      "Training Epoch 238/300: 100%|█████████████████| 4/4 [00:00<00:00, 300.01batch/s]\n",
      "Training Epoch 239/300: 100%|█████████████████| 4/4 [00:00<00:00, 284.62batch/s]\n",
      "Training Epoch 240/300: 100%|█████████████████| 4/4 [00:00<00:00, 279.79batch/s]\n",
      "Training Epoch 241/300: 100%|█████████████████| 4/4 [00:00<00:00, 280.86batch/s]\n",
      "Training Epoch 242/300: 100%|█████████████████| 4/4 [00:00<00:00, 272.66batch/s]\n",
      "Training Epoch 243/300: 100%|█████████████████| 4/4 [00:00<00:00, 280.09batch/s]\n",
      "Training Epoch 244/300: 100%|█████████████████| 4/4 [00:00<00:00, 276.45batch/s]\n",
      "Training Epoch 245/300: 100%|█████████████████| 4/4 [00:00<00:00, 267.68batch/s]\n",
      "Training Epoch 246/300: 100%|█████████████████| 4/4 [00:00<00:00, 274.89batch/s]\n",
      "Training Epoch 247/300: 100%|█████████████████| 4/4 [00:00<00:00, 276.09batch/s]\n",
      "Training Epoch 248/300: 100%|█████████████████| 4/4 [00:00<00:00, 274.66batch/s]\n",
      "Training Epoch 249/300: 100%|█████████████████| 4/4 [00:00<00:00, 282.10batch/s]\n",
      "Training Epoch 250/300: 100%|█████████████████| 4/4 [00:00<00:00, 273.23batch/s]\n",
      "Training Epoch 251/300: 100%|█████████████████| 4/4 [00:00<00:00, 268.25batch/s]\n",
      "Training Epoch 252/300: 100%|█████████████████| 4/4 [00:00<00:00, 277.75batch/s]\n",
      "Training Epoch 253/300: 100%|█████████████████| 4/4 [00:00<00:00, 280.86batch/s]\n",
      "Training Epoch 254/300: 100%|█████████████████| 4/4 [00:00<00:00, 287.78batch/s]\n",
      "Training Epoch 255/300: 100%|█████████████████| 4/4 [00:00<00:00, 277.49batch/s]\n",
      "Training Epoch 256/300: 100%|█████████████████| 4/4 [00:00<00:00, 286.14batch/s]\n",
      "Training Epoch 257/300: 100%|█████████████████| 4/4 [00:00<00:00, 293.27batch/s]\n",
      "Training Epoch 258/300: 100%|█████████████████| 4/4 [00:00<00:00, 296.16batch/s]\n",
      "Training Epoch 259/300: 100%|█████████████████| 4/4 [00:00<00:00, 285.04batch/s]\n",
      "Training Epoch 260/300: 100%|█████████████████| 4/4 [00:00<00:00, 287.89batch/s]\n",
      "Training Epoch 261/300: 100%|█████████████████| 4/4 [00:00<00:00, 285.25batch/s]\n",
      "Training Epoch 262/300: 100%|█████████████████| 4/4 [00:00<00:00, 273.33batch/s]\n",
      "Training Epoch 263/300: 100%|█████████████████| 4/4 [00:00<00:00, 276.67batch/s]\n",
      "Training Epoch 264/300: 100%|█████████████████| 4/4 [00:00<00:00, 277.93batch/s]\n",
      "Training Epoch 265/300: 100%|█████████████████| 4/4 [00:00<00:00, 265.08batch/s]\n",
      "Training Epoch 266/300: 100%|█████████████████| 4/4 [00:00<00:00, 260.97batch/s]\n",
      "Training Epoch 267/300: 100%|█████████████████| 4/4 [00:00<00:00, 259.75batch/s]\n",
      "Training Epoch 268/300: 100%|█████████████████| 4/4 [00:00<00:00, 264.92batch/s]\n",
      "Training Epoch 269/300: 100%|█████████████████| 4/4 [00:00<00:00, 279.49batch/s]\n",
      "Training Epoch 270/300: 100%|█████████████████| 4/4 [00:00<00:00, 267.46batch/s]\n",
      "Training Epoch 271/300: 100%|█████████████████| 4/4 [00:00<00:00, 271.93batch/s]\n",
      "Training Epoch 272/300: 100%|█████████████████| 4/4 [00:00<00:00, 269.09batch/s]\n",
      "Training Epoch 273/300: 100%|█████████████████| 4/4 [00:00<00:00, 264.59batch/s]\n",
      "Training Epoch 274/300: 100%|█████████████████| 4/4 [00:00<00:00, 252.51batch/s]\n",
      "Training Epoch 275/300: 100%|█████████████████| 4/4 [00:00<00:00, 251.02batch/s]\n",
      "Training Epoch 276/300: 100%|█████████████████| 4/4 [00:00<00:00, 239.53batch/s]\n",
      "Training Epoch 277/300: 100%|█████████████████| 4/4 [00:00<00:00, 239.77batch/s]\n",
      "Training Epoch 278/300: 100%|█████████████████| 4/4 [00:00<00:00, 231.02batch/s]\n",
      "Training Epoch 279/300: 100%|█████████████████| 4/4 [00:00<00:00, 246.61batch/s]\n",
      "Training Epoch 280/300: 100%|█████████████████| 4/4 [00:00<00:00, 239.98batch/s]\n",
      "Training Epoch 281/300: 100%|█████████████████| 4/4 [00:00<00:00, 232.50batch/s]\n",
      "Training Epoch 282/300: 100%|█████████████████| 4/4 [00:00<00:00, 238.20batch/s]\n",
      "Training Epoch 283/300: 100%|█████████████████| 4/4 [00:00<00:00, 244.62batch/s]\n",
      "Training Epoch 284/300: 100%|█████████████████| 4/4 [00:00<00:00, 241.61batch/s]\n",
      "Training Epoch 285/300: 100%|█████████████████| 4/4 [00:00<00:00, 254.06batch/s]\n",
      "Training Epoch 286/300: 100%|█████████████████| 4/4 [00:00<00:00, 264.16batch/s]\n",
      "Training Epoch 287/300: 100%|█████████████████| 4/4 [00:00<00:00, 263.50batch/s]\n",
      "Training Epoch 288/300: 100%|█████████████████| 4/4 [00:00<00:00, 258.84batch/s]\n",
      "Training Epoch 289/300: 100%|█████████████████| 4/4 [00:00<00:00, 274.25batch/s]\n",
      "Training Epoch 290/300: 100%|█████████████████| 4/4 [00:00<00:00, 266.16batch/s]\n",
      "Training Epoch 291/300: 100%|█████████████████| 4/4 [00:00<00:00, 265.53batch/s]\n",
      "Training Epoch 292/300: 100%|█████████████████| 4/4 [00:00<00:00, 260.48batch/s]\n",
      "Training Epoch 293/300: 100%|█████████████████| 4/4 [00:00<00:00, 273.58batch/s]\n",
      "Training Epoch 294/300: 100%|█████████████████| 4/4 [00:00<00:00, 268.91batch/s]\n",
      "Training Epoch 295/300: 100%|█████████████████| 4/4 [00:00<00:00, 265.77batch/s]\n",
      "Training Epoch 296/300: 100%|█████████████████| 4/4 [00:00<00:00, 246.72batch/s]\n",
      "Training Epoch 297/300: 100%|█████████████████| 4/4 [00:00<00:00, 263.27batch/s]\n",
      "Training Epoch 298/300: 100%|█████████████████| 4/4 [00:00<00:00, 257.16batch/s]\n",
      "Training Epoch 299/300: 100%|█████████████████| 4/4 [00:00<00:00, 277.29batch/s]\n",
      "Training Epoch 300/300: 100%|█████████████████| 4/4 [00:00<00:00, 260.88batch/s]\n",
      "Evaluating on test set: 100%|██████████████| 119/119 [00:07<00:00, 15.07batch/s]"
     ]
    },
    {
     "name": "stdout",
     "output_type": "stream",
     "text": [
      "Test Accuracy: 0.6704\n",
      "Classification Report:\n",
      "              precision    recall  f1-score   support\n",
      "\n",
      "           0       0.77      0.86      0.81      1900\n",
      "           1       0.77      0.95      0.85      1900\n",
      "           2       0.53      0.87      0.66      1900\n",
      "           3       0.00      0.00      0.00      1900\n",
      "\n",
      "    accuracy                           0.67      7600\n",
      "   macro avg       0.52      0.67      0.58      7600\n",
      "weighted avg       0.52      0.67      0.58      7600\n",
      "\n",
      "[2, 3, 3, 3, 3, 3, 3, 3, 3, 3, 3, 3, 3, 3, 3, 3, 3, 3, 3, 3, 3, 3, 3, 3, 3, 3, 1, 1, 1, 1, 1, 1, 0, 0, 0, 0, 0, 0, 0, 0, 1, 2, 0, 3, 1, 1, 0, 3, 0, 1, 0, 1, 0, 3, 2, 3, 0, 0, 2, 2, 1, 1, 1, 3, 0, 3, 0, 0, 1, 0, 3, 3, 3, 0, 3, 1, 0, 1, 0, 0, 0, 1, 2, 2, 0, 0, 2, 0, 0, 3, 0, 2, 3, 2, 1, 1, 1, 2, 0, 2, 1, 2, 3, 2, 0, 1, 0, 1, 0, 3, 2, 3, 3, 3, 3, 1, 3, 3, 2, 1, 0, 1, 3, 0, 3, 2, 1, 1, 1, 0, 0, 0, 1, 0, 1, 1, 0, 1, 1, 0, 1, 0, 1, 0, 0, 0, 1, 2, 1, 1, 1, 0, 1, 0, 0, 0, 2, 1, 1, 0, 1, 2, 3, 0, 0, 2, 2, 2, 1, 0, 3, 3, 2, 3, 0, 0, 3, 1, 3, 1, 2, 1, 1, 3, 2, 0, 3, 0, 1, 3, 3, 0, 0, 0, 2, 2, 0, 1, 2, 1, 3, 3, 3, 0, 1, 1, 1, 3, 1, 3, 1, 0, 1, 1, 1, 3, 2, 2, 3, 1, 1, 0, 2, 1, 2, 2, 0, 1, 2, 0, 1, 1, 2, 3, 2, 1, 2, 1, 0, 2, 3, 1, 1, 3, 2, 2, 3, 3, 3, 0, 2, 0, 1, 2, 2, 3, 2, 3, 3, 3, 1, 0, 3, 3, 3, 3, 1, 3, 1, 1, 1, 0, 2, 3, 1, 3, 3, 1, 2, 3, 2, 1, 1, 3, 1, 0, 0, 2, 2, 1, 1, 3, 3, 3, 1, 0, 0, 3, 1, 2, 1, 2, 2, 2, 2, 1, 3, 3, 1, 2, 2, 1, 3, 2, 2, 0, 0, 2, 1, 2, 2, 0, 1, 3, 1, 3, 0, 0, 3, 2, 3, 1, 0, 0, 1, 0, 2, 2, 1, 1, 3, 1, 0, 1, 1, 3, 3, 1, 0, 2, 1, 0, 0, 1, 0, 0, 1, 2, 1, 1, 1, 0, 2, 0, 0, 3, 1, 2, 0, 0, 1, 0, 0, 1, 1, 3, 1, 1, 2, 0, 1, 1, 3, 1, 2, 1, 1, 1, 0, 0, 0, 1, 0, 0, 0, 1, 1, 3, 1, 2, 3, 1, 0, 0, 0, 2, 2, 2, 2, 1, 2, 1, 0, 0, 0, 1, 1, 2, 2, 0, 0, 1, 2, 3, 3, 0, 2, 2, 3, 3, 0, 1, 1, 2, 2, 3, 2, 2, 3, 3, 2, 3, 0, 2, 0, 3, 3, 3, 2, 2, 0, 0, 2, 3, 3, 1, 2, 3, 1, 2, 1, 1, 3, 1, 0, 3, 2, 2, 3, 1, 0, 3, 0, 2, 1, 3, 1, 3, 0, 2, 3, 2, 2, 3, 2, 2, 1, 2, 2, 1, 1, 3, 1, 2, 2, 1, 2, 0, 1, 3, 3, 1, 1, 0, 0, 0, 0, 3, 2, 3, 3, 0, 3, 0, 0, 1, 0, 2, 3, 1, 2, 0, 2, 0, 0, 0, 3, 0, 0, 0, 1, 3, 3, 3, 2, 2, 3, 3, 1, 3, 1, 0, 0, 3, 1, 3, 2, 1, 3, 2, 0, 0, 0, 1, 3, 3, 3, 3, 3, 3, 3, 0, 2, 3, 1, 0, 0, 3, 3, 1, 3, 2, 3, 3, 0, 2, 1, 3, 3, 0, 1, 3, 2, 1, 0, 2, 3, 3, 3, 2, 0, 2, 3, 0, 3, 0, 3, 3, 2, 0, 2, 2, 3, 2, 1, 0, 0, 3, 1, 1, 1, 0, 0, 0, 0, 2, 3, 0, 0, 2, 2, 2, 3, 3, 3, 0, 0, 3, 2, 1, 3, 1, 3, 3, 2, 3, 3, 1, 1, 0, 2, 3, 3, 2, 1, 3, 0, 0, 1, 2, 0, 2, 0, 0, 3, 0, 2, 3, 3, 3, 3, 3, 1, 2, 3, 1, 1, 2, 3, 0, 1, 3, 0, 2, 1, 1, 0, 0, 0, 1, 3, 0, 0, 0, 0, 2, 1, 2, 2, 0, 1, 1, 1, 1, 0, 0, 1, 0, 1, 0, 2, 1, 3, 0, 1, 1, 3, 2, 3, 3, 2, 2, 2, 1, 1, 3, 3, 1, 1, 0, 0, 0, 3, 2, 0, 0, 1, 0, 2, 2, 2, 3, 3, 2, 2, 1, 2, 0, 3, 1, 1, 3, 0, 3, 2, 2, 2, 0, 3, 1, 0, 2, 1, 1, 0, 3, 0, 0, 3, 1, 2, 3, 2, 3, 0, 1, 1, 1, 0, 1, 2, 1, 0, 1, 1, 0, 3, 1, 3, 1, 0, 0, 1, 3, 1, 0, 0, 1, 2, 3, 0, 3, 0, 1, 3, 0, 2, 0, 1, 0, 1, 1, 0, 0, 2, 3, 2, 1, 0, 1, 0, 3, 3, 0, 1, 0, 2, 1, 0, 0, 0, 1, 1, 1, 2, 1, 0, 1, 0, 0, 0, 0, 0, 0, 1, 2, 2, 1, 0, 3, 1, 0, 1, 1, 0, 3, 0, 0, 0, 1, 3, 1, 0, 1, 1, 1, 1, 1, 1, 3, 0, 2, 1, 1, 2, 2, 3, 2, 0, 0, 1, 1, 1, 1, 1, 1, 2, 2, 1, 0, 3, 2, 0, 2, 1, 1, 1, 2, 1, 2, 2, 1, 2, 0, 0, 2, 0, 0, 0, 2, 2, 1, 2, 0, 3, 1, 2, 2, 0, 2, 3, 2, 3, 1, 2, 0, 2, 1, 0, 0, 3, 3, 2, 2, 0, 0, 0, 3, 3, 1, 0, 2, 2, 3, 3, 1, 2, 0, 0, 1, 1, 3, 0, 1, 3, 1, 3, 1, 0, 1, 2, 3, 1, 2, 3, 2, 3, 3, 0, 1, 3, 0, 0, 2, 2, 2, 1, 0, 3, 3, 2, 3, 0, 0, 1, 1, 3, 3, 0, 3, 2, 3, 3, 1, 1, 3, 0, 0, 3, 3, 1, 2, 0, 0, 3, 1, 1, 1, 3, 0, 2, 2, 3, 0, 3, 3, 2, 1, 1, 3, 2, 3, 2, 3, 3, 3, 1, 0, 2, 3, 1, 0, 3, 2, 3, 2, 3, 3, 0, 2, 2, 3, 3, 0, 1, 3, 2, 3, 3, 0, 1, 0, 3, 3, 2, 3, 3, 0, 1, 0, 2, 2, 0, 0, 1, 1, 1, 3, 0, 3, 1, 0, 2, 2, 0, 0, 3, 3, 2, 1, 3, 3, 3, 3, 3, 3, 3, 2, 3, 3, 0, 1, 1, 2, 2, 3, 3, 3, 3, 3, 0, 0, 0, 2, 2, 0, 0, 2, 3, 2, 0, 2, 1, 2, 3, 0, 3, 3, 3, 0, 2, 2, 1, 1, 1, 2, 2, 0, 3, 3, 1, 0, 2, 2, 2, 3, 2, 3, 1, 1, 0, 2, 3, 1, 0, 1, 0, 1, 1, 0, 3, 1, 0, 2, 1, 1, 0, 1, 0, 0, 0, 2, 1, 1, 3, 2, 0, 1, 1, 1, 2, 1, 3, 2, 2, 2, 2, 3, 0, 1, 1, 1, 1, 0, 1, 1, 1, 2, 2, 1, 0, 1, 3, 3, 1, 0, 0, 3, 2, 0, 3, 0, 1, 1, 1, 0, 0, 2, 1, 0, 0, 1, 1, 1, 2, 0, 1, 0, 1, 2, 2, 3, 1, 0, 2, 0, 1, 1, 1, 2, 0, 2, 0, 2, 0, 0, 3, 0, 1, 2, 3, 3, 1, 2, 3, 2, 3, 3, 1, 0, 2, 2, 3, 2, 1, 0, 1, 1, 2, 1, 1, 0, 2, 2, 2, 0, 0, 3, 2, 1, 1, 1, 3, 0, 0, 3, 0, 1, 3, 3, 2, 1, 0, 2, 2, 2, 1, 2, 0, 2, 3, 1, 1, 1, 1, 3, 2, 1, 1, 2, 0, 2, 3, 2, 3, 2, 2, 3, 0, 0, 0, 3, 1, 0, 1, 2, 0, 3, 0, 1, 2, 2, 2, 0, 3, 3, 0, 1, 2, 2, 1, 2, 1, 3, 2, 3, 3, 1, 1, 0, 2, 3, 3, 3, 2, 2, 2, 2, 0, 0, 1, 2, 1, 3, 2, 3, 3, 2, 1, 3, 3, 1, 0, 1, 3, 2, 1, 2, 2, 2, 3, 2, 1, 3, 3, 0, 2, 2, 3, 2, 3, 1, 2, 0, 2, 3, 1, 3, 3, 0, 2, 1, 1, 3, 1, 0, 0, 2, 2, 1, 3, 3, 3, 1, 0, 2, 2, 1, 2, 0, 1, 3, 0, 0, 1, 1, 1, 1, 1, 2, 2, 2, 3, 3, 1, 2, 2, 1, 1, 2, 2, 0, 1, 0, 0, 3, 3, 3, 3, 3, 2, 2, 2, 3, 3, 1, 0, 3, 2, 3, 1, 2, 0, 3, 3, 0, 3, 3, 0, 3, 2, 2, 3, 0, 1, 0, 2, 3, 1, 0, 3, 0, 3, 0, 0, 1, 0, 1, 1, 2, 1, 3, 0, 1, 3, 0, 2, 0, 1, 0, 2, 2, 2, 2, 1, 3, 3, 1, 1, 1, 0, 0, 0, 1, 0, 2, 1, 3, 3, 3, 2, 3, 1, 3, 0, 0, 0, 3, 3, 3, 3, 2, 3, 3, 2, 1, 3, 0, 1, 0, 3, 0, 1, 0, 2, 0, 3, 2, 0, 0, 2, 2, 0, 0, 3, 0, 1, 0, 0, 2, 1, 3, 3, 0, 0, 0, 0, 1, 2, 0, 3, 1, 2, 1, 1, 1, 2, 1, 1, 0, 1, 2, 0, 1, 1, 1, 1, 0, 0, 1, 1, 1, 0, 3, 1, 2, 0, 1, 0, 3, 0, 0, 0, 1, 2, 1, 0, 0, 1, 0, 2, 2, 1, 0, 1, 0, 1, 2, 0, 0, 3, 1, 2, 2, 1, 0, 3, 2, 0, 3, 3, 2, 2, 2, 1, 2, 0, 0, 3, 3, 3, 3, 2, 0, 1, 3, 3, 1, 2, 3, 3, 2, 3, 3, 3, 2, 0, 0, 2, 3, 3, 3, 3, 1, 0, 2, 1, 3, 0, 0, 1, 1, 2, 3, 2, 3, 1, 2, 0, 3, 3, 2, 2, 1, 0, 2, 3, 3, 2, 3, 2, 0, 0, 2, 1, 0, 3, 1, 2, 1, 0, 2, 1, 3, 1, 0, 3, 2, 3, 3, 3, 0, 2, 2, 2, 3, 3, 0, 1, 2, 0, 1, 3, 3, 3, 2, 1, 1, 2, 3, 3, 3, 1, 2, 2, 1, 0, 3, 2, 2, 2, 3, 1, 0, 3, 3, 2, 1, 3, 0, 2, 1, 1, 1, 1, 2, 1, 1, 1, 0, 1, 1, 0, 3, 0, 0, 2, 0, 2, 1, 3, 0, 2, 1, 3, 0, 0, 2, 1, 1, 0, 1, 3, 2, 0, 1, 2, 1, 0, 2, 2, 2, 0, 3, 3, 2, 1, 1, 0, 0, 0, 3, 1, 2, 3, 1, 1, 1, 2, 1, 2, 0, 2, 1, 1, 3, 2, 3, 1, 2, 0, 1, 3, 1, 2, 1, 3, 1, 0, 1, 1, 3, 1, 0, 3, 1, 0, 0, 0, 2, 3, 1, 0, 2, 1, 2, 2, 0, 0, 1, 1, 3, 1, 3, 0, 0, 0, 1, 2, 0, 1, 0, 2, 0, 0, 2, 0, 2, 0, 1, 0, 3, 0, 2, 3, 3, 0, 0, 1, 2, 0, 2, 2, 3, 3, 2, 0, 0, 3, 0, 2, 1, 0, 3, 3, 2, 1, 0, 3, 1, 0, 3, 1, 3, 3, 3, 0, 0, 3, 3, 3, 0, 2, 3, 0, 3, 2, 2, 3, 3, 2, 3, 1, 0, 0, 3, 1, 2, 1, 0, 1, 3, 0, 2, 3, 1, 3, 1, 3, 3, 2, 2, 3, 3, 2, 0, 2, 2, 2, 2, 1, 1, 1, 0, 0, 3, 0, 3, 3, 0, 3, 3, 1, 0, 1, 1, 0, 1, 1, 2, 1, 0, 1, 3, 3, 3, 3, 1, 2, 2, 1, 2, 2, 1, 3, 0, 0, 3, 3, 1, 1, 0, 2, 3, 2, 0, 0, 0, 3, 0, 0, 0, 1, 3, 3, 1, 3, 0, 3, 2, 3, 2, 1, 2, 0, 2, 3, 2, 0, 1, 1, 1, 1, 1, 0, 2, 3, 3, 1, 3, 2, 0, 0, 0, 0, 0, 0, 2, 1, 1, 0, 0, 0, 1, 0, 3, 1, 0, 0, 0, 0, 1, 1, 2, 3, 2, 1, 0, 2, 1, 1, 3, 0, 0, 1, 1, 2, 0, 1, 2, 1, 1, 1, 0, 0, 0, 0, 0, 1, 0, 0, 3, 2, 0, 1, 0, 1, 2, 2, 1, 3, 0, 1, 0, 0, 1, 0, 1, 1, 1, 2, 3, 3, 0, 2, 3, 2, 0, 0, 3, 1, 2, 0, 3, 3, 3, 1, 1, 2, 1, 3, 3, 3, 3, 3, 0, 3, 3, 0, 1, 1, 2, 3, 3, 1, 3, 2, 2, 0, 1, 2, 2, 3, 2, 2, 0, 3, 2, 3, 3, 3, 3, 1, 3, 0, 0, 1, 0, 3, 3, 0, 3, 3, 3, 1, 3, 1, 1, 2, 3, 0, 3, 2, 1, 0, 1, 2, 2, 0, 0, 1, 0, 3, 2, 0, 3, 3, 0, 2, 2, 3, 1, 0, 0, 0, 2, 3, 3, 3, 3, 3, 3, 2, 0, 0, 3, 2, 0, 2, 2, 2, 3, 1, 3, 3, 0, 3, 3, 2, 3, 3, 1, 3, 0, 2, 0, 2, 2, 3, 3, 3, 3, 2, 2, 2, 0, 1, 3, 0, 0, 1, 1, 3, 3, 0, 3, 0, 2, 0, 1, 1, 0, 2, 2, 2, 1, 0, 0, 2, 1, 1, 0, 0, 1, 1, 3, 0, 0, 3, 0, 1, 3, 3, 2, 0, 3, 3, 2, 2, 2, 2, 1, 3, 2, 1, 1, 3, 1, 1, 3, 3, 0, 3, 0, 3, 2, 0, 1, 2, 2, 0, 2, 3, 3, 0, 3, 3, 3, 0, 3, 0, 3, 3, 3, 3, 1, 2, 1, 2, 2, 0, 1, 1, 0, 1, 1, 0, 2, 2, 0, 2, 2, 2, 2, 2, 1, 3, 2, 2, 2, 1, 2, 2, 3, 0, 0, 1, 1, 1, 1, 1, 2, 2, 2, 1, 3, 3, 1, 2, 0, 0, 1, 2, 2, 2, 3, 1, 0, 3, 0, 3, 2, 2, 3, 2, 3, 2, 1, 3, 2, 0, 0, 1, 2, 3, 0, 0, 2, 0, 0, 0, 1, 0, 2, 3, 1, 2, 2, 0, 3, 3, 3, 3, 1, 3, 2, 0, 3, 1, 1, 1, 2, 0, 1, 2, 2, 2, 3, 0, 0, 0, 2, 1, 1, 1, 2, 0, 2, 3, 1, 0, 1, 3, 2, 3, 3, 1, 3, 0, 3, 2, 2, 3, 3, 2, 2, 0, 2, 3, 0, 2, 2, 3, 1, 3, 3, 3, 3, 3, 2, 2, 3, 1, 0, 2, 2, 3, 3, 2, 0, 2, 2, 3, 1, 1, 1, 1, 3, 2, 1, 0, 0, 2, 0, 1, 1, 2, 1, 0, 2, 2, 1, 1, 1, 2, 1, 0, 1, 1, 2, 1, 2, 0, 3, 1, 1, 0, 0, 2, 2, 1, 0, 1, 1, 1, 1, 1, 2, 0, 1, 2, 2, 1, 1, 0, 1, 0, 0, 3, 1, 1, 1, 0, 0, 0, 1, 1, 1, 1, 0, 3, 3, 3, 1, 0, 0, 1, 0, 0, 1, 1, 0, 1, 3, 3, 2, 1, 1, 1, 0, 0, 2, 3, 2, 1, 2, 2, 0, 0, 0, 2, 1, 1, 0, 0, 3, 3, 1, 0, 0, 1, 0, 1, 0, 0, 2, 2, 0, 1, 1, 1, 3, 0, 2, 2, 3, 3, 3, 0, 1, 2, 2, 3, 3, 1, 3, 3, 0, 2, 3, 2, 0, 2, 0, 2, 0, 2, 2, 3, 2, 2, 3, 0, 0, 0, 3, 1, 0, 3, 2, 2, 3, 3, 0, 2, 1, 3, 2, 3, 3, 2, 3, 1, 1, 0, 3, 1, 2, 2, 1, 1, 1, 0, 3, 1, 3, 2, 0, 2, 1, 1, 1, 1, 2, 1, 1, 0, 0, 2, 2, 3, 1, 2, 0, 2, 3, 0, 0, 2, 2, 3, 1, 2, 0, 2, 1, 2, 2, 0, 3, 0, 2, 2, 3, 3, 2, 3, 3, 3, 2, 2, 3, 3, 0, 2, 0, 0, 2, 2, 1, 1, 1, 3, 3, 3, 0, 2, 2, 3, 2, 2, 2, 0, 2, 0, 1, 2, 3, 3, 3, 3, 0, 3, 1, 2, 1, 1, 1, 2, 3, 0, 0, 3, 1, 2, 0, 2, 3, 1, 2, 0, 2, 3, 1, 0, 2, 1, 1, 0, 1, 0, 2, 3, 0, 1, 2, 2, 1, 3, 2, 2, 1, 2, 3, 3, 2, 3, 2, 0, 2, 3, 0, 2, 3, 3, 2, 3, 3, 2, 0, 3, 2, 2, 3, 1, 2, 3, 1, 3, 3, 3, 0, 1, 2, 1, 3, 2, 3, 3, 2, 3, 2, 3, 1, 1, 2, 3, 3, 1, 3, 3, 3, 0, 1, 3, 3, 3, 3, 0, 1, 3, 3, 3, 3, 0, 2, 2, 0, 3, 0, 1, 1, 0, 2, 0, 1, 1, 2, 2, 1, 0, 3, 1, 3, 0, 2, 2, 1, 0, 0, 0, 2, 3, 2, 3, 1, 0, 0, 3, 3, 3, 2, 2, 0, 3, 0, 3, 2, 1, 1, 0, 3, 3, 1, 3, 0, 2, 2, 3, 2, 1, 1, 1, 2, 1, 2, 1, 3, 2, 3, 1, 0, 3, 0, 0, 3, 3, 1, 1, 1, 1, 1, 1, 1, 3, 1, 1, 2, 1, 2, 1, 0, 3, 0, 1, 1, 0, 1, 1, 2, 3, 0, 0, 3, 2, 3, 1, 1, 3, 3, 0, 0, 2, 2, 1, 0, 3, 1, 3, 3, 3, 3, 2, 1, 1, 2, 3, 2, 2, 2, 2, 3, 1, 1, 0, 2, 3, 0, 3, 3, 1, 1, 2, 3, 1, 3, 0, 2, 3, 0, 1, 1, 3, 1, 0, 3, 0, 2, 0, 3, 2, 2, 1, 0, 2, 2, 0, 0, 2, 3, 1, 2, 3, 0, 0, 2, 2, 2, 2, 0, 0, 1, 1, 0, 1, 1, 0, 0, 1, 0, 1, 2, 1, 2, 3, 2, 0, 1, 2, 1, 2, 2, 3, 0, 2, 1, 2, 2, 1, 0, 2, 0, 1, 2, 1, 2, 1, 3, 1, 1, 1, 1, 1, 0, 3, 2, 1, 1, 3, 0, 0, 0, 0, 1, 0, 2, 1, 1, 0, 1, 1, 2, 2, 1, 0, 2, 3, 3, 0, 3, 3, 0, 0, 0, 0, 1, 1, 2, 3, 2, 2, 1, 1, 3, 1, 0, 2, 2, 2, 1, 3, 0, 0, 2, 2, 0, 2, 3, 1, 3, 3, 3, 1, 0, 1, 1, 2, 3, 2, 3, 3, 2, 0, 3, 2, 2, 0, 3, 0, 3, 3, 0, 2, 0, 3, 2, 3, 1, 0, 2, 3, 2, 0, 0, 0, 3, 1, 3, 2, 3, 2, 1, 0, 0, 2, 2, 3, 3, 0, 3, 3, 3, 1, 0, 2, 3, 3, 0, 1, 1, 1, 0, 0, 0, 1, 3, 2, 0, 2, 3, 1, 0, 3, 0, 0, 1, 1, 0, 3, 0, 2, 2, 0, 1, 0, 3, 0, 2, 2, 1, 3, 0, 2, 2, 2, 3, 0, 0, 2, 2, 2, 0, 2, 2, 0, 0, 0, 3, 3, 3, 1, 2, 2, 2, 3, 0, 0, 2, 1, 2, 0, 0, 2, 2, 2, 2, 1, 3, 2, 0, 2, 3, 3, 3, 0, 3, 0, 3, 0, 3, 1, 1, 1, 0, 1, 1, 1, 1, 1, 0, 2, 3, 2, 2, 1, 0, 2, 0, 0, 0, 0, 3, 2, 0, 0, 0, 3, 3, 2, 1, 2, 1, 3, 3, 2, 3, 2, 2, 0, 2, 2, 1, 2, 1, 2, 1, 2, 2, 3, 0, 3, 3, 3, 1, 0, 3, 0, 3, 2, 3, 3, 3, 3, 3, 2, 0, 3, 0, 0, 2, 0, 0, 1, 0, 2, 3, 0, 2, 1, 1, 3, 0, 0, 3, 0, 0, 0, 1, 1, 2, 1, 2, 1, 2, 2, 2, 1, 2, 0, 2, 2, 1, 2, 0, 2, 2, 1, 1, 1, 2, 1, 2, 3, 3, 0, 0, 0, 1, 1, 1, 2, 2, 1, 0, 2, 3, 3, 1, 0, 1, 1, 1, 1, 2, 3, 1, 1, 0, 3, 1, 3, 3, 1, 1, 3, 3, 1, 0, 0, 2, 2, 2, 3, 3, 0, 1, 2, 1, 0, 0, 2, 1, 3, 0, 3, 3, 2, 3, 0, 0, 0, 3, 3, 2, 3, 3, 2, 0, 0, 2, 2, 2, 3, 1, 3, 2, 1, 3, 2, 2, 3, 3, 2, 2, 1, 1, 3, 2, 0, 3, 2, 0, 2, 3, 0, 3, 0, 2, 3, 0, 2, 3, 1, 3, 0, 2, 0, 2, 2, 3, 0, 0, 0, 0, 0, 2, 3, 1, 2, 3, 3, 0, 1, 1, 1, 2, 2, 3, 1, 2, 3, 2, 3, 0, 0, 3, 3, 0, 3, 0, 0, 0, 2, 0, 0, 0, 3, 3, 2, 1, 1, 0, 2, 0, 0, 2, 3, 3, 1, 1, 0, 3, 3, 0, 0, 0, 3, 1, 2, 0, 0, 0, 3, 0, 1, 0, 0, 0, 0, 1, 1, 1, 1, 1, 0, 1, 0, 1, 0, 1, 1, 0, 3, 0, 1, 3, 0, 3, 2, 1, 0, 1, 2, 1, 1, 0, 0, 0, 2, 0, 1, 1, 0, 2, 2, 0, 2, 1, 0, 1, 1, 0, 1, 0, 3, 0, 2, 3, 1, 0, 0, 2, 0, 2, 3, 2, 2, 2, 1, 0, 2, 0, 2, 2, 1, 1, 1, 0, 3, 2, 0, 2, 2, 2, 0, 2, 1, 1, 0, 1, 2, 1, 3, 1, 0, 3, 0, 2, 0, 0, 3, 0, 3, 0, 3, 0, 2, 2, 1, 0, 1, 1, 0, 3, 2, 0, 1, 0, 2, 0, 1, 2, 2, 0, 2, 2, 1, 0, 0, 1, 2, 1, 3, 3, 0, 3, 1, 1, 0, 0, 0, 3, 3, 2, 0, 3, 2, 0, 2, 3, 0, 0, 0, 2, 3, 0, 1, 3, 3, 0, 3, 2, 2, 0, 2, 3, 3, 1, 0, 3, 2, 3, 2, 0, 2, 0, 0, 3, 0, 3, 3, 3, 2, 1, 2, 1, 0, 0, 0, 2, 2, 2, 3, 3, 1, 0, 3, 0, 3, 1, 0, 2, 2, 2, 3, 3, 2, 3, 0, 1, 2, 1, 3, 2, 2, 1, 3, 0, 2, 2, 3, 3, 3, 1, 1, 0, 1, 0, 3, 3, 1, 3, 2, 0, 1, 1, 0, 0, 1, 0, 2, 2, 2, 0, 2, 0, 0, 3, 0, 3, 3, 0, 0, 2, 2, 2, 3, 0, 1, 2, 2, 1, 1, 1, 0, 3, 3, 3, 2, 2, 3, 1, 0, 0, 0, 0, 0, 3, 3, 2, 0, 1, 1, 3, 1, 2, 2, 2, 1, 0, 3, 3, 3, 1, 2, 0, 1, 2, 1, 1, 0, 3, 2, 2, 0, 3, 3, 2, 3, 2, 1, 0, 2, 2, 3, 1, 2, 3, 3, 2, 3, 1, 0, 0, 3, 3, 1, 1, 0, 1, 1, 1, 2, 0, 0, 0, 3, 3, 1, 3, 0, 1, 1, 3, 2, 0, 0, 2, 1, 1, 0, 2, 2, 0, 2, 1, 2, 2, 2, 3, 2, 1, 3, 0, 0, 2, 0, 0, 0, 3, 2, 1, 0, 3, 1, 1, 0, 3, 3, 2, 2, 3, 1, 0, 1, 3, 1, 0, 1, 0, 0, 1, 2, 0, 0, 1, 0, 2, 1, 0, 0, 0, 0, 3, 0, 0, 0, 1, 0, 1, 0, 1, 3, 1, 1, 0, 1, 1, 0, 0, 0, 0, 1, 1, 2, 1, 1, 1, 1, 1, 2, 1, 1, 0, 1, 3, 1, 1, 0, 2, 3, 1, 1, 3, 3, 1, 0, 0, 0, 1, 0, 1, 1, 1, 3, 1, 1, 0, 2, 3, 2, 0, 1, 1, 2, 2, 2, 2, 1, 0, 0, 0, 1, 3, 3, 3, 3, 3, 2, 3, 2, 3, 0, 3, 3, 1, 1, 1, 3, 0, 2, 0, 2, 2, 3, 3, 2, 0, 2, 3, 0, 1, 3, 2, 2, 0, 3, 3, 1, 1, 2, 3, 2, 3, 2, 2, 2, 0, 0, 0, 3, 1, 0, 2, 1, 2, 2, 1, 0, 0, 1, 1, 1, 1, 0, 2, 1, 3, 3, 2, 1, 3, 2, 0, 1, 2, 2, 3, 3, 2, 2, 1, 0, 2, 1, 2, 1, 0, 0, 3, 3, 1, 3, 3, 2, 3, 0, 0, 2, 2, 0, 3, 3, 3, 3, 3, 3, 0, 0, 2, 3, 1, 1, 2, 1, 0, 2, 3, 2, 1, 3, 2, 0, 3, 0, 3, 0, 3, 0, 2, 2, 3, 1, 1, 3, 3, 2, 0, 0, 2, 3, 3, 3, 2, 1, 1, 1, 0, 2, 1, 2, 3, 2, 2, 0, 1, 2, 0, 2, 0, 3, 1, 1, 0, 1, 3, 0, 0, 3, 2, 3, 2, 3, 3, 0, 0, 0, 2, 2, 3, 2, 2, 0, 3, 2, 2, 2, 1, 2, 0, 1, 0, 2, 3, 3, 1, 0, 3, 0, 1, 1, 2, 0, 0, 3, 2, 3, 3, 0, 2, 1, 2, 1, 1, 3, 3, 1, 0, 2, 1, 3, 3, 1, 3, 1, 2, 1, 1, 0, 0, 2, 0, 0, 1, 2, 1, 2, 0, 3, 2, 1, 2, 3, 2, 1, 3, 3, 0, 2, 0, 3, 3, 3, 2, 0, 2, 2, 1, 1, 1, 1, 2, 2, 0, 3, 3, 0, 0, 3, 2, 0, 0, 3, 2, 2, 2, 2, 3, 3, 3, 1, 0, 0, 2, 3, 1, 3, 3, 3, 2, 3, 1, 3, 1, 1, 2, 1, 3, 3, 1, 1, 1, 0, 1, 2, 3, 0, 2, 2, 2, 0, 0, 2, 2, 3, 0, 1, 2, 1, 0, 1, 1, 0, 0, 2, 3, 3, 0, 2, 2, 2, 2, 3, 0, 1, 0, 3, 2, 3, 3, 3, 1, 3, 3, 3, 0, 2, 2, 1, 1, 1, 0, 3, 1, 0, 2, 0, 2, 0, 0, 2, 1, 3, 1, 0, 1, 3, 1, 1, 2, 1, 3, 1, 0, 2, 1, 2, 0, 0, 2, 0, 1, 1, 2, 1, 2, 2, 1, 1, 3, 1, 0, 0, 1, 0, 0, 0, 1, 0, 1, 0, 3, 3, 2, 1, 0, 0, 1, 2, 0, 2, 1, 2, 1, 2, 3, 0, 1, 0, 0, 2, 0, 2, 0, 1, 1, 0, 1, 2, 0, 1, 1, 2, 2, 0, 0, 0, 0, 1, 0, 1, 1, 0, 0, 1, 0, 0, 1, 1, 1, 0, 1, 1, 1, 1, 2, 2, 2, 1, 0, 2, 3, 3, 1, 0, 1, 1, 0, 2, 1, 1, 3, 0, 0, 1, 0, 0, 1, 1, 0, 1, 1, 0, 0, 3, 1, 0, 3, 0, 0, 3, 0, 2, 2, 2, 1, 1, 2, 2, 2, 3, 0, 3, 3, 0, 0, 2, 2, 3, 3, 2, 3, 1, 3, 3, 0, 2, 0, 3, 3, 1, 2, 3, 3, 2, 1, 3, 3, 2, 1, 2, 1, 0, 1, 3, 3, 1, 2, 2, 0, 0, 2, 1, 2, 1, 3, 1, 3, 0, 1, 0, 2, 1, 2, 0, 1, 2, 1, 0, 1, 1, 0, 2, 1, 0, 0, 3, 3, 0, 0, 3, 3, 2, 3, 2, 3, 2, 3, 0, 3, 2, 0, 2, 0, 3, 2, 2, 0, 2, 3, 0, 2, 2, 1, 0, 0, 3, 0, 0, 2, 2, 1, 3, 1, 3, 3, 1, 2, 3, 0, 0, 2, 2, 3, 3, 1, 3, 3, 0, 2, 3, 1, 0, 2, 3, 3, 1, 0, 3, 3, 3, 2, 0, 2, 1, 1, 0, 3, 2, 1, 0, 0, 3, 3, 0, 1, 1, 2, 1, 2, 1, 1, 1, 2, 1, 2, 1, 0, 2, 0, 1, 3, 0, 3, 0, 2, 1, 0, 3, 1, 0, 0, 2, 2, 0, 3, 0, 0, 1, 1, 1, 2, 3, 3, 0, 3, 0, 2, 0, 0, 2, 3, 0, 2, 3, 0, 3, 0, 3, 0, 2, 2, 3, 0, 2, 2, 2, 2, 2, 2, 1, 2, 0, 1, 3, 1, 1, 0, 1, 0, 0, 3, 1, 2, 3, 1, 3, 1, 0, 0, 1, 0, 0, 2, 3, 0, 0, 2, 0, 2, 0, 3, 2, 1, 1, 1, 0, 2, 1, 1, 1, 1, 1, 1, 0, 2, 0, 3, 3, 2, 3, 3, 3, 1, 3, 1, 2, 1, 0, 3, 2, 2, 0, 2, 3, 1, 2, 0, 2, 2, 3, 0, 3, 3, 0, 2, 2, 3, 2, 2, 1, 3, 1, 2, 0, 3, 3, 1, 3, 3, 1, 1, 2, 2, 3, 1, 1, 3, 0, 3, 0, 3, 3, 3, 2, 2, 3, 0, 2, 0, 0, 3, 0, 3, 0, 1, 3, 2, 1, 1, 2, 0, 0, 0, 0, 3, 0, 1, 3, 1, 0, 0, 2, 1, 2, 1, 3, 1, 2, 3, 1, 3, 2, 1, 0, 2, 2, 2, 0, 2, 2, 0, 1, 0, 3, 1, 0, 3, 1, 2, 3, 1, 0, 3, 1, 3, 2, 3, 0, 0, 3, 0, 2, 0, 2, 2, 3, 3, 1, 3, 3, 0, 3, 0, 0, 1, 1, 3, 1, 1, 0, 0, 1, 3, 1, 3, 0, 1, 3, 1, 0, 3, 1, 0, 1, 1, 1, 0, 3, 1, 0, 1, 2, 1, 3, 1, 2, 1, 2, 0, 0, 1, 1, 1, 1, 3, 2, 3, 0, 1, 1, 3, 0, 0, 0, 1, 0, 1, 3, 2, 1, 2, 3, 1, 2, 1, 3, 0, 1, 0, 2, 2, 3, 2, 3, 0, 1, 3, 0, 3, 2, 1, 2, 1, 1, 2, 1, 3, 3, 2, 3, 2, 2, 2, 1, 3, 2, 0, 1, 2, 1, 0, 2, 1, 1, 2, 2, 1, 3, 2, 2, 2, 0, 3, 2, 1, 2, 2, 3, 2, 0, 2, 0, 1, 2, 1, 1, 0, 1, 2, 2, 2, 1, 3, 2, 1, 3, 2, 0, 1, 0, 0, 0, 3, 0, 1, 1, 1, 2, 2, 2, 1, 1, 3, 1, 2, 1, 1, 2, 1, 1, 2, 2, 0, 2, 2, 3, 1, 3, 0, 2, 0, 0, 3, 2, 3, 1, 2, 3, 1, 2, 2, 1, 3, 2, 0, 3, 1, 1, 2, 3, 1, 2, 2, 2, 3, 1, 2, 0, 0, 2, 1, 3, 1, 2, 2, 2, 2, 0, 1, 3, 3, 0, 2, 2, 1, 0, 2, 3, 0, 2, 3, 2, 3, 3, 1, 0, 1, 1, 1, 3, 3, 2, 3, 1, 2, 2, 0, 2, 2, 1, 3, 0, 2, 3, 3, 0, 2, 0, 2, 1, 0, 0, 3, 0, 0, 2, 3, 0, 2, 3, 3, 3, 2, 3, 3, 3, 2, 3, 3, 3, 3, 0, 2, 3, 3, 2, 3, 3, 2, 0, 3, 3, 2, 3, 0, 0, 1, 2, 3, 2, 3, 2, 0, 0, 2, 3, 3, 1, 0, 3, 3, 2, 2, 0, 2, 2, 3, 1, 3, 3, 3, 3, 1, 0, 3, 3, 3, 0, 3, 3, 0, 3, 0, 1, 1, 3, 2, 1, 2, 1, 0, 1, 0, 2, 1, 0, 0, 0, 1, 1, 1, 1, 1, 1, 1, 2, 2, 1, 0, 1, 0, 2, 2, 2, 2, 1, 0, 1, 1, 0, 0, 2, 3, 1, 0, 0, 0, 3, 1, 1, 1, 1, 0, 2, 0, 0, 0, 1, 0, 0, 0, 2, 1, 0, 0, 0, 0, 2, 2, 3, 1, 1, 0, 3, 3, 2, 1, 1, 1, 2, 0, 0, 2, 0, 3, 0, 2, 1, 1, 2, 2, 2, 2, 1, 2, 0, 0, 3, 1, 1, 0, 2, 3, 1, 2, 0, 3, 3, 2, 2, 2, 2, 2, 0, 3, 3, 3, 2, 2, 0, 3, 3, 2, 2, 2, 2, 3, 3, 1, 0, 2, 3, 3, 3, 3, 3, 1, 3, 3, 3, 3, 1, 2, 1, 2, 2, 0, 3, 3, 3, 3, 3, 2, 2, 3, 2, 3, 1, 0, 2, 3, 1, 2, 3, 1, 0, 3, 0, 0, 0, 3, 1, 2, 2, 2, 2, 3, 1, 0, 2, 2, 3, 3, 2, 2, 3, 1, 0, 0, 2, 2, 3, 0, 0, 3, 3, 3, 3, 1, 3, 3, 2, 3, 3, 3, 2, 3, 3, 2, 1, 1, 3, 2, 2, 2, 1, 1, 3, 3, 3, 3, 0, 2, 3, 0, 3, 3, 2, 2, 0, 3, 3, 2, 1, 1, 2, 3, 3, 0, 1, 2, 2, 2, 3, 3, 3, 1, 3, 3, 0, 0, 3, 1, 0, 0, 3, 2, 2, 1, 2, 0, 3, 3, 0, 3, 1, 3, 1, 1, 2, 3, 3, 0, 3, 2, 3, 1, 3, 3, 2, 0, 2, 1, 2, 2, 2, 3, 1, 2, 3, 2, 3, 2, 1, 3, 3, 0, 0, 2, 1, 1, 2, 2, 1, 2, 1, 0, 2, 1, 0, 2, 2, 1, 2, 2, 2, 1, 3, 1, 0, 3, 3, 0, 3, 3, 0, 0, 2, 2, 0, 0, 1, 2, 2, 3, 3, 0, 2, 1, 2, 3, 2, 3, 0, 2, 1, 3, 1, 0, 2, 2, 2, 1, 0, 3, 3, 1, 2, 0, 0, 3, 1, 0, 2, 3, 3, 1, 3, 2, 1, 0, 2, 1, 0, 3, 0, 3, 0, 1, 1, 1, 1, 2, 2, 0, 1, 1, 0, 0, 2, 3, 2, 1, 0, 1, 2, 3, 0, 0, 2, 2, 2, 2, 1, 0, 0, 0, 3, 1, 2, 2, 2, 3, 3, 3, 1, 0, 0, 3, 0, 3, 0, 0, 0, 0, 3, 0, 2, 3, 3, 2, 3, 2, 1, 3, 3, 3, 2, 3, 0, 1, 0, 0, 3, 2, 1, 0, 2, 3, 2, 0, 0, 1, 0, 1, 0, 0, 1, 0, 2, 3, 3, 1, 1, 0, 1, 2, 1, 3, 0, 1, 3, 1, 1, 1, 2, 3, 1, 1, 1, 1, 0, 1, 2, 1, 1, 1, 2, 1, 1, 3, 0, 3, 3, 0, 3, 3, 1, 0, 2, 3, 1, 1, 1, 0, 1, 3, 3, 1, 0, 2, 1, 0, 3, 1, 1, 1, 2, 1, 0, 0, 1, 1, 1, 0, 0, 0, 3, 3, 1, 1, 0, 1, 1, 0, 0, 3, 1, 2, 3, 1, 0, 3, 1, 1, 3, 3, 3, 2, 0, 2, 3, 0, 0, 1, 0, 3, 2, 1, 2, 2, 3, 3, 3, 2, 2, 3, 2, 3, 2, 1, 3, 2, 1, 1, 2, 3, 3, 3, 0, 2, 3, 2, 3, 2, 2, 2, 0, 3, 0, 1, 3, 3, 1, 2, 0, 3, 3, 1, 1, 2, 3, 3, 3, 0, 0, 0, 1, 0, 3, 1, 1, 1, 2, 0, 0, 2, 0, 0, 3, 1, 0, 2, 2, 0, 3, 1, 0, 3, 1, 1, 0, 0, 0, 3, 3, 0, 2, 3, 2, 3, 1, 0, 2, 2, 2, 2, 1, 2, 2, 1, 2, 2, 1, 3, 3, 3, 3, 3, 2, 2, 3, 3, 3, 0, 2, 3, 3, 1, 3, 3, 2, 3, 3, 2, 3, 2, 3, 2, 0, 2, 1, 0, 0, 3, 3, 1, 0, 0, 3, 1, 1, 2, 0, 0, 0, 1, 0, 0, 3, 0, 0, 2, 0, 3, 3, 0, 1, 3, 2, 2, 3, 3, 1, 1, 3, 2, 1, 0, 0, 3, 3, 0, 1, 2, 0, 3, 3, 2, 0, 2, 0, 2, 3, 2, 3, 0, 0, 0, 3, 3, 2, 2, 2, 0, 2, 2, 0, 0, 2, 0, 2, 2, 3, 0, 2, 3, 1, 1, 2, 0, 2, 0, 1, 2, 0, 1, 0, 1, 3, 0, 2, 1, 3, 0, 1, 1, 3, 2, 1, 2, 0, 0, 0, 1, 1, 1, 2, 2, 1, 0, 0, 3, 0, 0, 2, 2, 3, 0, 1, 0, 0, 0, 2, 2, 2, 1, 2, 1, 2, 2, 0, 3, 1, 2, 2, 1, 3, 3, 2, 3, 0, 2, 3, 2, 3, 3, 3, 1, 3, 2, 2, 2, 2, 2, 3, 2, 2, 1, 3, 3, 0, 1, 3, 3, 3, 2, 3, 1, 1, 0, 2, 2, 0, 0, 0, 0, 0, 2, 2, 2, 1, 2, 2, 3, 1, 1, 0, 3, 1, 0, 3, 3, 2, 0, 2, 2, 3, 2, 2, 3, 2, 1, 2, 0, 1, 1, 3, 2, 3, 3, 3, 2, 2, 3, 3, 1, 3, 0, 1, 2, 1, 0, 3, 3, 2, 3, 0, 0, 2, 2, 1, 2, 2, 2, 1, 0, 0, 2, 3, 1, 3, 2, 0, 3, 2, 2, 1, 0, 0, 1, 2, 0, 2, 3, 3, 1, 1, 3, 0, 2, 3, 0, 0, 1, 0, 2, 2, 3, 3, 3, 2, 0, 3, 0, 1, 1, 1, 0, 0, 1, 1, 1, 3, 1, 1, 1, 0, 0, 0, 2, 1, 1, 1, 2, 0, 3, 3, 2, 1, 1, 1, 2, 1, 0, 0, 0, 1, 1, 2, 2, 1, 2, 1, 2, 1, 1, 1, 0, 1, 0, 2, 2, 1, 1, 2, 0, 1, 1, 3, 1, 0, 2, 0, 0, 0, 2, 2, 1, 0, 0, 0, 0, 1, 0, 2, 1, 0, 3, 3, 0, 2, 1, 2, 1, 2, 1, 0, 2, 2, 3, 1, 0, 2, 2, 1, 1, 0, 0, 3, 2, 2, 2, 2, 2, 3, 3, 2, 2, 3, 0, 0, 0, 0, 0, 2, 1, 2, 3, 3, 3, 3, 0, 1, 2, 0, 2, 3, 3, 1, 2, 2, 2, 3, 3, 2, 1, 3, 1, 3, 0, 3, 2, 2, 2, 0, 3, 3, 1, 2, 2, 0, 2, 3, 1, 2, 3, 1, 3, 2, 1, 1, 1, 1, 0, 3, 1, 0, 3, 2, 3, 3, 3, 3, 3, 0, 3, 3, 1, 3, 0, 3, 3, 0, 3, 1, 0, 1, 1, 1, 1, 0, 1, 0, 2, 2, 0, 0, 0, 1, 0, 2, 0, 3, 2, 3, 2, 2, 2, 3, 3, 0, 0, 2, 3, 1, 2, 1, 2, 1, 0, 2, 2, 2, 3, 1, 1, 3, 2, 3, 3, 3, 2, 1, 1, 1, 0, 2, 2, 2, 2, 2, 0, 0, 2, 0, 1, 3, 3, 1, 3, 0, 3, 0, 1, 1, 2, 2, 1, 3, 0, 1, 0, 1, 1, 2, 1, 1, 1, 3, 1, 0, 0, 0, 2, 0, 0, 0, 1, 0, 1, 1, 1, 1, 1, 1, 2, 1, 0, 0, 1, 0, 1, 0, 2, 3, 2, 2, 2, 3, 0, 2, 0, 1, 2, 3, 0, 0, 0, 3, 0, 1, 3, 2, 1, 0, 2, 2, 1, 2, 2, 2, 3, 2, 0, 3, 0, 0, 2, 1, 1, 1, 0, 3, 2, 2, 2, 1, 0, 0, 0, 1, 0, 2, 3, 1, 0, 0, 0, 1, 2, 3, 2, 1, 1, 3, 0, 1, 1, 3, 0, 1, 2, 3, 1, 3, 1, 2, 0, 2, 2, 0, 3, 0, 1, 0, 0, 0, 1, 1, 2, 1, 0, 2, 1, 0, 1, 1, 1, 1, 3, 2, 1, 1, 2, 1, 1, 1, 3, 2, 1, 2, 0, 0, 0, 1, 1, 1, 0, 1, 0, 3, 1, 2, 2, 0, 3, 3, 0, 3, 2, 3, 3, 0, 2, 2, 3, 3, 1, 1, 3, 2, 1, 2, 3, 0, 1, 0, 0, 0, 3, 2, 2, 1, 2, 2, 0, 0, 3, 1, 2, 2, 2, 3, 0, 2, 0, 2, 3, 1, 1, 0, 1, 3, 2, 1, 0, 1, 1, 3, 1, 2, 3, 3, 0, 1, 3, 0, 0, 1, 2, 1, 2, 1, 0, 0, 1, 1, 2, 2, 1, 0, 0, 2, 2, 2, 2, 0, 2, 0, 2, 3, 0, 2, 1, 2, 3, 3, 3, 0, 3, 1, 3, 1, 3, 3, 1, 0, 3, 1, 2, 0, 2, 1, 2, 2, 0, 1, 0, 3, 2, 3, 3, 2, 1, 1, 2, 0, 3, 2, 1, 0, 2, 1, 3, 3, 1, 1, 0, 2, 2, 1, 2, 2, 2, 1, 0, 0, 0, 0, 3, 2, 1, 0, 2, 3, 2, 3, 1, 0, 2, 2, 2, 3, 0, 0, 3, 0, 3, 3, 2, 1, 3, 2, 2, 2, 1, 2, 2, 3, 3, 1, 0, 0, 1, 1, 2, 0, 2, 1, 1, 2, 0, 0, 0, 1, 1, 2, 1, 3, 2, 3, 3, 1, 3, 0, 3, 3, 3, 3, 3, 3, 3, 3, 3, 0, 2, 3, 1, 0, 0, 3, 3, 3, 1, 0, 0, 2, 3, 3, 3, 3, 3, 2, 3, 1, 3, 1, 2, 2, 2, 0, 2, 0, 0, 2, 2, 1, 1, 3, 3, 1, 0, 0, 0, 2, 3, 3, 3, 2, 1, 0, 3, 2, 3, 0, 2, 0, 2, 3, 3, 1, 3, 0, 1, 2, 2, 3, 2, 1, 3, 0, 0, 3, 3, 2, 0, 3, 0, 3, 3, 3, 3, 3, 2, 2, 2, 2, 2, 2, 0, 0, 2, 0, 0, 0, 1, 1, 1, 2, 1, 2, 1, 3, 3, 3, 2, 2, 1, 3, 1, 1, 3, 1, 1, 1, 2, 2, 0, 0, 1, 1, 1, 1, 0, 0, 2, 1, 1, 1, 0, 1, 2, 0, 0, 0, 1, 3, 0, 2, 1, 0, 3, 3, 2, 2, 1, 3, 1, 3, 3, 3, 0, 0, 1, 2, 2, 1, 0, 2, 2, 1, 1, 1, 2, 3, 1, 1, 0, 1, 2, 1, 1, 2, 0, 3, 2, 2, 1, 2, 1, 0, 3, 1, 0, 0, 2, 0, 0, 2, 3, 0, 3, 2, 1, 3, 3, 3, 2, 0, 2, 0, 1, 0, 0, 2, 0, 3, 2, 2, 3, 3, 0, 2, 3, 0, 1, 1, 1, 2, 2, 2, 0, 3, 0, 2, 0, 1, 2, 0, 3, 3, 2, 1, 1, 2, 2, 0, 3, 3, 2, 3, 3, 3, 2, 1, 1, 2, 1, 1, 1, 1, 2, 3, 3, 1, 0, 0, 1, 2, 0, 0, 3, 0, 0, 2, 3, 2, 0, 2, 3, 0, 2, 0, 3, 3, 0, 3, 2, 3, 0, 2, 2, 3, 2, 2, 1, 3, 3, 2, 2, 3, 0, 3, 3, 2, 2, 0, 3, 3, 2, 3, 0, 1, 0, 1, 3, 3, 1, 2, 0, 1, 0, 2, 2, 0, 0, 1, 0, 2, 2, 2, 3, 3, 1, 0, 0, 1, 3, 1, 0, 3, 3, 1, 1, 3, 3, 2, 0, 2, 0, 3, 2, 2, 1, 2, 1, 2, 2, 0, 3, 3, 1, 2, 2, 2, 2, 0, 2, 3, 2, 3, 1, 2, 3, 3, 1, 1, 3, 2, 2, 0, 0, 2, 2, 3, 0, 1, 3, 0, 1, 1, 1, 0, 0, 2, 3, 3, 1, 1, 1, 1, 1, 3, 1, 1, 3, 2, 0, 1, 1, 1, 0, 1, 1, 1, 0, 1, 1, 0, 0, 0, 2, 1, 1, 0, 3, 0, 0, 0, 2, 1, 1, 1, 1, 1, 0, 1, 2, 1, 1, 1, 1, 3, 0, 1, 0, 0, 1, 0, 1, 3, 0, 2, 3, 3, 3, 0, 2, 2, 1, 1, 1, 2, 3, 2, 2, 1, 0, 0, 1, 1, 2, 0, 0, 0, 2, 2, 0, 2, 3, 1, 2, 1, 1, 2, 0, 0, 0, 2, 2, 2, 1, 0, 0, 3, 3, 0, 2, 2, 2, 0, 0, 1, 3, 0, 0, 2, 2, 3, 1, 3, 2, 0, 2, 2, 0, 3, 1, 3, 3, 3, 3, 3, 3, 1, 0, 1, 1, 0, 1, 2, 1, 0, 0, 2, 1, 1, 1, 2, 3, 0, 3, 2, 0, 3, 3, 1, 0, 2, 2, 3, 2, 3, 3, 3, 3, 1, 2, 1, 3, 0, 0, 0, 1, 1, 1, 2, 3, 0, 2, 3, 3, 3, 3, 1, 0, 2, 2, 2, 0, 3, 2, 2, 3, 0, 2, 3, 2, 3, 0, 1, 1, 0, 1, 3, 1, 3, 2, 1, 2, 1, 0, 1, 1, 0, 0, 3, 1, 3, 2, 0, 0, 0, 3, 3, 1, 0, 2, 2, 0, 3, 1, 3, 0, 2, 2, 3, 1, 1, 1, 0, 1, 1, 0, 2, 2, 3, 3, 0, 2, 3, 3, 1, 1, 0, 1, 3, 0, 2, 3, 1, 1, 2, 2, 3, 0, 0, 3, 3, 3, 3, 2, 1, 2, 3, 3, 3, 0, 2, 3, 2, 1, 1, 2, 3, 3, 1, 3, 2, 2, 1, 1, 1, 1, 0, 3, 2, 3, 3, 2, 1, 0, 2, 1, 2, 1, 2, 2, 2, 2, 2, 3, 1, 2, 3, 1, 0, 0, 0, 3, 2, 2, 2, 2, 3, 0, 2, 3, 2, 0, 3, 0, 0, 1, 0, 0, 3, 1, 2, 3, 0, 0, 1, 3, 1, 1, 2, 1, 0, 3, 2, 3, 3, 0, 2, 3, 3, 3, 1, 2, 0, 2, 3, 0, 1, 2, 2, 0, 0, 2, 0, 3, 3, 2, 0, 1, 3, 0, 3, 3, 3, 2, 2, 1, 0, 3, 1, 0, 2, 1, 1, 0, 0, 2, 0, 2, 0, 0, 0, 3, 3, 2, 0, 0, 3, 2, 2, 2, 1, 1, 0, 2, 2, 2, 2, 2, 2, 3, 0, 2, 1, 1, 2, 3, 3, 3, 0, 3, 0, 1, 1, 3, 3, 1, 1, 1, 0, 2, 1, 2, 3, 1, 1, 0, 1, 3, 3, 1, 1, 0, 0, 1, 0, 0, 1, 1, 2, 2] [2, 2, 2, 1, 2, 1, 0, 2, 0, 2, 2, 2, 2, 0, 0, 2, 0, 0, 0, 2, 2, 2, 2, 2, 1, 2, 1, 1, 1, 1, 1, 1, 0, 0, 0, 1, 0, 0, 0, 0, 1, 2, 0, 2, 1, 1, 0, 2, 0, 1, 0, 1, 2, 2, 2, 1, 2, 0, 2, 2, 1, 1, 1, 2, 0, 0, 0, 1, 1, 0, 2, 2, 1, 0, 0, 1, 0, 1, 0, 1, 0, 1, 2, 2, 0, 0, 2, 0, 1, 2, 0, 2, 2, 2, 1, 1, 1, 2, 0, 2, 0, 2, 0, 2, 1, 1, 2, 1, 0, 2, 2, 2, 2, 2, 0, 1, 2, 1, 2, 1, 2, 1, 1, 0, 0, 0, 0, 1, 1, 0, 0, 0, 1, 1, 1, 1, 0, 1, 1, 2, 0, 0, 1, 0, 0, 0, 1, 2, 1, 1, 1, 0, 1, 0, 2, 0, 2, 1, 1, 0, 1, 2, 2, 0, 0, 2, 2, 2, 1, 0, 1, 2, 2, 1, 0, 0, 2, 1, 2, 1, 2, 1, 1, 2, 2, 0, 0, 0, 0, 2, 2, 0, 0, 0, 2, 2, 2, 1, 2, 1, 0, 2, 0, 0, 1, 1, 1, 2, 1, 2, 1, 0, 1, 0, 1, 2, 2, 2, 2, 1, 1, 0, 0, 1, 2, 1, 0, 1, 2, 0, 1, 0, 2, 2, 0, 1, 2, 1, 0, 2, 2, 1, 1, 2, 2, 2, 2, 0, 2, 0, 2, 0, 1, 2, 2, 0, 2, 2, 2, 2, 1, 0, 0, 2, 0, 0, 1, 2, 1, 1, 1, 0, 2, 2, 1, 0, 0, 1, 2, 2, 2, 1, 1, 2, 1, 0, 0, 2, 0, 1, 1, 1, 2, 1, 1, 2, 0, 1, 1, 2, 1, 2, 2, 2, 2, 1, 2, 2, 1, 2, 2, 1, 0, 0, 2, 0, 2, 2, 1, 2, 2, 0, 1, 2, 1, 2, 1, 0, 2, 2, 2, 1, 0, 0, 1, 0, 0, 0, 1, 1, 1, 1, 0, 1, 2, 2, 2, 1, 1, 2, 1, 0, 0, 1, 0, 1, 1, 2, 1, 1, 1, 0, 2, 1, 0, 1, 1, 2, 0, 1, 1, 0, 1, 1, 1, 0, 1, 1, 2, 0, 1, 1, 1, 1, 2, 1, 1, 1, 0, 0, 0, 1, 0, 0, 0, 1, 1, 1, 1, 2, 1, 1, 0, 0, 0, 2, 2, 2, 0, 1, 2, 1, 0, 0, 0, 0, 1, 2, 2, 0, 0, 1, 2, 2, 2, 0, 2, 2, 2, 1, 0, 1, 1, 2, 0, 2, 2, 2, 2, 2, 2, 1, 0, 2, 2, 2, 2, 2, 2, 2, 1, 0, 2, 2, 2, 1, 0, 2, 1, 0, 1, 1, 0, 1, 0, 2, 2, 2, 2, 1, 0, 2, 0, 2, 1, 2, 1, 2, 0, 2, 2, 1, 2, 1, 1, 0, 1, 2, 0, 2, 1, 2, 1, 2, 2, 1, 2, 0, 1, 2, 0, 1, 1, 0, 0, 0, 0, 0, 2, 2, 2, 1, 2, 0, 0, 0, 0, 2, 1, 1, 2, 0, 2, 0, 0, 0, 2, 1, 0, 0, 1, 2, 2, 2, 2, 2, 2, 0, 1, 2, 1, 0, 0, 0, 0, 0, 2, 1, 2, 2, 0, 0, 0, 1, 2, 2, 0, 1, 2, 2, 2, 0, 2, 2, 1, 2, 0, 2, 2, 1, 0, 0, 2, 2, 0, 2, 1, 2, 2, 0, 0, 2, 2, 1, 1, 2, 2, 0, 2, 2, 0, 2, 0, 0, 2, 0, 2, 0, 2, 0, 0, 2, 2, 2, 1, 0, 0, 2, 1, 1, 1, 0, 0, 1, 1, 2, 2, 0, 0, 2, 2, 2, 1, 2, 2, 0, 1, 2, 2, 1, 2, 1, 2, 0, 2, 0, 2, 1, 1, 0, 2, 2, 0, 0, 1, 2, 0, 0, 1, 2, 1, 2, 0, 0, 1, 2, 2, 2, 2, 0, 2, 2, 1, 2, 2, 1, 1, 2, 0, 0, 1, 2, 0, 2, 1, 1, 1, 2, 0, 1, 2, 0, 0, 0, 0, 2, 1, 2, 0, 0, 1, 1, 1, 1, 0, 0, 1, 0, 1, 0, 2, 1, 2, 0, 1, 1, 0, 1, 2, 2, 2, 2, 2, 1, 2, 1, 2, 1, 1, 2, 0, 0, 0, 1, 0, 0, 0, 2, 2, 2, 2, 1, 0, 0, 2, 1, 1, 0, 1, 1, 1, 2, 0, 1, 2, 2, 2, 1, 2, 1, 0, 1, 1, 1, 0, 2, 0, 0, 2, 1, 2, 2, 2, 2, 0, 1, 1, 1, 0, 1, 2, 1, 0, 1, 1, 0, 0, 1, 2, 1, 0, 0, 1, 1, 1, 0, 0, 1, 2, 0, 0, 1, 0, 1, 1, 0, 1, 0, 1, 0, 1, 1, 1, 0, 1, 1, 0, 1, 0, 1, 0, 0, 2, 0, 1, 0, 1, 1, 0, 0, 0, 1, 1, 1, 2, 1, 0, 1, 0, 0, 0, 0, 0, 1, 1, 2, 2, 1, 0, 2, 1, 0, 1, 1, 0, 1, 0, 0, 0, 1, 2, 1, 0, 1, 1, 1, 1, 1, 1, 2, 0, 0, 1, 1, 2, 2, 0, 2, 0, 0, 1, 1, 1, 1, 1, 1, 0, 2, 1, 0, 2, 0, 0, 2, 1, 1, 1, 2, 1, 2, 2, 1, 2, 2, 0, 2, 1, 0, 0, 2, 0, 1, 2, 0, 2, 1, 2, 2, 0, 2, 2, 2, 1, 1, 2, 0, 2, 1, 0, 0, 2, 2, 2, 2, 0, 0, 0, 2, 2, 1, 2, 2, 2, 2, 2, 1, 2, 0, 0, 1, 0, 2, 2, 1, 2, 1, 0, 1, 0, 1, 2, 1, 1, 2, 2, 2, 2, 2, 0, 1, 2, 0, 0, 2, 2, 2, 1, 1, 2, 2, 2, 2, 0, 0, 1, 1, 2, 2, 0, 2, 2, 2, 2, 1, 1, 2, 0, 0, 2, 2, 1, 2, 0, 0, 2, 1, 1, 1, 2, 0, 2, 0, 2, 0, 0, 1, 2, 1, 0, 1, 2, 2, 2, 2, 2, 2, 1, 1, 2, 0, 1, 0, 2, 2, 2, 2, 2, 2, 0, 2, 1, 2, 2, 0, 1, 0, 2, 2, 0, 0, 1, 0, 2, 0, 2, 2, 2, 0, 1, 0, 2, 2, 0, 0, 1, 1, 1, 0, 0, 2, 1, 0, 0, 2, 0, 0, 2, 0, 2, 1, 2, 1, 2, 2, 2, 2, 2, 2, 2, 1, 1, 1, 1, 2, 0, 2, 1, 2, 2, 2, 0, 0, 0, 2, 0, 0, 0, 2, 1, 2, 0, 2, 1, 2, 1, 0, 1, 2, 2, 0, 0, 2, 1, 1, 1, 2, 2, 0, 2, 2, 1, 0, 2, 2, 2, 2, 2, 0, 1, 1, 0, 2, 2, 1, 0, 1, 0, 1, 1, 0, 2, 1, 2, 2, 1, 1, 0, 1, 0, 0, 1, 2, 1, 1, 2, 2, 0, 1, 1, 1, 2, 1, 2, 2, 2, 0, 2, 2, 2, 1, 1, 1, 1, 0, 1, 1, 1, 2, 2, 1, 0, 1, 2, 2, 1, 0, 0, 2, 2, 0, 2, 0, 1, 1, 1, 0, 1, 0, 1, 0, 0, 1, 1, 1, 0, 0, 1, 0, 1, 2, 2, 2, 1, 2, 0, 0, 1, 1, 1, 2, 0, 2, 0, 2, 0, 0, 2, 0, 1, 0, 1, 1, 1, 0, 2, 2, 2, 0, 1, 0, 0, 0, 2, 2, 1, 0, 1, 1, 2, 1, 1, 2, 1, 2, 2, 0, 0, 2, 2, 1, 1, 1, 0, 0, 0, 2, 0, 1, 2, 0, 2, 1, 1, 2, 2, 2, 1, 2, 0, 2, 2, 1, 1, 1, 1, 2, 2, 1, 1, 2, 0, 2, 2, 2, 2, 2, 0, 2, 0, 0, 0, 1, 1, 0, 1, 2, 0, 0, 2, 1, 2, 2, 2, 0, 2, 2, 0, 0, 2, 2, 1, 1, 1, 2, 2, 1, 2, 1, 1, 0, 2, 2, 2, 0, 2, 2, 2, 2, 0, 0, 2, 1, 1, 2, 1, 2, 2, 2, 1, 2, 2, 1, 0, 1, 1, 2, 1, 2, 2, 2, 2, 2, 1, 2, 2, 0, 2, 2, 2, 2, 2, 1, 2, 2, 2, 2, 1, 1, 1, 0, 2, 1, 1, 0, 1, 0, 0, 2, 0, 1, 2, 2, 2, 1, 0, 2, 2, 1, 0, 0, 1, 2, 0, 1, 1, 1, 1, 1, 1, 2, 2, 2, 2, 1, 1, 2, 2, 1, 1, 2, 2, 0, 1, 0, 0, 2, 0, 0, 1, 0, 2, 2, 2, 2, 2, 1, 0, 0, 2, 2, 1, 2, 0, 2, 2, 0, 1, 2, 0, 2, 2, 2, 2, 0, 1, 0, 2, 2, 1, 0, 0, 0, 2, 0, 0, 1, 1, 1, 1, 2, 1, 2, 0, 1, 2, 0, 2, 0, 1, 0, 1, 2, 2, 2, 1, 2, 2, 1, 0, 1, 0, 1, 0, 0, 1, 2, 1, 0, 0, 0, 2, 2, 1, 0, 0, 0, 0, 0, 2, 0, 2, 2, 2, 2, 2, 1, 2, 0, 1, 0, 2, 0, 1, 0, 2, 0, 1, 1, 0, 0, 2, 2, 0, 1, 1, 0, 1, 0, 0, 2, 1, 2, 2, 0, 0, 0, 0, 1, 2, 0, 2, 1, 2, 1, 1, 1, 2, 1, 1, 0, 1, 2, 0, 1, 1, 1, 1, 0, 0, 1, 1, 1, 1, 2, 1, 2, 0, 1, 0, 2, 0, 0, 0, 1, 2, 1, 0, 0, 1, 0, 2, 2, 1, 0, 1, 0, 1, 2, 0, 1, 1, 1, 2, 2, 1, 0, 1, 2, 0, 0, 2, 2, 2, 1, 1, 2, 0, 1, 2, 2, 2, 2, 2, 0, 1, 2, 2, 1, 2, 2, 2, 2, 1, 1, 2, 2, 0, 0, 2, 1, 1, 2, 2, 1, 0, 2, 1, 2, 0, 0, 1, 1, 2, 2, 2, 1, 1, 1, 0, 2, 2, 2, 2, 1, 0, 2, 2, 2, 0, 2, 2, 0, 0, 1, 1, 0, 2, 1, 2, 1, 0, 2, 1, 2, 1, 0, 2, 2, 2, 2, 2, 2, 2, 2, 2, 2, 2, 0, 1, 2, 0, 1, 1, 2, 2, 2, 0, 1, 2, 2, 1, 2, 2, 2, 2, 1, 0, 1, 2, 2, 2, 2, 1, 0, 2, 2, 2, 1, 2, 0, 2, 1, 1, 1, 1, 2, 1, 1, 1, 0, 1, 1, 0, 2, 0, 0, 2, 0, 2, 1, 2, 0, 0, 1, 1, 0, 0, 2, 1, 1, 0, 1, 0, 2, 0, 1, 2, 1, 0, 2, 2, 2, 0, 2, 2, 0, 1, 1, 0, 2, 0, 0, 1, 0, 1, 1, 1, 1, 1, 1, 2, 2, 2, 1, 1, 2, 2, 0, 2, 2, 0, 1, 2, 1, 0, 1, 2, 1, 0, 1, 1, 2, 1, 0, 2, 1, 0, 0, 0, 2, 0, 1, 0, 2, 1, 2, 2, 0, 0, 1, 1, 2, 1, 2, 0, 0, 0, 1, 2, 0, 1, 0, 0, 0, 0, 2, 0, 2, 0, 1, 0, 2, 0, 2, 2, 1, 2, 0, 1, 0, 0, 2, 2, 2, 2, 2, 1, 0, 2, 0, 2, 1, 0, 2, 2, 2, 0, 0, 2, 0, 0, 0, 1, 2, 2, 2, 0, 0, 2, 2, 2, 0, 0, 2, 0, 2, 0, 0, 2, 2, 2, 2, 0, 0, 0, 2, 1, 2, 1, 0, 1, 2, 0, 2, 2, 1, 2, 1, 2, 1, 2, 2, 2, 2, 2, 0, 1, 2, 2, 2, 1, 1, 1, 0, 0, 1, 0, 1, 2, 0, 1, 2, 1, 0, 1, 1, 2, 1, 1, 2, 1, 0, 1, 2, 2, 2, 2, 1, 2, 2, 1, 1, 2, 1, 2, 0, 0, 2, 2, 1, 1, 0, 2, 2, 1, 0, 0, 0, 2, 0, 0, 0, 1, 2, 1, 1, 2, 0, 2, 2, 1, 2, 1, 2, 0, 2, 1, 2, 0, 1, 1, 1, 1, 1, 0, 2, 2, 2, 2, 0, 2, 0, 0, 0, 0, 0, 0, 1, 1, 1, 0, 0, 0, 1, 0, 0, 1, 0, 1, 0, 0, 1, 1, 2, 0, 2, 1, 0, 2, 1, 1, 0, 0, 0, 1, 1, 1, 0, 1, 2, 1, 1, 1, 0, 0, 0, 0, 0, 1, 0, 0, 2, 2, 0, 1, 0, 1, 2, 2, 1, 2, 0, 1, 0, 0, 1, 0, 1, 1, 1, 2, 0, 2, 0, 2, 0, 2, 0, 1, 2, 1, 1, 0, 1, 0, 2, 1, 1, 2, 1, 0, 1, 2, 2, 2, 2, 2, 2, 0, 1, 0, 2, 2, 2, 1, 2, 2, 2, 0, 1, 2, 2, 2, 2, 2, 0, 0, 2, 1, 1, 2, 2, 1, 2, 0, 0, 1, 0, 0, 1, 0, 2, 2, 2, 1, 2, 1, 1, 2, 0, 0, 0, 0, 1, 0, 1, 2, 2, 0, 0, 1, 0, 2, 2, 0, 2, 2, 0, 2, 2, 2, 1, 0, 0, 0, 2, 2, 2, 0, 2, 2, 2, 2, 0, 0, 1, 2, 0, 0, 2, 2, 0, 1, 2, 2, 0, 2, 1, 0, 2, 1, 1, 2, 0, 2, 2, 2, 2, 0, 2, 2, 1, 2, 2, 2, 0, 1, 2, 0, 2, 1, 1, 2, 2, 0, 2, 0, 2, 0, 1, 1, 0, 2, 0, 0, 0, 2, 0, 2, 1, 1, 0, 0, 1, 1, 2, 0, 2, 0, 0, 1, 2, 2, 2, 0, 2, 2, 2, 2, 2, 2, 1, 2, 2, 1, 0, 0, 0, 1, 2, 2, 0, 2, 0, 2, 2, 0, 1, 2, 0, 0, 0, 2, 2, 1, 2, 2, 2, 0, 2, 0, 2, 2, 2, 2, 1, 0, 1, 2, 0, 1, 1, 1, 0, 1, 1, 2, 2, 2, 0, 2, 2, 0, 2, 2, 1, 2, 0, 2, 2, 1, 2, 2, 2, 0, 0, 1, 1, 1, 1, 1, 0, 2, 2, 2, 0, 2, 1, 2, 0, 0, 1, 2, 2, 2, 1, 1, 0, 2, 0, 2, 2, 2, 2, 0, 1, 2, 0, 2, 2, 0, 1, 1, 2, 2, 0, 0, 2, 0, 0, 0, 1, 1, 2, 2, 1, 2, 2, 0, 1, 2, 2, 2, 1, 1, 2, 0, 2, 2, 1, 1, 2, 0, 1, 2, 2, 2, 0, 0, 0, 0, 2, 1, 1, 1, 1, 0, 2, 2, 1, 0, 1, 1, 2, 0, 2, 1, 0, 0, 1, 2, 0, 0, 0, 2, 2, 0, 1, 0, 0, 2, 2, 2, 1, 1, 0, 2, 2, 1, 2, 2, 2, 0, 2, 2, 2, 0, 2, 2, 2, 2, 0, 1, 1, 1, 1, 1, 1, 1, 1, 0, 0, 2, 0, 1, 1, 2, 1, 1, 2, 2, 1, 1, 1, 2, 1, 0, 1, 1, 2, 1, 2, 0, 2, 1, 1, 0, 0, 2, 0, 1, 0, 1, 1, 1, 1, 1, 2, 0, 1, 2, 2, 1, 1, 0, 1, 0, 0, 1, 1, 1, 1, 0, 0, 0, 1, 1, 1, 1, 0, 2, 0, 2, 1, 0, 0, 1, 0, 0, 1, 1, 0, 1, 1, 1, 2, 1, 1, 1, 0, 0, 2, 2, 2, 1, 0, 1, 0, 0, 0, 2, 1, 1, 0, 0, 1, 0, 1, 0, 0, 1, 0, 1, 0, 0, 2, 0, 0, 1, 1, 1, 1, 0, 2, 2, 2, 1, 2, 0, 0, 2, 2, 1, 2, 1, 1, 2, 0, 2, 2, 2, 1, 2, 0, 2, 0, 2, 2, 2, 2, 2, 2, 0, 0, 0, 2, 1, 2, 2, 2, 2, 2, 2, 2, 2, 1, 2, 2, 2, 2, 2, 2, 1, 1, 0, 2, 2, 2, 2, 1, 1, 1, 0, 0, 1, 2, 2, 0, 2, 1, 1, 1, 1, 2, 1, 1, 0, 0, 2, 2, 2, 1, 2, 0, 2, 1, 1, 0, 2, 2, 2, 1, 2, 0, 2, 1, 2, 2, 0, 2, 2, 2, 2, 0, 0, 2, 2, 2, 2, 2, 2, 2, 0, 0, 2, 0, 2, 2, 2, 1, 1, 1, 2, 2, 2, 0, 2, 2, 2, 2, 2, 2, 0, 2, 0, 1, 2, 0, 0, 0, 2, 0, 2, 1, 2, 1, 1, 1, 2, 2, 0, 0, 0, 1, 2, 0, 2, 1, 1, 2, 0, 2, 2, 1, 0, 2, 1, 1, 1, 1, 0, 2, 2, 1, 1, 2, 2, 1, 0, 2, 2, 1, 1, 2, 0, 2, 2, 2, 0, 2, 2, 0, 2, 2, 2, 2, 1, 2, 2, 0, 1, 0, 0, 2, 1, 2, 2, 1, 2, 2, 2, 0, 1, 2, 1, 2, 2, 1, 0, 2, 2, 1, 2, 1, 0, 2, 2, 2, 1, 2, 1, 2, 0, 1, 2, 2, 2, 2, 0, 1, 1, 2, 1, 2, 0, 2, 0, 0, 2, 0, 1, 1, 2, 2, 0, 1, 1, 2, 2, 1, 0, 1, 1, 0, 0, 2, 2, 1, 0, 0, 0, 2, 2, 2, 2, 1, 0, 2, 2, 2, 2, 2, 2, 0, 2, 0, 2, 1, 1, 1, 0, 2, 2, 1, 2, 0, 2, 2, 2, 2, 1, 1, 1, 2, 1, 2, 1, 1, 2, 2, 1, 0, 2, 0, 0, 0, 1, 1, 1, 1, 1, 1, 1, 2, 2, 1, 1, 0, 1, 2, 1, 0, 2, 0, 1, 1, 0, 1, 1, 2, 2, 0, 0, 1, 2, 2, 1, 1, 2, 2, 0, 0, 2, 2, 1, 0, 2, 1, 2, 1, 2, 2, 2, 1, 1, 2, 2, 2, 2, 2, 2, 0, 1, 1, 2, 2, 0, 0, 0, 2, 1, 1, 2, 1, 1, 2, 0, 2, 0, 0, 1, 1, 2, 1, 0, 0, 0, 2, 0, 2, 2, 2, 1, 0, 2, 2, 2, 0, 2, 2, 1, 0, 2, 0, 0, 2, 2, 2, 2, 0, 0, 1, 1, 0, 1, 1, 0, 0, 1, 0, 1, 1, 1, 2, 2, 2, 0, 1, 2, 1, 2, 2, 2, 0, 2, 1, 0, 2, 1, 0, 2, 0, 1, 2, 1, 2, 1, 0, 1, 1, 1, 1, 1, 0, 2, 2, 1, 1, 2, 2, 0, 0, 0, 1, 0, 2, 1, 1, 0, 1, 1, 2, 2, 1, 0, 2, 2, 2, 0, 2, 1, 0, 2, 1, 0, 1, 1, 2, 0, 2, 0, 1, 1, 1, 1, 0, 1, 1, 2, 1, 0, 2, 0, 2, 2, 0, 2, 2, 1, 2, 2, 1, 1, 0, 1, 1, 2, 2, 2, 2, 2, 2, 0, 2, 2, 2, 0, 2, 0, 1, 2, 0, 2, 0, 2, 2, 2, 1, 0, 2, 2, 0, 0, 0, 0, 2, 1, 2, 2, 2, 2, 1, 0, 0, 2, 0, 2, 0, 0, 2, 2, 2, 1, 0, 0, 2, 0, 2, 2, 1, 1, 0, 0, 0, 1, 2, 2, 1, 0, 2, 1, 0, 1, 0, 2, 1, 1, 0, 1, 0, 2, 2, 0, 1, 0, 1, 0, 2, 2, 1, 0, 0, 2, 1, 2, 1, 1, 0, 2, 2, 2, 0, 2, 2, 0, 2, 0, 2, 2, 2, 1, 2, 2, 1, 2, 0, 0, 2, 1, 2, 0, 0, 2, 2, 2, 2, 1, 2, 2, 0, 2, 1, 2, 0, 0, 2, 0, 2, 0, 2, 1, 1, 1, 0, 1, 1, 2, 1, 1, 0, 2, 2, 2, 2, 1, 0, 2, 0, 0, 0, 0, 2, 2, 0, 0, 0, 0, 2, 2, 1, 2, 1, 2, 2, 2, 1, 2, 2, 0, 2, 2, 0, 1, 1, 2, 1, 2, 2, 2, 0, 2, 1, 0, 1, 0, 1, 2, 2, 2, 2, 2, 2, 2, 2, 2, 0, 0, 0, 0, 2, 0, 0, 1, 0, 1, 2, 0, 2, 0, 1, 2, 0, 1, 2, 2, 2, 0, 1, 1, 2, 1, 2, 1, 0, 2, 2, 1, 2, 0, 2, 2, 1, 1, 0, 2, 2, 1, 1, 1, 2, 1, 2, 1, 2, 0, 0, 0, 1, 1, 1, 2, 2, 1, 0, 2, 2, 2, 1, 0, 1, 1, 1, 1, 2, 2, 1, 1, 0, 0, 1, 2, 2, 1, 1, 0, 2, 1, 0, 0, 2, 2, 2, 2, 2, 2, 1, 2, 1, 0, 0, 2, 1, 1, 0, 1, 1, 2, 2, 0, 0, 0, 2, 1, 2, 2, 2, 2, 0, 2, 2, 2, 2, 2, 0, 2, 2, 1, 1, 1, 2, 2, 2, 0, 2, 1, 1, 2, 2, 0, 2, 2, 0, 2, 0, 0, 2, 0, 2, 0, 0, 2, 1, 1, 2, 0, 2, 0, 2, 2, 0, 0, 0, 0, 2, 0, 2, 2, 1, 2, 0, 2, 0, 1, 1, 1, 2, 0, 2, 1, 2, 2, 2, 1, 0, 0, 2, 2, 0, 2, 0, 0, 0, 1, 0, 0, 0, 1, 2, 0, 1, 1, 0, 0, 2, 0, 1, 2, 1, 1, 1, 2, 2, 2, 0, 0, 0, 2, 1, 2, 0, 0, 0, 0, 0, 1, 0, 0, 0, 0, 1, 1, 1, 1, 1, 1, 1, 0, 1, 0, 1, 1, 0, 2, 0, 2, 2, 0, 1, 1, 1, 0, 1, 2, 1, 1, 1, 2, 0, 2, 0, 1, 1, 0, 2, 0, 0, 2, 1, 0, 1, 1, 2, 1, 1, 2, 0, 2, 0, 1, 0, 1, 2, 0, 2, 2, 2, 0, 2, 1, 0, 2, 2, 0, 2, 1, 1, 1, 0, 2, 2, 1, 2, 2, 2, 0, 2, 1, 1, 1, 1, 2, 1, 2, 1, 0, 2, 0, 2, 0, 0, 1, 0, 2, 0, 2, 0, 0, 2, 1, 0, 1, 1, 0, 2, 2, 1, 1, 2, 1, 1, 1, 2, 2, 0, 2, 2, 1, 0, 1, 1, 2, 1, 0, 0, 0, 2, 1, 1, 0, 0, 0, 2, 0, 2, 0, 2, 2, 1, 2, 2, 0, 1, 2, 2, 0, 1, 1, 2, 1, 0, 2, 2, 2, 0, 2, 2, 2, 1, 0, 0, 2, 2, 2, 0, 1, 2, 0, 2, 1, 2, 2, 2, 2, 1, 2, 1, 0, 0, 0, 2, 2, 2, 2, 2, 1, 0, 2, 0, 0, 1, 0, 2, 2, 2, 2, 2, 2, 2, 1, 1, 2, 1, 2, 1, 2, 1, 2, 0, 2, 2, 0, 0, 2, 1, 1, 0, 1, 0, 1, 0, 1, 2, 2, 0, 1, 1, 1, 2, 1, 0, 2, 2, 1, 0, 2, 0, 0, 2, 0, 1, 2, 0, 0, 2, 2, 2, 2, 0, 1, 2, 2, 1, 1, 1, 0, 2, 0, 0, 2, 2, 0, 1, 0, 0, 0, 1, 0, 2, 2, 2, 2, 1, 1, 1, 1, 2, 2, 0, 1, 0, 2, 2, 2, 1, 2, 1, 1, 2, 1, 1, 0, 2, 2, 2, 0, 2, 2, 2, 2, 2, 1, 0, 0, 2, 2, 1, 2, 2, 0, 2, 2, 1, 0, 0, 2, 2, 1, 1, 0, 1, 1, 1, 0, 0, 0, 0, 2, 1, 1, 2, 0, 1, 1, 0, 2, 0, 2, 2, 1, 1, 0, 2, 2, 0, 2, 1, 2, 2, 2, 1, 2, 1, 2, 0, 0, 2, 0, 0, 0, 2, 0, 1, 2, 1, 1, 1, 0, 2, 0, 2, 2, 2, 1, 0, 1, 0, 1, 0, 1, 1, 1, 1, 2, 0, 0, 1, 0, 2, 1, 0, 0, 2, 0, 0, 0, 0, 0, 1, 0, 1, 0, 1, 2, 1, 1, 0, 1, 1, 0, 0, 0, 0, 1, 1, 2, 0, 1, 0, 1, 1, 2, 1, 0, 0, 1, 2, 1, 1, 0, 2, 2, 1, 1, 1, 2, 1, 0, 0, 0, 1, 0, 1, 0, 1, 0, 1, 1, 0, 2, 2, 2, 0, 1, 1, 1, 2, 2, 2, 1, 0, 1, 2, 1, 2, 1, 2, 1, 0, 2, 2, 2, 2, 0, 2, 2, 1, 1, 1, 0, 0, 2, 0, 2, 2, 0, 2, 2, 0, 2, 2, 0, 1, 1, 2, 2, 0, 2, 2, 1, 2, 2, 2, 2, 2, 2, 2, 2, 1, 2, 1, 2, 1, 0, 2, 2, 2, 2, 1, 0, 0, 1, 1, 1, 1, 0, 2, 1, 2, 0, 2, 1, 1, 2, 0, 1, 2, 2, 2, 2, 2, 2, 1, 0, 2, 1, 0, 1, 0, 0, 2, 2, 1, 2, 2, 2, 1, 0, 0, 2, 2, 0, 2, 2, 2, 2, 2, 1, 0, 1, 0, 2, 1, 1, 2, 1, 0, 2, 2, 2, 1, 1, 2, 2, 2, 0, 2, 0, 2, 0, 2, 2, 2, 1, 1, 1, 2, 2, 0, 0, 2, 1, 2, 2, 2, 1, 1, 1, 0, 2, 1, 1, 2, 2, 2, 0, 1, 2, 1, 2, 0, 1, 1, 1, 0, 1, 2, 0, 0, 2, 2, 0, 2, 2, 2, 0, 0, 0, 2, 2, 2, 2, 2, 0, 2, 2, 0, 0, 1, 2, 2, 1, 1, 2, 2, 0, 1, 0, 2, 2, 1, 1, 2, 1, 0, 2, 2, 2, 0, 0, 2, 1, 2, 1, 1, 2, 2, 1, 0, 2, 1, 0, 2, 1, 0, 1, 2, 2, 1, 0, 0, 2, 0, 0, 1, 2, 1, 2, 0, 2, 2, 1, 2, 2, 2, 1, 2, 1, 0, 2, 0, 2, 2, 2, 2, 0, 2, 2, 1, 1, 1, 1, 2, 2, 0, 2, 2, 0, 0, 2, 2, 0, 0, 2, 2, 2, 2, 2, 0, 2, 2, 1, 0, 0, 2, 2, 1, 2, 0, 2, 2, 2, 1, 2, 0, 1, 1, 1, 1, 2, 1, 1, 1, 0, 1, 2, 1, 0, 2, 2, 2, 0, 0, 2, 2, 2, 0, 1, 2, 1, 0, 2, 1, 0, 0, 0, 1, 2, 0, 2, 2, 2, 2, 2, 0, 1, 0, 2, 2, 2, 2, 1, 1, 2, 2, 2, 0, 2, 2, 1, 1, 1, 2, 2, 1, 0, 2, 0, 2, 0, 0, 2, 1, 2, 1, 0, 1, 2, 1, 1, 2, 1, 1, 1, 0, 2, 1, 2, 0, 0, 2, 0, 1, 1, 2, 1, 0, 2, 1, 1, 0, 1, 2, 0, 1, 0, 0, 0, 1, 0, 1, 0, 2, 1, 1, 1, 0, 0, 1, 2, 0, 2, 1, 2, 1, 2, 2, 2, 1, 0, 0, 2, 0, 0, 0, 1, 1, 1, 1, 2, 0, 1, 1, 2, 2, 0, 0, 0, 0, 1, 0, 1, 1, 0, 0, 1, 0, 0, 1, 1, 1, 0, 1, 1, 1, 0, 2, 2, 2, 1, 0, 1, 2, 2, 1, 0, 1, 1, 0, 2, 1, 1, 2, 0, 0, 1, 0, 0, 1, 1, 0, 1, 1, 0, 0, 1, 1, 0, 1, 0, 0, 2, 0, 2, 2, 2, 1, 1, 2, 2, 2, 2, 2, 2, 2, 0, 0, 2, 2, 2, 2, 2, 2, 1, 2, 1, 0, 2, 0, 1, 0, 1, 2, 2, 2, 2, 1, 2, 2, 2, 0, 2, 1, 0, 1, 2, 2, 1, 2, 2, 1, 2, 2, 1, 2, 1, 2, 1, 1, 2, 1, 2, 2, 1, 2, 0, 0, 2, 1, 0, 1, 1, 0, 2, 1, 0, 0, 1, 2, 0, 1, 2, 2, 2, 1, 2, 2, 2, 2, 0, 2, 2, 0, 2, 1, 2, 2, 2, 2, 1, 0, 0, 2, 2, 1, 0, 0, 1, 0, 0, 2, 2, 1, 2, 0, 2, 2, 0, 2, 2, 0, 0, 2, 2, 2, 2, 1, 2, 1, 0, 2, 2, 1, 0, 2, 2, 1, 1, 0, 1, 2, 2, 2, 0, 2, 1, 1, 0, 1, 2, 1, 1, 0, 2, 2, 0, 1, 1, 1, 1, 2, 1, 1, 1, 0, 1, 2, 1, 0, 2, 0, 1, 2, 0, 0, 0, 2, 1, 0, 2, 1, 2, 0, 2, 2, 0, 2, 0, 0, 1, 1, 1, 2, 2, 2, 0, 2, 0, 2, 0, 1, 2, 0, 0, 2, 2, 0, 2, 2, 2, 0, 1, 2, 2, 2, 0, 2, 2, 2, 2, 2, 1, 2, 0, 1, 2, 1, 1, 0, 1, 0, 0, 2, 1, 2, 2, 1, 2, 1, 0, 0, 1, 0, 1, 2, 1, 0, 0, 2, 1, 2, 2, 2, 2, 1, 1, 1, 0, 2, 1, 1, 1, 1, 1, 1, 1, 2, 0, 0, 0, 2, 2, 1, 2, 1, 2, 1, 2, 1, 0, 2, 2, 2, 0, 2, 2, 1, 2, 0, 2, 2, 2, 0, 2, 1, 0, 2, 1, 2, 2, 2, 1, 0, 1, 2, 0, 2, 2, 1, 2, 2, 1, 1, 1, 2, 1, 1, 1, 2, 0, 2, 0, 2, 2, 2, 2, 2, 2, 0, 2, 0, 0, 1, 0, 2, 0, 0, 1, 2, 1, 1, 2, 1, 0, 0, 0, 1, 0, 1, 0, 1, 0, 0, 2, 1, 1, 1, 2, 1, 2, 2, 1, 0, 2, 1, 0, 2, 2, 2, 0, 2, 2, 0, 1, 0, 1, 1, 2, 2, 1, 2, 2, 1, 0, 2, 1, 2, 2, 2, 0, 0, 2, 0, 2, 0, 2, 2, 2, 0, 1, 2, 0, 0, 1, 0, 1, 1, 1, 2, 1, 1, 0, 0, 1, 1, 1, 2, 0, 1, 0, 1, 0, 2, 1, 0, 1, 1, 1, 0, 1, 1, 0, 1, 2, 1, 2, 1, 2, 1, 2, 0, 0, 1, 0, 1, 1, 0, 2, 2, 1, 1, 1, 1, 0, 0, 0, 1, 0, 1, 2, 2, 1, 0, 2, 1, 2, 1, 2, 0, 1, 0, 1, 2, 2, 2, 0, 0, 1, 2, 0, 2, 2, 1, 0, 1, 1, 2, 1, 2, 1, 2, 2, 2, 2, 2, 1, 2, 2, 0, 1, 2, 0, 0, 2, 1, 1, 2, 2, 1, 2, 2, 0, 2, 2, 2, 2, 1, 2, 2, 2, 2, 0, 2, 0, 1, 2, 1, 1, 2, 1, 2, 2, 2, 1, 1, 2, 1, 2, 2, 0, 2, 0, 0, 0, 1, 0, 1, 1, 1, 2, 2, 2, 1, 1, 2, 1, 2, 1, 1, 2, 1, 1, 2, 2, 0, 2, 2, 2, 1, 2, 0, 0, 0, 0, 2, 2, 1, 0, 2, 2, 1, 2, 1, 1, 2, 2, 0, 2, 1, 1, 2, 2, 1, 2, 2, 2, 2, 1, 0, 0, 0, 2, 1, 2, 1, 2, 2, 2, 2, 0, 1, 0, 2, 0, 2, 2, 1, 0, 2, 2, 0, 2, 0, 2, 2, 0, 1, 0, 1, 1, 1, 1, 2, 2, 1, 1, 2, 2, 2, 2, 2, 1, 0, 0, 2, 0, 2, 0, 2, 0, 2, 1, 0, 0, 2, 0, 0, 1, 0, 1, 2, 0, 2, 0, 2, 2, 1, 2, 2, 1, 0, 2, 2, 2, 2, 2, 0, 2, 0, 2, 2, 0, 1, 0, 2, 0, 0, 0, 1, 2, 2, 2, 2, 2, 0, 0, 2, 2, 2, 1, 1, 2, 2, 2, 2, 0, 2, 2, 2, 1, 2, 0, 2, 2, 1, 1, 2, 2, 2, 0, 1, 2, 0, 1, 0, 1, 1, 1, 2, 1, 2, 1, 0, 0, 0, 2, 1, 0, 0, 0, 1, 1, 1, 1, 1, 1, 1, 2, 2, 1, 1, 1, 0, 0, 0, 2, 0, 1, 2, 1, 1, 0, 1, 2, 2, 1, 0, 0, 0, 1, 1, 1, 1, 1, 0, 2, 0, 0, 0, 1, 0, 0, 0, 2, 1, 0, 0, 0, 0, 2, 2, 0, 1, 1, 0, 2, 2, 2, 1, 1, 1, 2, 0, 0, 2, 0, 2, 0, 1, 1, 1, 2, 2, 2, 2, 1, 2, 0, 0, 2, 1, 1, 0, 2, 2, 1, 0, 0, 1, 2, 2, 2, 2, 2, 2, 0, 2, 2, 1, 2, 2, 0, 1, 2, 2, 2, 2, 2, 2, 2, 1, 0, 2, 2, 0, 2, 2, 2, 1, 2, 2, 2, 2, 1, 2, 1, 2, 2, 2, 1, 2, 2, 2, 1, 2, 2, 2, 2, 1, 1, 0, 1, 2, 1, 2, 2, 0, 0, 0, 0, 0, 0, 2, 1, 2, 2, 2, 2, 1, 1, 0, 2, 2, 1, 1, 2, 2, 0, 0, 0, 2, 2, 2, 2, 0, 1, 2, 1, 2, 1, 1, 2, 2, 2, 1, 1, 2, 2, 2, 2, 2, 1, 1, 0, 2, 2, 2, 1, 1, 2, 2, 2, 1, 0, 2, 2, 0, 2, 2, 2, 2, 0, 2, 0, 2, 1, 1, 0, 2, 1, 0, 1, 2, 2, 1, 2, 1, 2, 1, 2, 2, 0, 0, 0, 1, 0, 0, 2, 2, 2, 1, 2, 0, 2, 2, 0, 2, 1, 1, 1, 1, 2, 2, 1, 2, 2, 2, 2, 1, 2, 2, 0, 0, 2, 1, 2, 2, 2, 2, 1, 2, 2, 2, 2, 2, 1, 2, 2, 0, 2, 2, 1, 1, 2, 2, 1, 2, 1, 0, 2, 1, 0, 2, 2, 1, 2, 2, 2, 1, 2, 1, 0, 0, 1, 0, 0, 2, 0, 0, 2, 2, 0, 0, 1, 2, 2, 2, 1, 0, 2, 2, 2, 1, 2, 2, 0, 2, 1, 2, 1, 0, 2, 0, 2, 1, 0, 2, 2, 1, 2, 0, 0, 2, 1, 0, 2, 2, 2, 1, 2, 2, 1, 0, 2, 1, 0, 1, 0, 1, 0, 1, 1, 1, 1, 2, 2, 0, 1, 1, 0, 0, 2, 1, 2, 1, 0, 1, 2, 2, 2, 0, 2, 2, 2, 2, 1, 0, 0, 2, 2, 2, 2, 2, 0, 2, 1, 2, 1, 0, 0, 0, 0, 2, 0, 0, 0, 0, 2, 0, 2, 2, 1, 2, 2, 2, 1, 0, 2, 2, 2, 2, 0, 1, 0, 0, 0, 2, 1, 0, 2, 2, 0, 0, 0, 1, 0, 1, 0, 0, 1, 0, 2, 2, 2, 1, 1, 0, 1, 0, 1, 1, 0, 1, 2, 1, 1, 1, 2, 0, 1, 1, 1, 1, 0, 1, 0, 1, 0, 1, 2, 1, 1, 2, 0, 2, 2, 2, 1, 1, 1, 1, 0, 2, 1, 1, 1, 0, 0, 1, 1, 1, 0, 2, 1, 2, 2, 1, 1, 1, 2, 1, 0, 0, 1, 1, 1, 0, 0, 0, 2, 2, 1, 1, 0, 1, 1, 0, 0, 2, 1, 2, 2, 1, 2, 1, 2, 1, 2, 2, 2, 2, 2, 2, 2, 0, 0, 1, 0, 2, 0, 1, 2, 2, 2, 2, 1, 2, 2, 2, 2, 2, 2, 0, 2, 0, 1, 1, 2, 2, 2, 2, 0, 2, 2, 2, 2, 2, 2, 2, 0, 2, 0, 1, 2, 2, 0, 2, 0, 2, 2, 1, 1, 2, 2, 2, 0, 0, 1, 2, 1, 0, 2, 1, 1, 1, 2, 0, 0, 2, 0, 2, 2, 1, 0, 2, 2, 0, 2, 2, 0, 2, 1, 1, 0, 0, 0, 1, 2, 0, 0, 0, 2, 1, 1, 0, 2, 2, 2, 2, 1, 2, 1, 2, 2, 2, 1, 0, 2, 2, 2, 0, 2, 2, 1, 1, 2, 0, 2, 2, 2, 1, 2, 2, 2, 0, 2, 2, 2, 2, 1, 2, 0, 2, 1, 0, 0, 2, 2, 1, 0, 0, 2, 1, 0, 2, 2, 1, 2, 1, 0, 0, 2, 0, 1, 2, 0, 0, 2, 0, 1, 2, 2, 2, 0, 1, 1, 1, 2, 2, 1, 0, 0, 0, 1, 0, 1, 2, 2, 2, 2, 2, 0, 2, 0, 2, 2, 2, 1, 0, 0, 0, 2, 0, 2, 2, 2, 0, 0, 1, 0, 0, 2, 1, 2, 2, 2, 0, 2, 1, 1, 2, 2, 0, 2, 0, 1, 2, 2, 1, 0, 1, 1, 0, 2, 1, 0, 0, 1, 1, 0, 2, 1, 2, 0, 2, 0, 2, 1, 1, 2, 2, 1, 2, 2, 2, 0, 0, 2, 2, 0, 0, 1, 0, 0, 0, 2, 2, 2, 1, 2, 1, 2, 2, 0, 2, 2, 2, 0, 2, 2, 2, 2, 2, 0, 2, 2, 2, 2, 2, 2, 1, 2, 0, 2, 2, 2, 2, 0, 2, 0, 1, 2, 2, 0, 1, 2, 2, 2, 1, 2, 1, 1, 0, 2, 0, 0, 0, 2, 0, 0, 2, 2, 0, 1, 2, 0, 2, 1, 1, 2, 2, 1, 0, 2, 0, 2, 0, 2, 0, 2, 2, 1, 1, 2, 1, 2, 0, 1, 1, 2, 2, 0, 1, 0, 0, 2, 1, 2, 1, 2, 1, 1, 2, 0, 1, 2, 1, 2, 2, 0, 0, 2, 2, 1, 2, 2, 2, 1, 0, 2, 2, 2, 1, 2, 2, 0, 2, 2, 2, 1, 0, 0, 1, 2, 0, 2, 1, 2, 1, 1, 2, 0, 2, 2, 2, 0, 1, 0, 2, 2, 2, 0, 2, 2, 0, 2, 1, 1, 1, 1, 0, 1, 1, 1, 1, 0, 1, 1, 1, 0, 0, 0, 0, 1, 1, 1, 2, 0, 0, 0, 2, 1, 1, 1, 0, 1, 0, 0, 0, 1, 1, 2, 2, 1, 2, 1, 1, 1, 1, 1, 0, 1, 0, 2, 2, 1, 1, 1, 0, 1, 1, 1, 1, 2, 0, 0, 0, 0, 2, 2, 1, 2, 1, 0, 0, 1, 0, 2, 1, 0, 1, 2, 2, 2, 1, 2, 1, 2, 1, 0, 2, 2, 2, 1, 0, 2, 2, 1, 1, 0, 0, 2, 2, 2, 2, 2, 2, 2, 2, 1, 2, 1, 0, 0, 0, 0, 0, 2, 1, 2, 2, 2, 2, 2, 0, 1, 2, 0, 2, 2, 2, 1, 2, 2, 2, 1, 2, 2, 1, 2, 1, 2, 0, 2, 2, 2, 2, 0, 0, 0, 1, 2, 1, 0, 1, 2, 1, 2, 2, 1, 2, 2, 1, 1, 1, 1, 0, 1, 1, 0, 1, 2, 0, 1, 2, 2, 1, 0, 0, 0, 1, 2, 0, 2, 1, 0, 0, 1, 2, 1, 1, 1, 1, 0, 1, 0, 2, 2, 0, 0, 0, 1, 0, 2, 0, 2, 1, 2, 2, 0, 2, 2, 2, 0, 1, 0, 1, 1, 2, 1, 2, 1, 0, 2, 2, 2, 1, 1, 1, 1, 2, 0, 1, 2, 2, 1, 1, 1, 0, 2, 2, 0, 2, 2, 0, 0, 2, 0, 1, 2, 2, 1, 0, 0, 2, 0, 1, 1, 2, 2, 1, 1, 0, 1, 0, 1, 1, 0, 1, 1, 1, 1, 1, 0, 0, 0, 0, 0, 0, 0, 1, 0, 1, 1, 1, 1, 1, 1, 1, 1, 0, 0, 1, 0, 1, 0, 2, 2, 2, 1, 2, 2, 0, 0, 0, 1, 2, 2, 0, 0, 0, 2, 0, 1, 2, 2, 1, 0, 2, 2, 1, 2, 0, 1, 2, 2, 1, 2, 0, 0, 2, 1, 1, 1, 0, 2, 2, 2, 2, 1, 0, 0, 0, 1, 0, 2, 0, 1, 0, 0, 0, 1, 2, 1, 2, 1, 1, 0, 0, 1, 1, 0, 0, 1, 2, 2, 1, 2, 1, 2, 2, 2, 2, 0, 1, 1, 1, 0, 0, 0, 1, 1, 2, 1, 0, 2, 1, 0, 1, 1, 1, 1, 1, 2, 1, 1, 2, 1, 1, 1, 2, 2, 1, 2, 0, 0, 0, 1, 1, 1, 0, 1, 0, 1, 1, 2, 2, 0, 2, 2, 0, 2, 2, 2, 0, 0, 2, 1, 2, 1, 1, 1, 1, 2, 1, 2, 2, 1, 2, 0, 0, 0, 0, 2, 2, 1, 2, 2, 0, 0, 2, 1, 0, 2, 0, 2, 0, 2, 1, 2, 2, 1, 1, 0, 1, 2, 2, 1, 0, 1, 1, 2, 1, 2, 2, 2, 0, 1, 2, 1, 0, 1, 2, 1, 1, 1, 0, 0, 1, 1, 2, 2, 1, 0, 0, 1, 2, 2, 2, 2, 2, 2, 2, 2, 0, 2, 1, 2, 2, 2, 0, 0, 2, 1, 2, 1, 0, 2, 1, 0, 2, 1, 2, 0, 2, 1, 2, 2, 0, 1, 2, 0, 2, 2, 2, 2, 1, 1, 2, 0, 2, 2, 1, 2, 0, 1, 1, 1, 1, 1, 0, 2, 2, 1, 2, 2, 2, 1, 0, 0, 0, 0, 2, 2, 1, 0, 2, 2, 2, 1, 1, 0, 0, 2, 2, 1, 2, 0, 1, 0, 2, 2, 2, 1, 2, 2, 2, 2, 1, 2, 2, 2, 2, 1, 0, 2, 1, 1, 2, 0, 2, 1, 1, 2, 0, 0, 0, 0, 0, 2, 1, 0, 2, 2, 1, 1, 2, 2, 1, 2, 2, 2, 0, 0, 1, 2, 2, 2, 2, 2, 1, 0, 0, 1, 1, 2, 1, 0, 0, 2, 2, 1, 2, 1, 2, 2, 2, 1, 1, 1, 2, 2, 2, 0, 2, 0, 0, 2, 2, 1, 1, 2, 1, 1, 0, 0, 1, 2, 1, 2, 2, 2, 1, 0, 0, 2, 2, 0, 2, 0, 2, 1, 2, 1, 2, 0, 1, 2, 2, 2, 2, 1, 2, 0, 0, 2, 0, 2, 0, 2, 0, 2, 1, 0, 0, 2, 2, 0, 2, 0, 2, 2, 0, 0, 2, 0, 0, 0, 1, 1, 1, 1, 1, 2, 1, 2, 0, 2, 2, 2, 1, 0, 1, 1, 2, 1, 1, 1, 2, 2, 0, 0, 1, 1, 1, 1, 0, 0, 2, 1, 1, 1, 0, 1, 0, 0, 0, 0, 1, 1, 0, 2, 1, 0, 2, 0, 2, 2, 1, 2, 1, 0, 1, 2, 0, 2, 1, 2, 2, 1, 0, 2, 2, 1, 1, 1, 2, 2, 1, 1, 0, 1, 2, 1, 1, 2, 0, 2, 2, 2, 1, 2, 1, 0, 2, 1, 0, 0, 2, 0, 0, 1, 0, 0, 1, 2, 1, 2, 1, 2, 1, 0, 2, 0, 1, 0, 2, 2, 2, 2, 2, 2, 2, 2, 2, 2, 0, 0, 1, 1, 1, 1, 2, 2, 0, 1, 2, 2, 2, 1, 2, 0, 2, 2, 2, 1, 1, 2, 2, 0, 2, 1, 2, 2, 2, 2, 2, 1, 1, 0, 1, 1, 1, 1, 0, 2, 1, 1, 2, 0, 1, 2, 0, 2, 2, 0, 0, 2, 0, 2, 0, 1, 1, 0, 2, 0, 2, 2, 0, 2, 2, 1, 0, 2, 2, 1, 2, 2, 1, 2, 2, 2, 2, 0, 0, 2, 2, 2, 2, 0, 2, 0, 2, 2, 0, 1, 2, 1, 2, 2, 1, 2, 0, 1, 2, 2, 2, 0, 1, 1, 0, 2, 0, 2, 1, 0, 1, 0, 0, 1, 0, 1, 0, 0, 0, 1, 0, 1, 0, 2, 0, 2, 0, 2, 2, 2, 1, 2, 1, 2, 2, 0, 2, 1, 1, 2, 1, 2, 2, 0, 2, 2, 2, 0, 1, 2, 2, 1, 1, 1, 2, 2, 0, 0, 0, 2, 2, 0, 0, 1, 2, 0, 0, 1, 1, 0, 0, 2, 2, 2, 1, 1, 1, 1, 1, 2, 1, 1, 1, 2, 0, 1, 1, 1, 0, 2, 1, 1, 0, 1, 1, 0, 0, 0, 2, 1, 1, 0, 1, 0, 0, 0, 0, 1, 1, 1, 1, 1, 0, 1, 2, 1, 1, 1, 1, 2, 0, 1, 0, 0, 1, 0, 1, 1, 0, 2, 2, 0, 2, 0, 2, 2, 1, 1, 1, 2, 1, 1, 2, 1, 0, 0, 1, 1, 2, 0, 0, 0, 2, 0, 0, 2, 2, 1, 2, 1, 1, 0, 0, 1, 2, 2, 2, 2, 1, 0, 0, 2, 0, 0, 2, 2, 2, 0, 0, 1, 2, 2, 0, 2, 2, 2, 1, 1, 2, 0, 2, 2, 0, 2, 1, 2, 1, 2, 2, 1, 2, 1, 0, 2, 1, 0, 1, 2, 1, 0, 0, 0, 1, 1, 1, 2, 2, 0, 2, 2, 0, 2, 2, 1, 0, 1, 2, 0, 2, 2, 0, 2, 2, 1, 2, 1, 2, 0, 0, 0, 1, 1, 1, 2, 1, 0, 2, 0, 0, 2, 2, 2, 0, 2, 2, 2, 0, 2, 2, 2, 2, 0, 2, 2, 2, 2, 0, 1, 1, 0, 1, 2, 2, 0, 2, 1, 2, 1, 0, 1, 1, 0, 0, 2, 1, 2, 2, 0, 0, 0, 1, 2, 1, 0, 2, 2, 0, 2, 1, 2, 0, 2, 2, 2, 1, 1, 1, 0, 1, 1, 0, 2, 2, 2, 2, 0, 2, 2, 2, 1, 1, 0, 1, 2, 0, 2, 2, 1, 1, 2, 2, 2, 0, 2, 2, 2, 1, 2, 0, 1, 2, 2, 2, 2, 0, 2, 2, 2, 1, 1, 2, 0, 1, 1, 2, 2, 2, 1, 1, 1, 1, 0, 1, 2, 2, 2, 2, 1, 0, 2, 1, 2, 1, 2, 2, 2, 2, 2, 1, 1, 2, 2, 1, 0, 0, 0, 2, 2, 2, 2, 2, 2, 1, 2, 2, 2, 0, 2, 0, 0, 1, 1, 0, 2, 1, 2, 0, 0, 0, 1, 2, 1, 1, 2, 1, 0, 2, 2, 2, 2, 0, 2, 2, 0, 0, 1, 2, 0, 2, 2, 0, 1, 2, 2, 0, 0, 2, 0, 1, 2, 2, 0, 1, 1, 0, 2, 0, 2, 2, 2, 1, 0, 2, 1, 0, 2, 1, 1, 0, 0, 2, 0, 2, 2, 0, 0, 2, 2, 0, 0, 0, 2, 2, 2, 2, 0, 1, 0, 2, 2, 2, 2, 2, 2, 2, 0, 2, 1, 1, 2, 0, 2, 2, 1, 2, 0, 1, 1, 2, 2, 1, 1, 1, 0, 2, 1, 2, 2, 1, 1, 2, 1, 1, 2, 1, 1, 0, 2, 1, 0, 0, 1, 1, 2, 2]\n"
     ]
    },
    {
     "name": "stderr",
     "output_type": "stream",
     "text": [
      "\n",
      "/home/IAIS/rrao/.local/lib/python3.9/site-packages/sklearn/metrics/_classification.py:1517: UndefinedMetricWarning: Precision is ill-defined and being set to 0.0 in labels with no predicted samples. Use `zero_division` parameter to control this behavior.\n",
      "  _warn_prf(average, modifier, f\"{metric.capitalize()} is\", len(result))\n",
      "/home/IAIS/rrao/.local/lib/python3.9/site-packages/sklearn/metrics/_classification.py:1517: UndefinedMetricWarning: Precision is ill-defined and being set to 0.0 in labels with no predicted samples. Use `zero_division` parameter to control this behavior.\n",
      "  _warn_prf(average, modifier, f\"{metric.capitalize()} is\", len(result))\n",
      "/home/IAIS/rrao/.local/lib/python3.9/site-packages/sklearn/metrics/_classification.py:1517: UndefinedMetricWarning: Precision is ill-defined and being set to 0.0 in labels with no predicted samples. Use `zero_division` parameter to control this behavior.\n",
      "  _warn_prf(average, modifier, f\"{metric.capitalize()} is\", len(result))\n"
     ]
    }
   ],
   "source": [
    "model = CNNModel().to(device)\n",
    "evaluate_syn(model, synthetic_text_data, synthetic_labels, test_loader, device, num_epochs=300, lr=0.001)"
   ]
  },
  {
   "cell_type": "code",
   "execution_count": 29,
   "id": "7fae5021-603b-44b5-a3ee-881102257dab",
   "metadata": {},
   "outputs": [
    {
     "data": {
      "text/plain": [
       "torch.Size([800, 300])"
      ]
     },
     "execution_count": 29,
     "metadata": {},
     "output_type": "execute_result"
    }
   ],
   "source": [
    "synthetic_text_data.shape"
   ]
  },
  {
   "cell_type": "code",
   "execution_count": 34,
   "id": "08f7d0e7-a818-44c1-805b-1a2f506afd61",
   "metadata": {},
   "outputs": [
    {
     "name": "stderr",
     "output_type": "stream",
     "text": [
      "Training Epoch 1/100: 100%|█████████████████| 13/13 [00:00<00:00, 196.90batch/s]\n"
     ]
    },
    {
     "name": "stdout",
     "output_type": "stream",
     "text": [
      "Epoch [1/100], Train Loss: 20.2214, Train Accuracy: 38.25%\n"
     ]
    },
    {
     "name": "stderr",
     "output_type": "stream",
     "text": [
      "Training Epoch 2/100: 100%|█████████████████| 13/13 [00:00<00:00, 216.85batch/s]\n",
      "Training Epoch 3/100: 100%|█████████████████| 13/13 [00:00<00:00, 231.54batch/s]\n",
      "Training Epoch 4/100: 100%|█████████████████| 13/13 [00:00<00:00, 266.75batch/s]\n",
      "Training Epoch 5/100: 100%|█████████████████| 13/13 [00:00<00:00, 257.47batch/s]\n",
      "Training Epoch 6/100: 100%|█████████████████| 13/13 [00:00<00:00, 288.12batch/s]\n",
      "Training Epoch 7/100: 100%|█████████████████| 13/13 [00:00<00:00, 273.08batch/s]\n",
      "Training Epoch 8/100: 100%|█████████████████| 13/13 [00:00<00:00, 275.58batch/s]\n",
      "Training Epoch 9/100: 100%|█████████████████| 13/13 [00:00<00:00, 278.86batch/s]\n",
      "Training Epoch 10/100: 100%|████████████████| 13/13 [00:00<00:00, 274.25batch/s]\n",
      "Training Epoch 11/100: 100%|████████████████| 13/13 [00:00<00:00, 284.78batch/s]\n"
     ]
    },
    {
     "name": "stdout",
     "output_type": "stream",
     "text": [
      "Epoch [11/100], Train Loss: 12.5681, Train Accuracy: 54.38%\n"
     ]
    },
    {
     "name": "stderr",
     "output_type": "stream",
     "text": [
      "Training Epoch 12/100: 100%|████████████████| 13/13 [00:00<00:00, 281.81batch/s]\n",
      "Training Epoch 13/100: 100%|████████████████| 13/13 [00:00<00:00, 284.94batch/s]\n",
      "Training Epoch 14/100: 100%|████████████████| 13/13 [00:00<00:00, 284.80batch/s]\n",
      "Training Epoch 15/100: 100%|████████████████| 13/13 [00:00<00:00, 279.47batch/s]\n",
      "Training Epoch 16/100: 100%|████████████████| 13/13 [00:00<00:00, 279.20batch/s]\n",
      "Training Epoch 17/100: 100%|████████████████| 13/13 [00:00<00:00, 272.04batch/s]\n",
      "Training Epoch 18/100: 100%|████████████████| 13/13 [00:00<00:00, 271.09batch/s]\n",
      "Training Epoch 19/100: 100%|████████████████| 13/13 [00:00<00:00, 270.41batch/s]\n",
      "Training Epoch 20/100: 100%|████████████████| 13/13 [00:00<00:00, 273.60batch/s]\n",
      "Training Epoch 21/100: 100%|████████████████| 13/13 [00:00<00:00, 286.04batch/s]\n"
     ]
    },
    {
     "name": "stdout",
     "output_type": "stream",
     "text": [
      "Epoch [21/100], Train Loss: 10.2487, Train Accuracy: 78.25%\n"
     ]
    },
    {
     "name": "stderr",
     "output_type": "stream",
     "text": [
      "Training Epoch 22/100: 100%|████████████████| 13/13 [00:00<00:00, 283.24batch/s]\n",
      "Training Epoch 23/100: 100%|████████████████| 13/13 [00:00<00:00, 281.75batch/s]\n",
      "Training Epoch 24/100: 100%|████████████████| 13/13 [00:00<00:00, 278.51batch/s]\n",
      "Training Epoch 25/100: 100%|████████████████| 13/13 [00:00<00:00, 279.00batch/s]\n",
      "Training Epoch 26/100: 100%|████████████████| 13/13 [00:00<00:00, 276.07batch/s]\n",
      "Training Epoch 27/100: 100%|████████████████| 13/13 [00:00<00:00, 279.29batch/s]\n",
      "Training Epoch 28/100: 100%|████████████████| 13/13 [00:00<00:00, 278.19batch/s]\n",
      "Training Epoch 29/100: 100%|████████████████| 13/13 [00:00<00:00, 280.39batch/s]\n",
      "Training Epoch 30/100: 100%|████████████████| 13/13 [00:00<00:00, 287.06batch/s]\n",
      "Training Epoch 31/100: 100%|████████████████| 13/13 [00:00<00:00, 312.40batch/s]\n"
     ]
    },
    {
     "name": "stdout",
     "output_type": "stream",
     "text": [
      "Epoch [31/100], Train Loss: 8.5131, Train Accuracy: 75.12%\n"
     ]
    },
    {
     "name": "stderr",
     "output_type": "stream",
     "text": [
      "Training Epoch 32/100: 100%|████████████████| 13/13 [00:00<00:00, 289.24batch/s]\n",
      "Training Epoch 33/100: 100%|████████████████| 13/13 [00:00<00:00, 294.09batch/s]\n",
      "Training Epoch 34/100: 100%|████████████████| 13/13 [00:00<00:00, 291.52batch/s]\n",
      "Training Epoch 35/100: 100%|████████████████| 13/13 [00:00<00:00, 282.06batch/s]\n",
      "Training Epoch 36/100: 100%|████████████████| 13/13 [00:00<00:00, 272.04batch/s]\n",
      "Training Epoch 37/100: 100%|████████████████| 13/13 [00:00<00:00, 301.06batch/s]\n",
      "Training Epoch 38/100: 100%|████████████████| 13/13 [00:00<00:00, 294.22batch/s]\n",
      "Training Epoch 39/100: 100%|████████████████| 13/13 [00:00<00:00, 285.67batch/s]\n",
      "Training Epoch 40/100: 100%|████████████████| 13/13 [00:00<00:00, 282.71batch/s]\n",
      "Training Epoch 41/100: 100%|████████████████| 13/13 [00:00<00:00, 278.80batch/s]\n"
     ]
    },
    {
     "name": "stdout",
     "output_type": "stream",
     "text": [
      "Epoch [41/100], Train Loss: 6.0841, Train Accuracy: 93.38%\n"
     ]
    },
    {
     "name": "stderr",
     "output_type": "stream",
     "text": [
      "Training Epoch 42/100: 100%|████████████████| 13/13 [00:00<00:00, 283.40batch/s]\n",
      "Training Epoch 43/100: 100%|████████████████| 13/13 [00:00<00:00, 284.81batch/s]\n",
      "Training Epoch 44/100: 100%|████████████████| 13/13 [00:00<00:00, 278.00batch/s]\n",
      "Training Epoch 45/100: 100%|████████████████| 13/13 [00:00<00:00, 296.43batch/s]\n",
      "Training Epoch 46/100: 100%|████████████████| 13/13 [00:00<00:00, 305.37batch/s]\n",
      "Training Epoch 47/100: 100%|████████████████| 13/13 [00:00<00:00, 298.81batch/s]\n",
      "Training Epoch 48/100: 100%|████████████████| 13/13 [00:00<00:00, 284.31batch/s]\n",
      "Training Epoch 49/100: 100%|████████████████| 13/13 [00:00<00:00, 298.58batch/s]\n",
      "Training Epoch 50/100: 100%|████████████████| 13/13 [00:00<00:00, 300.38batch/s]\n",
      "Training Epoch 51/100: 100%|████████████████| 13/13 [00:00<00:00, 298.72batch/s]\n"
     ]
    },
    {
     "name": "stdout",
     "output_type": "stream",
     "text": [
      "Epoch [51/100], Train Loss: 4.2228, Train Accuracy: 95.88%\n"
     ]
    },
    {
     "name": "stderr",
     "output_type": "stream",
     "text": [
      "Training Epoch 52/100: 100%|████████████████| 13/13 [00:00<00:00, 287.33batch/s]\n",
      "Training Epoch 53/100: 100%|████████████████| 13/13 [00:00<00:00, 279.79batch/s]\n",
      "Training Epoch 54/100: 100%|████████████████| 13/13 [00:00<00:00, 292.37batch/s]\n",
      "Training Epoch 55/100: 100%|████████████████| 13/13 [00:00<00:00, 293.78batch/s]\n",
      "Training Epoch 56/100: 100%|████████████████| 13/13 [00:00<00:00, 284.04batch/s]\n",
      "Training Epoch 57/100: 100%|████████████████| 13/13 [00:00<00:00, 295.61batch/s]\n",
      "Training Epoch 58/100: 100%|████████████████| 13/13 [00:00<00:00, 300.06batch/s]\n",
      "Training Epoch 59/100: 100%|████████████████| 13/13 [00:00<00:00, 299.51batch/s]\n",
      "Training Epoch 60/100: 100%|████████████████| 13/13 [00:00<00:00, 293.74batch/s]\n",
      "Training Epoch 61/100: 100%|████████████████| 13/13 [00:00<00:00, 291.04batch/s]\n"
     ]
    },
    {
     "name": "stdout",
     "output_type": "stream",
     "text": [
      "Epoch [61/100], Train Loss: 2.9490, Train Accuracy: 97.38%\n"
     ]
    },
    {
     "name": "stderr",
     "output_type": "stream",
     "text": [
      "Training Epoch 62/100: 100%|████████████████| 13/13 [00:00<00:00, 303.18batch/s]\n",
      "Training Epoch 63/100: 100%|████████████████| 13/13 [00:00<00:00, 289.80batch/s]\n",
      "Training Epoch 64/100: 100%|████████████████| 13/13 [00:00<00:00, 289.99batch/s]\n",
      "Training Epoch 65/100: 100%|████████████████| 13/13 [00:00<00:00, 289.71batch/s]\n",
      "Training Epoch 66/100: 100%|████████████████| 13/13 [00:00<00:00, 298.07batch/s]\n",
      "Training Epoch 67/100: 100%|████████████████| 13/13 [00:00<00:00, 304.12batch/s]\n",
      "Training Epoch 68/100: 100%|████████████████| 13/13 [00:00<00:00, 285.49batch/s]\n",
      "Training Epoch 69/100: 100%|████████████████| 13/13 [00:00<00:00, 283.03batch/s]\n",
      "Training Epoch 70/100: 100%|████████████████| 13/13 [00:00<00:00, 298.05batch/s]\n",
      "Training Epoch 71/100: 100%|████████████████| 13/13 [00:00<00:00, 297.88batch/s]\n"
     ]
    },
    {
     "name": "stdout",
     "output_type": "stream",
     "text": [
      "Epoch [71/100], Train Loss: 2.0306, Train Accuracy: 98.50%\n"
     ]
    },
    {
     "name": "stderr",
     "output_type": "stream",
     "text": [
      "Training Epoch 72/100: 100%|████████████████| 13/13 [00:00<00:00, 295.94batch/s]\n",
      "Training Epoch 73/100: 100%|████████████████| 13/13 [00:00<00:00, 287.40batch/s]\n",
      "Training Epoch 74/100: 100%|████████████████| 13/13 [00:00<00:00, 301.57batch/s]\n",
      "Training Epoch 75/100: 100%|████████████████| 13/13 [00:00<00:00, 305.14batch/s]\n",
      "Training Epoch 76/100: 100%|████████████████| 13/13 [00:00<00:00, 299.47batch/s]\n",
      "Training Epoch 77/100: 100%|████████████████| 13/13 [00:00<00:00, 293.97batch/s]\n",
      "Training Epoch 78/100: 100%|████████████████| 13/13 [00:00<00:00, 308.45batch/s]\n",
      "Training Epoch 79/100: 100%|████████████████| 13/13 [00:00<00:00, 316.85batch/s]\n",
      "Training Epoch 80/100: 100%|████████████████| 13/13 [00:00<00:00, 311.18batch/s]\n",
      "Training Epoch 81/100: 100%|████████████████| 13/13 [00:00<00:00, 295.86batch/s]\n"
     ]
    },
    {
     "name": "stdout",
     "output_type": "stream",
     "text": [
      "Epoch [81/100], Train Loss: 1.4328, Train Accuracy: 99.75%\n"
     ]
    },
    {
     "name": "stderr",
     "output_type": "stream",
     "text": [
      "Training Epoch 82/100: 100%|████████████████| 13/13 [00:00<00:00, 289.16batch/s]\n",
      "Training Epoch 83/100: 100%|████████████████| 13/13 [00:00<00:00, 311.38batch/s]\n",
      "Training Epoch 84/100: 100%|████████████████| 13/13 [00:00<00:00, 304.32batch/s]\n",
      "Training Epoch 85/100: 100%|████████████████| 13/13 [00:00<00:00, 294.24batch/s]\n",
      "Training Epoch 86/100: 100%|████████████████| 13/13 [00:00<00:00, 294.18batch/s]\n",
      "Training Epoch 87/100: 100%|████████████████| 13/13 [00:00<00:00, 307.58batch/s]\n",
      "Training Epoch 88/100: 100%|████████████████| 13/13 [00:00<00:00, 302.74batch/s]\n",
      "Training Epoch 89/100: 100%|████████████████| 13/13 [00:00<00:00, 302.40batch/s]\n",
      "Training Epoch 90/100: 100%|████████████████| 13/13 [00:00<00:00, 285.97batch/s]\n",
      "Training Epoch 91/100: 100%|████████████████| 13/13 [00:00<00:00, 304.61batch/s]\n"
     ]
    },
    {
     "name": "stdout",
     "output_type": "stream",
     "text": [
      "Epoch [91/100], Train Loss: 1.0786, Train Accuracy: 99.88%\n"
     ]
    },
    {
     "name": "stderr",
     "output_type": "stream",
     "text": [
      "Training Epoch 92/100: 100%|████████████████| 13/13 [00:00<00:00, 300.61batch/s]\n",
      "Training Epoch 93/100: 100%|████████████████| 13/13 [00:00<00:00, 304.35batch/s]\n",
      "Training Epoch 94/100: 100%|████████████████| 13/13 [00:00<00:00, 292.88batch/s]\n",
      "Training Epoch 95/100: 100%|████████████████| 13/13 [00:00<00:00, 299.70batch/s]\n",
      "Training Epoch 96/100: 100%|████████████████| 13/13 [00:00<00:00, 317.54batch/s]\n",
      "Training Epoch 97/100: 100%|████████████████| 13/13 [00:00<00:00, 315.80batch/s]\n",
      "Training Epoch 98/100: 100%|████████████████| 13/13 [00:00<00:00, 297.37batch/s]\n",
      "Training Epoch 99/100: 100%|████████████████| 13/13 [00:00<00:00, 299.38batch/s]\n",
      "Training Epoch 100/100: 100%|███████████████| 13/13 [00:00<00:00, 305.34batch/s]\n",
      "Evaluating on test set: 100%|██████████████| 119/119 [00:07<00:00, 15.46batch/s]"
     ]
    },
    {
     "name": "stdout",
     "output_type": "stream",
     "text": [
      "Test Accuracy: 0.5946\n",
      "Classification Report:\n",
      "              precision    recall  f1-score   support\n",
      "\n",
      "           0       0.47      0.91      0.62      1900\n",
      "           1       0.72      0.93      0.81      1900\n",
      "           2       0.71      0.43      0.54      1900\n",
      "           3       0.61      0.11      0.18      1900\n",
      "\n",
      "    accuracy                           0.59      7600\n",
      "   macro avg       0.63      0.59      0.54      7600\n",
      "weighted avg       0.63      0.59      0.54      7600\n",
      "\n"
     ]
    },
    {
     "name": "stderr",
     "output_type": "stream",
     "text": [
      "\n"
     ]
    }
   ],
   "source": [
    "model = CNNModel().to(device)\n",
    "num_epochs = 100\n",
    "lr = 0.001\n",
    "\n",
    "criterion = torch.nn.CrossEntropyLoss()\n",
    "optimizer_net = optim.Adam(model.parameters(), lr=lr)\n",
    "\n",
    "# Create DataLoader for synthetic data\n",
    "synthetic_dataset = data.TensorDataset(synthetic_text_data.detach(), synthetic_labels)\n",
    "synthetic_loader = data.DataLoader(synthetic_dataset, batch_size=64, shuffle=True)\n",
    "\n",
    "# Training loop\n",
    "for epoch in range(num_epochs):\n",
    "    model.train()\n",
    "    train_loss = 0\n",
    "    correct = 0\n",
    "    total = 0\n",
    "    for inputs, labels in tqdm(synthetic_loader, desc=f'Training Epoch {epoch+1}/{num_epochs}', unit='batch'):\n",
    "        inputs, labels = inputs.to(device), labels.to(device)\n",
    "        optimizer_net.zero_grad()\n",
    "        outputs = model(inputs)\n",
    "        loss = criterion(outputs, labels)\n",
    "        loss.backward()\n",
    "        optimizer_net.step()\n",
    "        train_loss += loss.item()\n",
    "        _, predicted = torch.max(outputs.data, 1)\n",
    "        total += labels.size(0)\n",
    "        correct += (predicted == labels).sum().item()\n",
    "\n",
    "    train_accuracy = 100 * correct / total\n",
    "    if epoch % 10  == 0:\n",
    "        print(f'Epoch [{epoch + 1}/{num_epochs}], Train Loss: {train_loss:.4f}, Train Accuracy: {train_accuracy:.2f}%')\n",
    "\n",
    "# Final evaluation on test set\n",
    "model.eval()\n",
    "test_labels = []\n",
    "test_preds = []\n",
    "with torch.no_grad():\n",
    "    for texts, labels in tqdm(test_loader, desc='Evaluating on test set', unit='batch'):\n",
    "        texts, labels = texts.to(device), labels.to(device)\n",
    "        outputs = model(texts)\n",
    "        _, preds = torch.max(outputs, 1)\n",
    "        test_labels.extend(labels.cpu().numpy())\n",
    "        test_preds.extend(preds.cpu().numpy())\n",
    "\n",
    "overall_accuracy = accuracy_score(test_labels, test_preds)\n",
    "class_report = classification_report(test_labels, test_preds, target_names=['0','1','2','3'])\n",
    "\n",
    "print(f'Test Accuracy: {overall_accuracy:.4f}')\n",
    "print('Classification Report:')\n",
    "print(class_report)\n"
   ]
  },
  {
   "cell_type": "code",
   "execution_count": 40,
   "id": "9c2ffaae-21e1-44d2-b14d-608328c09b96",
   "metadata": {
    "scrolled": true
   },
   "outputs": [
    {
     "name": "stderr",
     "output_type": "stream",
     "text": [
      "Training Epoch 1/100: 100%|█████████████████| 13/13 [00:00<00:00, 200.19batch/s]\n"
     ]
    },
    {
     "name": "stdout",
     "output_type": "stream",
     "text": [
      "Epoch [1/100], Train Loss: 15.7571, Train Accuracy: 41.25%\n"
     ]
    },
    {
     "name": "stderr",
     "output_type": "stream",
     "text": [
      "Training Epoch 2/100: 100%|█████████████████| 13/13 [00:00<00:00, 209.93batch/s]\n",
      "Training Epoch 3/100: 100%|█████████████████| 13/13 [00:00<00:00, 227.11batch/s]\n",
      "Training Epoch 4/100: 100%|█████████████████| 13/13 [00:00<00:00, 206.55batch/s]\n",
      "Training Epoch 5/100: 100%|█████████████████| 13/13 [00:00<00:00, 214.08batch/s]\n",
      "Training Epoch 6/100: 100%|█████████████████| 13/13 [00:00<00:00, 222.41batch/s]\n",
      "Training Epoch 7/100: 100%|█████████████████| 13/13 [00:00<00:00, 229.36batch/s]\n",
      "Training Epoch 8/100: 100%|█████████████████| 13/13 [00:00<00:00, 234.73batch/s]\n",
      "Training Epoch 9/100: 100%|█████████████████| 13/13 [00:00<00:00, 238.97batch/s]\n",
      "Training Epoch 10/100: 100%|████████████████| 13/13 [00:00<00:00, 247.66batch/s]\n",
      "Training Epoch 11/100: 100%|████████████████| 13/13 [00:00<00:00, 250.51batch/s]\n"
     ]
    },
    {
     "name": "stdout",
     "output_type": "stream",
     "text": [
      "Epoch [11/100], Train Loss: 11.3243, Train Accuracy: 66.12%\n"
     ]
    },
    {
     "name": "stderr",
     "output_type": "stream",
     "text": [
      "Training Epoch 12/100: 100%|████████████████| 13/13 [00:00<00:00, 252.25batch/s]\n",
      "Training Epoch 13/100: 100%|████████████████| 13/13 [00:00<00:00, 257.84batch/s]\n",
      "Training Epoch 14/100: 100%|████████████████| 13/13 [00:00<00:00, 255.66batch/s]\n",
      "Training Epoch 15/100: 100%|████████████████| 13/13 [00:00<00:00, 257.06batch/s]\n",
      "Training Epoch 16/100: 100%|████████████████| 13/13 [00:00<00:00, 255.03batch/s]\n",
      "Training Epoch 17/100: 100%|████████████████| 13/13 [00:00<00:00, 253.35batch/s]\n",
      "Training Epoch 18/100: 100%|████████████████| 13/13 [00:00<00:00, 256.99batch/s]\n",
      "Training Epoch 19/100: 100%|████████████████| 13/13 [00:00<00:00, 257.26batch/s]\n",
      "Training Epoch 20/100: 100%|████████████████| 13/13 [00:00<00:00, 252.37batch/s]\n",
      "Training Epoch 21/100: 100%|████████████████| 13/13 [00:00<00:00, 258.73batch/s]\n"
     ]
    },
    {
     "name": "stdout",
     "output_type": "stream",
     "text": [
      "Epoch [21/100], Train Loss: 9.5165, Train Accuracy: 79.88%\n"
     ]
    },
    {
     "name": "stderr",
     "output_type": "stream",
     "text": [
      "Training Epoch 22/100: 100%|████████████████| 13/13 [00:00<00:00, 292.36batch/s]\n",
      "Training Epoch 23/100: 100%|████████████████| 13/13 [00:00<00:00, 264.06batch/s]\n",
      "Training Epoch 24/100: 100%|████████████████| 13/13 [00:00<00:00, 283.50batch/s]\n",
      "Training Epoch 25/100: 100%|████████████████| 13/13 [00:00<00:00, 290.40batch/s]\n",
      "Training Epoch 26/100: 100%|████████████████| 13/13 [00:00<00:00, 282.19batch/s]\n",
      "Training Epoch 27/100: 100%|████████████████| 13/13 [00:00<00:00, 280.76batch/s]\n",
      "Training Epoch 28/100: 100%|████████████████| 13/13 [00:00<00:00, 286.54batch/s]\n",
      "Training Epoch 29/100: 100%|████████████████| 13/13 [00:00<00:00, 293.31batch/s]\n",
      "Training Epoch 30/100: 100%|████████████████| 13/13 [00:00<00:00, 303.41batch/s]\n",
      "Training Epoch 31/100: 100%|████████████████| 13/13 [00:00<00:00, 296.45batch/s]\n"
     ]
    },
    {
     "name": "stdout",
     "output_type": "stream",
     "text": [
      "Epoch [31/100], Train Loss: 6.7768, Train Accuracy: 93.62%\n"
     ]
    },
    {
     "name": "stderr",
     "output_type": "stream",
     "text": [
      "Training Epoch 32/100: 100%|████████████████| 13/13 [00:00<00:00, 281.65batch/s]\n",
      "Training Epoch 33/100: 100%|████████████████| 13/13 [00:00<00:00, 294.32batch/s]\n",
      "Training Epoch 34/100: 100%|████████████████| 13/13 [00:00<00:00, 285.78batch/s]\n",
      "Training Epoch 35/100: 100%|████████████████| 13/13 [00:00<00:00, 282.11batch/s]\n",
      "Training Epoch 36/100: 100%|████████████████| 13/13 [00:00<00:00, 283.65batch/s]\n",
      "Training Epoch 37/100: 100%|████████████████| 13/13 [00:00<00:00, 293.92batch/s]\n",
      "Training Epoch 38/100: 100%|████████████████| 13/13 [00:00<00:00, 280.96batch/s]\n",
      "Training Epoch 39/100: 100%|████████████████| 13/13 [00:00<00:00, 279.03batch/s]\n",
      "Training Epoch 40/100: 100%|████████████████| 13/13 [00:00<00:00, 277.09batch/s]\n",
      "Training Epoch 41/100: 100%|████████████████| 13/13 [00:00<00:00, 291.63batch/s]\n"
     ]
    },
    {
     "name": "stdout",
     "output_type": "stream",
     "text": [
      "Epoch [41/100], Train Loss: 4.8495, Train Accuracy: 95.75%\n"
     ]
    },
    {
     "name": "stderr",
     "output_type": "stream",
     "text": [
      "Training Epoch 42/100: 100%|████████████████| 13/13 [00:00<00:00, 286.90batch/s]\n",
      "Training Epoch 43/100: 100%|████████████████| 13/13 [00:00<00:00, 293.22batch/s]\n",
      "Training Epoch 44/100: 100%|████████████████| 13/13 [00:00<00:00, 280.50batch/s]\n",
      "Training Epoch 45/100: 100%|████████████████| 13/13 [00:00<00:00, 293.77batch/s]\n",
      "Training Epoch 46/100: 100%|████████████████| 13/13 [00:00<00:00, 283.07batch/s]\n",
      "Training Epoch 47/100: 100%|████████████████| 13/13 [00:00<00:00, 281.45batch/s]\n",
      "Training Epoch 48/100: 100%|████████████████| 13/13 [00:00<00:00, 281.01batch/s]\n",
      "Training Epoch 49/100: 100%|████████████████| 13/13 [00:00<00:00, 291.81batch/s]\n",
      "Training Epoch 50/100: 100%|████████████████| 13/13 [00:00<00:00, 279.96batch/s]\n",
      "Training Epoch 51/100: 100%|████████████████| 13/13 [00:00<00:00, 277.67batch/s]\n"
     ]
    },
    {
     "name": "stdout",
     "output_type": "stream",
     "text": [
      "Epoch [51/100], Train Loss: 3.1626, Train Accuracy: 96.88%\n"
     ]
    },
    {
     "name": "stderr",
     "output_type": "stream",
     "text": [
      "Training Epoch 52/100: 100%|████████████████| 13/13 [00:00<00:00, 274.63batch/s]\n",
      "Training Epoch 53/100: 100%|████████████████| 13/13 [00:00<00:00, 285.55batch/s]\n",
      "Training Epoch 54/100: 100%|████████████████| 13/13 [00:00<00:00, 278.91batch/s]\n",
      "Training Epoch 55/100: 100%|████████████████| 13/13 [00:00<00:00, 278.84batch/s]\n",
      "Training Epoch 56/100: 100%|████████████████| 13/13 [00:00<00:00, 275.44batch/s]\n",
      "Training Epoch 57/100: 100%|████████████████| 13/13 [00:00<00:00, 280.11batch/s]\n",
      "Training Epoch 58/100: 100%|████████████████| 13/13 [00:00<00:00, 286.08batch/s]\n",
      "Training Epoch 59/100: 100%|████████████████| 13/13 [00:00<00:00, 286.02batch/s]\n",
      "Training Epoch 60/100: 100%|████████████████| 13/13 [00:00<00:00, 278.97batch/s]\n",
      "Training Epoch 61/100: 100%|████████████████| 13/13 [00:00<00:00, 293.71batch/s]\n"
     ]
    },
    {
     "name": "stdout",
     "output_type": "stream",
     "text": [
      "Epoch [61/100], Train Loss: 2.0838, Train Accuracy: 98.38%\n"
     ]
    },
    {
     "name": "stderr",
     "output_type": "stream",
     "text": [
      "Training Epoch 62/100: 100%|████████████████| 13/13 [00:00<00:00, 283.30batch/s]\n",
      "Training Epoch 63/100: 100%|████████████████| 13/13 [00:00<00:00, 282.72batch/s]\n",
      "Training Epoch 64/100: 100%|████████████████| 13/13 [00:00<00:00, 277.97batch/s]\n",
      "Training Epoch 65/100: 100%|████████████████| 13/13 [00:00<00:00, 279.31batch/s]\n",
      "Training Epoch 66/100: 100%|████████████████| 13/13 [00:00<00:00, 266.61batch/s]\n",
      "Training Epoch 67/100: 100%|████████████████| 13/13 [00:00<00:00, 259.29batch/s]\n",
      "Training Epoch 68/100: 100%|████████████████| 13/13 [00:00<00:00, 255.73batch/s]\n",
      "Training Epoch 69/100: 100%|████████████████| 13/13 [00:00<00:00, 281.08batch/s]\n",
      "Training Epoch 70/100: 100%|████████████████| 13/13 [00:00<00:00, 286.35batch/s]\n",
      "Training Epoch 71/100: 100%|████████████████| 13/13 [00:00<00:00, 275.94batch/s]\n"
     ]
    },
    {
     "name": "stdout",
     "output_type": "stream",
     "text": [
      "Epoch [71/100], Train Loss: 1.5214, Train Accuracy: 99.62%\n"
     ]
    },
    {
     "name": "stderr",
     "output_type": "stream",
     "text": [
      "Training Epoch 72/100: 100%|████████████████| 13/13 [00:00<00:00, 272.06batch/s]\n",
      "Training Epoch 73/100: 100%|████████████████| 13/13 [00:00<00:00, 281.88batch/s]\n",
      "Training Epoch 74/100: 100%|████████████████| 13/13 [00:00<00:00, 280.57batch/s]\n",
      "Training Epoch 75/100: 100%|████████████████| 13/13 [00:00<00:00, 276.82batch/s]\n",
      "Training Epoch 76/100: 100%|████████████████| 13/13 [00:00<00:00, 274.88batch/s]\n",
      "Training Epoch 77/100: 100%|████████████████| 13/13 [00:00<00:00, 280.35batch/s]\n",
      "Training Epoch 78/100: 100%|████████████████| 13/13 [00:00<00:00, 275.19batch/s]\n",
      "Training Epoch 79/100: 100%|████████████████| 13/13 [00:00<00:00, 275.50batch/s]\n",
      "Training Epoch 80/100: 100%|████████████████| 13/13 [00:00<00:00, 272.12batch/s]\n",
      "Training Epoch 81/100: 100%|████████████████| 13/13 [00:00<00:00, 285.35batch/s]\n"
     ]
    },
    {
     "name": "stdout",
     "output_type": "stream",
     "text": [
      "Epoch [81/100], Train Loss: 1.1939, Train Accuracy: 99.38%\n"
     ]
    },
    {
     "name": "stderr",
     "output_type": "stream",
     "text": [
      "Training Epoch 82/100: 100%|████████████████| 13/13 [00:00<00:00, 284.68batch/s]\n",
      "Training Epoch 83/100: 100%|████████████████| 13/13 [00:00<00:00, 275.41batch/s]\n",
      "Training Epoch 84/100: 100%|████████████████| 13/13 [00:00<00:00, 275.17batch/s]\n",
      "Training Epoch 85/100: 100%|████████████████| 13/13 [00:00<00:00, 279.89batch/s]\n",
      "Training Epoch 86/100: 100%|████████████████| 13/13 [00:00<00:00, 276.91batch/s]\n",
      "Training Epoch 87/100: 100%|████████████████| 13/13 [00:00<00:00, 273.02batch/s]\n",
      "Training Epoch 88/100: 100%|████████████████| 13/13 [00:00<00:00, 277.42batch/s]\n",
      "Training Epoch 89/100: 100%|████████████████| 13/13 [00:00<00:00, 279.62batch/s]\n",
      "Training Epoch 90/100: 100%|████████████████| 13/13 [00:00<00:00, 287.92batch/s]\n",
      "Training Epoch 91/100: 100%|████████████████| 13/13 [00:00<00:00, 240.74batch/s]\n"
     ]
    },
    {
     "name": "stdout",
     "output_type": "stream",
     "text": [
      "Epoch [91/100], Train Loss: 0.7912, Train Accuracy: 100.00%\n"
     ]
    },
    {
     "name": "stderr",
     "output_type": "stream",
     "text": [
      "Training Epoch 92/100: 100%|████████████████| 13/13 [00:00<00:00, 249.53batch/s]\n",
      "Training Epoch 93/100: 100%|████████████████| 13/13 [00:00<00:00, 260.29batch/s]\n",
      "Training Epoch 94/100: 100%|████████████████| 13/13 [00:00<00:00, 261.85batch/s]\n",
      "Training Epoch 95/100: 100%|████████████████| 13/13 [00:00<00:00, 263.56batch/s]\n",
      "Training Epoch 96/100: 100%|████████████████| 13/13 [00:00<00:00, 265.32batch/s]\n",
      "Training Epoch 97/100: 100%|████████████████| 13/13 [00:00<00:00, 264.97batch/s]\n",
      "Training Epoch 98/100: 100%|████████████████| 13/13 [00:00<00:00, 263.71batch/s]\n",
      "Training Epoch 99/100: 100%|████████████████| 13/13 [00:00<00:00, 259.87batch/s]\n",
      "Training Epoch 100/100: 100%|███████████████| 13/13 [00:00<00:00, 274.56batch/s]\n",
      "Evaluating on test set: 100%|██████████████| 119/119 [00:07<00:00, 15.27batch/s]"
     ]
    },
    {
     "name": "stdout",
     "output_type": "stream",
     "text": [
      "Test Accuracy: 0.6018\n",
      "Classification Report:\n",
      "              precision    recall  f1-score   support\n",
      "\n",
      "           0       0.49      0.90      0.63      1900\n",
      "           1       0.75      0.91      0.82      1900\n",
      "           2       0.70      0.41      0.52      1900\n",
      "           3       0.52      0.19      0.28      1900\n",
      "\n",
      "    accuracy                           0.60      7600\n",
      "   macro avg       0.62      0.60      0.56      7600\n",
      "weighted avg       0.62      0.60      0.56      7600\n",
      "\n"
     ]
    },
    {
     "name": "stderr",
     "output_type": "stream",
     "text": [
      "\n"
     ]
    }
   ],
   "source": [
    "model = CNNModel().to(device)\n",
    "num_epochs = 100\n",
    "lr = 0.001\n",
    "\n",
    "criterion = torch.nn.CrossEntropyLoss()\n",
    "optimizer_net = optim.Adam(model.parameters(), lr=lr)\n",
    "\n",
    "# Create DataLoader for synthetic data\n",
    "synthetic_dataset = data.TensorDataset(synthetic_text_data.detach(), synthetic_labels)\n",
    "synthetic_loader = data.DataLoader(synthetic_dataset, batch_size=64, shuffle=True)\n",
    "\n",
    "# Training loop\n",
    "for epoch in range(num_epochs):\n",
    "    model.train()\n",
    "    train_loss = 0\n",
    "    correct = 0\n",
    "    total = 0\n",
    "    for inputs, labels in tqdm(synthetic_loader, desc=f'Training Epoch {epoch+1}/{num_epochs}', unit='batch'):\n",
    "        inputs, labels = inputs.to(device), labels.to(device)\n",
    "        optimizer_net.zero_grad()\n",
    "        outputs = model(inputs)\n",
    "        loss = criterion(outputs, labels)\n",
    "        loss.backward()\n",
    "        optimizer_net.step()\n",
    "        train_loss += loss.item()\n",
    "        _, predicted = torch.max(outputs.data, 1)\n",
    "        total += labels.size(0)\n",
    "        correct += (predicted == labels).sum().item()\n",
    "\n",
    "    train_accuracy = 100 * correct / total\n",
    "    if epoch % 10  == 0:\n",
    "        print(f'Epoch [{epoch + 1}/{num_epochs}], Train Loss: {train_loss:.4f}, Train Accuracy: {train_accuracy:.2f}%')\n",
    "\n",
    "# Final evaluation on test set\n",
    "model.eval()\n",
    "test_labels = []\n",
    "test_preds = []\n",
    "with torch.no_grad():\n",
    "    for texts, labels in tqdm(test_loader, desc='Evaluating on test set', unit='batch'):\n",
    "        texts, labels = texts.to(device), labels.to(device)\n",
    "        outputs = model(texts)\n",
    "        _, preds = torch.max(outputs, 1)\n",
    "        test_labels.extend(labels.cpu().numpy())\n",
    "        test_preds.extend(preds.cpu().numpy())\n",
    "\n",
    "overall_accuracy = accuracy_score(test_labels, test_preds)\n",
    "class_report = classification_report(test_labels, test_preds, target_names=['0','1','2','3'])\n",
    "\n",
    "print(f'Test Accuracy: {overall_accuracy:.4f}')\n",
    "print('Classification Report:')\n",
    "print(class_report)\n"
   ]
  },
  {
   "cell_type": "code",
   "execution_count": 39,
   "id": "61943962-1c84-4ba9-b1ea-35457928e279",
   "metadata": {},
   "outputs": [
    {
     "data": {
      "text/plain": [
       "torch.Size([48, 300])"
      ]
     },
     "execution_count": 39,
     "metadata": {},
     "output_type": "execute_result"
    }
   ],
   "source": [
    "texts.shape"
   ]
  },
  {
   "cell_type": "code",
   "execution_count": 41,
   "id": "fed22f25-65f1-4d05-a6e7-981d5eb5155c",
   "metadata": {},
   "outputs": [
    {
     "name": "stderr",
     "output_type": "stream",
     "text": [
      "Training Epoch 1/150: 100%|█████████████████| 13/13 [00:00<00:00, 198.82batch/s]\n"
     ]
    },
    {
     "name": "stdout",
     "output_type": "stream",
     "text": [
      "Epoch [1/150], Train Loss: 18.5240, Train Accuracy: 39.62%\n"
     ]
    },
    {
     "name": "stderr",
     "output_type": "stream",
     "text": [
      "Training Epoch 2/150: 100%|█████████████████| 13/13 [00:00<00:00, 221.62batch/s]\n",
      "Training Epoch 3/150: 100%|█████████████████| 13/13 [00:00<00:00, 238.64batch/s]\n",
      "Training Epoch 4/150: 100%|█████████████████| 13/13 [00:00<00:00, 250.78batch/s]\n",
      "Training Epoch 5/150: 100%|█████████████████| 13/13 [00:00<00:00, 262.35batch/s]\n",
      "Training Epoch 6/150: 100%|█████████████████| 13/13 [00:00<00:00, 265.46batch/s]\n",
      "Training Epoch 7/150: 100%|█████████████████| 13/13 [00:00<00:00, 285.01batch/s]\n",
      "Training Epoch 8/150: 100%|█████████████████| 13/13 [00:00<00:00, 268.52batch/s]\n",
      "Training Epoch 9/150: 100%|█████████████████| 13/13 [00:00<00:00, 284.83batch/s]\n",
      "Training Epoch 10/150: 100%|████████████████| 13/13 [00:00<00:00, 289.72batch/s]\n",
      "Training Epoch 11/150: 100%|████████████████| 13/13 [00:00<00:00, 295.04batch/s]\n"
     ]
    },
    {
     "name": "stdout",
     "output_type": "stream",
     "text": [
      "Epoch [11/150], Train Loss: 11.9248, Train Accuracy: 55.88%\n"
     ]
    },
    {
     "name": "stderr",
     "output_type": "stream",
     "text": [
      "Training Epoch 12/150: 100%|████████████████| 13/13 [00:00<00:00, 296.54batch/s]\n",
      "Training Epoch 13/150: 100%|████████████████| 13/13 [00:00<00:00, 294.59batch/s]\n",
      "Training Epoch 14/150: 100%|████████████████| 13/13 [00:00<00:00, 290.01batch/s]\n",
      "Training Epoch 15/150: 100%|████████████████| 13/13 [00:00<00:00, 281.06batch/s]\n",
      "Training Epoch 16/150: 100%|████████████████| 13/13 [00:00<00:00, 281.19batch/s]\n",
      "Training Epoch 17/150: 100%|████████████████| 13/13 [00:00<00:00, 287.98batch/s]\n",
      "Training Epoch 18/150: 100%|████████████████| 13/13 [00:00<00:00, 287.03batch/s]\n",
      "Training Epoch 19/150: 100%|████████████████| 13/13 [00:00<00:00, 292.33batch/s]\n",
      "Training Epoch 20/150: 100%|████████████████| 13/13 [00:00<00:00, 292.62batch/s]\n",
      "Training Epoch 21/150: 100%|████████████████| 13/13 [00:00<00:00, 289.00batch/s]\n"
     ]
    },
    {
     "name": "stdout",
     "output_type": "stream",
     "text": [
      "Epoch [21/150], Train Loss: 10.5003, Train Accuracy: 64.62%\n"
     ]
    },
    {
     "name": "stderr",
     "output_type": "stream",
     "text": [
      "Training Epoch 22/150: 100%|████████████████| 13/13 [00:00<00:00, 291.96batch/s]\n",
      "Training Epoch 23/150: 100%|████████████████| 13/13 [00:00<00:00, 297.80batch/s]\n",
      "Training Epoch 24/150: 100%|████████████████| 13/13 [00:00<00:00, 298.37batch/s]\n",
      "Training Epoch 25/150: 100%|████████████████| 13/13 [00:00<00:00, 298.44batch/s]\n",
      "Training Epoch 26/150: 100%|████████████████| 13/13 [00:00<00:00, 291.67batch/s]\n",
      "Training Epoch 27/150: 100%|████████████████| 13/13 [00:00<00:00, 287.48batch/s]\n",
      "Training Epoch 28/150: 100%|████████████████| 13/13 [00:00<00:00, 288.78batch/s]\n",
      "Training Epoch 29/150: 100%|████████████████| 13/13 [00:00<00:00, 280.89batch/s]\n",
      "Training Epoch 30/150: 100%|████████████████| 13/13 [00:00<00:00, 257.63batch/s]\n",
      "Training Epoch 31/150: 100%|████████████████| 13/13 [00:00<00:00, 315.66batch/s]\n"
     ]
    },
    {
     "name": "stdout",
     "output_type": "stream",
     "text": [
      "Epoch [31/150], Train Loss: 7.4847, Train Accuracy: 91.50%\n"
     ]
    },
    {
     "name": "stderr",
     "output_type": "stream",
     "text": [
      "Training Epoch 32/150: 100%|████████████████| 13/13 [00:00<00:00, 308.95batch/s]\n",
      "Training Epoch 33/150: 100%|████████████████| 13/13 [00:00<00:00, 306.20batch/s]\n",
      "Training Epoch 34/150: 100%|████████████████| 13/13 [00:00<00:00, 316.36batch/s]\n",
      "Training Epoch 35/150: 100%|████████████████| 13/13 [00:00<00:00, 310.91batch/s]\n",
      "Training Epoch 36/150: 100%|████████████████| 13/13 [00:00<00:00, 297.62batch/s]\n",
      "Training Epoch 37/150: 100%|████████████████| 13/13 [00:00<00:00, 296.68batch/s]\n",
      "Training Epoch 38/150: 100%|████████████████| 13/13 [00:00<00:00, 303.02batch/s]\n",
      "Training Epoch 39/150: 100%|████████████████| 13/13 [00:00<00:00, 311.31batch/s]\n",
      "Training Epoch 40/150: 100%|████████████████| 13/13 [00:00<00:00, 310.63batch/s]\n",
      "Training Epoch 41/150: 100%|████████████████| 13/13 [00:00<00:00, 300.27batch/s]\n"
     ]
    },
    {
     "name": "stdout",
     "output_type": "stream",
     "text": [
      "Epoch [41/150], Train Loss: 5.3367, Train Accuracy: 94.75%\n"
     ]
    },
    {
     "name": "stderr",
     "output_type": "stream",
     "text": [
      "Training Epoch 42/150: 100%|████████████████| 13/13 [00:00<00:00, 296.80batch/s]\n",
      "Training Epoch 43/150: 100%|████████████████| 13/13 [00:00<00:00, 304.08batch/s]\n",
      "Training Epoch 44/150: 100%|████████████████| 13/13 [00:00<00:00, 303.07batch/s]\n",
      "Training Epoch 45/150: 100%|████████████████| 13/13 [00:00<00:00, 279.58batch/s]\n",
      "Training Epoch 46/150: 100%|████████████████| 13/13 [00:00<00:00, 267.20batch/s]\n",
      "Training Epoch 47/150: 100%|████████████████| 13/13 [00:00<00:00, 263.97batch/s]\n",
      "Training Epoch 48/150: 100%|████████████████| 13/13 [00:00<00:00, 257.54batch/s]\n",
      "Training Epoch 49/150: 100%|████████████████| 13/13 [00:00<00:00, 254.13batch/s]\n",
      "Training Epoch 50/150: 100%|████████████████| 13/13 [00:00<00:00, 234.88batch/s]\n",
      "Training Epoch 51/150: 100%|████████████████| 13/13 [00:00<00:00, 240.02batch/s]\n"
     ]
    },
    {
     "name": "stdout",
     "output_type": "stream",
     "text": [
      "Epoch [51/150], Train Loss: 3.5916, Train Accuracy: 96.38%\n"
     ]
    },
    {
     "name": "stderr",
     "output_type": "stream",
     "text": [
      "Training Epoch 52/150: 100%|████████████████| 13/13 [00:00<00:00, 240.62batch/s]\n",
      "Training Epoch 53/150: 100%|████████████████| 13/13 [00:00<00:00, 242.87batch/s]\n",
      "Training Epoch 54/150: 100%|████████████████| 13/13 [00:00<00:00, 238.43batch/s]\n",
      "Training Epoch 55/150: 100%|████████████████| 13/13 [00:00<00:00, 233.61batch/s]\n",
      "Training Epoch 56/150: 100%|████████████████| 13/13 [00:00<00:00, 231.28batch/s]\n",
      "Training Epoch 57/150: 100%|████████████████| 13/13 [00:00<00:00, 228.14batch/s]\n",
      "Training Epoch 58/150: 100%|████████████████| 13/13 [00:00<00:00, 226.30batch/s]\n",
      "Training Epoch 59/150: 100%|████████████████| 13/13 [00:00<00:00, 226.24batch/s]\n",
      "Training Epoch 60/150: 100%|████████████████| 13/13 [00:00<00:00, 227.13batch/s]\n",
      "Training Epoch 61/150: 100%|████████████████| 13/13 [00:00<00:00, 226.51batch/s]\n"
     ]
    },
    {
     "name": "stdout",
     "output_type": "stream",
     "text": [
      "Epoch [61/150], Train Loss: 2.5322, Train Accuracy: 97.38%\n"
     ]
    },
    {
     "name": "stderr",
     "output_type": "stream",
     "text": [
      "Training Epoch 62/150: 100%|████████████████| 13/13 [00:00<00:00, 225.85batch/s]\n",
      "Training Epoch 63/150: 100%|████████████████| 13/13 [00:00<00:00, 228.53batch/s]\n",
      "Training Epoch 64/150: 100%|████████████████| 13/13 [00:00<00:00, 227.02batch/s]\n",
      "Training Epoch 65/150: 100%|████████████████| 13/13 [00:00<00:00, 229.34batch/s]\n",
      "Training Epoch 66/150: 100%|████████████████| 13/13 [00:00<00:00, 227.61batch/s]\n",
      "Training Epoch 67/150: 100%|████████████████| 13/13 [00:00<00:00, 227.87batch/s]\n",
      "Training Epoch 68/150: 100%|████████████████| 13/13 [00:00<00:00, 226.18batch/s]\n",
      "Training Epoch 69/150: 100%|████████████████| 13/13 [00:00<00:00, 225.11batch/s]\n",
      "Training Epoch 70/150: 100%|████████████████| 13/13 [00:00<00:00, 230.21batch/s]\n",
      "Training Epoch 71/150: 100%|████████████████| 13/13 [00:00<00:00, 247.52batch/s]\n"
     ]
    },
    {
     "name": "stdout",
     "output_type": "stream",
     "text": [
      "Epoch [71/150], Train Loss: 2.2041, Train Accuracy: 98.00%\n"
     ]
    },
    {
     "name": "stderr",
     "output_type": "stream",
     "text": [
      "Training Epoch 72/150: 100%|████████████████| 13/13 [00:00<00:00, 253.19batch/s]\n",
      "Training Epoch 73/150: 100%|████████████████| 13/13 [00:00<00:00, 252.78batch/s]\n",
      "Training Epoch 74/150: 100%|████████████████| 13/13 [00:00<00:00, 252.43batch/s]\n",
      "Training Epoch 75/150: 100%|████████████████| 13/13 [00:00<00:00, 253.17batch/s]\n",
      "Training Epoch 76/150: 100%|████████████████| 13/13 [00:00<00:00, 252.28batch/s]\n",
      "Training Epoch 77/150: 100%|████████████████| 13/13 [00:00<00:00, 252.33batch/s]\n",
      "Training Epoch 78/150: 100%|████████████████| 13/13 [00:00<00:00, 250.93batch/s]\n",
      "Training Epoch 79/150: 100%|████████████████| 13/13 [00:00<00:00, 253.37batch/s]\n",
      "Training Epoch 80/150: 100%|████████████████| 13/13 [00:00<00:00, 253.15batch/s]\n",
      "Training Epoch 81/150: 100%|████████████████| 13/13 [00:00<00:00, 257.13batch/s]\n"
     ]
    },
    {
     "name": "stdout",
     "output_type": "stream",
     "text": [
      "Epoch [81/150], Train Loss: 1.3835, Train Accuracy: 99.75%\n"
     ]
    },
    {
     "name": "stderr",
     "output_type": "stream",
     "text": [
      "Training Epoch 82/150: 100%|████████████████| 13/13 [00:00<00:00, 253.40batch/s]\n",
      "Training Epoch 83/150: 100%|████████████████| 13/13 [00:00<00:00, 257.82batch/s]\n",
      "Training Epoch 84/150: 100%|████████████████| 13/13 [00:00<00:00, 260.03batch/s]\n",
      "Training Epoch 85/150: 100%|████████████████| 13/13 [00:00<00:00, 260.02batch/s]\n",
      "Training Epoch 86/150: 100%|████████████████| 13/13 [00:00<00:00, 260.20batch/s]\n",
      "Training Epoch 87/150: 100%|████████████████| 13/13 [00:00<00:00, 259.32batch/s]\n",
      "Training Epoch 88/150: 100%|████████████████| 13/13 [00:00<00:00, 260.27batch/s]\n",
      "Training Epoch 89/150: 100%|████████████████| 13/13 [00:00<00:00, 251.19batch/s]\n",
      "Training Epoch 90/150: 100%|████████████████| 13/13 [00:00<00:00, 254.23batch/s]\n",
      "Training Epoch 91/150: 100%|████████████████| 13/13 [00:00<00:00, 250.60batch/s]\n"
     ]
    },
    {
     "name": "stdout",
     "output_type": "stream",
     "text": [
      "Epoch [91/150], Train Loss: 1.0286, Train Accuracy: 99.75%\n"
     ]
    },
    {
     "name": "stderr",
     "output_type": "stream",
     "text": [
      "Training Epoch 92/150: 100%|████████████████| 13/13 [00:00<00:00, 241.08batch/s]\n",
      "Training Epoch 93/150: 100%|████████████████| 13/13 [00:00<00:00, 242.86batch/s]\n",
      "Training Epoch 94/150: 100%|████████████████| 13/13 [00:00<00:00, 235.93batch/s]\n",
      "Training Epoch 95/150: 100%|████████████████| 13/13 [00:00<00:00, 239.29batch/s]\n",
      "Training Epoch 96/150: 100%|████████████████| 13/13 [00:00<00:00, 230.63batch/s]\n",
      "Training Epoch 97/150: 100%|████████████████| 13/13 [00:00<00:00, 230.71batch/s]\n",
      "Training Epoch 98/150: 100%|████████████████| 13/13 [00:00<00:00, 227.15batch/s]\n",
      "Training Epoch 99/150: 100%|████████████████| 13/13 [00:00<00:00, 226.43batch/s]\n",
      "Training Epoch 100/150: 100%|███████████████| 13/13 [00:00<00:00, 225.85batch/s]\n",
      "Training Epoch 101/150: 100%|███████████████| 13/13 [00:00<00:00, 226.63batch/s]\n"
     ]
    },
    {
     "name": "stdout",
     "output_type": "stream",
     "text": [
      "Epoch [101/150], Train Loss: 0.8323, Train Accuracy: 100.00%\n"
     ]
    },
    {
     "name": "stderr",
     "output_type": "stream",
     "text": [
      "Training Epoch 102/150: 100%|███████████████| 13/13 [00:00<00:00, 224.14batch/s]\n",
      "Training Epoch 103/150: 100%|███████████████| 13/13 [00:00<00:00, 227.15batch/s]\n",
      "Training Epoch 104/150: 100%|███████████████| 13/13 [00:00<00:00, 228.35batch/s]\n",
      "Training Epoch 105/150: 100%|███████████████| 13/13 [00:00<00:00, 227.69batch/s]\n",
      "Training Epoch 106/150: 100%|███████████████| 13/13 [00:00<00:00, 228.67batch/s]\n",
      "Training Epoch 107/150: 100%|███████████████| 13/13 [00:00<00:00, 227.35batch/s]\n",
      "Training Epoch 108/150: 100%|███████████████| 13/13 [00:00<00:00, 227.96batch/s]\n",
      "Training Epoch 109/150: 100%|███████████████| 13/13 [00:00<00:00, 238.19batch/s]\n",
      "Training Epoch 110/150: 100%|███████████████| 13/13 [00:00<00:00, 246.37batch/s]\n",
      "Training Epoch 111/150: 100%|███████████████| 13/13 [00:00<00:00, 254.72batch/s]\n"
     ]
    },
    {
     "name": "stdout",
     "output_type": "stream",
     "text": [
      "Epoch [111/150], Train Loss: 0.6435, Train Accuracy: 100.00%\n"
     ]
    },
    {
     "name": "stderr",
     "output_type": "stream",
     "text": [
      "Training Epoch 112/150: 100%|███████████████| 13/13 [00:00<00:00, 254.18batch/s]\n",
      "Training Epoch 113/150: 100%|███████████████| 13/13 [00:00<00:00, 254.75batch/s]\n",
      "Training Epoch 114/150: 100%|███████████████| 13/13 [00:00<00:00, 260.17batch/s]\n",
      "Training Epoch 115/150: 100%|███████████████| 13/13 [00:00<00:00, 259.05batch/s]\n",
      "Training Epoch 116/150: 100%|███████████████| 13/13 [00:00<00:00, 258.85batch/s]\n",
      "Training Epoch 117/150: 100%|███████████████| 13/13 [00:00<00:00, 256.07batch/s]\n",
      "Training Epoch 118/150: 100%|███████████████| 13/13 [00:00<00:00, 258.35batch/s]\n",
      "Training Epoch 119/150: 100%|███████████████| 13/13 [00:00<00:00, 259.23batch/s]\n",
      "Training Epoch 120/150: 100%|███████████████| 13/13 [00:00<00:00, 259.33batch/s]\n",
      "Training Epoch 121/150: 100%|███████████████| 13/13 [00:00<00:00, 258.29batch/s]\n"
     ]
    },
    {
     "name": "stdout",
     "output_type": "stream",
     "text": [
      "Epoch [121/150], Train Loss: 0.5149, Train Accuracy: 100.00%\n"
     ]
    },
    {
     "name": "stderr",
     "output_type": "stream",
     "text": [
      "Training Epoch 122/150: 100%|███████████████| 13/13 [00:00<00:00, 257.39batch/s]\n",
      "Training Epoch 123/150: 100%|███████████████| 13/13 [00:00<00:00, 260.90batch/s]\n",
      "Training Epoch 124/150: 100%|███████████████| 13/13 [00:00<00:00, 267.19batch/s]\n",
      "Training Epoch 125/150: 100%|███████████████| 13/13 [00:00<00:00, 271.11batch/s]\n",
      "Training Epoch 126/150: 100%|███████████████| 13/13 [00:00<00:00, 289.88batch/s]\n",
      "Training Epoch 127/150: 100%|███████████████| 13/13 [00:00<00:00, 275.64batch/s]\n",
      "Training Epoch 128/150: 100%|███████████████| 13/13 [00:00<00:00, 270.72batch/s]\n",
      "Training Epoch 129/150: 100%|███████████████| 13/13 [00:00<00:00, 271.34batch/s]\n",
      "Training Epoch 130/150: 100%|███████████████| 13/13 [00:00<00:00, 269.28batch/s]\n",
      "Training Epoch 131/150: 100%|███████████████| 13/13 [00:00<00:00, 264.79batch/s]\n"
     ]
    },
    {
     "name": "stdout",
     "output_type": "stream",
     "text": [
      "Epoch [131/150], Train Loss: 0.4220, Train Accuracy: 100.00%\n"
     ]
    },
    {
     "name": "stderr",
     "output_type": "stream",
     "text": [
      "Training Epoch 132/150: 100%|███████████████| 13/13 [00:00<00:00, 247.53batch/s]\n",
      "Training Epoch 133/150: 100%|███████████████| 13/13 [00:00<00:00, 249.18batch/s]\n",
      "Training Epoch 134/150: 100%|███████████████| 13/13 [00:00<00:00, 251.26batch/s]\n",
      "Training Epoch 135/150: 100%|███████████████| 13/13 [00:00<00:00, 258.52batch/s]\n",
      "Training Epoch 136/150: 100%|███████████████| 13/13 [00:00<00:00, 254.29batch/s]\n",
      "Training Epoch 137/150: 100%|███████████████| 13/13 [00:00<00:00, 257.11batch/s]\n",
      "Training Epoch 138/150: 100%|███████████████| 13/13 [00:00<00:00, 255.14batch/s]\n",
      "Training Epoch 139/150: 100%|███████████████| 13/13 [00:00<00:00, 255.55batch/s]\n",
      "Training Epoch 140/150: 100%|███████████████| 13/13 [00:00<00:00, 256.50batch/s]\n",
      "Training Epoch 141/150: 100%|███████████████| 13/13 [00:00<00:00, 257.10batch/s]\n"
     ]
    },
    {
     "name": "stdout",
     "output_type": "stream",
     "text": [
      "Epoch [141/150], Train Loss: 0.3463, Train Accuracy: 100.00%\n"
     ]
    },
    {
     "name": "stderr",
     "output_type": "stream",
     "text": [
      "Training Epoch 142/150: 100%|███████████████| 13/13 [00:00<00:00, 251.16batch/s]\n",
      "Training Epoch 143/150: 100%|███████████████| 13/13 [00:00<00:00, 256.25batch/s]\n",
      "Training Epoch 144/150: 100%|███████████████| 13/13 [00:00<00:00, 255.55batch/s]\n",
      "Training Epoch 145/150: 100%|███████████████| 13/13 [00:00<00:00, 258.63batch/s]\n",
      "Training Epoch 146/150: 100%|███████████████| 13/13 [00:00<00:00, 255.90batch/s]\n",
      "Training Epoch 147/150: 100%|███████████████| 13/13 [00:00<00:00, 255.74batch/s]\n",
      "Training Epoch 148/150: 100%|███████████████| 13/13 [00:00<00:00, 255.47batch/s]\n",
      "Training Epoch 149/150: 100%|███████████████| 13/13 [00:00<00:00, 258.28batch/s]\n",
      "Training Epoch 150/150: 100%|███████████████| 13/13 [00:00<00:00, 259.91batch/s]\n",
      "Evaluating on test set: 100%|██████████████| 119/119 [00:07<00:00, 15.22batch/s]"
     ]
    },
    {
     "name": "stdout",
     "output_type": "stream",
     "text": [
      "Test Accuracy: 0.6153\n",
      "Classification Report:\n",
      "              precision    recall  f1-score   support\n",
      "\n",
      "           0       0.52      0.87      0.65      1900\n",
      "           1       0.74      0.89      0.81      1900\n",
      "           2       0.71      0.43      0.53      1900\n",
      "           3       0.50      0.27      0.35      1900\n",
      "\n",
      "    accuracy                           0.62      7600\n",
      "   macro avg       0.62      0.62      0.59      7600\n",
      "weighted avg       0.62      0.62      0.59      7600\n",
      "\n"
     ]
    },
    {
     "name": "stderr",
     "output_type": "stream",
     "text": [
      "\n"
     ]
    }
   ],
   "source": [
    "model = CNNModel().to(device)\n",
    "num_epochs = 150\n",
    "lr = 0.001\n",
    "\n",
    "criterion = torch.nn.CrossEntropyLoss()\n",
    "optimizer_net = optim.Adam(model.parameters(), lr=lr)\n",
    "\n",
    "# Create DataLoader for synthetic data\n",
    "synthetic_dataset = data.TensorDataset(synthetic_text_data.detach(), synthetic_labels)\n",
    "synthetic_loader = data.DataLoader(synthetic_dataset, batch_size=64, shuffle=True)\n",
    "\n",
    "# Training loop\n",
    "for epoch in range(num_epochs):\n",
    "    model.train()\n",
    "    train_loss = 0\n",
    "    correct = 0\n",
    "    total = 0\n",
    "    for inputs, labels in tqdm(synthetic_loader, desc=f'Training Epoch {epoch+1}/{num_epochs}', unit='batch'):\n",
    "        inputs, labels = inputs.to(device), labels.to(device)\n",
    "        optimizer_net.zero_grad()\n",
    "        outputs = model(inputs)\n",
    "        loss = criterion(outputs, labels)\n",
    "        loss.backward()\n",
    "        optimizer_net.step()\n",
    "        train_loss += loss.item()\n",
    "        _, predicted = torch.max(outputs.data, 1)\n",
    "        total += labels.size(0)\n",
    "        correct += (predicted == labels).sum().item()\n",
    "\n",
    "    train_accuracy = 100 * correct / total\n",
    "    if epoch % 10  == 0:\n",
    "        print(f'Epoch [{epoch + 1}/{num_epochs}], Train Loss: {train_loss:.4f}, Train Accuracy: {train_accuracy:.2f}%')\n",
    "\n",
    "# Final evaluation on test set\n",
    "model.eval()\n",
    "test_labels = []\n",
    "test_preds = []\n",
    "with torch.no_grad():\n",
    "    for texts, labels in tqdm(test_loader, desc='Evaluating on test set', unit='batch'):\n",
    "        texts, labels = texts.to(device), labels.to(device)\n",
    "        outputs = model(texts)\n",
    "        _, preds = torch.max(outputs, 1)\n",
    "        test_labels.extend(labels.cpu().numpy())\n",
    "        test_preds.extend(preds.cpu().numpy())\n",
    "\n",
    "overall_accuracy = accuracy_score(test_labels, test_preds)\n",
    "class_report = classification_report(test_labels, test_preds, target_names=['0','1','2','3'])\n",
    "\n",
    "print(f'Test Accuracy: {overall_accuracy:.4f}')\n",
    "print('Classification Report:')\n",
    "print(class_report)\n"
   ]
  },
  {
   "cell_type": "code",
   "execution_count": 47,
   "id": "b60e8050-09e1-4405-9be4-9623d65c7c98",
   "metadata": {},
   "outputs": [
    {
     "data": {
      "text/plain": [
       "7600"
      ]
     },
     "execution_count": 47,
     "metadata": {},
     "output_type": "execute_result"
    }
   ],
   "source": [
    "len(test_labels)"
   ]
  },
  {
   "cell_type": "code",
   "execution_count": null,
   "id": "ce99d6b5-1f4d-41ee-9853-b70f0bfc2989",
   "metadata": {},
   "outputs": [],
   "source": []
  }
 ],
 "metadata": {
  "kernelspec": {
   "display_name": "Python 3 (ipykernel)",
   "language": "python",
   "name": "python3"
  },
  "language_info": {
   "codemirror_mode": {
    "name": "ipython",
    "version": 3
   },
   "file_extension": ".py",
   "mimetype": "text/x-python",
   "name": "python",
   "nbconvert_exporter": "python",
   "pygments_lexer": "ipython3",
   "version": "3.9.19"
  }
 },
 "nbformat": 4,
 "nbformat_minor": 5
}
